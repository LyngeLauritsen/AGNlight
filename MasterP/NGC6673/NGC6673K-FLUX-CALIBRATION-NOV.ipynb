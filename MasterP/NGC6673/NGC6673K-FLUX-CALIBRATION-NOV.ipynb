{
 "cells": [
  {
   "cell_type": "code",
   "execution_count": 1,
   "metadata": {},
   "outputs": [
    {
     "name": "stderr",
     "output_type": "stream",
     "text": [
      "/home/lynge/anaconda2/lib/python2.7/site-packages/matplotlib/__init__.py:1405: UserWarning: \n",
      "This call to matplotlib.use() has no effect because the backend has already\n",
      "been chosen; matplotlib.use() must be called *before* pylab, matplotlib.pyplot,\n",
      "or matplotlib.backends is imported for the first time.\n",
      "\n",
      "  warnings.warn(_use_error_msg)\n"
     ]
    }
   ],
   "source": [
    "import numpy as np\n",
    "import scipy as sp\n",
    "import matplotlib\n",
    "import matplotlib.pyplot as plt\n",
    "%matplotlib inline\n",
    "from matplotlib.colors import LogNorm\n",
    "import scipy.stats as stats\n",
    "from matplotlib import gridspec\n",
    "import aplpy as apl #The Astronomy Plotting Library for python\n",
    "import astropy\n",
    "from astropy.stats import sigma_clip\n",
    "from astropy.modeling import functional_models, models, fitting\n",
    "import astropy.units as U\n",
    "from astropy.coordinates import ICRS, Galactic, FK4, FK5, Angle, Latitude, Longitude\n",
    "import astropy.constants as C\n",
    "from astropy import wcs\n",
    "import astropy.io.fits as fits\n",
    "from astropy.io import ascii\n",
    "import astropy.coordinates as coord\n",
    "from astropy.coordinates import SkyCoord\n",
    "from astropy.stats import signal_to_noise_oir_ccd as SNRas\n",
    "#import spectral_cube as SC\n",
    "#from spectral_cube import SpectralCube as sc\n",
    "from astropy.wcs import WCS\n",
    "matplotlib.use('Agg')\n",
    "import matplotlib.cm as cm\n",
    "#import astrometry as ast\n",
    "import pyfits\n",
    "import requests\n",
    "import json\n",
    "import os\n",
    "from sklearn import datasets, linear_model\n",
    "from scipy.optimize import curve_fit\n",
    "import numpy.ma as ma\n",
    "from astropy.table import Table, Column\n",
    "import pyextract\n",
    "import sewpy\n",
    "import pandas as pd\n",
    "from astropy import units as u\n",
    "#import alipy"
   ]
  },
  {
   "cell_type": "code",
   "execution_count": 2,
   "metadata": {},
   "outputs": [
    {
     "name": "stdout",
     "output_type": "stream",
     "text": [
      "281.276379167\n"
     ]
    }
   ],
   "source": [
    "quasJ = [os.path.join('/media/lynge/Lynge-Back-up/F51/F51K/',f) \\\n",
    "        for f in os.listdir('/media/lynge/Lynge-Back-up/F51/F51K/')]\n",
    "\n",
    "qua1_RA_WORLD = SkyCoord('18:45:06.331 -62:17:49.78', unit=(u.hourangle, u.deg)).ra.degree\n",
    "qua1_DEC_WORLD = SkyCoord('18:45:06.331 -62:17:49.78', unit=(u.hourangle, u.deg)).dec.degree\n",
    "\n",
    "print qua1_RA_WORLD\n",
    "\n",
    "sta1_RA_WORLD = SkyCoord('18:45:08.692 -62:22:19.00', unit=(u.hourangle, u.deg)).ra.degree #UCAC3 86-422902\n",
    "sta1_DEC_WORLD = SkyCoord('18:45:08.692 -62:22:19.00', unit=(u.hourangle, u.deg)).dec.degree\n",
    "\n",
    "sta2_RA_WORLD = SkyCoord('18:45:19.164 -62:25:09.22', unit=(u.hourangle, u.deg)).ra.degree #TYC 8438-1960-1\n",
    "sta2_DEC_WORLD = SkyCoord('18:45:19.164 -62:25:09.22', unit=(u.hourangle, u.deg)).dec.degree\n",
    "\n",
    "sta3_RA_WORLD = float('nan') #SkyCoord('05:16:19.315 -00:13:35.68', unit=(u.hourangle, u.deg)).ra.degree #TYC 8438-1960-1\n",
    "sta3_DEC_WORLD = float('nan') #SkyCoord('05:16:19.315 -00:13:35.68', unit=(u.hourangle, u.deg)).dec.degree\n",
    "\n",
    "sky_RA_WORLD = SkyCoord('18:45:09 -62:21:11', unit=(u.hourangle, u.deg)).ra.degree #Random patch of sky\n",
    "sky_DEC_WORLD = SkyCoord('18:45:09 -62:21:11', unit=(u.hourangle, u.deg)).dec.degree\n",
    "\n",
    "MAG_STA1_J = 11.335\n",
    "MAG_STA1_H = 10.762\n",
    "MAG_STA1_K = 10.644\n",
    "\n",
    "MAG_STA2_J = 8.290\n",
    "MAG_STA2_H = 8.130\n",
    "MAG_STA2_K = 8.076\n",
    "\n",
    "MAG_STA3_J = float('nan') #8.616 #12.068\n",
    "MAG_STA3_H = float('nan') #8.171 #11.855\n",
    "MAG_STA3_K = float('nan') #8.018 #11.796\n",
    "\n",
    "MAG_HD101274_J = MAG_STA1_J #float('nan')\n",
    "MAG_HD101274_H = MAG_STA1_H\n",
    "MAG_HD101274_K = MAG_STA1_K\n",
    "\n",
    "MAG_HD101274_g = 9.1124\n",
    "MAG_HD101274_r = 9.5110\n",
    "MAG_HD101274_i = float('nan')\n",
    "MAG_HD101274_z = 10.3072\n",
    "\n",
    "MAG_TYCHO_2_7740_22_1_J = MAG_STA2_J #10.919\n",
    "MAG_TYCHO_2_7740_22_1_H = MAG_STA2_H #10.726\n",
    "MAG_TYCHO_2_7740_22_1_K = MAG_STA2_K #10.611\n",
    "\n",
    "MAG_TYCHO_2_7740_22_1_g = float('nan') #13.1053 #11.7892\n",
    "MAG_TYCHO_2_7740_22_1_r = float('nan') #12.702 #11.6444\n",
    "MAG_TYCHO_2_7740_22_1_i = float('nan') #12.656\n",
    "MAG_TYCHO_2_7740_22_1_z = float('nan') #11.5203\n",
    "\n",
    "MAG_TYCHO_2_7740_529_1_J = MAG_STA3_J #9.902\n",
    "MAG_TYCHO_2_7740_529_1_H = MAG_STA3_H #9.625\n",
    "MAG_TYCHO_2_7740_529_1_K = MAG_STA3_K #9.580\n",
    "\n",
    "MAG_UCAC3_86_422902_g = 14.731\n",
    "MAG_UCAC3_86_422902_r = 13.270\n",
    "MAG_UCAC3_86_422902_i = 12.955\n",
    "MAG_UCAC3_86_422902_z = 13.230\n",
    "\n",
    "MAG_HD101274_g = MAG_UCAC3_86_422902_g #9.1124\n",
    "MAG_HD101274_r = MAG_UCAC3_86_422902_r #9.5110\n",
    "MAG_HD101274_i = MAG_UCAC3_86_422902_i #float('nan')\n",
    "MAG_HD101274_z = MAG_UCAC3_86_422902_z #10.3072\n",
    "\n",
    "MAG_VEGA_B = 0.03\n",
    "MAG_VEGA_V = 0.03\n",
    "MAG_VEGA_G = 0.03\n",
    "MAG_VEGA_J = -0.18\n",
    "MAG_VEGA_H = -0.03\n",
    "MAG_VEGA_K = 0.13\n",
    "\n",
    "MAG_VEGA_g = -0.08\n",
    "MAG_VEGA_r = 0.16\n",
    "MAG_VEGA_i = 0.37\n",
    "MAG_VEGA_z = 0.54\n",
    "\n",
    "FLUX_LAMBDA_VEGA_B = 632*10**(-11) #erg/cm**2/s/A\n",
    "FLUX_LAMBDA_VEGA_V = 363.1*10**(-11)\n",
    "FLUX_LAMBDA_VEGA_G = float('nan')\n",
    "FLUX_LAMBDA_VEGA_J = 31.47*10**(-11)\n",
    "FLUX_LAMBDA_VEGA_H = 11.38*10**(-11)\n",
    "FLUX_LAMBDA_VEGA_K = 3.961*10**(-11)\n",
    "\n",
    "FLUX_LAMBDA_VEGA_g = 466.9*10**(-11) #erg/cm**2/s/A\n",
    "FLUX_LAMBDA_VEGA_r = 278.0*10**(-11)\n",
    "FLUX_LAMBDA_VEGA_i = 185.2*10**(-11)\n",
    "FLUX_LAMBDA_VEGA_z = 131.5*10**(-11)\n",
    "\n",
    "\n",
    "FLUX_V_VEGA_B = 4.063*10**(-20) #erg/cm**2/s/Hz\n",
    "FLUX_V_VEGA_V = 3.636*10**(-20)\n",
    "FLUX_V_VEGA_G = float('nan')\n",
    "FLUX_V_VEGA_J = 1.589*10**(-20)\n",
    "FLUX_V_VEGA_H = 1.021*10**(-20)\n",
    "FLUX_V_VEGA_K = 0.64*10**(-20)\n",
    "\n",
    "FLUX_V_VEGA_g = 3.631*10**(-20) #erg/cm**2/s/Hz\n",
    "FLUX_V_VEGA_r = 3.631*10**(-20)\n",
    "FLUX_V_VEGA_i = 3.631*10**(-20)\n",
    "FLUX_V_VEGA_z = 3.631*10**(-20)\n"
   ]
  },
  {
   "cell_type": "code",
   "execution_count": 3,
   "metadata": {
    "collapsed": true
   },
   "outputs": [],
   "source": [
    "def dist(mid,end):\n",
    "    return np.sqrt((mid[0] - end[0])**2 + (mid[1] - end[1])**2)"
   ]
  },
  {
   "cell_type": "code",
   "execution_count": 4,
   "metadata": {
    "collapsed": true
   },
   "outputs": [],
   "source": [
    "def flux_cal(A_mag,B_mag,B_flux):\n",
    "    '''Flux of A found through magnitude and flux of B'''\n",
    "    return B_flux*10**((B_mag-A_mag)/2.5)"
   ]
  },
  {
   "cell_type": "code",
   "execution_count": 5,
   "metadata": {
    "collapsed": true
   },
   "outputs": [],
   "source": [
    "def Basic(quasar,header):\n",
    "    '''Provides a basic list of neccesities from the fits header file for use in the later \\\n",
    "    flux determination, it does not serve an individual purpose beyound that'''\n",
    "    AGNdata = quasar #np.rot90(np.rot90(np.fliplr(quasar)))\n",
    "    #header = data[0].header\n",
    "    #print header\n",
    "    RAstd = header['CRVAL1']\n",
    "    DECstd = header['CRVAL2']\n",
    "    #print RAstd, DECstd\n",
    "    pixspa = header['PIXSCALE']/(3600.)\n",
    "    #print pixspa\n",
    "    RAstdpix = header['CRPIX1']\n",
    "    DECstdpix = header['CRPIX2']\n",
    "    exptime = 10 # header['EXPTIME']\n",
    "    return header,AGNdata,RAstd,DECstd,pixspa,RAstdpix,DECstdpix,exptime"
   ]
  },
  {
   "cell_type": "code",
   "execution_count": 6,
   "metadata": {
    "collapsed": true
   },
   "outputs": [],
   "source": [
    "def curve(quasar,header,w,center,apparature):\n",
    "    '''Determines the FLUX of the stellar object given the the numpy array of the image, \\\n",
    "    the header of the fits file, the astropy coordinate representation, \\\n",
    "    the object position and the apparature of interest'''\n",
    "    header,AGNdata,RAstd,DECstd,pixspa,RAstdpix,DECstdpix,exptime = Basic(quasar,header)\n",
    "    #AGNdata = np.swapaxes(AGNdata,0,1)\n",
    "    y, x = np.ogrid[0:header['NAXIS1'],0:header['NAXIS1']]\n",
    "    #w = np.swapaxes(w,0,1)\n",
    "    #F_AGN = np.zeros((512,512,3)) #((int(2*apparature/pixspa)+1,int(2*apparature/pixspa)+1,3))\n",
    "    #print center\n",
    "    x1 = w.all_world2pix(center[0],center[1],0)\n",
    "    x1,y1 = (x1[0]),(x1[1])\n",
    "    if 15 < x1 < header['NAXIS1'] - 15 and 15 < y1 < header['NAXIS2'] - 15:\n",
    "        try:\n",
    "            mask = ((y-y1)**2 + (x-x1)**2) > (apparature/float(pixspa))**2\n",
    "            AGNdata[mask] = float(0)\n",
    "            mask = AGNdata == 0.\n",
    "            rows = np.flatnonzero((~mask).sum(axis=1))\n",
    "            cols = np.flatnonzero((~mask).sum(axis=0))\n",
    "            AGNdata = AGNdata[rows.min():rows.max()+1, cols.min():cols.max()+1]\n",
    "            #print apparature/float(pixspa)\n",
    "        except:\n",
    "            AGNdata = np.array([[float('nan'),float('nan')],[float('nan'),float('nan')]])\n",
    "    else:\n",
    "        AGNdata = np.array([[float('nan'),float('nan')],[float('nan'),float('nan')]])\n",
    "    #if np.sum(AGNdata) < 500:\n",
    "    #    AGNdata = np.array([[float('nan'),float('nan')],[float('nan'),float('nan')]])\n",
    "    return AGNdata, x1, y1\n"
   ]
  },
  {
   "cell_type": "code",
   "execution_count": 7,
   "metadata": {
    "collapsed": true
   },
   "outputs": [],
   "source": [
    "def comp1(qua,sta):\n",
    "    '''Code to determine the relation between the AGN and the Stellar flux as determined by either me \\\n",
    "    or by the SExtractor program respectively'''\n",
    "    comp = qua/sta\n",
    "    return comp"
   ]
  },
  {
   "cell_type": "code",
   "execution_count": 8,
   "metadata": {
    "collapsed": true
   },
   "outputs": [],
   "source": [
    "def SXtable(quas,aperture):\n",
    "    header = pyfits.getheader(quas)\n",
    "    phot_app = aperture*3600/header['PIXSCALE']\n",
    "    np.set_printoptions(threshold=np.inf)\n",
    "    sew = sewpy.SEW(params=['XMODEL_WORLD', 'YMODEL_WORLD', 'X2MODEL_WORLD', 'Y2MODEL_WORLD', \n",
    "                            'XMODEL_IMAGE', 'YMODEL_IMAGE', 'FLUX_RADIUS(1)', 'FLUX_APER','ELLIPTICITY'],\n",
    "                    config={\"DETECT_THRESH\":5, 'DETECT_MINAREA':5, 'DETECT_MAXAREA':10000, \n",
    "                            \"PHOT_FLUXFRAC\":\"0.5\", 'PHOT_APERTURES':2*phot_app, \n",
    "                            'PIXEL_SCALE':header['PIXSCALE']}\n",
    "                    , sexpath='/usr/bin/sextractor')\n",
    "    out = sew(quas)\n",
    "    return out"
   ]
  },
  {
   "cell_type": "code",
   "execution_count": 9,
   "metadata": {
    "collapsed": true
   },
   "outputs": [],
   "source": [
    "def flux(quas,aperture,main_RA_WORLD,main_DEC_WORLD):\n",
    "    header = pyfits.getheader(quas)\n",
    "    RAmain = WCS(quas).all_world2pix(main_RA_WORLD,main_DEC_WORLD,1)[0]\n",
    "    DECmain = WCS(quas).all_world2pix(main_RA_WORLD,main_DEC_WORLD,1)[1]\n",
    "    output = float('nan')\n",
    "    if 15 < RAmain < header['NAXIS1'] - 15 and 15 < DECmain < header['NAXIS2'] - 15: \n",
    "        out = SXtable(quas,aperture)\n",
    "        RAmain = WCS(quas).all_world2pix(main_RA_WORLD,main_DEC_WORLD,0)[0]\n",
    "        DECmain = WCS(quas).all_world2pix(main_RA_WORLD,main_DEC_WORLD,0)[1]\n",
    "        #print out['table']['XMODEL_IMAGE'], out['table']['YMODEL_IMAGE']\n",
    "        #print RAmain, DECmain\n",
    "\n",
    "        for j in range(len(out['table']['XMODEL_IMAGE'])):\n",
    "            #output['time'][i] = header['MJD-OBS']\n",
    "            if RAmain - 15. < out['table']['XMODEL_IMAGE'][j] <  RAmain + 15. and \\\n",
    "            DECmain - 15. < out['table']['YMODEL_IMAGE'][j] < DECmain + 15.:\n",
    "                #print 'YES'\n",
    "                output = out['table']['FLUX_APER'][j]\n",
    "                break\n",
    "    else:\n",
    "        output = float('nan')\n",
    "        #print 'Done'\n",
    "    return output\n"
   ]
  },
  {
   "cell_type": "code",
   "execution_count": 10,
   "metadata": {
    "collapsed": true
   },
   "outputs": [],
   "source": [
    "def SNR(data1,data2,header,ap1,ap2):\n",
    "    npix1 = np.pi*ap1**2/((header['PIXSCALE']/3600.)**2)\n",
    "    npix2 = np.pi*ap2**2/((header['PIXSCALE']/3600.)**2)\n",
    "    #data2_1 = ((data2-data1)/npix2)*npix1\n",
    "    data1_2 = data1\n",
    "    data2_2 = abs(data2)\n",
    "    \n",
    "    return float(header['GAIN'])*data1_2*header['DIT']*header['NDIT']/(np.sqrt\n",
    "                                                        (float(header['GAIN'])*data1_2*header['DIT']*header['NDIT'] \n",
    "                                                         + float(header['GAIN'])*npix1*data2_2*header['DIT']\n",
    "                                                         *header['NDIT']\n",
    "                                                         +header['NDIT']*npix1*header['RON']**2))\n",
    "\n",
    "def SNR11(data1,data2,header,ap1,ap2):\n",
    "    npix1 = np.pi*ap1**2/((header['PIXSCALE']/3600.)**2)\n",
    "    npix2 = np.pi*ap2**2/((header['PIXSCALE']/3600.)**2)\n",
    "    #data2_1 = ((data2-data1)/npix2)*npix1\n",
    "    data1_2 = data1\n",
    "    data2_2 = abs(data2)\n",
    "    \n",
    "    return float(((header['GAIN'])*data1_2*header['DIT']*header['NDIT']))\n",
    "\n",
    "def SNR22(data1,data2,header,ap1,ap2):\n",
    "    npix1 = np.pi*ap1**2/((header['PIXSCALE']/3600.)**2)\n",
    "    npix2 = np.pi*ap2**2/((header['PIXSCALE']/3600.)**2)\n",
    "    #data2_1 = ((data2-data1)/npix2)*npix1\n",
    "    data1_2 = data1\n",
    "    data2_2 = abs(data2)\n",
    "    \n",
    "    return float(header['GAIN']*npix1*data2_2*header['DIT']*header['NDIT'])\n",
    "\n",
    "def SNR33(data1,data2,header,ap1,ap2):\n",
    "    npix1 = np.pi*ap1**2/((header['PIXSCALE']/3600.)**2)\n",
    "    npix2 = np.pi*ap2**2/((header['PIXSCALE']/3600.)**2)\n",
    "    #data2_1 = ((data2-data1)/npix2)*npix1\n",
    "    data1_2 = data1\n",
    "    data2_2 = abs(data2)\n",
    "    \n",
    "    return float((header['NDIT']*npix1*header['RON']**2))\n",
    "\n",
    "def SNR44(data1,data2,header,ap1,ap2):\n",
    "    npix1 = np.pi*ap1**2/((header['PIXSCALE']/3600.)**2)\n",
    "    npix2 = np.pi*ap2**2/((header['PIXSCALE']/3600.)**2)\n",
    "    #data2_1 = ((data2-data1)/npix2)*npix1\n",
    "    data1_2 = data1\n",
    "    data2_2 = abs(data2)\n",
    "    \n",
    "    return float(((header['GAIN'])*data1_2*header['DIT']*header['NDIT'] + \n",
    "                  header['GAIN']*npix1*data2_2*header['DIT']*header['NDIT'] +\n",
    "                  header['NDIT']*npix1*header['RON']**2))\n",
    "\n",
    "#SNRas(10.,data1_2,abs(data2_2),0,header['RON'],npix1,gain=header['GAIN'])"
   ]
  },
  {
   "cell_type": "code",
   "execution_count": 11,
   "metadata": {},
   "outputs": [
    {
     "name": "stderr",
     "output_type": "stream",
     "text": [
      "WARNING: AstropyDeprecationWarning: \"clobber\" was deprecated in version 2.0 and will be removed in a future version. Use argument \"overwrite\" instead. [astropy.utils.decorators]\n"
     ]
    }
   ],
   "source": [
    "for i in range(len(quasJ)):\n",
    "    data, header = fits.getdata(quasJ[i],header=True) #RA---TAN\n",
    "    #print header['CTYPE2']\n",
    "    #header['CTYPE1'] = \"RA---TAN\"\n",
    "    #header['CTYPE2'] = \"DEC--TAN\"\n",
    "    header['NDIT'] = 5\n",
    "    '''header['A_ORDER'] = \"0\"\n",
    "    header['B_ORDER'] = \"0\"\n",
    "    header['AP_ORDER'] = \"0\"\n",
    "    header['BP_ORDER'] = \"0\"\n",
    "    header['A_0_2'] = \"0\"\n",
    "    header['A_1_1'] = \"0\"\n",
    "    header['A_2_0'] = \"0\"\n",
    "    header['B_0_2'] = \"0\"\n",
    "    header['B_1_1'] = \"0\"\n",
    "    header['B_2_0'] = \"0\"\n",
    "    header['AP_0_2'] = \"0\"\n",
    "    header['AP_1_1'] = \"0\"\n",
    "    header['AP_2_0'] = \"0\"\n",
    "    header['AP_0_1'] = \"0\"\n",
    "    header['AP_1_0'] = \"0\"\n",
    "    header['BP_0_1'] = \"0\"\n",
    "    header['BP_0_2'] = \"0\"\n",
    "    header['BP_1_0'] = \"0\"\n",
    "    header['BP_1_1'] = \"0\"\n",
    "    header['BP_2_0'] = \"0\"'''\n",
    "    fits.writeto(quasJ[i],data,header,clobber=True)\n",
    "    #print fits.getheader(quasH[i])['A_ORDER']"
   ]
  },
  {
   "cell_type": "code",
   "execution_count": 12,
   "metadata": {
    "collapsed": true
   },
   "outputs": [],
   "source": [
    "def SEXAGNflux(quas,aperture1):\n",
    "    aperture2 = aperture1 + 0.003\n",
    "    date = []\n",
    "    flucompsta1 = []\n",
    "    flucompsta2 = []\n",
    "    flucompsta3 = []\n",
    "    flucompsta4 = []\n",
    "    flucompsta5 = []\n",
    "    flucompsta6 = []\n",
    "    flucompsta7 = []\n",
    "    poissonAGN = []\n",
    "    poisson529 = []\n",
    "    poisson22 = []\n",
    "    poissonHD = []\n",
    "    ABS_FLUX_LAMBDA_1 = 0\n",
    "    ABS_FLUX_LAMBDA_2 = 0\n",
    "    ABS_FLUX_LAMBDA_3 = 0\n",
    "    ABS_FLUX_V_1 = 0\n",
    "    ABS_FLUX_V_2 = 0\n",
    "    ABS_FLUX_V_3 = 0\n",
    "    SNR_comp = []\n",
    "    comp_array = np.zeros((len(quas),7))\n",
    "    SNR_array = np.zeros((len(quas),8))\n",
    "    SNR_part = np.zeros((len(quas),5))\n",
    "    gain = []\n",
    "    #-----------------------------------------------------------------------------------------------\n",
    "    for i in range(len(quas)):\n",
    "        print 'Frame nr. ', i, quas[i]\n",
    "        header = pyfits.getheader(quas[i])\n",
    "        a_AGN = flux(quas[i],2*aperture1,qua1_RA_WORLD,qua1_DEC_WORLD)/header['DIT']\n",
    "        a2 = flux(quas[i],2*aperture1,sta1_RA_WORLD,sta1_DEC_WORLD)/header['DIT']\n",
    "        a3 = flux(quas[i],2*aperture1,sta2_RA_WORLD,sta2_DEC_WORLD)/header['DIT']\n",
    "        a4 = flux(quas[i],2*aperture1,sta3_RA_WORLD,sta3_DEC_WORLD)/header['DIT']\n",
    "        a_sky = curve(pyfits.getdata(quas[i]),pyfits.getheader(quas[i]),WCS(quas[i]),\n",
    "                   (sky_RA_WORLD,sky_DEC_WORLD),aperture1)[0]/header['DIT']\n",
    "        #a_AGN_1 = flux(quas[i],2*aperture2,qua1_RA_WORLD,qua1_DEC_WORLD)/header['DIT']\n",
    "        #a2_1 = flux(quas[i],2*aperture2,sta1_RA_WORLD,sta1_DEC_WORLD)/header['DIT']\n",
    "        #a3_1 = flux(quas[i],2*aperture2,sta2_RA_WORLD,sta2_DEC_WORLD)/header['DIT']\n",
    "        #a4_1 = flux(quas[i],2*aperture2,sta3_RA_WORLD,sta3_DEC_WORLD)/header['DIT']\n",
    "        #-------------------------------------------------------------------------------------------\n",
    "        #plt.figure(figsize=(3,3))\n",
    "        #plt.imshow(a2)\n",
    "        #plt.show()\n",
    "        #-------------------------------------------------------------------------------------------\n",
    "        a_AGN_pix = np.pi*(aperture1)**2/((header['PIXSCALE']/3600.)**2)\n",
    "        a2_pix = np.pi*(aperture1)**2/((header['PIXSCALE']/3600.)**2)\n",
    "        a3_pix = np.pi*(aperture1)**2/((header['PIXSCALE']/3600.)**2)\n",
    "        a4_pix = np.pi*(aperture1)**2/((header['PIXSCALE']/3600.)**2)\n",
    "        a_sky_pix = np.count_nonzero(a_sky)\n",
    "        a_sky_2 = np.sum(a_sky)/float(np.count_nonzero(a_sky))\n",
    "        #a_AGN_pix_1 = np.pi*(2*aperture2)**2/((header['PIXSCALE']/3600.)**2)\n",
    "        #a2_pix_1 = np.pi*(aperture2)**2/((header['PIXSCALE']/3600.)**2)\n",
    "        #a3_pix_1 = np.pi*(aperture2)**2/((header['PIXSCALE']/3600.)**2)\n",
    "        #a4_pix_1 = np.pi*(aperture2)**2/((header['PIXSCALE']/3600.)**2)\n",
    "        #a_AGN_2 = (np.sum(a_AGN_1) - np.sum(a_AGN))/(float(np.count_nonzero(a_AGN_1)) - float(np.count_nonzero(a_AGN)))\n",
    "        #a2_2 = (np.sum(a2_1) - np.sum(a2))/(float(np.count_nonzero(a2_1)) - float(np.count_nonzero(a2)))\n",
    "        #a3_2 = (np.sum(a3_1) - np.sum(a3))/(float(np.count_nonzero(a3_1)) - float(np.count_nonzero(a3)))\n",
    "        #a4_2 = (np.sum(a4_1) - np.sum(a4))/(float(np.count_nonzero(a4_1)) - float(np.count_nonzero(a4)))\n",
    "        a_AGN_3 = a_AGN/a_AGN_pix #- (a_AGN_1 - a_AGN)/(a_AGN_pix_1 - a_AGN_pix) #Background subtracted flux/pixel/sec\n",
    "        a2_3 = a2/a2_pix #- (a2_1 - a2)/(a2_pix_1 - a2_pix)\n",
    "        a3_3 = a3/a3_pix #- (a3_1 - a3)/(a3_pix_1 - a3_pix)\n",
    "        a4_3 = a4/a4_pix #- (a4_1 - a4)/(a4_pix_1 - a4_pix)\n",
    "        #-------------------------------------------------------------------------------------------\n",
    "        date.append(header['MJD-OBS'])\n",
    "        gain.append(header['gain'])\n",
    "        #-------------------------------------------------------------------------------------------\n",
    "        poissonAGN.append(np.sqrt(np.sum(a_AGN)*header['EXPTIME']*header['GAIN'])) #header['EXPTIME']))\n",
    "        poissonHD.append(np.sqrt(np.sum(a2)*header['EXPTIME']*header['GAIN'])) #header['EXPTIME']))\n",
    "        poisson22.append(np.sqrt(np.sum(a3)*header['EXPTIME']*header['GAIN'])) #header['EXPTIME']))\n",
    "        poisson529.append(np.sqrt(np.sum(a4)*header['EXPTIME']*header['GAIN'])) #header['EXPTIME']))\n",
    "        #-------------------------------------------------------------------------------------------\n",
    "        #if SNR1[i] < 70:\n",
    "        #    flucompsta_AGN.append(float('nan'))\n",
    "        #    flucompsta2.append(float('nan'))\n",
    "        #    flucompsta3.append(float('nan'))\n",
    "        #    flucompsta4.append(float('nan'))\n",
    "        #    flucompsta6.append(float('nan'))\n",
    "        #    comp_array[i,0] = int(date[i])\n",
    "        #    comp_array[i,1] = float('nan')\n",
    "        #    comp_array[i,2] = float('nan')\n",
    "        #    comp_array[i,3] = float('nan')\n",
    "        #else:\n",
    "        flucompsta1.append(comp1(a_AGN_3,a2_3))\n",
    "        flucompsta2.append(comp1(a_AGN_3,a3_3))\n",
    "        flucompsta3.append(comp1(a_AGN_3,a4_3))\n",
    "        SNR1 = SNR(a_AGN,np.sum(a_sky),header,aperture1,aperture1)\n",
    "        #flucompsta4.append(comp1(a_AGN_3,a5_3))\n",
    "        #flucompsta5.append(comp1(a_AGN_3,a6_3))\n",
    "        #flucompsta6.append(comp1(a_AGN_3,a7_3))\n",
    "        comp_array[i,0] = date[i]\n",
    "        comp_array[i,1] = flucompsta1[i]\n",
    "        comp_array[i,2] = flucompsta2[i]\n",
    "        comp_array[i,3] = flucompsta3[i]\n",
    "        comp_array[i,4] = SNR1\n",
    "        #comp_array[i,5] = flucompsta5[i]\n",
    "        #comp_array[i,6] = flucompsta6[i]\n",
    "        print a_AGN,a2,a3,a4\n",
    "        #SNR_array[i,0] = int(date[i])\n",
    "        #SNR_array[i,1] = SNR(a_AGN,a_sky,header,aperture1,aperture1)\n",
    "        #SNR_array[i,2] = SNR(a2,a_sky,header,aperture1,aperture1)\n",
    "        #SNR_array[i,3] = SNR(a3,a_sky,header,aperture1,aperture1)\n",
    "        #SNR_array[i,4] = SNR(a4,a_sky,header,aperture1,aperture1)\n",
    "        #SNR_array[i,5] = SNR(a5,a_sky,header,aperture1,aperture1)\n",
    "        #SNR_array[i,6] = SNR(a6,a_sky,header,aperture1,aperture1)\n",
    "        #SNR_array[i,7] = SNR(a7,a_sky,header,aperture1,aperture1)\n",
    "        SNR_part[i,0] = date[i]\n",
    "        SNR_part[i,1] = SNR(a_AGN,np.sum(a_sky),header,aperture1,aperture1)\n",
    "        SNR_part[i,2] = SNR11(a_AGN,np.sum(a_sky),header,aperture1,aperture1)\\\n",
    "        /SNR44(a_AGN,np.sum(a_sky),header,aperture1,aperture1)\n",
    "        SNR_part[i,3] = SNR22(a_AGN,np.sum(a_sky),header,aperture1,aperture1)\\\n",
    "        /SNR44(a_AGN,np.sum(a_sky),header,aperture1,aperture1)\n",
    "        SNR_part[i,4] = SNR33(a_AGN,np.sum(a_sky),header,aperture1,aperture1)\\\n",
    "        /SNR44(a_AGN,np.sum(a_sky),header,aperture1,aperture1)\n",
    "    #print 'YES'\n",
    "    #-----------------------------------------------------------------------------------------------\n",
    "    poissonAGN = np.array(poissonAGN)\n",
    "    poissonHD = np.array(poissonHD)\n",
    "    poisson22 = np.array(poisson22)\n",
    "    poisson529 = np.array(poisson529)\n",
    "    comp_array = comp_array[comp_array[:,0].argsort()]\n",
    "    \n",
    "    comp_array[:,1] = comp_array[:,1]*flux_cal(MAG_HD101274_K,MAG_VEGA_K,FLUX_LAMBDA_VEGA_K)\n",
    "    comp_array[:,2] = comp_array[:,2]*flux_cal(MAG_TYCHO_2_7740_22_1_K,MAG_VEGA_K,FLUX_LAMBDA_VEGA_K)\n",
    "    comp_array[:,3] = comp_array[:,3]*flux_cal(MAG_TYCHO_2_7740_529_1_K,MAG_VEGA_K,FLUX_LAMBDA_VEGA_K)\n",
    "    \n",
    "    #-----------------------------------------------------------------------------------------------\n",
    "    ABS_FLUX_LAMBDA_1 = np.array(flucompsta1)*flux_cal(MAG_HD101274_K,\\\n",
    "                                                            MAG_VEGA_K,FLUX_LAMBDA_VEGA_K)\n",
    "    ABS_FLUX_LAMBDA_2 = np.array(flucompsta2)*flux_cal(MAG_TYCHO_2_7740_22_1_K,\\\n",
    "                                                            MAG_VEGA_K,FLUX_LAMBDA_VEGA_K)\n",
    "    ABS_FLUX_LAMBDA_3 = np.array(flucompsta3)*flux_cal(MAG_TYCHO_2_7740_529_1_K,\\\n",
    "                                                            MAG_VEGA_K,FLUX_LAMBDA_VEGA_K)\n",
    "    ABS_FLUX_V_1 = np.array(flucompsta1)*flux_cal(MAG_HD101274_K,\\\n",
    "                                                            MAG_VEGA_K,FLUX_V_VEGA_K)\n",
    "    ABS_FLUX_V_2 = np.array(flucompsta2)*flux_cal(MAG_TYCHO_2_7740_22_1_K,\\\n",
    "                                                            MAG_VEGA_K,FLUX_V_VEGA_K)\n",
    "    ABS_FLUX_V_3 = np.array(flucompsta3)*flux_cal(MAG_TYCHO_2_7740_529_1_K,\\\n",
    "                                                            MAG_VEGA_K,FLUX_V_VEGA_K)\n",
    "    #-----------------------------------------------------------------------------------------------\n",
    "    return comp_array,SNR_array,ABS_FLUX_LAMBDA_1,ABS_FLUX_LAMBDA_2,ABS_FLUX_LAMBDA_3,\\\n",
    "ABS_FLUX_V_1,ABS_FLUX_V_2,ABS_FLUX_V_3,date,SNR_part"
   ]
  },
  {
   "cell_type": "code",
   "execution_count": 13,
   "metadata": {},
   "outputs": [
    {
     "name": "stdout",
     "output_type": "stream",
     "text": [
      "nan\n"
     ]
    }
   ],
   "source": [
    "print float('nan')+3"
   ]
  },
  {
   "cell_type": "code",
   "execution_count": 14,
   "metadata": {
    "scrolled": true
   },
   "outputs": [
    {
     "name": "stdout",
     "output_type": "stream",
     "text": [
      "Frame nr.  0 /media/lynge/Lynge-Back-up/F51/F51K/.fuse_hidden0000041800000023\n"
     ]
    },
    {
     "name": "stderr",
     "output_type": "stream",
     "text": [
      "WARNING: FITSFixedWarning: RADECSYS= 'ICRS ' / [string] Coordinates reference sys \n",
      "the RADECSYS keyword is deprecated, use RADESYSa. [astropy.wcs.wcs]\n",
      "WARNING: FITSFixedWarning: 'unitfix' made the change 'Changed units: 'degrees' -> 'deg', 'degrees' -> 'deg''. [astropy.wcs.wcs]\n",
      "No handlers could be found for logger \"sewpy.sewpy\"\n"
     ]
    },
    {
     "name": "stdout",
     "output_type": "stream",
     "text": [
      "3811.52666667 1397.954 nan nan\n",
      "Frame nr.  1 /media/lynge/Lynge-Back-up/F51/F51K/.fuse_hidden0000041800000026\n",
      "3811.52666667 1397.954 nan nan\n",
      "Frame nr.  2 /media/lynge/Lynge-Back-up/F51/F51K/.fuse_hidden0000043a0000004e\n",
      "3811.52666667 1397.954 nan nan\n",
      "Frame nr.  3 /media/lynge/Lynge-Back-up/F51/F51K/.fuse_hidden000005fb0000003c\n",
      "3811.52666667 1397.954 nan nan\n",
      "Frame nr.  4 /media/lynge/Lynge-Back-up/F51/F51K/F51_3_15_K.fits\n",
      "5130.22866667 1606.44933333 17865.18 nan\n",
      "Frame nr.  5 /media/lynge/Lynge-Back-up/F51/F51K/F51_3_15_K.fits(1)\n",
      "nan 1466.86933333 16218.04 nan\n",
      "Frame nr.  6 /media/lynge/Lynge-Back-up/F51/F51K/F51_3_15_K.fits(10)\n",
      "nan 1835.698 20606.8266667 nan\n",
      "Frame nr.  7 /media/lynge/Lynge-Back-up/F51/F51K/F51_3_15_K.fits(11)\n",
      "nan 1382.98466667 15474.1 nan\n",
      "Frame nr.  8 /media/lynge/Lynge-Back-up/F51/F51K/F51_3_15_K.fits(12)\n",
      "5710.56133333 1806.72333333 nan nan\n",
      "Frame nr.  9 /media/lynge/Lynge-Back-up/F51/F51K/F51_3_15_K.fits(13)\n",
      "7094.33333333 2173.60333333 nan nan\n",
      "Frame nr.  10 /media/lynge/Lynge-Back-up/F51/F51K/F51_3_15_K.fits(14)\n",
      "4097.61733333 1223.67266667 13762.6666667 nan\n",
      "Frame nr.  11 /media/lynge/Lynge-Back-up/F51/F51K/F51_3_15_K.fits(15)\n",
      "4094.44933333 1244.01533333 nan nan\n",
      "Frame nr.  12 /media/lynge/Lynge-Back-up/F51/F51K/F51_3_15_K.fits(16)\n",
      "nan 1199.27333333 nan nan\n",
      "Frame nr.  13 /media/lynge/Lynge-Back-up/F51/F51K/F51_3_15_K.fits(17)\n",
      "3439.13266667 1153.484 nan nan\n",
      "Frame nr.  14 /media/lynge/Lynge-Back-up/F51/F51K/F51_3_15_K.fits(18)\n",
      "4321.35933333 1295.106 nan nan\n",
      "Frame nr.  15 /media/lynge/Lynge-Back-up/F51/F51K/F51_3_15_K.fits(19)\n",
      "3738.84733333 1120.57066667 12545.8333333 nan\n",
      "Frame nr.  16 /media/lynge/Lynge-Back-up/F51/F51K/F51_3_15_K.fits(2)\n",
      "5487.60533333 1675.69066667 18815.58 nan\n",
      "Frame nr.  17 /media/lynge/Lynge-Back-up/F51/F51K/F51_3_15_K.fits(20)\n",
      "4744.65133333 1498.50133333 14375.1533333 nan\n",
      "Frame nr.  18 /media/lynge/Lynge-Back-up/F51/F51K/F51_3_15_K.fits(21)\n",
      "4942.652 1532.60666667 16641.9133333 nan\n",
      "Frame nr.  19 /media/lynge/Lynge-Back-up/F51/F51K/F51_3_15_K.fits(3)\n",
      "nan 1704.22 19060.1733333 nan\n",
      "Frame nr.  20 /media/lynge/Lynge-Back-up/F51/F51K/F51_3_15_K.fits(4)\n",
      "6003.40066667 1863.74 20375.66 nan\n",
      "Frame nr.  21 /media/lynge/Lynge-Back-up/F51/F51K/F51_3_15_K.fits(5)\n",
      "nan 1837.05066667 20434.42 nan\n",
      "Frame nr.  22 /media/lynge/Lynge-Back-up/F51/F51K/F51_3_15_K.fits(6)\n",
      "3199.85 987.460666667 11222.2 nan\n",
      "Frame nr.  23 /media/lynge/Lynge-Back-up/F51/F51K/F51_3_15_K.fits(7)\n",
      "4081.94666667 1436.58266667 nan nan\n",
      "Frame nr.  24 /media/lynge/Lynge-Back-up/F51/F51K/F51_3_15_K.fits(8)\n",
      "6274.19066667 1925.154 20635.0 nan\n",
      "Frame nr.  25 /media/lynge/Lynge-Back-up/F51/F51K/F51_3_15_K.fits(9)\n",
      "3811.52666667 1397.954 nan nan\n"
     ]
    }
   ],
   "source": [
    "comp_array,SNR_array,ABS_FLUX_LAMBDA_1_1,ABS_FLUX_LAMBDA_2_1,ABS_FLUX_LAMBDA_3_1,\\\n",
    "ABS_FLUX_V_1_1,ABS_FLUX_V_2_1,ABS_FLUX_V_3_1,date_1,SNR_part_1 = SEXAGNflux(quasJ,0.001)"
   ]
  },
  {
   "cell_type": "code",
   "execution_count": 15,
   "metadata": {},
   "outputs": [
    {
     "data": {
      "image/png": "[encoded data removed]",
      "text/plain": [
       "<matplotlib.figure.Figure at 0x7f698e113650>"
      ]
     },
     "metadata": {},
     "output_type": "display_data"
    },
    {
     "data": {
      "image/png": "[encoded data removed]",
      "text/plain": [
       "<matplotlib.figure.Figure at 0x7f698a7cff90>"
      ]
     },
     "metadata": {},
     "output_type": "display_data"
    },
    {
     "name": "stdout",
     "output_type": "stream",
     "text": [
      "[  796.59206213   796.59206213   796.59206213   796.59206213   990.91560587\n",
      "            nan            nan            nan  1108.26554655  1314.58371364\n",
      "   886.7941565    880.39539049            nan   731.07920823   874.66973797\n",
      "   825.06867933  1079.246075     971.07846715   982.01571059            nan\n",
      "  1132.4510256             nan   719.96522456   888.12157656  1196.54995\n",
      "   796.59206213]\n"
     ]
    }
   ],
   "source": [
    "plt.figure(figsize=(10,8))\n",
    "plt.scatter(SNR_part_1[:,0],SNR_part_1[:,1])\n",
    "plt.show()\n",
    "\n",
    "plt.figure(figsize=(10,8))\n",
    "plt.scatter(SNR_part_1[:,0],SNR_part_1[:,2],label='Signal')\n",
    "plt.scatter(SNR_part_1[:,0],SNR_part_1[:,3],label='Sky')\n",
    "plt.scatter(SNR_part_1[:,0],SNR_part_1[:,4],label='RON')\n",
    "plt.legend()\n",
    "#plt.ylim([5*10**(-15),1.*10**(-14)])\n",
    "plt.show()\n",
    "\n",
    "print SNR_part_1[:,1]\n",
    "np.savetxt('../NOVEMBER/NGC6673_SNR_K.txt',SNR_part_1)"
   ]
  },
  {
   "cell_type": "code",
   "execution_count": 16,
   "metadata": {},
   "outputs": [
    {
     "name": "stdout",
     "output_type": "stream",
     "text": [
      "[ 57925.12779   57925.12779   57925.12779   57925.12779   58072.054496\n",
      "  58047.212758  57913.266024  57901.298934  57887.338802  57872.3515\n",
      "  57847.222768  57835.349018  57799.341336  57785.341492  57727.062534\n",
      "  57714.097445  58018.237294  57702.04628   57690.160596  58000.308096\n",
      "  57987.052472  57974.09856   57962.131438  57949.167186  57937.191574\n",
      "  57925.12779   57925.12779   57925.12779   57925.12779   57925.12779\n",
      "  58072.054496  58047.212758  57913.266024  57901.298934  57887.338802\n",
      "  57872.3515    57847.222768  57835.349018  57799.341336  57785.341492\n",
      "  57727.062534  57714.097445  58018.237294  57702.04628   57690.160596\n",
      "  58000.308096  57987.052472  57974.09856   57962.131438  57949.167186\n",
      "  57937.191574  57925.12779   57925.12779   57925.12779   57925.12779\n",
      "  57925.12779   58072.054496  58047.212758  57913.266024  57901.298934\n",
      "  57887.338802  57872.3515    57847.222768  57835.349018  57799.341336\n",
      "  57785.341492  57727.062534  57714.097445  58018.237294  57702.04628\n",
      "  57690.160596  58000.308096  57987.052472  57974.09856   57962.131438\n",
      "  57949.167186  57937.191574  57925.12779 ]\n"
     ]
    }
   ],
   "source": [
    "COMB = np.ndarray.tolist(ABS_FLUX_LAMBDA_1_1) + np.ndarray.tolist(ABS_FLUX_LAMBDA_2_1) + np.ndarray.tolist(ABS_FLUX_LAMBDA_3_1)\n",
    "datelist = date_1 + date_1 + date_1\n",
    "\n",
    "COMB_array = np.array((datelist,COMB))\n",
    "print COMB_array[0,:]\n",
    "np.savetxt('K-NGC3783',COMB_array)\n",
    "\n",
    "np.savetxt('../NOVEMBER/NOV-NGC6673-K',comp_array)"
   ]
  },
  {
   "cell_type": "code",
   "execution_count": 17,
   "metadata": {},
   "outputs": [
    {
     "data": {
      "image/png": "[encoded data removed]",
      "text/plain": [
       "<matplotlib.figure.Figure at 0x7f698e1cf750>"
      ]
     },
     "metadata": {},
     "output_type": "display_data"
    },
    {
     "name": "stdout",
     "output_type": "stream",
     "text": [
      "[  7.95672166e-15   7.81181612e-15   8.23196139e-15   8.23227572e-15\n",
      "   7.35600807e-15              nan   8.12034742e-15   8.26172969e-15\n",
      "   8.05260027e-15   7.79815727e-15              nan              nan\n",
      "   6.72683730e-15   6.72683730e-15   6.72683730e-15   6.72683730e-15\n",
      "   6.72683730e-15   8.04075962e-15   7.01037979e-15   7.99492985e-15\n",
      "              nan   7.94724946e-15              nan   8.07967443e-15\n",
      "              nan   7.87906227e-15]\n"
     ]
    }
   ],
   "source": [
    "plt.figure(figsize=(10,8))\n",
    "plt.scatter(comp_array[:,0],comp_array[:,1],label='STA1')\n",
    "plt.scatter(comp_array[:,0],comp_array[:,2],label='STA1')\n",
    "plt.scatter(comp_array[:,0],comp_array[:,3],label='STA1')\n",
    "plt.legend()\n",
    "plt.ylim([6*10**(-15),1*10**(-14)])\n",
    "plt.show()\n",
    "\n",
    "print comp_array[:,1]"
   ]
  },
  {
   "cell_type": "code",
   "execution_count": 18,
   "metadata": {
    "scrolled": false
   },
   "outputs": [
    {
     "ename": "NameError",
     "evalue": "name 'date' is not defined",
     "output_type": "error",
     "traceback": [
      "\u001b[0;31m---------------------------------------------------------------------------\u001b[0m",
      "\u001b[0;31mNameError\u001b[0m                                 Traceback (most recent call last)",
      "\u001b[0;32m<ipython-input-18-12133f043e41>\u001b[0m in \u001b[0;36m<module>\u001b[0;34m()\u001b[0m\n\u001b[1;32m      1\u001b[0m \u001b[0mplt\u001b[0m\u001b[0;34m.\u001b[0m\u001b[0mfigure\u001b[0m\u001b[0;34m(\u001b[0m\u001b[0mfigsize\u001b[0m\u001b[0;34m=\u001b[0m\u001b[0;34m(\u001b[0m\u001b[0;36m20\u001b[0m\u001b[0;34m,\u001b[0m\u001b[0;36m14\u001b[0m\u001b[0;34m)\u001b[0m\u001b[0;34m)\u001b[0m\u001b[0;34m\u001b[0m\u001b[0m\n\u001b[0;32m----> 2\u001b[0;31m \u001b[0mplt\u001b[0m\u001b[0;34m.\u001b[0m\u001b[0mscatter\u001b[0m\u001b[0;34m(\u001b[0m\u001b[0mdate\u001b[0m\u001b[0;34m,\u001b[0m\u001b[0mnp\u001b[0m\u001b[0;34m.\u001b[0m\u001b[0marray\u001b[0m\u001b[0;34m(\u001b[0m\u001b[0mABS_FLUX_LAMBDA_1\u001b[0m\u001b[0;34m)\u001b[0m\u001b[0;34m,\u001b[0m\u001b[0mmarker\u001b[0m\u001b[0;34m=\u001b[0m\u001b[0;34m'x'\u001b[0m\u001b[0;34m,\u001b[0m            \u001b[0mcolor\u001b[0m\u001b[0;34m=\u001b[0m\u001b[0;34m'b'\u001b[0m\u001b[0;34m,\u001b[0m\u001b[0mlabel\u001b[0m\u001b[0;34m=\u001b[0m\u001b[0;34m'Flux found from HD101274'\u001b[0m\u001b[0;34m)\u001b[0m\u001b[0;34m\u001b[0m\u001b[0m\n\u001b[0m\u001b[1;32m      3\u001b[0m \u001b[0mplt\u001b[0m\u001b[0;34m.\u001b[0m\u001b[0mscatter\u001b[0m\u001b[0;34m(\u001b[0m\u001b[0mdate\u001b[0m\u001b[0;34m,\u001b[0m\u001b[0mnp\u001b[0m\u001b[0;34m.\u001b[0m\u001b[0marray\u001b[0m\u001b[0;34m(\u001b[0m\u001b[0mABS_FLUX_LAMBDA_2\u001b[0m\u001b[0;34m)\u001b[0m\u001b[0;34m,\u001b[0m\u001b[0mmarker\u001b[0m\u001b[0;34m=\u001b[0m\u001b[0;34m'x'\u001b[0m\u001b[0;34m,\u001b[0m            \u001b[0mcolor\u001b[0m\u001b[0;34m=\u001b[0m\u001b[0;34m'r'\u001b[0m\u001b[0;34m,\u001b[0m\u001b[0mlabel\u001b[0m\u001b[0;34m=\u001b[0m\u001b[0;34m'Flux found from Tycho-2 7740-22-1'\u001b[0m\u001b[0;34m)\u001b[0m\u001b[0;34m\u001b[0m\u001b[0m\n\u001b[1;32m      4\u001b[0m \u001b[0mplt\u001b[0m\u001b[0;34m.\u001b[0m\u001b[0mscatter\u001b[0m\u001b[0;34m(\u001b[0m\u001b[0mdate_1\u001b[0m\u001b[0;34m,\u001b[0m\u001b[0mnp\u001b[0m\u001b[0;34m.\u001b[0m\u001b[0marray\u001b[0m\u001b[0;34m(\u001b[0m\u001b[0mABS_FLUX_LAMBDA_3\u001b[0m\u001b[0;34m)\u001b[0m\u001b[0;34m,\u001b[0m\u001b[0mmarker\u001b[0m\u001b[0;34m=\u001b[0m\u001b[0;34m'x'\u001b[0m\u001b[0;34m,\u001b[0m            \u001b[0mcolor\u001b[0m\u001b[0;34m=\u001b[0m\u001b[0;34m'g'\u001b[0m\u001b[0;34m,\u001b[0m\u001b[0mlabel\u001b[0m\u001b[0;34m=\u001b[0m\u001b[0;34m'Flux found from Tycho-2 7740-529-1'\u001b[0m\u001b[0;34m)\u001b[0m\u001b[0;34m\u001b[0m\u001b[0m\n\u001b[1;32m      5\u001b[0m \u001b[0mplt\u001b[0m\u001b[0;34m.\u001b[0m\u001b[0mscatter\u001b[0m\u001b[0;34m(\u001b[0m\u001b[0mdate_1\u001b[0m\u001b[0;34m,\u001b[0m\u001b[0mABS_FLUX_LAMBDA_1_1\u001b[0m\u001b[0;34m,\u001b[0m\u001b[0mmarker\u001b[0m\u001b[0;34m=\u001b[0m\u001b[0;34m'o'\u001b[0m\u001b[0;34m,\u001b[0m            \u001b[0mcolor\u001b[0m\u001b[0;34m=\u001b[0m\u001b[0;34m'b'\u001b[0m\u001b[0;34m,\u001b[0m\u001b[0mlabel\u001b[0m\u001b[0;34m=\u001b[0m\u001b[0;34m'Flux found from SEX HD101274'\u001b[0m\u001b[0;34m)\u001b[0m\u001b[0;34m\u001b[0m\u001b[0m\n",
      "\u001b[0;31mNameError\u001b[0m: name 'date' is not defined"
     ]
    },
    {
     "data": {
      "text/plain": [
       "<matplotlib.figure.Figure at 0x7f698a731850>"
      ]
     },
     "metadata": {},
     "output_type": "display_data"
    }
   ],
   "source": [
    "plt.figure(figsize=(20,14))\n",
    "plt.scatter(date,np.array(ABS_FLUX_LAMBDA_1),marker='x',\\\n",
    "            color='b',label='Flux found from HD101274')\n",
    "plt.scatter(date,np.array(ABS_FLUX_LAMBDA_2),marker='x',\\\n",
    "            color='r',label='Flux found from Tycho-2 7740-22-1')\n",
    "plt.scatter(date_1,np.array(ABS_FLUX_LAMBDA_3),marker='x',\\\n",
    "            color='g',label='Flux found from Tycho-2 7740-529-1')\n",
    "plt.scatter(date_1,ABS_FLUX_LAMBDA_1_1,marker='o',\\\n",
    "            color='b',label='Flux found from SEX HD101274')\n",
    "plt.scatter(date_1,np.array(ABS_FLUX_LAMBDA_2_1),marker='o',\\\n",
    "            color='r',label='Flux found from SEX Tycho-2 7740-22-1')\n",
    "plt.scatter(date_1,np.array(ABS_FLUX_LAMBDA_3_1),marker='o',\\\n",
    "            color='g',label='Flux found from Tycho-2 7740-529-1')\n",
    "plt.xlabel('Days')\n",
    "plt.ylabel('Flux (F_LAMBDA) (K-band)')\n",
    "plt.title('Aperture 0.001 deg')\n",
    "#plt.yscale('log')\n",
    "plt.ylim([0.85*10**(-14),1.4*10**(-14)])\n",
    "plt.legend()\n",
    "plt.show()\n",
    "\n",
    "plt.figure(figsize=(20,14))\n",
    "plt.scatter(date,np.array(SNR1),marker='x',\\\n",
    "            color='b',label='Flux found from HD101274')\n",
    "plt.xlabel('Days')\n",
    "plt.ylabel('Flux (F_LAMBDA) (K-band)')\n",
    "plt.title('Aperture 0.001 deg')\n",
    "#plt.yscale('log')\n",
    "#plt.ylim([0.15,0.20])\n",
    "#plt.xlim([57850,57880])\n",
    "plt.legend()\n",
    "plt.show()\n",
    "\n"
   ]
  },
  {
   "cell_type": "code",
   "execution_count": null,
   "metadata": {
    "collapsed": true,
    "scrolled": false
   },
   "outputs": [],
   "source": [
    "plt.figure(figsize=(10,7))\n",
    "plt.scatter(SNR_part[:,0],SNR_part[:,1])\n",
    "plt.show()\n",
    "\n",
    "plt.figure(figsize=(10,7))\n",
    "plt.scatter(SNR_part[:,0],SNR_part[:,4])\n",
    "plt.show()\n",
    "\n",
    "plt.figure(figsize=(10,7))\n",
    "plt.scatter(SNR_part_1[:,0],SNR_part_1[:,1])\n",
    "plt.show()\n",
    "\n",
    "plt.figure(figsize=(10,7))\n",
    "plt.scatter(SNR_part[:,0],SNR_part[:,2])\n",
    "plt.show()\n",
    "\n",
    "plt.figure(figsize=(10,7))\n",
    "plt.scatter(SNR_part_1[:,0],SNR_part_1[:,2])\n",
    "plt.show()\n",
    "\n",
    "plt.figure(figsize=(10,7))\n",
    "plt.scatter(SNR_part[:,0],SNR_part[:,3])\n",
    "plt.show()\n",
    "\n",
    "plt.figure(figsize=(10,7))\n",
    "plt.scatter(SNR_part_1[:,0],SNR_part_1[:,3])\n",
    "plt.show()\n"
   ]
  },
  {
   "cell_type": "code",
   "execution_count": null,
   "metadata": {
    "collapsed": true
   },
   "outputs": [],
   "source": [
    "print np.argmax(SNR_test[:,1])\n",
    "\n",
    "for i in range(len(file1)):\n",
    "    print i, '{0:f}'.format(SNR_test[i,0]), '{0:f}'.format(SNR_test[i,1]), '{0:f}'.format(SNR_test[i,2])\n",
    "    print file1[i]"
   ]
  },
  {
   "cell_type": "code",
   "execution_count": null,
   "metadata": {
    "collapsed": true
   },
   "outputs": [],
   "source": []
  },
  {
   "cell_type": "code",
   "execution_count": null,
   "metadata": {
    "collapsed": true
   },
   "outputs": [],
   "source": []
  }
 ],
 "metadata": {
  "kernelspec": {
   "display_name": "Python 2",
   "language": "python",
   "name": "python2"
  },
  "language_info": {
   "codemirror_mode": {
    "name": "ipython",
    "version": 2
   },
   "file_extension": ".py",
   "mimetype": "text/x-python",
   "name": "python",
   "nbconvert_exporter": "python",
   "pygments_lexer": "ipython2",
   "version": "2.7.13"
  }
 },
 "nbformat": 4,
 "nbformat_minor": 2
}
