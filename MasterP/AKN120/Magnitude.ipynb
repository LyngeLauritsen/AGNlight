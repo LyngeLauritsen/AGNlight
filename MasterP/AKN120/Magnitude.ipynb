{
 "cells": [
  {
   "cell_type": "code",
   "execution_count": 1,
   "metadata": {},
   "outputs": [
    {
     "name": "stderr",
     "output_type": "stream",
     "text": [
      "/home/lynge/anaconda2/lib/python2.7/site-packages/matplotlib/__init__.py:1405: UserWarning: \n",
      "This call to matplotlib.use() has no effect because the backend has already\n",
      "been chosen; matplotlib.use() must be called *before* pylab, matplotlib.pyplot,\n",
      "or matplotlib.backends is imported for the first time.\n",
      "\n",
      "  warnings.warn(_use_error_msg)\n"
     ]
    }
   ],
   "source": [
    "import numpy as np\n",
    "import scipy as sp\n",
    "import matplotlib\n",
    "import matplotlib.pyplot as plt\n",
    "%matplotlib inline\n",
    "from matplotlib.colors import LogNorm\n",
    "import scipy.stats as stats\n",
    "from matplotlib import gridspec\n",
    "import aplpy as apl #The Astronomy Plotting Library for python\n",
    "import astropy\n",
    "from astropy.stats import sigma_clip\n",
    "from astropy.modeling import functional_models, models, fitting\n",
    "import astropy.units as U\n",
    "from astropy.coordinates import ICRS, Galactic, FK4, FK5, Angle, Latitude, Longitude\n",
    "import astropy.constants as C\n",
    "from astropy import wcs\n",
    "import astropy.io.fits as fits\n",
    "from astropy.io import ascii\n",
    "import astropy.coordinates as coord\n",
    "from astropy.coordinates import SkyCoord\n",
    "from astropy.stats import signal_to_noise_oir_ccd as SNRas\n",
    "#import spectral_cube as SC\n",
    "#from spectral_cube import SpectralCube as sc\n",
    "from astropy.wcs import WCS\n",
    "matplotlib.use('Agg')\n",
    "import matplotlib.cm as cm\n",
    "#import astrometry as ast\n",
    "import pyfits\n",
    "import requests\n",
    "import json\n",
    "import os\n",
    "from sklearn import datasets, linear_model\n",
    "from scipy.optimize import curve_fit\n",
    "import numpy.ma as ma\n",
    "from astropy.table import Table, Column\n",
    "import pyextract\n",
    "import sewpy\n",
    "import pandas as pd\n",
    "from astropy import units as u"
   ]
  },
  {
   "cell_type": "code",
   "execution_count": 2,
   "metadata": {
    "collapsed": true,
    "scrolled": false
   },
   "outputs": [],
   "source": [
    "sta1_RA_WORLD = SkyCoord('05:16:13.947 -00:09:03.19', unit=(u.hourangle, u.deg)).ra.degree #UCAC3 86-422902\n",
    "sta1_DEC_WORLD = SkyCoord('05:16:13.947 -00:09:03.19', unit=(u.hourangle, u.deg)).dec.degree\n",
    "\n",
    "sta2_RA_WORLD = SkyCoord('05:16:26.243 -00:09:04.79', unit=(u.hourangle, u.deg)).ra.degree #TYC 8438-1960-1\n",
    "sta2_DEC_WORLD = SkyCoord('05:16:26.243 -00:09:04.79', unit=(u.hourangle, u.deg)).dec.degree\n",
    "\n",
    "sta3_RA_WORLD = SkyCoord('05:16:19.315 -00:13:35.68', unit=(u.hourangle, u.deg)).ra.degree #TYC 8438-1960-1\n",
    "sta3_DEC_WORLD = SkyCoord('05:16:19.315 -00:13:35.68', unit=(u.hourangle, u.deg)).dec.degree\n",
    "\n",
    "sky_RA_WORLD = SkyCoord('05:16:17 -00:09:08', unit=(u.hourangle, u.deg)).ra.degree #Random patch of sky\n",
    "sky_DEC_WORLD = SkyCoord('05:16:17 -00:09:08', unit=(u.hourangle, u.deg)).dec.degree\n",
    "\n",
    "\n",
    "k_g = 0.16\n",
    "k_r = 0.08\n",
    "k_i = 0.02\n",
    "k_z = 0.01\n",
    "\n",
    "mag_refsta1_g = 13.291\n",
    "mag_refsta1_r = 12.843\n",
    "mag_refsta1_i = 12.668\n",
    "mag_refsta1_z = 12.593\n",
    "\n",
    "mag_refsta2_g = 11.689\n",
    "mag_refsta2_r = 11.491\n",
    "mag_refsta2_i = 11.465\n",
    "mag_refsta2_z = 11.500\n",
    "\n",
    "refsta1_RA = SkyCoord('00:24:28 07:49:00', unit=(u.hourangle, u.deg)).ra.degree #P525_E_21_10_17\n",
    "refsta1_DEC = SkyCoord('00:24:28 07:49:00', unit=(u.hourangle, u.deg)).dec.degree \n",
    "\n",
    "refsta2_RA = SkyCoord('00:55:09.9097 +00:43:12.906', unit=(u.hourangle, u.deg)).ra.degree #SA092_342_27_11_17\n",
    "refsta2_DEC = SkyCoord('00:55:09.9097 +00:43:12.906', unit=(u.hourangle, u.deg)).dec.degree "
   ]
  },
  {
   "cell_type": "code",
   "execution_count": 3,
   "metadata": {
    "collapsed": true
   },
   "outputs": [],
   "source": [
    "QUASAR1_g = [os.path.join('/media/lynge/Lynge-Back-up/Calibration/21-10-17-AKN120/g/',f) \\\n",
    "        for f in os.listdir('/media/lynge/Lynge-Back-up/Calibration/21-10-17-AKN120/g/')]\n",
    "\n",
    "QUASAR2_g = [os.path.join('/media/lynge/Lynge-Back-up/Calibration/27-11-17-F51/g/',f) \\\n",
    "        for f in os.listdir('/media/lynge/Lynge-Back-up/Calibration/27-11-17-F51/g/')]\n",
    "\n",
    "refsta1_g = [os.path.join('/media/lynge/Lynge-Back-up/Calibration/21-10-17-P525-E/g/',f) \\\n",
    "        for f in os.listdir('/media/lynge/Lynge-Back-up/Calibration/21-10-17-P525-E/g/')]\n",
    "\n",
    "refsta2_g = [os.path.join('/media/lynge/Lynge-Back-up/Calibration/27-11-17-SA092_342/g/',f) \\\n",
    "        for f in os.listdir('/media/lynge/Lynge-Back-up/Calibration/27-11-17-SA092_342/g/')]"
   ]
  },
  {
   "cell_type": "code",
   "execution_count": 4,
   "metadata": {
    "collapsed": true
   },
   "outputs": [],
   "source": [
    "QUASAR1_r = [os.path.join('/media/lynge/Lynge-Back-up/Calibration/21-10-17-AKN120/r/',f) \\\n",
    "        for f in os.listdir('/media/lynge/Lynge-Back-up/Calibration/21-10-17-AKN120/r/')]\n",
    "\n",
    "QUASAR2_r = [os.path.join('/media/lynge/Lynge-Back-up/Calibration/27-11-17-F51/r/',f) \\\n",
    "        for f in os.listdir('/media/lynge/Lynge-Back-up/Calibration/27-11-17-F51/r/')]\n",
    "\n",
    "refsta1_r = [os.path.join('/media/lynge/Lynge-Back-up/Calibration/21-10-17-P525-E/r/',f) \\\n",
    "        for f in os.listdir('/media/lynge/Lynge-Back-up/Calibration/21-10-17-P525-E/r/')]\n",
    "\n",
    "refsta2_r = [os.path.join('/media/lynge/Lynge-Back-up/Calibration/27-11-17-SA092_342/r/',f) \\\n",
    "        for f in os.listdir('/media/lynge/Lynge-Back-up/Calibration/27-11-17-SA092_342/r/')]"
   ]
  },
  {
   "cell_type": "code",
   "execution_count": 5,
   "metadata": {
    "collapsed": true
   },
   "outputs": [],
   "source": [
    "QUASAR1_i = [os.path.join('/media/lynge/Lynge-Back-up/Calibration/21-10-17-AKN120/i/',f) \\\n",
    "        for f in os.listdir('/media/lynge/Lynge-Back-up/Calibration/21-10-17-AKN120/i/')]\n",
    "\n",
    "QUASAR2_i = [os.path.join('/media/lynge/Lynge-Back-up/Calibration/27-11-17-F51/i/',f) \\\n",
    "        for f in os.listdir('/media/lynge/Lynge-Back-up/Calibration/27-11-17-F51/i/')]\n",
    "\n",
    "refsta1_i = [os.path.join('/media/lynge/Lynge-Back-up/Calibration/21-10-17-P525-E/i/',f) \\\n",
    "        for f in os.listdir('/media/lynge/Lynge-Back-up/Calibration/21-10-17-P525-E/i/')]\n",
    "\n",
    "refsta2_i = [os.path.join('/media/lynge/Lynge-Back-up/Calibration/27-11-17-SA092_342/i/',f) \\\n",
    "        for f in os.listdir('/media/lynge/Lynge-Back-up/Calibration/27-11-17-SA092_342/i/')]"
   ]
  },
  {
   "cell_type": "code",
   "execution_count": 6,
   "metadata": {},
   "outputs": [
    {
     "name": "stdout",
     "output_type": "stream",
     "text": [
      "['/media/lynge/Lynge-Back-up/Calibration/27-11-17-F51/z/IMG2017329BLs026.fits', '/media/lynge/Lynge-Back-up/Calibration/27-11-17-F51/z/IMG2017329BLs027.fits', '/media/lynge/Lynge-Back-up/Calibration/27-11-17-F51/z/IMG2017329BLs028.fits']\n"
     ]
    }
   ],
   "source": [
    "QUASAR1_z = [os.path.join('/media/lynge/Lynge-Back-up/Calibration/21-10-17-AKN120/z/',f) \\\n",
    "        for f in os.listdir('/media/lynge/Lynge-Back-up/Calibration/21-10-17-AKN120/z/')]\n",
    "\n",
    "QUASAR2_z = [os.path.join('/media/lynge/Lynge-Back-up/Calibration/27-11-17-F51/z/',f) \\\n",
    "        for f in os.listdir('/media/lynge/Lynge-Back-up/Calibration/27-11-17-F51/z/')]\n",
    "\n",
    "refsta1_z = [os.path.join('/media/lynge/Lynge-Back-up/Calibration/21-10-17-P525-E/z/',f) \\\n",
    "        for f in os.listdir('/media/lynge/Lynge-Back-up/Calibration/21-10-17-P525-E/z/')]\n",
    "\n",
    "refsta2_z = [os.path.join('/media/lynge/Lynge-Back-up/Calibration/27-11-17-SA092_342/z/',f) \\\n",
    "        for f in os.listdir('/media/lynge/Lynge-Back-up/Calibration/27-11-17-SA092_342/z/')]\n",
    "\n",
    "print QUASAR2_z"
   ]
  },
  {
   "cell_type": "code",
   "execution_count": 7,
   "metadata": {
    "collapsed": true
   },
   "outputs": [],
   "source": [
    "def dist(mid,end):\n",
    "    return np.sqrt((mid[0] - end[0])**2 + (mid[1] - end[1])**2)"
   ]
  },
  {
   "cell_type": "code",
   "execution_count": 8,
   "metadata": {
    "collapsed": true
   },
   "outputs": [],
   "source": [
    "def flux_cal(A_mag,B_mag,B_flux):\n",
    "    '''Flux of A found through magnitude and flux of B'''\n",
    "    return B_flux*10**((B_mag-A_mag)/2.5)"
   ]
  },
  {
   "cell_type": "code",
   "execution_count": 9,
   "metadata": {
    "collapsed": true
   },
   "outputs": [],
   "source": [
    "def Basic(quasar,header):\n",
    "    '''Provides a basic list of neccesities from the fits header file for use in the later \\\n",
    "    flux determination, it does not serve an individual purpose beyound that'''\n",
    "    AGNdata = quasar #np.rot90(np.rot90(np.fliplr(quasar)))\n",
    "    #header = data[0].header\n",
    "    #print header\n",
    "    RAstd = header['CRVAL1']\n",
    "    DECstd = header['CRVAL2']\n",
    "    #print RAstd, DECstd\n",
    "    pixspa = header['PIXSCALE']/(3600.)\n",
    "    #print pixspa\n",
    "    RAstdpix = header['CRPIX1']\n",
    "    DECstdpix = header['CRPIX2']\n",
    "    exptime = 10 # header['EXPTIME']\n",
    "    return header,AGNdata,RAstd,DECstd,pixspa,RAstdpix,DECstdpix,exptime"
   ]
  },
  {
   "cell_type": "code",
   "execution_count": 10,
   "metadata": {
    "collapsed": true
   },
   "outputs": [],
   "source": [
    "def curve(quasar,header,w,center,apparature):\n",
    "    '''Determines the FLUX of the stellar object given the the numpy array of the image, \\\n",
    "    the header of the fits file, the astropy coordinate representation, \\\n",
    "    the object position and the apparature of interest'''\n",
    "    header,AGNdata,RAstd,DECstd,pixspa,RAstdpix,DECstdpix,exptime = Basic(quasar,header)\n",
    "    #AGNdata = np.swapaxes(AGNdata,0,1)\n",
    "    y, x = np.ogrid[0:header['NAXIS1'],0:header['NAXIS1']]\n",
    "    #w = np.swapaxes(w,0,1)\n",
    "    #F_AGN = np.zeros((512,512,3)) #((int(2*apparature/pixspa)+1,int(2*apparature/pixspa)+1,3))\n",
    "    #print center\n",
    "    x1 = w.all_world2pix(center[0],center[1],0)\n",
    "    x1,y1 = (x1[0]),(x1[1])\n",
    "    try:\n",
    "        mask = ((y-y1)**2 + (x-x1)**2) > (apparature/float(pixspa))**2\n",
    "        AGNdata[mask] = float(0)\n",
    "        mask = AGNdata == 0.\n",
    "        rows = np.flatnonzero((~mask).sum(axis=1))\n",
    "        cols = np.flatnonzero((~mask).sum(axis=0))\n",
    "        AGNdata = AGNdata[rows.min():rows.max()+1, cols.min():cols.max()+1]\n",
    "        #print apparature/float(pixspa)\n",
    "    except:\n",
    "        AGNdata = np.array([[float('nan'),float('nan')],[float('nan'),float('nan')]])\n",
    "    #if np.sum(AGNdata) < 500:\n",
    "    #    AGNdata = np.array([[float('nan'),float('nan')],[float('nan'),float('nan')]])\n",
    "    return AGNdata/float(exptime), x1, y1\n"
   ]
  },
  {
   "cell_type": "code",
   "execution_count": 11,
   "metadata": {
    "collapsed": true
   },
   "outputs": [],
   "source": [
    "def comp1(qua,sta):\n",
    "    '''Code to determine the relation between the AGN and the Stellar flux as determined by either me \\\n",
    "    or by the SExtractor program respectively'''\n",
    "    comp = qua/sta\n",
    "    return comp"
   ]
  },
  {
   "cell_type": "code",
   "execution_count": 12,
   "metadata": {
    "collapsed": true
   },
   "outputs": [],
   "source": [
    "def SNR(data1,data2,header,ap1,ap2):\n",
    "    npix1 = np.pi*ap1**2/((header['PIXSCALE']/3600.)**2)\n",
    "    npix2 = np.pi*ap2**2/((header['PIXSCALE']/3600.)**2)\n",
    "    #data2_1 = ((data2-data1)/npix2)*npix1\n",
    "    data1_2 = data1/10.\n",
    "    data2_2 = data2/10.\n",
    "    return SNRas(10.,data1_2,abs(data2_2),0,header['RON'],npix1,gain=header['GAIN'])"
   ]
  },
  {
   "cell_type": "code",
   "execution_count": 73,
   "metadata": {
    "collapsed": true
   },
   "outputs": [],
   "source": [
    "def SXtable(quas,aperture):\n",
    "    header = pyfits.getheader(quas)\n",
    "    phot_app = aperture*3600/header['PIXSCALE']\n",
    "    np.set_printoptions(threshold=np.inf)\n",
    "    sew = sewpy.SEW(params=['XMODEL_WORLD', 'YMODEL_WORLD', 'X2MODEL_WORLD', 'Y2MODEL_WORLD', \n",
    "                            'XMODEL_IMAGE', 'YMODEL_IMAGE', 'FLUX_RADIUS(1)', 'FLUX_APER','ELLIPTICITY'],\n",
    "                    config={\"DETECT_THRESH\":5, 'DETECT_MINAREA':20, 'DETECT_MAXAREA':30000, \n",
    "                            \"PHOT_FLUXFRAC\":\"0.5\", 'PHOT_APERTURES':2*phot_app, \n",
    "                            'PIXEL_SCALE':header['PIXSCALE']}\n",
    "                    , sexpath='/usr/bin/sextractor')\n",
    "    out = sew(quas)\n",
    "    return out"
   ]
  },
  {
   "cell_type": "code",
   "execution_count": 74,
   "metadata": {
    "collapsed": true
   },
   "outputs": [],
   "source": [
    "def flux(quas,aperture,main_RA_WORLD,main_DEC_WORLD):\n",
    "    header = pyfits.getheader(quas)\n",
    "    RAmain = WCS(quas).all_world2pix(main_RA_WORLD,main_DEC_WORLD,1)[0]\n",
    "    DECmain = WCS(quas).all_world2pix(main_RA_WORLD,main_DEC_WORLD,1)[1]\n",
    "    output = float('nan')\n",
    "    if 15 < RAmain < header['NAXIS1'] - 15 and 15 < DECmain < header['NAXIS2'] - 15: \n",
    "        out = SXtable(quas,aperture)\n",
    "        #print out['table']['XMODEL_IMAGE']\n",
    "        #print RAmain\n",
    "        RAmain = WCS(quas).all_world2pix(main_RA_WORLD,main_DEC_WORLD,0)[0]\n",
    "        DECmain = WCS(quas).all_world2pix(main_RA_WORLD,main_DEC_WORLD,0)[1]\n",
    "        #print out['table']['XMODEL_IMAGE'], out['table']['YMODEL_IMAGE']\n",
    "        #print RAmain, DECmain\n",
    "\n",
    "        for j in range(len(out['table']['XMODEL_IMAGE'])):\n",
    "            #output['time'][i] = header['MJD-OBS']\n",
    "            if RAmain - 15. < out['table']['XMODEL_IMAGE'][j] <  RAmain + 15. and \\\n",
    "            DECmain - 15. < out['table']['YMODEL_IMAGE'][j] < DECmain + 15.:\n",
    "                #print 'YES'\n",
    "                output = out['table']['FLUX_APER'][j]\n",
    "                break\n",
    "    else:\n",
    "        output = float('nan')\n",
    "        #print 'Done'\n",
    "    return output\n"
   ]
  },
  {
   "cell_type": "code",
   "execution_count": 76,
   "metadata": {
    "scrolled": false
   },
   "outputs": [],
   "source": [
    "def findmag(start,compare1,RA_star,DEC_star,RA_com,DEC_com,mag_com,AIR_EXTINCTION):\n",
    "    print mag_com\n",
    "    aperture1 = 0.001\n",
    "    #201.5441,-8.8601\n",
    "    com_flu = []\n",
    "    com_AIRMASS = []\n",
    "    com_EXPTIME = []\n",
    "    star_flu = []\n",
    "    star_AIRMASS = []\n",
    "    star_EXPTIME = []\n",
    "    for i in range(len(compare1)):\n",
    "        print 'Frame nr. ', i, compare1[i]\n",
    "        header = pyfits.getheader(compare1[i])\n",
    "        a1 = flux(compare1[i],2*aperture1,RA_com,DEC_com)/float(header['EXPTIME'])\n",
    "        print header['EXPTIME']\n",
    "        if a1 > 0:\n",
    "            #print a1\n",
    "            com_flu.append(a1), com_AIRMASS.append(header['AIRMASS']*AIR_EXTINCTION), com_EXPTIME.append(header['EXPTIME'])\n",
    "        else:\n",
    "            print a1\n",
    "            com_flu.append(float('nan')), com_AIRMASS.append(float('nan')), com_EXPTIME.append(header['EXPTIME'])\n",
    "        #plt.figure(figsize=(3,3))\n",
    "        #plt.imshow(a1,cmap='hot')\n",
    "        #plt.colorbar()\n",
    "    for i in range(len(start)):\n",
    "        print 'Frame nr. ', i, start[i]\n",
    "        header = pyfits.getheader(start[i])\n",
    "        a1 = flux(start[i],2*aperture1,RA_star,DEC_star)/float(header['EXPTIME'])\n",
    "        print header['EXPTIME']\n",
    "        if a1 > 0:\n",
    "            #print a1\n",
    "            star_flu.append(a1), star_AIRMASS.append(header['AIRMASS']*AIR_EXTINCTION), star_EXPTIME.append(header['EXPTIME'])\n",
    "        else:\n",
    "            star_flu.append(float('nan')), star_AIRMASS.append(float('nan')), star_EXPTIME.append(header['EXPTIME'])\n",
    "        #plt.figure(figsize=(3,3))\n",
    "        #plt.imshow(a1,cmap='hot')\n",
    "        #plt.colorbar()\n",
    "    com_flu = np.array(com_flu)\n",
    "    print com_flu\n",
    "    com_AIRMASS = np.array(com_AIRMASS)\n",
    "    com_EXPTIME = np.array(com_EXPTIME)\n",
    "    star_flu = np.array(star_flu)\n",
    "    print star_flu\n",
    "    star_AIRMASS = np.array(star_AIRMASS)\n",
    "    star_EXPTIME = np.array(star_EXPTIME)\n",
    "    com_flu = com_flu#/com_EXPTIME\n",
    "    star_flu = star_flu#/star_EXPTIME\n",
    "    com_flux = np.nanmean(com_flu)\n",
    "    com_AIRMASS_num = np.nanmean(com_AIRMASS)\n",
    "    star_AIRMASS_num = np.nanmean(star_AIRMASS)\n",
    "    print star_AIRMASS_num\n",
    "    mag1 = (star_AIRMASS_num-com_AIRMASS_num) + mag_com - 2.5*np.log10(star_flu/com_flux)\n",
    "    mag = mag1\n",
    "    print (star_AIRMASS_num-com_AIRMASS_num)\n",
    "    print mag_com, com_flux, np.average(com_flu)\n",
    "    print mag\n",
    "    return mag"
   ]
  },
  {
   "cell_type": "code",
   "execution_count": null,
   "metadata": {
    "collapsed": true
   },
   "outputs": [],
   "source": []
  },
  {
   "cell_type": "code",
   "execution_count": 67,
   "metadata": {
    "scrolled": true
   },
   "outputs": [
    {
     "name": "stdout",
     "output_type": "stream",
     "text": [
      "13.291\n",
      "Frame nr.  0 /media/lynge/Lynge-Back-up/Calibration/21-10-17-P525-E/g/IMG2017292URh017.fits\n",
      "INFO: \n",
      "                Inconsistent SIP distortion information is present in the FITS header and the WCS object:\n",
      "                SIP coefficients were detected, but CTYPE is missing a \"-SIP\" suffix.\n",
      "                astropy.wcs is using the SIP distortion coefficients,\n",
      "                therefore the coordinates calculated here might be incorrect.\n",
      "\n",
      "                If you do not want to apply the SIP distortion coefficients,\n",
      "                please remove the SIP coefficients from the FITS header or the\n",
      "                WCS object.  As an example, if the image is already distortion-corrected\n",
      "                (e.g., drizzled) then distortion components should not apply and the SIP\n",
      "                coefficients should be removed.\n",
      "\n",
      "                While the SIP distortion coefficients are being applied here, if that was indeed the intent,\n",
      "                for consistency please append \"-SIP\" to the CTYPE in the FITS header or the WCS object.\n",
      "\n",
      "                 [astropy.wcs.wcs]\n",
      "INFO: \n",
      "                Inconsistent SIP distortion information is present in the FITS header and the WCS object:\n",
      "                SIP coefficients were detected, but CTYPE is missing a \"-SIP\" suffix.\n",
      "                astropy.wcs is using the SIP distortion coefficients,\n",
      "                therefore the coordinates calculated here might be incorrect.\n",
      "\n",
      "                If you do not want to apply the SIP distortion coefficients,\n",
      "                please remove the SIP coefficients from the FITS header or the\n",
      "                WCS object.  As an example, if the image is already distortion-corrected\n",
      "                (e.g., drizzled) then distortion components should not apply and the SIP\n",
      "                coefficients should be removed.\n",
      "\n",
      "                While the SIP distortion coefficients are being applied here, if that was indeed the intent,\n",
      "                for consistency please append \"-SIP\" to the CTYPE in the FITS header or the WCS object.\n",
      "\n",
      "                 [astropy.wcs.wcs]\n",
      "INFO: \n",
      "                Inconsistent SIP distortion information is present in the FITS header and the WCS object:\n",
      "                SIP coefficients were detected, but CTYPE is missing a \"-SIP\" suffix.\n",
      "                astropy.wcs is using the SIP distortion coefficients,\n",
      "                therefore the coordinates calculated here might be incorrect.\n",
      "\n",
      "                If you do not want to apply the SIP distortion coefficients,\n",
      "                please remove the SIP coefficients from the FITS header or the\n",
      "                WCS object.  As an example, if the image is already distortion-corrected\n",
      "                (e.g., drizzled) then distortion components should not apply and the SIP\n",
      "                coefficients should be removed.\n",
      "\n",
      "                While the SIP distortion coefficients are being applied here, if that was indeed the intent,\n",
      "                for consistency please append \"-SIP\" to the CTYPE in the FITS header or the WCS object.\n",
      "\n",
      "                 [astropy.wcs.wcs]\n",
      "INFO: \n",
      "                Inconsistent SIP distortion information is present in the FITS header and the WCS object:\n",
      "                SIP coefficients were detected, but CTYPE is missing a \"-SIP\" suffix.\n",
      "                astropy.wcs is using the SIP distortion coefficients,\n",
      "                therefore the coordinates calculated here might be incorrect.\n",
      "\n",
      "                If you do not want to apply the SIP distortion coefficients,\n",
      "                please remove the SIP coefficients from the FITS header or the\n",
      "                WCS object.  As an example, if the image is already distortion-corrected\n",
      "                (e.g., drizzled) then distortion components should not apply and the SIP\n",
      "                coefficients should be removed.\n",
      "\n",
      "                While the SIP distortion coefficients are being applied here, if that was indeed the intent,\n",
      "                for consistency please append \"-SIP\" to the CTYPE in the FITS header or the WCS object.\n",
      "\n",
      "                 [astropy.wcs.wcs]\n",
      "40.0\n",
      "Frame nr.  1 /media/lynge/Lynge-Back-up/Calibration/21-10-17-P525-E/g/IMG2017292URh018.fits\n",
      "INFO: \n",
      "                Inconsistent SIP distortion information is present in the FITS header and the WCS object:\n",
      "                SIP coefficients were detected, but CTYPE is missing a \"-SIP\" suffix.\n",
      "                astropy.wcs is using the SIP distortion coefficients,\n",
      "                therefore the coordinates calculated here might be incorrect.\n",
      "\n",
      "                If you do not want to apply the SIP distortion coefficients,\n",
      "                please remove the SIP coefficients from the FITS header or the\n",
      "                WCS object.  As an example, if the image is already distortion-corrected\n",
      "                (e.g., drizzled) then distortion components should not apply and the SIP\n",
      "                coefficients should be removed.\n",
      "\n",
      "                While the SIP distortion coefficients are being applied here, if that was indeed the intent,\n",
      "                for consistency please append \"-SIP\" to the CTYPE in the FITS header or the WCS object.\n",
      "\n",
      "                 [astropy.wcs.wcs]\n",
      "INFO: \n",
      "                Inconsistent SIP distortion information is present in the FITS header and the WCS object:\n",
      "                SIP coefficients were detected, but CTYPE is missing a \"-SIP\" suffix.\n",
      "                astropy.wcs is using the SIP distortion coefficients,\n",
      "                therefore the coordinates calculated here might be incorrect.\n",
      "\n",
      "                If you do not want to apply the SIP distortion coefficients,\n",
      "                please remove the SIP coefficients from the FITS header or the\n",
      "                WCS object.  As an example, if the image is already distortion-corrected\n",
      "                (e.g., drizzled) then distortion components should not apply and the SIP\n",
      "                coefficients should be removed.\n",
      "\n",
      "                While the SIP distortion coefficients are being applied here, if that was indeed the intent,\n",
      "                for consistency please append \"-SIP\" to the CTYPE in the FITS header or the WCS object.\n",
      "\n",
      "                 [astropy.wcs.wcs]\n",
      "INFO: \n",
      "                Inconsistent SIP distortion information is present in the FITS header and the WCS object:\n",
      "                SIP coefficients were detected, but CTYPE is missing a \"-SIP\" suffix.\n",
      "                astropy.wcs is using the SIP distortion coefficients,\n",
      "                therefore the coordinates calculated here might be incorrect.\n",
      "\n",
      "                If you do not want to apply the SIP distortion coefficients,\n",
      "                please remove the SIP coefficients from the FITS header or the\n",
      "                WCS object.  As an example, if the image is already distortion-corrected\n",
      "                (e.g., drizzled) then distortion components should not apply and the SIP\n",
      "                coefficients should be removed.\n",
      "\n",
      "                While the SIP distortion coefficients are being applied here, if that was indeed the intent,\n",
      "                for consistency please append \"-SIP\" to the CTYPE in the FITS header or the WCS object.\n",
      "\n",
      "                 [astropy.wcs.wcs]\n",
      "INFO: \n",
      "                Inconsistent SIP distortion information is present in the FITS header and the WCS object:\n",
      "                SIP coefficients were detected, but CTYPE is missing a \"-SIP\" suffix.\n",
      "                astropy.wcs is using the SIP distortion coefficients,\n",
      "                therefore the coordinates calculated here might be incorrect.\n",
      "\n",
      "                If you do not want to apply the SIP distortion coefficients,\n",
      "                please remove the SIP coefficients from the FITS header or the\n",
      "                WCS object.  As an example, if the image is already distortion-corrected\n",
      "                (e.g., drizzled) then distortion components should not apply and the SIP\n",
      "                coefficients should be removed.\n",
      "\n",
      "                While the SIP distortion coefficients are being applied here, if that was indeed the intent,\n",
      "                for consistency please append \"-SIP\" to the CTYPE in the FITS header or the WCS object.\n",
      "\n",
      "                 [astropy.wcs.wcs]\n",
      "40.0\n",
      "Frame nr.  2 /media/lynge/Lynge-Back-up/Calibration/21-10-17-P525-E/g/IMG2017292URh021.fits\n",
      "INFO: \n",
      "                Inconsistent SIP distortion information is present in the FITS header and the WCS object:\n",
      "                SIP coefficients were detected, but CTYPE is missing a \"-SIP\" suffix.\n",
      "                astropy.wcs is using the SIP distortion coefficients,\n",
      "                therefore the coordinates calculated here might be incorrect.\n",
      "\n",
      "                If you do not want to apply the SIP distortion coefficients,\n",
      "                please remove the SIP coefficients from the FITS header or the\n",
      "                WCS object.  As an example, if the image is already distortion-corrected\n",
      "                (e.g., drizzled) then distortion components should not apply and the SIP\n",
      "                coefficients should be removed.\n",
      "\n",
      "                While the SIP distortion coefficients are being applied here, if that was indeed the intent,\n",
      "                for consistency please append \"-SIP\" to the CTYPE in the FITS header or the WCS object.\n",
      "\n",
      "                 [astropy.wcs.wcs]\n",
      "INFO: \n",
      "                Inconsistent SIP distortion information is present in the FITS header and the WCS object:\n",
      "                SIP coefficients were detected, but CTYPE is missing a \"-SIP\" suffix.\n",
      "                astropy.wcs is using the SIP distortion coefficients,\n",
      "                therefore the coordinates calculated here might be incorrect.\n",
      "\n",
      "                If you do not want to apply the SIP distortion coefficients,\n",
      "                please remove the SIP coefficients from the FITS header or the\n",
      "                WCS object.  As an example, if the image is already distortion-corrected\n",
      "                (e.g., drizzled) then distortion components should not apply and the SIP\n",
      "                coefficients should be removed.\n",
      "\n",
      "                While the SIP distortion coefficients are being applied here, if that was indeed the intent,\n",
      "                for consistency please append \"-SIP\" to the CTYPE in the FITS header or the WCS object.\n",
      "\n",
      "                 [astropy.wcs.wcs]\n"
     ]
    },
    {
     "ename": "KeyboardInterrupt",
     "evalue": "",
     "output_type": "error",
     "traceback": [
      "\u001b[0;31m---------------------------------------------------------------------------\u001b[0m",
      "\u001b[0;31mKeyboardInterrupt\u001b[0m                         Traceback (most recent call last)",
      "\u001b[0;32m<ipython-input-67-ba1209ca5990>\u001b[0m in \u001b[0;36m<module>\u001b[0;34m()\u001b[0m\n\u001b[0;32m----> 1\u001b[0;31m \u001b[0mcom1_1\u001b[0m \u001b[0;34m=\u001b[0m \u001b[0mfindmag\u001b[0m\u001b[0;34m(\u001b[0m\u001b[0mQUASAR1_g\u001b[0m\u001b[0;34m,\u001b[0m\u001b[0mrefsta1_g\u001b[0m\u001b[0;34m,\u001b[0m\u001b[0msta1_RA_WORLD\u001b[0m\u001b[0;34m,\u001b[0m\u001b[0msta1_DEC_WORLD\u001b[0m\u001b[0;34m,\u001b[0m\u001b[0mrefsta1_RA\u001b[0m\u001b[0;34m,\u001b[0m\u001b[0mrefsta1_DEC\u001b[0m\u001b[0;34m,\u001b[0m\u001b[0mmag_refsta1_g\u001b[0m\u001b[0;34m,\u001b[0m\u001b[0mk_g\u001b[0m\u001b[0;34m)\u001b[0m\u001b[0;34m\u001b[0m\u001b[0m\n\u001b[0m\u001b[1;32m      2\u001b[0m \u001b[0mcom2_1\u001b[0m \u001b[0;34m=\u001b[0m \u001b[0mfindmag\u001b[0m\u001b[0;34m(\u001b[0m\u001b[0mQUASAR1_g\u001b[0m\u001b[0;34m,\u001b[0m\u001b[0mrefsta1_g\u001b[0m\u001b[0;34m,\u001b[0m\u001b[0msta2_RA_WORLD\u001b[0m\u001b[0;34m,\u001b[0m\u001b[0msta2_DEC_WORLD\u001b[0m\u001b[0;34m,\u001b[0m\u001b[0mrefsta1_RA\u001b[0m\u001b[0;34m,\u001b[0m\u001b[0mrefsta1_DEC\u001b[0m\u001b[0;34m,\u001b[0m\u001b[0mmag_refsta1_g\u001b[0m\u001b[0;34m,\u001b[0m\u001b[0mk_g\u001b[0m\u001b[0;34m)\u001b[0m\u001b[0;34m\u001b[0m\u001b[0m\n\u001b[1;32m      3\u001b[0m \u001b[0mcom3_1\u001b[0m \u001b[0;34m=\u001b[0m \u001b[0mfindmag\u001b[0m\u001b[0;34m(\u001b[0m\u001b[0mQUASAR1_g\u001b[0m\u001b[0;34m,\u001b[0m\u001b[0mrefsta1_g\u001b[0m\u001b[0;34m,\u001b[0m\u001b[0msta3_RA_WORLD\u001b[0m\u001b[0;34m,\u001b[0m\u001b[0msta3_DEC_WORLD\u001b[0m\u001b[0;34m,\u001b[0m\u001b[0mrefsta1_RA\u001b[0m\u001b[0;34m,\u001b[0m\u001b[0mrefsta1_DEC\u001b[0m\u001b[0;34m,\u001b[0m\u001b[0mmag_refsta1_g\u001b[0m\u001b[0;34m,\u001b[0m\u001b[0mk_g\u001b[0m\u001b[0;34m)\u001b[0m\u001b[0;34m\u001b[0m\u001b[0m\n\u001b[1;32m      4\u001b[0m \u001b[0;34m\u001b[0m\u001b[0m\n\u001b[1;32m      5\u001b[0m \u001b[0;31m#com1_2 = findmag(QUASAR2_g,refsta2_g,sta1_RA_WORLD,sta1_DEC_WORLD,refsta2_RA,refsta2_DEC,mag_refsta2_g,k_g)\u001b[0m\u001b[0;34m\u001b[0m\u001b[0;34m\u001b[0m\u001b[0m\n",
      "\u001b[0;32m<ipython-input-66-b98c571c95e7>\u001b[0m in \u001b[0;36mfindmag\u001b[0;34m(start, compare1, RA_star, DEC_star, RA_com, DEC_com, mag_com, AIR_EXTINCTION)\u001b[0m\n\u001b[1;32m     12\u001b[0m         \u001b[0;32mprint\u001b[0m \u001b[0;34m'Frame nr. '\u001b[0m\u001b[0;34m,\u001b[0m \u001b[0mi\u001b[0m\u001b[0;34m,\u001b[0m \u001b[0mcompare1\u001b[0m\u001b[0;34m[\u001b[0m\u001b[0mi\u001b[0m\u001b[0;34m]\u001b[0m\u001b[0;34m\u001b[0m\u001b[0m\n\u001b[1;32m     13\u001b[0m         \u001b[0mheader\u001b[0m \u001b[0;34m=\u001b[0m \u001b[0mpyfits\u001b[0m\u001b[0;34m.\u001b[0m\u001b[0mgetheader\u001b[0m\u001b[0;34m(\u001b[0m\u001b[0mcompare1\u001b[0m\u001b[0;34m[\u001b[0m\u001b[0mi\u001b[0m\u001b[0;34m]\u001b[0m\u001b[0;34m)\u001b[0m\u001b[0;34m\u001b[0m\u001b[0m\n\u001b[0;32m---> 14\u001b[0;31m         \u001b[0ma1\u001b[0m \u001b[0;34m=\u001b[0m \u001b[0mflux\u001b[0m\u001b[0;34m(\u001b[0m\u001b[0mcompare1\u001b[0m\u001b[0;34m[\u001b[0m\u001b[0mi\u001b[0m\u001b[0;34m]\u001b[0m\u001b[0;34m,\u001b[0m\u001b[0;36m2\u001b[0m\u001b[0;34m*\u001b[0m\u001b[0maperture1\u001b[0m\u001b[0;34m,\u001b[0m\u001b[0mRA_com\u001b[0m\u001b[0;34m,\u001b[0m\u001b[0mDEC_com\u001b[0m\u001b[0;34m)\u001b[0m\u001b[0;34m/\u001b[0m\u001b[0mfloat\u001b[0m\u001b[0;34m(\u001b[0m\u001b[0mheader\u001b[0m\u001b[0;34m[\u001b[0m\u001b[0;34m'EXPTIME'\u001b[0m\u001b[0;34m]\u001b[0m\u001b[0;34m)\u001b[0m\u001b[0;34m\u001b[0m\u001b[0m\n\u001b[0m\u001b[1;32m     15\u001b[0m         \u001b[0;32mprint\u001b[0m \u001b[0mheader\u001b[0m\u001b[0;34m[\u001b[0m\u001b[0;34m'EXPTIME'\u001b[0m\u001b[0;34m]\u001b[0m\u001b[0;34m\u001b[0m\u001b[0m\n\u001b[1;32m     16\u001b[0m         \u001b[0;32mif\u001b[0m \u001b[0ma1\u001b[0m \u001b[0;34m>\u001b[0m \u001b[0;36m0\u001b[0m\u001b[0;34m:\u001b[0m\u001b[0;34m\u001b[0m\u001b[0m\n",
      "\u001b[0;32m<ipython-input-65-c095a9bbd3ac>\u001b[0m in \u001b[0;36mflux\u001b[0;34m(quas, aperture, main_RA_WORLD, main_DEC_WORLD)\u001b[0m\n\u001b[1;32m      8\u001b[0m         \u001b[0;31m#print out['table']['XMODEL_IMAGE']\u001b[0m\u001b[0;34m\u001b[0m\u001b[0;34m\u001b[0m\u001b[0m\n\u001b[1;32m      9\u001b[0m         \u001b[0;31m#print RAmain\u001b[0m\u001b[0;34m\u001b[0m\u001b[0;34m\u001b[0m\u001b[0m\n\u001b[0;32m---> 10\u001b[0;31m         \u001b[0mRAmain\u001b[0m \u001b[0;34m=\u001b[0m \u001b[0mWCS\u001b[0m\u001b[0;34m(\u001b[0m\u001b[0mquas\u001b[0m\u001b[0;34m)\u001b[0m\u001b[0;34m.\u001b[0m\u001b[0mall_world2pix\u001b[0m\u001b[0;34m(\u001b[0m\u001b[0mmain_RA_WORLD\u001b[0m\u001b[0;34m,\u001b[0m\u001b[0mmain_DEC_WORLD\u001b[0m\u001b[0;34m,\u001b[0m\u001b[0;36m0\u001b[0m\u001b[0;34m)\u001b[0m\u001b[0;34m[\u001b[0m\u001b[0;36m0\u001b[0m\u001b[0;34m]\u001b[0m\u001b[0;34m\u001b[0m\u001b[0m\n\u001b[0m\u001b[1;32m     11\u001b[0m         \u001b[0mDECmain\u001b[0m \u001b[0;34m=\u001b[0m \u001b[0mWCS\u001b[0m\u001b[0;34m(\u001b[0m\u001b[0mquas\u001b[0m\u001b[0;34m)\u001b[0m\u001b[0;34m.\u001b[0m\u001b[0mall_world2pix\u001b[0m\u001b[0;34m(\u001b[0m\u001b[0mmain_RA_WORLD\u001b[0m\u001b[0;34m,\u001b[0m\u001b[0mmain_DEC_WORLD\u001b[0m\u001b[0;34m,\u001b[0m\u001b[0;36m0\u001b[0m\u001b[0;34m)\u001b[0m\u001b[0;34m[\u001b[0m\u001b[0;36m1\u001b[0m\u001b[0;34m]\u001b[0m\u001b[0;34m\u001b[0m\u001b[0m\n\u001b[1;32m     12\u001b[0m         \u001b[0;31m#print out['table']['XMODEL_IMAGE'], out['table']['YMODEL_IMAGE']\u001b[0m\u001b[0;34m\u001b[0m\u001b[0;34m\u001b[0m\u001b[0m\n",
      "\u001b[0;32m/home/lynge/.local/lib/python2.7/site-packages/astropy/wcs/wcs.pyc\u001b[0m in \u001b[0;36m__init__\u001b[0;34m(self, header, fobj, key, minerr, relax, naxis, keysel, colsel, fix, translate_units, _do_set)\u001b[0m\n\u001b[1;32m    415\u001b[0m \u001b[0;34m\u001b[0m\u001b[0m\n\u001b[1;32m    416\u001b[0m             \u001b[0;32mtry\u001b[0m\u001b[0;34m:\u001b[0m\u001b[0;34m\u001b[0m\u001b[0m\n\u001b[0;32m--> 417\u001b[0;31m                 \u001b[0mtmp_header\u001b[0m \u001b[0;34m=\u001b[0m \u001b[0mfits\u001b[0m\u001b[0;34m.\u001b[0m\u001b[0mHeader\u001b[0m\u001b[0;34m.\u001b[0m\u001b[0mfromstring\u001b[0m\u001b[0;34m(\u001b[0m\u001b[0mheader_string\u001b[0m\u001b[0;34m)\u001b[0m\u001b[0;34m\u001b[0m\u001b[0m\n\u001b[0m\u001b[1;32m    418\u001b[0m                 \u001b[0mself\u001b[0m\u001b[0;34m.\u001b[0m\u001b[0m_remove_sip_kw\u001b[0m\u001b[0;34m(\u001b[0m\u001b[0mtmp_header\u001b[0m\u001b[0;34m)\u001b[0m\u001b[0;34m\u001b[0m\u001b[0m\n\u001b[1;32m    419\u001b[0m                 \u001b[0mtmp_header_bytes\u001b[0m \u001b[0;34m=\u001b[0m \u001b[0mtmp_header\u001b[0m\u001b[0;34m.\u001b[0m\u001b[0mtostring\u001b[0m\u001b[0;34m(\u001b[0m\u001b[0;34m)\u001b[0m\u001b[0;34m.\u001b[0m\u001b[0mrstrip\u001b[0m\u001b[0;34m(\u001b[0m\u001b[0;34m)\u001b[0m\u001b[0;34m\u001b[0m\u001b[0m\n",
      "\u001b[0;32m/home/lynge/.local/lib/python2.7/site-packages/astropy/io/fits/header.pyc\u001b[0m in \u001b[0;36mfromstring\u001b[0;34m(cls, data, sep)\u001b[0m\n\u001b[1;32m    390\u001b[0m             \u001b[0mcards\u001b[0m\u001b[0;34m.\u001b[0m\u001b[0mappend\u001b[0m\u001b[0;34m(\u001b[0m\u001b[0mCard\u001b[0m\u001b[0;34m.\u001b[0m\u001b[0mfromstring\u001b[0m\u001b[0;34m(\u001b[0m\u001b[0;34m''\u001b[0m\u001b[0;34m.\u001b[0m\u001b[0mjoin\u001b[0m\u001b[0;34m(\u001b[0m\u001b[0mimage\u001b[0m\u001b[0;34m)\u001b[0m\u001b[0;34m)\u001b[0m\u001b[0;34m)\u001b[0m\u001b[0;34m\u001b[0m\u001b[0m\n\u001b[1;32m    391\u001b[0m \u001b[0;34m\u001b[0m\u001b[0m\n\u001b[0;32m--> 392\u001b[0;31m         \u001b[0;32mreturn\u001b[0m \u001b[0mcls\u001b[0m\u001b[0;34m(\u001b[0m\u001b[0mcards\u001b[0m\u001b[0;34m)\u001b[0m\u001b[0;34m\u001b[0m\u001b[0m\n\u001b[0m\u001b[1;32m    393\u001b[0m \u001b[0;34m\u001b[0m\u001b[0m\n\u001b[1;32m    394\u001b[0m     \u001b[0;34m@\u001b[0m\u001b[0mclassmethod\u001b[0m\u001b[0;34m\u001b[0m\u001b[0m\n",
      "\u001b[0;32m/home/lynge/.local/lib/python2.7/site-packages/astropy/io/fits/header.pyc\u001b[0m in \u001b[0;36m__init__\u001b[0;34m(self, cards, copy)\u001b[0m\n\u001b[1;32m    109\u001b[0m \u001b[0;34m\u001b[0m\u001b[0m\n\u001b[1;32m    110\u001b[0m         \u001b[0;32mfor\u001b[0m \u001b[0mcard\u001b[0m \u001b[0;32min\u001b[0m \u001b[0mcards\u001b[0m\u001b[0;34m:\u001b[0m\u001b[0;34m\u001b[0m\u001b[0m\n\u001b[0;32m--> 111\u001b[0;31m             \u001b[0mself\u001b[0m\u001b[0;34m.\u001b[0m\u001b[0mappend\u001b[0m\u001b[0;34m(\u001b[0m\u001b[0mcard\u001b[0m\u001b[0;34m,\u001b[0m \u001b[0mend\u001b[0m\u001b[0;34m=\u001b[0m\u001b[0mTrue\u001b[0m\u001b[0;34m)\u001b[0m\u001b[0;34m\u001b[0m\u001b[0m\n\u001b[0m\u001b[1;32m    112\u001b[0m \u001b[0;34m\u001b[0m\u001b[0m\n\u001b[1;32m    113\u001b[0m         \u001b[0mself\u001b[0m\u001b[0;34m.\u001b[0m\u001b[0m_modified\u001b[0m \u001b[0;34m=\u001b[0m \u001b[0mFalse\u001b[0m\u001b[0;34m\u001b[0m\u001b[0m\n",
      "\u001b[0;32m/home/lynge/.local/lib/python2.7/site-packages/astropy/io/fits/header.pyc\u001b[0m in \u001b[0;36mappend\u001b[0;34m(self, card, useblanks, bottom, end)\u001b[0m\n\u001b[1;32m   1189\u001b[0m             \u001b[0mself\u001b[0m\u001b[0;34m.\u001b[0m\u001b[0m_updateindices\u001b[0m\u001b[0;34m(\u001b[0m\u001b[0midx\u001b[0m\u001b[0;34m)\u001b[0m\u001b[0;34m\u001b[0m\u001b[0m\n\u001b[1;32m   1190\u001b[0m \u001b[0;34m\u001b[0m\u001b[0m\n\u001b[0;32m-> 1191\u001b[0;31m         \u001b[0mkeyword\u001b[0m \u001b[0;34m=\u001b[0m \u001b[0mCard\u001b[0m\u001b[0;34m.\u001b[0m\u001b[0mnormalize_keyword\u001b[0m\u001b[0;34m(\u001b[0m\u001b[0mcard\u001b[0m\u001b[0;34m.\u001b[0m\u001b[0mkeyword\u001b[0m\u001b[0;34m)\u001b[0m\u001b[0;34m\u001b[0m\u001b[0m\n\u001b[0m\u001b[1;32m   1192\u001b[0m         \u001b[0mself\u001b[0m\u001b[0;34m.\u001b[0m\u001b[0m_keyword_indices\u001b[0m\u001b[0;34m[\u001b[0m\u001b[0mkeyword\u001b[0m\u001b[0;34m]\u001b[0m\u001b[0;34m.\u001b[0m\u001b[0mappend\u001b[0m\u001b[0;34m(\u001b[0m\u001b[0midx\u001b[0m\u001b[0;34m)\u001b[0m\u001b[0;34m\u001b[0m\u001b[0m\n\u001b[1;32m   1193\u001b[0m         \u001b[0;32mif\u001b[0m \u001b[0mcard\u001b[0m\u001b[0;34m.\u001b[0m\u001b[0mfield_specifier\u001b[0m \u001b[0;32mis\u001b[0m \u001b[0;32mnot\u001b[0m \u001b[0mNone\u001b[0m\u001b[0;34m:\u001b[0m\u001b[0;34m\u001b[0m\u001b[0m\n",
      "\u001b[0;32m/home/lynge/.local/lib/python2.7/site-packages/astropy/io/fits/card.pyc\u001b[0m in \u001b[0;36mnormalize_keyword\u001b[0;34m(cls, keyword)\u001b[0m\n\u001b[1;32m    558\u001b[0m         \u001b[0;31m# in standard all-caps\u001b[0m\u001b[0;34m\u001b[0m\u001b[0;34m\u001b[0m\u001b[0m\n\u001b[1;32m    559\u001b[0m         if (len(keyword) <= KEYWORD_LENGTH and\n\u001b[0;32m--> 560\u001b[0;31m                 cls._keywd_FSC_RE.match(keyword)):\n\u001b[0m\u001b[1;32m    561\u001b[0m             \u001b[0;32mreturn\u001b[0m \u001b[0mkeyword\u001b[0m\u001b[0;34m\u001b[0m\u001b[0m\n\u001b[1;32m    562\u001b[0m \u001b[0;34m\u001b[0m\u001b[0m\n",
      "\u001b[0;31mKeyboardInterrupt\u001b[0m: "
     ]
    }
   ],
   "source": [
    "com1_1 = findmag(QUASAR1_g,refsta1_g,sta1_RA_WORLD,sta1_DEC_WORLD,refsta1_RA,refsta1_DEC,mag_refsta1_g,k_g)\n",
    "com2_1 = findmag(QUASAR1_g,refsta1_g,sta2_RA_WORLD,sta2_DEC_WORLD,refsta1_RA,refsta1_DEC,mag_refsta1_g,k_g)\n",
    "com3_1 = findmag(QUASAR1_g,refsta1_g,sta3_RA_WORLD,sta3_DEC_WORLD,refsta1_RA,refsta1_DEC,mag_refsta1_g,k_g)\n",
    "\n",
    "#com1_2 = findmag(QUASAR2_g,refsta2_g,sta1_RA_WORLD,sta1_DEC_WORLD,refsta2_RA,refsta2_DEC,mag_refsta2_g,k_g)\n",
    "#com2_2 = findmag(QUASAR2_g,refsta2_g,sta2_RA_WORLD,sta2_DEC_WORLD,refsta2_RA,refsta2_DEC,mag_refsta2_g,k_g)\n",
    "#com3_2 = findmag(QUASAR2_g,refsta2_g,sta3_RA_WORLD,sta3_DEC_WORLD,refsta2_RA,refsta2_DEC,mag_refsta2_g,k_g)"
   ]
  },
  {
   "cell_type": "code",
   "execution_count": 23,
   "metadata": {
    "scrolled": true
   },
   "outputs": [
    {
     "name": "stdout",
     "output_type": "stream",
     "text": [
      "g-filter\n",
      "Star 1\n",
      "[ 13.4837997   13.48199172  13.48566875]"
     ]
    },
    {
     "ename": "NameError",
     "evalue": "name 'com1_2' is not defined",
     "output_type": "error",
     "traceback": [
      "\u001b[0;31m---------------------------------------------------------------------------\u001b[0m",
      "\u001b[0;31mNameError\u001b[0m                                 Traceback (most recent call last)",
      "\u001b[0;32m<ipython-input-23-395a7fb2b0cd>\u001b[0m in \u001b[0;36m<module>\u001b[0;34m()\u001b[0m\n\u001b[1;32m      1\u001b[0m \u001b[0;32mprint\u001b[0m \u001b[0;34m'g-filter'\u001b[0m\u001b[0;34m\u001b[0m\u001b[0m\n\u001b[1;32m      2\u001b[0m \u001b[0;32mprint\u001b[0m \u001b[0;34m'Star 1'\u001b[0m\u001b[0;34m\u001b[0m\u001b[0m\n\u001b[0;32m----> 3\u001b[0;31m \u001b[0;32mprint\u001b[0m \u001b[0mcom1_1\u001b[0m\u001b[0;34m,\u001b[0m\u001b[0mcom1_2\u001b[0m\u001b[0;34m\u001b[0m\u001b[0m\n\u001b[0m\u001b[1;32m      4\u001b[0m \u001b[0;32mprint\u001b[0m \u001b[0mnp\u001b[0m\u001b[0;34m.\u001b[0m\u001b[0mnanmean\u001b[0m\u001b[0;34m(\u001b[0m\u001b[0;34m(\u001b[0m\u001b[0mcom1_1\u001b[0m\u001b[0;34m,\u001b[0m\u001b[0mcom1_2\u001b[0m\u001b[0;34m)\u001b[0m\u001b[0;34m)\u001b[0m\u001b[0;34m,\u001b[0m \u001b[0mnp\u001b[0m\u001b[0;34m.\u001b[0m\u001b[0mnanstd\u001b[0m\u001b[0;34m(\u001b[0m\u001b[0;34m(\u001b[0m\u001b[0mcom1_1\u001b[0m\u001b[0;34m,\u001b[0m\u001b[0mcom1_2\u001b[0m\u001b[0;34m)\u001b[0m\u001b[0;34m)\u001b[0m\u001b[0;34m\u001b[0m\u001b[0m\n\u001b[1;32m      5\u001b[0m \u001b[0;34m\u001b[0m\u001b[0m\n",
      "\u001b[0;31mNameError\u001b[0m: name 'com1_2' is not defined"
     ]
    }
   ],
   "source": [
    "print 'g-filter'\n",
    "print 'Star 1'\n",
    "print com1_1,com1_2\n",
    "print np.nanmean((com1_1,com1_2)), np.nanstd((com1_1,com1_2))\n",
    "\n",
    "print 'Star 2'\n",
    "print com2_1,com2_2\n",
    "print np.nanmean((com2_1,com2_2)), np.nanstd((com2_1,com2_2))\n",
    "\n",
    "print 'Star 3'\n",
    "print com3_1,com3_2\n",
    "print np.nanmean((com3_1,com3_2)), np.nanstd((com3_1,com3_2))"
   ]
  },
  {
   "cell_type": "code",
   "execution_count": 77,
   "metadata": {
    "scrolled": false
   },
   "outputs": [
    {
     "name": "stdout",
     "output_type": "stream",
     "text": [
      "12.843\n",
      "Frame nr.  0 /media/lynge/Lynge-Back-up/Calibration/21-10-17-P525-E/r/IMG2017292BRh017.fits\n",
      "40.0\n",
      "Frame nr.  1 /media/lynge/Lynge-Back-up/Calibration/21-10-17-P525-E/r/IMG2017292BRh018.fits\n",
      "40.0\n",
      "Frame nr.  2 /media/lynge/Lynge-Back-up/Calibration/21-10-17-P525-E/r/IMG2017292BRh021.fits\n",
      "40.0\n",
      "Frame nr.  3 /media/lynge/Lynge-Back-up/Calibration/21-10-17-P525-E/r/IMG2017292BRh022.fits\n",
      "40.0\n",
      "Frame nr.  4 /media/lynge/Lynge-Back-up/Calibration/21-10-17-P525-E/r/IMG2017292BRs019.fits\n",
      "20.0\n",
      "Frame nr.  5 /media/lynge/Lynge-Back-up/Calibration/21-10-17-P525-E/r/IMG2017292BRs020.fits\n",
      "20.0\n",
      "Frame nr.  6 /media/lynge/Lynge-Back-up/Calibration/21-10-17-P525-E/r/IMG2017292BRs023.fits\n",
      "20.0\n",
      "Frame nr.  7 /media/lynge/Lynge-Back-up/Calibration/21-10-17-P525-E/r/IMG2017292BRs024.fits\n",
      "20.0\n",
      "Frame nr.  0 /media/lynge/Lynge-Back-up/Calibration/21-10-17-AKN120/r/IMG2017292BRs141.fits\n",
      "45.0\n",
      "Frame nr.  1 /media/lynge/Lynge-Back-up/Calibration/21-10-17-AKN120/r/IMG2017292BRs142.fits\n",
      "45.0\n",
      "Frame nr.  2 /media/lynge/Lynge-Back-up/Calibration/21-10-17-AKN120/r/IMG2017292BRs143.fits\n",
      "45.0\n",
      "[ 5603.5625  5631.21    5691.22    5685.4025  5671.745   5692.54    5639.54\n",
      "  5698.745 ]\n",
      "[ 10238.28444444  10250.50444444  10289.04222222]\n",
      "0.0942586666667\n",
      "-0.0414853333333\n",
      "12.843 5664.245625 5664.245625\n",
      "[ 12.15880188  12.15750677  12.15343249]\n",
      "12.843\n",
      "Frame nr.  0 /media/lynge/Lynge-Back-up/Calibration/21-10-17-P525-E/r/IMG2017292BRh017.fits\n",
      "40.0\n",
      "Frame nr.  1 /media/lynge/Lynge-Back-up/Calibration/21-10-17-P525-E/r/IMG2017292BRh018.fits\n",
      "40.0\n",
      "Frame nr.  2 /media/lynge/Lynge-Back-up/Calibration/21-10-17-P525-E/r/IMG2017292BRh021.fits\n",
      "40.0\n",
      "Frame nr.  3 /media/lynge/Lynge-Back-up/Calibration/21-10-17-P525-E/r/IMG2017292BRh022.fits\n",
      "40.0\n",
      "Frame nr.  4 /media/lynge/Lynge-Back-up/Calibration/21-10-17-P525-E/r/IMG2017292BRs019.fits\n",
      "20.0\n",
      "Frame nr.  5 /media/lynge/Lynge-Back-up/Calibration/21-10-17-P525-E/r/IMG2017292BRs020.fits\n",
      "20.0\n",
      "Frame nr.  6 /media/lynge/Lynge-Back-up/Calibration/21-10-17-P525-E/r/IMG2017292BRs023.fits\n",
      "20.0\n",
      "Frame nr.  7 /media/lynge/Lynge-Back-up/Calibration/21-10-17-P525-E/r/IMG2017292BRs024.fits\n",
      "20.0\n",
      "Frame nr.  0 /media/lynge/Lynge-Back-up/Calibration/21-10-17-AKN120/r/IMG2017292BRs141.fits\n",
      "45.0\n",
      "Frame nr.  1 /media/lynge/Lynge-Back-up/Calibration/21-10-17-AKN120/r/IMG2017292BRs142.fits\n",
      "45.0\n",
      "Frame nr.  2 /media/lynge/Lynge-Back-up/Calibration/21-10-17-AKN120/r/IMG2017292BRs143.fits\n",
      "45.0\n",
      "[ 5603.5625  5631.21    5691.22    5685.4025  5671.745   5692.54    5639.54\n",
      "  5698.745 ]\n",
      "[ 33849.28888889  34012.62222222  33834.86666667]\n",
      "0.0942586666667\n",
      "-0.0414853333333\n",
      "12.843 5664.245625 5664.245625\n",
      "[ 10.86049599  10.85526957  10.86095869]\n",
      "12.843\n",
      "Frame nr.  0 /media/lynge/Lynge-Back-up/Calibration/21-10-17-P525-E/r/IMG2017292BRh017.fits\n",
      "40.0\n",
      "Frame nr.  1 /media/lynge/Lynge-Back-up/Calibration/21-10-17-P525-E/r/IMG2017292BRh018.fits\n",
      "40.0\n",
      "Frame nr.  2 /media/lynge/Lynge-Back-up/Calibration/21-10-17-P525-E/r/IMG2017292BRh021.fits\n",
      "40.0\n",
      "Frame nr.  3 /media/lynge/Lynge-Back-up/Calibration/21-10-17-P525-E/r/IMG2017292BRh022.fits\n",
      "40.0\n",
      "Frame nr.  4 /media/lynge/Lynge-Back-up/Calibration/21-10-17-P525-E/r/IMG2017292BRs019.fits\n",
      "20.0\n",
      "Frame nr.  5 /media/lynge/Lynge-Back-up/Calibration/21-10-17-P525-E/r/IMG2017292BRs020.fits\n",
      "20.0\n",
      "Frame nr.  6 /media/lynge/Lynge-Back-up/Calibration/21-10-17-P525-E/r/IMG2017292BRs023.fits\n",
      "20.0\n",
      "Frame nr.  7 /media/lynge/Lynge-Back-up/Calibration/21-10-17-P525-E/r/IMG2017292BRs024.fits\n",
      "20.0\n",
      "Frame nr.  0 /media/lynge/Lynge-Back-up/Calibration/21-10-17-AKN120/r/IMG2017292BRs141.fits\n",
      "45.0\n",
      "Frame nr.  1 /media/lynge/Lynge-Back-up/Calibration/21-10-17-AKN120/r/IMG2017292BRs142.fits\n",
      "45.0\n",
      "Frame nr.  2 /media/lynge/Lynge-Back-up/Calibration/21-10-17-AKN120/r/IMG2017292BRs143.fits\n",
      "45.0\n",
      "[ 5603.5625  5631.21    5691.22    5685.4025  5671.745   5692.54    5639.54\n",
      "  5698.745 ]\n",
      "[ 61972.84444444  63121.8         62567.4       ]\n",
      "0.0942586666667\n",
      "-0.0414853333333\n",
      "12.843 5664.245625 5664.245625\n",
      "[ 10.20386629  10.18392142  10.19349959]\n"
     ]
    }
   ],
   "source": [
    "com1_1 = findmag(QUASAR1_r,refsta1_r,sta1_RA_WORLD,sta1_DEC_WORLD,refsta1_RA,refsta1_DEC,mag_refsta1_r,k_r)\n",
    "com2_1 = findmag(QUASAR1_r,refsta1_r,sta2_RA_WORLD,sta2_DEC_WORLD,refsta1_RA,refsta1_DEC,mag_refsta1_r,k_r)\n",
    "com3_1 = findmag(QUASAR1_r,refsta1_r,sta3_RA_WORLD,sta3_DEC_WORLD,refsta1_RA,refsta1_DEC,mag_refsta1_r,k_r)\n",
    "\n",
    "#com1_2 = findmag(QUASAR2_r,refsta2_r,sta1_RA_WORLD,sta1_DEC_WORLD,refsta2_RA,refsta2_DEC,mag_refsta2_r,k_r)\n",
    "#com2_2 = findmag(QUASAR2_r,refsta2_r,sta2_RA_WORLD,sta2_DEC_WORLD,refsta2_RA,refsta2_DEC,mag_refsta2_r,k_r)\n",
    "#com3_2 = findmag(QUASAR2_r,refsta2_r,sta3_RA_WORLD,sta3_DEC_WORLD,refsta2_RA,refsta2_DEC,mag_refsta2_r,k_r)"
   ]
  },
  {
   "cell_type": "code",
   "execution_count": 20,
   "metadata": {
    "collapsed": true
   },
   "outputs": [
    {
     "name": "stdout",
     "output_type": "stream",
     "text": [
      "r-filter\n",
      "Star 1\n",
      "[ 12.81060995  12.80931484  12.80524056]"
     ]
    },
    {
     "ename": "NameError",
     "evalue": "name 'com1_2' is not defined",
     "output_type": "error",
     "traceback": [
      "\u001b[0;31m---------------------------------------------------------------------------\u001b[0m",
      "\u001b[0;31mNameError\u001b[0m                                 Traceback (most recent call last)",
      "\u001b[0;32m<ipython-input-20-2a2ab193a118>\u001b[0m in \u001b[0;36m<module>\u001b[0;34m()\u001b[0m\n\u001b[1;32m      1\u001b[0m \u001b[0;32mprint\u001b[0m \u001b[0;34m'r-filter'\u001b[0m\u001b[0;34m\u001b[0m\u001b[0m\n\u001b[1;32m      2\u001b[0m \u001b[0;32mprint\u001b[0m \u001b[0;34m'Star 1'\u001b[0m\u001b[0;34m\u001b[0m\u001b[0m\n\u001b[0;32m----> 3\u001b[0;31m \u001b[0;32mprint\u001b[0m \u001b[0mcom1_1\u001b[0m\u001b[0;34m,\u001b[0m\u001b[0mcom1_2\u001b[0m\u001b[0;34m\u001b[0m\u001b[0m\n\u001b[0m\u001b[1;32m      4\u001b[0m \u001b[0;32mprint\u001b[0m \u001b[0mnp\u001b[0m\u001b[0;34m.\u001b[0m\u001b[0mnanmean\u001b[0m\u001b[0;34m(\u001b[0m\u001b[0;34m(\u001b[0m\u001b[0mcom1_1\u001b[0m\u001b[0;34m,\u001b[0m\u001b[0mcom1_2\u001b[0m\u001b[0;34m)\u001b[0m\u001b[0;34m)\u001b[0m\u001b[0;34m,\u001b[0m \u001b[0mnp\u001b[0m\u001b[0;34m.\u001b[0m\u001b[0mnanstd\u001b[0m\u001b[0;34m(\u001b[0m\u001b[0;34m(\u001b[0m\u001b[0mcom1_1\u001b[0m\u001b[0;34m,\u001b[0m\u001b[0mcom1_2\u001b[0m\u001b[0;34m)\u001b[0m\u001b[0;34m)\u001b[0m\u001b[0;34m\u001b[0m\u001b[0m\n\u001b[1;32m      5\u001b[0m \u001b[0;34m\u001b[0m\u001b[0m\n",
      "\u001b[0;31mNameError\u001b[0m: name 'com1_2' is not defined"
     ]
    }
   ],
   "source": [
    "print 'r-filter'\n",
    "print 'Star 1'\n",
    "print com1_1,com1_2\n",
    "print np.nanmean((com1_1,com1_2)), np.nanstd((com1_1,com1_2))\n",
    "\n",
    "print 'Star 2'\n",
    "print com2_1,com2_2\n",
    "print np.nanmean((com2_1,com2_2)), np.nanstd((com2_1,com2_2))\n",
    "\n",
    "print 'Star 3'\n",
    "print com3_1,com3_2\n",
    "print np.nanmean((com3_1,com3_2)), np.nanstd((com3_1,com3_2))"
   ]
  },
  {
   "cell_type": "code",
   "execution_count": 78,
   "metadata": {
    "scrolled": true
   },
   "outputs": [
    {
     "name": "stdout",
     "output_type": "stream",
     "text": [
      "12.668\n",
      "Frame nr.  0 /media/lynge/Lynge-Back-up/Calibration/21-10-17-P525-E/i/IMG2017292ULh017.fits\n",
      "40.0\n",
      "Frame nr.  1 /media/lynge/Lynge-Back-up/Calibration/21-10-17-P525-E/i/IMG2017292ULh018.fits\n",
      "40.0\n",
      "Frame nr.  2 /media/lynge/Lynge-Back-up/Calibration/21-10-17-P525-E/i/IMG2017292ULh021.fits\n",
      "40.0\n",
      "Frame nr.  3 /media/lynge/Lynge-Back-up/Calibration/21-10-17-P525-E/i/IMG2017292ULh022.fits\n",
      "40.0\n",
      "Frame nr.  4 /media/lynge/Lynge-Back-up/Calibration/21-10-17-P525-E/i/IMG2017292ULs019.fits\n",
      "20.0\n",
      "Frame nr.  5 /media/lynge/Lynge-Back-up/Calibration/21-10-17-P525-E/i/IMG2017292ULs020.fits\n",
      "20.0\n",
      "Frame nr.  6 /media/lynge/Lynge-Back-up/Calibration/21-10-17-P525-E/i/IMG2017292ULs023.fits\n",
      "20.0\n",
      "Frame nr.  7 /media/lynge/Lynge-Back-up/Calibration/21-10-17-P525-E/i/IMG2017292ULs024.fits\n",
      "20.0\n",
      "Frame nr.  0 /media/lynge/Lynge-Back-up/Calibration/21-10-17-AKN120/i/IMG2017292ULs141.fits\n",
      "45.0\n",
      "Frame nr.  1 /media/lynge/Lynge-Back-up/Calibration/21-10-17-AKN120/i/IMG2017292ULs142.fits\n",
      "45.0\n",
      "Frame nr.  2 /media/lynge/Lynge-Back-up/Calibration/21-10-17-AKN120/i/IMG2017292ULs143.fits\n",
      "45.0\n",
      "[ 3724.8975  3765.22    3739.2225  3759.49    3802.1175  3771.369   3758.781\n",
      "  3795.0525]\n",
      "[ 8213.52666667  8256.22444444  8172.06      ]\n",
      "0.0235646666667\n",
      "-0.0103713333333\n",
      "12.668 3764.51875 3764.51875\n",
      "[ 11.81057815  11.8049486   11.81607346]\n",
      "12.668\n",
      "Frame nr.  0 /media/lynge/Lynge-Back-up/Calibration/21-10-17-P525-E/i/IMG2017292ULh017.fits\n",
      "40.0\n",
      "Frame nr.  1 /media/lynge/Lynge-Back-up/Calibration/21-10-17-P525-E/i/IMG2017292ULh018.fits\n",
      "40.0\n",
      "Frame nr.  2 /media/lynge/Lynge-Back-up/Calibration/21-10-17-P525-E/i/IMG2017292ULh021.fits\n",
      "40.0\n",
      "Frame nr.  3 /media/lynge/Lynge-Back-up/Calibration/21-10-17-P525-E/i/IMG2017292ULh022.fits\n",
      "40.0\n",
      "Frame nr.  4 /media/lynge/Lynge-Back-up/Calibration/21-10-17-P525-E/i/IMG2017292ULs019.fits\n",
      "20.0\n",
      "Frame nr.  5 /media/lynge/Lynge-Back-up/Calibration/21-10-17-P525-E/i/IMG2017292ULs020.fits\n",
      "20.0\n",
      "Frame nr.  6 /media/lynge/Lynge-Back-up/Calibration/21-10-17-P525-E/i/IMG2017292ULs023.fits\n",
      "20.0\n",
      "Frame nr.  7 /media/lynge/Lynge-Back-up/Calibration/21-10-17-P525-E/i/IMG2017292ULs024.fits\n",
      "20.0\n",
      "Frame nr.  0 /media/lynge/Lynge-Back-up/Calibration/21-10-17-AKN120/i/IMG2017292ULs141.fits\n",
      "45.0\n",
      "Frame nr.  1 /media/lynge/Lynge-Back-up/Calibration/21-10-17-AKN120/i/IMG2017292ULs142.fits\n",
      "45.0\n",
      "Frame nr.  2 /media/lynge/Lynge-Back-up/Calibration/21-10-17-AKN120/i/IMG2017292ULs143.fits\n",
      "45.0\n",
      "[ 3724.8975  3765.22    3739.2225  3759.49    3802.1175  3771.369   3758.781\n",
      "  3795.0525]\n",
      "[ 24752.95555556  24689.31111111  24654.64444444]\n",
      "0.0235646666667\n",
      "-0.0103713333333\n",
      "12.668 3764.51875 3764.51875\n",
      "[ 10.61283467  10.6156299   10.61715547]\n",
      "12.668\n",
      "Frame nr.  0 /media/lynge/Lynge-Back-up/Calibration/21-10-17-P525-E/i/IMG2017292ULh017.fits\n",
      "40.0\n",
      "Frame nr.  1 /media/lynge/Lynge-Back-up/Calibration/21-10-17-P525-E/i/IMG2017292ULh018.fits\n",
      "40.0\n",
      "Frame nr.  2 /media/lynge/Lynge-Back-up/Calibration/21-10-17-P525-E/i/IMG2017292ULh021.fits\n",
      "40.0\n",
      "Frame nr.  3 /media/lynge/Lynge-Back-up/Calibration/21-10-17-P525-E/i/IMG2017292ULh022.fits\n",
      "40.0\n",
      "Frame nr.  4 /media/lynge/Lynge-Back-up/Calibration/21-10-17-P525-E/i/IMG2017292ULs019.fits\n",
      "20.0\n",
      "Frame nr.  5 /media/lynge/Lynge-Back-up/Calibration/21-10-17-P525-E/i/IMG2017292ULs020.fits\n",
      "20.0\n",
      "Frame nr.  6 /media/lynge/Lynge-Back-up/Calibration/21-10-17-P525-E/i/IMG2017292ULs023.fits\n",
      "20.0\n",
      "Frame nr.  7 /media/lynge/Lynge-Back-up/Calibration/21-10-17-P525-E/i/IMG2017292ULs024.fits\n",
      "20.0\n",
      "Frame nr.  0 /media/lynge/Lynge-Back-up/Calibration/21-10-17-AKN120/i/IMG2017292ULs141.fits\n",
      "45.0\n",
      "Frame nr.  1 /media/lynge/Lynge-Back-up/Calibration/21-10-17-AKN120/i/IMG2017292ULs142.fits\n",
      "45.0\n",
      "Frame nr.  2 /media/lynge/Lynge-Back-up/Calibration/21-10-17-AKN120/i/IMG2017292ULs143.fits\n",
      "45.0\n",
      "[ 3724.8975  3765.22    3739.2225  3759.49    3802.1175  3771.369   3758.781\n",
      "  3795.0525]\n",
      "[ 45809.02222222  46063.28888889  45720.64444444]\n",
      "0.0235646666667\n",
      "-0.0103713333333\n",
      "12.668 3764.51875 3764.51875\n",
      "[ 9.94452477  9.93851497  9.94662147]\n"
     ]
    }
   ],
   "source": [
    "com1_1 = findmag(QUASAR1_i,refsta1_i,sta1_RA_WORLD,sta1_DEC_WORLD,refsta1_RA,refsta1_DEC,mag_refsta1_i,k_i)\n",
    "com2_1 = findmag(QUASAR1_i,refsta1_i,sta2_RA_WORLD,sta2_DEC_WORLD,refsta1_RA,refsta1_DEC,mag_refsta1_i,k_i)\n",
    "com3_1 = findmag(QUASAR1_i,refsta1_i,sta3_RA_WORLD,sta3_DEC_WORLD,refsta1_RA,refsta1_DEC,mag_refsta1_i,k_i)\n",
    "\n",
    "#com1_2 = findmag(QUASAR2_i,refsta2_i,sta1_RA_WORLD,sta1_DEC_WORLD,refsta2_RA,refsta2_DEC,mag_refsta2_i,k_i)\n",
    "#com2_2 = findmag(QUASAR2_i,refsta2_i,sta2_RA_WORLD,sta2_DEC_WORLD,refsta2_RA,refsta2_DEC,mag_refsta2_i,k_i)\n",
    "#com3_2 = findmag(QUASAR2_i,refsta2_i,sta3_RA_WORLD,sta3_DEC_WORLD,refsta2_RA,refsta2_DEC,mag_refsta2_i,k_i)"
   ]
  },
  {
   "cell_type": "code",
   "execution_count": null,
   "metadata": {
    "scrolled": true
   },
   "outputs": [],
   "source": [
    "print 'i-filter'\n",
    "print 'Star 1'\n",
    "print com1_1,com1_2\n",
    "print np.nanmean((com1_1,com1_2)), np.nanstd((com1_1,com1_2))\n",
    "\n",
    "print 'Star 2'\n",
    "print com2_1,com2_2\n",
    "print np.nanmean((com2_1,com2_2)), np.nanstd((com2_1,com2_2))\n",
    "\n",
    "print 'Star 3'\n",
    "print com3_1,com3_2\n",
    "print np.nanmean((com3_1,com3_2)), np.nanstd((com3_1,com3_2))"
   ]
  },
  {
   "cell_type": "code",
   "execution_count": null,
   "metadata": {
    "scrolled": true
   },
   "outputs": [],
   "source": [
    "com1_1 = findmag(QUASAR1_z,refsta1_z,sta1_RA_WORLD,sta1_DEC_WORLD,refsta1_RA,refsta1_DEC,mag_refsta1_z,k_z)\n",
    "com2_1 = findmag(QUASAR1_z,refsta1_z,sta2_RA_WORLD,sta2_DEC_WORLD,refsta1_RA,refsta1_DEC,mag_refsta1_z,k_z)\n",
    "com3_1 = findmag(QUASAR1_z,refsta1_z,sta3_RA_WORLD,sta3_DEC_WORLD,refsta1_RA,refsta1_DEC,mag_refsta1_z,k_z)\n",
    "\n",
    "#com1_2 = findmag(QUASAR2_z,refsta2_z,sta1_RA_WORLD,sta1_DEC_WORLD,refsta2_RA,refsta2_DEC,mag_refsta2_z,k_z)\n",
    "#com2_2 = findmag(QUASAR2_z,refsta2_z,sta2_RA_WORLD,sta2_DEC_WORLD,refsta2_RA,refsta2_DEC,mag_refsta2_z,k_z)\n",
    "#com3_2 = findmag(QUASAR2_z,refsta2_z,sta3_RA_WORLD,sta3_DEC_WORLD,refsta2_RA,refsta2_DEC,mag_refsta2_z,k_z)"
   ]
  },
  {
   "cell_type": "code",
   "execution_count": null,
   "metadata": {
    "scrolled": true
   },
   "outputs": [],
   "source": [
    "print 'z-filter'\n",
    "print 'Star 1'\n",
    "print com1_1,com1_2\n",
    "print np.nanmean((com1_1,com1_2)), np.nanstd((com1_1,com1_2))\n",
    "\n",
    "print 'Star 2'\n",
    "print com2_1,com2_2\n",
    "print np.nanmean((com2_1,com2_2)), np.nanstd((com2_1,com2_2))\n",
    "\n",
    "print 'Star 3'\n",
    "print com3_1,com3_2\n",
    "print np.nanmean((com3_1,com3_2)), np.nanstd((com3_1,com3_2))"
   ]
  },
  {
   "cell_type": "code",
   "execution_count": 39,
   "metadata": {},
   "outputs": [
    {
     "name": "stdout",
     "output_type": "stream",
     "text": [
      "-0.124938736608\n"
     ]
    }
   ],
   "source": [
    "print np.log10(3/4.)\n"
   ]
  },
  {
   "cell_type": "code",
   "execution_count": null,
   "metadata": {
    "collapsed": true
   },
   "outputs": [],
   "source": []
  }
 ],
 "metadata": {
  "kernelspec": {
   "display_name": "Python 2",
   "language": "python",
   "name": "python2"
  },
  "language_info": {
   "codemirror_mode": {
    "name": "ipython",
    "version": 2
   },
   "file_extension": ".py",
   "mimetype": "text/x-python",
   "name": "python",
   "nbconvert_exporter": "python",
   "pygments_lexer": "ipython2",
   "version": "2.7.13"
  }
 },
 "nbformat": 4,
 "nbformat_minor": 2
}
