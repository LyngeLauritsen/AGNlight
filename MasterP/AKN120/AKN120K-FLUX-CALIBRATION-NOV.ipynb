{
 "cells": [
  {
   "cell_type": "code",
   "execution_count": 29,
   "metadata": {
    "collapsed": true
   },
   "outputs": [],
   "source": [
    "import numpy as np\n",
    "import scipy as sp\n",
    "import matplotlib\n",
    "import matplotlib.pyplot as plt\n",
    "%matplotlib inline\n",
    "from matplotlib.colors import LogNorm\n",
    "import scipy.stats as stats\n",
    "from matplotlib import gridspec\n",
    "import aplpy as apl #The Astronomy Plotting Library for python\n",
    "import astropy\n",
    "from astropy.stats import sigma_clip\n",
    "from astropy.modeling import functional_models, models, fitting\n",
    "import astropy.units as U\n",
    "from astropy.coordinates import ICRS, Galactic, FK4, FK5, Angle, Latitude, Longitude\n",
    "import astropy.constants as C\n",
    "from astropy import wcs\n",
    "import astropy.io.fits as fits\n",
    "from astropy.io import ascii\n",
    "import astropy.coordinates as coord\n",
    "from astropy.coordinates import SkyCoord\n",
    "from astropy.stats import signal_to_noise_oir_ccd as SNRas\n",
    "#import spectral_cube as SC\n",
    "#from spectral_cube import SpectralCube as sc\n",
    "from astropy.wcs import WCS\n",
    "matplotlib.use('Agg')\n",
    "import matplotlib.cm as cm\n",
    "#import astrometry as ast\n",
    "import pyfits\n",
    "import requests\n",
    "import json\n",
    "import os\n",
    "from sklearn import datasets, linear_model\n",
    "from scipy.optimize import curve_fit\n",
    "import numpy.ma as ma\n",
    "from astropy.table import Table, Column\n",
    "import pyextract\n",
    "import sewpy\n",
    "import pandas as pd\n",
    "from astropy import units as u\n",
    "#import alipy"
   ]
  },
  {
   "cell_type": "code",
   "execution_count": 30,
   "metadata": {
    "collapsed": false
   },
   "outputs": [
    {
     "name": "stdout",
     "output_type": "stream",
     "text": [
      "79.0475291667\n"
     ]
    }
   ],
   "source": [
    "quasJ = [os.path.join('/media/lynge/Lynge-Back-up/AKN120/AKN120K/',f) \\\n",
    "        for f in os.listdir('/media/lynge/Lynge-Back-up/AKN120/AKN120K/')]\n",
    "\n",
    "qua1_RA_WORLD = SkyCoord('05:16:11.407 -00:08:59.22', unit=(u.hourangle, u.deg)).ra.degree\n",
    "qua1_DEC_WORLD = SkyCoord('05:16:11.407 -00:08:59.22', unit=(u.hourangle, u.deg)).dec.degree\n",
    "\n",
    "print qua1_RA_WORLD\n",
    "\n",
    "sta1_RA_WORLD = SkyCoord('05:16:13.947 -00:09:03.19', unit=(u.hourangle, u.deg)).ra.degree #UCAC3 86-422902\n",
    "sta1_DEC_WORLD = SkyCoord('05:16:13.947 -00:09:03.19', unit=(u.hourangle, u.deg)).dec.degree\n",
    "\n",
    "sta2_RA_WORLD = SkyCoord('05:16:26.243 -00:09:04.79', unit=(u.hourangle, u.deg)).ra.degree #TYC 8438-1960-1\n",
    "sta2_DEC_WORLD = SkyCoord('05:16:26.243 -00:09:04.79', unit=(u.hourangle, u.deg)).dec.degree\n",
    "\n",
    "sta3_RA_WORLD = SkyCoord('05:16:19.315 -00:13:35.68', unit=(u.hourangle, u.deg)).ra.degree #TYC 8438-1960-1\n",
    "sta3_DEC_WORLD = SkyCoord('05:16:19.315 -00:13:35.68', unit=(u.hourangle, u.deg)).dec.degree\n",
    "\n",
    "sky1_RA_WORLD = SkyCoord('05:16:11 -00:09:35', unit=(u.hourangle, u.deg)).ra.degree #Random patch of sky\n",
    "sky1_DEC_WORLD = SkyCoord('05:16:11 -00:09:35', unit=(u.hourangle, u.deg)).dec.degree\n",
    "\n",
    "sky2_RA_WORLD = SkyCoord('05:16:12 -00:08:25', unit=(u.hourangle, u.deg)).ra.degree #Random patch of sky\n",
    "sky2_DEC_WORLD = SkyCoord('05:16:12 -00:08:25', unit=(u.hourangle, u.deg)).dec.degree\n",
    "\n",
    "sky3_RA_WORLD = SkyCoord('05:16:09 -00:08:49', unit=(u.hourangle, u.deg)).ra.degree #Random patch of sky\n",
    "sky3_DEC_WORLD = SkyCoord('05:16:09 -00:08:49', unit=(u.hourangle, u.deg)).dec.degree\n",
    "\n",
    "MAG_STA1_J = 10.410\n",
    "MAG_STA1_H = 9.922\n",
    "MAG_STA1_K = 9.772\n",
    "\n",
    "MAG_STA2_J = 9.303\n",
    "MAG_STA2_H = 8.842\n",
    "MAG_STA2_K = 8.734\n",
    "\n",
    "MAG_STA3_J = 8.616 #12.068\n",
    "MAG_STA3_H = 8.171 #11.855\n",
    "MAG_STA3_K = 8.018 #11.796\n",
    "\n",
    "MAG_err_STA1_J = 0.022\n",
    "MAG_err_STA1_H = 0.025\n",
    "MAG_err_STA1_K = 0.021\n",
    "\n",
    "MAG_err_STA2_J = 0.021\n",
    "MAG_err_STA2_H = 0.057\n",
    "MAG_err_STA2_K = 0.025\n",
    "\n",
    "MAG_err_STA3_J = 0.024\n",
    "MAG_err_STA3_H = 0.038\n",
    "MAG_err_STA3_K = 0.020\n",
    "\n",
    "MAG_VEGA_B = 0.03\n",
    "MAG_VEGA_V = 0.03\n",
    "MAG_VEGA_G = 0.03\n",
    "MAG_VEGA_J = -0.18\n",
    "MAG_VEGA_H = -0.03\n",
    "MAG_VEGA_K = 0.13\n",
    "\n",
    "MAG_VEGA_g = -0.08\n",
    "MAG_VEGA_r = 0.16\n",
    "MAG_VEGA_i = 0.37\n",
    "MAG_VEGA_z = 0.54\n",
    "\n",
    "FLUX_LAMBDA_VEGA_B = 632*10**(-11) #erg/cm**2/s/A\n",
    "FLUX_LAMBDA_VEGA_V = 363.1*10**(-11)\n",
    "FLUX_LAMBDA_VEGA_G = float('nan')\n",
    "FLUX_LAMBDA_VEGA_J = 31.47*10**(-11)\n",
    "FLUX_LAMBDA_VEGA_H = 11.38*10**(-11)\n",
    "FLUX_LAMBDA_VEGA_K = 3.961*10**(-11)\n",
    "\n",
    "FLUX_LAMBDA_VEGA_g = 466.9*10**(-11) #erg/cm**2/s/A\n",
    "FLUX_LAMBDA_VEGA_r = 278.0*10**(-11)\n",
    "FLUX_LAMBDA_VEGA_i = 185.2*10**(-11)\n",
    "FLUX_LAMBDA_VEGA_z = 131.5*10**(-11)\n",
    "\n",
    "\n",
    "FLUX_V_VEGA_B = 4.063*10**(-20) #erg/cm**2/s/Hz\n",
    "FLUX_V_VEGA_V = 3.636*10**(-20)\n",
    "FLUX_V_VEGA_G = float('nan')\n",
    "FLUX_V_VEGA_J = 1.589*10**(-20)\n",
    "FLUX_V_VEGA_H = 1.021*10**(-20)\n",
    "FLUX_V_VEGA_K = 0.64*10**(-20)\n",
    "\n",
    "FLUX_V_VEGA_g = 3.631*10**(-20) #erg/cm**2/s/Hz\n",
    "FLUX_V_VEGA_r = 3.631*10**(-20)\n",
    "FLUX_V_VEGA_i = 3.631*10**(-20)\n",
    "FLUX_V_VEGA_z = 3.631*10**(-20)\n"
   ]
  },
  {
   "cell_type": "code",
   "execution_count": 31,
   "metadata": {
    "collapsed": true
   },
   "outputs": [],
   "source": [
    "def dist(mid,end):\n",
    "    return np.sqrt((mid[0] - end[0])**2 + (mid[1] - end[1])**2)"
   ]
  },
  {
   "cell_type": "code",
   "execution_count": 32,
   "metadata": {
    "collapsed": true
   },
   "outputs": [],
   "source": [
    "def flux_cal(A_mag,B_mag,B_flux):\n",
    "    '''Flux of A found through magnitude and flux of B'''\n",
    "    return B_flux*10**((B_mag-A_mag)/2.5)"
   ]
  },
  {
   "cell_type": "code",
   "execution_count": 33,
   "metadata": {
    "collapsed": true
   },
   "outputs": [],
   "source": [
    "def Basic(quasar,header):\n",
    "    '''Provides a basic list of neccesities from the fits header file for use in the later \\\n",
    "    flux determination, it does not serve an individual purpose beyound that'''\n",
    "    AGNdata = quasar #np.rot90(np.rot90(np.fliplr(quasar)))\n",
    "    #header = data[0].header\n",
    "    #print header\n",
    "    RAstd = header['CRVAL1']\n",
    "    DECstd = header['CRVAL2']\n",
    "    #print RAstd, DECstd\n",
    "    pixspa = header['PIXSCALE']/(3600.)\n",
    "    #print pixspa\n",
    "    RAstdpix = header['CRPIX1']\n",
    "    DECstdpix = header['CRPIX2']\n",
    "    exptime = 10 # header['EXPTIME']\n",
    "    return header,AGNdata,RAstd,DECstd,pixspa,RAstdpix,DECstdpix,exptime"
   ]
  },
  {
   "cell_type": "code",
   "execution_count": 34,
   "metadata": {
    "collapsed": true
   },
   "outputs": [],
   "source": [
    "def curve(quasar,header,w,center,apparature):\n",
    "    '''Determines the FLUX of the stellar object given the the numpy array of the image, \\\n",
    "    the header of the fits file, the astropy coordinate representation, \\\n",
    "    the object position and the apparature of interest'''\n",
    "    header,AGNdata,RAstd,DECstd,pixspa,RAstdpix,DECstdpix,exptime = Basic(quasar,header)\n",
    "    #AGNdata = np.swapaxes(AGNdata,0,1)\n",
    "    y, x = np.ogrid[0:header['NAXIS1'],0:header['NAXIS1']]\n",
    "    #w = np.swapaxes(w,0,1)\n",
    "    #F_AGN = np.zeros((512,512,3)) #((int(2*apparature/pixspa)+1,int(2*apparature/pixspa)+1,3))\n",
    "    #print center\n",
    "    x1 = w.all_world2pix(center[0],center[1],0)\n",
    "    x1,y1 = (x1[0]),(x1[1])\n",
    "    if 15 < x1 < header['NAXIS1'] - 15 and 15 < y1 < header['NAXIS2'] - 15:\n",
    "        try:\n",
    "            mask = ((y-y1)**2 + (x-x1)**2) > (apparature/float(pixspa))**2\n",
    "            AGNdata[mask] = float(0)\n",
    "            mask = AGNdata == 0.\n",
    "            rows = np.flatnonzero((~mask).sum(axis=1))\n",
    "            cols = np.flatnonzero((~mask).sum(axis=0))\n",
    "            AGNdata = AGNdata[rows.min():rows.max()+1, cols.min():cols.max()+1]\n",
    "            #print apparature/float(pixspa)\n",
    "        except:\n",
    "            AGNdata = np.array([[float('nan'),float('nan')],[float('nan'),float('nan')]])\n",
    "    else:\n",
    "        AGNdata = np.array([[float('nan'),float('nan')],[float('nan'),float('nan')]])\n",
    "    #if np.sum(AGNdata) < 500:\n",
    "    #    AGNdata = np.array([[float('nan'),float('nan')],[float('nan'),float('nan')]])\n",
    "    return AGNdata, x1, y1\n"
   ]
  },
  {
   "cell_type": "code",
   "execution_count": 35,
   "metadata": {
    "collapsed": true
   },
   "outputs": [],
   "source": [
    "def comp1(qua,sta):\n",
    "    '''Code to determine the relation between the AGN and the Stellar flux as determined by either me \\\n",
    "    or by the SExtractor program respectively'''\n",
    "    comp = qua/sta\n",
    "    return comp"
   ]
  },
  {
   "cell_type": "code",
   "execution_count": 36,
   "metadata": {
    "collapsed": true
   },
   "outputs": [],
   "source": [
    "def SXtable(quas,aperture):\n",
    "    header = pyfits.getheader(quas)\n",
    "    phot_app = aperture*3600/header['PIXSCALE']\n",
    "    np.set_printoptions(threshold=np.inf)\n",
    "    sew = sewpy.SEW(params=['XMODEL_WORLD', 'YMODEL_WORLD', 'X2MODEL_WORLD', 'Y2MODEL_WORLD', \n",
    "                            'XMODEL_IMAGE', 'YMODEL_IMAGE', 'FLUX_RADIUS(1)', 'FLUX_APER','ELLIPTICITY'],\n",
    "                    config={\"DETECT_THRESH\":5, 'DETECT_MINAREA':5, 'DETECT_MAXAREA':10000, \n",
    "                            \"PHOT_FLUXFRAC\":\"0.5\", 'PHOT_APERTURES':2*phot_app, \n",
    "                            'PIXEL_SCALE':header['PIXSCALE']}\n",
    "                    , sexpath='/usr/bin/sextractor')\n",
    "    out = sew(quas)\n",
    "    return out"
   ]
  },
  {
   "cell_type": "code",
   "execution_count": 37,
   "metadata": {
    "collapsed": true
   },
   "outputs": [],
   "source": [
    "def flux(quas,aperture,main_RA_WORLD,main_DEC_WORLD):\n",
    "    header = pyfits.getheader(quas)\n",
    "    RAmain = WCS(quas).all_world2pix(main_RA_WORLD,main_DEC_WORLD,1)[0]\n",
    "    DECmain = WCS(quas).all_world2pix(main_RA_WORLD,main_DEC_WORLD,1)[1]\n",
    "    output = float('nan')\n",
    "    if 15 < RAmain < header['NAXIS1'] - 15 and 15 < DECmain < header['NAXIS2'] - 15: \n",
    "        out = SXtable(quas,aperture)\n",
    "        RAmain = WCS(quas).all_world2pix(main_RA_WORLD,main_DEC_WORLD,0)[0]\n",
    "        DECmain = WCS(quas).all_world2pix(main_RA_WORLD,main_DEC_WORLD,0)[1]\n",
    "        #print out['table']['XMODEL_IMAGE'], out['table']['YMODEL_IMAGE']\n",
    "        #print RAmain, DECmain\n",
    "\n",
    "        for j in range(len(out['table']['XMODEL_IMAGE'])):\n",
    "            #output['time'][i] = header['MJD-OBS']\n",
    "            if RAmain - 5. < out['table']['XMODEL_IMAGE'][j] <  RAmain + 5. and \\\n",
    "            DECmain - 5. < out['table']['YMODEL_IMAGE'][j] < DECmain + 5.:\n",
    "                #print 'YES'\n",
    "                output = out['table']['FLUX_APER'][j]\n",
    "                break\n",
    "    else:\n",
    "        output = float('nan')\n",
    "        #print 'Done'\n",
    "    return output\n"
   ]
  },
  {
   "cell_type": "code",
   "execution_count": 38,
   "metadata": {
    "collapsed": true
   },
   "outputs": [],
   "source": [
    "def SNR(data1,data2,header,ap1,ap2):\n",
    "    npix1 = np.pi*ap1**2/((header['PIXSCALE']/3600.)**2)\n",
    "    npix2 = np.pi*ap2**2/((header['PIXSCALE']/3600.)**2)\n",
    "    #data2_1 = ((data2-data1)/npix2)*npix1\n",
    "    data1_2 = data1\n",
    "    data2_2 = abs(data2)\n",
    "    \n",
    "    return float(header['GAIN'])*data1_2*header['DIT']*header['NDIT']/(np.sqrt\n",
    "                                                        (float(header['GAIN'])*data1_2*header['DIT']*header['NDIT'] \n",
    "                                                         + float(header['GAIN'])*npix1*data2_2*header['DIT']\n",
    "                                                         *header['NDIT']\n",
    "                                                         +header['NDIT']*npix1*header['RON']**2))\n",
    "\n",
    "def SNR11(data1,data2,header,ap1,ap2):\n",
    "    npix1 = np.pi*ap1**2/((header['PIXSCALE']/3600.)**2)\n",
    "    npix2 = np.pi*ap2**2/((header['PIXSCALE']/3600.)**2)\n",
    "    #data2_1 = ((data2-data1)/npix2)*npix1\n",
    "    data1_2 = data1\n",
    "    data2_2 = abs(data2)\n",
    "    \n",
    "    return float(((header['GAIN'])*data1_2*header['DIT']*header['NDIT']))\n",
    "\n",
    "def SNR22(data1,data2,header,ap1,ap2):\n",
    "    npix1 = np.pi*ap1**2/((header['PIXSCALE']/3600.)**2)\n",
    "    npix2 = np.pi*ap2**2/((header['PIXSCALE']/3600.)**2)\n",
    "    #data2_1 = ((data2-data1)/npix2)*npix1\n",
    "    data1_2 = data1\n",
    "    data2_2 = abs(data2)\n",
    "    \n",
    "    return float(header['GAIN']*npix1*data2_2*header['DIT']*header['NDIT'])\n",
    "\n",
    "def SNR33(data1,data2,header,ap1,ap2):\n",
    "    npix1 = np.pi*ap1**2/((header['PIXSCALE']/3600.)**2)\n",
    "    npix2 = np.pi*ap2**2/((header['PIXSCALE']/3600.)**2)\n",
    "    #data2_1 = ((data2-data1)/npix2)*npix1\n",
    "    data1_2 = data1\n",
    "    data2_2 = abs(data2)\n",
    "    \n",
    "    return float((header['NDIT']*npix1*header['RON']**2))\n",
    "\n",
    "def SNR44(data1,data2,header,ap1,ap2):\n",
    "    npix1 = np.pi*ap1**2/((header['PIXSCALE']/3600.)**2)\n",
    "    npix2 = np.pi*ap2**2/((header['PIXSCALE']/3600.)**2)\n",
    "    #data2_1 = ((data2-data1)/npix2)*npix1\n",
    "    data1_2 = data1\n",
    "    data2_2 = abs(data2)\n",
    "    \n",
    "    return float(((header['GAIN'])*data1_2*header['DIT']*header['NDIT'] + \n",
    "                  header['GAIN']*npix1*data2_2*header['DIT']*header['NDIT'] +\n",
    "                  header['NDIT']*npix1*header['RON']**2))\n",
    "\n",
    "#SNRas(10.,data1_2,abs(data2_2),0,header['RON'],npix1,gain=header['GAIN'])"
   ]
  },
  {
   "cell_type": "code",
   "execution_count": 39,
   "metadata": {
    "collapsed": true
   },
   "outputs": [],
   "source": [
    "for i in range(len(quasJ)):\n",
    "    data, header = fits.getdata(quasJ[i],header=True) #RA---TAN\n",
    "    #print header['CTYPE2']\n",
    "    #header['CTYPE1'] = \"RA---TAN\"\n",
    "    #header['CTYPE2'] = \"DEC--TAN\"\n",
    "    header['NDIT'] = 5\n",
    "    '''header['A_ORDER'] = \"0\"\n",
    "    header['B_ORDER'] = \"0\"\n",
    "    header['AP_ORDER'] = \"0\"\n",
    "    header['BP_ORDER'] = \"0\"\n",
    "    header['A_0_2'] = \"0\"\n",
    "    header['A_1_1'] = \"0\"\n",
    "    header['A_2_0'] = \"0\"\n",
    "    header['B_0_2'] = \"0\"\n",
    "    header['B_1_1'] = \"0\"\n",
    "    header['B_2_0'] = \"0\"\n",
    "    header['AP_0_2'] = \"0\"\n",
    "    header['AP_1_1'] = \"0\"\n",
    "    header['AP_2_0'] = \"0\"\n",
    "    header['AP_0_1'] = \"0\"\n",
    "    header['AP_1_0'] = \"0\"\n",
    "    header['BP_0_1'] = \"0\"\n",
    "    header['BP_0_2'] = \"0\"\n",
    "    header['BP_1_0'] = \"0\"\n",
    "    header['BP_1_1'] = \"0\"\n",
    "    header['BP_2_0'] = \"0\"'''\n",
    "    fits.writeto(quasJ[i],data,header,clobber=True)\n",
    "    #print fits.getheader(quasH[i])['A_ORDER']"
   ]
  },
  {
   "cell_type": "code",
   "execution_count": 40,
   "metadata": {
    "collapsed": true
   },
   "outputs": [],
   "source": [
    "def error(SIGNAL_AGN,SIGNAL_STAR,SNR_AGN,SNR_STAR,STAR_MAG,STAR_MAG_err,VEGA_FLUX,VEGA_MAG):\n",
    "    \n",
    "    SIGNAL_ERR = abs(SIGNAL_AGN/SIGNAL_STAR)*np.sqrt(SNR_AGN**(-2) + SNR_STAR**(-2))\n",
    "    \n",
    "    FLUX_CAL_ERR = STAR_MAG_err\n",
    "    \n",
    "    SIGNAL = VEGA_FLUX*10**((VEGA_MAG-STAR_MAG)/2.5)\n",
    "    \n",
    "    FLUX_CAL = abs(SIGNAL_AGN/SIGNAL_STAR)*VEGA_FLUX*((np.log(10)/2.5)*10**((VEGA_MAG - STAR_MAG)/2.5))\n",
    "    \n",
    "    return np.sqrt((SIGNAL**2*SIGNAL_ERR**2 + FLUX_CAL**2*FLUX_CAL_ERR**2))"
   ]
  },
  {
   "cell_type": "code",
   "execution_count": 41,
   "metadata": {
    "collapsed": true
   },
   "outputs": [],
   "source": [
    "def SEXAGNflux(quas,aperture1):\n",
    "    aperture2 = aperture1 + 0.003\n",
    "    date = []\n",
    "    flucompsta1 = []\n",
    "    flucompsta2 = []\n",
    "    flucompsta3 = []\n",
    "    flucompsta4 = []\n",
    "    flucompsta5 = []\n",
    "    flucompsta6 = []\n",
    "    flucompsta7 = []\n",
    "    poissonAGN = []\n",
    "    poisson529 = []\n",
    "    poisson22 = []\n",
    "    poissonHD = []\n",
    "    ABS_FLUX_LAMBDA_1 = 0\n",
    "    ABS_FLUX_LAMBDA_2 = 0\n",
    "    ABS_FLUX_LAMBDA_3 = 0\n",
    "    ABS_FLUX_V_1 = 0\n",
    "    ABS_FLUX_V_2 = 0\n",
    "    ABS_FLUX_V_3 = 0\n",
    "    SNR_comp = []\n",
    "    comp_array = np.zeros((len(quas),6))\n",
    "    SNR_array = np.zeros((len(quas),8))\n",
    "    SNR_part = np.zeros((len(quas),5))\n",
    "    SNR_star = np.zeros((len(quas),4))\n",
    "    noise_quasar = np.zeros((len(quas),4))\n",
    "    signal = np.zeros((len(quas),4))\n",
    "    #-----------------------------------------------------------------------------------------------\n",
    "    for i in range(len(quas)):\n",
    "        print 'Frame nr. ', i, quas[i]\n",
    "        header = pyfits.getheader(quas[i])\n",
    "        a_AGN = flux(quas[i],2*aperture1,qua1_RA_WORLD,qua1_DEC_WORLD)/header['DIT']\n",
    "        a2 = flux(quas[i],2*aperture1,sta1_RA_WORLD,sta1_DEC_WORLD)/header['DIT']\n",
    "        a3 = flux(quas[i],2*aperture1,sta2_RA_WORLD,sta2_DEC_WORLD)/header['DIT']\n",
    "        a4 = flux(quas[i],2*aperture1,sta3_RA_WORLD,sta3_DEC_WORLD)/header['DIT']\n",
    "        a_sky1 = curve(pyfits.getdata(quas[i]),pyfits.getheader(quas[i]),WCS(quas[i]),\n",
    "                   (sky1_RA_WORLD,sky1_DEC_WORLD),aperture1)[0]/header['DIT']\n",
    "        a_sky2 = curve(pyfits.getdata(quas[i]),pyfits.getheader(quas[i]),WCS(quas[i]),\n",
    "                   (sky2_RA_WORLD,sky2_DEC_WORLD),aperture1)[0]/header['DIT']\n",
    "        a_sky3 = curve(pyfits.getdata(quas[i]),pyfits.getheader(quas[i]),WCS(quas[i]),\n",
    "                   (sky3_RA_WORLD,sky3_DEC_WORLD),aperture1)[0]/header['DIT']\n",
    "        #a_AGN_1 = flux(quas[i],2*aperture2,qua1_RA_WORLD,qua1_DEC_WORLD)/header['DIT']\n",
    "        #a2_1 = flux(quas[i],2*aperture2,sta1_RA_WORLD,sta1_DEC_WORLD)/header['DIT']\n",
    "        #a3_1 = flux(quas[i],2*aperture2,sta2_RA_WORLD,sta2_DEC_WORLD)/header['DIT']\n",
    "        #a4_1 = flux(quas[i],2*aperture2,sta3_RA_WORLD,sta3_DEC_WORLD)/header['DIT']\n",
    "        signal[i,0] = a_AGN\n",
    "        signal[i,1] = a2\n",
    "        signal[i,2] = a3\n",
    "        signal[i,3] = a4\n",
    "        #-------------------------------------------------------------------------------------------\n",
    "        #plt.figure(figsize=(3,3))\n",
    "        #plt.imshow(a2)\n",
    "        #plt.show()\n",
    "        #-------------------------------------------------------------------------------------------\n",
    "        a_AGN_pix = np.pi*(aperture1)**2/((header['PIXSCALE']/3600.)**2)\n",
    "        a2_pix = np.pi*(aperture1)**2/((header['PIXSCALE']/3600.)**2)\n",
    "        a3_pix = np.pi*(aperture1)**2/((header['PIXSCALE']/3600.)**2)\n",
    "        a4_pix = np.pi*(aperture1)**2/((header['PIXSCALE']/3600.)**2)\n",
    "        a_sky_pix = np.count_nonzero(a_sky1)\n",
    "        a_sky_2 = np.sum(a_sky1)/float(np.count_nonzero(a_sky1))\n",
    "        a_sky = np.concatenate((a_sky1.ravel(),a_sky2.ravel(),a_sky3.ravel()),axis=0)\n",
    "        a_sky_var = np.nanvar(a_sky)\n",
    "        print a_sky_2,a_sky_var\n",
    "        #a_AGN_pix_1 = np.pi*(2*aperture2)**2/((header['PIXSCALE']/3600.)**2)\n",
    "        #a2_pix_1 = np.pi*(aperture2)**2/((header['PIXSCALE']/3600.)**2)\n",
    "        #a3_pix_1 = np.pi*(aperture2)**2/((header['PIXSCALE']/3600.)**2)\n",
    "        #a4_pix_1 = np.pi*(aperture2)**2/((header['PIXSCALE']/3600.)**2)\n",
    "        #a_AGN_2 = (np.sum(a_AGN_1) - np.sum(a_AGN))/(float(np.count_nonzero(a_AGN_1)) - float(np.count_nonzero(a_AGN)))\n",
    "        #a2_2 = (np.sum(a2_1) - np.sum(a2))/(float(np.count_nonzero(a2_1)) - float(np.count_nonzero(a2)))\n",
    "        #a3_2 = (np.sum(a3_1) - np.sum(a3))/(float(np.count_nonzero(a3_1)) - float(np.count_nonzero(a3)))\n",
    "        #a4_2 = (np.sum(a4_1) - np.sum(a4))/(float(np.count_nonzero(a4_1)) - float(np.count_nonzero(a4)))\n",
    "        a_AGN_3 = a_AGN/a_AGN_pix #- (a_AGN_1 - a_AGN)/(a_AGN_pix_1 - a_AGN_pix) #Background subtracted flux/pixel/sec\n",
    "        a2_3 = a2/a2_pix #- (a2_1 - a2)/(a2_pix_1 - a2_pix)\n",
    "        a3_3 = a3/a3_pix #- (a3_1 - a3)/(a3_pix_1 - a3_pix)\n",
    "        a4_3 = a4/a4_pix #- (a4_1 - a4)/(a4_pix_1 - a4_pix)\n",
    "        #-------------------------------------------------------------------------------------------\n",
    "        date.append(header['MJD-OBS'])\n",
    "        #-------------------------------------------------------------------------------------------\n",
    "        poissonAGN.append(np.sqrt(np.sum(a_AGN)*header['DIT']*header['GAIN'])) #header['DIT']))\n",
    "        poissonHD.append(np.sqrt(np.sum(a2)*header['DIT']*header['GAIN'])) #header['DIT']))\n",
    "        poisson22.append(np.sqrt(np.sum(a3)*header['DIT']*header['GAIN'])) #header['DIT']))\n",
    "        poisson529.append(np.sqrt(np.sum(a4)*header['DIT']*header['GAIN'])) #header['DIT']))\n",
    "        #-------------------------------------------------------------------------------------------\n",
    "        #if SNR1[i] < 70:\n",
    "        #    flucompsta_AGN.append(float('nan'))\n",
    "        #    flucompsta2.append(float('nan'))\n",
    "        #    flucompsta3.append(float('nan'))\n",
    "        #    flucompsta4.append(float('nan'))\n",
    "        #    flucompsta6.append(float('nan'))\n",
    "        #    comp_array[i,0] = int(date[i])\n",
    "        #    comp_array[i,1] = float('nan')\n",
    "        #    comp_array[i,2] = float('nan')\n",
    "        #    comp_array[i,3] = float('nan')\n",
    "        #else:\n",
    "        flucompsta1.append(comp1(a_AGN_3,a2_3))\n",
    "        flucompsta2.append(comp1(a_AGN_3,a3_3))\n",
    "        flucompsta3.append(comp1(a_AGN_3,a4_3))\n",
    "        SNR1 = SNR(a_AGN,np.sum(a_sky_var),header,aperture1,aperture1)\n",
    "        #flucompsta4.append(comp1(a_AGN_3,a5_3))\n",
    "        #flucompsta5.append(comp1(a_AGN_3,a6_3))\n",
    "        #flucompsta6.append(comp1(a_AGN_3,a7_3))\n",
    "        comp_array[i,0] = int(date[i])\n",
    "        comp_array[i,1] = flucompsta1[i]\n",
    "        comp_array[i,2] = flucompsta2[i]\n",
    "        comp_array[i,3] = flucompsta3[i]\n",
    "        comp_array[i,4] = SNR1\n",
    "        comp_array[i,5] = a_AGN\n",
    "        #comp_array[i,5] = flucompsta5[i]\n",
    "        #comp_array[i,6] = flucompsta6[i]\n",
    "        print a_AGN, a2, a3, a4\n",
    "        SNR_part[i,0] = date[i]\n",
    "        SNR_part[i,1] = SNR(a_AGN,np.sum(a_sky),header,aperture1,aperture1)\n",
    "        SNR_part[i,2] = SNR11(a_AGN,np.sum(a_sky),header,aperture1,aperture1)\\\n",
    "        /SNR44(a_AGN,np.sum(a_sky),header,aperture1,aperture1)\n",
    "        SNR_part[i,3] = SNR22(a_AGN,np.sum(a_sky),header,aperture1,aperture1)\\\n",
    "        /SNR44(a_AGN,np.sum(a_sky),header,aperture1,aperture1)\n",
    "        SNR_part[i,4] = SNR33(a_AGN,np.sum(a_sky),header,aperture1,aperture1)\\\n",
    "        /SNR44(a_AGN,np.sum(a_sky),header,aperture1,aperture1)\n",
    "        SNR_star[i,0] = header['MJD-OBS']\n",
    "        SNR_star[i,1] = SNR(a2,np.sum(a_sky_var),header,aperture1,aperture1)\n",
    "        SNR_star[i,2] = SNR(a3,np.sum(a_sky_var),header,aperture1,aperture1)\n",
    "        SNR_star[i,3] = SNR(a4,np.sum(a_sky_var),header,aperture1,aperture1)\n",
    "        noise_quasar[i,0] = header['MJD-OBS']\n",
    "        noise_quasar[i,1] = float('nan')\n",
    "        noise_quasar[i,2] = float('nan')\n",
    "        noise_quasar[i,3] = float('nan')\n",
    "        #SNR_array[i,0] = int(date[i])\n",
    "        #SNR_array[i,1] = SNR(a_AGN,a_sky,header,aperture1,aperture1)\n",
    "        #SNR_array[i,2] = SNR(a2,a_sky,header,aperture1,aperture1)\n",
    "        #SNR_array[i,3] = SNR(a3,a_sky,header,aperture1,aperture1)\n",
    "        #SNR_array[i,4] = SNR(a4,a_sky,header,aperture1,aperture1)\n",
    "        #SNR_array[i,5] = SNR(a5,a_sky,header,aperture1,aperture1)\n",
    "        #SNR_array[i,6] = SNR(a6,a_sky,header,aperture1,aperture1)\n",
    "        #SNR_array[i,7] = SNR(a7,a_sky,header,aperture1,aperture1)\n",
    "    #print 'YES'\n",
    "    #-----------------------------------------------------------------------------------------------\n",
    "    poissonAGN = np.array(poissonAGN)\n",
    "    poissonHD = np.array(poissonHD)\n",
    "    poisson22 = np.array(poisson22)\n",
    "    poisson529 = np.array(poisson529)\n",
    "    comp_array = comp_array[comp_array[:,0].argsort()]\n",
    "    \n",
    "    comp_array[:,1] = comp_array[:,1]*flux_cal(MAG_STA1_K,MAG_VEGA_K,FLUX_LAMBDA_VEGA_K)\n",
    "    comp_array[:,2] = comp_array[:,2]*flux_cal(MAG_STA2_K,MAG_VEGA_K,FLUX_LAMBDA_VEGA_K)\n",
    "    comp_array[:,3] = comp_array[:,3]*flux_cal(MAG_STA3_K,MAG_VEGA_K,FLUX_LAMBDA_VEGA_K)\n",
    "    \n",
    "    noise_quasar[:,1] = error(signal[:,0],signal[:,1],SNR_part[:,1],SNR_star[:,1],MAG_STA1_K,\\\n",
    "                              MAG_err_STA1_K,FLUX_LAMBDA_VEGA_K,MAG_VEGA_K)\n",
    "    noise_quasar[:,2] = error(signal[:,0],signal[:,2],SNR_part[:,1],SNR_star[:,2],MAG_STA2_K,\\\n",
    "                              MAG_err_STA2_K,FLUX_LAMBDA_VEGA_K,MAG_VEGA_K)\n",
    "    noise_quasar[:,3] = error(signal[:,0],signal[:,3],SNR_part[:,1],SNR_star[:,3],MAG_STA3_K,\\\n",
    "                              MAG_err_STA3_K,FLUX_LAMBDA_VEGA_K,MAG_VEGA_K)\n",
    "\n",
    "    #-----------------------------------------------------------------------------------------------\n",
    "    return comp_array,SNR_array,ABS_FLUX_LAMBDA_1,ABS_FLUX_LAMBDA_2,ABS_FLUX_LAMBDA_3,\\\n",
    "ABS_FLUX_V_1,ABS_FLUX_V_2,ABS_FLUX_V_3,date,SNR_part,SNR_star,noise_quasar"
   ]
  },
  {
   "cell_type": "code",
   "execution_count": null,
   "metadata": {
    "collapsed": true
   },
   "outputs": [],
   "source": []
  },
  {
   "cell_type": "code",
   "execution_count": 42,
   "metadata": {
    "collapsed": false,
    "scrolled": true
   },
   "outputs": [
    {
     "name": "stdout",
     "output_type": "stream",
     "text": [
      "Frame nr.  0 /media/lynge/Lynge-Back-up/AKN120/AKN120K/AKN120_3_10_K.fits\n",
      "1.47692307692 2.25816224529\n",
      "2537.145 3839.614 9765.224 16091.55\n",
      "Frame nr.  1 /media/lynge/Lynge-Back-up/AKN120/AKN120K/AKN120_3_10_K.fits(1)\n",
      "0.685714285714 1.44828103567\n",
      "2477.155 3871.483 10096.13 19418.12\n",
      "Frame nr.  2 /media/lynge/Lynge-Back-up/AKN120/AKN120K/AKN120_3_10_K.fits(10)\n",
      "0.619230769231 1.34045847751\n",
      "1821.653 2187.09 5655.601 10735.65\n",
      "Frame nr.  3 /media/lynge/Lynge-Back-up/AKN120/AKN120K/AKN120_3_10_K.fits(11)\n",
      "0.414814772429 1.19589\n",
      "3273.26 3783.509 nan 19434.89\n",
      "Frame nr.  4 /media/lynge/Lynge-Back-up/AKN120/AKN120K/AKN120_3_10_K.fits(2)\n",
      "0.168000011444 0.965606\n",
      "2610.122 4050.249 nan 21315.65\n",
      "Frame nr.  5 /media/lynge/Lynge-Back-up/AKN120/AKN120K/AKN120_3_10_K.fits(3)\n",
      "0.1 0.646080246914\n",
      "2704.634 4242.91 10985.56 19718.35\n",
      "Frame nr.  6 /media/lynge/Lynge-Back-up/AKN120/AKN120K/AKN120_3_10_K.fits(4)\n",
      "-0.355555534363 0.833048\n",
      "2391.495 3840.507 nan 20049.26\n",
      "Frame nr.  7 /media/lynge/Lynge-Back-up/AKN120/AKN120K/AKN120_3_10_K.fits(5)\n",
      "0.457142857143 2.46460562414\n",
      "2041.787 2830.547 nan 14494.0\n",
      "Frame nr.  8 /media/lynge/Lynge-Back-up/AKN120/AKN120K/AKN120_3_10_K.fits(6)\n",
      "1.23703709355 1.94201\n",
      "2202.763 2819.539 7425.759 nan\n",
      "Frame nr.  9 /media/lynge/Lynge-Back-up/AKN120/AKN120K/AKN120_3_10_K.fits(7)\n",
      "0.65 2.17488658208\n",
      "1532.551 2070.401 6188.787 10255.17\n",
      "Frame nr.  10 /media/lynge/Lynge-Back-up/AKN120/AKN120K/AKN120_3_10_K.fits(8)\n",
      "1.15517241379 1.77314494425\n",
      "2592.725 3344.225 8793.055 16993.28\n",
      "Frame nr.  11 /media/lynge/Lynge-Back-up/AKN120/AKN120K/AKN120_3_10_K.fits(9)\n",
      "0.0615384716254 0.67446\n",
      "2588.078 3105.467 nan 16125.17\n",
      "Frame nr.  12 /media/lynge/Lynge-Back-up/AKN120/AKN120K/AKN120_6_10_K.fits\n",
      "1.23571436746 2.26263\n",
      "1939.512 2652.836 6843.878 nan\n"
     ]
    }
   ],
   "source": [
    "comp_array,SNR_array,ABS_FLUX_LAMBDA_1_1,ABS_FLUX_LAMBDA_2_1,ABS_FLUX_LAMBDA_3_1,\\\n",
    "ABS_FLUX_V_1_1,ABS_FLUX_V_2_1,ABS_FLUX_V_3_1,date_1,SNR_part_1,SNR_star_1,noise_quasar_1 = SEXAGNflux(quasJ,0.001)"
   ]
  },
  {
   "cell_type": "code",
   "execution_count": 43,
   "metadata": {
    "collapsed": false
   },
   "outputs": [
    {
     "data": {
      "image/png": "[encoded data removed]",
      "text/plain": [
       "<matplotlib.figure.Figure at 0x7f56e001afd0>"
      ]
     },
     "metadata": {},
     "output_type": "display_data"
    },
    {
     "data": {
      "image/png": "[encoded data removed]",
      "text/plain": [
       "<matplotlib.figure.Figure at 0x7f56ee7d5710>"
      ]
     },
     "metadata": {},
     "output_type": "display_data"
    },
    {
     "name": "stdout",
     "output_type": "stream",
     "text": [
      "[ 399.12653039  412.69861781  305.34912423  501.57635741  439.28988281\n",
      "  464.44254103  419.94840988  328.81684403  336.54705287  267.38956953\n",
      "  410.97308986  449.57478206  295.17685557]\n"
     ]
    }
   ],
   "source": [
    "plt.figure(figsize=(10,8))\n",
    "plt.scatter(SNR_part_1[:,0],SNR_part_1[:,1])\n",
    "plt.show()\n",
    "\n",
    "plt.figure(figsize=(10,8))\n",
    "plt.scatter(SNR_part_1[:,0],SNR_part_1[:,2],label='Signal')\n",
    "plt.scatter(SNR_part_1[:,0],SNR_part_1[:,3],label='Sky')\n",
    "plt.scatter(SNR_part_1[:,0],SNR_part_1[:,4],label='RON')\n",
    "plt.legend()\n",
    "#plt.ylim([5*10**(-15),1.*10**(-14)])\n",
    "plt.show()\n",
    "\n",
    "print SNR_part_1[:,1]\n"
   ]
  },
  {
   "cell_type": "code",
   "execution_count": null,
   "metadata": {
    "collapsed": true
   },
   "outputs": [],
   "source": []
  },
  {
   "cell_type": "code",
   "execution_count": 44,
   "metadata": {
    "collapsed": false
   },
   "outputs": [
    {
     "data": {
      "image/png": "[encoded data removed]",
      "text/plain": [
       "<matplotlib.figure.Figure at 0x7f56e01d68d0>"
      ]
     },
     "metadata": {},
     "output_type": "display_data"
    },
    {
     "data": {
      "image/png": "[encoded data removed]",
      "text/plain": [
       "<matplotlib.figure.Figure at 0x7f56dff64910>"
      ]
     },
     "metadata": {},
     "output_type": "display_data"
    }
   ],
   "source": [
    "\n",
    "plt.figure(figsize=(10,7))\n",
    "plt.errorbar(comp_array[:,0],comp_array[:,1],yerr=noise_quasar_1[:,1],fmt='o',capsize=3)\n",
    "plt.errorbar(comp_array[:,0],comp_array[:,2],yerr=noise_quasar_1[:,2],fmt='x',capsize=3)\n",
    "plt.errorbar(comp_array[:,0],comp_array[:,3],yerr=noise_quasar_1[:,3],fmt='*',capsize=3)\n",
    "#plt.ylim([3*10**(-15),0.45*10**(-14)])\n",
    "plt.show()\n",
    "\n",
    "plt.figure(figsize=(10,7))\n",
    "plt.scatter(comp_array[:,0],comp_array[:,1])\n",
    "plt.scatter(comp_array[:,0],comp_array[:,2])\n",
    "plt.scatter(comp_array[:,0],comp_array[:,3])\n",
    "plt.ylim([6*10**(-15),1.5*10**(-14)])\n",
    "plt.show()\n",
    "\n",
    "np.savetxt('../NOVEMBER/AKN120_NOISE_K.txt',noise_quasar_1)\n",
    "np.savetxt('../NOVEMBER/NOV-AKN120-K',comp_array)\n",
    "np.savetxt('../NOVEMBER/AKN120_SNR_K.txt',SNR_part_1)"
   ]
  },
  {
   "cell_type": "code",
   "execution_count": 45,
   "metadata": {
    "collapsed": false,
    "scrolled": false
   },
   "outputs": [
    {
     "ename": "NameError",
     "evalue": "name 'AGNflux' is not defined",
     "output_type": "error",
     "traceback": [
      "\u001b[0;31m---------------------------------------------------------------------------\u001b[0m",
      "\u001b[0;31mNameError\u001b[0m                                 Traceback (most recent call last)",
      "\u001b[0;32m<ipython-input-45-9ff1cc87b0dd>\u001b[0m in \u001b[0;36m<module>\u001b[0;34m()\u001b[0m\n\u001b[0;32m----> 1\u001b[0;31m \u001b[0mflucompsta1\u001b[0m\u001b[0;34m,\u001b[0m\u001b[0mflucompsta2\u001b[0m\u001b[0;34m,\u001b[0m\u001b[0mflucompsta3\u001b[0m\u001b[0;34m,\u001b[0m\u001b[0mflucompsta4\u001b[0m\u001b[0;34m,\u001b[0m\u001b[0mflucompsta5\u001b[0m\u001b[0;34m,\u001b[0m\u001b[0mflucompsta6\u001b[0m\u001b[0;34m,\u001b[0m\u001b[0mflucompsta7\u001b[0m\u001b[0;34m,\u001b[0m\u001b[0mSNR1\u001b[0m\u001b[0;34m,\u001b[0m\u001b[0mSNR2\u001b[0m\u001b[0;34m,\u001b[0m\u001b[0mSNR3\u001b[0m\u001b[0;34m,\u001b[0m\u001b[0mSNR4\u001b[0m\u001b[0;34m,\u001b[0m\u001b[0mSNR5\u001b[0m\u001b[0;34m,\u001b[0m\u001b[0mSNR_comp\u001b[0m\u001b[0;34m,\u001b[0m\u001b[0mABS_FLUX_LAMBDA_1\u001b[0m\u001b[0;34m,\u001b[0m\u001b[0mABS_FLUX_LAMBDA_2\u001b[0m\u001b[0;34m,\u001b[0m\u001b[0mABS_FLUX_LAMBDA_3\u001b[0m\u001b[0;34m,\u001b[0m\u001b[0mABS_FLUX_V_1\u001b[0m\u001b[0;34m,\u001b[0m\u001b[0mABS_FLUX_V_2\u001b[0m\u001b[0;34m,\u001b[0m\u001b[0mABS_FLUX_V_3\u001b[0m\u001b[0;34m,\u001b[0m\u001b[0mdate\u001b[0m\u001b[0;34m,\u001b[0m\u001b[0mpoissonAGN\u001b[0m\u001b[0;34m,\u001b[0m\u001b[0mpoissonHD\u001b[0m\u001b[0;34m,\u001b[0m\u001b[0mpoisson22\u001b[0m\u001b[0;34m,\u001b[0m\u001b[0mpoisson529\u001b[0m\u001b[0;34m,\u001b[0m\u001b[0mSNR_test\u001b[0m\u001b[0;34m,\u001b[0m\u001b[0mfile1\u001b[0m\u001b[0;34m,\u001b[0m\u001b[0mSNR_part\u001b[0m \u001b[0;34m=\u001b[0m \u001b[0mAGNflux\u001b[0m\u001b[0;34m(\u001b[0m\u001b[0mquasJ\u001b[0m\u001b[0;34m,\u001b[0m\u001b[0;36m0.001\u001b[0m\u001b[0;34m)\u001b[0m\u001b[0;34m\u001b[0m\u001b[0m\n\u001b[0m",
      "\u001b[0;31mNameError\u001b[0m: name 'AGNflux' is not defined"
     ]
    }
   ],
   "source": [
    "flucompsta1,flucompsta2,flucompsta3,flucompsta4,flucompsta5,flucompsta6,flucompsta7,\\\n",
    "SNR1,SNR2,SNR3,SNR4,SNR5,SNR_comp,ABS_FLUX_LAMBDA_1,ABS_FLUX_LAMBDA_2,ABS_FLUX_LAMBDA_3,ABS_FLUX_V_1,\\\n",
    "ABS_FLUX_V_2,ABS_FLUX_V_3,date,poissonAGN,poissonHD,poisson22,poisson529,SNR_test,file1,SNR_part \\\n",
    "= AGNflux(quasJ,0.001)"
   ]
  },
  {
   "cell_type": "code",
   "execution_count": null,
   "metadata": {
    "collapsed": true
   },
   "outputs": [],
   "source": [
    "plt.figure(figsize=(10,8))\n",
    "plt.scatter(comp_array[:,0],comp_array[:,4])\n",
    "plt.show()\n",
    "\n",
    "print comp_array[:,4]"
   ]
  },
  {
   "cell_type": "code",
   "execution_count": null,
   "metadata": {
    "collapsed": true,
    "scrolled": false
   },
   "outputs": [],
   "source": [
    "plt.figure(figsize=(20,14))\n",
    "plt.scatter(date,np.array(ABS_FLUX_LAMBDA_1),marker='x',\\\n",
    "            color='b',label='Flux found from HD101274')\n",
    "plt.scatter(date,np.array(ABS_FLUX_LAMBDA_2),marker='x',\\\n",
    "            color='r',label='Flux found from Tycho-2 7740-22-1')\n",
    "plt.scatter(date_1,np.array(ABS_FLUX_LAMBDA_3),marker='x',\\\n",
    "            color='g',label='Flux found from Tycho-2 7740-529-1')\n",
    "plt.scatter(date_1,ABS_FLUX_LAMBDA_1_1,marker='o',\\\n",
    "            color='b',label='Flux found from SEX HD101274')\n",
    "plt.scatter(date_1,np.array(ABS_FLUX_LAMBDA_2_1),marker='o',\\\n",
    "            color='r',label='Flux found from SEX Tycho-2 7740-22-1')\n",
    "plt.scatter(date_1,np.array(ABS_FLUX_LAMBDA_3_1),marker='o',\\\n",
    "            color='g',label='Flux found from Tycho-2 7740-529-1')\n",
    "plt.xlabel('Days')\n",
    "plt.ylabel('Flux (F_LAMBDA) (K-band)')\n",
    "plt.title('Aperture 0.001 deg')\n",
    "#plt.yscale('log')\n",
    "plt.ylim([0.85*10**(-14),1.4*10**(-14)])\n",
    "plt.legend()\n",
    "plt.show()\n",
    "\n",
    "plt.figure(figsize=(20,14))\n",
    "plt.scatter(date,np.array(SNR1),marker='x',\\\n",
    "            color='b',label='Flux found from HD101274')\n",
    "plt.xlabel('Days')\n",
    "plt.ylabel('Flux (F_LAMBDA) (K-band)')\n",
    "plt.title('Aperture 0.001 deg')\n",
    "#plt.yscale('log')\n",
    "#plt.ylim([0.15,0.20])\n",
    "#plt.xlim([57850,57880])\n",
    "plt.legend()\n",
    "plt.show()\n",
    "\n"
   ]
  },
  {
   "cell_type": "code",
   "execution_count": null,
   "metadata": {
    "collapsed": true,
    "scrolled": false
   },
   "outputs": [],
   "source": [
    "plt.figure(figsize=(10,7))\n",
    "plt.scatter(SNR_part[:,0],SNR_part[:,1])\n",
    "plt.show()\n",
    "\n",
    "plt.figure(figsize=(10,7))\n",
    "plt.scatter(SNR_part[:,0],SNR_part[:,4])\n",
    "plt.show()\n",
    "\n",
    "plt.figure(figsize=(10,7))\n",
    "plt.scatter(SNR_part_1[:,0],SNR_part_1[:,1])\n",
    "plt.show()\n",
    "\n",
    "plt.figure(figsize=(10,7))\n",
    "plt.scatter(SNR_part[:,0],SNR_part[:,2])\n",
    "plt.show()\n",
    "\n",
    "plt.figure(figsize=(10,7))\n",
    "plt.scatter(SNR_part_1[:,0],SNR_part_1[:,2])\n",
    "plt.show()\n",
    "\n",
    "plt.figure(figsize=(10,7))\n",
    "plt.scatter(SNR_part[:,0],SNR_part[:,3])\n",
    "plt.show()\n",
    "\n",
    "plt.figure(figsize=(10,7))\n",
    "plt.scatter(SNR_part_1[:,0],SNR_part_1[:,3])\n",
    "plt.show()\n"
   ]
  },
  {
   "cell_type": "code",
   "execution_count": null,
   "metadata": {
    "collapsed": true
   },
   "outputs": [],
   "source": [
    "print np.argmax(SNR_test[:,1])\n",
    "\n",
    "for i in range(len(file1)):\n",
    "    print i, '{0:f}'.format(SNR_test[i,0]), '{0:f}'.format(SNR_test[i,1]), '{0:f}'.format(SNR_test[i,2])\n",
    "    print file1[i]"
   ]
  },
  {
   "cell_type": "code",
   "execution_count": null,
   "metadata": {
    "collapsed": true
   },
   "outputs": [],
   "source": []
  },
  {
   "cell_type": "code",
   "execution_count": null,
   "metadata": {
    "collapsed": true
   },
   "outputs": [],
   "source": []
  }
 ],
 "metadata": {
  "kernelspec": {
   "display_name": "Python 2",
   "language": "python",
   "name": "python2"
  },
  "language_info": {
   "codemirror_mode": {
    "name": "ipython",
    "version": 2
   },
   "file_extension": ".py",
   "mimetype": "text/x-python",
   "name": "python",
   "nbconvert_exporter": "python",
   "pygments_lexer": "ipython2",
   "version": "2.7.13"
  }
 },
 "nbformat": 4,
 "nbformat_minor": 2
}
