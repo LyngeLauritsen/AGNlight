{
 "cells": [
  {
   "cell_type": "code",
   "execution_count": 1,
   "metadata": {},
   "outputs": [
    {
     "name": "stderr",
     "output_type": "stream",
     "text": [
      "/home/lynge/anaconda2/lib/python2.7/site-packages/matplotlib/__init__.py:1405: UserWarning: \n",
      "This call to matplotlib.use() has no effect because the backend has already\n",
      "been chosen; matplotlib.use() must be called *before* pylab, matplotlib.pyplot,\n",
      "or matplotlib.backends is imported for the first time.\n",
      "\n",
      "  warnings.warn(_use_error_msg)\n"
     ]
    }
   ],
   "source": [
    "import numpy as np\n",
    "import scipy as sp\n",
    "import matplotlib\n",
    "import matplotlib.pyplot as plt\n",
    "%matplotlib inline\n",
    "from matplotlib.colors import LogNorm\n",
    "import scipy.stats as stats\n",
    "from matplotlib import gridspec\n",
    "import aplpy as apl #The Astronomy Plotting Library for python\n",
    "import astropy\n",
    "from astropy.stats import sigma_clip\n",
    "from astropy.modeling import functional_models, models, fitting\n",
    "import astropy.units as U\n",
    "from astropy.coordinates import ICRS, Galactic, FK4, FK5, Angle, Latitude, Longitude\n",
    "import astropy.constants as C\n",
    "from astropy import wcs\n",
    "import astropy.io.fits as fits\n",
    "from astropy.io import ascii\n",
    "import astropy.coordinates as coord\n",
    "from astropy.coordinates import SkyCoord\n",
    "from astropy.stats import signal_to_noise_oir_ccd as SNRas\n",
    "#import spectral_cube as SC\n",
    "#from spectral_cube import SpectralCube as sc\n",
    "from astropy.wcs import WCS\n",
    "matplotlib.use('Agg')\n",
    "import matplotlib.cm as cm\n",
    "#import astrometry as ast\n",
    "import pyfits\n",
    "import requests\n",
    "import json\n",
    "import os\n",
    "from sklearn import datasets, linear_model\n",
    "from scipy.optimize import curve_fit\n",
    "import numpy.ma as ma\n",
    "from astropy.table import Table, Column\n",
    "import pyextract\n",
    "import sewpy\n",
    "import pandas as pd\n",
    "from astropy import units as u\n",
    "#import alipy"
   ]
  },
  {
   "cell_type": "code",
   "execution_count": 2,
   "metadata": {
    "collapsed": true
   },
   "outputs": [],
   "source": [
    "def dist(mid,end):\n",
    "    return np.sqrt((mid[0] - end[0])**2 + (mid[1] - end[1])**2)"
   ]
  },
  {
   "cell_type": "code",
   "execution_count": 3,
   "metadata": {
    "collapsed": true
   },
   "outputs": [],
   "source": [
    "def flux_cal(A_mag,B_mag,B_flux):\n",
    "    '''Flux of A found through magnitude and flux of B'''\n",
    "    return B_flux*10**((B_mag-A_mag)/2.5)"
   ]
  },
  {
   "cell_type": "code",
   "execution_count": 4,
   "metadata": {
    "collapsed": true
   },
   "outputs": [],
   "source": [
    "def Basic(quasar,header):\n",
    "    '''Provides a basic list of neccesities from the fits header file for use in the later \\\n",
    "    flux determination, it does not serve an individual purpose beyound that'''\n",
    "    AGNdata = quasar #np.rot90(np.rot90(np.fliplr(quasar)))\n",
    "    #header = data[0].header\n",
    "    #print header\n",
    "    RAstd = header['CRVAL1']\n",
    "    DECstd = header['CRVAL2']\n",
    "    #print RAstd, DECstd\n",
    "    pixspa = header['PIXSCALE']/(3600.)\n",
    "    #print pixspa\n",
    "    RAstdpix = header['CRPIX1']\n",
    "    DECstdpix = header['CRPIX2']\n",
    "    exptime = 10 # header['EXPTIME']\n",
    "    return header,AGNdata,RAstd,DECstd,pixspa,RAstdpix,DECstdpix,exptime"
   ]
  },
  {
   "cell_type": "code",
   "execution_count": 5,
   "metadata": {
    "collapsed": true
   },
   "outputs": [],
   "source": [
    "def curve(quasar,header,w,center,apparature):\n",
    "    '''Determines the FLUX of the stellar object given the the numpy array of the image, \\\n",
    "    the header of the fits file, the astropy coordinate representation, \\\n",
    "    the object position and the apparature of interest'''\n",
    "    header,AGNdata,RAstd,DECstd,pixspa,RAstdpix,DECstdpix,exptime = Basic(quasar,header)\n",
    "    #AGNdata = np.swapaxes(AGNdata,0,1)\n",
    "    y, x = np.ogrid[0:header['NAXIS1'],0:header['NAXIS1']]\n",
    "    #w = np.swapaxes(w,0,1)\n",
    "    #F_AGN = np.zeros((512,512,3)) #((int(2*apparature/pixspa)+1,int(2*apparature/pixspa)+1,3))\n",
    "    #print center\n",
    "    x1 = w.all_world2pix(center[0],center[1],0)\n",
    "    x1,y1 = (x1[0]),(x1[1])\n",
    "    if 15 < x1 < header['NAXIS1'] - 15 and 15 < y1 < header['NAXIS2'] - 15:\n",
    "        try:\n",
    "            mask = ((y-y1)**2 + (x-x1)**2) > (apparature/float(pixspa))**2\n",
    "            AGNdata[mask] = float(0)\n",
    "            mask = AGNdata == 0.\n",
    "            rows = np.flatnonzero((~mask).sum(axis=1))\n",
    "            cols = np.flatnonzero((~mask).sum(axis=0))\n",
    "            AGNdata = AGNdata[rows.min():rows.max()+1, cols.min():cols.max()+1]\n",
    "            #print apparature/float(pixspa)\n",
    "        except:\n",
    "            AGNdata = np.array([[float(0),float(0)],[float(0),float(0)]])\n",
    "    else:\n",
    "        AGNdata = np.array([[float(0),float(0)],[float(0),float(0)]])\n",
    "    #if np.sum(AGNdata) < 500:\n",
    "    #    AGNdata = np.array([[float(0),float(0)],[float(0),float(0)]])\n",
    "    return AGNdata, x1, y1"
   ]
  },
  {
   "cell_type": "code",
   "execution_count": null,
   "metadata": {
    "collapsed": true
   },
   "outputs": [],
   "source": [
    "quasJ = [os.path.join('/media/lynge/Lynge-Back-up/NGC3783/z',f) \\\n",
    "        for f in os.listdir('/media/lynge/Lynge-Back-up/NGC3783/z')]\n",
    "\n",
    "sky_RA_WORLD = SkyCoord('11:38:59 -37:44:44', unit=(u.hourangle, u.deg)).ra.degree #NGC3783\n",
    "sky_DEC_WORLD = SkyCoord('11:38:59 -37:44:44', unit=(u.hourangle, u.deg)).dec.degree\n",
    "\n",
    "#sky_RA_WORLD = SkyCoord('22:09:11 -47:09:05', unit=(u.hourangle, u.deg)).ra.degree #NGC7213\n",
    "#sky_DEC_WORLD = SkyCoord('22:09:11 -47:09:05', unit=(u.hourangle, u.deg)).dec.degree\n",
    "\n",
    "#sky_RA_WORLD = SkyCoord('00:24:27 07:49:19', unit=(u.hourangle, u.deg)).ra.degree #P525-E\n",
    "#sky_DEC_WORLD = SkyCoord('00:24:27 07:49:19', unit=(u.hourangle, u.deg)).dec.degree \n",
    "\n",
    "#sky_RA_WORLD = SkyCoord('18:45:10 -62:22:42', unit=(u.hourangle, u.deg)).ra.degree #F51\n",
    "#sky_DEC_WORLD = SkyCoord('18:45:10 -62:22:42', unit=(u.hourangle, u.deg)).dec.degree\n",
    "\n",
    "#sky_RA_WORLD = SkyCoord('00:55:07 00:42:41', unit=(u.hourangle, u.deg)).ra.degree #SA092_342\n",
    "#sky_DEC_WORLD = SkyCoord('00:55:07 00:42:41', unit=(u.hourangle, u.deg)).dec.degree\n",
    "\n",
    "#sky_RA_WORLD = SkyCoord('05:58:05.5 -38:20:43.5', unit=(u.hourangle, u.deg)).ra.degree #H0557\n",
    "#sky_DEC_WORLD = SkyCoord('05:58:05.5 -38:20:43.5', unit=(u.hourangle, u.deg)).dec.degree\n",
    "\n",
    "#sky_RA_WORLD = SkyCoord('01:23:47 -58:49:35', unit=(u.hourangle, u.deg)).ra.degree #F9\n",
    "#sky_DEC_WORLD = SkyCoord('01:23:47 -58:49:35', unit=(u.hourangle, u.deg)).dec.degree\n",
    "\n",
    "#sky_RA_WORLD = SkyCoord('20:44:09 -10:42:54', unit=(u.hourangle, u.deg)).ra.degree #MARK509\n",
    "#sky_DEC_WORLD = SkyCoord('20:44:09 -10:42:54', unit=(u.hourangle, u.deg)).dec.degree\n",
    "\n",
    "#sky_RA_WORLD = SkyCoord('05:16:17 -00:09:08', unit=(u.hourangle, u.deg)).ra.degree #AKN120\n",
    "#sky_DEC_WORLD = SkyCoord('05:16:17 -00:09:08', unit=(u.hourangle, u.deg)).dec.degree\n",
    "\n",
    "#sky_RA_WORLD = SkyCoord('13:06:26 -40:25:33', unit=(u.hourangle, u.deg)).ra.degree #ESO323\n",
    "#sky_DEC_WORLD = SkyCoord('13:06:26 -40:25:33', unit=(u.hourangle, u.deg)).dec.degree\n",
    "\n",
    "#sky_RA_WORLD = SkyCoord('01:54:38 00:43:41', unit=(u.hourangle, u.deg)).ra.degree #SA093_317\n",
    "#sky_DEC_WORLD = SkyCoord('01:54:38 00:43:41', unit=(u.hourangle, u.deg)).dec.degree\n",
    "\n",
    "#sky_RA_WORLD = SkyCoord('08:52:32 -00:39:17', unit=(u.hourangle, u.deg)).ra.degree #SA100_241\n",
    "#sky_DEC_WORLD = SkyCoord('08:52:32 -00:39:17', unit=(u.hourangle, u.deg)).dec.degree\n"
   ]
  },
  {
   "cell_type": "code",
   "execution_count": null,
   "metadata": {
    "scrolled": false
   },
   "outputs": [
    {
     "name": "stdout",
     "output_type": "stream",
     "text": [
      "0 /media/lynge/Lynge-Back-up/NGC3783/z/IMG2016119BLs025.fits\n"
     ]
    },
    {
     "name": "stderr",
     "output_type": "stream",
     "text": [
      "WARNING: VerifyWarning: Invalid 'BLANK' keyword in header.  The 'BLANK' keyword is only applicable to integer data, and will be ignored in this HDU. [astropy.io.fits.hdu.image]\n",
      "WARNING: FITSFixedWarning: RADECSYS= 'FK5 ' / Reference system for celestial coordinates \n",
      "the RADECSYS keyword is deprecated, use RADESYSa. [astropy.wcs.wcs]\n",
      "WARNING: AstropyDeprecationWarning: \"clobber\" was deprecated in version 2.0 and will be removed in a future version. Use argument \"overwrite\" instead. [astropy.utils.decorators]\n"
     ]
    },
    {
     "name": "stdout",
     "output_type": "stream",
     "text": [
      "1 /media/lynge/Lynge-Back-up/NGC3783/z/IMG2016119BLs026.fits\n",
      "2 /media/lynge/Lynge-Back-up/NGC3783/z/IMG2016119BLs027.fits\n",
      "3 /media/lynge/Lynge-Back-up/NGC3783/z/IMG2016127BLs030.fits\n",
      "4 /media/lynge/Lynge-Back-up/NGC3783/z/IMG2016127BLs031.fits\n",
      "5 /media/lynge/Lynge-Back-up/NGC3783/z/IMG2016127BLs032.fits\n",
      "6 /media/lynge/Lynge-Back-up/NGC3783/z/IMG2016134BLs063.fits\n",
      "7 /media/lynge/Lynge-Back-up/NGC3783/z/IMG2016134BLs064.fits\n",
      "8 /media/lynge/Lynge-Back-up/NGC3783/z/IMG2016134BLs065.fits\n",
      "9 /media/lynge/Lynge-Back-up/NGC3783/z/IMG2016141BLs052.fits\n",
      "10 /media/lynge/Lynge-Back-up/NGC3783/z/IMG2016141BLs053.fits\n",
      "11 /media/lynge/Lynge-Back-up/NGC3783/z/IMG2016141BLs054.fits\n",
      "12 /media/lynge/Lynge-Back-up/NGC3783/z/IMG2016158BLs046.fits\n",
      "13 /media/lynge/Lynge-Back-up/NGC3783/z/IMG2016158BLs047.fits\n",
      "14 /media/lynge/Lynge-Back-up/NGC3783/z/IMG2016158BLs048.fits\n",
      "15 /media/lynge/Lynge-Back-up/NGC3783/z/IMG2016165BLs094.fits\n",
      "16 /media/lynge/Lynge-Back-up/NGC3783/z/IMG2016165BLs095.fits\n",
      "17 /media/lynge/Lynge-Back-up/NGC3783/z/IMG2016165BLs096.fits\n",
      "18 /media/lynge/Lynge-Back-up/NGC3783/z/IMG2016173BLs048.fits\n",
      "19 /media/lynge/Lynge-Back-up/NGC3783/z/IMG2016173BLs049.fits\n",
      "20 /media/lynge/Lynge-Back-up/NGC3783/z/IMG2016173BLs050.fits\n",
      "21 /media/lynge/Lynge-Back-up/NGC3783/z/IMG2016180BLs041.fits\n",
      "22 /media/lynge/Lynge-Back-up/NGC3783/z/IMG2016180BLs042.fits\n",
      "23 /media/lynge/Lynge-Back-up/NGC3783/z/IMG2016180BLs043.fits\n",
      "24 /media/lynge/Lynge-Back-up/NGC3783/z/IMG2016195BLs017.fits\n",
      "25 /media/lynge/Lynge-Back-up/NGC3783/z/IMG2016195BLs018.fits\n",
      "26 /media/lynge/Lynge-Back-up/NGC3783/z/IMG2016195BLs019.fits\n",
      "27 /media/lynge/Lynge-Back-up/NGC3783/z/IMG2016202BLs031.fits\n",
      "28 /media/lynge/Lynge-Back-up/NGC3783/z/IMG2016202BLs032.fits\n",
      "29 /media/lynge/Lynge-Back-up/NGC3783/z/IMG2016202BLs033.fits\n",
      "30 /media/lynge/Lynge-Back-up/NGC3783/z/IMG2016210BLs020.fits\n",
      "31 /media/lynge/Lynge-Back-up/NGC3783/z/IMG2017046BLs069.fits\n",
      "32 /media/lynge/Lynge-Back-up/NGC3783/z/IMG2017054BLs101.fits\n",
      "33 /media/lynge/Lynge-Back-up/NGC3783/z/IMG2017054BLs102.fits\n",
      "34 /media/lynge/Lynge-Back-up/NGC3783/z/IMG2017054BLs103.fits\n",
      "35 /media/lynge/Lynge-Back-up/NGC3783/z/IMG2017062BLs064.fits\n",
      "36 /media/lynge/Lynge-Back-up/NGC3783/z/IMG2017062BLs065.fits\n",
      "37 /media/lynge/Lynge-Back-up/NGC3783/z/IMG2017062BLs066.fits\n",
      "38 /media/lynge/Lynge-Back-up/NGC3783/z/IMG2017102BLs034.fits\n",
      "39 /media/lynge/Lynge-Back-up/NGC3783/z/IMG2017102BLs035.fits\n",
      "40 /media/lynge/Lynge-Back-up/NGC3783/z/IMG2017102BLs036.fits\n",
      "41 /media/lynge/Lynge-Back-up/NGC3783/z/IMG2017109BLs054.fits\n",
      "42 /media/lynge/Lynge-Back-up/NGC3783/z/IMG2017109BLs055.fits\n",
      "43 /media/lynge/Lynge-Back-up/NGC3783/z/IMG2017109BLs056.fits\n",
      "44 /media/lynge/Lynge-Back-up/NGC3783/z/IMG2017123BLs086.fits\n",
      "45 /media/lynge/Lynge-Back-up/NGC3783/z/IMG2017123BLs087.fits\n",
      "46 /media/lynge/Lynge-Back-up/NGC3783/z/IMG2017123BLs088.fits\n",
      "47 /media/lynge/Lynge-Back-up/NGC3783/z/IMG2017132BLs069.fits\n",
      "48 /media/lynge/Lynge-Back-up/NGC3783/z/IMG2017132BLs070.fits\n",
      "49 /media/lynge/Lynge-Back-up/NGC3783/z/IMG2017132BLs071.fits\n",
      "50 /media/lynge/Lynge-Back-up/NGC3783/z/IMG2017140BLs025.fits\n",
      "51 /media/lynge/Lynge-Back-up/NGC3783/z/IMG2017140BLs026.fits\n",
      "52 /media/lynge/Lynge-Back-up/NGC3783/z/IMG2017140BLs027.fits\n",
      "53 /media/lynge/Lynge-Back-up/NGC3783/z/IMG2017148BLs056.fits\n",
      "54 /media/lynge/Lynge-Back-up/NGC3783/z/IMG2017148BLs057.fits\n",
      "55 /media/lynge/Lynge-Back-up/NGC3783/z/IMG2017148BLs058.fits\n",
      "56 /media/lynge/Lynge-Back-up/NGC3783/z/IMG2017156BLs025.fits\n",
      "57 /media/lynge/Lynge-Back-up/NGC3783/z/IMG2017156BLs026.fits\n",
      "58 /media/lynge/Lynge-Back-up/NGC3783/z/IMG2017156BLs027.fits\n",
      "59 /media/lynge/Lynge-Back-up/NGC3783/z/IMG2017163BLs028.fits\n",
      "60 /media/lynge/Lynge-Back-up/NGC3783/z/IMG2017163BLs029.fits\n",
      "61 /media/lynge/Lynge-Back-up/NGC3783/z/IMG2017163BLs030.fits\n",
      "62 /media/lynge/Lynge-Back-up/NGC3783/z/IMG2016337BLs098.fits\n",
      "63 /media/lynge/Lynge-Back-up/NGC3783/z/IMG2016337BLs099.fits\n",
      "64 /media/lynge/Lynge-Back-up/NGC3783/z/IMG2016344BLs087.fits\n",
      "65 /media/lynge/Lynge-Back-up/NGC3783/z/IMG2016344BLs088.fits\n",
      "66 /media/lynge/Lynge-Back-up/NGC3783/z/IMG2016344BLs089.fits\n",
      "67 /media/lynge/Lynge-Back-up/NGC3783/z/IMG2016352BLs054.fits\n",
      "68 /media/lynge/Lynge-Back-up/NGC3783/z/IMG2016352BLs055.fits\n",
      "69 /media/lynge/Lynge-Back-up/NGC3783/z/IMG2016352BLs056.fits\n",
      "70 /media/lynge/Lynge-Back-up/NGC3783/z/IMG2016360BLs075.fits\n",
      "71 /media/lynge/Lynge-Back-up/NGC3783/z/IMG2016360BLs076.fits\n",
      "72 /media/lynge/Lynge-Back-up/NGC3783/z/IMG2016360BLs077.fits\n",
      "73 /media/lynge/Lynge-Back-up/NGC3783/z/IMG2017002BLs053.fits\n",
      "74 /media/lynge/Lynge-Back-up/NGC3783/z/IMG2017002BLs054.fits\n",
      "75 /media/lynge/Lynge-Back-up/NGC3783/z/IMG2017002BLs055.fits\n",
      "76 /media/lynge/Lynge-Back-up/NGC3783/z/IMG2017009BLs117.fits\n",
      "77 /media/lynge/Lynge-Back-up/NGC3783/z/IMG2017009BLs118.fits\n"
     ]
    }
   ],
   "source": [
    "for i in range(len(quasJ)):\n",
    "    print i, quasJ[i]\n",
    "    data1, header = fits.getdata(quasJ[i],header=True) #RA---TAN data2 = data1\n",
    "    data1 = np.array(data1,dtype='float')\n",
    "    data2, header2 = fits.getdata(quasJ[i],header=True)\n",
    "    data2 = np.array(data2,dtype='float')\n",
    "    #print data1\n",
    "    #print header['CTYPE2']\n",
    "    #header['CTYPE1'] = \"RA---TAN -SIP\"\n",
    "    #header['CTYPE2'] = \"DEC--TAN -SIP\"\n",
    "    #print data1\n",
    "    back = np.ones((header['NAXIS1'],header['NAXIS2']))\n",
    "    a_sky = curve(data1,header,WCS(quasJ[i]),\n",
    "                   (sky_RA_WORLD,sky_DEC_WORLD),0.003)[0]\n",
    "    a_sky_mean = a_sky[(a_sky!=0) & (a_sky<1700)].mean()\n",
    "    back[data2 == 0] *= 0\n",
    "    back[data2 != 0] *= a_sky_mean\n",
    "    #print a_sky_mean\n",
    "    #data1 = np.subtract(data1,back)\n",
    "    #print data1\n",
    "    data2 = data2 - back\n",
    "    #print data2\n",
    "    #print data2\n",
    "    #for j in range(len(np.shape(data[0]))):\n",
    "    #    for k in range(len(np.shape(data[0]))):\n",
    "    #        if data[j,k] != 0:\n",
    "    #            data[j,k] = float(data[j,k]) - a_sky_mean\n",
    "    #header['NDIT'] = 5\n",
    "    '''header['A_ORDER'] = \"0\"\n",
    "    header['B_ORDER'] = \"0\"\n",
    "    header['AP_ORDER'] = \"0\"\n",
    "    header['BP_ORDER'] = \"0\"\n",
    "    header['A_0_2'] = \"0\"\n",
    "    header['A_1_1'] = \"0\"\n",
    "    header['A_2_0'] = \"0\"\n",
    "    header['B_0_2'] = \"0\"\n",
    "    header['B_1_1'] = \"0\"\n",
    "    header['B_2_0'] = \"0\"\n",
    "    header['AP_0_2'] = \"0\"\n",
    "    header['AP_1_1'] = \"0\"\n",
    "    header['AP_2_0'] = \"0\"\n",
    "    header['AP_0_1'] = \"0\"\n",
    "    header['AP_1_0'] = \"0\"\n",
    "    header['BP_0_1'] = \"0\"\n",
    "    header['BP_0_2'] = \"0\"\n",
    "    header['BP_1_0'] = \"0\"\n",
    "    header['BP_1_1'] = \"0\"\n",
    "    header['BP_2_0'] = \"0\"'''\n",
    "    fits.writeto(quasJ[i],data2,header,clobber=True)\n",
    "    #print fits.getheader(quasH[i])['A_ORDER']"
   ]
  },
  {
   "cell_type": "code",
   "execution_count": null,
   "metadata": {
    "collapsed": true
   },
   "outputs": [],
   "source": []
  },
  {
   "cell_type": "code",
   "execution_count": null,
   "metadata": {
    "collapsed": true
   },
   "outputs": [],
   "source": []
  }
 ],
 "metadata": {
  "kernelspec": {
   "display_name": "Python 2",
   "language": "python",
   "name": "python2"
  },
  "language_info": {
   "codemirror_mode": {
    "name": "ipython",
    "version": 2
   },
   "file_extension": ".py",
   "mimetype": "text/x-python",
   "name": "python",
   "nbconvert_exporter": "python",
   "pygments_lexer": "ipython2",
   "version": "2.7.13"
  }
 },
 "nbformat": 4,
 "nbformat_minor": 2
}
