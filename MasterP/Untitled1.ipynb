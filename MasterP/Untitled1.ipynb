{
 "cells": [
  {
   "cell_type": "code",
   "execution_count": 1,
   "metadata": {
    "collapsed": false
   },
   "outputs": [],
   "source": [
    "import numpy as np\n",
    "from numpy import *\n",
    "import scipy as sc\n",
    "import scipy.optimize as opt\n",
    "import random\n",
    "import matplotlib.pyplot as plt\n",
    "import scipy.stats as stats\n",
    "from numpy.random import randint\n",
    "import math\n",
    "from scipy.optimize import minimize as mini\n",
    "from scipy.optimize import least_squares as ls\n",
    "from scipy.optimize import leastsq\n",
    "import gc\n",
    "from multiprocessing import Process\n",
    "#import colorednoise as cn\n",
    "from numpy import concatenate, real, std, abs, min\n",
    "from numpy.fft import ifft, fftfreq, fft, rfft, irfft, hfft, ihfft\n",
    "from numpy.random import normal\n",
    "import time\n",
    "import scipy.fftpack as scf\n",
    "from matplotlib import mlab\n",
    "\n"
   ]
  },
  {
   "cell_type": "code",
   "execution_count": 2,
   "metadata": {
    "collapsed": false
   },
   "outputs": [],
   "source": [
    "def powerlaw_psd_gaussian(exponent, samples, fmin=0):\n",
    "    \"\"\"Gaussian (1/f)**beta noise.\n",
    "    \"\"\"\n",
    "\n",
    "    # frequencies (we asume a sample rate of one)\n",
    "    f = fftfreq(samples)\n",
    "\n",
    "    # scaling factor for all frequencies\n",
    "    ## though the fft for real signals is symmetric,\n",
    "    ## the array with the results is not - take neg. half!\n",
    "    s_scale = abs(concatenate([f[f<0], [f[-1]]]))\n",
    "    ## low frequency cutoff?!?\n",
    "    if fmin:\n",
    "        ix = sum(s_scale>fmin)\n",
    "        if ix < len(f):\n",
    "            s_scale[ix:] = s_scale[ix]\n",
    "    s_scale = s_scale**(-exponent/2.)\n",
    "\n",
    "    # scale random power + phase\n",
    "    sr = s_scale * normal(size=len(s_scale))\n",
    "    si = s_scale * normal(size=len(s_scale))\n",
    "    if not (samples % 2): si[0] = si[0].real\n",
    "\n",
    "    s = sr + 1J * si\n",
    "    # this is complicated... because for odd sample numbers,ss\n",
    "    ## there is one less positive freq than for even sample numbers\n",
    "    s = concatenate([s[1-(samples % 2):][::-1], s[:-1].conj()])\n",
    "\n",
    "    # time series\n",
    "    y = ifft(s).real\n",
    "    #y*= 10**np.random.normal(-13.7,1.5,1)[0]\n",
    "    y += abs(min(y))\n",
    "\n",
    "    #y = rfft(y)\n",
    "    #y = irfft(y)\n",
    "\n",
    "    #y1 = y / std(y)\n",
    "    #print y1\n",
    "\n",
    "    #y1 = y1\n",
    "\n",
    "    #y2 = ifft(y1)\n",
    "\n",
    "    ret = y\n",
    "\n",
    "    #print 'HEY', ret\n",
    "    #print 'HEY HO'\n",
    "\n",
    "    return ret"
   ]
  },
  {
   "cell_type": "code",
   "execution_count": 10,
   "metadata": {
    "collapsed": false
   },
   "outputs": [
    {
     "name": "stdout",
     "output_type": "stream",
     "text": [
      "(100000,) (100000,)\n",
      "(41,) (80,)\n",
      "(50001,) (100000,)\n",
      "(100000,)\n"
     ]
    }
   ],
   "source": [
    "x = np.arange(1,500,1)\n",
    "x_rfft = np.arange(1,499,1)\n",
    "y = powerlaw_psd_gaussian(2.5, 100000, fmin=0)\n",
    "z = powerlaw_psd_gaussian(5.0, 80, fmin=0)\n",
    "y2 = np.copy(y)\n",
    "y2[0:80] = z\n",
    "\n",
    "print np.shape(y), np.shape(y2)\n",
    "\n",
    "y_fft = rfft(irfft(rfft(irfft(rfft(irfft(rfft(irfft(rfft(y)))))))))\n",
    "z_fft = rfft(z)\n",
    "y2_fft = rfft(y2) #np.copy(y_fft) #rfft(y2)\n",
    "#y2_fft[0:41] = z_fft\n",
    "print np.shape(z_fft), np.shape(z)\n",
    "print np.shape(y_fft), np.shape(irfft(y_fft))\n",
    "print np.shape(irfft(rfft(irfft(rfft(irfft(rfft(y)))))))"
   ]
  },
  {
   "cell_type": "code",
   "execution_count": 11,
   "metadata": {
    "collapsed": false
   },
   "outputs": [
    {
     "name": "stdout",
     "output_type": "stream",
     "text": [
      "(100000,)\n"
     ]
    }
   ],
   "source": [
    "#change = rfft(colour(np.random.normal(2.8,0.25,1)[0],40)) #len(cont[:,1])))\n",
    "weight = 0.5 #random.random()*0.005 #0.05\n",
    "cont_fft_y = np.exp((1 - weight)*np.log(y_fft) + weight*np.log(y_fft))\n",
    "cont_fft_y2 = np.exp((1 - weight)*np.log(y_fft) + weight*np.log(y2_fft))\n",
    "r_y = irfft(cont_fft_y)\n",
    "r_y2 = irfft(cont_fft_y2)\n",
    "print np.shape(r_y)\n",
    "#print r_y"
   ]
  },
  {
   "cell_type": "code",
   "execution_count": 12,
   "metadata": {
    "collapsed": false
   },
   "outputs": [
    {
     "data": {
      "image/png": "[encoded data removed]",
      "text/plain": [
       "<matplotlib.figure.Figure at 0x7f3c1d8bcd10>"
      ]
     },
     "metadata": {},
     "output_type": "display_data"
    }
   ],
   "source": [
    "s, f = mlab.psd(r_y)\n",
    "s2, f2 = mlab.psd(r_y2)\n",
    "sy, fy = mlab.psd(y)\n",
    "plt.loglog(f,s,color='b')\n",
    "plt.loglog(f2,s2,color='r')\n",
    "plt.loglog(fy,sy,color='g')\n",
    "plt.grid(True)\n",
    "plt.show()\n",
    "\n"
   ]
  },
  {
   "cell_type": "code",
   "execution_count": 6,
   "metadata": {
    "collapsed": false,
    "scrolled": false
   },
   "outputs": [
    {
     "data": {
      "image/png": "[encoded data removed]",
      "text/plain": [
       "<matplotlib.figure.Figure at 0x7f3c1db24d10>"
      ]
     },
     "metadata": {},
     "output_type": "display_data"
    }
   ],
   "source": [
    "plt.figure(figsize=(10,10))\n",
    "plt.scatter(x,y,color='g')\n",
    "#plt.scatter(x,z)\n",
    "plt.scatter(x_rfft,r_y,color='b')\n",
    "plt.scatter(x_rfft,r_y2,color='r')\n",
    "plt.show()"
   ]
  },
  {
   "cell_type": "code",
   "execution_count": 203,
   "metadata": {
    "collapsed": false
   },
   "outputs": [
    {
     "name": "stdout",
     "output_type": "stream",
     "text": [
      "2\n",
      "0\n",
      "5\n",
      "3\n",
      "2\n",
      "3\n",
      "3\n",
      "2\n",
      "3\n",
      "0\n",
      "5\n",
      "5\n",
      "2\n",
      "4\n",
      "2\n",
      "5\n",
      "5\n",
      "5\n",
      "2\n",
      "1\n"
     ]
    }
   ],
   "source": [
    "for i in range(20):\n",
    "    print random.randint(0,5)"
   ]
  },
  {
   "cell_type": "code",
   "execution_count": null,
   "metadata": {
    "collapsed": true
   },
   "outputs": [],
   "source": []
  }
 ],
 "metadata": {
  "kernelspec": {
   "display_name": "Python 2",
   "language": "python",
   "name": "python2"
  },
  "language_info": {
   "codemirror_mode": {
    "name": "ipython",
    "version": 2
   },
   "file_extension": ".py",
   "mimetype": "text/x-python",
   "name": "python",
   "nbconvert_exporter": "python",
   "pygments_lexer": "ipython2",
   "version": "2.7.13"
  }
 },
 "nbformat": 4,
 "nbformat_minor": 2
}
