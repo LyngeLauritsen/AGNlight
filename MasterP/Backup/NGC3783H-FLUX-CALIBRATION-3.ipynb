{
 "cells": [
  {
   "cell_type": "code",
   "execution_count": 1,
   "metadata": {},
   "outputs": [
    {
     "name": "stderr",
     "output_type": "stream",
     "text": [
      "/home/lynge/anaconda2/lib/python2.7/site-packages/matplotlib/__init__.py:1405: UserWarning: \n",
      "This call to matplotlib.use() has no effect because the backend has already\n",
      "been chosen; matplotlib.use() must be called *before* pylab, matplotlib.pyplot,\n",
      "or matplotlib.backends is imported for the first time.\n",
      "\n",
      "  warnings.warn(_use_error_msg)\n"
     ]
    }
   ],
   "source": [
    "import numpy as np\n",
    "import scipy as sp\n",
    "import matplotlib\n",
    "import matplotlib.pyplot as plt\n",
    "%matplotlib inline\n",
    "from matplotlib.colors import LogNorm\n",
    "import scipy.stats as stats\n",
    "from matplotlib import gridspec\n",
    "import aplpy as apl #The Astronomy Plotting Library for python\n",
    "import astropy\n",
    "from astropy.stats import sigma_clip\n",
    "from astropy.modeling import functional_models, models, fitting\n",
    "import astropy.units as U\n",
    "from astropy.coordinates import ICRS, Galactic, FK4, FK5, Angle, Latitude, Longitude\n",
    "import astropy.constants as C\n",
    "from astropy import wcs\n",
    "import astropy.io.fits as fits\n",
    "from astropy.io import ascii\n",
    "import astropy.coordinates as coord\n",
    "from astropy.coordinates import SkyCoord\n",
    "from astropy.stats import signal_to_noise_oir_ccd as SNRas\n",
    "#import spectral_cube as SC\n",
    "#from spectral_cube import SpectralCube as sc\n",
    "from astropy.wcs import WCS\n",
    "matplotlib.use('Agg')\n",
    "import matplotlib.cm as cm\n",
    "#import astrometry as ast\n",
    "import pyfits\n",
    "import requests\n",
    "import json\n",
    "import os\n",
    "from sklearn import datasets, linear_model\n",
    "from scipy.optimize import curve_fit\n",
    "import numpy.ma as ma\n",
    "from astropy.table import Table, Column\n",
    "import pyextract\n",
    "import sewpy\n",
    "import pandas as pd\n",
    "#import alipy"
   ]
  },
  {
   "cell_type": "code",
   "execution_count": 2,
   "metadata": {
    "collapsed": true
   },
   "outputs": [],
   "source": [
    "quasH = os.listdir('/../home/lynge/MasterP/NGC3783/NGC3783H/')\n",
    "quasH = [os.path.join('/../home/lynge/MasterP/NGC3783/NGC3783H/',f) \\\n",
    "        for f in os.listdir('/../home/lynge/MasterP/NGC3783/NGC3783H/')]\n",
    "\n",
    "#flat = [os.path.join('/../home/lynge/MasterP/Flats/Flatsr/',f) \\\n",
    "#        for f in os.listdir('/../home/lynge/MasterP/Flats/Flatsr/')]\n",
    "\n",
    "#flat_date = np.load('r-flat_date.npy')\n",
    "#flat_plate = np.load('r-flat_plate.npy')\n",
    "\n",
    "#print flat\n",
    "#print pyfits.getheader(quasH[0])\n",
    "\n",
    "qua1_RA_WORLD = 174.75717083\n",
    "qua1_DEC_WORLD = -37.73850000\n",
    "sta1_RA_WORLD = 174.77413750 - 9*10**(-5) #HD 101274\n",
    "sta1_DEC_WORLD = -37.75375000 + 6.4*10**(-5)\n",
    "sta2_RA_WORLD = 174.82283333 - 0.15/3600. #Tycho-2 7740-22-1\n",
    "sta2_DEC_WORLD = -37.76239167\n",
    "sta3_RA_WORLD = 174.79553333 #174.79553250 #Tycho-2 7740-529-1\n",
    "sta3_DEC_WORLD = -37.83470278 #-37.83470333\n",
    "gal_RA_WORLD = 174.69151250 + 0.6/3600.# Galaxy\n",
    "gal_DEC_WORLD = -37.71181944 + 0.4/3600\n",
    "\n",
    "\n",
    "nsta1_RA_WORLD = 174.78085417\n",
    "nsta1_DEC_WORLD = -37.72087222\n",
    "\n",
    "nsta2_RA_WORLD = 174.80970000\n",
    "nsta2_DEC_WORLD = -37.70315556\n",
    "\n",
    "nsta3_RA_WORLD = 174.81946667\n",
    "nsta3_DEC_WORLD = -37.70895000\n",
    "\n",
    "nsta4_RA_WORLD = 174.78542917\n",
    "nsta4_DEC_WORLD = -37.68869722\n",
    "\n",
    "nsta5_RA_WORLD = 174.77695000\n",
    "nsta5_DEC_WORLD = -37.69085833\n",
    "\n",
    "sky_RA_WORLD = 174.75445032458904 #Random patch of sky\n",
    "sky_DEC_WORLD = -37.77465736280882\n",
    "\n",
    "\n",
    "sky2_RA_WORLD = 174.78004  #Random patch of sky\n",
    "sky2_DEC_WORLD = -37.705313\n",
    "\n",
    "MAG_HD101274_B = 9.23\n",
    "MAG_HD101274_V = 9.12\n",
    "MAG_HD101274_G = 9.192\n",
    "MAG_HD101274_J = float('nan')\n",
    "MAG_HD101274_H = float('nan')\n",
    "MAG_HD101274_K = float('nan')\n",
    "\n",
    "MAG_HD101274_g = 9.1124\n",
    "MAG_HD101274_r = 9.5110\n",
    "MAG_HD101274_i = float('nan')\n",
    "MAG_HD101274_z = 10.3072\n",
    "\n",
    "MAG_TYCHO_2_7740_22_1_B = 12.58\n",
    "MAG_TYCHO_2_7740_22_1_V = 12.12\n",
    "MAG_TYCHO_2_7740_22_1_G = 11.78\n",
    "MAG_TYCHO_2_7740_22_1_J = 10.919\n",
    "MAG_TYCHO_2_7740_22_1_H = 10.726\n",
    "MAG_TYCHO_2_7740_22_1_K = 10.611\n",
    "\n",
    "MAG_TYCHO_2_7740_22_1_g = 11.7892\n",
    "MAG_TYCHO_2_7740_22_1_r = 11.6444\n",
    "MAG_TYCHO_2_7740_22_1_i = float('nan')\n",
    "MAG_TYCHO_2_7740_22_1_z = 11.5203\n",
    "\n",
    "MAG_TYCHO_2_7740_529_1_B = 11.61\n",
    "MAG_TYCHO_2_7740_529_1_V = 10.94\n",
    "MAG_TYCHO_2_7740_529_1_G = 10.867\n",
    "MAG_TYCHO_2_7740_529_1_J = 9.902\n",
    "MAG_TYCHO_2_7740_529_1_H = 9.625\n",
    "MAG_TYCHO_2_7740_529_1_K = 9.580\n",
    "\n",
    "MAG_VEGA_B = 0.03\n",
    "MAG_VEGA_V = 0.03\n",
    "MAG_VEGA_G = 0.03\n",
    "MAG_VEGA_J = -0.18\n",
    "MAG_VEGA_H = -0.03\n",
    "MAG_VEGA_K = 0.13\n",
    "\n",
    "MAG_VEGA_g = -0.08\n",
    "MAG_VEGA_r = 0.16\n",
    "MAG_VEGA_i = 0.37\n",
    "MAG_VEGA_z = 0.54\n",
    "\n",
    "FLUX_LAMBDA_VEGA_B = 632*10**(-11) #erg/cm**2/s/A\n",
    "FLUX_LAMBDA_VEGA_V = 363.1*10**(-11)\n",
    "FLUX_LAMBDA_VEGA_G = float('nan')\n",
    "FLUX_LAMBDA_VEGA_J = 31.47*10**(-11)\n",
    "FLUX_LAMBDA_VEGA_H = 11.38*10**(-11)\n",
    "FLUX_LAMBDA_VEGA_K = 3.961*10**(-11)\n",
    "\n",
    "FLUX_LAMBDA_VEGA_g = 466.9*10**(-11) #erg/cm**2/s/A\n",
    "FLUX_LAMBDA_VEGA_r = 278.0*10**(-11)\n",
    "FLUX_LAMBDA_VEGA_i = 185.2*10**(-11)\n",
    "FLUX_LAMBDA_VEGA_z = 131.5*10**(-11)\n",
    "\n",
    "\n",
    "FLUX_V_VEGA_B = 4.063*10**(-20) #erg/cm**2/s/Hz\n",
    "FLUX_V_VEGA_V = 3.636*10**(-20)\n",
    "FLUX_V_VEGA_G = float('nan')\n",
    "FLUX_V_VEGA_J = 1.589*10**(-20)\n",
    "FLUX_V_VEGA_H = 1.021*10**(-20)\n",
    "FLUX_V_VEGA_K = 0.64*10**(-20)\n",
    "\n",
    "FLUX_V_VEGA_g = 3.631*10**(-20) #erg/cm**2/s/Hz\n",
    "FLUX_V_VEGA_r = 3.631*10**(-20)\n",
    "FLUX_V_VEGA_i = 3.631*10**(-20)\n",
    "FLUX_V_VEGA_z = 3.631*10**(-20)\n"
   ]
  },
  {
   "cell_type": "code",
   "execution_count": null,
   "metadata": {
    "collapsed": true
   },
   "outputs": [],
   "source": []
  },
  {
   "cell_type": "code",
   "execution_count": null,
   "metadata": {
    "collapsed": true
   },
   "outputs": [],
   "source": []
  },
  {
   "cell_type": "code",
   "execution_count": null,
   "metadata": {
    "collapsed": true
   },
   "outputs": [],
   "source": []
  },
  {
   "cell_type": "markdown",
   "metadata": {},
   "source": [
    "flat_date = []\n",
    "flat_plate = []\n",
    "\n",
    "for i in range(len(flat)):\n",
    "    header1 = pyfits.getheader(flat[i])\n",
    "    if int(header1['MJD-OBS']) not in flat_date:\n",
    "        flat_date.append(int(header1['MJD-OBS']))\n",
    "        plate = np.zeros((1024,1024))\n",
    "        for j in range(len(flat)):\n",
    "            header2 = pyfits.getheader(flat[j])\n",
    "            if int(header2['MJD-OBS']) == int(header1['MJD-OBS']):\n",
    "                plate = plate + pyfits.getdata(flat[j])\n",
    "        plate = plate/np.mean(plate)\n",
    "        flat_plate.append(plate)\n",
    "\n",
    "flat_date = np.array(flat_date)\n",
    "flat_plate = np.array(flat_plate)\n",
    "\n",
    "flat_array = np.array((flat_date,flat_plate))\n",
    "\n"
   ]
  },
  {
   "cell_type": "markdown",
   "metadata": {},
   "source": [
    "np.save('r-flat_date',flat_date)\n",
    "np.save('r-flat_plate',flat_plate)"
   ]
  },
  {
   "cell_type": "code",
   "execution_count": 3,
   "metadata": {
    "collapsed": true
   },
   "outputs": [],
   "source": [
    "def dist(mid,end):\n",
    "    return np.sqrt((mid[0] - end[0])**2 + (mid[1] - end[1])**2)"
   ]
  },
  {
   "cell_type": "code",
   "execution_count": 4,
   "metadata": {
    "collapsed": true
   },
   "outputs": [],
   "source": [
    "def flux_cal(A_mag,B_mag,B_flux):\n",
    "    '''Flux of A found through magnitude and flux of B'''\n",
    "    return B_flux*10**((B_mag-A_mag)/2.5)"
   ]
  },
  {
   "cell_type": "code",
   "execution_count": 5,
   "metadata": {
    "collapsed": true
   },
   "outputs": [],
   "source": [
    "def Basic(quasar,header):\n",
    "    '''Provides a basic list of neccesities from the fits header file for use in the later \\\n",
    "    flux determination, it does not serve an individual purpose beyound that'''\n",
    "    AGNdata = quasar #np.rot90(np.rot90(np.fliplr(quasar)))\n",
    "    #header = data[0].header\n",
    "    #print header\n",
    "    RAstd = header['CRVAL1']\n",
    "    DECstd = header['CRVAL2']\n",
    "    #print RAstd, DECstd\n",
    "    pixspa = header['PIXSCALE']/(3600.)\n",
    "    #print pixspa\n",
    "    RAstdpix = header['CRPIX1']\n",
    "    DECstdpix = header['CRPIX2']\n",
    "    exptime = 10 # header['EXPTIME']\n",
    "    return header,AGNdata,RAstd,DECstd,pixspa,RAstdpix,DECstdpix,exptime"
   ]
  },
  {
   "cell_type": "code",
   "execution_count": 6,
   "metadata": {
    "collapsed": true
   },
   "outputs": [],
   "source": [
    "def flat_solve(image,header,f_date,f_plate):\n",
    "    day = float('nan')\n",
    "    for i in range(len(f_date)):\n",
    "        if f_date[i] == int(header['MJD-OBS']):\n",
    "            day = i\n",
    "    image1 = image/f_plate[day]\n",
    "    image1[f_plate == 0] = 0\n",
    "    return image1"
   ]
  },
  {
   "cell_type": "code",
   "execution_count": 7,
   "metadata": {
    "collapsed": true
   },
   "outputs": [],
   "source": [
    "def curve(quasar,header,w,center,apparature):\n",
    "    '''Determines the FLUX of the stellar object given the the numpy array of the image, \\\n",
    "    the header of the fits file, the astropy coordinate representation, \\\n",
    "    the object position and the apparature of interest'''\n",
    "    header,AGNdata,RAstd,DECstd,pixspa,RAstdpix,DECstdpix,exptime = Basic(quasar,header)\n",
    "    #AGNdata = np.swapaxes(AGNdata,0,1)\n",
    "    y, x = np.ogrid[0:header['NAXIS1'],0:header['NAXIS1']]\n",
    "    #w = np.swapaxes(w,0,1)\n",
    "    #F_AGN = np.zeros((512,512,3)) #((int(2*apparature/pixspa)+1,int(2*apparature/pixspa)+1,3))\n",
    "    #print center\n",
    "    x1 = w.all_world2pix(center[0],center[1],0)\n",
    "    x1,y1 = (x1[0]),(x1[1])\n",
    "    try:\n",
    "        #AGNdata = flat_solve(AGNdata,header,flat_date,flat_plate)\n",
    "        mask = ((y-y1)**2 + (x-x1)**2) > (apparature/float(pixspa))**2\n",
    "        AGNdata[mask] = float(0)\n",
    "        mask = AGNdata == 0.\n",
    "        rows = np.flatnonzero((~mask).sum(axis=1))\n",
    "        cols = np.flatnonzero((~mask).sum(axis=0))\n",
    "        AGNdata = AGNdata[rows.min():rows.max()+1, cols.min():cols.max()+1]\n",
    "        #print apparature/float(pixspa)\n",
    "    except:\n",
    "        AGNdata = np.array([[float('nan'),float('nan')],[float('nan'),float('nan')]])\n",
    "    #if np.sum(AGNdata) < 500:\n",
    "    #    AGNdata = np.array([[float('nan'),float('nan')],[float('nan'),float('nan')]])\n",
    "    return AGNdata, x1, y1\n"
   ]
  },
  {
   "cell_type": "code",
   "execution_count": 8,
   "metadata": {
    "collapsed": true
   },
   "outputs": [],
   "source": [
    "def comp1(qua,sta):\n",
    "    '''Code to determine the relation between the AGN and the Stellar flux as determined by either me \\\n",
    "    or by the SExtractor program respectively'''\n",
    "    comp = qua/sta\n",
    "    return comp"
   ]
  },
  {
   "cell_type": "code",
   "execution_count": 9,
   "metadata": {
    "collapsed": true
   },
   "outputs": [],
   "source": [
    "def SXtable(quas,aperture,s):\n",
    "    header = pyfits.getheader(quas[s])\n",
    "    phot_app = aperture*3600/header['PIXSCALE']\n",
    "    np.set_printoptions(threshold=np.inf)\n",
    "    sew = sewpy.SEW(params=['XMODEL_WORLD', 'YMODEL_WORLD', 'X2MODEL_WORLD', 'Y2MODEL_WORLD', \n",
    "                            'XMODEL_IMAGE', 'YMODEL_IMAGE', 'FLUX_RADIUS(1)', 'FLUX_APER','ELLIPTICITY'],\n",
    "                    config={\"DETECT_THRESH\":5, 'DETECT_MINAREA':5, 'DETECT_MAXAREA':100, \n",
    "                            \"PHOT_FLUXFRAC\":\"0.5\", 'PHOT_APERTURES':2*phot_app, \n",
    "                            'PIXEL_SCALE':header['PIXSCALE']}\n",
    "                    , sexpath='/usr/bin/sextractor')\n",
    "    out = sew(quas[s])\n",
    "    return out"
   ]
  },
  {
   "cell_type": "code",
   "execution_count": 10,
   "metadata": {
    "collapsed": true
   },
   "outputs": [],
   "source": [
    "def SXtable2(star,aperture,header):\n",
    "    phot_app = aperture*3600/header['PIXSCALE']\n",
    "    np.set_printoptions(threshold=np.inf)\n",
    "    sew = sewpy.SEW(params=['XMODEL_WORLD', 'YMODEL_WORLD', 'X2MODEL_WORLD', 'Y2MODEL_WORLD', \n",
    "                            'XMODEL_IMAGE', 'YMODEL_IMAGE', 'FLUX_RADIUS(1)', 'FLUX_APER','ELLIPTICITY'],\n",
    "                    config={\"DETECT_THRESH\":5, 'DETECT_MINAREA':5, 'DETECT_MAXAREA':100, \n",
    "                            \"PHOT_FLUXFRAC\":\"0.5\", 'PHOT_APERTURES':2*phot_app, \n",
    "                            'PIXEL_SCALE':header['PIXSCALE']}\n",
    "                    , sexpath='/usr/bin/sextractor')\n",
    "    out = sew(star)\n",
    "    return out"
   ]
  },
  {
   "cell_type": "code",
   "execution_count": 11,
   "metadata": {
    "collapsed": true
   },
   "outputs": [],
   "source": [
    "def flux(quas,aperture,main_RA_WORLD,main_DEC_WORLD):\n",
    "    output = np.zeros(((len(quas))),dtype=np.dtype([('flux_main',float),('time',float),('err',float),\\\n",
    "                                                    ('err_bar',float), ('posx',float),('posy',float),\\\n",
    "                                                    ('posx_err',float),('posy_err',float),\\\n",
    "                                                    ('Ellipticity',float)]))\n",
    "    headerlist = []\n",
    "    for i in range(len(quas)):\n",
    "        out = SXtable(quas,aperture,i)\n",
    "        RAmain = WCS(quas[i]).all_world2pix(main_RA_WORLD,main_DEC_WORLD,1)[0]\n",
    "        DECmain = WCS(quas[i]).all_world2pix(main_RA_WORLD,main_DEC_WORLD,1)[1]\n",
    "        #RAsec = WCS(quas[i]).all_world2pix(sec_RA_WORLD,sec_DEC_WORLD,1)[0]\n",
    "        #DECsec = WCS(quas[i]).all_world2pix(sec_RA_WORLD,sec_DEC_WORLD,1)[1]\n",
    "        header = pyfits.getheader(quas[i])\n",
    "        #mask = (out['table']['XMODEL_IMAGE'] < RAmain - 2) & (out['table']['XMODEL_IMAGE'] > RAmain + 2)\n",
    "        output['flux_main'][i] = np.nan\n",
    "        output['time'][i] = header['MJD-OBS']\n",
    "        output['err'][i] = np.nan\n",
    "        output['err_bar'][i] = np.nan\n",
    "        output['posx'][i] = np.nan\n",
    "        output['posx_err'][i] = np.nan\n",
    "        output['posy'][i] = np.nan\n",
    "        output['posy_err'][i] = np.nan\n",
    "        output['Ellipticity'][i] = np.nan\n",
    "        headerlist.append(header)\n",
    "        for j in range(len(out['table']['XMODEL_IMAGE'])):\n",
    "            #output['time'][i] = header['MJD-OBS']\n",
    "            if RAmain - 1. < out['table']['XMODEL_IMAGE'][j] <  RAmain + 1. and \\\n",
    "            DECmain - 1. < out['table']['YMODEL_IMAGE'][j] < DECmain + 1.:\n",
    "                output['flux_main'][i] = out['table']['FLUX_APER'][j]\n",
    "                output['err'][i] = 3600*np.sqrt((out['table']['XMODEL_WORLD'][j] - main_RA_WORLD)**2 \\\n",
    "                                        + (out['table']['YMODEL_WORLD'][j] - main_DEC_WORLD)**2)\n",
    "                output['err_bar'][i] = np.sqrt(out['table']['X2MODEL_WORLD'][j]**2 \\\n",
    "                                       + out['table']['Y2MODEL_WORLD'][j]**2)\n",
    "                output['posx'][i] = out['table']['XMODEL_WORLD'][j]\n",
    "                output['posx_err'][i] = out['table']['X2MODEL_WORLD'][j]\n",
    "                output['posy'][i] = out['table']['YMODEL_WORLD'][j]\n",
    "                output['posy_err'][i] = out['table']['Y2MODEL_WORLD'][j]\n",
    "                output['Ellipticity'][i] = out['table']['ELLIPTICITY'][j]\n",
    "    print 'Done'\n",
    "    return output, headerlist\n"
   ]
  },
  {
   "cell_type": "code",
   "execution_count": 12,
   "metadata": {
    "collapsed": true
   },
   "outputs": [],
   "source": [
    "def SNR(data1,data2,header,ap1,ap2):\n",
    "    npix1 = np.count_nonzero(data1)\n",
    "    npix2 = np.count_nonzero(data2)\n",
    "    data1_2 = np.sum(data1)*header['GAIN']\n",
    "    data2_2 = np.sum(data2)*header['GAIN']\n",
    "    #-------------------------------------------------------------------------------------------\n",
    "    return SNRas(header['DIT'],data1_2,data2_2,0,header['RON'],npix1)\n",
    "#data1_2*header['EXPTIME']/np.sqrt(data1_2*header['EXPTIME'] + data2_2*header['EXPTIME'] + \n",
    "#                                             header['DRKNOISE']*npix1*header['EXPTIME'] + \n",
    "#                                             (header['RONOISE']/float(header['GAIN']))**2*npix1)\n",
    "#SNRas(header['EXPTIME'],data1_2,data2_2,0,header['RONOISE'],npix1,gain=header['GAIN'])\n",
    "#(data1_2*header['DIT'])/(np.sqrt(data1_2*header['DIT']\n",
    "#                                                + npix1*data2_2*header['DIT']\n",
    "#                                                + (1*npix1*header['RON']/float(header['GAIN']))**2))\n",
    "#SNRas(header['DIT'],data1_2,abs(data2_2),0,header['RON'],npix1,gain=header['GAIN'])"
   ]
  },
  {
   "cell_type": "code",
   "execution_count": 13,
   "metadata": {},
   "outputs": [
    {
     "name": "stderr",
     "output_type": "stream",
     "text": [
      "WARNING: AstropyDeprecationWarning: \"clobber\" was deprecated in version 2.0 and will be removed in a future version. Use argument \"overwrite\" instead. [astropy.utils.decorators]\n"
     ]
    }
   ],
   "source": [
    "for i in range(len(quasH)):\n",
    "    data, header = fits.getdata(quasH[i],header=True) #RA---TAN\n",
    "    #print header['CTYPE2']\n",
    "    header['CTYPE1'] = \"RA---TAN -SIP\"\n",
    "    header['CTYPE2'] = \"DEC--TAN -SIP\"\n",
    "    '''header['A_ORDER'] = \"0\"\n",
    "    header['B_ORDER'] = \"0\"\n",
    "    header['AP_ORDER'] = \"0\"\n",
    "    header['BP_ORDER'] = \"0\"\n",
    "    header['A_0_2'] = \"0\"\n",
    "    header['A_1_1'] = \"0\"\n",
    "    header['A_2_0'] = \"0\"\n",
    "    header['B_0_2'] = \"0\"\n",
    "    header['B_1_1'] = \"0\"\n",
    "    header['B_2_0'] = \"0\"\n",
    "    header['AP_0_2'] = \"0\"\n",
    "    header['AP_1_1'] = \"0\"\n",
    "    header['AP_2_0'] = \"0\"\n",
    "    header['AP_0_1'] = \"0\"\n",
    "    header['AP_1_0'] = \"0\"\n",
    "    header['BP_0_1'] = \"0\"\n",
    "    header['BP_0_2'] = \"0\"\n",
    "    header['BP_1_0'] = \"0\"\n",
    "    header['BP_1_1'] = \"0\"\n",
    "    header['BP_2_0'] = \"0\"'''\n",
    "    fits.writeto(quasH[i],data,header,clobber=True)\n",
    "    #print fits.getheader(quasH[i])['A_ORDER']"
   ]
  },
  {
   "cell_type": "code",
   "execution_count": null,
   "metadata": {
    "collapsed": true
   },
   "outputs": [],
   "source": []
  },
  {
   "cell_type": "code",
   "execution_count": 14,
   "metadata": {
    "collapsed": true
   },
   "outputs": [],
   "source": [
    "def AGNflux(quas,aperture1):\n",
    "    aperture2 = aperture1 + 0.001\n",
    "    date = []\n",
    "    flucompsta1 = []\n",
    "    flucompsta2 = []\n",
    "    flucompsta3 = []\n",
    "    flucompsta4 = []\n",
    "    flucompsta5 = []\n",
    "    flucompsta6 = []\n",
    "    flucompsta7 = []\n",
    "    SNR1 = []\n",
    "    SNR2 = []\n",
    "    SNR3 = []\n",
    "    SNR4 = []\n",
    "    SNR5 = []\n",
    "    poissonAGN = []\n",
    "    poisson529 = []\n",
    "    poisson22 = []\n",
    "    poissonHD = []\n",
    "    ABS_FLUX_LAMBDA_1 = 0\n",
    "    ABS_FLUX_LAMBDA_2 = 0\n",
    "    ABS_FLUX_LAMBDA_3 = 0\n",
    "    ABS_FLUX_V_1 = 0\n",
    "    ABS_FLUX_V_2 = 0\n",
    "    ABS_FLUX_V_3 = 0\n",
    "    SNR_comp = []\n",
    "    comp_array = np.zeros((len(quas),7))\n",
    "    SNR_array = np.zeros((len(quas),8))\n",
    "    #-----------------------------------------------------------------------------------------------\n",
    "    for i in range(len(quas)):\n",
    "        print 'Frame nr. ', i\n",
    "        header = pyfits.getheader(quas[i])\n",
    "        a_AGN = curve(pyfits.getdata(quas[i]),pyfits.getheader(quas[i]),WCS(quas[i]),\n",
    "                   (qua1_RA_WORLD,qua1_DEC_WORLD),aperture1)[0]/header['DIT']\n",
    "        a2 = curve(pyfits.getdata(quas[i]),pyfits.getheader(quas[i]),WCS(quas[i]),\n",
    "                   (nsta1_RA_WORLD,nsta1_DEC_WORLD),aperture1)[0]/header['DIT']\n",
    "        a3 = curve(pyfits.getdata(quas[i]),pyfits.getheader(quas[i]),WCS(quas[i]),\n",
    "                   (sta2_RA_WORLD,sta2_DEC_WORLD),aperture1)[0]/header['DIT']\n",
    "        a4 = curve(pyfits.getdata(quas[i]),pyfits.getheader(quas[i]),WCS(quas[i]),\n",
    "                   (sta3_RA_WORLD,sta3_DEC_WORLD),aperture1)[0]/header['DIT']\n",
    "        a5 = curve(pyfits.getdata(quas[i]),pyfits.getheader(quas[i]),WCS(quas[i]),\n",
    "                   (nsta3_RA_WORLD,nsta3_DEC_WORLD),aperture1)[0]/header['DIT']\n",
    "        a6 = curve(pyfits.getdata(quas[i]),pyfits.getheader(quas[i]),WCS(quas[i]),\n",
    "                   (nsta4_RA_WORLD,nsta4_DEC_WORLD),aperture1)[0]/header['DIT']\n",
    "        a7 = curve(pyfits.getdata(quas[i]),pyfits.getheader(quas[i]),WCS(quas[i]),\n",
    "                   (nsta5_RA_WORLD,nsta5_DEC_WORLD),aperture1)[0]/header['DIT']\n",
    "        a_sky = curve(pyfits.getdata(quas[i]),pyfits.getheader(quas[i]),WCS(quas[i]),\n",
    "                   (sky_RA_WORLD,sky_DEC_WORLD),aperture1)[0]/header['DIT']\n",
    "        #-------------------------------------------------------------------------------------------\n",
    "        #plt.figure(figsize=(3,3))\n",
    "        #plt.imshow(a2)\n",
    "        #plt.show()\n",
    "        #-------------------------------------------------------------------------------------------\n",
    "        a_AGN_pix = np.count_nonzero(a_AGN)\n",
    "        a2_pix = np.count_nonzero(a2)\n",
    "        a3_pix = np.count_nonzero(a3)\n",
    "        a4_pix = np.count_nonzero(a4)\n",
    "        a5_pix = np.count_nonzero(a5)\n",
    "        a6_pix = np.count_nonzero(a6)\n",
    "        a7_pix = np.count_nonzero(a7)\n",
    "        a_sky_pix = np.count_nonzero(a_sky)\n",
    "        a_sky_2 = np.sum(a_sky)/float(np.count_nonzero(a_sky))\n",
    "        #a_AGN_2 = (np.sum(a_AGN_1) - np.sum(a_AGN))/(float(np.count_nonzero(a_AGN_1)) - float(np.count_nonzero(a_AGN)))\n",
    "        #a2_2 = (np.sum(a2_1) - np.sum(a2))/(float(np.count_nonzero(a2_1)) - float(np.count_nonzero(a2)))\n",
    "        #a3_2 = (np.sum(a3_1) - np.sum(a3))/(float(np.count_nonzero(a3_1)) - float(np.count_nonzero(a3)))\n",
    "        #a4_2 = (np.sum(a4_1) - np.sum(a4))/(float(np.count_nonzero(a4_1)) - float(np.count_nonzero(a4)))\n",
    "        a_AGN_3 = (np.sum(a_AGN)/float(np.count_nonzero(a_AGN)) - a_sky_2)*float(np.count_nonzero(a_AGN)) #Background subtracted flux/pixel/sec\n",
    "        a2_3 = (np.sum(a2)/float(np.count_nonzero(a2)) - a_sky_2)*float(np.count_nonzero(a2))\n",
    "        a3_3 = (np.sum(a3)/float(np.count_nonzero(a3)) - a_sky_2)*float(np.count_nonzero(a3))\n",
    "        a4_3 = (np.sum(a4)/float(np.count_nonzero(a4)) - a_sky_2)*float(np.count_nonzero(a4))\n",
    "        a5_3 = (np.sum(a5)/float(np.count_nonzero(a5)) - a_sky_2)*float(np.count_nonzero(a5))\n",
    "        a6_3 = (np.sum(a6)/float(np.count_nonzero(a6)) - a_sky_2)*float(np.count_nonzero(a6))\n",
    "        a7_3 = (np.sum(a7)/float(np.count_nonzero(a7)) - a_sky_2)*float(np.count_nonzero(a7))\n",
    "        #-------------------------------------------------------------------------------------------\n",
    "        date.append(header['MJD-OBS'])\n",
    "        #-------------------------------------------------------------------------------------------\n",
    "        SNR1.append(SNR(a_AGN,a_sky,header,aperture1,aperture1))\n",
    "        SNR2.append(SNR(a2,a_sky,header,aperture1,aperture1))\n",
    "        SNR3.append(SNR(a3,a_sky,header,aperture1,aperture1))\n",
    "        SNR4.append(SNR(a4,a_sky,header,aperture1,aperture1))\n",
    "        poissonAGN.append(np.sqrt(np.sum(a_AGN)*header['DIT']*header['GAIN'])) #header['DIT']))\n",
    "        poissonHD.append(np.sqrt(np.sum(a2)*header['DIT']*header['GAIN'])) #header['DIT']))\n",
    "        poisson22.append(np.sqrt(np.sum(a3)*header['DIT']*header['GAIN'])) #header['DIT']))\n",
    "        poisson529.append(np.sqrt(np.sum(a4)*header['DIT']*header['GAIN'])) #header['DIT']))\n",
    "        #-------------------------------------------------------------------------------------------\n",
    "        #if SNR1[i] < 70:\n",
    "        #    flucompsta_AGN.append(float('nan'))\n",
    "        #    flucompsta2.append(float('nan'))\n",
    "        #    flucompsta3.append(float('nan'))\n",
    "        #    flucompsta4.append(float('nan'))\n",
    "        #    flucompsta6.append(float('nan'))\n",
    "        #    comp_array[i,0] = int(date[i])\n",
    "        #    comp_array[i,1] = float('nan')\n",
    "        #    comp_array[i,2] = float('nan')\n",
    "        #    comp_array[i,3] = float('nan')\n",
    "        #else:\n",
    "        flucompsta1.append(comp1(a_AGN_3,a2_3))\n",
    "        flucompsta2.append(comp1(a_AGN_3,a3_3))\n",
    "        flucompsta3.append(comp1(a_AGN_3,a4_3))\n",
    "        flucompsta4.append(comp1(a_AGN_3,a5_3))\n",
    "        flucompsta5.append(comp1(a_AGN_3,a6_3))\n",
    "        flucompsta6.append(comp1(a_AGN_3,a7_3))\n",
    "        comp_array[i,0] = int(date[i])\n",
    "        comp_array[i,1] = flucompsta1[i]\n",
    "        comp_array[i,2] = flucompsta2[i]\n",
    "        comp_array[i,3] = flucompsta3[i]\n",
    "        comp_array[i,4] = flucompsta4[i]\n",
    "        comp_array[i,5] = flucompsta5[i]\n",
    "        comp_array[i,6] = flucompsta6[i]\n",
    "        SNR_array[i,0] = int(date[i])\n",
    "        SNR_array[i,1] = SNR(a_AGN,a_sky,header,aperture1,aperture1)\n",
    "        SNR_array[i,2] = SNR(a2,a_sky,header,aperture1,aperture1)\n",
    "        SNR_array[i,3] = SNR(a3,a_sky,header,aperture1,aperture1)\n",
    "        SNR_array[i,4] = SNR(a4,a_sky,header,aperture1,aperture1)\n",
    "        SNR_array[i,5] = SNR(a5,a_sky,header,aperture1,aperture1)\n",
    "        SNR_array[i,6] = SNR(a6,a_sky,header,aperture1,aperture1)\n",
    "        SNR_array[i,7] = SNR(a7,a_sky,header,aperture1,aperture1)\n",
    "    #-----------------------------------------------------------------------------------------------\n",
    "    poissonAGN = np.array(poissonAGN)\n",
    "    poissonHD = np.array(poissonHD)\n",
    "    poisson22 = np.array(poisson22)\n",
    "    poisson529 = np.array(poisson529)\n",
    "    comp_array = comp_array[comp_array[:,0].argsort()]\n",
    "    #-----------------------------------------------------------------------------------------------\n",
    "    ABS_FLUX_LAMBDA_1 = np.array(flucompsta1)*flux_cal(MAG_HD101274_r,\\\n",
    "                                                            MAG_VEGA_r,FLUX_LAMBDA_VEGA_r)\n",
    "    ABS_FLUX_LAMBDA_2 = np.array(flucompsta2)*flux_cal(MAG_TYCHO_2_7740_22_1_r,\\\n",
    "                                                            MAG_VEGA_r,FLUX_LAMBDA_VEGA_r)\n",
    "    #-----------------------------------------------------------------------------------------------\n",
    "    ABS_FLUX_V_1 = np.array(flucompsta1)*flux_cal(MAG_HD101274_r,\\\n",
    "                                                            MAG_VEGA_r,FLUX_V_VEGA_r)\n",
    "    ABS_FLUX_V_2 = np.array(flucompsta2)*flux_cal(MAG_TYCHO_2_7740_22_1_r,\\\n",
    "                                                            MAG_VEGA_r,FLUX_V_VEGA_r)\n",
    "    #-----------------------------------------------------------------------------------------------\n",
    "    return comp_array,SNR_array\n",
    "#np.array(flucompsta_AGN),np.array(flucompsta2),np.array(flucompsta3),np.array(flucompsta4),\\\n",
    "#np.array(flucompsta5),np.array(flucompsta6),np.array(flucompsta7),np.array(SNR1),np.array(SNR2),np.array(SNR3),\\\n",
    "#np.array(SNR4),np.array(SNR5),np.array(SNR_comp),ABS_FLUX_LAMBDA_1,ABS_FLUX_LAMBDA_2,ABS_FLUX_LAMBDA_3,\\\n",
    "#ABS_FLUX_V_1,ABS_FLUX_V_2,ABS_FLUX_V_3,date,poissonAGN,poissonHD,poisson22,poisson529,comp_array"
   ]
  },
  {
   "cell_type": "code",
   "execution_count": 15,
   "metadata": {
    "scrolled": true
   },
   "outputs": [
    {
     "name": "stdout",
     "output_type": "stream",
     "text": [
      "Frame nr.  0\n"
     ]
    },
    {
     "name": "stderr",
     "output_type": "stream",
     "text": [
      "WARNING: FITSFixedWarning: RADECSYS= 'FK5 ' / Equatorial coordinate system \n",
      "the RADECSYS keyword is deprecated, use RADESYSa. [astropy.wcs.wcs]\n",
      "WARNING: FITSFixedWarning: 'unitfix' made the change 'Changed units: 'degrees' -> 'deg', 'degrees' -> 'deg''. [astropy.wcs.wcs]\n"
     ]
    },
    {
     "name": "stdout",
     "output_type": "stream",
     "text": [
      "Frame nr.  1\n",
      "Frame nr.  2\n",
      "Frame nr.  3\n",
      "Frame nr.  4\n",
      "Frame nr.  5\n",
      "Frame nr.  6\n",
      "Frame nr.  7\n",
      "Frame nr.  8\n",
      "Frame nr.  9\n",
      "Frame nr.  10\n",
      "Frame nr.  11\n",
      "Frame nr.  12\n",
      "Frame nr.  13\n",
      "Frame nr.  14\n",
      "Frame nr.  15\n",
      "Frame nr.  16\n",
      "Frame nr.  17\n",
      "Frame nr.  18\n",
      "Frame nr.  19\n",
      "Frame nr.  20\n",
      "Frame nr.  21\n",
      "Frame nr.  22\n",
      "Frame nr.  23\n",
      "Frame nr.  24\n",
      "Frame nr.  25\n",
      "Frame nr.  26\n",
      "Frame nr.  27\n",
      "Frame nr.  28\n",
      "Frame nr.  29\n",
      "Frame nr.  30\n",
      "Frame nr.  31\n",
      "Frame nr.  32\n",
      "Frame nr.  33\n",
      "Frame nr.  34\n",
      "Frame nr.  35\n",
      "Frame nr.  36\n",
      "Frame nr.  37\n"
     ]
    }
   ],
   "source": [
    "comp_array,SNR_array = AGNflux(quasH,0.001)"
   ]
  },
  {
   "cell_type": "code",
   "execution_count": 16,
   "metadata": {
    "scrolled": false
   },
   "outputs": [
    {
     "data": {
      "image/png": "[encoded data removed]",
      "text/plain": [
       "<matplotlib.figure.Figure at 0x7f3e91755e10>"
      ]
     },
     "metadata": {},
     "output_type": "display_data"
    },
    {
     "data": {
      "image/png": "[encoded data removed]",
      "text/plain": [
       "<matplotlib.figure.Figure at 0x7f3e91a56e50>"
      ]
     },
     "metadata": {},
     "output_type": "display_data"
    },
    {
     "data": {
      "image/png": "[encoded data removed]",
      "text/plain": [
       "<matplotlib.figure.Figure at 0x7f3e8dd8eed0>"
      ]
     },
     "metadata": {},
     "output_type": "display_data"
    },
    {
     "data": {
      "image/png": "[encoded data removed]",
      "text/plain": [
       "<matplotlib.figure.Figure at 0x7f3e8dc66b90>"
      ]
     },
     "metadata": {},
     "output_type": "display_data"
    },
    {
     "data": {
      "image/png": "[encoded data removed]",
      "text/plain": [
       "<matplotlib.figure.Figure at 0x7f3e8dc0fa50>"
      ]
     },
     "metadata": {},
     "output_type": "display_data"
    },
    {
     "data": {
      "image/png": "[encoded data removed]",
      "text/plain": [
       "<matplotlib.figure.Figure at 0x7f3e8db48bd0>"
      ]
     },
     "metadata": {},
     "output_type": "display_data"
    }
   ],
   "source": [
    "plt.figure(figsize=(10,7))\n",
    "plt.scatter(comp_array[:,0],comp_array[:,1],marker='x')\n",
    "plt.ylim([2.5,7.5])\n",
    "plt.show()\n",
    "\n",
    "plt.figure(figsize=(10,7))\n",
    "plt.scatter(comp_array[:,0],comp_array[:,2],marker='x')\n",
    "plt.ylim([0.45,0.75])\n",
    "plt.show()\n",
    "\n",
    "plt.figure(figsize=(10,7))\n",
    "plt.scatter(comp_array[:,0],comp_array[:,3],marker='x')\n",
    "#plt.ylim([3,10])\n",
    "plt.show()\n",
    "\n",
    "plt.figure(figsize=(10,7))\n",
    "plt.scatter(comp_array[:,0],comp_array[:,4],marker='x')\n",
    "plt.ylim([6,12])\n",
    "plt.show()\n",
    "\n",
    "plt.figure(figsize=(10,7))\n",
    "plt.scatter(comp_array[:,0],comp_array[:,5],marker='x')\n",
    "plt.ylim([3.5,8])\n",
    "plt.show()\n",
    "\n",
    "plt.figure(figsize=(10,7))\n",
    "plt.scatter(comp_array[:,0],comp_array[:,6],marker='x')\n",
    "plt.ylim([4,10])\n",
    "plt.show()"
   ]
  },
  {
   "cell_type": "code",
   "execution_count": 17,
   "metadata": {
    "collapsed": true,
    "scrolled": true
   },
   "outputs": [],
   "source": [
    "#print comp_array\n",
    "comp_array_2 = np.zeros((len(comp_array[:,0]),13))\n",
    "#comp_array_2[0,0] = comp_array[0,0]\n",
    "tjek = 0\n",
    "\n",
    "for i in range(len(comp_array)):\n",
    "    if comp_array[i,0] != comp_array_2[tjek,0]:\n",
    "        comp_array_2[tjek,0] = comp_array[i,0]\n",
    "        com1 = []\n",
    "        com2 = []\n",
    "        com3 = []\n",
    "        com4 = []\n",
    "        com5 = []\n",
    "        com6 = []\n",
    "        com7 = []\n",
    "        for j in range(len(comp_array)):\n",
    "            if comp_array_2[tjek,0] == comp_array[j,0]:\n",
    "                com1.append(comp_array[j,1])\n",
    "                com2.append(comp_array[j,2])\n",
    "                com3.append(comp_array[j,3])\n",
    "                com4.append(comp_array[j,4])\n",
    "                com5.append(comp_array[j,5])\n",
    "                com6.append(comp_array[j,6])\n",
    "        comp_array_2[tjek,1] = np.mean(com1)\n",
    "        comp_array_2[tjek,2] = np.std(com1)\n",
    "        comp_array_2[tjek,3] = np.mean(com2)\n",
    "        comp_array_2[tjek,4] = np.std(com2)\n",
    "        comp_array_2[tjek,5] = np.mean(com3)\n",
    "        comp_array_2[tjek,6] = np.std(com3)\n",
    "        comp_array_2[tjek,7] = np.mean(com4)\n",
    "        comp_array_2[tjek,8] = np.std(com4)\n",
    "        comp_array_2[tjek,9] = np.mean(com5)\n",
    "        comp_array_2[tjek,10] = np.std(com5)\n",
    "        comp_array_2[tjek,11] = np.mean(com6)\n",
    "        comp_array_2[tjek,12] = np.std(com6)\n",
    "        tjek = tjek + 1\n",
    "#print comp_array_2\n"
   ]
  },
  {
   "cell_type": "code",
   "execution_count": 18,
   "metadata": {
    "scrolled": false
   },
   "outputs": [
    {
     "name": "stdout",
     "output_type": "stream",
     "text": [
      "0 0.0 0.0 5.2805453592\n",
      "57598.0\n"
     ]
    },
    {
     "data": {
      "image/png": "[encoded data removed]",
      "text/plain": [
       "<matplotlib.figure.Figure at 0x7f3edba0a710>"
      ]
     },
     "metadata": {},
     "output_type": "display_data"
    },
    {
     "data": {
      "image/png": "[encoded data removed]",
      "text/plain": [
       "<matplotlib.figure.Figure at 0x7f3e8d9b4e10>"
      ]
     },
     "metadata": {},
     "output_type": "display_data"
    },
    {
     "data": {
      "text/plain": [
       "\"\\nplt.figure(figsize=(10,7))\\nplt.errorbar(comp_array_2[:,0],comp_array_2[:,5],yerr=comp_array_2[:,6],fmt='.')\\n#plt.ylim([0.02,0.07])\\nplt.show()\\n\\nplt.figure(figsize=(10,7))\\nplt.errorbar(comp_array_2[:,0],comp_array_2[:,7],yerr=comp_array_2[:,8],fmt='.')\\nplt.ylim([3,8])\\nplt.show()\\n\\nplt.figure(figsize=(10,7))\\nplt.errorbar(comp_array_2[:,0],comp_array_2[:,9],yerr=comp_array_2[:,10],fmt='.')\\nplt.ylim([3,10])\\nplt.show()\\n\\nplt.figure(figsize=(10,7))\\nplt.errorbar(comp_array_2[:,0],comp_array_2[:,11],yerr=comp_array_2[:,12],fmt='.')\\nplt.ylim([4,10])\\nplt.show()\\n\""
      ]
     },
     "execution_count": 18,
     "metadata": {},
     "output_type": "execute_result"
    }
   ],
   "source": [
    "print np.nanargmax(comp_array_2[0:70,2]), comp_array_2[9,2]/comp_array_2[9,1], comp_array_2[9,2], comp_array_2[9,1]\n",
    "print comp_array_2[9,0]\n",
    "plt.figure(figsize=(10,7))\n",
    "plt.errorbar(comp_array_2[:,0],comp_array_2[:,1],yerr=comp_array_2[:,2],fmt='.')\n",
    "#plt.ylim([0.02,0.07])\n",
    "plt.show()\n",
    "\n",
    "plt.figure(figsize=(10,7))\n",
    "plt.errorbar(comp_array_2[:,0],comp_array_2[:,3],yerr=comp_array_2[:,4],fmt='.')\n",
    "#plt.ylim([0.02,0.07])\n",
    "plt.show()\n",
    "'''\n",
    "plt.figure(figsize=(10,7))\n",
    "plt.errorbar(comp_array_2[:,0],comp_array_2[:,5],yerr=comp_array_2[:,6],fmt='.')\n",
    "#plt.ylim([0.02,0.07])\n",
    "plt.show()\n",
    "\n",
    "plt.figure(figsize=(10,7))\n",
    "plt.errorbar(comp_array_2[:,0],comp_array_2[:,7],yerr=comp_array_2[:,8],fmt='.')\n",
    "plt.ylim([3,8])\n",
    "plt.show()\n",
    "\n",
    "plt.figure(figsize=(10,7))\n",
    "plt.errorbar(comp_array_2[:,0],comp_array_2[:,9],yerr=comp_array_2[:,10],fmt='.')\n",
    "plt.ylim([3,10])\n",
    "plt.show()\n",
    "\n",
    "plt.figure(figsize=(10,7))\n",
    "plt.errorbar(comp_array_2[:,0],comp_array_2[:,11],yerr=comp_array_2[:,12],fmt='.')\n",
    "plt.ylim([4,10])\n",
    "plt.show()\n",
    "'''"
   ]
  },
  {
   "cell_type": "code",
   "execution_count": 19,
   "metadata": {
    "collapsed": true
   },
   "outputs": [],
   "source": [
    "#print comp_array\n",
    "comp_array_2 = np.zeros((len(comp_array[:,0]),13))\n",
    "#comp_array_2[0,0] = comp_array[0,0]\n",
    "tjek = 0\n",
    "acceptance = 0.03\n",
    "\n",
    "for i in range(len(comp_array)):\n",
    "    if comp_array[i,0] != comp_array_2[tjek,0]:\n",
    "        comp_array_2[tjek,0] = comp_array[i,0]\n",
    "        com1 = []\n",
    "        com2 = []\n",
    "        com3 = []\n",
    "        com4 = []\n",
    "        com5 = []\n",
    "        com6 = []\n",
    "        com7 = []\n",
    "        for j in range(len(comp_array)):\n",
    "            if comp_array_2[tjek,0] == comp_array[j,0]:\n",
    "                com1.append(comp_array[j,1])\n",
    "                com2.append(comp_array[j,2])\n",
    "                com3.append(comp_array[j,3])\n",
    "                com4.append(comp_array[j,4])\n",
    "                com5.append(comp_array[j,5])\n",
    "                com6.append(comp_array[j,6])\n",
    "        comp_array_2[tjek,1] = np.mean(com1)\n",
    "        comp_array_2[tjek,2] = np.std(com1)\n",
    "        if comp_array_2[tjek,2]/float(comp_array_2[tjek,1]) > acceptance or float(comp_array_2[tjek,1]) < 0:\n",
    "            comp_array_2[tjek,1] = float('nan')\n",
    "            comp_array_2[tjek,2] = float('nan')\n",
    "        comp_array_2[tjek,3] = np.mean(com2)\n",
    "        comp_array_2[tjek,4] = np.std(com2)\n",
    "        if comp_array_2[tjek,4]/float(comp_array_2[tjek,3]) > acceptance or float(comp_array_2[tjek,3]) < 0:\n",
    "            comp_array_2[tjek,3] = float('nan')\n",
    "            comp_array_2[tjek,4] = float('nan')\n",
    "        comp_array_2[tjek,5] = np.mean(com3)\n",
    "        comp_array_2[tjek,6] = np.std(com3)\n",
    "        if comp_array_2[tjek,6]/float(comp_array_2[tjek,5]) > acceptance or float(comp_array_2[tjek,5]) < 0:\n",
    "            comp_array_2[tjek,5] = float('nan')\n",
    "            comp_array_2[tjek,6] = float('nan')\n",
    "        comp_array_2[tjek,7] = np.mean(com4)\n",
    "        comp_array_2[tjek,8] = np.std(com4)\n",
    "        if comp_array_2[tjek,8]/float(comp_array_2[tjek,7]) > acceptance or float(comp_array_2[tjek,7]) < 0:\n",
    "            comp_array_2[tjek,7] = float('nan')\n",
    "            comp_array_2[tjek,8] = float('nan')\n",
    "        comp_array_2[tjek,9] = np.mean(com5)\n",
    "        comp_array_2[tjek,10] = np.std(com5)\n",
    "        if comp_array_2[tjek,10]/float(comp_array_2[tjek,9]) > acceptance or float(comp_array_2[tjek,9]) < 0:\n",
    "            comp_array_2[tjek,9] = float('nan')\n",
    "            comp_array_2[tjek,10] = float('nan')\n",
    "        comp_array_2[tjek,11] = np.mean(com6)\n",
    "        comp_array_2[tjek,12] = np.std(com6)\n",
    "        if comp_array_2[tjek,12]/float(comp_array_2[tjek,11]) > acceptance or float(comp_array_2[tjek,11]) < 0:\n",
    "            comp_array_2[tjek,11] = float('nan')\n",
    "            comp_array_2[tjek,12] = float('nan')\n",
    "        tjek = tjek + 1\n",
    "#print comp_array_2\n"
   ]
  },
  {
   "cell_type": "code",
   "execution_count": 20,
   "metadata": {
    "scrolled": false
   },
   "outputs": [
    {
     "name": "stdout",
     "output_type": "stream",
     "text": [
      "0 0.0 0.0 5.2805453592\n",
      "57598.0\n"
     ]
    },
    {
     "data": {
      "image/png": "[encoded data removed]",
      "text/plain": [
       "<matplotlib.figure.Figure at 0x7f3e917ed3d0>"
      ]
     },
     "metadata": {},
     "output_type": "display_data"
    },
    {
     "data": {
      "image/png": "[encoded data removed]",
      "text/plain": [
       "<matplotlib.figure.Figure at 0x7f3e8d8b1750>"
      ]
     },
     "metadata": {},
     "output_type": "display_data"
    },
    {
     "data": {
      "image/png": "[encoded data removed]",
      "text/plain": [
       "<matplotlib.figure.Figure at 0x7f3e8d77dc90>"
      ]
     },
     "metadata": {},
     "output_type": "display_data"
    },
    {
     "data": {
      "image/png": "[encoded data removed]",
      "text/plain": [
       "<matplotlib.figure.Figure at 0x7f3e8d83d550>"
      ]
     },
     "metadata": {},
     "output_type": "display_data"
    },
    {
     "data": {
      "image/png": "[encoded data removed]",
      "text/plain": [
       "<matplotlib.figure.Figure at 0x7f3e8d772150>"
      ]
     },
     "metadata": {},
     "output_type": "display_data"
    },
    {
     "data": {
      "image/png": "[encoded data removed]",
      "text/plain": [
       "<matplotlib.figure.Figure at 0x7f3e8d71b050>"
      ]
     },
     "metadata": {},
     "output_type": "display_data"
    }
   ],
   "source": [
    "print np.nanargmax(comp_array_2[0:70,2]), comp_array_2[9,2]/comp_array_2[9,1], comp_array_2[9,2], comp_array_2[9,1]\n",
    "print comp_array_2[9,0]\n",
    "plt.figure(figsize=(10,7))\n",
    "plt.errorbar(comp_array_2[:,0],comp_array_2[:,1],yerr=comp_array_2[:,2],fmt='.')\n",
    "#plt.ylim([0.02,0.07])\n",
    "plt.show()\n",
    "\n",
    "plt.figure(figsize=(10,7))\n",
    "plt.errorbar(comp_array_2[:,0],comp_array_2[:,3],yerr=comp_array_2[:,4],fmt='.')\n",
    "#plt.ylim([0.02,0.07])\n",
    "plt.show()\n",
    "\n",
    "plt.figure(figsize=(10,7))\n",
    "plt.errorbar(comp_array_2[:,0],comp_array_2[:,5],yerr=comp_array_2[:,6],fmt='.')\n",
    "#plt.ylim([0.02,0.07])\n",
    "plt.show()\n",
    "\n",
    "plt.figure(figsize=(10,7))\n",
    "plt.errorbar(comp_array_2[:,0],comp_array_2[:,7],yerr=comp_array_2[:,8],fmt='.')\n",
    "#plt.ylim([0.02,0.07])\n",
    "plt.show()\n",
    "\n",
    "plt.figure(figsize=(10,7))\n",
    "plt.errorbar(comp_array_2[:,0],comp_array_2[:,9],yerr=comp_array_2[:,10],fmt='.')\n",
    "#plt.ylim([3,8])\n",
    "plt.show()\n",
    "\n",
    "plt.figure(figsize=(10,7))\n",
    "plt.errorbar(comp_array_2[:,0],comp_array_2[:,11],yerr=comp_array_2[:,12],fmt='.')\n",
    "plt.ylim([6,15])\n",
    "plt.show()\n"
   ]
  },
  {
   "cell_type": "code",
   "execution_count": null,
   "metadata": {
    "collapsed": true,
    "scrolled": false
   },
   "outputs": [],
   "source": []
  },
  {
   "cell_type": "code",
   "execution_count": 21,
   "metadata": {},
   "outputs": [
    {
     "data": {
      "image/png": "[encoded data removed]",
      "text/plain": [
       "<matplotlib.figure.Figure at 0x7f3e917f5710>"
      ]
     },
     "metadata": {},
     "output_type": "display_data"
    }
   ],
   "source": [
    "plt.figure(figsize=(15,15))\n",
    "plt.scatter(SNR_array[:,0],SNR_array[:,1],marker='o',label='AGN')\n",
    "plt.scatter(SNR_array[:,0],SNR_array[:,2],marker='.')\n",
    "plt.scatter(SNR_array[:,0],SNR_array[:,3],marker='*',label='AGN/Tycho-2 7740-22-1')\n",
    "plt.scatter(SNR_array[:,0],SNR_array[:,4],marker='*',label='AGN/Tycho-2 7740-529-1')\n",
    "plt.scatter(SNR_array[:,0],SNR_array[:,5],marker='x')\n",
    "plt.scatter(SNR_array[:,0],SNR_array[:,6],marker='x')\n",
    "plt.scatter(SNR_array[:,0],SNR_array[:,7],marker='x')\n",
    "plt.xlabel('Days')\n",
    "plt.ylabel('Relatve Flux (K-band)')\n",
    "plt.title('Aperture 0.001 deg')\n",
    "#plt.ylim([0.1,0.23])\n",
    "plt.legend()\n",
    "plt.show()\n"
   ]
  },
  {
   "cell_type": "code",
   "execution_count": null,
   "metadata": {
    "collapsed": true
   },
   "outputs": [],
   "source": []
  },
  {
   "cell_type": "code",
   "execution_count": null,
   "metadata": {
    "collapsed": true
   },
   "outputs": [],
   "source": []
  },
  {
   "cell_type": "code",
   "execution_count": null,
   "metadata": {
    "collapsed": true
   },
   "outputs": [],
   "source": []
  }
 ],
 "metadata": {
  "kernelspec": {
   "display_name": "Python 2",
   "language": "python",
   "name": "python2"
  },
  "language_info": {
   "codemirror_mode": {
    "name": "ipython",
    "version": 2
   },
   "file_extension": ".py",
   "mimetype": "text/x-python",
   "name": "python",
   "nbconvert_exporter": "python",
   "pygments_lexer": "ipython2",
   "version": "2.7.13"
  }
 },
 "nbformat": 4,
 "nbformat_minor": 2
}
