{
 "cells": [
  {
   "cell_type": "code",
   "execution_count": 1,
   "metadata": {},
   "outputs": [
    {
     "name": "stderr",
     "output_type": "stream",
     "text": [
      "/home/lynge/anaconda2/lib/python2.7/site-packages/matplotlib/__init__.py:1405: UserWarning: \n",
      "This call to matplotlib.use() has no effect because the backend has already\n",
      "been chosen; matplotlib.use() must be called *before* pylab, matplotlib.pyplot,\n",
      "or matplotlib.backends is imported for the first time.\n",
      "\n",
      "  warnings.warn(_use_error_msg)\n"
     ]
    }
   ],
   "source": [
    "import numpy as np\n",
    "import scipy as sp\n",
    "import matplotlib\n",
    "import matplotlib.pyplot as plt\n",
    "%matplotlib inline\n",
    "from matplotlib.colors import LogNorm\n",
    "import scipy.stats as stats\n",
    "from matplotlib import gridspec\n",
    "import aplpy as apl #The Astronomy Plotting Library for python\n",
    "import astropy\n",
    "from astropy.stats import sigma_clip\n",
    "from astropy.modeling import functional_models, models, fitting\n",
    "import astropy.units as U\n",
    "from astropy.coordinates import ICRS, Galactic, FK4, FK5, Angle, Latitude, Longitude\n",
    "import astropy.constants as C\n",
    "from astropy import wcs\n",
    "import astropy.io.fits as fits\n",
    "from astropy.io import ascii\n",
    "import astropy.coordinates as coord\n",
    "from astropy.coordinates import SkyCoord\n",
    "from astropy.stats import signal_to_noise_oir_ccd as SNRas\n",
    "#import spectral_cube as SC\n",
    "#from spectral_cube import SpectralCube as sc\n",
    "from astropy.wcs import WCS\n",
    "matplotlib.use('Agg')\n",
    "import matplotlib.cm as cm\n",
    "#import astrometry as ast\n",
    "import pyfits\n",
    "import requests\n",
    "import json\n",
    "import os\n",
    "from sklearn import datasets, linear_model\n",
    "from scipy.optimize import curve_fit\n",
    "import numpy.ma as ma\n",
    "from astropy.table import Table, Column\n",
    "import pyextract\n",
    "import sewpy\n",
    "import pandas as pd\n",
    "from astropy import units as u\n",
    "#import alipy"
   ]
  },
  {
   "cell_type": "code",
   "execution_count": 2,
   "metadata": {},
   "outputs": [
    {
     "name": "stdout",
     "output_type": "stream",
     "text": [
      "311.04065\n"
     ]
    }
   ],
   "source": [
    "quasJ = [os.path.join('/media/lynge/Lynge-Back-up/MARK509/z/',f) \\\n",
    "        for f in os.listdir('/media/lynge/Lynge-Back-up/MARK509/z/')]\n",
    "\n",
    "qua1_RA_WORLD = SkyCoord('20:44:09.756 -10:43:24.69', unit=(u.hourangle, u.deg)).ra.degree\n",
    "qua1_DEC_WORLD = SkyCoord('20:44:09.756 -10:43:24.69', unit=(u.hourangle, u.deg)).dec.degree\n",
    "\n",
    "print qua1_RA_WORLD\n",
    "\n",
    "sta1_RA_WORLD = SkyCoord('20:44:02.983 -10:40:22.61', unit=(u.hourangle, u.deg)).ra.degree #TYC 5760-1417-1\n",
    "sta1_DEC_WORLD = SkyCoord('20:44:02.983 -10:40:22.61', unit=(u.hourangle, u.deg)).dec.degree\n",
    "\n",
    "sta2_RA_WORLD = SkyCoord('20:44:28.164 -10:41:05.68', unit=(u.hourangle, u.deg)).ra.degree #TYC 5760-1435-1\n",
    "sta2_DEC_WORLD = SkyCoord('20:44:28.164 -10:41:05.68', unit=(u.hourangle, u.deg)).dec.degree\n",
    "\n",
    "sta3_RA_WORLD = SkyCoord('20:44:11.216 -10:41:52.35', unit=(u.hourangle, u.deg)).ra.degree #TYC 5760-1396-1\n",
    "sta3_DEC_WORLD = SkyCoord('20:44:11.216 -10:41:52.35', unit=(u.hourangle, u.deg)).dec.degree\n",
    "\n",
    "sky_RA_WORLD = SkyCoord('20:44:09 -10:42:54', unit=(u.hourangle, u.deg)).ra.degree #Random patch of sky\n",
    "sky_DEC_WORLD = SkyCoord('20:44:09 -10:42:54', unit=(u.hourangle, u.deg)).dec.degree\n",
    "\n",
    "\n",
    "MAG_STA1_g = 11.772\n",
    "MAG_STA1_r = 11.123\n",
    "MAG_STA1_i = 10.878\n",
    "MAG_STA1_z = 10.758\n",
    "\n",
    "MAG_STA2_g = 11.604\n",
    "MAG_STA2_r = 10.939\n",
    "MAG_STA2_i = 10.666\n",
    "MAG_STA2_z = 10.520\n",
    "\n",
    "MAG_STA3_g = 12.663\n",
    "MAG_STA3_r = 12.364\n",
    "MAG_STA3_i = 12.262\n",
    "MAG_STA3_z = 12.232\n",
    "\n",
    "MAG_VEGA_B = 0.03\n",
    "MAG_VEGA_V = 0.03\n",
    "MAG_VEGA_G = 0.03\n",
    "MAG_VEGA_J = -0.18\n",
    "MAG_VEGA_H = -0.03\n",
    "MAG_VEGA_K = 0.13\n",
    "\n",
    "MAG_VEGA_g = -0.08\n",
    "MAG_VEGA_r = 0.16\n",
    "MAG_VEGA_i = 0.37\n",
    "MAG_VEGA_z = 0.54\n",
    "\n",
    "FLUX_LAMBDA_VEGA_B = 632*10**(-11) #erg/cm**2/s/A\n",
    "FLUX_LAMBDA_VEGA_V = 363.1*10**(-11)\n",
    "FLUX_LAMBDA_VEGA_G = float('nan')\n",
    "FLUX_LAMBDA_VEGA_J = 31.47*10**(-11)\n",
    "FLUX_LAMBDA_VEGA_H = 11.38*10**(-11)\n",
    "FLUX_LAMBDA_VEGA_K = 3.961*10**(-11)\n",
    "\n",
    "FLUX_LAMBDA_VEGA_g = 466.9*10**(-11) #erg/cm**2/s/A\n",
    "FLUX_LAMBDA_VEGA_r = 278.0*10**(-11)\n",
    "FLUX_LAMBDA_VEGA_i = 185.2*10**(-11)\n",
    "FLUX_LAMBDA_VEGA_z = 131.5*10**(-11)\n",
    "\n",
    "\n",
    "FLUX_V_VEGA_B = 4.063*10**(-20) #erg/cm**2/s/Hz\n",
    "FLUX_V_VEGA_V = 3.636*10**(-20)\n",
    "FLUX_V_VEGA_G = float('nan')\n",
    "FLUX_V_VEGA_J = 1.589*10**(-20)\n",
    "FLUX_V_VEGA_H = 1.021*10**(-20)\n",
    "FLUX_V_VEGA_K = 0.64*10**(-20)\n",
    "\n",
    "FLUX_V_VEGA_g = 3.631*10**(-20) #erg/cm**2/s/Hz\n",
    "FLUX_V_VEGA_r = 3.631*10**(-20)\n",
    "FLUX_V_VEGA_i = 3.631*10**(-20)\n",
    "FLUX_V_VEGA_z = 3.631*10**(-20)\n"
   ]
  },
  {
   "cell_type": "code",
   "execution_count": 3,
   "metadata": {
    "collapsed": true
   },
   "outputs": [],
   "source": [
    "def dist(mid,end):\n",
    "    return np.sqrt((mid[0] - end[0])**2 + (mid[1] - end[1])**2)"
   ]
  },
  {
   "cell_type": "code",
   "execution_count": 4,
   "metadata": {
    "collapsed": true
   },
   "outputs": [],
   "source": [
    "def flux_cal(A_mag,B_mag,B_flux):\n",
    "    '''Flux of A found through magnitude and flux of B'''\n",
    "    return B_flux*10**((B_mag-A_mag)/2.5)"
   ]
  },
  {
   "cell_type": "code",
   "execution_count": 5,
   "metadata": {
    "collapsed": true
   },
   "outputs": [],
   "source": [
    "def Basic(quasar,header):\n",
    "    '''Provides a basic list of neccesities from the fits header file for use in the later \\\n",
    "    flux determination, it does not serve an individual purpose beyound that'''\n",
    "    AGNdata = quasar #np.rot90(np.rot90(np.fliplr(quasar)))\n",
    "    #header = data[0].header\n",
    "    #print header\n",
    "    RAstd = header['CRVAL1']\n",
    "    DECstd = header['CRVAL2']\n",
    "    #print RAstd, DECstd\n",
    "    pixspa = header['PIXSCALE']/(3600.)\n",
    "    #print pixspa\n",
    "    RAstdpix = header['CRPIX1']\n",
    "    DECstdpix = header['CRPIX2']\n",
    "    exptime = 10 # header['EXPTIME']\n",
    "    return header,AGNdata,RAstd,DECstd,pixspa,RAstdpix,DECstdpix,exptime"
   ]
  },
  {
   "cell_type": "code",
   "execution_count": 6,
   "metadata": {
    "collapsed": true
   },
   "outputs": [],
   "source": [
    "def curve(quasar,header,w,center,apparature):\n",
    "    '''Determines the FLUX of the stellar object given the the numpy array of the image, \\\n",
    "    the header of the fits file, the astropy coordinate representation, \\\n",
    "    the object position and the apparature of interest'''\n",
    "    header,AGNdata,RAstd,DECstd,pixspa,RAstdpix,DECstdpix,exptime = Basic(quasar,header)\n",
    "    #AGNdata = np.swapaxes(AGNdata,0,1)\n",
    "    y, x = np.ogrid[0:header['NAXIS1'],0:header['NAXIS1']]\n",
    "    #w = np.swapaxes(w,0,1)\n",
    "    #F_AGN = np.zeros((512,512,3)) #((int(2*apparature/pixspa)+1,int(2*apparature/pixspa)+1,3))\n",
    "    #print center\n",
    "    x1 = w.all_world2pix(center[0],center[1],0)\n",
    "    x1,y1 = (x1[0]),(x1[1])\n",
    "    if 15 < x1 < header['NAXIS1'] - 15 and 15 < y1 < header['NAXIS2'] - 15:\n",
    "        try:\n",
    "            mask = ((y-y1)**2 + (x-x1)**2) > (apparature/float(pixspa))**2\n",
    "            AGNdata[mask] = float(0)\n",
    "            mask = AGNdata == 0.\n",
    "            rows = np.flatnonzero((~mask).sum(axis=1))\n",
    "            cols = np.flatnonzero((~mask).sum(axis=0))\n",
    "            AGNdata = AGNdata[rows.min():rows.max()+1, cols.min():cols.max()+1]\n",
    "            #print apparature/float(pixspa)\n",
    "        except:\n",
    "            AGNdata = np.array([[float('nan'),float('nan')],[float('nan'),float('nan')]])\n",
    "    else:\n",
    "        AGNdata = np.array([[float('nan'),float('nan')],[float('nan'),float('nan')]])\n",
    "    #if np.sum(AGNdata) < 500:\n",
    "    #    AGNdata = np.array([[float('nan'),float('nan')],[float('nan'),float('nan')]])\n",
    "    return AGNdata, x1, y1\n"
   ]
  },
  {
   "cell_type": "code",
   "execution_count": 7,
   "metadata": {
    "collapsed": true
   },
   "outputs": [],
   "source": [
    "def comp1(qua,sta):\n",
    "    '''Code to determine the relation between the AGN and the Stellar flux as determined by either me \\\n",
    "    or by the SExtractor program respectively'''\n",
    "    comp = qua/sta\n",
    "    return comp"
   ]
  },
  {
   "cell_type": "code",
   "execution_count": 8,
   "metadata": {
    "collapsed": true
   },
   "outputs": [],
   "source": [
    "def SXtable(quas,aperture):\n",
    "    header = pyfits.getheader(quas)\n",
    "    phot_app = aperture*3600/header['PIXSCALE']\n",
    "    np.set_printoptions(threshold=np.inf)\n",
    "    sew = sewpy.SEW(params=['XMODEL_WORLD', 'YMODEL_WORLD', 'X2MODEL_WORLD', 'Y2MODEL_WORLD', \n",
    "                            'XMODEL_IMAGE', 'YMODEL_IMAGE', 'FLUX_RADIUS(1)', 'FLUX_APER','ELLIPTICITY'],\n",
    "                    config={\"DETECT_THRESH\":3, 'DETECT_MINAREA':20, 'DETECT_MAXAREA':300000, \n",
    "                            \"PHOT_FLUXFRAC\":\"0.5\", 'PHOT_APERTURES':2*phot_app, \n",
    "                            'PIXEL_SCALE':header['PIXSCALE']}\n",
    "                    , sexpath='/usr/bin/sextractor')\n",
    "    out = sew(quas)\n",
    "    return out"
   ]
  },
  {
   "cell_type": "code",
   "execution_count": 9,
   "metadata": {
    "collapsed": true
   },
   "outputs": [],
   "source": [
    "def flux(quas,aperture,main_RA_WORLD,main_DEC_WORLD):\n",
    "    header = pyfits.getheader(quas)\n",
    "    RAmain = WCS(quas).all_world2pix(main_RA_WORLD,main_DEC_WORLD,1)[0]\n",
    "    DECmain = WCS(quas).all_world2pix(main_RA_WORLD,main_DEC_WORLD,1)[1]\n",
    "    output = float('nan')\n",
    "    if 15 < RAmain < header['NAXIS1'] - 15 and 15 < DECmain < header['NAXIS2'] - 15: \n",
    "        out = SXtable(quas,aperture)\n",
    "        RAmain = WCS(quas).all_world2pix(main_RA_WORLD,main_DEC_WORLD,0)[0]\n",
    "        DECmain = WCS(quas).all_world2pix(main_RA_WORLD,main_DEC_WORLD,0)[1]\n",
    "        #print out['table']['XMODEL_IMAGE'], out['table']['YMODEL_IMAGE']\n",
    "        #print RAmain, DECmain\n",
    "\n",
    "        for j in range(len(out['table']['XMODEL_IMAGE'])):\n",
    "            #output['time'][i] = header['MJD-OBS']\n",
    "            if RAmain - 25. < out['table']['XMODEL_IMAGE'][j] <  RAmain + 25. and \\\n",
    "            DECmain - 25. < out['table']['YMODEL_IMAGE'][j] < DECmain + 25.:\n",
    "                #print 'YES'\n",
    "                output = out['table']['FLUX_APER'][j]\n",
    "                break\n",
    "    else:\n",
    "        output = float('nan')\n",
    "        #print 'Done'\n",
    "    return output\n"
   ]
  },
  {
   "cell_type": "code",
   "execution_count": 10,
   "metadata": {
    "collapsed": true
   },
   "outputs": [],
   "source": [
    "def SNR(data1,data2,header,ap1,ap2):\n",
    "    npix1 = np.pi*ap1**2/((header['PIXSCALE']/3600.)**2)\n",
    "    npix2 = np.pi*ap2**2/((header['PIXSCALE']/3600.)**2)\n",
    "    #data2_1 = ((data2-data1)/npix2)*npix1\n",
    "    data1_2 = data1\n",
    "    data2_2 = abs(data2)\n",
    "    \n",
    "    return float(header['GAIN'])*data1_2*header['EXPTIME']/(np.sqrt\n",
    "                                                        (float(header['GAIN'])*data1_2*header['EXPTIME'] \n",
    "                                                         + float(header['GAIN'])*npix1*data2_2*header['EXPTIME']\n",
    "                                                         \n",
    "                                                         +npix1*header['RONOISE']**2))\n",
    "\n",
    "def SNR11(data1,data2,header,ap1,ap2):\n",
    "    npix1 = np.pi*ap1**2/((header['PIXSCALE']/3600.)**2)\n",
    "    npix2 = np.pi*ap2**2/((header['PIXSCALE']/3600.)**2)\n",
    "    #data2_1 = ((data2-data1)/npix2)*npix1\n",
    "    data1_2 = data1\n",
    "    data2_2 = abs(data2)\n",
    "    \n",
    "    return float(((header['GAIN'])*data1_2*header['EXPTIME']))\n",
    "\n",
    "def SNR22(data1,data2,header,ap1,ap2):\n",
    "    npix1 = np.pi*ap1**2/((header['PIXSCALE']/3600.)**2)\n",
    "    npix2 = np.pi*ap2**2/((header['PIXSCALE']/3600.)**2)\n",
    "    #data2_1 = ((data2-data1)/npix2)*npix1\n",
    "    data1_2 = data1\n",
    "    data2_2 = abs(data2)\n",
    "    \n",
    "    return float(header['GAIN']*npix1*data2_2*header['EXPTIME'])\n",
    "\n",
    "def SNR33(data1,data2,header,ap1,ap2):\n",
    "    npix1 = np.pi*ap1**2/((header['PIXSCALE']/3600.)**2)\n",
    "    npix2 = np.pi*ap2**2/((header['PIXSCALE']/3600.)**2)\n",
    "    #data2_1 = ((data2-data1)/npix2)*npix1\n",
    "    data1_2 = data1\n",
    "    data2_2 = abs(data2)\n",
    "    \n",
    "    return float((npix1*header['RONOISE']**2))\n",
    "\n",
    "def SNR44(data1,data2,header,ap1,ap2):\n",
    "    npix1 = np.pi*ap1**2/((header['PIXSCALE']/3600.)**2)\n",
    "    npix2 = np.pi*ap2**2/((header['PIXSCALE']/3600.)**2)\n",
    "    #data2_1 = ((data2-data1)/npix2)*npix1\n",
    "    data1_2 = data1\n",
    "    data2_2 = abs(data2)\n",
    "    \n",
    "    return float(((header['GAIN'])*data1_2*header['EXPTIME'] + \n",
    "                  header['GAIN']*npix1*data2_2*header['EXPTIME'] +\n",
    "                  npix1*header['RONOISE']**2))\n",
    "\n",
    "#SNRas(10.,data1_2,abs(data2_2),0,header['RONOISE'],npix1,gain=header['GAIN'])"
   ]
  },
  {
   "cell_type": "markdown",
   "metadata": {},
   "source": [
    "for i in range(len(quasJ)):\n",
    "    print i\n",
    "    data1, header = fits.getdata(quasJ[i],header=True) #RA---TAN\n",
    "    data2 = data1\n",
    "    #print header['CTYPE2']\n",
    "    header['CTYPE1'] = \"RA---TAN -SIP\"\n",
    "    header['CTYPE2'] = \"DEC--TAN -SIP\"\n",
    "    #a_sky = curve(data2,header,WCS(quasJ[i]),\n",
    "    #               (sky_RA_WORLD,sky_DEC_WORLD),0.002)[0]\n",
    "    #a_sky_mean = np.mean(a_sky)\n",
    "    #for j in range(len(np.shape(data[0]))):\n",
    "    #    for k in range(len(np.shape(data[0]))):\n",
    "    #        if data[j,k] != 0:\n",
    "    #            data[j,k] = float(data[j,k]) - a_sky_mean\n",
    "    #header['NDIT'] = 5\n",
    "    '''header['A_ORDER'] = \"0\"\n",
    "    header['B_ORDER'] = \"0\"\n",
    "    header['AP_ORDER'] = \"0\"\n",
    "    header['BP_ORDER'] = \"0\"\n",
    "    header['A_0_2'] = \"0\"\n",
    "    header['A_1_1'] = \"0\"\n",
    "    header['A_2_0'] = \"0\"\n",
    "    header['B_0_2'] = \"0\"\n",
    "    header['B_1_1'] = \"0\"\n",
    "    header['B_2_0'] = \"0\"\n",
    "    header['AP_0_2'] = \"0\"\n",
    "    header['AP_1_1'] = \"0\"\n",
    "    header['AP_2_0'] = \"0\"\n",
    "    header['AP_0_1'] = \"0\"\n",
    "    header['AP_1_0'] = \"0\"\n",
    "    header['BP_0_1'] = \"0\"\n",
    "    header['BP_0_2'] = \"0\"\n",
    "    header['BP_1_0'] = \"0\"\n",
    "    header['BP_1_1'] = \"0\"\n",
    "    header['BP_2_0'] = \"0\"'''\n",
    "    fits.writeto(quasJ[i],data1,header,clobber=True)\n",
    "    #print fits.getheader(quasH[i])['A_ORDER']"
   ]
  },
  {
   "cell_type": "code",
   "execution_count": 11,
   "metadata": {},
   "outputs": [
    {
     "name": "stdout",
     "output_type": "stream",
     "text": [
      "[[ 0.          0.33333333]\n",
      " [ 1.33333333  2.33333333]]\n"
     ]
    }
   ],
   "source": [
    "a = np.array([[0,2],\n",
    "              [3,4]])\n",
    "b = np.mean(np.array([[1,2,3],\n",
    "                      [2,2,2],\n",
    "                      [1,1,1]]))\n",
    "\n",
    "a = a.astype(float)\n",
    "mask = a != 0.\n",
    "a[mask] = a[mask] - float(b)\n",
    "print a"
   ]
  },
  {
   "cell_type": "code",
   "execution_count": 12,
   "metadata": {
    "collapsed": true
   },
   "outputs": [],
   "source": [
    "def SEXAGNflux(quas,aperture1):\n",
    "    aperture2 = aperture1 + 0.003\n",
    "    date = []\n",
    "    flucompsta1 = []\n",
    "    flucompsta2 = []\n",
    "    flucompsta3 = []\n",
    "    flucompsta4 = []\n",
    "    flucompsta5 = []\n",
    "    flucompsta6 = []\n",
    "    flucompsta7 = []\n",
    "    poissonAGN = []\n",
    "    poisson529 = []\n",
    "    poisson22 = []\n",
    "    poissonHD = []\n",
    "    ABS_FLUX_LAMBDA_1 = 0\n",
    "    ABS_FLUX_LAMBDA_2 = 0\n",
    "    ABS_FLUX_LAMBDA_3 = 0\n",
    "    ABS_FLUX_V_1 = 0\n",
    "    ABS_FLUX_V_2 = 0\n",
    "    ABS_FLUX_V_3 = 0\n",
    "    SNR_comp = []\n",
    "    comp_array = np.zeros((len(quas),6))\n",
    "    SNR_array = np.zeros((len(quas),8))\n",
    "    SNR_part = np.zeros((len(quas),5))\n",
    "    #-----------------------------------------------------------------------------------------------\n",
    "    for i in range(len(quas)):\n",
    "        print 'Frame nr. ', i, quas[i]\n",
    "        header = pyfits.getheader(quas[i])\n",
    "        a_AGN = flux(quas[i],2*aperture1,qua1_RA_WORLD,qua1_DEC_WORLD)/header['EXPTIME']\n",
    "        a2 = flux(quas[i],2*aperture1,sta1_RA_WORLD,sta1_DEC_WORLD)/header['EXPTIME']\n",
    "        a3 = flux(quas[i],2*aperture1,sta2_RA_WORLD,sta2_DEC_WORLD)/header['EXPTIME']\n",
    "        a4 = flux(quas[i],2*aperture1,sta3_RA_WORLD,sta3_DEC_WORLD)/header['EXPTIME']\n",
    "        a_sky = curve(pyfits.getdata(quas[i]),pyfits.getheader(quas[i]),WCS(quas[i]),\n",
    "                   (sky_RA_WORLD,sky_DEC_WORLD),aperture1)[0]/header['EXPTIME']\n",
    "        #a_AGN_1 = flux(quas[i],2*aperture2,qua1_RA_WORLD,qua1_DEC_WORLD)/header['DIT']\n",
    "        #a2_1 = flux(quas[i],2*aperture2,sta1_RA_WORLD,sta1_DEC_WORLD)/header['DIT']\n",
    "        #a3_1 = flux(quas[i],2*aperture2,sta2_RA_WORLD,sta2_DEC_WORLD)/header['DIT']\n",
    "        #a4_1 = flux(quas[i],2*aperture2,sta3_RA_WORLD,sta3_DEC_WORLD)/header['DIT']\n",
    "        #-------------------------------------------------------------------------------------------\n",
    "        #plt.figure(figsize=(3,3))\n",
    "        #plt.imshow(a2)\n",
    "        #plt.show()\n",
    "        #-------------------------------------------------------------------------------------------\n",
    "        a_AGN_pix = np.pi*(aperture1)**2/((header['PIXSCALE']/3600.)**2)\n",
    "        a2_pix = np.pi*(aperture1)**2/((header['PIXSCALE']/3600.)**2)\n",
    "        a3_pix = np.pi*(aperture1)**2/((header['PIXSCALE']/3600.)**2)\n",
    "        a4_pix = np.pi*(aperture1)**2/((header['PIXSCALE']/3600.)**2)\n",
    "        a_sky_pix = np.count_nonzero(a_sky)\n",
    "        a_sky_2 = np.sum(a_sky)/float(np.count_nonzero(a_sky))\n",
    "        #a_AGN_pix_1 = np.pi*(2*aperture2)**2/((header['PIXSCALE']/3600.)**2)\n",
    "        #a2_pix_1 = np.pi*(aperture2)**2/((header['PIXSCALE']/3600.)**2)\n",
    "        #a3_pix_1 = np.pi*(aperture2)**2/((header['PIXSCALE']/3600.)**2)\n",
    "        #a4_pix_1 = np.pi*(aperture2)**2/((header['PIXSCALE']/3600.)**2)\n",
    "        #a_AGN_2 = (np.sum(a_AGN_1) - np.sum(a_AGN))/(float(np.count_nonzero(a_AGN_1)) - float(np.count_nonzero(a_AGN)))\n",
    "        #a2_2 = (np.sum(a2_1) - np.sum(a2))/(float(np.count_nonzero(a2_1)) - float(np.count_nonzero(a2)))\n",
    "        #a3_2 = (np.sum(a3_1) - np.sum(a3))/(float(np.count_nonzero(a3_1)) - float(np.count_nonzero(a3)))\n",
    "        #a4_2 = (np.sum(a4_1) - np.sum(a4))/(float(np.count_nonzero(a4_1)) - float(np.count_nonzero(a4)))\n",
    "        a_AGN_3 = a_AGN/a_AGN_pix #- (a_AGN_1 - a_AGN)/(a_AGN_pix_1 - a_AGN_pix) #Background subtracted flux/pixel/sec\n",
    "        a2_3 = a2/a2_pix #- (a2_1 - a2)/(a2_pix_1 - a2_pix)\n",
    "        a3_3 = a3/a3_pix #- (a3_1 - a3)/(a3_pix_1 - a3_pix)\n",
    "        a4_3 = a4/a4_pix #- (a4_1 - a4)/(a4_pix_1 - a4_pix)\n",
    "        #-------------------------------------------------------------------------------------------\n",
    "        date.append(header['MJD-OBS'])\n",
    "        #-------------------------------------------------------------------------------------------\n",
    "        poissonAGN.append(np.sqrt(np.sum(a_AGN)*header['EXPTIME']*header['GAIN'])) #header['EXPTIME']))\n",
    "        poissonHD.append(np.sqrt(np.sum(a2)*header['EXPTIME']*header['GAIN'])) #header['EXPTIME']))\n",
    "        poisson22.append(np.sqrt(np.sum(a3)*header['EXPTIME']*header['GAIN'])) #header['EXPTIME']))\n",
    "        poisson529.append(np.sqrt(np.sum(a4)*header['EXPTIME']*header['GAIN'])) #header['EXPTIME']))\n",
    "        #-------------------------------------------------------------------------------------------\n",
    "        #if SNR1[i] < 70:\n",
    "        #    flucompsta_AGN.append(float('nan'))\n",
    "        #    flucompsta2.append(float('nan'))\n",
    "        #    flucompsta3.append(float('nan'))\n",
    "        #    flucompsta4.append(float('nan'))\n",
    "        #    flucompsta6.append(float('nan'))\n",
    "        #    comp_array[i,0] = int(date[i])\n",
    "        #    comp_array[i,1] = float('nan')\n",
    "        #    comp_array[i,2] = float('nan')\n",
    "        #    comp_array[i,3] = float('nan')\n",
    "        #else:\n",
    "        flucompsta1.append(comp1(a_AGN_3,a2_3))\n",
    "        flucompsta2.append(comp1(a_AGN_3,a3_3))\n",
    "        flucompsta3.append(comp1(a_AGN_3,a4_3))\n",
    "        SNR1 = SNR(a_AGN,np.sum(a_sky),header,aperture1,aperture1)\n",
    "        #flucompsta4.append(comp1(a_AGN_3,a5_3))\n",
    "        #flucompsta5.append(comp1(a_AGN_3,a6_3))\n",
    "        #flucompsta6.append(comp1(a_AGN_3,a7_3))\n",
    "        comp_array[i,0] = int(date[i])\n",
    "        comp_array[i,1] = flucompsta1[i]\n",
    "        comp_array[i,2] = flucompsta2[i]\n",
    "        comp_array[i,3] = flucompsta3[i]\n",
    "        comp_array[i,4] = SNR1\n",
    "        comp_array[i,5] = a_AGN\n",
    "        #comp_array[i,5] = flucompsta5[i]\n",
    "        #comp_array[i,6] = flucompsta6[i]\n",
    "        print a_AGN, a2, a3, a4\n",
    "        SNR_part[i,0] = date[i]\n",
    "        SNR_part[i,1] = SNR(a_AGN,np.sum(a_sky),header,aperture1,aperture1)\n",
    "        SNR_part[i,2] = SNR11(a_AGN,np.sum(a_sky),header,aperture1,aperture1)\\\n",
    "        /SNR44(a_AGN,np.sum(a_sky),header,aperture1,aperture1)\n",
    "        SNR_part[i,3] = SNR22(a_AGN,np.sum(a_sky),header,aperture1,aperture1)\\\n",
    "        /SNR44(a_AGN,np.sum(a_sky),header,aperture1,aperture1)\n",
    "        SNR_part[i,4] = SNR33(a_AGN,np.sum(a_sky),header,aperture1,aperture1)\\\n",
    "        /SNR44(a_AGN,np.sum(a_sky),header,aperture1,aperture1)\n",
    "        #SNR_array[i,0] = int(date[i])\n",
    "        #SNR_array[i,1] = SNR(a_AGN,a_sky,header,aperture1,aperture1)\n",
    "        #SNR_array[i,2] = SNR(a2,a_sky,header,aperture1,aperture1)\n",
    "        #SNR_array[i,3] = SNR(a3,a_sky,header,aperture1,aperture1)\n",
    "        #SNR_array[i,4] = SNR(a4,a_sky,header,aperture1,aperture1)\n",
    "        #SNR_array[i,5] = SNR(a5,a_sky,header,aperture1,aperture1)\n",
    "        #SNR_array[i,6] = SNR(a6,a_sky,header,aperture1,aperture1)\n",
    "        #SNR_array[i,7] = SNR(a7,a_sky,header,aperture1,aperture1)\n",
    "    #print 'YES'\n",
    "    #-----------------------------------------------------------------------------------------------\n",
    "    poissonAGN = np.array(poissonAGN)\n",
    "    poissonHD = np.array(poissonHD)\n",
    "    poisson22 = np.array(poisson22)\n",
    "    poisson529 = np.array(poisson529)\n",
    "    comp_array = comp_array[comp_array[:,0].argsort()]\n",
    "    \n",
    "    comp_array[:,1] = comp_array[:,1]*flux_cal(MAG_STA1_z,MAG_VEGA_z,FLUX_LAMBDA_VEGA_z)\n",
    "    comp_array[:,2] = comp_array[:,2]*flux_cal(MAG_STA2_z,MAG_VEGA_z,FLUX_LAMBDA_VEGA_z)\n",
    "    comp_array[:,3] = comp_array[:,3]*flux_cal(MAG_STA3_z,MAG_VEGA_z,FLUX_LAMBDA_VEGA_z)\n",
    "\n",
    "    #-----------------------------------------------------------------------------------------------\n",
    "    return comp_array,SNR_array,ABS_FLUX_LAMBDA_1,ABS_FLUX_LAMBDA_2,ABS_FLUX_LAMBDA_3,\\\n",
    "ABS_FLUX_V_1,ABS_FLUX_V_2,ABS_FLUX_V_3,date,SNR_part"
   ]
  },
  {
   "cell_type": "code",
   "execution_count": 13,
   "metadata": {
    "scrolled": true
   },
   "outputs": [
    {
     "name": "stdout",
     "output_type": "stream",
     "text": [
      "Frame nr.  0 /media/lynge/Lynge-Back-up/MARK509/z/IMG2017146BLs092.fits\n"
     ]
    },
    {
     "name": "stderr",
     "output_type": "stream",
     "text": [
      "/home/lynge/anaconda2/lib/python2.7/site-packages/pyfits/hdu/image.py:515: VerifyWarning: Invalid 'BLANK' keyword in header.  The 'BLANK' keyword is only applicable to integer data, and will be ignored in this HDU.\n",
      "  warnings.warn(msg, VerifyWarning)\n",
      "WARNING: VerifyWarning: Invalid 'BLANK' keyword in header.  The 'BLANK' keyword is only applicable to integer data, and will be ignored in this HDU. [astropy.io.fits.hdu.image]\n",
      "WARNING: FITSFixedWarning: RADECSYS= 'FK5 ' / Reference system for celestial coordinates \n",
      "the RADECSYS keyword is deprecated, use RADESYSa. [astropy.wcs.wcs]\n",
      "No handlers could be found for logger \"sewpy.sewpy\"\n"
     ]
    },
    {
     "name": "stdout",
     "output_type": "stream",
     "text": [
      "91.6983111111 nan nan nan\n",
      "Frame nr.  1 /media/lynge/Lynge-Back-up/MARK509/z/IMG2016301BLs044.fits\n",
      "433.748888889 3761.32222222 nan 1028.13866667\n",
      "Frame nr.  2 /media/lynge/Lynge-Back-up/MARK509/z/IMG2016301BLs045.fits\n",
      "439.784222222 3762.49555556 nan 1028.72822222\n",
      "Frame nr.  3 /media/lynge/Lynge-Back-up/MARK509/z/IMG2016301BLs046.fits\n",
      "440.194222222 3745.49111111 nan 1014.88711111\n",
      "Frame nr.  4 /media/lynge/Lynge-Back-up/MARK509/z/IMG2016323BLs051.fits\n",
      "467.623111111 3824.62888889 5399.83111111 1045.49777778\n",
      "Frame nr.  5 /media/lynge/Lynge-Back-up/MARK509/z/IMG2016323BLs052.fits\n",
      "441.785333333 3836.55111111 5370.83777778 1028.19577778\n",
      "Frame nr.  6 /media/lynge/Lynge-Back-up/MARK509/z/IMG2016323BLs053.fits\n",
      "447.321777778 3775.92666667 5341.39555556 1024.446\n",
      "Frame nr.  7 /media/lynge/Lynge-Back-up/MARK509/z/IMG2017064BLs128.fits\n",
      "371.720222222 3077.38444444 nan 747.362666667\n",
      "Frame nr.  8 /media/lynge/Lynge-Back-up/MARK509/z/IMG2017064BLs129.fits\n",
      "nan nan nan nan\n",
      "Frame nr.  9 /media/lynge/Lynge-Back-up/MARK509/z/IMG2017065BLs056.fits\n",
      "148.326666667 nan nan 258.596666667\n",
      "Frame nr.  10 /media/lynge/Lynge-Back-up/MARK509/z/IMG2017066BLs072.fits\n",
      "nan nan nan nan\n",
      "Frame nr.  11 /media/lynge/Lynge-Back-up/MARK509/z/IMG2017102BLs056.fits\n",
      "nan nan nan nan\n",
      "Frame nr.  12 /media/lynge/Lynge-Back-up/MARK509/z/IMG2017102BLs057.fits\n",
      "nan nan nan nan\n",
      "Frame nr.  13 /media/lynge/Lynge-Back-up/MARK509/z/IMG2017102BLs058.fits\n",
      "nan nan nan nan\n",
      "Frame nr.  14 /media/lynge/Lynge-Back-up/MARK509/z/IMG2017146BLs090.fits\n",
      "nan nan nan nan\n",
      "Frame nr.  15 /media/lynge/Lynge-Back-up/MARK509/z/IMG2017146BLs091.fits\n",
      "nan nan nan nan\n",
      "Frame nr.  16 /media/lynge/Lynge-Back-up/MARK509/z/IMG2017168BLs089.fits\n",
      "396.100222222 4331.54888889 6329.12222222 1241.57177778\n",
      "Frame nr.  17 /media/lynge/Lynge-Back-up/MARK509/z/IMG2017168BLs090.fits\n",
      "399.401111111 4287.21111111 6335.46666667 1247.29688889\n",
      "Frame nr.  18 /media/lynge/Lynge-Back-up/MARK509/z/IMG2017168BLs091.fits\n",
      "400.474222222 4302.75333333 6322.75555556 1262.164\n",
      "Frame nr.  19 /media/lynge/Lynge-Back-up/MARK509/z/IMG2017189BLs104.fits\n",
      "nan nan nan nan\n",
      "Frame nr.  20 /media/lynge/Lynge-Back-up/MARK509/z/IMG2017189BLs105.fits\n",
      "nan nan nan nan\n",
      "Frame nr.  21 /media/lynge/Lynge-Back-up/MARK509/z/IMG2017189BLs106.fits\n",
      "nan nan nan nan\n",
      "Frame nr.  22 /media/lynge/Lynge-Back-up/MARK509/z/IMG2017210BLs134.fits\n",
      "nan 64.3781333333 nan nan\n",
      "Frame nr.  23 /media/lynge/Lynge-Back-up/MARK509/z/IMG2017210BLs135.fits\n",
      "nan nan nan nan\n",
      "Frame nr.  24 /media/lynge/Lynge-Back-up/MARK509/z/IMG2017210BLs136.fits\n",
      "nan nan nan nan\n",
      "Frame nr.  25 /media/lynge/Lynge-Back-up/MARK509/z/IMG2017231BLs059.fits\n",
      "446.925777778 4269.35111111 nan 1153.87911111\n",
      "Frame nr.  26 /media/lynge/Lynge-Back-up/MARK509/z/IMG2017231BLs060.fits\n",
      "461.015555556 4286.42222222 nan 1136.59666667\n",
      "Frame nr.  27 /media/lynge/Lynge-Back-up/MARK509/z/IMG2017231BLs061.fits\n",
      "449.768444444 4270.33555556 nan 1149.23488889\n",
      "Frame nr.  28 /media/lynge/Lynge-Back-up/MARK509/z/IMG2017255BLs095.fits\n",
      "402.269555556 nan nan 976.978222222\n",
      "Frame nr.  29 /media/lynge/Lynge-Back-up/MARK509/z/IMG2017255BLs096.fits\n",
      "383.813333333 nan nan 973.493333333\n",
      "Frame nr.  30 /media/lynge/Lynge-Back-up/MARK509/z/IMG2017255BLs097.fits\n",
      "395.106444444 nan nan 976.056666667\n",
      "Frame nr.  31 /media/lynge/Lynge-Back-up/MARK509/z/IMG2017292BLs066.fits\n",
      "426.752 4071.22888889 5786.49555556 1141.73511111\n",
      "Frame nr.  32 /media/lynge/Lynge-Back-up/MARK509/z/IMG2017292BLs067.fits\n",
      "428.643111111 4035.60222222 5817.27777778 1155.91466667\n",
      "Frame nr.  33 /media/lynge/Lynge-Back-up/MARK509/z/IMG2017292BLs068.fits\n",
      "409.812 4013.6 5777.42888889 1118.85844444\n",
      "Frame nr.  34 /media/lynge/Lynge-Back-up/MARK509/z/IMG2017313BLs030.fits\n",
      "398.526222222 3687.42666667 nan 981.751111111\n",
      "Frame nr.  35 /media/lynge/Lynge-Back-up/MARK509/z/IMG2017313BLs031.fits\n",
      "397.488666667 3667.29333333 nan 973.785555556\n",
      "Frame nr.  36 /media/lynge/Lynge-Back-up/MARK509/z/IMG2017313BLs032.fits\n",
      "415.483777778 3654.04222222 nan 950.462666667\n",
      "Frame nr.  37 /media/lynge/Lynge-Back-up/MARK509/z/IMG2017335BLs026.fits\n",
      "355.105555556 3211.68222222 3427.44222222 939.357333333\n",
      "Frame nr.  38 /media/lynge/Lynge-Back-up/MARK509/z/IMG2017335BLs027.fits\n",
      "361.767333333 3206.96 3931.99777778 934.143111111\n",
      "Frame nr.  39 /media/lynge/Lynge-Back-up/MARK509/z/IMG2017335BLs028.fits\n",
      "351.566444444 3175.40666667 4087.24 942.234444444\n"
     ]
    }
   ],
   "source": [
    "comp_array,SNR_array,ABS_FLUX_LAMBDA_1_1,ABS_FLUX_LAMBDA_2_1,ABS_FLUX_LAMBDA_3_1,\\\n",
    "ABS_FLUX_V_1_1,ABS_FLUX_V_2_1,ABS_FLUX_V_3_1,date_1,SNR_part_1 = SEXAGNflux(quasJ,0.001)"
   ]
  },
  {
   "cell_type": "code",
   "execution_count": 14,
   "metadata": {
    "scrolled": false
   },
   "outputs": [
    {
     "name": "stdout",
     "output_type": "stream",
     "text": [
      "391.19342716 83.089223603\n"
     ]
    }
   ],
   "source": [
    "print np.nanmean(comp_array[:,5]), np.nanstd(comp_array[:,5])\n",
    "comp_array_mod = np.copy(comp_array)\n",
    "comp_array_mod[comp_array[:,5] < np.nanmean(comp_array[:,5]) - 0.5*np.nanstd(comp_array[:,5]),1:5] = float('nan')\n"
   ]
  },
  {
   "cell_type": "code",
   "execution_count": null,
   "metadata": {
    "collapsed": true
   },
   "outputs": [],
   "source": []
  },
  {
   "cell_type": "code",
   "execution_count": 15,
   "metadata": {},
   "outputs": [
    {
     "data": {
      "image/png": "[encoded data removed]",
      "text/plain": [
       "<matplotlib.figure.Figure at 0x7f04c04ca210>"
      ]
     },
     "metadata": {},
     "output_type": "display_data"
    },
    {
     "data": {
      "image/png": "[encoded data removed]",
      "text/plain": [
       "<matplotlib.figure.Figure at 0x7f04c03246d0>"
      ]
     },
     "metadata": {},
     "output_type": "display_data"
    },
    {
     "name": "stdout",
     "output_type": "stream",
     "text": [
      "[ 57901.36867043  57690.16214705  57690.16402178  57690.16591983\n",
      "  57712.10143006  57712.10333067  57712.10520216  57819.38355751\n",
      "  57819.38543133  57820.3808365   57821.38153718  57857.30091833\n",
      "  57857.30279201  57857.30467507  57901.36495272  57901.3667989\n",
      "  57923.31731247  57923.31918534  57923.32105573  57944.25958181\n",
      "  57944.26145712  57944.26335319  57965.36169552  57965.36356961\n",
      "  57965.36544468  57986.14419361  57986.14606745  57986.14793914\n",
      "  58010.28912216  58010.29099594  58010.29286638  58047.14278081\n",
      "  58047.14465344  58047.14655028  58068.05274693  58068.05461969\n",
      "  58068.05649126  58090.07905913  58090.08093148  58090.0828287 ]\n"
     ]
    }
   ],
   "source": [
    "plt.figure(figsize=(10,8))\n",
    "plt.scatter(SNR_part_1[:,0],SNR_part_1[:,1])\n",
    "plt.show()\n",
    "\n",
    "plt.figure(figsize=(10,8))\n",
    "plt.scatter(SNR_part_1[:,0],SNR_part_1[:,2],label='Signal')\n",
    "plt.scatter(SNR_part_1[:,0],SNR_part_1[:,3],label='Sky')\n",
    "plt.scatter(SNR_part_1[:,0],SNR_part_1[:,4],label='RON')\n",
    "plt.legend()\n",
    "#plt.ylim([5*10**(-15),1.*10**(-14)])\n",
    "plt.show()\n",
    "\n",
    "print SNR_part_1[:,0]\n",
    "np.savetxt('../NOVEMBER/MARK509_SNR_z.txt',SNR_part_1)"
   ]
  },
  {
   "cell_type": "code",
   "execution_count": 16,
   "metadata": {},
   "outputs": [
    {
     "name": "stdout",
     "output_type": "stream",
     "text": [
      "101.537365661\n",
      "105.9940588\n"
     ]
    }
   ],
   "source": [
    "print np.nanmean(comp_array[:,4])\n",
    "print np.nanmean(comp_array_mod[:,4])"
   ]
  },
  {
   "cell_type": "code",
   "execution_count": 17,
   "metadata": {},
   "outputs": [
    {
     "name": "stdout",
     "output_type": "stream",
     "text": [
      "[[  5.76900000e+04   1.25411844e-14   9.97969724e-17              nan\n",
      "               nan              nan              nan]\n",
      " [  5.76900000e+04   1.25411844e-14   9.97969724e-17              nan\n",
      "               nan              nan              nan]\n",
      " [  5.76900000e+04   1.25411844e-14   9.97969724e-17              nan\n",
      "               nan              nan              nan]\n",
      " [  5.77120000e+04              nan              nan              nan\n",
      "               nan              nan              nan]\n",
      " [  5.77120000e+04              nan              nan              nan\n",
      "               nan              nan              nan]\n",
      " [  5.77120000e+04              nan              nan              nan\n",
      "               nan              nan              nan]\n",
      " [  5.78190000e+04   1.29945184e-14   0.00000000e+00              nan\n",
      "               nan   1.37660880e-14   0.00000000e+00]\n",
      " [  5.78190000e+04   1.29945184e-14   0.00000000e+00              nan\n",
      "               nan   1.37660880e-14   0.00000000e+00]\n",
      " [  5.78200000e+04              nan              nan              nan\n",
      "               nan              nan              nan]\n",
      " [  5.78210000e+04              nan              nan              nan\n",
      "               nan              nan              nan]\n",
      " [  5.78570000e+04              nan              nan              nan\n",
      "               nan              nan              nan]\n",
      " [  5.78570000e+04              nan              nan              nan\n",
      "               nan              nan              nan]\n",
      " [  5.78570000e+04              nan              nan              nan\n",
      "               nan              nan              nan]\n",
      " [  5.79010000e+04              nan              nan              nan\n",
      "               nan              nan              nan]\n",
      " [  5.79010000e+04              nan              nan              nan\n",
      "               nan              nan              nan]\n",
      " [  5.79010000e+04              nan              nan              nan\n",
      "               nan              nan              nan]\n",
      " [  5.79230000e+04   9.95748644e-15   8.48834667e-17   8.43693130e-15\n",
      "    4.15900376e-17   8.82482260e-15   3.32116072e-17]\n",
      " [  5.79230000e+04   9.95748644e-15   8.48834667e-17   8.43693130e-15\n",
      "    4.15900376e-17   8.82482260e-15   3.32116072e-17]\n",
      " [  5.79230000e+04   9.95748644e-15   8.48834667e-17   8.43693130e-15\n",
      "    4.15900376e-17   8.82482260e-15   3.32116072e-17]\n",
      " [  5.79440000e+04              nan              nan              nan\n",
      "               nan              nan              nan]\n",
      " [  5.79440000e+04              nan              nan              nan\n",
      "               nan              nan              nan]\n",
      " [  5.79440000e+04              nan              nan              nan\n",
      "               nan              nan              nan]\n",
      " [  5.79650000e+04              nan              nan              nan\n",
      "               nan              nan              nan]\n",
      " [  5.79650000e+04              nan              nan              nan\n",
      "               nan              nan              nan]\n",
      " [  5.79650000e+04              nan              nan              nan\n",
      "               nan              nan              nan]\n",
      " [  5.79860000e+04              nan              nan              nan\n",
      "               nan              nan              nan]\n",
      " [  5.79860000e+04              nan              nan              nan\n",
      "               nan              nan              nan]\n",
      " [  5.79860000e+04              nan              nan              nan\n",
      "               nan              nan              nan]\n",
      " [  5.80100000e+04              nan              nan              nan\n",
      "               nan              nan              nan]\n",
      " [  5.80100000e+04              nan              nan              nan\n",
      "               nan              nan              nan]\n",
      " [  5.80100000e+04              nan              nan              nan\n",
      "               nan              nan              nan]\n",
      " [  5.80470000e+04              nan              nan              nan\n",
      "               nan   1.02487471e-14   8.53631423e-17]\n",
      " [  5.80470000e+04              nan              nan              nan\n",
      "               nan   1.02487471e-14   8.53631423e-17]\n",
      " [  5.80470000e+04              nan              nan              nan\n",
      "               nan   1.02487471e-14   8.53631423e-17]\n",
      " [  5.80680000e+04              nan              nan              nan\n",
      "               nan              nan              nan]\n",
      " [  5.80680000e+04              nan              nan              nan\n",
      "               nan              nan              nan]\n",
      " [  5.80680000e+04              nan              nan              nan\n",
      "               nan              nan              nan]\n",
      " [  5.80900000e+04   1.19802785e-14   1.10028535e-16              nan\n",
      "               nan              nan              nan]\n",
      " [  5.80900000e+04   1.19802785e-14   1.10028535e-16              nan\n",
      "               nan              nan              nan]\n",
      " [  5.80900000e+04   1.19802785e-14   1.10028535e-16              nan\n",
      "               nan              nan              nan]]\n"
     ]
    },
    {
     "name": "stderr",
     "output_type": "stream",
     "text": [
      "/home/lynge/anaconda2/lib/python2.7/site-packages/ipykernel_launcher.py:23: RuntimeWarning: Mean of empty slice\n",
      "/home/lynge/.local/lib/python2.7/site-packages/numpy/lib/nanfunctions.py:1427: RuntimeWarning: Degrees of freedom <= 0 for slice.\n",
      "  keepdims=keepdims)\n",
      "/home/lynge/anaconda2/lib/python2.7/site-packages/ipykernel_launcher.py:18: RuntimeWarning: Mean of empty slice\n",
      "/home/lynge/anaconda2/lib/python2.7/site-packages/ipykernel_launcher.py:28: RuntimeWarning: Mean of empty slice\n"
     ]
    }
   ],
   "source": [
    "#print comp_array_mod\n",
    "comp_array_mod_2 = np.zeros((len(comp_array_mod[:,0]),7))\n",
    "#comp_array_mod_2[0,0] = comp_array_mod[0,0]\n",
    "tjek = 0\n",
    "acceptance = 0.01\n",
    "\n",
    "for i in range(len(comp_array_mod)):\n",
    "    if comp_array_mod[i,0] != comp_array_mod_2[tjek,0]:\n",
    "        comp_array_mod_2[tjek,0] = comp_array_mod[i,0]\n",
    "        com1 = []\n",
    "        com2 = []\n",
    "        com3 = []\n",
    "        for j in range(len(comp_array_mod)):\n",
    "            if comp_array_mod_2[tjek,0] == comp_array_mod[j,0]:\n",
    "                com1.append(comp_array_mod[j,1])\n",
    "                com2.append(comp_array_mod[j,2])\n",
    "                com3.append(comp_array_mod[j,3])\n",
    "        comp_array_mod_2[tjek,1] = np.nanmean(com1)\n",
    "        comp_array_mod_2[tjek,2] = np.nanstd(com1)\n",
    "        if comp_array_mod_2[tjek,2]/float(comp_array_mod_2[tjek,1]) > acceptance or float(comp_array_mod_2[tjek,1]) < 0:\n",
    "            comp_array_mod_2[tjek,1] = float('nan')\n",
    "            comp_array_mod_2[tjek,2] = float('nan')\n",
    "        comp_array_mod_2[tjek,3] = np.nanmean(com2)\n",
    "        comp_array_mod_2[tjek,4] = np.nanstd(com2)\n",
    "        if comp_array_mod_2[tjek,4]/float(comp_array_mod_2[tjek,3]) > acceptance or float(comp_array_mod_2[tjek,3]) < 0:\n",
    "            comp_array_mod_2[tjek,3] = float('nan')\n",
    "            comp_array_mod_2[tjek,4] = float('nan')\n",
    "        comp_array_mod_2[tjek,5] = np.nanmean(com3)\n",
    "        comp_array_mod_2[tjek,6] = np.nanstd(com3)\n",
    "        if comp_array_mod_2[tjek,6]/float(comp_array_mod_2[tjek,5]) > acceptance or float(comp_array_mod_2[tjek,5]) < 0:\n",
    "            comp_array_mod_2[tjek,5] = float('nan')\n",
    "            comp_array_mod_2[tjek,6] = float('nan')\n",
    "        tjek = tjek + 1\n",
    "\n",
    "print comp_array_mod_2\n",
    "\n",
    "np.savetxt('../NOVEMBER/NOV-MARK509-z',comp_array)"
   ]
  },
  {
   "cell_type": "code",
   "execution_count": 18,
   "metadata": {
    "collapsed": true
   },
   "outputs": [],
   "source": [
    "#print comp_array\n",
    "comp_array_2 = np.zeros((len(comp_array[:,0]),13))\n",
    "#comp_array_2[0,0] = comp_array[0,0]\n",
    "tjek = 0\n",
    "acceptance = 0.01\n",
    "\n",
    "for i in range(len(comp_array)):\n",
    "    if comp_array[i,0] != comp_array_2[tjek,0]:\n",
    "        comp_array_2[tjek,0] = comp_array[i,0]\n",
    "        com1 = []\n",
    "        com2 = []\n",
    "        com3 = []\n",
    "        for j in range(len(comp_array)):\n",
    "            if comp_array_2[tjek,0] == comp_array[j,0]:\n",
    "                com1.append(comp_array[j,1])\n",
    "                com2.append(comp_array[j,2])\n",
    "                com3.append(comp_array[j,3])\n",
    "        comp_array_2[tjek,1] = np.mean(com1)\n",
    "        comp_array_2[tjek,2] = np.std(com1)\n",
    "        if comp_array_2[tjek,2]/float(comp_array_2[tjek,1]) > acceptance or float(comp_array_2[tjek,1]) < 0:\n",
    "            comp_array_2[tjek,1] = float('nan')\n",
    "            comp_array_2[tjek,2] = float('nan')\n",
    "        comp_array_2[tjek,3] = np.mean(com2)\n",
    "        comp_array_2[tjek,4] = np.std(com2)\n",
    "        if comp_array_2[tjek,4]/float(comp_array_2[tjek,3]) > acceptance or float(comp_array_2[tjek,3]) < 0:\n",
    "            comp_array_2[tjek,3] = float('nan')\n",
    "            comp_array_2[tjek,4] = float('nan')\n",
    "        comp_array_2[tjek,5] = np.mean(com3)\n",
    "        comp_array_2[tjek,6] = np.std(com3)\n",
    "        if comp_array_2[tjek,6]/float(comp_array_2[tjek,5]) > acceptance or float(comp_array_2[tjek,5]) < 0:\n",
    "            comp_array_2[tjek,5] = float('nan')\n",
    "            comp_array_2[tjek,6] = float('nan')\n",
    "        tjek = tjek + 1"
   ]
  },
  {
   "cell_type": "code",
   "execution_count": 22,
   "metadata": {
    "scrolled": false
   },
   "outputs": [
    {
     "data": {
      "image/png": "[encoded data removed]",
      "text/plain": [
       "<matplotlib.figure.Figure at 0x7f04bc74ebd0>"
      ]
     },
     "metadata": {},
     "output_type": "display_data"
    },
    {
     "data": {
      "image/png": "[encoded data removed]",
      "text/plain": [
       "<matplotlib.figure.Figure at 0x7f04bca32890>"
      ]
     },
     "metadata": {},
     "output_type": "display_data"
    },
    {
     "data": {
      "image/png": "[encoded data removed]",
      "text/plain": [
       "<matplotlib.figure.Figure at 0x7f04c04db610>"
      ]
     },
     "metadata": {},
     "output_type": "display_data"
    }
   ],
   "source": [
    "plt.figure(figsize=(10,7))\n",
    "plt.errorbar(comp_array_mod_2[:,0],comp_array_mod_2[:,3],yerr=comp_array_mod_2[:,4],fmt='.')\n",
    "#plt.ylim([0.02,0.07])\n",
    "plt.show()\n",
    "\n",
    "plt.figure(figsize=(10,7))\n",
    "plt.errorbar(comp_array_2[:,0],comp_array_2[:,3],yerr=comp_array_2[:,4],fmt='.')\n",
    "plt.errorbar(comp_array_2[:,0],comp_array_2[:,1],yerr=comp_array_2[:,2],fmt='.')\n",
    "plt.errorbar(comp_array_2[:,0],comp_array_2[:,5],yerr=comp_array_2[:,6],fmt='.')\n",
    "#plt.ylim([0.02,0.07])\n",
    "plt.show()\n",
    "\n",
    "plt.figure(figsize=(10,7))\n",
    "plt.scatter(comp_array[:,0],comp_array[:,1])\n",
    "plt.scatter(comp_array[:,0],comp_array[:,2])\n",
    "plt.scatter(comp_array[:,0],comp_array[:,3])\n",
    "plt.ylim([5*10**(-15),2*10**(-14)])\n",
    "plt.show()\n"
   ]
  },
  {
   "cell_type": "code",
   "execution_count": 20,
   "metadata": {
    "scrolled": false
   },
   "outputs": [
    {
     "ename": "NameError",
     "evalue": "name 'date' is not defined",
     "output_type": "error",
     "traceback": [
      "\u001b[0;31m---------------------------------------------------------------------------\u001b[0m",
      "\u001b[0;31mNameError\u001b[0m                                 Traceback (most recent call last)",
      "\u001b[0;32m<ipython-input-20-e140ea5a6ee5>\u001b[0m in \u001b[0;36m<module>\u001b[0;34m()\u001b[0m\n\u001b[1;32m      2\u001b[0m \u001b[0;31m#plt.scatter(date,np.array(ABS_FLUX_LAMBDA_1),marker='x',\\\u001b[0m\u001b[0;34m\u001b[0m\u001b[0;34m\u001b[0m\u001b[0m\n\u001b[1;32m      3\u001b[0m \u001b[0;31m#            color='b',label='Flux found from HD101274')\u001b[0m\u001b[0;34m\u001b[0m\u001b[0;34m\u001b[0m\u001b[0m\n\u001b[0;32m----> 4\u001b[0;31m \u001b[0mplt\u001b[0m\u001b[0;34m.\u001b[0m\u001b[0mscatter\u001b[0m\u001b[0;34m(\u001b[0m\u001b[0mdate\u001b[0m\u001b[0;34m,\u001b[0m\u001b[0mnp\u001b[0m\u001b[0;34m.\u001b[0m\u001b[0marray\u001b[0m\u001b[0;34m(\u001b[0m\u001b[0mABS_FLUX_LAMBDA_2\u001b[0m\u001b[0;34m)\u001b[0m\u001b[0;34m,\u001b[0m\u001b[0mmarker\u001b[0m\u001b[0;34m=\u001b[0m\u001b[0;34m'x'\u001b[0m\u001b[0;34m,\u001b[0m            \u001b[0mcolor\u001b[0m\u001b[0;34m=\u001b[0m\u001b[0;34m'r'\u001b[0m\u001b[0;34m,\u001b[0m\u001b[0mlabel\u001b[0m\u001b[0;34m=\u001b[0m\u001b[0;34m'Flux found from Tycho-2 7740-22-1'\u001b[0m\u001b[0;34m)\u001b[0m\u001b[0;34m\u001b[0m\u001b[0m\n\u001b[0m\u001b[1;32m      5\u001b[0m \u001b[0mplt\u001b[0m\u001b[0;34m.\u001b[0m\u001b[0mscatter\u001b[0m\u001b[0;34m(\u001b[0m\u001b[0mdate_1\u001b[0m\u001b[0;34m,\u001b[0m\u001b[0mnp\u001b[0m\u001b[0;34m.\u001b[0m\u001b[0marray\u001b[0m\u001b[0;34m(\u001b[0m\u001b[0mABS_FLUX_LAMBDA_3\u001b[0m\u001b[0;34m)\u001b[0m\u001b[0;34m,\u001b[0m\u001b[0mmarker\u001b[0m\u001b[0;34m=\u001b[0m\u001b[0;34m'x'\u001b[0m\u001b[0;34m,\u001b[0m            \u001b[0mcolor\u001b[0m\u001b[0;34m=\u001b[0m\u001b[0;34m'g'\u001b[0m\u001b[0;34m,\u001b[0m\u001b[0mlabel\u001b[0m\u001b[0;34m=\u001b[0m\u001b[0;34m'Flux found from Tycho-2 7740-529-1'\u001b[0m\u001b[0;34m)\u001b[0m\u001b[0;34m\u001b[0m\u001b[0m\n\u001b[1;32m      6\u001b[0m \u001b[0mplt\u001b[0m\u001b[0;34m.\u001b[0m\u001b[0mscatter\u001b[0m\u001b[0;34m(\u001b[0m\u001b[0mdate_1\u001b[0m\u001b[0;34m,\u001b[0m\u001b[0mABS_FLUX_LAMBDA_1_1\u001b[0m\u001b[0;34m,\u001b[0m\u001b[0mmarker\u001b[0m\u001b[0;34m=\u001b[0m\u001b[0;34m'o'\u001b[0m\u001b[0;34m,\u001b[0m            \u001b[0mcolor\u001b[0m\u001b[0;34m=\u001b[0m\u001b[0;34m'b'\u001b[0m\u001b[0;34m,\u001b[0m\u001b[0mlabel\u001b[0m\u001b[0;34m=\u001b[0m\u001b[0;34m'Flux found from SEX HD101274'\u001b[0m\u001b[0;34m)\u001b[0m\u001b[0;34m\u001b[0m\u001b[0m\n",
      "\u001b[0;31mNameError\u001b[0m: name 'date' is not defined"
     ]
    },
    {
     "data": {
      "text/plain": [
       "<matplotlib.figure.Figure at 0x7f04bc770d10>"
      ]
     },
     "metadata": {},
     "output_type": "display_data"
    }
   ],
   "source": [
    "plt.figure(figsize=(20,14))\n",
    "#plt.scatter(date,np.array(ABS_FLUX_LAMBDA_1),marker='x',\\\n",
    "#            color='b',label='Flux found from HD101274')\n",
    "plt.scatter(date,np.array(ABS_FLUX_LAMBDA_2),marker='x',\\\n",
    "            color='r',label='Flux found from Tycho-2 7740-22-1')\n",
    "plt.scatter(date_1,np.array(ABS_FLUX_LAMBDA_3),marker='x',\\\n",
    "            color='g',label='Flux found from Tycho-2 7740-529-1')\n",
    "plt.scatter(date_1,ABS_FLUX_LAMBDA_1_1,marker='o',\\\n",
    "            color='b',label='Flux found from SEX HD101274')\n",
    "plt.scatter(date_1,np.array(ABS_FLUX_LAMBDA_2_1),marker='o',\\\n",
    "            color='r',label='Flux found from SEX Tycho-2 7740-22-1')\n",
    "#plt.scatter(date_1,np.array(ABS_FLUX_LAMBDA_3_1),marker='o',\\\n",
    "#            color='g',label='Flux found from Tycho-2 7740-529-1')\n",
    "plt.xlabel('Days')\n",
    "plt.ylabel('Flux (F_LAMBDA) (K-band)')\n",
    "plt.title('Aperture 0.001 deg')\n",
    "#plt.yscale('log')\n",
    "plt.ylim([0.07*10**(-14),1*10**(-14)])\n",
    "#plt.xlim([57580,57600])\n",
    "plt.legend()\n",
    "plt.show()\n",
    "\n",
    "plt.figure(figsize=(20,14))\n",
    "plt.scatter(date,np.array(SNR1),marker='x',\\\n",
    "            color='b',label='Flux found from HD101274')\n",
    "plt.xlabel('Days')\n",
    "plt.ylabel('Flux (F_LAMBDA) (K-band)')\n",
    "plt.title('Aperture 0.001 deg')\n",
    "#plt.yscale('log')\n",
    "#plt.ylim([0.15,0.20])\n",
    "#plt.xlim([57580,57600])\n",
    "plt.legend()\n",
    "plt.show()\n",
    "\n",
    "num = np.nanargmax(ABS_FLUX_LAMBDA_2_1)\n",
    "\n",
    "print ABS_FLUX_LAMBDA_2\n",
    "print ABS_FLUX_LAMBDA_2[num]\n",
    "print num\n",
    "print date[num]\n",
    "print quasJ[num]\n"
   ]
  },
  {
   "cell_type": "code",
   "execution_count": null,
   "metadata": {
    "collapsed": true
   },
   "outputs": [],
   "source": [
    "plt.figure(figsize=(20,14))\n",
    "#plt.scatter(date,np.array(ABS_FLUX_LAMBDA_1),marker='x',\\\n",
    "#            color='b',label='Flux found from HD101274')\n",
    "plt.scatter(date,np.array(ABS_FLUX_LAMBDA_2),marker='x',\\\n",
    "            color='r',label='Flux found from Tycho-2 7740-22-1')\n",
    "#plt.scatter(date_1,np.array(ABS_FLUX_LAMBDA_3),marker='x',\\\n",
    "#            color='g',label='Flux found from Tycho-2 7740-529-1')\n",
    "#plt.scatter(date_1,ABS_FLUX_LAMBDA_1_1,marker='o',\\\n",
    "#            color='b',label='Flux found from SEX HD101274')\n",
    "plt.scatter(date_1,np.array(ABS_FLUX_LAMBDA_2_1),marker='o',\\\n",
    "            color='r',label='Flux found from SEX Tycho-2 7740-22-1')\n",
    "#plt.scatter(date_1,np.array(ABS_FLUX_LAMBDA_3_1),marker='o',\\\n",
    "#            color='g',label='Flux found from Tycho-2 7740-529-1')\n",
    "plt.xlabel('Days')\n",
    "plt.ylabel('Flux (F_LAMBDA) (K-band)')\n",
    "plt.title('Aperture 0.001 deg')\n",
    "#plt.yscale('log')\n",
    "plt.ylim([0.2*10**(-14),0.3*10**(-14)])\n",
    "#plt.xlim([57580,57600])\n",
    "plt.legend()\n",
    "plt.show()\n",
    "\n",
    "plt.figure(figsize=(20,14))\n",
    "plt.scatter(date,np.array(SNR1),marker='x',\\\n",
    "            color='b',label='Flux found from HD101274')\n",
    "plt.xlabel('Days')\n",
    "plt.ylabel('Flux (F_LAMBDA) (K-band)')\n",
    "plt.title('Aperture 0.001 deg')\n",
    "#plt.yscale('log')\n",
    "#plt.ylim([0.15,0.20])\n",
    "#plt.xlim([57580,57600])\n",
    "plt.legend()\n",
    "plt.show()\n",
    "\n",
    "num = np.nanargmax(ABS_FLUX_LAMBDA_2_1)\n",
    "\n",
    "print ABS_FLUX_LAMBDA_2\n",
    "print ABS_FLUX_LAMBDA_2[num]\n",
    "print num\n",
    "print date[num]\n",
    "print quasJ[num]\n"
   ]
  },
  {
   "cell_type": "code",
   "execution_count": null,
   "metadata": {
    "collapsed": true,
    "scrolled": false
   },
   "outputs": [],
   "source": [
    "\n",
    "plt.figure(figsize=(10,7))\n",
    "plt.scatter(date,flucompsta2,marker='x',\\\n",
    "            color='b',label='AGN/Tycho-2 7740-22-1')\n",
    "plt.scatter(date,flucompsta1*6.2,marker='x',\\\n",
    "            color='r',label='AGN/HD 101274 (scaled by 4.7)')\n",
    "#plt.scatter(date,flucompsta4*2.2,marker='x',\\\n",
    "#            color='g',label='AGN/Tycho-2 7740-529-1 (scaled by 2.2)')\n",
    "plt.xlabel('Days')\n",
    "plt.ylabel('Relatve Flux (K-band)')\n",
    "plt.title('Aperture 0.001 deg')\n",
    "plt.ylim([1.45,2.1])\n",
    "plt.legend()\n",
    "plt.show()\n",
    "\n",
    "\n"
   ]
  },
  {
   "cell_type": "code",
   "execution_count": null,
   "metadata": {
    "collapsed": true
   },
   "outputs": [],
   "source": []
  }
 ],
 "metadata": {
  "kernelspec": {
   "display_name": "Python 2",
   "language": "python",
   "name": "python2"
  },
  "language_info": {
   "codemirror_mode": {
    "name": "ipython",
    "version": 2
   },
   "file_extension": ".py",
   "mimetype": "text/x-python",
   "name": "python",
   "nbconvert_exporter": "python",
   "pygments_lexer": "ipython2",
   "version": "2.7.13"
  }
 },
 "nbformat": 4,
 "nbformat_minor": 2
}
