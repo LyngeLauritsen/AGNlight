{
 "cells": [
  {
   "cell_type": "code",
   "execution_count": 2,
   "metadata": {
    "collapsed": false
   },
   "outputs": [],
   "source": [
    "import numpy as np\n",
    "import scipy as sc\n",
    "import scipy.optimize as opt\n",
    "import random\n",
    "import matplotlib.pyplot as plt\n",
    "import scipy.stats as stats\n",
    "from numpy.random import randint\n",
    "import gc"
   ]
  },
  {
   "cell_type": "code",
   "execution_count": 3,
   "metadata": {
    "collapsed": true
   },
   "outputs": [],
   "source": [
    "runs = 5"
   ]
  },
  {
   "cell_type": "code",
   "execution_count": 4,
   "metadata": {
    "collapsed": false
   },
   "outputs": [],
   "source": [
    "def lognorm(x,mu,sigma):\n",
    "    sigma = float(sigma)\n",
    "    mu = float(mu)\n",
    "    x = float(x)\n",
    "    exp = -((np.log(x)-mu)**2/(2*sigma**2))\n",
    "    front = 1/(x*sigma*np.sqrt(2*np.pi))\n",
    "    return front*np.exp(exp)"
   ]
  },
  {
   "cell_type": "code",
   "execution_count": 22,
   "metadata": {
    "collapsed": false
   },
   "outputs": [
    {
     "name": "stderr",
     "output_type": "stream",
     "text": [
      "/home/lynge/anaconda2/lib/python2.7/site-packages/ipykernel_launcher.py:5: RuntimeWarning: divide by zero encountered in log\n",
      "  \"\"\"\n",
      "/home/lynge/anaconda2/lib/python2.7/site-packages/ipykernel_launcher.py:6: RuntimeWarning: divide by zero encountered in double_scalars\n",
      "  \n",
      "/home/lynge/anaconda2/lib/python2.7/site-packages/ipykernel_launcher.py:7: RuntimeWarning: invalid value encountered in double_scalars\n",
      "  import sys\n"
     ]
    },
    {
     "name": "stdout",
     "output_type": "stream",
     "text": [
      "0.2997999916150706\n"
     ]
    },
    {
     "data": {
      "image/png": "[encoded data removed]",
      "text/plain": [
       "<matplotlib.figure.Figure at 0x7f5ac2c12fd0>"
      ]
     },
     "metadata": {},
     "output_type": "display_data"
    },
    {
     "data": {
      "text/plain": [
       "'\\nplt.figure()\\nplt.plot(x_list,log)\\nplt.xlim([0,1000])\\nplt.show()\\n'"
      ]
     },
     "execution_count": 22,
     "metadata": {},
     "output_type": "execute_result"
    }
   ],
   "source": [
    "#fast_leave = 1193. #Minimum days to leave dust cloud\n",
    "x_list = np.linspace(0,1500,1500)\n",
    "\n",
    "mean = 20.\n",
    "sigma = 0.5\n",
    "mu = np.log(mean) - 1/2.*sigma\n",
    "log = []\n",
    "for i in range(len(x_list)):\n",
    "    log.append(lognorm(x_list[i],mu,sigma))\n",
    "    \n",
    "print np.nansum(log)*1500/5000.\n",
    "\n",
    "plt.figure()\n",
    "plt.plot(x_list,log)\n",
    "plt.xlim([0,30])\n",
    "plt.show()\n",
    "'''\n",
    "plt.figure()\n",
    "plt.plot(x_list,log)\n",
    "plt.xlim([0,1000])\n",
    "plt.show()\n",
    "'''"
   ]
  },
  {
   "cell_type": "code",
   "execution_count": 5,
   "metadata": {
    "collapsed": false
   },
   "outputs": [],
   "source": [
    "data = np.loadtxt('NOVEMBER/NOV-NGC3783-K')\n",
    "error = np.loadtxt('NOVEMBER/NGC3783_NOISE_K.txt')\n",
    "#data[:,0] = data[:,0] - min(data[:,0])\n",
    "#error[:,0] = float(int(error[:,0]))"
   ]
  },
  {
   "cell_type": "code",
   "execution_count": 6,
   "metadata": {
    "collapsed": false
   },
   "outputs": [
    {
     "name": "stdout",
     "output_type": "stream",
     "text": [
      "[57516. 57523. 57530. 57547. 57554. 57562. 57569. 57583. 57598. 57693.\n",
      " 57701. 57711. 57719. 57726. 57733. 57741. 57749. 57757. 57764. 57772.\n",
      " 57786. 57794. 57801. 57809. 57817. 57864. 57878. 57887. 57894. 57903.\n",
      " 57910. 57918. 57925. 57933. 57942. 57942. 57949. 57956. 58055. 58062.\n",
      " 58070. 58079. 58086. 58094.]\n",
      "[6.53724662e-15 6.68657641e-15 6.71527344e-15 6.60099894e-15\n",
      " 6.37713900e-15 6.66855803e-15 6.67181077e-15 6.40972481e-15\n",
      " 6.56864377e-15 6.57594350e-15 6.74248785e-15 6.98912737e-15\n",
      " 7.06941435e-15 7.16508274e-15 7.45461953e-15 7.60092634e-15\n",
      " 7.60039417e-15            nan 8.05099584e-15 7.98610860e-15\n",
      " 8.21301406e-15 8.22193811e-15 8.25153761e-15            nan\n",
      " 8.38115563e-15            nan 9.19988661e-15 9.20615762e-15\n",
      " 9.29548448e-15 9.44518380e-15 9.50857590e-15 9.73722913e-15\n",
      " 9.80940383e-15 9.78447827e-15            nan            nan\n",
      " 9.85013975e-15 9.76320384e-15 9.45886211e-15 9.26290708e-15\n",
      " 9.16831540e-15 9.11523113e-15 9.00052668e-15 9.08440971e-15]\n",
      "[1.59502546e-16            nan 1.76239282e-16 1.89703949e-16\n",
      " 1.90167133e-16 1.89057045e-16 1.84334581e-16 1.83187539e-16\n",
      " 1.80173025e-16 1.80247249e-16 1.78328491e-16            nan\n",
      " 1.62820662e-16 1.74563886e-16            nan 1.60287999e-16\n",
      " 1.59681044e-16 1.55144111e-16 1.56355329e-16            nan\n",
      " 1.47569123e-16 1.47729691e-16 1.44742163e-16 1.76842633e-16\n",
      " 1.39127341e-16 1.37379541e-16 1.36675236e-16 1.30989587e-16\n",
      " 1.27714899e-16 1.27486594e-16 1.24391937e-16 1.29802769e-16\n",
      " 1.29489911e-16 1.26260068e-16 1.77857011e-16 1.28127974e-16\n",
      " 1.30333285e-16 1.35105835e-16 1.26853352e-16 1.79714158e-16\n",
      " 1.83497346e-16 1.89306536e-16 1.91254800e-16            nan]\n"
     ]
    }
   ],
   "source": [
    "print data[:,0]\n",
    "print data[:,1]\n",
    "#print error[:,0]\n",
    "print error[:,1]\n"
   ]
  },
  {
   "cell_type": "code",
   "execution_count": 7,
   "metadata": {
    "collapsed": false
   },
   "outputs": [],
   "source": [
    "delta_F_l = data[:,1] - np.nanmean(data[:,1])\n",
    "L = delta_F_l/error[:,1]\n"
   ]
  },
  {
   "cell_type": "code",
   "execution_count": 11,
   "metadata": {
    "collapsed": false,
    "scrolled": false
   },
   "outputs": [
    {
     "name": "stdout",
     "output_type": "stream",
     "text": [
      "(1178,)\n"
     ]
    }
   ],
   "source": [
    "cont_days = np.arange(min(data[:,0])-600.,max(data[:,0]),1)\n",
    "print np.shape(cont_days)\n",
    "cont = np.zeros((len(cont_days),3))\n",
    "cont[:,0] = cont_days\n",
    "cont[:,1] = np.nanmean(data[:,1])\n",
    "data_comp = np.zeros((len(data[:,1]),3))\n",
    "data_comp[:,0] = data[:,0]\n",
    "data_comp[:,1] = data[:,1]\n",
    "data_comp[:,2] = np.nanmean(data[:,1])"
   ]
  },
  {
   "cell_type": "code",
   "execution_count": null,
   "metadata": {
    "collapsed": false,
    "scrolled": false
   },
   "outputs": [
    {
     "name": "stdout",
     "output_type": "stream",
     "text": [
      "0\n",
      "1\n",
      "2\n",
      "3\n"
     ]
    }
   ],
   "source": [
    "chi1 = 1e10000\n",
    "for i in range(runs):\n",
    "    print i\n",
    "    for j in range(len(cont_days)):\n",
    "        data_comp[:,2] = 0\n",
    "        place1 = randint(0,len(cont_days))\n",
    "        place2 = randint(0,len(cont_days))\n",
    "        place3 = randint(0,len(cont_days))\n",
    "        place4 = randint(0,len(cont_days))\n",
    "        place5 = randint(0,len(cont_days))\n",
    "        change = (-1)**randint(0,2)*cont[j,1]*random.random()*0.05\n",
    "        change1 = (-1)**randint(0,2)*cont[place1,1]*random.random()*0.05\n",
    "        change2 = (-1)**randint(0,2)*cont[place2,1]*random.random()*0.05\n",
    "        change3 = (-1)**randint(0,2)*cont[place3,1]*random.random()*0.05\n",
    "        change4 = (-1)**randint(0,2)*cont[place4,1]*random.random()*0.05\n",
    "        change5 = (-1)**randint(0,2)*cont[place5,1]*random.random()*0.05\n",
    "        cont[j,1] += change\n",
    "        cont[place1,1] += change1\n",
    "        cont[place2,1] += change2\n",
    "        cont[place3,1] += change3\n",
    "        cont[place4,1] += change4\n",
    "        cont[place5,1] += change5\n",
    "        h = 0\n",
    "        #print 'j = ', j\n",
    "        for h in range(len(data_comp[:,0])):\n",
    "            for k in range(len(cont_days)):\n",
    "                if cont_days[k] < data_comp[h,0]:\n",
    "                    data_comp[h,2] += cont[k,1]*log[abs(int((cont[k,0]-data_comp[h,0])))] #int((cont[k,0]-data_comp[h,0])/10.)\n",
    "                    #print 'yes'\n",
    "            #print 'k = ', k\n",
    "        #print data_comp[:,2]\n",
    "        chi2 = np.nansum((data_comp[:,1] - data_comp[:,2])**2)\n",
    "        #print chi2, chi1\n",
    "        if chi2 >= chi1:\n",
    "            #print 'YES'\n",
    "            cont[j,1] -= change\n",
    "            cont[place1,1] -= change1\n",
    "            cont[place2,1] -= change2\n",
    "            cont[place3,1] -= change3\n",
    "            cont[place4,1] -= change4\n",
    "            cont[place5,1] -= change5\n",
    "        elif chi2 < chi1:\n",
    "            #print chi2 - chi1\n",
    "            chi1 = chi2\n",
    "        gc.collect()\n",
    "    gc.collect()"
   ]
  },
  {
   "cell_type": "code",
   "execution_count": null,
   "metadata": {
    "collapsed": false
   },
   "outputs": [],
   "source": [
    "plt.figure(figsize=(10,10))\n",
    "plt.scatter(cont[:,0],cont[:,1])\n",
    "plt.scatter(data[:,0],data[:,1])\n",
    "plt.scatter(data_comp[:,0],data_comp[:,2])\n",
    "plt.ylim([1e-15,2e-14])\n",
    "plt.yscale('log')\n",
    "plt.show()\n",
    "\n",
    "print cont[:,1]"
   ]
  },
  {
   "cell_type": "code",
   "execution_count": 25,
   "metadata": {
    "collapsed": false
   },
   "outputs": [],
   "source": [
    "x = -1\n",
    "if x == 0 or x > 0:\n",
    "    print x"
   ]
  },
  {
   "cell_type": "code",
   "execution_count": null,
   "metadata": {
    "collapsed": true
   },
   "outputs": [],
   "source": []
  }
 ],
 "metadata": {
  "kernelspec": {
   "display_name": "Python 2",
   "language": "python",
   "name": "python2"
  },
  "language_info": {
   "codemirror_mode": {
    "name": "ipython",
    "version": 2
   },
   "file_extension": ".py",
   "mimetype": "text/x-python",
   "name": "python",
   "nbconvert_exporter": "python",
   "pygments_lexer": "ipython2",
   "version": "2.7.13"
  }
 },
 "nbformat": 4,
 "nbformat_minor": 2
}
