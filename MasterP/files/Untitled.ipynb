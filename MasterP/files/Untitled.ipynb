{
 "cells": [
  {
   "cell_type": "code",
   "execution_count": 2,
   "metadata": {},
   "outputs": [
    {
     "name": "stdout",
     "output_type": "stream",
     "text": [
      "NGC3783_3_10_K(20).new\n",
      "NGC3783_3_10_K(29).new\n",
      "NGC3783_3_10_K(4).new\n",
      "NGC3783_3_10_K(14).new\n",
      "NGC3783_3_10_K(3).new\n",
      "NGC3783_3_10_K(33).new\n",
      "NGC3783_3_10_K(1).new\n",
      "NGC3783_3_10_K(9).new\n",
      "NGC3783_3_10_K(17).new\n",
      "NGC3783_3_10_K(24).new\n",
      "NGC3783_3_10_K(10).new\n",
      "NGC3783_3_10_K(31).new\n",
      "NGC3783_3_10_K(27).new\n",
      "NGC3783_3_10_K(8).new\n",
      "NGC3783_3_10_K(26).new\n",
      "NGC3783_3_10_K(13).new\n",
      "NGC3783_3_10_K(30).new\n",
      "NGC3783_3_10_K(6).new\n",
      "NGC3783_3_10_K(16).new\n",
      "NGC3783_3_10_K(12).new\n",
      "NGC3783_3_10_K(28).new\n",
      "NGC3783_3_10_K(18).new\n",
      "NGC3783_3_10_K(15).new\n",
      "NGC3783_3_10_K(34).new\n",
      "NGC3783_3_10_K.new\n",
      "NGC3783_3_10_K(22).new\n",
      "NGC3783_3_10_K(23).new\n",
      "NGC3783_3_10_K(32).new\n",
      "NGC3783_3_10_K(19).new\n",
      "NGC3783_3_10_K(5).new\n",
      "NGC3783_3_10_K(7).new\n",
      "NGC3783_3_10_K(11).new\n",
      "NGC3783_3_10_K(25).new\n",
      "NGC3783_3_10_K(21).new\n"
     ]
    }
   ],
   "source": [
    "import implant_wcs"
   ]
  },
  {
   "cell_type": "code",
   "execution_count": 4,
   "metadata": {},
   "outputs": [],
   "source": [
    "import merge_headers"
   ]
  },
  {
   "cell_type": "code",
   "execution_count": null,
   "metadata": {
    "collapsed": true
   },
   "outputs": [],
   "source": []
  }
 ],
 "metadata": {
  "kernelspec": {
   "display_name": "Python 2",
   "language": "python",
   "name": "python2"
  },
  "language_info": {
   "codemirror_mode": {
    "name": "ipython",
    "version": 2
   },
   "file_extension": ".py",
   "mimetype": "text/x-python",
   "name": "python",
   "nbconvert_exporter": "python",
   "pygments_lexer": "ipython2",
   "version": "2.7.13"
  }
 },
 "nbformat": 4,
 "nbformat_minor": 2
}
