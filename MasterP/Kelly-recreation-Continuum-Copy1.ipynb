{
 "cells": [
  {
   "cell_type": "code",
   "execution_count": 1,
   "metadata": {
    "collapsed": true
   },
   "outputs": [],
   "source": [
    "import numpy as np\n",
    "from numpy import *\n",
    "import scipy as sc\n",
    "import scipy.optimize as opt\n",
    "import random\n",
    "import matplotlib.pyplot as plt\n",
    "import scipy.stats as stats\n",
    "from numpy.random import randint\n",
    "import math\n",
    "from scipy.optimize import minimize as mini\n",
    "from scipy.optimize import least_squares as ls\n",
    "from scipy.optimize import leastsq\n",
    "import gc\n",
    "from multiprocessing import Process\n",
    "#import colorednoise as cn\n",
    "from numpy import concatenate, real, std, abs, min\n",
    "from numpy.fft import ifft, fftfreq, fft, rfft, irfft\n",
    "from numpy.random import normal\n",
    "import time\n"
   ]
  },
  {
   "cell_type": "code",
   "execution_count": 2,
   "metadata": {
    "collapsed": true
   },
   "outputs": [],
   "source": [
    "MAG_VEGA_B = 0.03\n",
    "MAG_VEGA_V = 0.03\n",
    "MAG_VEGA_G = 0.03\n",
    "MAG_VEGA_J = -0.18\n",
    "MAG_VEGA_H = -0.03\n",
    "MAG_VEGA_K = 0.13\n",
    "\n",
    "MAG_VEGA_g = -0.08\n",
    "MAG_VEGA_r = 0.16\n",
    "MAG_VEGA_i = 0.37\n",
    "MAG_VEGA_z = 0.54\n",
    "\n",
    "FLUX_LAMBDA_VEGA_B = 632*10**(-11) #erg/cm**2/s/A\n",
    "FLUX_LAMBDA_VEGA_V = 363.1*10**(-11)\n",
    "FLUX_LAMBDA_VEGA_G = float('nan')\n",
    "FLUX_LAMBDA_VEGA_J = 31.47*10**(-11)\n",
    "FLUX_LAMBDA_VEGA_H = 11.38*10**(-11)\n",
    "FLUX_LAMBDA_VEGA_K = 3.961*10**(-11)\n",
    "\n",
    "FLUX_LAMBDA_VEGA_g = 466.9*10**(-11) #erg/cm**2/s/A\n",
    "FLUX_LAMBDA_VEGA_r = 278.0*10**(-11)\n",
    "FLUX_LAMBDA_VEGA_i = 185.2*10**(-11)\n",
    "FLUX_LAMBDA_VEGA_z = 131.5*10**(-11)"
   ]
  },
  {
   "cell_type": "code",
   "execution_count": null,
   "metadata": {
    "collapsed": true
   },
   "outputs": [],
   "source": []
  },
  {
   "cell_type": "markdown",
   "metadata": {},
   "source": [
    "data = np.loadtxt('/home/lynge/MasterP/NOVEMBER/NOV-NGC3783-K')\n",
    "error = np.loadtxt('/home/lynge/MasterP/NOVEMBER/NGC3783_NOISE_K.txt')\n",
    "\n",
    "time1 = [1,2,3,4,5,6,7,8,9,10]\n",
    "flux1 = [1,2,5,7,3,1,4,6,7,3]\n",
    "sigma1 = [0.1,0.1,0.1,0.1,0.1,0.1,0.1,0.1,0.1,0.1]\n",
    "\n",
    "\n",
    "time1 = np.array(time1)\n",
    "flux1 = np.array(flux1)\n",
    "sigma1 = np.array(sigma1)\n",
    "\n",
    "time = np.insert(time1,0,0)\n",
    "sigma = np.insert(sigma1,0,np.mean(sigma1))\n",
    "flux = np.insert(flux1,0,np.mean(flux1))\n",
    "\n",
    "print time1\n",
    "print sigma1\n",
    "print flux1\n",
    "\n"
   ]
  },
  {
   "cell_type": "code",
   "execution_count": 34,
   "metadata": {
    "collapsed": false
   },
   "outputs": [
    {
     "name": "stdout",
     "output_type": "stream",
     "text": [
      "[7.23892625e-15 7.29052137e-15 7.18618234e-15 7.18691076e-15\n",
      " 7.04985282e-15 7.09973703e-15 6.78088329e-15 6.60985486e-15\n",
      " 6.74499561e-15 7.36467640e-15 7.28092535e-15 7.29608513e-15\n",
      " 7.70705965e-15 7.59871019e-15 7.99400912e-15 6.06731502e-15\n",
      "            nan 5.80848305e-15 6.21828017e-15 6.18373115e-15\n",
      " 6.10327709e-15            nan            nan            nan\n",
      "            nan            nan            nan            nan\n",
      "            nan            nan 6.21275409e-15 6.14968747e-15\n",
      " 6.21813335e-15            nan            nan            nan\n",
      "            nan            nan            nan 8.61705569e-15\n",
      " 8.82113218e-15 8.62433669e-15 7.59017836e-15 7.55418067e-15\n",
      "            nan 7.94059082e-15 7.91385130e-15 7.85393586e-15\n",
      " 7.79627034e-15 7.98493786e-15 7.86608326e-15 8.30736031e-15\n",
      " 8.27455265e-15 8.28715098e-15            nan            nan\n",
      "            nan 8.10294671e-15 8.25066135e-15 8.08998805e-15\n",
      " 8.04042232e-15 8.40841119e-15 8.48656141e-15 9.85817807e-15\n",
      " 9.91341569e-15 9.81270901e-15            nan            nan\n",
      "            nan 8.87224926e-15 8.94978877e-15 9.02592047e-15\n",
      " 1.05413529e-14 1.05689121e-14 1.06202485e-14 1.06151312e-14\n",
      " 1.05723071e-14 1.05228957e-14 7.42427862e-15 7.51981211e-15\n",
      " 7.62691194e-15            nan            nan            nan\n",
      " 8.60361595e-15 8.67162364e-15 8.74022776e-15            nan\n",
      " 9.47439584e-15            nan 1.11977828e-14 1.12235642e-14\n",
      " 1.12890194e-14 1.00348916e-14 9.96367589e-15 9.97090655e-15\n",
      " 9.58831548e-15 9.61495926e-15 9.61667246e-15 9.69453545e-15\n",
      " 9.45193161e-15 9.50274110e-15            nan            nan\n",
      "            nan 8.78067351e-15 8.75808205e-15 8.71001742e-15\n",
      " 9.25696112e-15 9.30464116e-15 9.27939936e-15            nan\n",
      "            nan            nan 9.92620928e-15 9.96756875e-15\n",
      " 9.96690334e-15            nan            nan            nan\n",
      " 1.01631145e-14 1.03686714e-14 1.00776049e-14 1.07638491e-14\n",
      " 1.07917629e-14 1.07218922e-14 1.02904770e-14 9.81120757e-15\n",
      " 1.02301367e-14            nan            nan            nan\n",
      " 6.70980214e-15 6.73546338e-15 6.69571551e-15 7.91622332e-15\n",
      " 7.82238204e-15 7.75381179e-15 7.29805421e-15 7.45228308e-15\n",
      " 7.33210836e-15 7.36639357e-15 7.22393599e-15 7.28902196e-15\n",
      "            nan            nan            nan 9.90383170e-15\n",
      " 9.87076539e-15 9.82521074e-15 9.65003862e-15 9.47638095e-15\n",
      " 9.47050162e-15 7.10569171e-15 7.13930375e-15 7.11000724e-15\n",
      " 7.10829787e-15 7.04143393e-15 7.11099959e-15 7.03582093e-15\n",
      " 7.04595298e-15 6.96017934e-15 6.18335416e-15 6.26632281e-15\n",
      " 6.57441103e-15 6.87065349e-15 6.83456282e-15 6.80954130e-15\n",
      "            nan            nan            nan            nan\n",
      "            nan            nan 7.24081126e-15 7.11940458e-15\n",
      " 7.24594552e-15            nan            nan            nan\n",
      " 8.40610218e-15 8.58690282e-15 8.72953605e-15            nan\n",
      "            nan            nan 7.72763564e-15 7.57651841e-15\n",
      " 7.45091943e-15 7.40498541e-15 7.30842775e-15 7.35604195e-15\n",
      "            nan            nan            nan 7.51794301e-15\n",
      " 7.24080149e-15 7.36666075e-15 6.89112564e-15 6.92902324e-15\n",
      " 6.96914521e-15 6.80575848e-15 6.59947018e-15 6.83042042e-15\n",
      "            nan            nan            nan 7.17691237e-15\n",
      " 7.14027963e-15 7.15467856e-15            nan            nan\n",
      "            nan            nan 6.74766163e-15 6.83286670e-15\n",
      " 6.82378719e-15 6.17275044e-15 6.05079024e-15 6.13558097e-15\n",
      "            nan            nan            nan 5.97810692e-15\n",
      " 5.88914419e-15 5.92672753e-15]\n"
     ]
    },
    {
     "data": {
      "image/png": "[encoded data removed]",
      "text/plain": [
       "<matplotlib.figure.Figure at 0x7f84a533a2d0>"
      ]
     },
     "metadata": {},
     "output_type": "display_data"
    },
    {
     "name": "stdout",
     "output_type": "stream",
     "text": [
      "[57508. 57508. 57508. 57516. 57516. 57516. 57523. 57523. 57523. 57530.\n",
      " 57530. 57530. 57547. 57547. 57547. 57554. 57554. 57554. 57562. 57562.\n",
      " 57562. 57569. 57569. 57569. 57583. 57583. 57583. 57591. 57591. 57591.\n",
      " 57598. 57598. 57598. 57691. 57691. 57691. 57693. 57693. 57693. 57701.\n",
      " 57701. 57701. 57711. 57711. 57711. 57719. 57719. 57719. 57726. 57726.\n",
      " 57726. 57733. 57733. 57733. 57741. 57741. 57741. 57749. 57749. 57749.\n",
      " 57757. 57757. 57757. 57764. 57764. 57764. 57772. 57772. 57772. 57779.\n",
      " 57779. 57779. 57786. 57786. 57786. 57794. 57794. 57794. 57801. 57801.\n",
      " 57801. 57809. 57809. 57809. 57817. 57817. 57817. 57857. 57857. 57857.\n",
      " 57864. 57864. 57864. 57878. 57878. 57878. 57887. 57887. 57887. 57894.\n",
      " 57894. 57894. 57903. 57903. 57903. 57910. 57910. 57910. 57918. 57918.\n",
      " 57918. 57925. 57925. 57925. 57933. 57933. 57933. 57942. 57942. 57942.\n",
      " 57949. 57949. 57949. 57956. 57956. 57956. 57964. 57964. 57964. 58055.\n",
      " 58055. 58055. 58062. 58062. 58062. 58070. 58070. 58070. 58079. 58079.\n",
      " 58079. 58086. 58086. 58086. 58094. 58094. 58094. 58117. 58117. 58117.\n",
      " 58125. 58125. 58125. 58132. 58132. 58132. 58140. 58140. 58140. 58147.\n",
      " 58147. 58147. 58154. 58154. 58154. 58161. 58161. 58161. 58168. 58168.\n",
      " 58168. 58175. 58175. 58175. 58182. 58182. 58182. 58190. 58190. 58190.\n",
      " 58198. 58198. 58198. 58205. 58205. 58205. 58222. 58222. 58222. 58229.\n",
      " 58229. 58229. 58237. 58237. 58237. 58244. 58244. 58244. 58253. 58253.\n",
      " 58253. 58260. 58260. 58260. 58270. 58270. 58270. 58278. 58278. 58278.\n",
      " 58286. 58295. 58295. 58295. 58307. 58307. 58307. 58314. 58314. 58314.\n",
      " 58321. 58321. 58321. 58329. 58329. 58329.]\n",
      "[nan nan nan nan nan nan nan nan nan nan nan nan nan nan nan nan nan nan\n",
      " nan nan nan nan nan nan nan nan nan nan nan nan nan nan nan nan nan nan\n",
      " nan nan nan nan nan nan nan nan nan nan nan nan nan nan nan nan nan nan\n",
      " nan nan nan nan nan nan nan nan nan nan nan nan nan nan nan nan nan nan\n",
      " nan nan nan nan nan nan nan nan nan nan nan nan nan nan nan nan nan nan\n",
      " nan nan nan nan nan nan nan nan nan nan nan nan nan nan nan nan nan nan\n",
      " nan nan nan nan nan nan nan nan nan nan nan nan nan nan nan nan nan nan\n",
      " nan nan nan nan nan nan nan nan nan nan nan nan nan nan nan nan nan nan\n",
      " nan nan nan nan nan nan nan nan nan nan nan nan nan nan nan nan nan nan\n",
      " nan nan nan nan nan nan nan nan nan nan nan nan nan nan nan nan nan nan\n",
      " nan nan nan nan nan nan nan nan nan nan nan nan nan nan nan nan nan nan\n",
      " nan nan nan nan nan nan nan nan nan nan nan nan nan nan nan nan nan nan\n",
      " nan nan nan nan nan nan nan nan nan nan]\n",
      "[5.06626299e-16 1.02780772e-15 5.53683757e-16 6.22706075e-16\n",
      " 6.50334459e-16            nan 4.55849104e-16 6.38298130e-16\n",
      "            nan            nan 5.27267938e-16            nan\n",
      " 6.38739544e-16 6.14081823e-16 6.60321375e-16 5.91326858e-16\n",
      " 5.39354699e-16            nan            nan            nan\n",
      " 5.31490000e-16 7.83623718e-16 5.43486727e-16 5.26969342e-16\n",
      " 5.31543644e-16            nan 6.65767462e-16 5.14137497e-16\n",
      " 7.87648743e-16 6.28408536e-16            nan 7.05921418e-16\n",
      " 6.39330239e-16 6.43378155e-16 5.29711950e-16 5.46496724e-16\n",
      "            nan 5.19407901e-16 5.90758511e-16 6.90235265e-16\n",
      " 5.66079438e-16            nan 5.49744287e-16 5.69874830e-16\n",
      " 7.37403602e-16 5.93996391e-16 5.58286948e-16            nan\n",
      " 5.82937419e-16            nan            nan            nan\n",
      " 5.45746826e-16 5.17149359e-16 4.57838905e-16 6.00626330e-16\n",
      " 7.92613976e-16 7.93251157e-16            nan            nan\n",
      " 5.91177487e-16            nan 8.32390066e-16            nan\n",
      " 5.88243302e-16 5.48194568e-16            nan 6.49832540e-16\n",
      "            nan 7.19486337e-16            nan 5.99683108e-16\n",
      " 6.38482693e-16 7.96340559e-16            nan 6.45256654e-16\n",
      "            nan            nan 8.36982022e-16            nan\n",
      " 7.86177865e-16 5.49045562e-16 6.48629608e-16            nan\n",
      " 7.35530158e-16            nan            nan 5.55995735e-16\n",
      " 7.28187199e-16 7.58059796e-16            nan 5.53964389e-16\n",
      " 7.42143344e-16            nan 7.71931929e-16 7.39252365e-16\n",
      "            nan 5.92650453e-16 7.81583878e-16 5.08507359e-16\n",
      "            nan 7.31620743e-16            nan            nan\n",
      " 5.77675930e-16 7.31822829e-16            nan            nan\n",
      " 5.59358313e-16 7.36390225e-16 1.43126618e-15 5.71503928e-16\n",
      " 5.35283094e-16 5.25835244e-16            nan 5.21996803e-16\n",
      " 5.72496011e-16 5.95895066e-16 4.50040617e-16 7.36830104e-16\n",
      " 5.39240545e-16            nan 7.05040519e-16 7.82228647e-16\n",
      " 5.16565860e-16 5.49023101e-16 5.53308294e-16 6.47284410e-16\n",
      " 1.65379589e-15 4.60432092e-16 5.11960845e-16            nan\n",
      " 7.56418217e-16 4.64073621e-16 7.28240372e-16 6.53673933e-16\n",
      " 7.33784204e-16 4.94714917e-16 7.31715912e-16            nan\n",
      " 7.96422675e-16            nan            nan 5.47646045e-16\n",
      " 8.30825511e-16 5.40506143e-16            nan 5.58035951e-16\n",
      "            nan 5.53386759e-16            nan 5.31348026e-16\n",
      " 6.12048022e-16            nan 5.29864755e-16            nan\n",
      " 5.77647544e-16            nan            nan 5.12968547e-16\n",
      " 6.53365451e-16 7.53215766e-16            nan 5.56962556e-16\n",
      " 4.46598507e-16 7.88541385e-16            nan 6.71488739e-16\n",
      " 6.86149143e-16 4.60827877e-16 5.67884495e-16 5.05758855e-16\n",
      "            nan 7.99454573e-16 5.42918732e-16 5.45502731e-16\n",
      "            nan            nan 7.42395261e-16 5.01097256e-16\n",
      "            nan 5.16519231e-16            nan 4.63675579e-16\n",
      "            nan            nan            nan            nan\n",
      " 5.22716508e-16            nan            nan            nan\n",
      " 4.56045884e-16 5.17532893e-16 6.15463187e-16 5.39609164e-16\n",
      " 5.24744494e-16 4.65749617e-16 5.23610169e-16            nan\n",
      " 7.50079963e-16 6.18215727e-16 6.98616527e-16 4.44658773e-16\n",
      " 5.18091556e-16            nan 7.23729109e-16 4.61635969e-16\n",
      " 5.62577047e-16 6.24762831e-16 5.78427371e-16 5.89407845e-16\n",
      " 5.20768407e-16 7.98441753e-16            nan 7.16296377e-16\n",
      " 7.39753559e-16 6.96138108e-16 7.40433656e-16 5.21491720e-16\n",
      " 5.84638054e-16            nan 5.10322025e-16 5.64160780e-16\n",
      " 7.02370015e-16 5.95177761e-16]\n",
      "[]\n"
     ]
    },
    {
     "ename": "ValueError",
     "evalue": "zero-size array to reduction operation maximum which has no identity",
     "output_type": "error",
     "traceback": [
      "\u001b[0;31m---------------------------------------------------------------------------\u001b[0m",
      "\u001b[0;31mValueError\u001b[0m                                Traceback (most recent call last)",
      "\u001b[0;32m<ipython-input-34-8c34a3e81400>\u001b[0m in \u001b[0;36m<module>\u001b[0;34m()\u001b[0m\n\u001b[1;32m     51\u001b[0m \u001b[0;31m#flux1 = np.insert(flux1,0,flux1[0])\u001b[0m\u001b[0;34m\u001b[0m\u001b[0;34m\u001b[0m\u001b[0m\n\u001b[1;32m     52\u001b[0m \u001b[0;31m#sigma1 = np.insert(sigma1,0,sigma1[0])\u001b[0m\u001b[0;34m\u001b[0m\u001b[0;34m\u001b[0m\u001b[0m\n\u001b[0;32m---> 53\u001b[0;31m \u001b[0mtime1\u001b[0m \u001b[0;34m=\u001b[0m \u001b[0mnp\u001b[0m\u001b[0;34m.\u001b[0m\u001b[0minsert\u001b[0m\u001b[0;34m(\u001b[0m\u001b[0mtime1\u001b[0m\u001b[0;34m,\u001b[0m\u001b[0mlen\u001b[0m\u001b[0;34m(\u001b[0m\u001b[0mtime1\u001b[0m\u001b[0;34m)\u001b[0m\u001b[0;34m,\u001b[0m\u001b[0mnp\u001b[0m\u001b[0;34m.\u001b[0m\u001b[0mmax\u001b[0m\u001b[0;34m(\u001b[0m\u001b[0mtime1\u001b[0m\u001b[0;34m)\u001b[0m\u001b[0;34m+\u001b[0m\u001b[0;36m15\u001b[0m\u001b[0;34m)\u001b[0m\u001b[0;34m\u001b[0m\u001b[0m\n\u001b[0m\u001b[1;32m     54\u001b[0m \u001b[0mflux1\u001b[0m \u001b[0;34m=\u001b[0m \u001b[0mnp\u001b[0m\u001b[0;34m.\u001b[0m\u001b[0minsert\u001b[0m\u001b[0;34m(\u001b[0m\u001b[0mflux1\u001b[0m\u001b[0;34m,\u001b[0m\u001b[0mlen\u001b[0m\u001b[0;34m(\u001b[0m\u001b[0mflux1\u001b[0m\u001b[0;34m)\u001b[0m\u001b[0;34m,\u001b[0m\u001b[0mflux1\u001b[0m\u001b[0;34m[\u001b[0m\u001b[0mlen\u001b[0m\u001b[0;34m(\u001b[0m\u001b[0mflux1\u001b[0m\u001b[0;34m)\u001b[0m\u001b[0;34m-\u001b[0m\u001b[0;36m1\u001b[0m\u001b[0;34m]\u001b[0m\u001b[0;34m)\u001b[0m\u001b[0;34m\u001b[0m\u001b[0m\n\u001b[1;32m     55\u001b[0m \u001b[0msigma1\u001b[0m \u001b[0;34m=\u001b[0m \u001b[0mnp\u001b[0m\u001b[0;34m.\u001b[0m\u001b[0minsert\u001b[0m\u001b[0;34m(\u001b[0m\u001b[0msigma1\u001b[0m\u001b[0;34m,\u001b[0m\u001b[0mlen\u001b[0m\u001b[0;34m(\u001b[0m\u001b[0msigma1\u001b[0m\u001b[0;34m)\u001b[0m\u001b[0;34m,\u001b[0m\u001b[0msigma1\u001b[0m\u001b[0;34m[\u001b[0m\u001b[0mlen\u001b[0m\u001b[0;34m(\u001b[0m\u001b[0msigma1\u001b[0m\u001b[0;34m)\u001b[0m\u001b[0;34m-\u001b[0m\u001b[0;36m1\u001b[0m\u001b[0;34m]\u001b[0m\u001b[0;34m)\u001b[0m\u001b[0;34m\u001b[0m\u001b[0m\n",
      "\u001b[0;32m/home/lynge/anaconda2/lib/python2.7/site-packages/numpy/core/fromnumeric.pyc\u001b[0m in \u001b[0;36mamax\u001b[0;34m(a, axis, out, keepdims)\u001b[0m\n\u001b[1;32m   2318\u001b[0m \u001b[0;34m\u001b[0m\u001b[0m\n\u001b[1;32m   2319\u001b[0m     return _methods._amax(a, axis=axis,\n\u001b[0;32m-> 2320\u001b[0;31m                           out=out, **kwargs)\n\u001b[0m\u001b[1;32m   2321\u001b[0m \u001b[0;34m\u001b[0m\u001b[0m\n\u001b[1;32m   2322\u001b[0m \u001b[0;34m\u001b[0m\u001b[0m\n",
      "\u001b[0;32m/home/lynge/anaconda2/lib/python2.7/site-packages/numpy/core/_methods.pyc\u001b[0m in \u001b[0;36m_amax\u001b[0;34m(a, axis, out, keepdims)\u001b[0m\n\u001b[1;32m     24\u001b[0m \u001b[0;31m# small reductions\u001b[0m\u001b[0;34m\u001b[0m\u001b[0;34m\u001b[0m\u001b[0m\n\u001b[1;32m     25\u001b[0m \u001b[0;32mdef\u001b[0m \u001b[0m_amax\u001b[0m\u001b[0;34m(\u001b[0m\u001b[0ma\u001b[0m\u001b[0;34m,\u001b[0m \u001b[0maxis\u001b[0m\u001b[0;34m=\u001b[0m\u001b[0mNone\u001b[0m\u001b[0;34m,\u001b[0m \u001b[0mout\u001b[0m\u001b[0;34m=\u001b[0m\u001b[0mNone\u001b[0m\u001b[0;34m,\u001b[0m \u001b[0mkeepdims\u001b[0m\u001b[0;34m=\u001b[0m\u001b[0mFalse\u001b[0m\u001b[0;34m)\u001b[0m\u001b[0;34m:\u001b[0m\u001b[0;34m\u001b[0m\u001b[0m\n\u001b[0;32m---> 26\u001b[0;31m     \u001b[0;32mreturn\u001b[0m \u001b[0mumr_maximum\u001b[0m\u001b[0;34m(\u001b[0m\u001b[0ma\u001b[0m\u001b[0;34m,\u001b[0m \u001b[0maxis\u001b[0m\u001b[0;34m,\u001b[0m \u001b[0mNone\u001b[0m\u001b[0;34m,\u001b[0m \u001b[0mout\u001b[0m\u001b[0;34m,\u001b[0m \u001b[0mkeepdims\u001b[0m\u001b[0;34m)\u001b[0m\u001b[0;34m\u001b[0m\u001b[0m\n\u001b[0m\u001b[1;32m     27\u001b[0m \u001b[0;34m\u001b[0m\u001b[0m\n\u001b[1;32m     28\u001b[0m \u001b[0;32mdef\u001b[0m \u001b[0m_amin\u001b[0m\u001b[0;34m(\u001b[0m\u001b[0ma\u001b[0m\u001b[0;34m,\u001b[0m \u001b[0maxis\u001b[0m\u001b[0;34m=\u001b[0m\u001b[0mNone\u001b[0m\u001b[0;34m,\u001b[0m \u001b[0mout\u001b[0m\u001b[0;34m=\u001b[0m\u001b[0mNone\u001b[0m\u001b[0;34m,\u001b[0m \u001b[0mkeepdims\u001b[0m\u001b[0;34m=\u001b[0m\u001b[0mFalse\u001b[0m\u001b[0;34m)\u001b[0m\u001b[0;34m:\u001b[0m\u001b[0;34m\u001b[0m\u001b[0m\n",
      "\u001b[0;31mValueError\u001b[0m: zero-size array to reduction operation maximum which has no identity"
     ]
    }
   ],
   "source": [
    "data = np.loadtxt('NOVEMBER/NOV-NGC3783-g_short')\n",
    "#error = np.loadtxt('NOVEMBER/NGC3783_NOISE_gs.txt')\n",
    "\n",
    "print data[:,2]\n",
    "\n",
    "plt.figure()\n",
    "plt.scatter(data[:,0],data[:,1])\n",
    "plt.show()\n",
    "\n",
    "#print data[:,0]\n",
    "#print data[1,:]\n",
    "#print (error[1,:])\n",
    "#print error[:,4]\n",
    "\n",
    "\n",
    "time2 = data[:,0]\n",
    "flux2 = data[:,1]\n",
    "sigma2 = data[:,2]\n",
    "\n",
    "print time2\n",
    "print flux2\n",
    "print sigma2\n",
    "\n",
    "time1 = []\n",
    "flux1 = []\n",
    "sigma1 = []\n",
    " \n",
    "o = 0\n",
    "for i in range(len(time2)):\n",
    "    if np.isnan(sigma2[i]):\n",
    "        o = 1\n",
    "    elif np.isnan(flux2[i]):\n",
    "        #print 'yes 2'\n",
    "        o = 2\n",
    "    elif np.isnan(time2[i]):\n",
    "        #print 'yes 2'\n",
    "        o = 2\n",
    "    else:\n",
    "        #print 'HEY'\n",
    "        time1.append(time2[i])\n",
    "        flux1.append(flux2[i])\n",
    "        sigma1.append(sigma2[i])\n",
    "\n",
    "time1 = np.array(time1)\n",
    "flux1 = np.array(flux1)\n",
    "sigma1 = np.array(sigma1)\n",
    "\n",
    "print time1\n",
    "\n",
    "#time1 = np.insert(time1,0,np.min(time1)-400)\n",
    "#flux1 = np.insert(flux1,0,flux1[0])\n",
    "#sigma1 = np.insert(sigma1,0,sigma1[0])\n",
    "time1 = np.insert(time1,len(time1),np.max(time1)+15)\n",
    "flux1 = np.insert(flux1,len(flux1),flux1[len(flux1)-1])\n",
    "sigma1 = np.insert(sigma1,len(sigma1),sigma1[len(sigma1)-1])\n",
    "\n",
    "time = np.insert(time1,0,0)\n",
    "sigma = np.insert(sigma1,0,np.mean(sigma1))\n",
    "flux = np.insert(flux1,0,np.mean(flux1))\n",
    "\n",
    "#sigma1 = -2.5*np.log10((flux1 + sigma1)/FLUX_LAMBDA_VEGA_K)\n",
    "#sigma = -2.5*np.log10((flux + sigma)/FLUX_LAMBDA_VEGA_K)\n",
    "#flux1 = -2.5*np.log10(flux1/FLUX_LAMBDA_VEGA_K)\n",
    "#flux = -2.5*np.log10(flux/FLUX_LAMBDA_VEGA_K)\n",
    "\n",
    "#sigma1 = abs(sigma1 - flux1)\n",
    "#sigma = abs(sigma - flux)\n",
    "\n",
    "print flux1\n",
    "\n",
    "print time\n",
    "print sigma\n",
    "print flux"
   ]
  },
  {
   "cell_type": "code",
   "execution_count": 35,
   "metadata": {
    "collapsed": false
   },
   "outputs": [
    {
     "data": {
      "image/png": "[encoded data removed]",
      "text/plain": [
       "<matplotlib.figure.Figure at 0x7f84a526cd10>"
      ]
     },
     "metadata": {},
     "output_type": "display_data"
    }
   ],
   "source": [
    "plt.figure()\n",
    "plt.errorbar(time1,flux1,yerr=sigma1,fmt='x')\n",
    "plt.show()"
   ]
  },
  {
   "cell_type": "code",
   "execution_count": 36,
   "metadata": {
    "collapsed": false
   },
   "outputs": [
    {
     "name": "stdout",
     "output_type": "stream",
     "text": [
      "nan\n"
     ]
    },
    {
     "name": "stderr",
     "output_type": "stream",
     "text": [
      "/home/lynge/anaconda2/lib/python2.7/site-packages/ipykernel_launcher.py:2: RuntimeWarning: Mean of empty slice\n",
      "  \n"
     ]
    }
   ],
   "source": [
    "tau = 300.\n",
    "b = np.nanmean(flux1)/tau\n",
    "print b\n",
    "\n",
    "sigma_tot = 1*10**(-16)\n",
    "\n",
    "param = [b,tau,sigma_tot]"
   ]
  },
  {
   "cell_type": "code",
   "execution_count": 37,
   "metadata": {
    "collapsed": true
   },
   "outputs": [],
   "source": [
    "'''x denotes the observed fluxes, and t the observation times, \n",
    "sigma is the error variances and p is the probability function'''\n",
    "\n",
    "def a_i(t2,t1,tau):\n",
    "    tau = float(tau)\n",
    "    return np.exp(-(t2-t1)/tau)\n",
    "\n",
    "def omega_0(tau,sigma_tot):\n",
    "    return 0.5*tau*sigma_tot**2\n",
    "\n",
    "def omega_i(omega_0,a_i,omega_before,sigma_before):\n",
    "    return omega_0*(1-a_i**2) + a_i**2*omega_before*(1 - omega_before/(omega_before + sigma_before**2))\n",
    "\n",
    "def x_hat_i(a_i,x_hat_before,omega_before,sigma_before,x_star_before):\n",
    "    return a_i*x_hat_before + ((a_i*omega_before)/((omega_before + sigma_before**2)))*(x_star_before - x_hat_before)\n",
    "\n",
    "def x_star_i(x_i,b,tau):\n",
    "    return x_i - b*tau\n"
   ]
  },
  {
   "cell_type": "code",
   "execution_count": 38,
   "metadata": {
    "collapsed": true
   },
   "outputs": [],
   "source": [
    "def parameters(param):\n",
    "    x_hat = [0]\n",
    "    omega = [0.5*param[1]*param[2]**2]\n",
    "    x_star = [-param[0]*param[1]]\n",
    "    a = []\n",
    "    for i in range(len(flux1)):\n",
    "        a.append(a_i(time[i+1],time[i],param[1]))\n",
    "        x_hat.append(x_hat_i(a[i],x_hat[i],omega[i],sigma[i],x_star[i]))\n",
    "        omega.append(omega_i(omega_0(param[1],param[2]),a[i],omega[i],sigma[i]))\n",
    "        x_star.append(x_star_i(flux[i+1],param[0],param[1]))\n",
    "    x_hat[0] = np.mean(x_hat)\n",
    "    x_hat[1] = np.mean(x_hat)\n",
    "    return x_hat,omega,x_star,a\n"
   ]
  },
  {
   "cell_type": "code",
   "execution_count": 39,
   "metadata": {
    "collapsed": true
   },
   "outputs": [],
   "source": [
    "def prob(param):\n",
    "    x_hat,omega,x_star,a = parameters(param)\n",
    "    #print x_hat\n",
    "    #print x_star\n",
    "    #print omega\n",
    "    \n",
    "    probability = 1\n",
    "    for i in range(len(a)):\n",
    "        #print omega[i+1],sigma[i+1]**2 #,x_hat[i+1],x_star[i+1],a[i]\n",
    "        #print (x_hat[i+1] - x_star[i+1])\n",
    "        part = np.log(1/np.sqrt(2*np.pi*(omega[i+1] + sigma[i+1]**2)))\\\n",
    "        -(1/2.)*(((x_hat[i+1] - x_star[i+1])**2.)/(omega[i+1] + sigma[i+1]**2.))\n",
    "        #print part,sigma1[i]\n",
    "        #print ((x_hat[i+1] - x_star[i+1])**2.)/(omega[i+1] + sigma[i+1]**2.)\n",
    "        #print 1/np.sqrt(2*np.pi*(omega[i+1] + sigma[i+1]**2))\n",
    "        probability += part\n",
    "        #print part, probability\n",
    "    return -probability"
   ]
  },
  {
   "cell_type": "code",
   "execution_count": 40,
   "metadata": {
    "collapsed": true
   },
   "outputs": [],
   "source": [
    "def dX(tau,sigma,dt,b,epsilon,X):\n",
    "    dt = dt\n",
    "    sigma = sigma\n",
    "    return (-(1/tau)*X*dt + sigma*np.sqrt(dt)*epsilon + b*dt)"
   ]
  },
  {
   "cell_type": "code",
   "execution_count": null,
   "metadata": {
    "collapsed": true
   },
   "outputs": [],
   "source": []
  },
  {
   "cell_type": "markdown",
   "metadata": {},
   "source": [
    "def dX(tau,sigma,dt,b,epsilon,X):\n",
    "    res = 0\n",
    "    if X < b*tau:\n",
    "        res = -(1/tau)*X*dt + sigma*np.sqrt(dt)*epsilon + b\n",
    "    if X > b*tau:\n",
    "        res = (1/tau)*X*dt + sigma*np.sqrt(dt)*epsilon - b\n",
    "    return res"
   ]
  },
  {
   "cell_type": "code",
   "execution_count": 41,
   "metadata": {
    "collapsed": false,
    "scrolled": false
   },
   "outputs": [],
   "source": [
    "def flux_model(param):\n",
    "    res = mini(prob,param,method='Nelder-Mead',tol=1e-18)\n",
    "    tau = res.x[1] #1400. #res.x[1] #1400. #res.x[1]\n",
    "    b = res.x[0] #9.2/tau #res.x[0] #7.5*10**(-15)/tau #res.x[0]\n",
    "    sigma_tot = res.x[2] #0.01 #res.x[2] #1.3*10**(-16) #res.x[2] \n",
    "    time_model = np.arange(time1[:1],time1[-1:],5)\n",
    "    model = np.zeros((2000,len(time_model)))\n",
    "    flux_test = flux1[0]\n",
    "    for j in range(len(model[:,0])):\n",
    "        model[j,0] = flux1[0]\n",
    "        #flux_model = [flux1[0]]\n",
    "        #print j\n",
    "        for i in range(len(time_model)-1):\n",
    "            #print i, model[j,i]\n",
    "            idx_model = np.copy(time1)\n",
    "            idx_model[idx_model <= time_model[i]] = 0\n",
    "            idx_time = (np.abs(idx_model - time_model[i])).argmin()\n",
    "            dt = abs(time1[idx_time]-time_model[i])\n",
    "            epsilon = np.random.normal(0,1,1)\n",
    "            dX1 = (flux1[idx_time])#*(-1) + model[j,0]\n",
    "            change = dX(tau,sigma_tot,dt,b,epsilon,dX1) #flux1[i+1] - flux1[i]\n",
    "            #print change,flux1[i+1]\n",
    "            model[j,i+1] = change + flux1[idx_time] #model[j,i] # - flux_test)\n",
    "    model2 = []\n",
    "    time_model1 = []\n",
    "    std = []\n",
    "    for i in range(len(model[0,:])):\n",
    "        model2.append(np.mean(model[:,i]))\n",
    "        std.append(np.std(model[:,i]))\n",
    "        time_model1.append(time_model[i])\n",
    "    flux_model = np.array((time_model1,model2,std,res.x))\n",
    "    return flux_model,time_model1, model2\n",
    "\n",
    "def flux_model1(param):\n",
    "    res = mini(prob,param,method='Nelder-Mead',tol=1e-18)\n",
    "    tau = res.x[1] #1400. #res.x[1] #1400. #res.x[1]\n",
    "    b = res.x[0] #9.2/tau #res.x[0] #7.5*10**(-15)/tau #res.x[0]\n",
    "    sigma_tot = res.x[2] #0.01 #res.x[2] #1.3*10**(-16) #res.x[2] \n",
    "    time_model = np.arange(time1[:1],time1[-1:],5)\n",
    "    model = np.zeros((2000,len(time_model)))\n",
    "    flux_test = flux1[0]\n",
    "    for j in range(len(model[:,0])):\n",
    "        model[j,0] = flux1[0]\n",
    "        #flux_model = [flux1[0]]\n",
    "        #print j\n",
    "        for i in range(len(time_model)-1):\n",
    "            #print i, model[j,i]\n",
    "            idx_model = np.copy(time1)\n",
    "            idx_model[idx_model >= time_model[i]] = 0\n",
    "            idx_time = (np.abs(idx_model - time_model[i])).argmin()\n",
    "            dt = abs(time1[idx_time]-time_model[i])\n",
    "            epsilon = np.random.normal(0,1,1)\n",
    "            dX1 = (flux1[idx_time])#*(-1) + model[j,0]\n",
    "            change = dX(tau,sigma_tot,dt,b,epsilon,dX1) #flux1[i+1] - flux1[i]\n",
    "            #print change,flux1[i+1]\n",
    "            model[j,i+1] = change + flux1[idx_time] #model[j,i] # - flux_test)\n",
    "    model2 = []\n",
    "    time_model1 = []\n",
    "    std = []\n",
    "    for i in range(len(model[0,:])):\n",
    "        model2.append(np.mean(model[:,i]))\n",
    "        std.append(np.std(model[:,i]))\n",
    "        time_model1.append(time_model[i])\n",
    "    flux_model = np.array((time_model1,model2,std,res.x))\n",
    "    return flux_model,time_model1, model2\n",
    "\n",
    "#model, time_model, model2 = flux_model(param)\n"
   ]
  },
  {
   "cell_type": "code",
   "execution_count": 42,
   "metadata": {
    "collapsed": false
   },
   "outputs": [
    {
     "ename": "IndexError",
     "evalue": "list assignment index out of range",
     "output_type": "error",
     "traceback": [
      "\u001b[0;31m---------------------------------------------------------------------------\u001b[0m",
      "\u001b[0;31mIndexError\u001b[0m                                Traceback (most recent call last)",
      "\u001b[0;32m<ipython-input-42-6856c498bd94>\u001b[0m in \u001b[0;36m<module>\u001b[0;34m()\u001b[0m\n\u001b[0;32m----> 1\u001b[0;31m \u001b[0mmodel\u001b[0m\u001b[0;34m,\u001b[0m \u001b[0mtime_model\u001b[0m\u001b[0;34m,\u001b[0m \u001b[0mmodel2\u001b[0m \u001b[0;34m=\u001b[0m \u001b[0mflux_model\u001b[0m\u001b[0;34m(\u001b[0m\u001b[0mparam\u001b[0m\u001b[0;34m)\u001b[0m \u001b[0;31m#p1.join()\u001b[0m\u001b[0;34m\u001b[0m\u001b[0m\n\u001b[0m\u001b[1;32m      2\u001b[0m \u001b[0mmodel1\u001b[0m\u001b[0;34m,\u001b[0m \u001b[0mtime_model1\u001b[0m\u001b[0;34m,\u001b[0m \u001b[0mmodel12\u001b[0m \u001b[0;34m=\u001b[0m \u001b[0mflux_model1\u001b[0m\u001b[0;34m(\u001b[0m\u001b[0mparam\u001b[0m\u001b[0;34m)\u001b[0m \u001b[0;31m#p2.join()\u001b[0m\u001b[0;34m\u001b[0m\u001b[0m\n\u001b[1;32m      3\u001b[0m \u001b[0;31m#model = np.add(model,model1)/2.\u001b[0m\u001b[0;34m\u001b[0m\u001b[0;34m\u001b[0m\u001b[0m\n\u001b[1;32m      4\u001b[0m \u001b[0mtime_model\u001b[0m \u001b[0;34m=\u001b[0m \u001b[0mnp\u001b[0m\u001b[0;34m.\u001b[0m\u001b[0madd\u001b[0m\u001b[0;34m(\u001b[0m\u001b[0mtime_model\u001b[0m\u001b[0;34m,\u001b[0m\u001b[0mtime_model1\u001b[0m\u001b[0;34m)\u001b[0m\u001b[0;34m/\u001b[0m\u001b[0;36m2.\u001b[0m\u001b[0;34m\u001b[0m\u001b[0m\n\u001b[1;32m      5\u001b[0m \u001b[0mmodel21\u001b[0m \u001b[0;34m=\u001b[0m \u001b[0mnp\u001b[0m\u001b[0;34m.\u001b[0m\u001b[0madd\u001b[0m\u001b[0;34m(\u001b[0m\u001b[0mmodel2\u001b[0m\u001b[0;34m,\u001b[0m\u001b[0mmodel12\u001b[0m\u001b[0;34m)\u001b[0m\u001b[0;34m\u001b[0m\u001b[0m\n",
      "\u001b[0;32m<ipython-input-41-35dc315067f4>\u001b[0m in \u001b[0;36mflux_model\u001b[0;34m(param)\u001b[0m\n\u001b[1;32m      1\u001b[0m \u001b[0;32mdef\u001b[0m \u001b[0mflux_model\u001b[0m\u001b[0;34m(\u001b[0m\u001b[0mparam\u001b[0m\u001b[0;34m)\u001b[0m\u001b[0;34m:\u001b[0m\u001b[0;34m\u001b[0m\u001b[0m\n\u001b[0;32m----> 2\u001b[0;31m     \u001b[0mres\u001b[0m \u001b[0;34m=\u001b[0m \u001b[0mmini\u001b[0m\u001b[0;34m(\u001b[0m\u001b[0mprob\u001b[0m\u001b[0;34m,\u001b[0m\u001b[0mparam\u001b[0m\u001b[0;34m,\u001b[0m\u001b[0mmethod\u001b[0m\u001b[0;34m=\u001b[0m\u001b[0;34m'Nelder-Mead'\u001b[0m\u001b[0;34m,\u001b[0m\u001b[0mtol\u001b[0m\u001b[0;34m=\u001b[0m\u001b[0;36m1e-18\u001b[0m\u001b[0;34m)\u001b[0m\u001b[0;34m\u001b[0m\u001b[0m\n\u001b[0m\u001b[1;32m      3\u001b[0m     \u001b[0mtau\u001b[0m \u001b[0;34m=\u001b[0m \u001b[0mres\u001b[0m\u001b[0;34m.\u001b[0m\u001b[0mx\u001b[0m\u001b[0;34m[\u001b[0m\u001b[0;36m1\u001b[0m\u001b[0;34m]\u001b[0m \u001b[0;31m#1400. #res.x[1] #1400. #res.x[1]\u001b[0m\u001b[0;34m\u001b[0m\u001b[0m\n\u001b[1;32m      4\u001b[0m     \u001b[0mb\u001b[0m \u001b[0;34m=\u001b[0m \u001b[0mres\u001b[0m\u001b[0;34m.\u001b[0m\u001b[0mx\u001b[0m\u001b[0;34m[\u001b[0m\u001b[0;36m0\u001b[0m\u001b[0;34m]\u001b[0m \u001b[0;31m#9.2/tau #res.x[0] #7.5*10**(-15)/tau #res.x[0]\u001b[0m\u001b[0;34m\u001b[0m\u001b[0m\n\u001b[1;32m      5\u001b[0m     \u001b[0msigma_tot\u001b[0m \u001b[0;34m=\u001b[0m \u001b[0mres\u001b[0m\u001b[0;34m.\u001b[0m\u001b[0mx\u001b[0m\u001b[0;34m[\u001b[0m\u001b[0;36m2\u001b[0m\u001b[0;34m]\u001b[0m \u001b[0;31m#0.01 #res.x[2] #1.3*10**(-16) #res.x[2]\u001b[0m\u001b[0;34m\u001b[0m\u001b[0m\n",
      "\u001b[0;32m/home/lynge/anaconda2/lib/python2.7/site-packages/scipy/optimize/_minimize.pyc\u001b[0m in \u001b[0;36mminimize\u001b[0;34m(fun, x0, args, method, jac, hess, hessp, bounds, constraints, tol, callback, options)\u001b[0m\n\u001b[1;32m    436\u001b[0m                       callback=callback, **options)\n\u001b[1;32m    437\u001b[0m     \u001b[0;32melif\u001b[0m \u001b[0mmeth\u001b[0m \u001b[0;34m==\u001b[0m \u001b[0;34m'nelder-mead'\u001b[0m\u001b[0;34m:\u001b[0m\u001b[0;34m\u001b[0m\u001b[0m\n\u001b[0;32m--> 438\u001b[0;31m         \u001b[0;32mreturn\u001b[0m \u001b[0m_minimize_neldermead\u001b[0m\u001b[0;34m(\u001b[0m\u001b[0mfun\u001b[0m\u001b[0;34m,\u001b[0m \u001b[0mx0\u001b[0m\u001b[0;34m,\u001b[0m \u001b[0margs\u001b[0m\u001b[0;34m,\u001b[0m \u001b[0mcallback\u001b[0m\u001b[0;34m,\u001b[0m \u001b[0;34m**\u001b[0m\u001b[0moptions\u001b[0m\u001b[0;34m)\u001b[0m\u001b[0;34m\u001b[0m\u001b[0m\n\u001b[0m\u001b[1;32m    439\u001b[0m     \u001b[0;32melif\u001b[0m \u001b[0mmeth\u001b[0m \u001b[0;34m==\u001b[0m \u001b[0;34m'powell'\u001b[0m\u001b[0;34m:\u001b[0m\u001b[0;34m\u001b[0m\u001b[0m\n\u001b[1;32m    440\u001b[0m         \u001b[0;32mreturn\u001b[0m \u001b[0m_minimize_powell\u001b[0m\u001b[0;34m(\u001b[0m\u001b[0mfun\u001b[0m\u001b[0;34m,\u001b[0m \u001b[0mx0\u001b[0m\u001b[0;34m,\u001b[0m \u001b[0margs\u001b[0m\u001b[0;34m,\u001b[0m \u001b[0mcallback\u001b[0m\u001b[0;34m,\u001b[0m \u001b[0;34m**\u001b[0m\u001b[0moptions\u001b[0m\u001b[0;34m)\u001b[0m\u001b[0;34m\u001b[0m\u001b[0m\n",
      "\u001b[0;32m/home/lynge/anaconda2/lib/python2.7/site-packages/scipy/optimize/optimize.pyc\u001b[0m in \u001b[0;36m_minimize_neldermead\u001b[0;34m(func, x0, args, callback, maxiter, maxfev, disp, return_all, initial_simplex, xatol, fatol, **unknown_options)\u001b[0m\n\u001b[1;32m    515\u001b[0m \u001b[0;34m\u001b[0m\u001b[0m\n\u001b[1;32m    516\u001b[0m     \u001b[0;32mfor\u001b[0m \u001b[0mk\u001b[0m \u001b[0;32min\u001b[0m \u001b[0mrange\u001b[0m\u001b[0;34m(\u001b[0m\u001b[0mN\u001b[0m \u001b[0;34m+\u001b[0m \u001b[0;36m1\u001b[0m\u001b[0;34m)\u001b[0m\u001b[0;34m:\u001b[0m\u001b[0;34m\u001b[0m\u001b[0m\n\u001b[0;32m--> 517\u001b[0;31m         \u001b[0mfsim\u001b[0m\u001b[0;34m[\u001b[0m\u001b[0mk\u001b[0m\u001b[0;34m]\u001b[0m \u001b[0;34m=\u001b[0m \u001b[0mfunc\u001b[0m\u001b[0;34m(\u001b[0m\u001b[0msim\u001b[0m\u001b[0;34m[\u001b[0m\u001b[0mk\u001b[0m\u001b[0;34m]\u001b[0m\u001b[0;34m)\u001b[0m\u001b[0;34m\u001b[0m\u001b[0m\n\u001b[0m\u001b[1;32m    518\u001b[0m \u001b[0;34m\u001b[0m\u001b[0m\n\u001b[1;32m    519\u001b[0m     \u001b[0mind\u001b[0m \u001b[0;34m=\u001b[0m \u001b[0mnumpy\u001b[0m\u001b[0;34m.\u001b[0m\u001b[0margsort\u001b[0m\u001b[0;34m(\u001b[0m\u001b[0mfsim\u001b[0m\u001b[0;34m)\u001b[0m\u001b[0;34m\u001b[0m\u001b[0m\n",
      "\u001b[0;32m/home/lynge/anaconda2/lib/python2.7/site-packages/scipy/optimize/optimize.pyc\u001b[0m in \u001b[0;36mfunction_wrapper\u001b[0;34m(*wrapper_args)\u001b[0m\n\u001b[1;32m    290\u001b[0m     \u001b[0;32mdef\u001b[0m \u001b[0mfunction_wrapper\u001b[0m\u001b[0;34m(\u001b[0m\u001b[0;34m*\u001b[0m\u001b[0mwrapper_args\u001b[0m\u001b[0;34m)\u001b[0m\u001b[0;34m:\u001b[0m\u001b[0;34m\u001b[0m\u001b[0m\n\u001b[1;32m    291\u001b[0m         \u001b[0mncalls\u001b[0m\u001b[0;34m[\u001b[0m\u001b[0;36m0\u001b[0m\u001b[0;34m]\u001b[0m \u001b[0;34m+=\u001b[0m \u001b[0;36m1\u001b[0m\u001b[0;34m\u001b[0m\u001b[0m\n\u001b[0;32m--> 292\u001b[0;31m         \u001b[0;32mreturn\u001b[0m \u001b[0mfunction\u001b[0m\u001b[0;34m(\u001b[0m\u001b[0;34m*\u001b[0m\u001b[0;34m(\u001b[0m\u001b[0mwrapper_args\u001b[0m \u001b[0;34m+\u001b[0m \u001b[0margs\u001b[0m\u001b[0;34m)\u001b[0m\u001b[0;34m)\u001b[0m\u001b[0;34m\u001b[0m\u001b[0m\n\u001b[0m\u001b[1;32m    293\u001b[0m \u001b[0;34m\u001b[0m\u001b[0m\n\u001b[1;32m    294\u001b[0m     \u001b[0;32mreturn\u001b[0m \u001b[0mncalls\u001b[0m\u001b[0;34m,\u001b[0m \u001b[0mfunction_wrapper\u001b[0m\u001b[0;34m\u001b[0m\u001b[0m\n",
      "\u001b[0;32m<ipython-input-39-f4bc3557b568>\u001b[0m in \u001b[0;36mprob\u001b[0;34m(param)\u001b[0m\n\u001b[1;32m      1\u001b[0m \u001b[0;32mdef\u001b[0m \u001b[0mprob\u001b[0m\u001b[0;34m(\u001b[0m\u001b[0mparam\u001b[0m\u001b[0;34m)\u001b[0m\u001b[0;34m:\u001b[0m\u001b[0;34m\u001b[0m\u001b[0m\n\u001b[0;32m----> 2\u001b[0;31m     \u001b[0mx_hat\u001b[0m\u001b[0;34m,\u001b[0m\u001b[0momega\u001b[0m\u001b[0;34m,\u001b[0m\u001b[0mx_star\u001b[0m\u001b[0;34m,\u001b[0m\u001b[0ma\u001b[0m \u001b[0;34m=\u001b[0m \u001b[0mparameters\u001b[0m\u001b[0;34m(\u001b[0m\u001b[0mparam\u001b[0m\u001b[0;34m)\u001b[0m\u001b[0;34m\u001b[0m\u001b[0m\n\u001b[0m\u001b[1;32m      3\u001b[0m     \u001b[0;31m#print x_hat\u001b[0m\u001b[0;34m\u001b[0m\u001b[0;34m\u001b[0m\u001b[0m\n\u001b[1;32m      4\u001b[0m     \u001b[0;31m#print x_star\u001b[0m\u001b[0;34m\u001b[0m\u001b[0;34m\u001b[0m\u001b[0m\n\u001b[1;32m      5\u001b[0m     \u001b[0;31m#print omega\u001b[0m\u001b[0;34m\u001b[0m\u001b[0;34m\u001b[0m\u001b[0m\n",
      "\u001b[0;32m<ipython-input-38-ff3bd1cafca4>\u001b[0m in \u001b[0;36mparameters\u001b[0;34m(param)\u001b[0m\n\u001b[1;32m     10\u001b[0m         \u001b[0mx_star\u001b[0m\u001b[0;34m.\u001b[0m\u001b[0mappend\u001b[0m\u001b[0;34m(\u001b[0m\u001b[0mx_star_i\u001b[0m\u001b[0;34m(\u001b[0m\u001b[0mflux\u001b[0m\u001b[0;34m[\u001b[0m\u001b[0mi\u001b[0m\u001b[0;34m+\u001b[0m\u001b[0;36m1\u001b[0m\u001b[0;34m]\u001b[0m\u001b[0;34m,\u001b[0m\u001b[0mparam\u001b[0m\u001b[0;34m[\u001b[0m\u001b[0;36m0\u001b[0m\u001b[0;34m]\u001b[0m\u001b[0;34m,\u001b[0m\u001b[0mparam\u001b[0m\u001b[0;34m[\u001b[0m\u001b[0;36m1\u001b[0m\u001b[0;34m]\u001b[0m\u001b[0;34m)\u001b[0m\u001b[0;34m)\u001b[0m\u001b[0;34m\u001b[0m\u001b[0m\n\u001b[1;32m     11\u001b[0m     \u001b[0mx_hat\u001b[0m\u001b[0;34m[\u001b[0m\u001b[0;36m0\u001b[0m\u001b[0;34m]\u001b[0m \u001b[0;34m=\u001b[0m \u001b[0mnp\u001b[0m\u001b[0;34m.\u001b[0m\u001b[0mmean\u001b[0m\u001b[0;34m(\u001b[0m\u001b[0mx_hat\u001b[0m\u001b[0;34m)\u001b[0m\u001b[0;34m\u001b[0m\u001b[0m\n\u001b[0;32m---> 12\u001b[0;31m     \u001b[0mx_hat\u001b[0m\u001b[0;34m[\u001b[0m\u001b[0;36m1\u001b[0m\u001b[0;34m]\u001b[0m \u001b[0;34m=\u001b[0m \u001b[0mnp\u001b[0m\u001b[0;34m.\u001b[0m\u001b[0mmean\u001b[0m\u001b[0;34m(\u001b[0m\u001b[0mx_hat\u001b[0m\u001b[0;34m)\u001b[0m\u001b[0;34m\u001b[0m\u001b[0m\n\u001b[0m\u001b[1;32m     13\u001b[0m     \u001b[0;32mreturn\u001b[0m \u001b[0mx_hat\u001b[0m\u001b[0;34m,\u001b[0m\u001b[0momega\u001b[0m\u001b[0;34m,\u001b[0m\u001b[0mx_star\u001b[0m\u001b[0;34m,\u001b[0m\u001b[0ma\u001b[0m\u001b[0;34m\u001b[0m\u001b[0m\n",
      "\u001b[0;31mIndexError\u001b[0m: list assignment index out of range"
     ]
    }
   ],
   "source": [
    "model, time_model, model2 = flux_model(param) #p1.join()\n",
    "model1, time_model1, model12 = flux_model1(param) #p2.join()\n",
    "#model = np.add(model,model1)/2.\n",
    "time_model = np.add(time_model,time_model1)/2.\n",
    "model21 = np.add(model2,model12)"
   ]
  },
  {
   "cell_type": "code",
   "execution_count": null,
   "metadata": {
    "collapsed": false,
    "scrolled": false
   },
   "outputs": [],
   "source": [
    "plt.figure(figsize=(15,10))\n",
    "plt.errorbar(time1,flux1,yerr=sigma1,fmt='o',label='Observed K-band LC')\n",
    "plt.plot(time_model,model2,linestyle='-',color='r',label='Kelly LC')\n",
    "plt.plot(time_model,model12,linestyle='-',color='g',label='Kelly LC')\n",
    "plt.plot(time_model,fft(ifft(model21/2.)).real,linestyle='-',color='b',label='Kelly LC - Combined')\n",
    "plt.xlabel('Days',fontsize=20)\n",
    "plt.ylabel('Flux',fontsize=20)\n",
    "plt.legend()\n",
    "#plt.errorbar(time_model,model2,yerr=std,fmt='.',color='r')\n",
    "#plt.ylim([4e-15,1.2e-14])\n",
    "plt.show()\n",
    "'''\n",
    "plt.figure(figsize=(15,10))\n",
    "plt.errorbar(time1,flux1,yerr=sigma1,fmt='x')\n",
    "for i in range(len(model[:,0])):\n",
    "    plt.plot(time1,model[i,:],linestyle='-')\n",
    "#plt.ylim([4e-15,1.2e-14])\n",
    "plt.show()\n",
    "\n",
    "plt.figure(figsize=(15,10))\n",
    "plt.errorbar(time1,flux1,yerr=sigma1,fmt='x')\n",
    "#plt.ylim([4e-15,1.2e-14])\n",
    "plt.show()\n",
    "'''\n",
    "\n",
    "plt.figure(figsize=(15,10))\n",
    "plt.errorbar(time1,flux1,yerr=sigma1,fmt='o',label='Observed K-band LC')\n",
    "plt.fill_between(time_model,model2,model12,alpha=0.3,color='orange')\n",
    "plt.plot(time_model,model2,linestyle='-',color='r',linewidth=2.0,label='Kelly LC - Read from Left')\n",
    "plt.plot(time_model,model12,linestyle='-',color='c',linewidth=2.0,label='Kelly LC - Read from Right')\n",
    "plt.plot(time_model,fft(ifft(model21/2.)).real,linestyle='-',color='b',label='Kelly LC - Combined')\n",
    "plt.xlabel('Days',fontsize=20)\n",
    "plt.ylabel('Flux',fontsize=20)\n",
    "plt.legend()\n",
    "#plt.errorbar(time_model,model2,yerr=std,fmt='.',color='r')\n",
    "#plt.ylim([4e-15,1.2e-14])\n",
    "plt.show()"
   ]
  },
  {
   "cell_type": "code",
   "execution_count": null,
   "metadata": {
    "collapsed": false
   },
   "outputs": [],
   "source": [
    "continuum = np.zeros((len(model21),3))\n",
    "continuum[:,0] = time_model\n",
    "continuum[:,1] = model21\n",
    "continuum[:,2] = np.nanmean(sigma2)\n",
    "\n",
    "cont_mean = np.nanmean(continuum[:,1])\n",
    "print np.shape(model21)"
   ]
  },
  {
   "cell_type": "code",
   "execution_count": 43,
   "metadata": {
    "collapsed": true
   },
   "outputs": [],
   "source": [
    "def powerlaw_psd_gaussian(exponent, samples, mean, fmin=0):\n",
    "    \"\"\"Gaussian (1/f)**beta noise.\n",
    "    \"\"\"\n",
    "\n",
    "    # frequencies (we asume a sample rate of one)\n",
    "    f = fftfreq(samples)\n",
    "\n",
    "    # scaling factor for all frequencies\n",
    "    ## though the fft for real signals is symmetric,\n",
    "    ## the array with the results is not - take neg. half!\n",
    "    s_scale = abs(concatenate([f[f<0], [f[-1]]]))\n",
    "    ## low frequency cutoff?!?\n",
    "    if fmin:\n",
    "        ix = sum(s_scale>fmin)\n",
    "        if ix < len(f):\n",
    "            s_scale[ix:] = s_scale[ix]\n",
    "    s_scale = s_scale**(-exponent/2.)\n",
    "\n",
    "    # scale random power + phase\n",
    "    sr = s_scale * normal(size=len(s_scale))\n",
    "    si = s_scale * normal(size=len(s_scale))\n",
    "    if not (samples % 2): si[0] = si[0].real\n",
    "\n",
    "    s = sr + 1J * si\n",
    "    # this is complicated... because for odd sample numbers,ss\n",
    "    ## there is one less positive freq than for even sample numbers\n",
    "    s = concatenate([s[1-(samples % 2):][::-1], s[:-1].conj()])\n",
    "\n",
    "    # time series\n",
    "    y = ifft(s).real\n",
    "    y = y / (4*std(y))\n",
    "    #y = y*10**(-14.5)\n",
    "    #y = y*10**np.random.normal(-14.5,1.5,1)[0]\n",
    "    \n",
    "    \n",
    "    #y = y / std(y)\n",
    "    \n",
    "    \n",
    "    \n",
    "    y*= 10**(-13.) #np.random.normal(-14.2,1.5,1)[0]\n",
    "    y += abs(min(y))\n",
    "\n",
    "    #y = rfft(y)\n",
    "    #y = irfft(y)\n",
    "\n",
    "    #y1 = y / std(y)\n",
    "    #print y1\n",
    "\n",
    "    #y1 = y1\n",
    "\n",
    "    #y2 = ifft(y1)\n",
    "\n",
    "    ret = y\n",
    "\n",
    "    #print 'HEY', ret\n",
    "    #print 'HEY HO'\n",
    "\n",
    "    return ret"
   ]
  },
  {
   "cell_type": "code",
   "execution_count": 44,
   "metadata": {
    "collapsed": false
   },
   "outputs": [
    {
     "name": "stdout",
     "output_type": "stream",
     "text": [
      "-2.171812264163186\n"
     ]
    },
    {
     "data": {
      "image/png": "[encoded data removed]",
      "text/plain": [
       "<matplotlib.figure.Figure at 0x7f84a52ebe10>"
      ]
     },
     "metadata": {},
     "output_type": "display_data"
    }
   ],
   "source": [
    "cont_days = continuum[:,0]\n",
    "freq = []\n",
    "\n",
    "for i in range(int(len(cont_days)/2.)):\n",
    "    '''The frequency determination for the PSD'''\n",
    "    freq.append((i+1)/(60.*60.*24*float(cont_days[len(cont_days)-1] - cont_days[0])))\n",
    "\n",
    "def PSD(freq,cont):\n",
    "    '''Code designed to determine the Power Spectral Density Slope'''\n",
    "    cont1 = cont[:,1] - np.nanmean(cont[:,1]) #Removing zero frequency\n",
    "\n",
    "    cont_zero_freq = transpose(np.array([cont1,]*len(freq)))\n",
    "    days_cont = transpose(np.array([cont[:,0],]*len(freq)))\n",
    "    freq_array = np.array([freq,]*len(cont[:,0]))\n",
    "\n",
    "    F_N_v = np.sum(cont_zero_freq*np.cos(2*np.pi*freq_array*60.*60.*24*days_cont),axis=0)**2 \\\n",
    "    + np.sum(cont_zero_freq*np.sin(2*np.pi*freq_array*60.*60.*24*days_cont),axis=0)**2\n",
    "\n",
    "    #print len(cont[:,0]), F_N_v\n",
    "    P_v = 2*60.*60.*24*float(cont[:,0][len(cont[:,0])-1] - cont[0,0]) \\\n",
    "    /(np.nanmean(cont[:,1])**2*len(cont[:,0])**2)*F_N_v #Finding PSD\n",
    "\n",
    "    slope = np.polyfit(np.log10(freq),np.log10(P_v),1)[0] #Finding PSD slope\n",
    "\n",
    "    return slope#, P_v\n",
    "\n",
    "cont = np.copy(continuum)\n",
    "cont[:,1] = powerlaw_psd_gaussian(3.8, len(continuum[:,1]), cont_mean, fmin=0)\n",
    "print PSD(freq,cont)\n",
    "\n",
    "plt.figure(figsize=(10,10))\n",
    "plt.plot(cont[:,0],cont[:,1])\n",
    "plt.xlabel('Days',fontsize=20)\n",
    "plt.ylabel('Flux',fontsize=20)\n",
    "plt.legend()\n",
    "#plt.errorbar(time_model,model2,yerr=std,fmt='.',color='r')\n",
    "#plt.ylim([4e-15,1.2e-14])\n",
    "plt.show()"
   ]
  },
  {
   "cell_type": "code",
   "execution_count": 45,
   "metadata": {
    "collapsed": false
   },
   "outputs": [
    {
     "name": "stdout",
     "output_type": "stream",
     "text": [
      "1.861285047841057e-25\n"
     ]
    },
    {
     "data": {
      "image/png": "[encoded data removed]",
      "text/plain": [
       "<matplotlib.figure.Figure at 0x7f84a6f16710>"
      ]
     },
     "metadata": {},
     "output_type": "display_data"
    }
   ],
   "source": [
    "cont_try = powerlaw_psd_gaussian(np.random.normal(2.8,0.25,1)[0], len(continuum[:,1]), cont_mean, fmin=0)\n",
    "cont_fit = sum((continuum[82:,1] - cont_try[82:])**2)\n",
    "print cont_fit\n",
    "for i in range(1000):\n",
    "    cont_try2 = powerlaw_psd_gaussian(np.random.normal(2.8,0.25,1)[0], len(continuum[:,1]), cont_mean, fmin=0)\n",
    "    cont_fit2 = sum((continuum[82:,1] - cont_try[82:])**2)\n",
    "    if cont_fit2 < cont_fit:\n",
    "        cont_try = np.copy(cont_try2)\n",
    "        cont_fit = cont_fit2\n",
    "plt.figure(figsize=(10,10))\n",
    "plt.plot(continuum[:,0],continuum[:,1])\n",
    "plt.plot(continuum[:,0],cont_try[:])\n",
    "plt.xlabel('Days',fontsize=20)\n",
    "plt.ylabel('Flux',fontsize=20)\n",
    "plt.legend()\n",
    "#plt.errorbar(time_model,model2,yerr=std,fmt='.',color='r')\n",
    "#plt.ylim([4e-15,1.2e-14])\n",
    "plt.show()\n"
   ]
  },
  {
   "cell_type": "code",
   "execution_count": 31,
   "metadata": {
    "collapsed": false
   },
   "outputs": [
    {
     "data": {
      "image/png": "[encoded data removed]",
      "text/plain": [
       "<matplotlib.figure.Figure at 0x7f84a70f13d0>"
      ]
     },
     "metadata": {},
     "output_type": "display_data"
    }
   ],
   "source": [
    "plt.figure(figsize=(10,10))\n",
    "plt.plot(continuum[82:,0],continuum[82:,1])\n",
    "plt.plot(continuum[82:,0],cont_try[82:])\n",
    "plt.xlabel('Days',fontsize=20)\n",
    "plt.ylabel('Flux',fontsize=20)\n",
    "plt.legend()\n",
    "#plt.errorbar(time_model,model2,yerr=std,fmt='.',color='r')\n",
    "#plt.ylim([4e-15,1.2e-14])\n",
    "plt.show()"
   ]
  },
  {
   "cell_type": "code",
   "execution_count": 32,
   "metadata": {
    "collapsed": false
   },
   "outputs": [
    {
     "name": "stdout",
     "output_type": "stream",
     "text": [
      "[1.02763027e-14 1.03455772e-14 1.03499201e-14 1.04445293e-14\n",
      " 1.04431153e-14 1.04390268e-14 1.03422773e-14 1.03429340e-14\n",
      " 1.02532465e-14 1.02800014e-14 1.02724540e-14 1.00787494e-14\n",
      " 1.00668547e-14 1.02589664e-14 9.90338365e-15 9.91833651e-15\n",
      " 1.05313014e-14 1.05656395e-14 1.05623012e-14 1.05530548e-14\n",
      " 1.05777075e-14 1.05647522e-14 1.05744368e-14 1.05567648e-14\n",
      " 1.05518750e-14 1.05708615e-14 1.05893422e-14 1.05538208e-14\n",
      " 1.05592235e-14 1.05741869e-14 1.05689135e-14 1.05701692e-14\n",
      " 1.05743822e-14 1.06100718e-14 1.05839399e-14 1.05860234e-14\n",
      " 1.05789211e-14 1.05175956e-14 1.05161633e-14 1.11302059e-14\n",
      " 1.11400713e-14 1.11421092e-14 1.15415130e-14 1.23047926e-14\n",
      " 1.23705624e-14 1.23776538e-14 1.24035229e-14 1.23953528e-14\n",
      " 1.23944877e-14 1.24163932e-14 1.28506319e-14 1.30282469e-14\n",
      " 1.30352991e-14 1.30146846e-14 1.30322133e-14 1.30393682e-14\n",
      " 1.30525505e-14 1.33519985e-14 1.33550537e-14 1.33572115e-14\n",
      " 1.44495696e-14 1.44877434e-14 1.44713165e-14 1.44951223e-14\n",
      " 1.45108203e-14 1.45114467e-14 1.45324032e-14 1.45170195e-14\n",
      " 1.45182089e-14 1.45244096e-14 1.45258112e-14 1.45328235e-14\n",
      " 1.48495256e-14 1.54005605e-14 1.53996816e-14 1.54117851e-14\n",
      " 1.54181686e-14 1.60932784e-14 1.64608251e-14 1.68717877e-14\n",
      " 1.65583514e-14 1.62774578e-14 1.66585937e-14 1.54943469e-14\n",
      " 1.61936480e-14 1.61885795e-14 1.61578546e-14 1.61682131e-14\n",
      " 1.61267159e-14 1.61349612e-14 1.61239085e-14 1.60805764e-14\n",
      " 1.61096021e-14 1.60869513e-14 1.60750515e-14 1.60749431e-14\n",
      " 1.60876125e-14 1.60287707e-14 1.60310831e-14 1.60198229e-14\n",
      " 1.60172329e-14 1.60047106e-14 1.59863504e-14 1.59316123e-14\n",
      " 1.59659075e-14 1.59568012e-14 1.59242358e-14 1.59268789e-14\n",
      " 1.52131563e-14 1.46747734e-14 1.46533063e-14 1.46483689e-14\n",
      " 1.46354119e-14 1.46370289e-14 1.42169918e-14 1.42279062e-14\n",
      " 1.48915493e-14 1.49025138e-14 1.49058742e-14 1.49935212e-14\n",
      " 1.47348817e-14 1.47303898e-14 1.47483076e-14 1.47320318e-14\n",
      " 1.47401767e-14 1.46713075e-14 1.46799621e-14 1.46792530e-14\n",
      " 1.46618860e-14 1.43214154e-14 1.43252954e-14 1.42998717e-14\n",
      " 1.43208261e-14 1.43210908e-14 1.43046536e-14 1.38862398e-14\n",
      " 1.38819475e-14 1.38751361e-14 1.37860744e-14 1.38021072e-14\n",
      " 1.37923090e-14 1.38171001e-14 1.38210814e-14 1.35675303e-14\n",
      " 1.35655234e-14 1.35674763e-14 1.33500341e-14 1.32560238e-14\n",
      " 1.31510221e-14 1.31855967e-14 1.31551745e-14 1.31675271e-14\n",
      " 1.31490587e-14 1.31666996e-14 1.31720531e-14 1.31582000e-14\n",
      " 1.31553459e-14 1.31702941e-14 1.28796513e-14 1.28927232e-14]\n"
     ]
    }
   ],
   "source": [
    "print fft(ifft(continuum[:,1])).real\n",
    "#continuum[:,1] = cont_try"
   ]
  },
  {
   "cell_type": "code",
   "execution_count": 33,
   "metadata": {
    "collapsed": true
   },
   "outputs": [],
   "source": [
    "np.savetxt('NOVEMBER/NGC3783_CONT_TRY',continuum)"
   ]
  },
  {
   "cell_type": "markdown",
   "metadata": {},
   "source": [
    "'''\n",
    "def flux_model1(param):\n",
    "    res = mini(prob,param,method='Nelder-Mead',tol=1e-18)\n",
    "    tau = res.x[1] #1400. #res.x[1] #1400. #res.x[1]\n",
    "    b = res.x[0] #9.2/tau #res.x[0] #7.5*10**(-15)/tau #res.x[0]\n",
    "    sigma_tot = res.x[2] #0.01 #res.x[2] #1.3*10**(-16) #res.x[2] \n",
    "    flux_test = flux1[0]\n",
    "    timef = time1[::-1]\n",
    "    fluxf = flux1[::-1]\n",
    "    model = np.zeros((500,abs(int(timef[-1:])-int(timef[:1]))))\n",
    "    dx_day = np.zeros((500,abs(int(timef[-1:])-int(timef[:1]))))\n",
    "    time_model = np.arange(timef[-1:],timef[:1],1)\n",
    "    #print timef, time1\n",
    "    for j in range(len(model[:,0])):\n",
    "        model[j,0] = fluxf[0]\n",
    "        for i in range(len(model[:,0])-1):\n",
    "            idx_model = np.copy(timef)\n",
    "            idx_model[idx_model >= time_model[i]] = 0\n",
    "            idx_time = (np.abs(idx_model - time_model[i])).argmin()\n",
    "            dt = abs(timef[idx_time]-time_model[i])\n",
    "            epsilon = np.random.normal(0,1,1)\n",
    "            dX1 = (fluxf[idx_time])#*(-1) + model[j,0]\n",
    "            change = dX(tau,sigma_tot,dt,b,epsilon,dX1) #flux1[i+1] - flux1[i]\n",
    "            model[j,i+1] = change + fluxf[idx_time] #model[j,i] # - flux_test)\n",
    "            dx_day[j,i+1] = change/dt\n",
    "            #print 2\n",
    "    model2 = []\n",
    "    time_model1 = []\n",
    "    std = []\n",
    "    dx_days = []\n",
    "    for i in range(len(model[0,:])):\n",
    "        model2.append(np.mean(model[:,i]))\n",
    "        std.append(np.std(model[:,i]))\n",
    "        time_model1.append(time_model[i])\n",
    "        dx_days.append(np.mean(dx_day[:,i]))\n",
    "        #print 2\n",
    "    flux_model = np.array((time_model1,model2,std,res.x))\n",
    "    return flux_model,time_model1, model2, dx_days\n",
    "'''"
   ]
  },
  {
   "cell_type": "code",
   "execution_count": 93,
   "metadata": {
    "collapsed": false
   },
   "outputs": [],
   "source": [
    "x = np.zeros((4,8))\n",
    "x = np.insert(x,0,[1,2,3,4],axis=1)"
   ]
  },
  {
   "cell_type": "code",
   "execution_count": 94,
   "metadata": {
    "collapsed": false
   },
   "outputs": [
    {
     "name": "stdout",
     "output_type": "stream",
     "text": [
      "[[1. 0. 0. 0. 0. 0. 0. 0. 0.]\n",
      " [2. 0. 0. 0. 0. 0. 0. 0. 0.]\n",
      " [3. 0. 0. 0. 0. 0. 0. 0. 0.]\n",
      " [4. 0. 0. 0. 0. 0. 0. 0. 0.]]\n"
     ]
    }
   ],
   "source": [
    "print x"
   ]
  },
  {
   "cell_type": "code",
   "execution_count": null,
   "metadata": {
    "collapsed": true
   },
   "outputs": [],
   "source": []
  },
  {
   "cell_type": "code",
   "execution_count": null,
   "metadata": {
    "collapsed": true
   },
   "outputs": [],
   "source": []
  }
 ],
 "metadata": {
  "kernelspec": {
   "display_name": "Python 2",
   "language": "python",
   "name": "python2"
  },
  "language_info": {
   "codemirror_mode": {
    "name": "ipython",
    "version": 2
   },
   "file_extension": ".py",
   "mimetype": "text/x-python",
   "name": "python",
   "nbconvert_exporter": "python",
   "pygments_lexer": "ipython2",
   "version": "2.7.13"
  }
 },
 "nbformat": 4,
 "nbformat_minor": 2
}
