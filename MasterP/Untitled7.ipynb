{
 "cells": [
  {
   "cell_type": "code",
   "execution_count": 3,
   "metadata": {
    "collapsed": true
   },
   "outputs": [],
   "source": [
    "import numpy as np\n",
    "import matplotlib.pyplot as plt"
   ]
  },
  {
   "cell_type": "code",
   "execution_count": 4,
   "metadata": {
    "collapsed": true
   },
   "outputs": [],
   "source": [
    "def create_lognorm(x,mu,sigma):\n",
    "    '''Defines the transfer function'''\n",
    "    delay_days = x\n",
    "    sigma_array = np.zeros((len(delay_days)))\n",
    "    sigma_array.fill(float(sigma))\n",
    "\n",
    "    mu_array = np.zeros((len(delay_days)))\n",
    "    mu_array.fill(float(mu))\n",
    "    #print (2*sigma_array**2)\n",
    "    exp_term = np.zeros((np.shape(delay_days)))\n",
    "    exp_term = -((np.log(x)-mu_array)**2/(2*sigma_array**2))\n",
    "    front = 1/(x*sigma_array*np.sqrt(2*np.pi))\n",
    "    #print front*np.exp(exp_term)\n",
    "    #print np.shape(front*np.exp(exp_term))\n",
    "    #print front\n",
    "    result = front*np.exp(exp_term)\n",
    "    #print np.sum(result)\n",
    "    return result #/max(result)"
   ]
  },
  {
   "cell_type": "code",
   "execution_count": 5,
   "metadata": {
    "collapsed": false
   },
   "outputs": [],
   "source": [
    "x = np.arange(1,1000,1)\n",
    "#print x"
   ]
  },
  {
   "cell_type": "code",
   "execution_count": 11,
   "metadata": {
    "collapsed": false,
    "scrolled": true
   },
   "outputs": [
    {
     "name": "stdout",
     "output_type": "stream",
     "text": [
      "1.0000109825993873\n",
      "[-17.52863681 -12.28495458 -15.98881005 -14.28642361 -14.04919876\n",
      " -15.30518536 -15.68723235 -13.96423758 -12.13359123 -13.64539596\n",
      " -13.79172665 -14.30868018 -13.22290802 -14.2756654  -14.0139138\n",
      " -14.24156761 -12.59505896 -14.53693568 -11.62797323 -14.34798522\n",
      " -15.90237197 -14.97751818 -13.92279064 -11.41942755 -12.66675671\n",
      " -16.08416764 -12.80620579 -13.44345178 -14.17975226 -13.02349083\n",
      " -12.19481236 -15.26830334 -13.36948708 -11.88425813 -14.9748526\n",
      " -13.20444664 -13.84201817 -14.89474565 -12.7793084  -11.69019481\n",
      " -12.57860648 -13.39813026 -15.19589546 -14.68660648 -12.74594811\n",
      " -13.58037494 -15.44950331 -14.18996196 -15.24152006  -9.29093941\n",
      " -14.99376723 -12.32260029 -17.73282785 -12.15108221 -13.28777584\n",
      " -15.55939502 -13.59393525 -11.92933846 -11.72848037 -11.70529462\n",
      " -13.40113085 -15.60460636 -12.32153728 -11.89602191 -12.11721795\n",
      " -14.45450272 -14.40606644 -14.81137984 -14.3560915  -13.03721777\n",
      " -14.60095994 -14.34726332 -15.64844958 -15.84179238 -14.06636012\n",
      " -15.40716009 -12.21263304 -13.2756676  -16.72868628 -12.55345273\n",
      " -11.70328539 -12.53303946 -14.64225807 -13.21839923 -14.23202917\n",
      " -13.76182044 -13.44534472 -12.49348329 -13.65111411 -14.88453436\n",
      " -15.06551349 -12.39065107 -12.44524904 -12.58639111 -13.31429658\n",
      " -13.99061916 -13.19219334 -14.41247587 -12.4396305  -14.52891507]\n"
     ]
    }
   ],
   "source": [
    "func = create_lognorm(x,2.,.5)\n",
    "print np.sum(func)\n",
    "func2 = np.random.normal(-13.7,1.5,100)\n",
    "print func2"
   ]
  },
  {
   "cell_type": "code",
   "execution_count": 12,
   "metadata": {
    "collapsed": false
   },
   "outputs": [
    {
     "data": {
      "image/png": "[encoded data removed]",
      "text/plain": [
       "<matplotlib.figure.Figure at 0x7f2e7152dc50>"
      ]
     },
     "metadata": {},
     "output_type": "display_data"
    },
    {
     "data": {
      "image/png": "[encoded data removed]",
      "text/plain": [
       "<matplotlib.figure.Figure at 0x7f2e71590390>"
      ]
     },
     "metadata": {},
     "output_type": "display_data"
    }
   ],
   "source": [
    "plt.figure()\n",
    "#plt.plot(x,func)\n",
    "plt.hist(func2)\n",
    "#plt.xlim([0,100])\n",
    "plt.show()\n",
    "\n",
    "plt.figure(figsize=(10,10))\n",
    "plt.scatter(x,func,s=3)\n",
    "#plt.hist(func2)\n",
    "#plt.xlim([0,100])\n",
    "plt.show()"
   ]
  },
  {
   "cell_type": "code",
   "execution_count": 13,
   "metadata": {
    "collapsed": false
   },
   "outputs": [
    {
     "ename": "SyntaxError",
     "evalue": "invalid syntax (<ipython-input-13-57320af38d14>, line 2)",
     "output_type": "error",
     "traceback": [
      "\u001b[0;36m  File \u001b[0;32m\"<ipython-input-13-57320af38d14>\"\u001b[0;36m, line \u001b[0;32m2\u001b[0m\n\u001b[0;31m    h abs(+= -5)\u001b[0m\n\u001b[0m        ^\u001b[0m\n\u001b[0;31mSyntaxError\u001b[0m\u001b[0;31m:\u001b[0m invalid syntax\n"
     ]
    }
   ],
   "source": [
    "h = 3\n",
    "h abs(+= -5)\n",
    "print h"
   ]
  },
  {
   "cell_type": "code",
   "execution_count": 81,
   "metadata": {
    "collapsed": false
   },
   "outputs": [
    {
     "data": {
      "image/png": "[encoded data removed]",
      "text/plain": [
       "<matplotlib.figure.Figure at 0x7f7c4845ff50>"
      ]
     },
     "metadata": {},
     "output_type": "display_data"
    }
   ],
   "source": [
    "plt.figure()\n",
    "plt.scatter(['K','H','J'],[1,2,3])\n",
    "plt.show()"
   ]
  },
  {
   "cell_type": "code",
   "execution_count": null,
   "metadata": {
    "collapsed": true
   },
   "outputs": [],
   "source": []
  }
 ],
 "metadata": {
  "kernelspec": {
   "display_name": "Python 2",
   "language": "python",
   "name": "python2"
  },
  "language_info": {
   "codemirror_mode": {
    "name": "ipython",
    "version": 2
   },
   "file_extension": ".py",
   "mimetype": "text/x-python",
   "name": "python",
   "nbconvert_exporter": "python",
   "pygments_lexer": "ipython2",
   "version": "2.7.13"
  }
 },
 "nbformat": 4,
 "nbformat_minor": 2
}
