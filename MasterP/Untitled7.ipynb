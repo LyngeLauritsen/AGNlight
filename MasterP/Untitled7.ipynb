{
 "cells": [
  {
   "cell_type": "code",
   "execution_count": 3,
   "metadata": {
    "collapsed": true
   },
   "outputs": [],
   "source": [
    "import numpy as np\n",
    "import matplotlib.pyplot as plt"
   ]
  },
  {
   "cell_type": "code",
   "execution_count": 4,
   "metadata": {
    "collapsed": true
   },
   "outputs": [],
   "source": [
    "def create_lognorm(x,mu,sigma):\n",
    "    '''Defines the transfer function'''\n",
    "    delay_days = x\n",
    "    sigma_array = np.zeros((len(delay_days)))\n",
    "    sigma_array.fill(float(sigma))\n",
    "\n",
    "    mu_array = np.zeros((len(delay_days)))\n",
    "    mu_array.fill(float(mu))\n",
    "    #print (2*sigma_array**2)\n",
    "    exp_term = np.zeros((np.shape(delay_days)))\n",
    "    exp_term = -((np.log(x)-mu_array)**2/(2*sigma_array**2))\n",
    "    front = 1/(x*sigma_array*np.sqrt(2*np.pi))\n",
    "    #print front*np.exp(exp_term)\n",
    "    #print np.shape(front*np.exp(exp_term))\n",
    "    #print front\n",
    "    result = front*np.exp(exp_term)\n",
    "    #print np.sum(result)\n",
    "    return result #/max(result)"
   ]
  },
  {
   "cell_type": "code",
   "execution_count": 5,
   "metadata": {
    "collapsed": false
   },
   "outputs": [],
   "source": [
    "x = np.arange(1,1000,1)\n",
    "#print x"
   ]
  },
  {
   "cell_type": "code",
   "execution_count": 21,
   "metadata": {
    "collapsed": false,
    "scrolled": true
   },
   "outputs": [
    {
     "name": "stdout",
     "output_type": "stream",
     "text": [
      "1.0000000012727235\n",
      "[-14.53669768 -14.7068581  -14.19996909 -14.6033722  -14.23716414\n",
      " -14.97207094 -13.57984026 -15.22959497 -11.19564892 -13.48106113\n",
      " -12.19693901 -13.43811755 -16.24480154 -14.45811183 -15.18856645\n",
      " -14.01234136 -13.10843429 -15.6256763  -12.52085921 -15.54460395\n",
      " -14.41528726 -12.50828845 -11.78130857 -10.13226842 -13.98977024\n",
      " -12.78161426 -13.33426646 -12.24301389 -13.53924061 -12.99278135\n",
      " -14.00977074 -14.36861102 -17.1477485  -13.1885625  -15.22007765\n",
      " -13.11667823 -15.64264212 -10.39787637 -17.09550689 -14.52354556\n",
      " -13.69084198 -12.51938367 -14.95805055 -14.38524635 -16.4546446\n",
      " -15.66462361 -14.80422934 -14.33503852 -14.92842701 -14.12026717\n",
      " -11.70488069 -13.10268827 -12.91248841 -16.52126598 -15.98876978\n",
      " -13.30569436 -13.62196296 -13.07757279 -13.10447978 -10.60357372\n",
      " -14.42339916 -15.55035089 -13.31750199 -14.51170808 -14.39315244\n",
      "  -9.58003224 -12.37802069 -14.00855354 -13.35763492 -13.2396467\n",
      " -14.08907737 -15.56448488 -13.48530629 -12.88891839 -15.6115693\n",
      " -12.07794712 -15.52451317 -15.85931302 -14.43565523 -15.40995661\n",
      " -14.60971365 -15.49843193 -15.37159149 -12.68261793 -12.33215065\n",
      " -12.82404639 -12.82832582 -16.69544471 -15.19026637 -12.50828964\n",
      " -14.78192971 -14.23406151 -15.02532577 -13.9641656  -14.86512278\n",
      " -12.13193654 -13.14594536 -14.32874213 -12.07047031 -15.25188969]\n"
     ]
    }
   ],
   "source": [
    "func = create_lognorm(x,2.37,.14)\n",
    "print np.sum(func)\n",
    "func2 = np.random.normal(-13.7,1.5,100)\n",
    "print func2"
   ]
  },
  {
   "cell_type": "code",
   "execution_count": 22,
   "metadata": {
    "collapsed": false
   },
   "outputs": [
    {
     "data": {
      "image/png": "[encoded data removed]",
      "text/plain": [
       "<matplotlib.figure.Figure at 0x7fe08a0dfcd0>"
      ]
     },
     "metadata": {},
     "output_type": "display_data"
    },
    {
     "data": {
      "image/png": "[encoded data removed]",
      "text/plain": [
       "<matplotlib.figure.Figure at 0x7fe08a063810>"
      ]
     },
     "metadata": {},
     "output_type": "display_data"
    }
   ],
   "source": [
    "plt.figure()\n",
    "#plt.plot(x,func)\n",
    "plt.hist(func2)\n",
    "#plt.xlim([0,100])\n",
    "plt.show()\n",
    "\n",
    "plt.figure(figsize=(10,10))\n",
    "plt.scatter(x,func,s=3)\n",
    "#plt.hist(func2)\n",
    "plt.xlim([0,80])\n",
    "plt.show()"
   ]
  },
  {
   "cell_type": "code",
   "execution_count": 14,
   "metadata": {
    "collapsed": false
   },
   "outputs": [
    {
     "ename": "SyntaxError",
     "evalue": "invalid syntax (<ipython-input-14-57320af38d14>, line 2)",
     "output_type": "error",
     "traceback": [
      "\u001b[0;36m  File \u001b[0;32m\"<ipython-input-14-57320af38d14>\"\u001b[0;36m, line \u001b[0;32m2\u001b[0m\n\u001b[0;31m    h abs(+= -5)\u001b[0m\n\u001b[0m        ^\u001b[0m\n\u001b[0;31mSyntaxError\u001b[0m\u001b[0;31m:\u001b[0m invalid syntax\n"
     ]
    }
   ],
   "source": [
    "h = 3\n",
    "h abs(+= -5)\n",
    "print h"
   ]
  },
  {
   "cell_type": "code",
   "execution_count": 81,
   "metadata": {
    "collapsed": false
   },
   "outputs": [
    {
     "data": {
      "image/png": "[encoded data removed]",
      "text/plain": [
       "<matplotlib.figure.Figure at 0x7f7c4845ff50>"
      ]
     },
     "metadata": {},
     "output_type": "display_data"
    }
   ],
   "source": [
    "plt.figure()\n",
    "plt.scatter(['K','H','J'],[1,2,3])\n",
    "plt.show()"
   ]
  },
  {
   "cell_type": "code",
   "execution_count": null,
   "metadata": {
    "collapsed": true
   },
   "outputs": [],
   "source": []
  }
 ],
 "metadata": {
  "kernelspec": {
   "display_name": "Python 2",
   "language": "python",
   "name": "python2"
  },
  "language_info": {
   "codemirror_mode": {
    "name": "ipython",
    "version": 2
   },
   "file_extension": ".py",
   "mimetype": "text/x-python",
   "name": "python",
   "nbconvert_exporter": "python",
   "pygments_lexer": "ipython2",
   "version": "2.7.13"
  }
 },
 "nbformat": 4,
 "nbformat_minor": 2
}
