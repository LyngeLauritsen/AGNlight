{
 "cells": [
  {
   "cell_type": "code",
   "execution_count": 1,
   "metadata": {
    "collapsed": true
   },
   "outputs": [],
   "source": [
    "import numpy as np\n",
    "import scipy as sc\n",
    "import matplotlib.pyplot as plt\n",
    "import random\n",
    "import math\n",
    "from scipy.optimize import minimize as mini\n",
    "from scipy.optimize import least_squares as ls\n",
    "from scipy.optimize import leastsq\n",
    "import pyOpt\n",
    "from pyOpt import CONMIN\n",
    "from pyOpt import Optimization"
   ]
  },
  {
   "cell_type": "code",
   "execution_count": 2,
   "metadata": {
    "collapsed": true
   },
   "outputs": [],
   "source": [
    "MAG_VEGA_B = 0.03\n",
    "MAG_VEGA_V = 0.03\n",
    "MAG_VEGA_G = 0.03\n",
    "MAG_VEGA_J = -0.18\n",
    "MAG_VEGA_H = -0.03\n",
    "MAG_VEGA_K = 0.13\n",
    "\n",
    "MAG_VEGA_g = -0.08\n",
    "MAG_VEGA_r = 0.16\n",
    "MAG_VEGA_i = 0.37\n",
    "MAG_VEGA_z = 0.54\n",
    "\n",
    "FLUX_LAMBDA_VEGA_B = 632*10**(-11) #erg/cm**2/s/A\n",
    "FLUX_LAMBDA_VEGA_V = 363.1*10**(-11)\n",
    "FLUX_LAMBDA_VEGA_G = float('nan')\n",
    "FLUX_LAMBDA_VEGA_J = 31.47*10**(-11)\n",
    "FLUX_LAMBDA_VEGA_H = 11.38*10**(-11)\n",
    "FLUX_LAMBDA_VEGA_K = 3.961*10**(-11)\n",
    "\n",
    "FLUX_LAMBDA_VEGA_g = 466.9*10**(-11) #erg/cm**2/s/A\n",
    "FLUX_LAMBDA_VEGA_r = 278.0*10**(-11)\n",
    "FLUX_LAMBDA_VEGA_i = 185.2*10**(-11)\n",
    "FLUX_LAMBDA_VEGA_z = 131.5*10**(-11)"
   ]
  },
  {
   "cell_type": "markdown",
   "metadata": {},
   "source": [
    "data = np.loadtxt('/home/lynge/MasterP/NOVEMBER/NOV-NGC3783-K')\n",
    "error = np.loadtxt('/home/lynge/MasterP/NOVEMBER/NGC3783_NOISE_K.txt')\n",
    "\n",
    "time1 = [1,2,3,4,5,6,7,8,9,10]\n",
    "flux1 = [1,2,5,7,3,1,4,6,7,3]\n",
    "sigma1 = [0.1,0.1,0.1,0.1,0.1,0.1,0.1,0.1,0.1,0.1]\n",
    "\n",
    "\n",
    "time1 = np.array(time1)\n",
    "flux1 = np.array(flux1)\n",
    "sigma1 = np.array(sigma1)\n",
    "\n",
    "time = np.insert(time1,0,0)\n",
    "sigma = np.insert(sigma1,0,np.mean(sigma1))\n",
    "flux = np.insert(flux1,0,np.mean(flux1))\n",
    "\n",
    "print time1\n",
    "print sigma1\n",
    "print flux1\n",
    "\n"
   ]
  },
  {
   "cell_type": "code",
   "execution_count": 3,
   "metadata": {
    "collapsed": false
   },
   "outputs": [
    {
     "data": {
      "image/png": "[encoded data removed]",
      "text/plain": [
       "<matplotlib.figure.Figure at 0x7fa3142f2850>"
      ]
     },
     "metadata": {},
     "output_type": "display_data"
    },
    {
     "name": "stdout",
     "output_type": "stream",
     "text": [
      "yes\n",
      "yes\n",
      "yes\n",
      "yes\n",
      "yes\n",
      "yes 2\n",
      "yes 2\n",
      "yes\n",
      "yes 2\n",
      "yes\n",
      "yes\n",
      "yes 2\n",
      "yes 2\n",
      "yes 2\n",
      "yes 2\n",
      "[6.53692740e-15 6.68514248e-15 6.71358527e-15 6.60096834e-15\n",
      " 6.37964425e-15 6.67127211e-15 6.56894523e-15 6.56946122e-15\n",
      " 6.73956433e-15 6.98789842e-15 7.07148604e-15 7.16600928e-15\n",
      " 7.44946060e-15 7.59712804e-15 7.59991812e-15 8.05729361e-15\n",
      " 7.98165151e-15 8.24999301e-15 8.37994436e-15 9.20294591e-15\n",
      " 9.21068297e-15 9.44032587e-15 9.50610473e-15 9.73302579e-15\n",
      " 9.80485259e-15 9.78992681e-15 9.83974215e-15 9.76988550e-15\n",
      " 9.45780882e-15 9.26152396e-15 9.16905037e-15 9.00022627e-15\n",
      " 9.08750538e-15 8.92810696e-15 8.71962672e-15 8.86509304e-15\n",
      " 8.82220032e-15 8.69549681e-15 8.84735230e-15 8.79111873e-15\n",
      " 8.70469323e-15 8.69859061e-15 8.33132789e-15 8.29606268e-15\n",
      " 8.38661892e-15 8.15085157e-15]\n",
      "[    0. 57516. 57523. 57530. 57547. 57554. 57569. 57598. 57693. 57701.\n",
      " 57711. 57719. 57726. 57733. 57741. 57749. 57764. 57772. 57801. 57817.\n",
      " 57878. 57887. 57903. 57910. 57918. 57925. 57933. 57949. 57956. 58055.\n",
      " 58062. 58070. 58086. 58094. 58109. 58125. 58140. 58147. 58161. 58175.\n",
      " 58182. 58190. 58205. 58222. 58229. 58244. 58253.]\n",
      "[1.61867973e-16 1.61271903e-16 1.68966684e-16 1.30300634e-16\n",
      " 1.80335271e-16 1.28127343e-16 1.39145263e-16 1.37419415e-16\n",
      " 1.47559912e-16 1.73253350e-16 1.78387650e-16 1.90079063e-16\n",
      " 1.89435705e-16 1.71786906e-16 1.27589592e-16 1.44642463e-16\n",
      " 1.83093338e-16 1.70664946e-16 1.26847131e-16 1.69028967e-16\n",
      " 1.89809487e-16 1.56477095e-16 1.84286706e-16 1.76299108e-16\n",
      " 1.47656196e-16 1.58329376e-16 1.30933013e-16 1.77871207e-16\n",
      " 1.62797139e-16 1.88975547e-16 1.68787303e-16 1.74558100e-16\n",
      " 1.63022805e-16 1.59516476e-16 1.27492432e-16 1.24298185e-16\n",
      " 1.71923838e-16 1.83476842e-16 1.91053491e-16 1.79687424e-16\n",
      " 1.59774254e-16 1.26306320e-16 1.35079629e-16 1.71990986e-16\n",
      " 1.76823798e-16 1.69503060e-16 1.71261411e-16]\n",
      "[8.27210958e-15 6.53692740e-15 6.68514248e-15 6.71358527e-15\n",
      " 6.60096834e-15 6.37964425e-15 6.67127211e-15 6.56894523e-15\n",
      " 6.56946122e-15 6.73956433e-15 6.98789842e-15 7.07148604e-15\n",
      " 7.16600928e-15 7.44946060e-15 7.59712804e-15 7.59991812e-15\n",
      " 8.05729361e-15 7.98165151e-15 8.24999301e-15 8.37994436e-15\n",
      " 9.20294591e-15 9.21068297e-15 9.44032587e-15 9.50610473e-15\n",
      " 9.73302579e-15 9.80485259e-15 9.78992681e-15 9.83974215e-15\n",
      " 9.76988550e-15 9.45780882e-15 9.26152396e-15 9.16905037e-15\n",
      " 9.00022627e-15 9.08750538e-15 8.92810696e-15 8.71962672e-15\n",
      " 8.86509304e-15 8.82220032e-15 8.69549681e-15 8.84735230e-15\n",
      " 8.79111873e-15 8.70469323e-15 8.69859061e-15 8.33132789e-15\n",
      " 8.29606268e-15 8.38661892e-15 8.15085157e-15]\n"
     ]
    }
   ],
   "source": [
    "data = np.loadtxt('NOVEMBER/NOV-NGC3783-K')\n",
    "error = np.loadtxt('NOVEMBER/NGC3783_NOISE_K.txt')\n",
    "\n",
    "plt.figure()\n",
    "plt.scatter(data[:,0],data[:,1])\n",
    "plt.show()\n",
    "\n",
    "#print data[:,0]\n",
    "#print data[:,1]\n",
    "#print error[:,0]\n",
    "#print error[:,4]\n",
    "\n",
    "\n",
    "time2 = data[:,0]\n",
    "flux2 = data[:,1]\n",
    "sigma2 = error[:,1]\n",
    "\n",
    "time1 = []\n",
    "flux1 = []\n",
    "sigma1 = []\n",
    " \n",
    "\n",
    "for i in range(len(time2)):\n",
    "    if np.isnan(sigma2[i]):\n",
    "        print 'yes'\n",
    "    elif np.isnan(flux2[i]):\n",
    "        print 'yes 2'\n",
    "    else:\n",
    "        time1.append(time2[i])\n",
    "        flux1.append(flux2[i])\n",
    "        sigma1.append(sigma2[i])\n",
    "\n",
    "time1 = np.array(time1)\n",
    "flux1 = np.array(flux1)\n",
    "sigma1 = np.array(sigma1)\n",
    "\n",
    "time = np.insert(time1,0,0)\n",
    "sigma = np.insert(sigma1,0,np.mean(sigma1))\n",
    "flux = np.insert(flux1,0,np.mean(flux1))\n",
    "\n",
    "#sigma1 = -2.5*np.log10((flux1 + sigma1)/FLUX_LAMBDA_VEGA_K)\n",
    "#sigma = -2.5*np.log10((flux + sigma)/FLUX_LAMBDA_VEGA_K)\n",
    "#flux1 = -2.5*np.log10(flux1/FLUX_LAMBDA_VEGA_K)\n",
    "#flux = -2.5*np.log10(flux/FLUX_LAMBDA_VEGA_K)\n",
    "\n",
    "#sigma1 = abs(sigma1 - flux1)\n",
    "#sigma = abs(sigma - flux)\n",
    "\n",
    "print flux1\n",
    "\n",
    "print time\n",
    "print sigma\n",
    "print flux"
   ]
  },
  {
   "cell_type": "code",
   "execution_count": 4,
   "metadata": {
    "collapsed": false
   },
   "outputs": [
    {
     "data": {
      "image/png": "[encoded data removed]",
      "text/plain": [
       "<matplotlib.figure.Figure at 0x7fa2d56eb1d0>"
      ]
     },
     "metadata": {},
     "output_type": "display_data"
    }
   ],
   "source": [
    "plt.figure()\n",
    "plt.errorbar(time1,flux1,yerr=sigma1,fmt='x')\n",
    "plt.show()"
   ]
  },
  {
   "cell_type": "code",
   "execution_count": 5,
   "metadata": {
    "collapsed": false
   },
   "outputs": [],
   "source": [
    "b = 8.*10**(-2)\n",
    "tau = 500.\n",
    "sigma_tot = 1*10**(-16)\n",
    "\n",
    "param = [b,tau,sigma_tot]"
   ]
  },
  {
   "cell_type": "code",
   "execution_count": 6,
   "metadata": {
    "collapsed": true
   },
   "outputs": [],
   "source": [
    "'''x denotes the observed fluxes, and t the observation times, \n",
    "sigma is the error variances and p is the probability function'''\n",
    "\n",
    "def a_i(t2,t1,tau):\n",
    "    tau = float(tau)\n",
    "    return np.exp(-(t2-t1)/tau)\n",
    "\n",
    "def omega_0(tau,sigma_tot):\n",
    "    return 0.5*tau*sigma_tot**2\n",
    "\n",
    "def omega_i(omega_0,a_i,omega_before,sigma_before):\n",
    "    return omega_0*(1-a_i**2) + a_i**2*omega_before*(1 - omega_before/(omega_before + sigma_before**2))\n",
    "\n",
    "def x_hat_i(a_i,x_hat_before,omega_before,sigma_before,x_star_before):\n",
    "    return a_i*x_hat_before + ((a_i*omega_before)/((omega_before + sigma_before**2)))*(x_star_before - x_hat_before)\n",
    "\n",
    "def x_star_i(x_i,b,tau):\n",
    "    return x_i - b*tau\n"
   ]
  },
  {
   "cell_type": "code",
   "execution_count": 7,
   "metadata": {
    "collapsed": true
   },
   "outputs": [],
   "source": [
    "def parameters(param):\n",
    "    x_hat = [0]\n",
    "    omega = [0.5*param[1]*param[2]**2]\n",
    "    x_star = [-param[0]*param[1]]\n",
    "    a = []\n",
    "    for i in range(len(flux1)):\n",
    "        a.append(a_i(time[i+1],time[i],param[1]))\n",
    "        x_hat.append(x_hat_i(a[i],x_hat[i],omega[i],sigma[i],x_star[i]))\n",
    "        omega.append(omega_i(omega_0(param[1],param[2]),a[i],omega[i],sigma[i]))\n",
    "        x_star.append(x_star_i(flux[i+1],param[0],param[1]))\n",
    "    x_hat[0] = np.mean(x_hat)\n",
    "    x_hat[1] = np.mean(x_hat)\n",
    "    return x_hat,omega,x_star,a\n"
   ]
  },
  {
   "cell_type": "code",
   "execution_count": 8,
   "metadata": {
    "collapsed": true
   },
   "outputs": [],
   "source": [
    "def prob(param):\n",
    "    x_hat,omega,x_star,a = parameters(param)\n",
    "    #print x_hat\n",
    "    #print x_star\n",
    "    #print omega\n",
    "    \n",
    "    probability = 1\n",
    "    for i in range(len(a)):\n",
    "        #print omega[i+1],sigma[i+1]**2 #,x_hat[i+1],x_star[i+1],a[i]\n",
    "        #print (x_hat[i+1] - x_star[i+1])\n",
    "        part = np.log(1/np.sqrt(2*np.pi*(omega[i+1] + sigma[i+1]**2)))\\\n",
    "        -(1/2.)*(((x_hat[i+1] - x_star[i+1])**2.)/(omega[i+1] + sigma[i+1]**2.))\n",
    "        #print part,sigma1[i]\n",
    "        #print ((x_hat[i+1] - x_star[i+1])**2.)/(omega[i+1] + sigma[i+1]**2.)\n",
    "        #print 1/np.sqrt(2*np.pi*(omega[i+1] + sigma[i+1]**2))\n",
    "        probability += part\n",
    "        #print part, probability\n",
    "    return -probability"
   ]
  },
  {
   "cell_type": "code",
   "execution_count": 9,
   "metadata": {
    "collapsed": true
   },
   "outputs": [],
   "source": [
    "def dX(tau,sigma,dt,b,epsilon,X):\n",
    "    dt = dt\n",
    "    sigma = sigma\n",
    "    return (-(1/tau)*X*dt + sigma*np.sqrt(dt)*epsilon + b*dt)"
   ]
  },
  {
   "cell_type": "markdown",
   "metadata": {},
   "source": [
    "def dX(tau,sigma,dt,b,epsilon,X):\n",
    "    res = 0\n",
    "    if X < b*tau:\n",
    "        res = -(1/tau)*X*dt + sigma*np.sqrt(dt)*epsilon + b\n",
    "    if X > b*tau:\n",
    "        res = (1/tau)*X*dt + sigma*np.sqrt(dt)*epsilon - b\n",
    "    return res"
   ]
  },
  {
   "cell_type": "code",
   "execution_count": 10,
   "metadata": {
    "collapsed": false,
    "scrolled": false
   },
   "outputs": [],
   "source": [
    "def flux_model(param):\n",
    "    res = mini(prob,param,method='Nelder-Mead',tol=1e-18)\n",
    "    tau = res.x[1] #1400. #res.x[1] #1400. #res.x[1]\n",
    "    b = res.x[0] #9.2/tau #res.x[0] #7.5*10**(-15)/tau #res.x[0]\n",
    "    sigma_tot = res.x[2] #0.01 #res.x[2] #1.3*10**(-16) #res.x[2] \n",
    "    model = np.zeros((2000,len(flux1)))\n",
    "    flux_test = flux1[0]\n",
    "    for j in range(len(model[:,0])):\n",
    "        model[j,0] = flux1[0]\n",
    "        #flux_model = [flux1[0]]\n",
    "        #print j\n",
    "        for i in range(len(flux1)-1):\n",
    "            #print i, model[j,i]\n",
    "            dt = (time1[i+1]-time1[i])\n",
    "            epsilon = np.random.normal(0,1,1)\n",
    "            dX1 = (flux1[i+1])#*(-1) + model[j,0]\n",
    "            change = dX(tau,sigma_tot,dt,b,epsilon,dX1) #flux1[i+1] - flux1[i]\n",
    "            #print change,flux1[i+1]\n",
    "            model[j,i+1] = change + flux1[i] #model[j,i] # - flux_test)\n",
    "    model2 = []\n",
    "    time_model = []\n",
    "    std = []\n",
    "    for i in range(len(model[0,:])):\n",
    "        model2.append(np.mean(model[:,i]))\n",
    "        std.append(np.std(model[:,i]))\n",
    "        time_model.append(time1[i])\n",
    "    flux_model = np.array((time_model,model2,std,res.x))\n",
    "    return flux_model,time_model, model2\n",
    "\n",
    "#model, time_model, model2 = flux_model(param)\n",
    "\n",
    "def flux_model1(param):\n",
    "    res = mini(prob,param,method='Nelder-Mead',tol=1e-18)\n",
    "    tau = res.x[1] #1400. #res.x[1] #1400. #res.x[1]\n",
    "    b = res.x[0] #9.2/tau #res.x[0] #7.5*10**(-15)/tau #res.x[0]\n",
    "    sigma_tot = res.x[2] #0.01 #res.x[2] #1.3*10**(-16) #res.x[2] \n",
    "    model = np.zeros((2000,len(flux1)))\n",
    "    flux_test = flux1[0]\n",
    "    dx_day = np.zeros((2000,len(flux1)))\n",
    "    timef = time1[::-1]\n",
    "    fluxf = flux1[::-1]\n",
    "    #print timef, time1\n",
    "    for j in range(len(model[:,0])):\n",
    "        model[j,0] = fluxf[0]\n",
    "        for i in range(len(fluxf)-1):\n",
    "            dt = abs(timef[i+1]-timef[i])\n",
    "            epsilon = np.random.normal(0,1,1)\n",
    "            dX1 = (fluxf[i+1])#*(-1) + model[j,0]\n",
    "            change = dX(tau,sigma_tot,dt,b,epsilon,dX1) #flux1[i+1] - flux1[i]\n",
    "            model[j,i+1] = change + fluxf[i] #model[j,i] # - flux_test)\n",
    "            dx_day[j,i+1] = change/dt\n",
    "            #print 2\n",
    "    model2 = []\n",
    "    time_model = []\n",
    "    std = []\n",
    "    dx_days = []\n",
    "    for i in range(len(model[0,:])):\n",
    "        model2.append(np.mean(model[:,i]))\n",
    "        std.append(np.std(model[:,i]))\n",
    "        time_model.append(timef[i])\n",
    "        dx_days.append(np.mean(dx_day[:,i]))\n",
    "        #print 2\n",
    "    flux_model = np.array((time_model,model2,std,res.x))\n",
    "    return flux_model,time_model[::-1], model2[::-1], dx_days[::-1]"
   ]
  },
  {
   "cell_type": "code",
   "execution_count": 11,
   "metadata": {
    "collapsed": false
   },
   "outputs": [],
   "source": [
    "model, time_model, model2 = flux_model(param) #p1.join()\n",
    "model1, time_model1, model12, dx_days1 = flux_model1(param) #p2.join()\n",
    "#model = np.add(model,model1)/2.\n",
    "time_model = np.add(time_model,time_model1)/2.\n",
    "model2 = np.add(model2,model12)/2."
   ]
  },
  {
   "cell_type": "code",
   "execution_count": 12,
   "metadata": {
    "collapsed": false
   },
   "outputs": [
    {
     "data": {
      "image/png": "[encoded data removed]",
      "text/plain": [
       "<matplotlib.figure.Figure at 0x7fa2d2620dd0>"
      ]
     },
     "metadata": {},
     "output_type": "display_data"
    },
    {
     "data": {
      "text/plain": [
       "\"\\nplt.figure(figsize=(15,10))\\nplt.errorbar(time1,flux1,yerr=sigma1,fmt='x')\\nfor i in range(len(model[:,0])):\\n    plt.plot(time1,model[i,:],linestyle='-')\\n#plt.ylim([4e-15,1.2e-14])\\nplt.show()\\n\\nplt.figure(figsize=(15,10))\\nplt.errorbar(time1,flux1,yerr=sigma1,fmt='x')\\n#plt.ylim([4e-15,1.2e-14])\\nplt.show()\\n\""
      ]
     },
     "execution_count": 12,
     "metadata": {},
     "output_type": "execute_result"
    }
   ],
   "source": [
    "plt.figure(figsize=(15,10))\n",
    "plt.errorbar(time1,flux1,yerr=sigma1,fmt='o',label='Observed K-band LC')\n",
    "plt.plot(time_model,model2,linestyle='-',color='r',label='Kelly LC')\n",
    "plt.xlabel('Days',fontsize=20)\n",
    "plt.ylabel('Flux',fontsize=20)\n",
    "plt.legend()\n",
    "#plt.errorbar(time_model,model2,yerr=std,fmt='.',color='r')\n",
    "#plt.ylim([4e-15,1.2e-14])\n",
    "plt.show()\n",
    "'''\n",
    "plt.figure(figsize=(15,10))\n",
    "plt.errorbar(time1,flux1,yerr=sigma1,fmt='x')\n",
    "for i in range(len(model[:,0])):\n",
    "    plt.plot(time1,model[i,:],linestyle='-')\n",
    "#plt.ylim([4e-15,1.2e-14])\n",
    "plt.show()\n",
    "\n",
    "plt.figure(figsize=(15,10))\n",
    "plt.errorbar(time1,flux1,yerr=sigma1,fmt='x')\n",
    "#plt.ylim([4e-15,1.2e-14])\n",
    "plt.show()\n",
    "'''"
   ]
  },
  {
   "cell_type": "code",
   "execution_count": null,
   "metadata": {
    "collapsed": true
   },
   "outputs": [],
   "source": []
  },
  {
   "cell_type": "code",
   "execution_count": 41,
   "metadata": {
    "collapsed": false
   },
   "outputs": [
    {
     "name": "stdout",
     "output_type": "stream",
     "text": [
      "[-1.10424083]\n"
     ]
    }
   ],
   "source": [
    "print np.random.normal(0,1,1)"
   ]
  },
  {
   "cell_type": "code",
   "execution_count": null,
   "metadata": {
    "collapsed": true
   },
   "outputs": [],
   "source": []
  }
 ],
 "metadata": {
  "kernelspec": {
   "display_name": "Python 2",
   "language": "python",
   "name": "python2"
  },
  "language_info": {
   "codemirror_mode": {
    "name": "ipython",
    "version": 2
   },
   "file_extension": ".py",
   "mimetype": "text/x-python",
   "name": "python",
   "nbconvert_exporter": "python",
   "pygments_lexer": "ipython2",
   "version": "2.7.13"
  }
 },
 "nbformat": 4,
 "nbformat_minor": 2
}
