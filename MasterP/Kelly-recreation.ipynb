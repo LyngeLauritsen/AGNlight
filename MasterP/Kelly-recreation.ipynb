{
 "cells": [
  {
   "cell_type": "code",
   "execution_count": 14,
   "metadata": {
    "collapsed": true
   },
   "outputs": [],
   "source": [
    "import numpy as np\n",
    "import scipy as sc\n",
    "import matplotlib.pyplot as plt\n",
    "import random\n",
    "import math\n",
    "from scipy.optimize import minimize as mini\n",
    "from scipy.optimize import least_squares as ls\n",
    "from scipy.optimize import leastsq\n",
    "import pyOpt\n",
    "from pyOpt import CONMIN\n",
    "from pyOpt import Optimization"
   ]
  },
  {
   "cell_type": "code",
   "execution_count": 15,
   "metadata": {
    "collapsed": true
   },
   "outputs": [],
   "source": [
    "MAG_VEGA_B = 0.03\n",
    "MAG_VEGA_V = 0.03\n",
    "MAG_VEGA_G = 0.03\n",
    "MAG_VEGA_J = -0.18\n",
    "MAG_VEGA_H = -0.03\n",
    "MAG_VEGA_K = 0.13\n",
    "\n",
    "MAG_VEGA_g = -0.08\n",
    "MAG_VEGA_r = 0.16\n",
    "MAG_VEGA_i = 0.37\n",
    "MAG_VEGA_z = 0.54\n",
    "\n",
    "FLUX_LAMBDA_VEGA_B = 632*10**(-11) #erg/cm**2/s/A\n",
    "FLUX_LAMBDA_VEGA_V = 363.1*10**(-11)\n",
    "FLUX_LAMBDA_VEGA_G = float('nan')\n",
    "FLUX_LAMBDA_VEGA_J = 31.47*10**(-11)\n",
    "FLUX_LAMBDA_VEGA_H = 11.38*10**(-11)\n",
    "FLUX_LAMBDA_VEGA_K = 3.961*10**(-11)\n",
    "\n",
    "FLUX_LAMBDA_VEGA_g = 466.9*10**(-11) #erg/cm**2/s/A\n",
    "FLUX_LAMBDA_VEGA_r = 278.0*10**(-11)\n",
    "FLUX_LAMBDA_VEGA_i = 185.2*10**(-11)\n",
    "FLUX_LAMBDA_VEGA_z = 131.5*10**(-11)"
   ]
  },
  {
   "cell_type": "markdown",
   "metadata": {},
   "source": [
    "data = np.loadtxt('/home/lynge/MasterP/NOVEMBER/NOV-NGC3783-K')\n",
    "error = np.loadtxt('/home/lynge/MasterP/NOVEMBER/NGC3783_NOISE_K.txt')\n",
    "\n",
    "time1 = [1,2,3,4,5,6,7,8,9,10]\n",
    "flux1 = [1,2,5,7,3,1,4,6,7,3]\n",
    "sigma1 = [0.1,0.1,0.1,0.1,0.1,0.1,0.1,0.1,0.1,0.1]\n",
    "\n",
    "\n",
    "time1 = np.array(time1)\n",
    "flux1 = np.array(flux1)\n",
    "sigma1 = np.array(sigma1)\n",
    "\n",
    "time = np.insert(time1,0,0)\n",
    "sigma = np.insert(sigma1,0,np.mean(sigma1))\n",
    "flux = np.insert(flux1,0,np.mean(flux1))\n",
    "\n",
    "print time1\n",
    "print sigma1\n",
    "print flux1\n",
    "\n"
   ]
  },
  {
   "cell_type": "code",
   "execution_count": 31,
   "metadata": {
    "collapsed": false
   },
   "outputs": [
    {
     "data": {
      "image/png": "[encoded data removed]",
      "text/plain": [
       "<matplotlib.figure.Figure at 0x7f1ae02492d0>"
      ]
     },
     "metadata": {},
     "output_type": "display_data"
    },
    {
     "name": "stdout",
     "output_type": "stream",
     "text": [
      "yes\n",
      "yes\n",
      "yes\n",
      "yes 2\n",
      "yes\n",
      "yes 2\n",
      "yes 2\n",
      "yes 2\n",
      "yes 2\n",
      "yes\n",
      "[6.53724662e-15 6.71527344e-15 6.60099894e-15 6.37713900e-15\n",
      " 6.66855803e-15 6.67181077e-15 6.40972481e-15 6.56864377e-15\n",
      " 6.57594350e-15 6.74248785e-15 7.06941435e-15 7.16508274e-15\n",
      " 7.60092634e-15 7.60039417e-15 8.05099584e-15 8.21301406e-15\n",
      " 8.22193811e-15 8.25153761e-15 8.38115563e-15 9.19988661e-15\n",
      " 9.20615762e-15 9.29548448e-15 9.44518380e-15 9.50857590e-15\n",
      " 9.73722913e-15 9.80940383e-15 9.78447827e-15 9.85013975e-15\n",
      " 9.76320384e-15 9.45886211e-15 9.26290708e-15 9.16831540e-15\n",
      " 9.11523113e-15 9.00052668e-15]\n",
      "[    0. 57516. 57530. 57547. 57554. 57562. 57569. 57583. 57598. 57693.\n",
      " 57701. 57719. 57726. 57741. 57749. 57764. 57786. 57794. 57801. 57817.\n",
      " 57878. 57887. 57894. 57903. 57910. 57918. 57925. 57933. 57949. 57956.\n",
      " 58055. 58062. 58070. 58079. 58086.]\n",
      "[1.58020423e-16 1.59502546e-16 1.76239282e-16 1.89703949e-16\n",
      " 1.90167133e-16 1.89057045e-16 1.84334581e-16 1.83187539e-16\n",
      " 1.80173025e-16 1.80247249e-16 1.78328491e-16 1.62820662e-16\n",
      " 1.74563886e-16 1.60287999e-16 1.59681044e-16 1.56355329e-16\n",
      " 1.47569123e-16 1.47729691e-16 1.44742163e-16 1.39127341e-16\n",
      " 1.36675236e-16 1.30989587e-16 1.27714899e-16 1.27486594e-16\n",
      " 1.24391937e-16 1.29802769e-16 1.29489911e-16 1.26260068e-16\n",
      " 1.30333285e-16 1.35105835e-16 1.26853352e-16 1.79714158e-16\n",
      " 1.83497346e-16 1.89306536e-16 1.91254800e-16]\n",
      "[8.17729033e-15 6.53724662e-15 6.71527344e-15 6.60099894e-15\n",
      " 6.37713900e-15 6.66855803e-15 6.67181077e-15 6.40972481e-15\n",
      " 6.56864377e-15 6.57594350e-15 6.74248785e-15 7.06941435e-15\n",
      " 7.16508274e-15 7.60092634e-15 7.60039417e-15 8.05099584e-15\n",
      " 8.21301406e-15 8.22193811e-15 8.25153761e-15 8.38115563e-15\n",
      " 9.19988661e-15 9.20615762e-15 9.29548448e-15 9.44518380e-15\n",
      " 9.50857590e-15 9.73722913e-15 9.80940383e-15 9.78447827e-15\n",
      " 9.85013975e-15 9.76320384e-15 9.45886211e-15 9.26290708e-15\n",
      " 9.16831540e-15 9.11523113e-15 9.00052668e-15]\n"
     ]
    }
   ],
   "source": [
    "data = np.loadtxt('NOVEMBER/NOV-NGC3783-K')\n",
    "error = np.loadtxt('NOVEMBER/NGC3783_NOISE_K.txt')\n",
    "\n",
    "plt.figure()\n",
    "plt.scatter(data[:,0],data[:,1])\n",
    "plt.show()\n",
    "\n",
    "#print data[:,0]\n",
    "#print data[:,1]\n",
    "#print error[:,0]\n",
    "#print error[:,4]\n",
    "\n",
    "\n",
    "time2 = data[:,0]\n",
    "flux2 = data[:,1]\n",
    "sigma2 = error[:,1]\n",
    "\n",
    "time1 = []\n",
    "flux1 = []\n",
    "sigma1 = []\n",
    " \n",
    "\n",
    "for i in range(len(time2)):\n",
    "    if np.isnan(sigma2[i]):\n",
    "        print 'yes'\n",
    "    elif np.isnan(flux2[i]):\n",
    "        print 'yes 2'\n",
    "    else:\n",
    "        time1.append(time2[i])\n",
    "        flux1.append(flux2[i])\n",
    "        sigma1.append(sigma2[i])\n",
    "\n",
    "time1 = np.array(time1)\n",
    "flux1 = np.array(flux1)\n",
    "sigma1 = np.array(sigma1)\n",
    "\n",
    "time = np.insert(time1,0,0)\n",
    "sigma = np.insert(sigma1,0,np.mean(sigma1))\n",
    "flux = np.insert(flux1,0,np.mean(flux1))\n",
    "\n",
    "#sigma1 = -2.5*np.log10((flux1 + sigma1)/FLUX_LAMBDA_VEGA_K)\n",
    "#sigma = -2.5*np.log10((flux + sigma)/FLUX_LAMBDA_VEGA_K)\n",
    "#flux1 = -2.5*np.log10(flux1/FLUX_LAMBDA_VEGA_K)\n",
    "#flux = -2.5*np.log10(flux/FLUX_LAMBDA_VEGA_K)\n",
    "\n",
    "#sigma1 = abs(sigma1 - flux1)\n",
    "#sigma = abs(sigma - flux)\n",
    "\n",
    "print flux1\n",
    "\n",
    "print time\n",
    "print sigma\n",
    "print flux"
   ]
  },
  {
   "cell_type": "code",
   "execution_count": 17,
   "metadata": {
    "collapsed": false
   },
   "outputs": [
    {
     "data": {
      "image/png": "[encoded data removed]",
      "text/plain": [
       "<matplotlib.figure.Figure at 0x7f1ae383a290>"
      ]
     },
     "metadata": {},
     "output_type": "display_data"
    },
    {
     "data": {
      "image/png": "[encoded data removed]",
      "text/plain": [
       "<matplotlib.figure.Figure at 0x7f1ae043c150>"
      ]
     },
     "metadata": {},
     "output_type": "display_data"
    }
   ],
   "source": [
    "plt.figure()\n",
    "plt.errorbar(time1,flux1,yerr=sigma1,fmt='x')\n",
    "plt.show()"
   ]
  },
  {
   "cell_type": "code",
   "execution_count": 18,
   "metadata": {
    "collapsed": false
   },
   "outputs": [],
   "source": [
    "b = 8.*10**(-2)\n",
    "tau = 800.\n",
    "sigma_tot = 1*10**(-16)\n",
    "\n",
    "param = [b,tau,sigma_tot]"
   ]
  },
  {
   "cell_type": "code",
   "execution_count": 19,
   "metadata": {
    "collapsed": true
   },
   "outputs": [],
   "source": [
    "'''x denotes the observed fluxes, and t the observation times, \n",
    "sigma is the error variances and p is the probability function'''\n",
    "\n",
    "def a_i(t2,t1,tau):\n",
    "    tau = float(tau)\n",
    "    return np.exp(-(t2-t1)/tau)\n",
    "\n",
    "def omega_0(tau,sigma_tot):\n",
    "    return 0.5*tau*sigma_tot**2\n",
    "\n",
    "def omega_i(omega_0,a_i,omega_before,sigma_before):\n",
    "    return omega_0*(1-a_i**2) + a_i**2*omega_before*(1 - omega_before/(omega_before + sigma_before**2))\n",
    "\n",
    "def x_hat_i(a_i,x_hat_before,omega_before,sigma_before,x_star_before):\n",
    "    return a_i*x_hat_before + ((a_i*omega_before)/((omega_before + sigma_before**2)))*(x_star_before - x_hat_before)\n",
    "\n",
    "def x_star_i(x_i,b,tau):\n",
    "    return x_i - b*tau\n"
   ]
  },
  {
   "cell_type": "code",
   "execution_count": 20,
   "metadata": {
    "collapsed": true
   },
   "outputs": [],
   "source": [
    "def parameters(param):\n",
    "    x_hat = [0]\n",
    "    omega = [0.5*param[1]*param[2]**2]\n",
    "    x_star = [-param[0]*param[1]]\n",
    "    a = []\n",
    "    for i in range(len(flux1)):\n",
    "        a.append(a_i(time[i+1],time[i],param[1]))\n",
    "        x_hat.append(x_hat_i(a[i],x_hat[i],omega[i],sigma[i],x_star[i]))\n",
    "        omega.append(omega_i(omega_0(param[1],param[2]),a[i],omega[i],sigma[i]))\n",
    "        x_star.append(x_star_i(flux[i+1],param[0],param[1]))\n",
    "    x_hat[0] = np.mean(x_hat)\n",
    "    x_hat[1] = np.mean(x_hat)\n",
    "    return x_hat,omega,x_star,a\n"
   ]
  },
  {
   "cell_type": "code",
   "execution_count": 21,
   "metadata": {
    "collapsed": true
   },
   "outputs": [],
   "source": [
    "def prob(param):\n",
    "    x_hat,omega,x_star,a = parameters(param)\n",
    "    #print x_hat\n",
    "    #print x_star\n",
    "    #print omega\n",
    "    \n",
    "    probability = 1\n",
    "    for i in range(len(a)):\n",
    "        #print omega[i+1],sigma[i+1]**2 #,x_hat[i+1],x_star[i+1],a[i]\n",
    "        #print (x_hat[i+1] - x_star[i+1])\n",
    "        part = np.log(1/np.sqrt(2*np.pi*(omega[i+1] + sigma[i+1]**2)))\\\n",
    "        -(1/2.)*(((x_hat[i+1] - x_star[i+1])**2.)/(omega[i+1] + sigma[i+1]**2.))\n",
    "        #print part,sigma1[i]\n",
    "        #print ((x_hat[i+1] - x_star[i+1])**2.)/(omega[i+1] + sigma[i+1]**2.)\n",
    "        #print 1/np.sqrt(2*np.pi*(omega[i+1] + sigma[i+1]**2))\n",
    "        probability += part\n",
    "        #print part, probability\n",
    "    return -probability"
   ]
  },
  {
   "cell_type": "code",
   "execution_count": 22,
   "metadata": {
    "collapsed": true
   },
   "outputs": [],
   "source": [
    "def dX(tau,sigma,dt,b,epsilon,X):\n",
    "    dt = dt\n",
    "    sigma = sigma\n",
    "    return (-(1/tau)*X*dt + sigma*np.sqrt(dt)*epsilon + b*dt)"
   ]
  },
  {
   "cell_type": "markdown",
   "metadata": {},
   "source": [
    "def dX(tau,sigma,dt,b,epsilon,X):\n",
    "    res = 0\n",
    "    if X < b*tau:\n",
    "        res = -(1/tau)*X*dt + sigma*np.sqrt(dt)*epsilon + b\n",
    "    if X > b*tau:\n",
    "        res = (1/tau)*X*dt + sigma*np.sqrt(dt)*epsilon - b\n",
    "    return res"
   ]
  },
  {
   "cell_type": "code",
   "execution_count": 23,
   "metadata": {
    "collapsed": false,
    "scrolled": false
   },
   "outputs": [],
   "source": [
    "def flux_model(param):\n",
    "    res = mini(prob,param,method='Nelder-Mead',tol=1e-18)\n",
    "    tau = res.x[1] #1400. #res.x[1] #1400. #res.x[1]\n",
    "    b = res.x[0] #9.2/tau #res.x[0] #7.5*10**(-15)/tau #res.x[0]\n",
    "    sigma_tot = res.x[2] #0.01 #res.x[2] #1.3*10**(-16) #res.x[2] \n",
    "    model = np.zeros((2000,len(flux1)))\n",
    "    flux_test = flux1[0]\n",
    "    for j in range(len(model[:,0])):\n",
    "        model[j,0] = flux1[0]\n",
    "        #flux_model = [flux1[0]]\n",
    "        #print j\n",
    "        for i in range(len(flux1)-1):\n",
    "            #print i, model[j,i]\n",
    "            dt = (time1[i+1]-time1[i])\n",
    "            epsilon = np.random.normal(0,1,1)\n",
    "            dX1 = (flux1[i+1])#*(-1) + model[j,0]\n",
    "            change = dX(tau,sigma_tot,dt,b,epsilon,dX1) #flux1[i+1] - flux1[i]\n",
    "            #print change,flux1[i+1]\n",
    "            model[j,i+1] = change + flux1[i] #model[j,i] # - flux_test)\n",
    "    model2 = []\n",
    "    time_model = []\n",
    "    std = []\n",
    "    for i in range(len(model[0,:])):\n",
    "        model2.append(np.mean(model[:,i]))\n",
    "        std.append(np.std(model[:,i]))\n",
    "        time_model.append(time1[i])\n",
    "    flux_model = np.array((time_model,model2,std,res.x))\n",
    "    return flux_model,time_model, model2\n",
    "\n",
    "#model, time_model, model2 = flux_model(param)\n",
    "\n",
    "def flux_model1(param):\n",
    "    res = mini(prob,param,method='Nelder-Mead',tol=1e-18)\n",
    "    tau = res.x[1] #1400. #res.x[1] #1400. #res.x[1]\n",
    "    b = res.x[0] #9.2/tau #res.x[0] #7.5*10**(-15)/tau #res.x[0]\n",
    "    sigma_tot = res.x[2] #0.01 #res.x[2] #1.3*10**(-16) #res.x[2] \n",
    "    model = np.zeros((2000,len(flux1)))\n",
    "    flux_test = flux1[0]\n",
    "    dx_day = np.zeros((2000,len(flux1)))\n",
    "    timef = time1[::-1]\n",
    "    fluxf = flux1[::-1]\n",
    "    #print timef, time1\n",
    "    for j in range(len(model[:,0])):\n",
    "        model[j,0] = fluxf[0]\n",
    "        for i in range(len(fluxf)-1):\n",
    "            dt = abs(timef[i+1]-timef[i])\n",
    "            epsilon = np.random.normal(0,1,1)\n",
    "            dX1 = (fluxf[i+1])#*(-1) + model[j,0]\n",
    "            change = dX(tau,sigma_tot,dt,b,epsilon,dX1) #flux1[i+1] - flux1[i]\n",
    "            model[j,i+1] = change + fluxf[i] #model[j,i] # - flux_test)\n",
    "            dx_day[j,i+1] = change/dt\n",
    "            #print 2\n",
    "    model2 = []\n",
    "    time_model = []\n",
    "    std = []\n",
    "    dx_days = []\n",
    "    for i in range(len(model[0,:])):\n",
    "        model2.append(np.mean(model[:,i]))\n",
    "        std.append(np.std(model[:,i]))\n",
    "        time_model.append(timef[i])\n",
    "        dx_days.append(np.mean(dx_day[:,i]))\n",
    "        #print 2\n",
    "    flux_model = np.array((time_model,model2,std,res.x))\n",
    "    return flux_model,time_model[::-1], model2[::-1], dx_days[::-1]"
   ]
  },
  {
   "cell_type": "code",
   "execution_count": 24,
   "metadata": {
    "collapsed": false
   },
   "outputs": [],
   "source": [
    "model, time_model, model2 = flux_model(param) #p1.join()\n",
    "model1, time_model1, model12, dx_days1 = flux_model1(param) #p2.join()\n",
    "#model = np.add(model,model1)/2.\n",
    "time_model = np.add(time_model,time_model1)/2.\n",
    "model2 = np.add(model2,model12)/2."
   ]
  },
  {
   "cell_type": "code",
   "execution_count": 28,
   "metadata": {
    "collapsed": false
   },
   "outputs": [
    {
     "data": {
      "image/png": "[encoded data removed]",
      "text/plain": [
       "<matplotlib.figure.Figure at 0x7f1ae03a5210>"
      ]
     },
     "metadata": {},
     "output_type": "display_data"
    },
    {
     "data": {
      "text/plain": [
       "\"\\nplt.figure(figsize=(15,10))\\nplt.errorbar(time1,flux1,yerr=sigma1,fmt='x')\\nfor i in range(len(model[:,0])):\\n    plt.plot(time1,model[i,:],linestyle='-')\\n#plt.ylim([4e-15,1.2e-14])\\nplt.show()\\n\\nplt.figure(figsize=(15,10))\\nplt.errorbar(time1,flux1,yerr=sigma1,fmt='x')\\n#plt.ylim([4e-15,1.2e-14])\\nplt.show()\\n\""
      ]
     },
     "execution_count": 28,
     "metadata": {},
     "output_type": "execute_result"
    }
   ],
   "source": [
    "plt.figure(figsize=(15,10))\n",
    "plt.errorbar(time1,flux1,yerr=sigma1,fmt='o',label='Observed K-band LC')\n",
    "plt.plot(time_model,model2,linestyle='-',color='r',label='Kelly LC')\n",
    "plt.xlabel('Days',fontsize=20)\n",
    "plt.ylabel('Flux',fontsize=20)\n",
    "plt.legend()\n",
    "#plt.errorbar(time_model,model2,yerr=std,fmt='.',color='r')\n",
    "#plt.ylim([4e-15,1.2e-14])\n",
    "plt.show()\n",
    "'''\n",
    "plt.figure(figsize=(15,10))\n",
    "plt.errorbar(time1,flux1,yerr=sigma1,fmt='x')\n",
    "for i in range(len(model[:,0])):\n",
    "    plt.plot(time1,model[i,:],linestyle='-')\n",
    "#plt.ylim([4e-15,1.2e-14])\n",
    "plt.show()\n",
    "\n",
    "plt.figure(figsize=(15,10))\n",
    "plt.errorbar(time1,flux1,yerr=sigma1,fmt='x')\n",
    "#plt.ylim([4e-15,1.2e-14])\n",
    "plt.show()\n",
    "'''"
   ]
  },
  {
   "cell_type": "code",
   "execution_count": null,
   "metadata": {
    "collapsed": true
   },
   "outputs": [],
   "source": []
  },
  {
   "cell_type": "code",
   "execution_count": null,
   "metadata": {
    "collapsed": false
   },
   "outputs": [],
   "source": [
    "print np.random.normal(0,1,1)"
   ]
  },
  {
   "cell_type": "code",
   "execution_count": null,
   "metadata": {
    "collapsed": true
   },
   "outputs": [],
   "source": []
  }
 ],
 "metadata": {
  "kernelspec": {
   "display_name": "Python 2",
   "language": "python",
   "name": "python2"
  },
  "language_info": {
   "codemirror_mode": {
    "name": "ipython",
    "version": 2
   },
   "file_extension": ".py",
   "mimetype": "text/x-python",
   "name": "python",
   "nbconvert_exporter": "python",
   "pygments_lexer": "ipython2",
   "version": "2.7.13"
  }
 },
 "nbformat": 4,
 "nbformat_minor": 2
}
