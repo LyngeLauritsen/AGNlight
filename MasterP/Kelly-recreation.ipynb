{
 "cells": [
  {
   "cell_type": "code",
   "execution_count": 1,
   "metadata": {},
   "outputs": [],
   "source": [
    "import numpy as np\n",
    "import scipy as sc\n",
    "import matplotlib.pyplot as plt\n",
    "import random\n",
    "import math\n",
    "from scipy.optimize import minimize as mini\n",
    "from scipy.optimize import least_squares as ls\n",
    "from scipy.optimize import leastsq"
   ]
  },
  {
   "cell_type": "markdown",
   "metadata": {},
   "source": [
    "data = np.loadtxt('/home/lynge/MasterP/NOVEMBER/NOV-NGC3783-K')\n",
    "error = np.loadtxt('/home/lynge/MasterP/NOVEMBER/NGC3783_NOISE_K.txt')\n",
    "\n",
    "time1 = [1,2,3,4,5,6,7,8,9,10]\n",
    "flux1 = [1,2,5,7,3,1,4,6,7,3]\n",
    "sigma1 = [0.1,0.1,0.1,0.1,0.1,0.1,0.1,0.1,0.1,0.1]\n",
    "\n",
    "\n",
    "time1 = np.array(time1)\n",
    "flux1 = np.array(flux1)\n",
    "sigma1 = np.array(sigma1)\n",
    "\n",
    "time = np.insert(time1,0,0)\n",
    "sigma = np.insert(sigma1,0,np.mean(sigma1))\n",
    "flux = np.insert(flux1,0,np.mean(flux1))\n",
    "\n",
    "print time1\n",
    "print sigma1\n",
    "print flux1\n",
    "\n"
   ]
  },
  {
   "cell_type": "code",
   "execution_count": 2,
   "metadata": {},
   "outputs": [
    {
     "name": "stdout",
     "output_type": "stream",
     "text": [
      "yes\n",
      "yes\n",
      "yes\n",
      "yes 2\n",
      "yes\n",
      "yes 2\n",
      "yes 2\n",
      "yes 2\n",
      "yes 2\n",
      "yes\n"
     ]
    }
   ],
   "source": [
    "data = np.loadtxt('NOVEMBER/NOV-NGC3783-K')\n",
    "error = np.loadtxt('NOVEMBER/NGC3783_NOISE_K.txt')\n",
    "\n",
    "#print data[:,0]\n",
    "#print data[:,1]\n",
    "#print error[:,0]\n",
    "#print error[:,4]\n",
    "\n",
    "time2 = data[:,0]\n",
    "flux2 = data[:,1]\n",
    "sigma2 = error[:,1]\n",
    "\n",
    "time1 = []\n",
    "flux1 = []\n",
    "sigma1 = []\n",
    "\n",
    "for i in range(len(time2)):\n",
    "    if np.isnan(sigma2[i]):\n",
    "        print 'yes'\n",
    "    elif np.isnan(flux2[i]):\n",
    "        print 'yes 2'\n",
    "    else:\n",
    "        time1.append(time2[i])\n",
    "        flux1.append(flux2[i])\n",
    "        sigma1.append(sigma2[i])\n",
    "\n",
    "time1 = np.array(time1)\n",
    "flux1 = np.array(flux1)\n",
    "sigma1 = np.array(sigma1)\n",
    "\n",
    "time = np.insert(time1,0,0)\n",
    "sigma = np.insert(sigma1,0,np.mean(sigma1))\n",
    "flux = np.insert(flux1,0,np.mean(flux1))\n",
    "\n",
    "#print time1\n",
    "#print sigma1\n",
    "#print flux1"
   ]
  },
  {
   "cell_type": "code",
   "execution_count": 3,
   "metadata": {},
   "outputs": [
    {
     "data": {
      "image/png": "[encoded data removed]",
      "text/plain": [
       "<matplotlib.figure.Figure at 0x7f4a603f5510>"
      ]
     },
     "metadata": {},
     "output_type": "display_data"
    }
   ],
   "source": [
    "plt.figure()\n",
    "plt.errorbar(time1,flux1,yerr=sigma1,fmt='x')\n",
    "plt.show()"
   ]
  },
  {
   "cell_type": "code",
   "execution_count": 35,
   "metadata": {},
   "outputs": [
    {
     "name": "stdout",
     "output_type": "stream",
     "text": [
      "200.0\n"
     ]
    }
   ],
   "source": [
    "b = 8.*10**(-15)\n",
    "tau = 200.\n",
    "sigma_tot = 0.1 #2*10**(-16)\n",
    "\n",
    "param = [b,tau,sigma_tot]\n",
    "\n",
    "print param[1]"
   ]
  },
  {
   "cell_type": "code",
   "execution_count": 36,
   "metadata": {},
   "outputs": [],
   "source": [
    "'''x denotes the observed fluxes, and t the observation times, \n",
    "sigma is the error variances and p is the probability function'''\n",
    "\n",
    "def a_i(t2,t1,tau):\n",
    "    tau = float(tau)\n",
    "    return np.exp(-(t2-t1)/tau)\n",
    "\n",
    "def omega_0(tau,sigma_tot):\n",
    "    return 0.5*tau*sigma_tot**2\n",
    "\n",
    "def omega_i(omega_0,a_i,omega_before,sigma_before):\n",
    "    return omega_0*(1-a_i**2) + a_i**2*omega_before*(1 - omega_before/(omega_before + sigma_before**2))\n",
    "\n",
    "def x_hat_i(a_i,x_hat_before,omega_before,sigma_before,x_star_before):\n",
    "    return a_i*x_hat_before + a_i*omega_before/((omega_before + sigma_before**2))*(x_star_before - x_hat_before)\n",
    "\n",
    "def x_star_i(x_i,b,tau):\n",
    "    return x_i - b*tau\n"
   ]
  },
  {
   "cell_type": "code",
   "execution_count": 37,
   "metadata": {
    "collapsed": true
   },
   "outputs": [],
   "source": [
    "def dX(tau,sigma,dt,b,epsilon,X):\n",
    "    return - 1/tau*X*dt + sigma*np.sqrt(dt)*epsilon + b*dt"
   ]
  },
  {
   "cell_type": "code",
   "execution_count": 38,
   "metadata": {},
   "outputs": [],
   "source": [
    "def parameters(param):\n",
    "    x_hat = [0]\n",
    "    omega = [0.5*param[1]*param[2]**2]\n",
    "    x_star = [-param[0]*param[1]]\n",
    "    a = []\n",
    "    for i in range(len(flux1)):\n",
    "        a.append(a_i(time[i+1],time[i],param[1]))\n",
    "        x_hat.append(x_hat_i(a[i],x_hat[i],omega[i],sigma[i],x_star[i]))\n",
    "        omega.append(omega_i(omega_0(param[1],param[2]),a[i],omega[i],sigma[i]))\n",
    "        x_star.append(x_star_i(flux[i+1],param[0],param[1]))\n",
    "    return x_hat,omega,x_star,a\n"
   ]
  },
  {
   "cell_type": "code",
   "execution_count": 39,
   "metadata": {},
   "outputs": [],
   "source": [
    "def prob(param):\n",
    "    x_hat,omega,x_star,a = parameters(param)\n",
    "    probability = 1\n",
    "    for i in range(len(a)):\n",
    "        #print omega[i+1],sigma[i+1],x_hat[i+1],x_star[i+1],a[i]\n",
    "        part = (2*np.pi*(omega[i+1] + sigma[i+1]**2))**(-1/2.)\\\n",
    "        *np.exp(-(1/2.)*(x_hat[i+1] - x_star[i+1])/(omega[i+1] + sigma[i+1]**2))\n",
    "        #print part,sigma1[i]\n",
    "        probability *= part\n",
    "    return -probability"
   ]
  },
  {
   "cell_type": "code",
   "execution_count": 40,
   "metadata": {},
   "outputs": [
    {
     "name": "stdout",
     "output_type": "stream",
     "text": [
      "-199.799663762\n"
     ]
    }
   ],
   "source": [
    "print prob(param)"
   ]
  },
  {
   "cell_type": "code",
   "execution_count": 41,
   "metadata": {
    "scrolled": false
   },
   "outputs": [
    {
     "name": "stdout",
     "output_type": "stream",
     "text": [
      "[ -6.40009060e-15   1.44617141e+03   1.74942211e-08]\n",
      "8.17729033049e-15\n"
     ]
    },
    {
     "name": "stderr",
     "output_type": "stream",
     "text": [
      "/home/lynge/anaconda2/lib/python2.7/site-packages/ipykernel_launcher.py:8: RuntimeWarning: overflow encountered in double_scalars\n",
      "  \n",
      "/home/lynge/anaconda2/lib/python2.7/site-packages/ipykernel_launcher.py:6: RuntimeWarning: overflow encountered in exp\n",
      "  \n"
     ]
    }
   ],
   "source": [
    "res = mini(prob,param,method='Nelder-Mead',tol=1e-18)\n",
    "print res.x\n",
    "\n",
    "print np.mean(flux)"
   ]
  },
  {
   "cell_type": "code",
   "execution_count": 42,
   "metadata": {},
   "outputs": [],
   "source": [
    "b = res.x[0]\n",
    "tau = res.x[1]\n",
    "sigma_tot = res.x[2]"
   ]
  },
  {
   "cell_type": "code",
   "execution_count": 54,
   "metadata": {},
   "outputs": [],
   "source": [
    "def dX(tau,sigma,dt,b,epsilon,X):\n",
    "    return -(1/tau)*X*dt + sigma*np.sqrt(dt)*epsilon + b"
   ]
  },
  {
   "cell_type": "code",
   "execution_count": 55,
   "metadata": {},
   "outputs": [
    {
     "name": "stdout",
     "output_type": "stream",
     "text": [
      "[  6.53724662e-15   6.71527344e-15   6.60099894e-15   6.37713900e-15\n",
      "   6.66855803e-15   6.67181077e-15   6.40972481e-15   6.56864377e-15\n",
      "   6.57594350e-15   6.74248785e-15   7.06941435e-15   7.16508274e-15\n",
      "   7.60092634e-15   7.60039417e-15   8.05099584e-15   8.21301406e-15\n",
      "   8.22193811e-15   8.25153761e-15   8.38115563e-15   9.19988661e-15\n",
      "   9.20615762e-15   9.29548448e-15   9.44518380e-15   9.50857590e-15\n",
      "   9.73722913e-15   9.80940383e-15   9.78447827e-15   9.85013975e-15\n",
      "   9.76320384e-15   9.45886211e-15   9.26290708e-15   9.16831540e-15\n",
      "   9.11523113e-15   9.00052668e-15]\n",
      "[6.5372466192675096e-15, 1.2872328454398848e-14, 1.919482315638248e-14, 2.5564046070394745e-14, 3.1927247229690837e-14, 3.8295043824900357e-14, 4.4633083596958798e-14, 5.0965042824942708e-14, 5.693315517646755e-14, 6.3295947366829734e-14, 6.9608047399377391e-14, 7.5973456376816463e-14, 8.2294708547044487e-14, 8.8652754929965266e-14, 9.4969338882690941e-14, 1.0124448834970097e-13, 1.0759909644530035e-13, 1.139592465812624e-13, 1.2026661063568166e-13, 1.2627864691790077e-13, 1.3262144457785953e-13, 1.3897654162761043e-13, 1.4531785174868382e-13, 1.5167191735739875e-13, 1.580181430923847e-13, 1.6437075258340901e-13, 1.7071671694347367e-13, 1.7700782860374699e-13, 1.8336066171974474e-13, 1.8911323065307608e-13, 1.9546848538929111e-13, 2.0181785826837695e-13, 2.0816122179591145e-13, 2.1451774655177293e-13]\n"
     ]
    }
   ],
   "source": [
    "flux_model = [flux1[0]]\n",
    "print flux1\n",
    "\n",
    "flux_test = flux1[0]\n",
    "for i in range(len(flux1)-1):\n",
    "    dt = (time1[i+1]-time1[i])\n",
    "    epsilon = sigma[i]\n",
    "    change = dX(tau,sigma_tot,dt,b,epsilon,flux1[i+1]) #flux1[i+1] - flux1[i]\n",
    "    #print change,flux1[i+1]\n",
    "    flux_model.append(flux_model[i] + change) # - flux_test)\n",
    "    flux_test = flux_model[i+1]\n",
    "print flux_model\n"
   ]
  },
  {
   "cell_type": "code",
   "execution_count": 56,
   "metadata": {},
   "outputs": [
    {
     "data": {
      "image/png": "[encoded data removed]",
      "text/plain": [
       "<matplotlib.figure.Figure at 0x7f4a5dc55810>"
      ]
     },
     "metadata": {},
     "output_type": "display_data"
    }
   ],
   "source": [
    "plt.figure()\n",
    "plt.errorbar(time1,flux1,yerr=sigma1,fmt='x')\n",
    "plt.plot(time1,flux_model)\n",
    "plt.show()"
   ]
  },
  {
   "cell_type": "code",
   "execution_count": null,
   "metadata": {
    "collapsed": true
   },
   "outputs": [],
   "source": []
  },
  {
   "cell_type": "code",
   "execution_count": null,
   "metadata": {
    "collapsed": true
   },
   "outputs": [],
   "source": []
  }
 ],
 "metadata": {
  "kernelspec": {
   "display_name": "Python 2",
   "language": "python",
   "name": "python2"
  },
  "language_info": {
   "codemirror_mode": {
    "name": "ipython",
    "version": 2
   },
   "file_extension": ".py",
   "mimetype": "text/x-python",
   "name": "python",
   "nbconvert_exporter": "python",
   "pygments_lexer": "ipython2",
   "version": "2.7.13"
  }
 },
 "nbformat": 4,
 "nbformat_minor": 2
}
