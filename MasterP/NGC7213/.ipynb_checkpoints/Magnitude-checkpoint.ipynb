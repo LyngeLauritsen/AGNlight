{
 "cells": [
  {
   "cell_type": "code",
   "execution_count": 52,
   "metadata": {},
   "outputs": [],
   "source": [
    "import numpy as np\n",
    "import scipy as sp\n",
    "import matplotlib\n",
    "import matplotlib.pyplot as plt\n",
    "%matplotlib inline\n",
    "from matplotlib.colors import LogNorm\n",
    "import scipy.stats as stats\n",
    "from matplotlib import gridspec\n",
    "import aplpy as apl #The Astronomy Plotting Library for python\n",
    "import astropy\n",
    "from astropy.stats import sigma_clip\n",
    "from astropy.modeling import functional_models, models, fitting\n",
    "import astropy.units as U\n",
    "from astropy.coordinates import ICRS, Galactic, FK4, FK5, Angle, Latitude, Longitude\n",
    "import astropy.constants as C\n",
    "from astropy import wcs\n",
    "import astropy.io.fits as fits\n",
    "from astropy.io import ascii\n",
    "import astropy.coordinates as coord\n",
    "from astropy.coordinates import SkyCoord\n",
    "from astropy.stats import signal_to_noise_oir_ccd as SNRas\n",
    "#import spectral_cube as SC\n",
    "#from spectral_cube import SpectralCube as sc\n",
    "from astropy.wcs import WCS\n",
    "matplotlib.use('Agg')\n",
    "import matplotlib.cm as cm\n",
    "#import astrometry as ast\n",
    "import pyfits\n",
    "import requests\n",
    "import json\n",
    "import os\n",
    "from sklearn import datasets, linear_model\n",
    "from scipy.optimize import curve_fit\n",
    "import numpy.ma as ma\n",
    "from astropy.table import Table, Column\n",
    "import pyextract\n",
    "import sewpy\n",
    "import pandas as pd\n",
    "from astropy import units as u"
   ]
  },
  {
   "cell_type": "code",
   "execution_count": 53,
   "metadata": {
    "collapsed": true,
    "scrolled": false
   },
   "outputs": [],
   "source": [
    "sta1_RA_WORLD = SkyCoord('22:08:51.993  -47:10:28.64', unit=(u.hourangle, u.deg)).ra.degree #UCAC3 86-422902\n",
    "sta1_DEC_WORLD = SkyCoord('22:08:51.993  -47:10:28.64', unit=(u.hourangle, u.deg)).dec.degree\n",
    "\n",
    "sta2_RA_WORLD = SkyCoord('22:08:51.908  -47:07:20.88', unit=(u.hourangle, u.deg)).ra.degree #TYC 8438-1960-1\n",
    "sta2_DEC_WORLD = SkyCoord('22:08:51.908  -47:07:20.88', unit=(u.hourangle, u.deg)).dec.degree\n",
    "\n",
    "sta3_RA_WORLD = float('nan') #SkyCoord('05:58:11.342 -38:18:29.98', unit=(u.hourangle, u.deg)).ra.degree\n",
    "sta3_DEC_WORLD = float('nan') #SkyCoord('05:58:11.342 -38:18:29.98', unit=(u.hourangle, u.deg)).dec.degree\n",
    "\n",
    "\n",
    "k_g = 0.16\n",
    "k_r = 0.08\n",
    "k_i = 0.02\n",
    "k_z = 0.01\n",
    "\n",
    "mag_refsta1_g = 13.291\n",
    "mag_refsta1_r = 12.843\n",
    "mag_refsta1_i = 12.668\n",
    "mag_refsta1_z = 12.593\n",
    "\n",
    "mag_refsta2_g = 13.291\n",
    "mag_refsta2_r = 12.843\n",
    "mag_refsta2_i = 12.668\n",
    "mag_refsta2_z = 12.593\n",
    "\n",
    "#mag_refsta2_g = 11.689\n",
    "#mag_refsta2_r = 11.491\n",
    "#mag_refsta2_i = 11.465\n",
    "#mag_refsta2_z = 11.500\n",
    "\n",
    "refsta1_RA = SkyCoord('00:24:28 07:49:00', unit=(u.hourangle, u.deg)).ra.degree #P525_E_21_10_17\n",
    "refsta1_DEC = SkyCoord('00:24:28 07:49:00', unit=(u.hourangle, u.deg)).dec.degree \n",
    "\n",
    "refsta2_RA = SkyCoord('00:24:28 07:49:00', unit=(u.hourangle, u.deg)).ra.degree #P525_E_21_10_17\n",
    "refsta2_DEC = SkyCoord('00:24:28 07:49:00', unit=(u.hourangle, u.deg)).dec.degree \n",
    "\n",
    "#refsta2_RA = SkyCoord('00:55:10 00:42:41', unit=(u.hourangle, u.deg)).ra.degree #PG1323_086_10_07_17\n",
    "#refsta2_DEC = SkyCoord('00:55:10 00:42:41', unit=(u.hourangle, u.deg)).dec.degree "
   ]
  },
  {
   "cell_type": "code",
   "execution_count": 54,
   "metadata": {},
   "outputs": [],
   "source": [
    "QUASAR1_g = [os.path.join('/media/lynge/Lynge-Back-up/Calibration/18-11-17-NGC7213/g',f) \\\n",
    "        for f in os.listdir('/media/lynge/Lynge-Back-up/Calibration/18-11-17-NGC7213/g')]\n",
    "\n",
    "QUASAR2_g = [os.path.join('/media/lynge/Lynge-Back-up/Calibration/07-12-17-NGC7213/g',f) \\\n",
    "        for f in os.listdir('/media/lynge/Lynge-Back-up/Calibration/07-12-17-NGC7213/g')]\n",
    "\n",
    "refsta1_g = [os.path.join('/media/lynge/Lynge-Back-up/Calibration/18-11-17-P525-E/g',f) \\\n",
    "        for f in os.listdir('/media/lynge/Lynge-Back-up/Calibration/18-11-17-P525-E/g')]\n",
    "\n",
    "refsta2_g = [os.path.join('/media/lynge/Lynge-Back-up/Calibration/07-12-17-P525-E/g',f) \\\n",
    "        for f in os.listdir('/media/lynge/Lynge-Back-up/Calibration/07-12-17-P525-E/g')]"
   ]
  },
  {
   "cell_type": "code",
   "execution_count": 55,
   "metadata": {
    "collapsed": true
   },
   "outputs": [],
   "source": [
    "QUASAR1_r = [os.path.join('/media/lynge/Lynge-Back-up/Calibration/18-11-17-NGC7213/r',f) \\\n",
    "        for f in os.listdir('/media/lynge/Lynge-Back-up/Calibration/18-11-17-NGC7213/r')]\n",
    "\n",
    "QUASAR2_r = [os.path.join('/media/lynge/Lynge-Back-up/Calibration/07-12-17-NGC7213/r',f) \\\n",
    "        for f in os.listdir('/media/lynge/Lynge-Back-up/Calibration/07-12-17-NGC7213/r')]\n",
    "\n",
    "refsta1_r = [os.path.join('/media/lynge/Lynge-Back-up/Calibration/18-11-17-P525-E/r',f) \\\n",
    "        for f in os.listdir('/media/lynge/Lynge-Back-up/Calibration/18-11-17-P525-E/r')]\n",
    "\n",
    "refsta2_r = [os.path.join('/media/lynge/Lynge-Back-up/Calibration/07-12-17-P525-E/r',f) \\\n",
    "        for f in os.listdir('/media/lynge/Lynge-Back-up/Calibration/07-12-17-P525-E/r')]"
   ]
  },
  {
   "cell_type": "code",
   "execution_count": 56,
   "metadata": {
    "collapsed": true
   },
   "outputs": [],
   "source": [
    "QUASAR1_i = [os.path.join('/media/lynge/Lynge-Back-up/Calibration/18-11-17-NGC7213/i',f) \\\n",
    "        for f in os.listdir('/media/lynge/Lynge-Back-up/Calibration/18-11-17-NGC7213/i')]\n",
    "\n",
    "QUASAR2_i = [os.path.join('/media/lynge/Lynge-Back-up/Calibration/07-12-17-NGC7213/i',f) \\\n",
    "        for f in os.listdir('/media/lynge/Lynge-Back-up/Calibration/07-12-17-NGC7213/i')]\n",
    "\n",
    "refsta1_i = [os.path.join('/media/lynge/Lynge-Back-up/Calibration/18-11-17-P525-E/i',f) \\\n",
    "        for f in os.listdir('/media/lynge/Lynge-Back-up/Calibration/18-11-17-P525-E/i')]\n",
    "\n",
    "refsta2_i = [os.path.join('/media/lynge/Lynge-Back-up/Calibration/07-12-17-P525-E/i',f) \\\n",
    "        for f in os.listdir('/media/lynge/Lynge-Back-up/Calibration/07-12-17-P525-E/i')]"
   ]
  },
  {
   "cell_type": "code",
   "execution_count": 57,
   "metadata": {},
   "outputs": [],
   "source": [
    "QUASAR1_z = [os.path.join('/media/lynge/Lynge-Back-up/Calibration/18-11-17-NGC7213/z',f) \\\n",
    "        for f in os.listdir('/media/lynge/Lynge-Back-up/Calibration/18-11-17-NGC7213/z')]\n",
    "\n",
    "QUASAR2_z = [os.path.join('/media/lynge/Lynge-Back-up/Calibration/07-12-17-NGC7213/z',f) \\\n",
    "        for f in os.listdir('/media/lynge/Lynge-Back-up/Calibration/07-12-17-NGC7213/z')]\n",
    "\n",
    "refsta1_z = [os.path.join('/media/lynge/Lynge-Back-up/Calibration/18-11-17-P525-E/z',f) \\\n",
    "        for f in os.listdir('/media/lynge/Lynge-Back-up/Calibration/18-11-17-P525-E/z')]\n",
    "\n",
    "refsta2_z = [os.path.join('/media/lynge/Lynge-Back-up/Calibration/07-12-17-P525-E/z',f) \\\n",
    "        for f in os.listdir('/media/lynge/Lynge-Back-up/Calibration/07-12-17-P525-E/z')]"
   ]
  },
  {
   "cell_type": "code",
   "execution_count": 58,
   "metadata": {
    "collapsed": true
   },
   "outputs": [],
   "source": [
    "def dist(mid,end):\n",
    "    return np.sqrt((mid[0] - end[0])**2 + (mid[1] - end[1])**2)"
   ]
  },
  {
   "cell_type": "code",
   "execution_count": 59,
   "metadata": {
    "collapsed": true
   },
   "outputs": [],
   "source": [
    "def flux_cal(A_mag,B_mag,B_flux):\n",
    "    '''Flux of A found through magnitude and flux of B'''\n",
    "    return B_flux*10**((B_mag-A_mag)/2.5)"
   ]
  },
  {
   "cell_type": "code",
   "execution_count": 60,
   "metadata": {
    "collapsed": true
   },
   "outputs": [],
   "source": [
    "def Basic(quasar,header):\n",
    "    '''Provides a basic list of neccesities from the fits header file for use in the later \\\n",
    "    flux determination, it does not serve an individual purpose beyound that'''\n",
    "    AGNdata = quasar #np.rot90(np.rot90(np.fliplr(quasar)))\n",
    "    #header = data[0].header\n",
    "    #print header\n",
    "    RAstd = header['CRVAL1']\n",
    "    DECstd = header['CRVAL2']\n",
    "    #print RAstd, DECstd\n",
    "    pixspa = header['PIXSCALE']/(3600.)\n",
    "    #print pixspa\n",
    "    RAstdpix = header['CRPIX1']\n",
    "    DECstdpix = header['CRPIX2']\n",
    "    exptime = 10 # header['EXPTIME']\n",
    "    return header,AGNdata,RAstd,DECstd,pixspa,RAstdpix,DECstdpix,exptime"
   ]
  },
  {
   "cell_type": "code",
   "execution_count": 61,
   "metadata": {
    "collapsed": true
   },
   "outputs": [],
   "source": [
    "def curve(quasar,header,w,center,apparature):\n",
    "    '''Determines the FLUX of the stellar object given the the numpy array of the image, \\\n",
    "    the header of the fits file, the astropy coordinate representation, \\\n",
    "    the object position and the apparature of interest'''\n",
    "    header,AGNdata,RAstd,DECstd,pixspa,RAstdpix,DECstdpix,exptime = Basic(quasar,header)\n",
    "    #AGNdata = np.swapaxes(AGNdata,0,1)\n",
    "    y, x = np.ogrid[0:header['NAXIS1'],0:header['NAXIS1']]\n",
    "    #w = np.swapaxes(w,0,1)\n",
    "    #F_AGN = np.zeros((512,512,3)) #((int(2*apparature/pixspa)+1,int(2*apparature/pixspa)+1,3))\n",
    "    #print center\n",
    "    x1 = w.all_world2pix(center[0],center[1],0)\n",
    "    x1,y1 = (x1[0]),(x1[1])\n",
    "    try:\n",
    "        mask = ((y-y1)**2 + (x-x1)**2) > (apparature/float(pixspa))**2\n",
    "        AGNdata[mask] = float(0)\n",
    "        mask = AGNdata == 0.\n",
    "        rows = np.flatnonzero((~mask).sum(axis=1))\n",
    "        cols = np.flatnonzero((~mask).sum(axis=0))\n",
    "        AGNdata = AGNdata[rows.min():rows.max()+1, cols.min():cols.max()+1]\n",
    "        #print apparature/float(pixspa)\n",
    "    except:\n",
    "        AGNdata = np.array([[float('nan'),float('nan')],[float('nan'),float('nan')]])\n",
    "    #if np.sum(AGNdata) < 500:\n",
    "    #    AGNdata = np.array([[float('nan'),float('nan')],[float('nan'),float('nan')]])\n",
    "    return AGNdata/float(exptime), x1, y1\n"
   ]
  },
  {
   "cell_type": "code",
   "execution_count": 62,
   "metadata": {
    "collapsed": true
   },
   "outputs": [],
   "source": [
    "def comp1(qua,sta):\n",
    "    '''Code to determine the relation between the AGN and the Stellar flux as determined by either me \\\n",
    "    or by the SExtractor program respectively'''\n",
    "    comp = qua/sta\n",
    "    return comp"
   ]
  },
  {
   "cell_type": "code",
   "execution_count": 63,
   "metadata": {
    "collapsed": true
   },
   "outputs": [],
   "source": [
    "def SNR(data1,data2,header,ap1,ap2):\n",
    "    npix1 = np.pi*ap1**2/((header['PIXSCALE']/3600.)**2)\n",
    "    npix2 = np.pi*ap2**2/((header['PIXSCALE']/3600.)**2)\n",
    "    #data2_1 = ((data2-data1)/npix2)*npix1\n",
    "    data1_2 = data1/10.\n",
    "    data2_2 = data2/10.\n",
    "    return SNRas(10.,data1_2,abs(data2_2),0,header['RON'],npix1,gain=header['GAIN'])"
   ]
  },
  {
   "cell_type": "code",
   "execution_count": 64,
   "metadata": {
    "collapsed": true
   },
   "outputs": [],
   "source": [
    "def SXtable(quas,aperture):\n",
    "    header = pyfits.getheader(quas)\n",
    "    phot_app = aperture*3600/header['PIXSCALE']\n",
    "    np.set_printoptions(threshold=np.inf)\n",
    "    sew = sewpy.SEW(params=['XMODEL_WORLD', 'YMODEL_WORLD', 'X2MODEL_WORLD', 'Y2MODEL_WORLD', \n",
    "                            'XMODEL_IMAGE', 'YMODEL_IMAGE', 'FLUX_RADIUS(1)', 'FLUX_APER','ELLIPTICITY'],\n",
    "                    config={\"DETECT_THRESH\":5, 'DETECT_MINAREA':20, 'DETECT_MAXAREA':30000, \n",
    "                            \"PHOT_FLUXFRAC\":\"0.5\", 'PHOT_APERTURES':2*phot_app, \n",
    "                            'PIXEL_SCALE':header['PIXSCALE']}\n",
    "                    , sexpath='/usr/bin/sextractor')\n",
    "    out = sew(quas)\n",
    "    return out"
   ]
  },
  {
   "cell_type": "code",
   "execution_count": 65,
   "metadata": {
    "collapsed": true
   },
   "outputs": [],
   "source": [
    "def flux(quas,aperture,main_RA_WORLD,main_DEC_WORLD):\n",
    "    header = pyfits.getheader(quas)\n",
    "    RAmain = WCS(quas).all_world2pix(main_RA_WORLD,main_DEC_WORLD,1)[0]\n",
    "    DECmain = WCS(quas).all_world2pix(main_RA_WORLD,main_DEC_WORLD,1)[1]\n",
    "    output = float('nan')\n",
    "    if 15 < RAmain < header['NAXIS1'] - 15 and 15 < DECmain < header['NAXIS2'] - 15: \n",
    "        out = SXtable(quas,aperture)\n",
    "        #print out['table']['XMODEL_IMAGE']\n",
    "        #print RAmain\n",
    "        RAmain = WCS(quas).all_world2pix(main_RA_WORLD,main_DEC_WORLD,0)[0]\n",
    "        DECmain = WCS(quas).all_world2pix(main_RA_WORLD,main_DEC_WORLD,0)[1]\n",
    "        #print out['table']['XMODEL_IMAGE'], out['table']['YMODEL_IMAGE']\n",
    "        #print RAmain, DECmain\n",
    "\n",
    "        for j in range(len(out['table']['XMODEL_IMAGE'])):\n",
    "            #output['time'][i] = header['MJD-OBS']\n",
    "            if RAmain - 20. < out['table']['XMODEL_IMAGE'][j] <  RAmain + 20. and \\\n",
    "            DECmain - 20. < out['table']['YMODEL_IMAGE'][j] < DECmain + 20.:\n",
    "                #print 'YES'\n",
    "                output = out['table']['FLUX_APER'][j]\n",
    "                break\n",
    "    else:\n",
    "        output = float('nan')\n",
    "        #print 'Done'\n",
    "    return output\n"
   ]
  },
  {
   "cell_type": "code",
   "execution_count": 66,
   "metadata": {
    "collapsed": true,
    "scrolled": false
   },
   "outputs": [],
   "source": [
    "def findmag(start,compare1,RA_star,DEC_star,RA_com,DEC_com,mag_com,AIR_EXTINCTION):\n",
    "    aperture1 = 0.001\n",
    "    #201.5441,-8.8601\n",
    "    com_flu = []\n",
    "    com_AIRMASS = []\n",
    "    com_EXPTIME = []\n",
    "    star_flu = []\n",
    "    star_AIRMASS = []\n",
    "    star_EXPTIME = []\n",
    "    for i in range(len(compare1)):\n",
    "        print 'Frame nr. ', i, compare1[i]\n",
    "        header = pyfits.getheader(compare1[i])\n",
    "        a1 = flux(compare1[i],2*aperture1,RA_com,DEC_com)/header['EXPTIME']\n",
    "        if a1 > 0:\n",
    "            #print a1\n",
    "            com_flu.append(a1), com_AIRMASS.append(header['AIRMASS']*AIR_EXTINCTION), com_EXPTIME.append(header['EXPTIME'])\n",
    "        else:\n",
    "            print a1\n",
    "            com_flu.append(float('nan')), com_AIRMASS.append(float('nan')), com_EXPTIME.append(header['EXPTIME'])\n",
    "        #plt.figure(figsize=(3,3))\n",
    "        #plt.imshow(a1,cmap='hot')\n",
    "        #plt.colorbar()\n",
    "    for i in range(len(start)):\n",
    "        print 'Frame nr. ', i, start[i]\n",
    "        header = pyfits.getheader(start[i])\n",
    "        a1 = flux(start[i],2*aperture1,RA_star,DEC_star)/header['EXPTIME']\n",
    "        if a1 > 0:\n",
    "            #print a1\n",
    "            star_flu.append(a1), star_AIRMASS.append(header['AIRMASS']*AIR_EXTINCTION), star_EXPTIME.append(header['EXPTIME'])\n",
    "        else:\n",
    "            star_flu.append(float('nan')), star_AIRMASS.append(float('nan')), star_EXPTIME.append(header['EXPTIME'])\n",
    "        #plt.figure(figsize=(3,3))\n",
    "        #plt.imshow(a1,cmap='hot')\n",
    "        #plt.colorbar()\n",
    "    com_flu = np.array(com_flu)\n",
    "    com_AIRMASS = np.array(com_AIRMASS)\n",
    "    com_EXPTIME = np.array(com_EXPTIME)\n",
    "    star_flu = np.array(star_flu)\n",
    "    star_AIRMASS = np.array(star_AIRMASS)\n",
    "    star_EXPTIME = np.array(star_EXPTIME)\n",
    "    com_flu = com_flu/com_EXPTIME\n",
    "    star_flu = star_flu/star_EXPTIME\n",
    "    com_flux = np.nanmean(com_flu)\n",
    "    com_AIRMASS_num = np.nanmean(com_AIRMASS)\n",
    "    star_AIRMASS_num = np.nanmean(star_AIRMASS)\n",
    "    mag = -(star_AIRMASS_num-com_AIRMASS_num) + mag_com - 2.5*np.log10(star_flu/float(com_flux))\n",
    "    print mag\n",
    "    return mag"
   ]
  },
  {
   "cell_type": "code",
   "execution_count": 67,
   "metadata": {
    "scrolled": true
   },
   "outputs": [
    {
     "name": "stdout",
     "output_type": "stream",
     "text": [
      "Frame nr.  0 /media/lynge/Lynge-Back-up/Calibration/18-11-17-P525-E/g/IMG2017320URh017.fits\n",
      "Frame nr.  1 /media/lynge/Lynge-Back-up/Calibration/18-11-17-P525-E/g/IMG2017320URh018.fits\n",
      "Frame nr.  2 /media/lynge/Lynge-Back-up/Calibration/18-11-17-P525-E/g/IMG2017320URh021.fits\n",
      "Frame nr.  3 /media/lynge/Lynge-Back-up/Calibration/18-11-17-P525-E/g/IMG2017320URh022.fits\n",
      "Frame nr.  4 /media/lynge/Lynge-Back-up/Calibration/18-11-17-P525-E/g/IMG2017320URs019.fits\n",
      "Frame nr.  5 /media/lynge/Lynge-Back-up/Calibration/18-11-17-P525-E/g/IMG2017320URs020.fits\n",
      "Frame nr.  6 /media/lynge/Lynge-Back-up/Calibration/18-11-17-P525-E/g/IMG2017320URs023.fits\n",
      "Frame nr.  7 /media/lynge/Lynge-Back-up/Calibration/18-11-17-P525-E/g/IMG2017320URs024.fits\n",
      "Frame nr.  0 /media/lynge/Lynge-Back-up/Calibration/18-11-17-NGC7213/g/IMG2017320URs066.fits\n",
      "Frame nr.  1 /media/lynge/Lynge-Back-up/Calibration/18-11-17-NGC7213/g/IMG2017320URs067.fits\n",
      "Frame nr.  2 /media/lynge/Lynge-Back-up/Calibration/18-11-17-NGC7213/g/IMG2017320URs068.fits\n",
      "[ 14.08768321  14.08908842  14.09653833]\n",
      "Frame nr.  0 /media/lynge/Lynge-Back-up/Calibration/18-11-17-P525-E/g/IMG2017320URh017.fits\n",
      "Frame nr.  1 /media/lynge/Lynge-Back-up/Calibration/18-11-17-P525-E/g/IMG2017320URh018.fits\n",
      "Frame nr.  2 /media/lynge/Lynge-Back-up/Calibration/18-11-17-P525-E/g/IMG2017320URh021.fits\n",
      "Frame nr.  3 /media/lynge/Lynge-Back-up/Calibration/18-11-17-P525-E/g/IMG2017320URh022.fits\n",
      "Frame nr.  4 /media/lynge/Lynge-Back-up/Calibration/18-11-17-P525-E/g/IMG2017320URs019.fits\n",
      "Frame nr.  5 /media/lynge/Lynge-Back-up/Calibration/18-11-17-P525-E/g/IMG2017320URs020.fits\n",
      "Frame nr.  6 /media/lynge/Lynge-Back-up/Calibration/18-11-17-P525-E/g/IMG2017320URs023.fits\n",
      "Frame nr.  7 /media/lynge/Lynge-Back-up/Calibration/18-11-17-P525-E/g/IMG2017320URs024.fits\n",
      "Frame nr.  0 /media/lynge/Lynge-Back-up/Calibration/18-11-17-NGC7213/g/IMG2017320URs066.fits\n",
      "Frame nr.  1 /media/lynge/Lynge-Back-up/Calibration/18-11-17-NGC7213/g/IMG2017320URs067.fits\n",
      "Frame nr.  2 /media/lynge/Lynge-Back-up/Calibration/18-11-17-NGC7213/g/IMG2017320URs068.fits\n",
      "[ 14.17340817  14.15776288  14.17618919]\n",
      "Frame nr.  0 /media/lynge/Lynge-Back-up/Calibration/18-11-17-P525-E/g/IMG2017320URh017.fits\n",
      "Frame nr.  1 /media/lynge/Lynge-Back-up/Calibration/18-11-17-P525-E/g/IMG2017320URh018.fits\n",
      "Frame nr.  2 /media/lynge/Lynge-Back-up/Calibration/18-11-17-P525-E/g/IMG2017320URh021.fits\n",
      "Frame nr.  3 /media/lynge/Lynge-Back-up/Calibration/18-11-17-P525-E/g/IMG2017320URh022.fits\n",
      "Frame nr.  4 /media/lynge/Lynge-Back-up/Calibration/18-11-17-P525-E/g/IMG2017320URs019.fits\n",
      "Frame nr.  5 /media/lynge/Lynge-Back-up/Calibration/18-11-17-P525-E/g/IMG2017320URs020.fits\n",
      "Frame nr.  6 /media/lynge/Lynge-Back-up/Calibration/18-11-17-P525-E/g/IMG2017320URs023.fits\n",
      "Frame nr.  7 /media/lynge/Lynge-Back-up/Calibration/18-11-17-P525-E/g/IMG2017320URs024.fits\n",
      "Frame nr.  0 /media/lynge/Lynge-Back-up/Calibration/18-11-17-NGC7213/g/IMG2017320URs066.fits\n",
      "Frame nr.  1 /media/lynge/Lynge-Back-up/Calibration/18-11-17-NGC7213/g/IMG2017320URs067.fits\n",
      "Frame nr.  2 /media/lynge/Lynge-Back-up/Calibration/18-11-17-NGC7213/g/IMG2017320URs068.fits\n"
     ]
    },
    {
     "name": "stderr",
     "output_type": "stream",
     "text": [
      "/home/lynge/anaconda2/lib/python2.7/site-packages/ipykernel_launcher.py:45: RuntimeWarning: Mean of empty slice\n"
     ]
    },
    {
     "name": "stdout",
     "output_type": "stream",
     "text": [
      "[ nan  nan  nan]\n",
      "Frame nr.  0 /media/lynge/Lynge-Back-up/Calibration/07-12-17-P525-E/g/IMG2017339URh044.fits\n",
      "Frame nr.  1 /media/lynge/Lynge-Back-up/Calibration/07-12-17-P525-E/g/IMG2017339URh045.fits\n",
      "Frame nr.  2 /media/lynge/Lynge-Back-up/Calibration/07-12-17-P525-E/g/IMG2017339URh048.fits\n",
      "Frame nr.  3 /media/lynge/Lynge-Back-up/Calibration/07-12-17-P525-E/g/IMG2017339URh049.fits\n",
      "Frame nr.  4 /media/lynge/Lynge-Back-up/Calibration/07-12-17-P525-E/g/IMG2017339URs046.fits\n",
      "Frame nr.  5 /media/lynge/Lynge-Back-up/Calibration/07-12-17-P525-E/g/IMG2017339URs047.fits\n",
      "Frame nr.  6 /media/lynge/Lynge-Back-up/Calibration/07-12-17-P525-E/g/IMG2017339URs050.fits\n",
      "nan\n",
      "Frame nr.  7 /media/lynge/Lynge-Back-up/Calibration/07-12-17-P525-E/g/IMG2017339URs051.fits\n",
      "nan\n",
      "Frame nr.  0 /media/lynge/Lynge-Back-up/Calibration/07-12-17-NGC7213/g/IMG2017339URs052.fits\n",
      "Frame nr.  1 /media/lynge/Lynge-Back-up/Calibration/07-12-17-NGC7213/g/IMG2017339URs053.fits\n",
      "Frame nr.  2 /media/lynge/Lynge-Back-up/Calibration/07-12-17-NGC7213/g/IMG2017339URs054.fits\n",
      "[ 13.88466687  13.90292913  13.90947879]\n",
      "Frame nr.  0 /media/lynge/Lynge-Back-up/Calibration/07-12-17-P525-E/g/IMG2017339URh044.fits\n",
      "Frame nr.  1 /media/lynge/Lynge-Back-up/Calibration/07-12-17-P525-E/g/IMG2017339URh045.fits\n",
      "Frame nr.  2 /media/lynge/Lynge-Back-up/Calibration/07-12-17-P525-E/g/IMG2017339URh048.fits\n",
      "Frame nr.  3 /media/lynge/Lynge-Back-up/Calibration/07-12-17-P525-E/g/IMG2017339URh049.fits\n",
      "Frame nr.  4 /media/lynge/Lynge-Back-up/Calibration/07-12-17-P525-E/g/IMG2017339URs046.fits\n",
      "Frame nr.  5 /media/lynge/Lynge-Back-up/Calibration/07-12-17-P525-E/g/IMG2017339URs047.fits\n",
      "Frame nr.  6 /media/lynge/Lynge-Back-up/Calibration/07-12-17-P525-E/g/IMG2017339URs050.fits\n",
      "nan\n",
      "Frame nr.  7 /media/lynge/Lynge-Back-up/Calibration/07-12-17-P525-E/g/IMG2017339URs051.fits\n",
      "nan\n",
      "Frame nr.  0 /media/lynge/Lynge-Back-up/Calibration/07-12-17-NGC7213/g/IMG2017339URs052.fits\n",
      "Frame nr.  1 /media/lynge/Lynge-Back-up/Calibration/07-12-17-NGC7213/g/IMG2017339URs053.fits\n",
      "Frame nr.  2 /media/lynge/Lynge-Back-up/Calibration/07-12-17-NGC7213/g/IMG2017339URs054.fits\n",
      "[ 14.00937512  14.00623135  14.01380199]\n",
      "Frame nr.  0 /media/lynge/Lynge-Back-up/Calibration/07-12-17-P525-E/g/IMG2017339URh044.fits\n",
      "Frame nr.  1 /media/lynge/Lynge-Back-up/Calibration/07-12-17-P525-E/g/IMG2017339URh045.fits\n",
      "Frame nr.  2 /media/lynge/Lynge-Back-up/Calibration/07-12-17-P525-E/g/IMG2017339URh048.fits\n",
      "Frame nr.  3 /media/lynge/Lynge-Back-up/Calibration/07-12-17-P525-E/g/IMG2017339URh049.fits\n",
      "Frame nr.  4 /media/lynge/Lynge-Back-up/Calibration/07-12-17-P525-E/g/IMG2017339URs046.fits\n",
      "Frame nr.  5 /media/lynge/Lynge-Back-up/Calibration/07-12-17-P525-E/g/IMG2017339URs047.fits\n",
      "Frame nr.  6 /media/lynge/Lynge-Back-up/Calibration/07-12-17-P525-E/g/IMG2017339URs050.fits\n",
      "nan\n",
      "Frame nr.  7 /media/lynge/Lynge-Back-up/Calibration/07-12-17-P525-E/g/IMG2017339URs051.fits\n",
      "nan\n",
      "Frame nr.  0 /media/lynge/Lynge-Back-up/Calibration/07-12-17-NGC7213/g/IMG2017339URs052.fits\n",
      "Frame nr.  1 /media/lynge/Lynge-Back-up/Calibration/07-12-17-NGC7213/g/IMG2017339URs053.fits\n",
      "Frame nr.  2 /media/lynge/Lynge-Back-up/Calibration/07-12-17-NGC7213/g/IMG2017339URs054.fits\n",
      "[ nan  nan  nan]\n"
     ]
    }
   ],
   "source": [
    "com1_1 = findmag(QUASAR1_g,refsta1_g,sta1_RA_WORLD,sta1_DEC_WORLD,refsta1_RA,refsta1_DEC,mag_refsta1_g,k_g)\n",
    "com2_1 = findmag(QUASAR1_g,refsta1_g,sta2_RA_WORLD,sta2_DEC_WORLD,refsta1_RA,refsta1_DEC,mag_refsta1_g,k_g)\n",
    "com3_1 = findmag(QUASAR1_g,refsta1_g,sta3_RA_WORLD,sta3_DEC_WORLD,refsta1_RA,refsta1_DEC,mag_refsta1_g,k_g)\n",
    "\n",
    "com1_2 = findmag(QUASAR2_g,refsta2_g,sta1_RA_WORLD,sta1_DEC_WORLD,refsta2_RA,refsta2_DEC,mag_refsta2_g,k_g)\n",
    "com2_2 = findmag(QUASAR2_g,refsta2_g,sta2_RA_WORLD,sta2_DEC_WORLD,refsta2_RA,refsta2_DEC,mag_refsta2_g,k_g)\n",
    "com3_2 = findmag(QUASAR2_g,refsta2_g,sta3_RA_WORLD,sta3_DEC_WORLD,refsta2_RA,refsta2_DEC,mag_refsta2_g,k_g)"
   ]
  },
  {
   "cell_type": "code",
   "execution_count": 68,
   "metadata": {
    "scrolled": true
   },
   "outputs": [
    {
     "name": "stdout",
     "output_type": "stream",
     "text": [
      "g-filter\n",
      "Star 1\n",
      "[ 14.08768321  14.08908842  14.09653833] [ 13.88466687  13.90292913  13.90947879]\n",
      "13.9950641245 0.0963648790871\n",
      "Star 2\n",
      "[ 14.17340817  14.15776288  14.17618919] [ 14.00937512  14.00623135  14.01380199]\n",
      "14.0894614513 0.0798949944866\n",
      "Star 3\n",
      "[ nan  nan  nan] [ nan  nan  nan]\n",
      "nan nan\n"
     ]
    },
    {
     "name": "stderr",
     "output_type": "stream",
     "text": [
      "/home/lynge/anaconda2/lib/python2.7/site-packages/ipykernel_launcher.py:12: RuntimeWarning: Mean of empty slice\n",
      "  if sys.path[0] == '':\n"
     ]
    }
   ],
   "source": [
    "print 'g-filter'\n",
    "print 'Star 1'\n",
    "print com1_1,com1_2\n",
    "print np.nanmean((com1_1,com1_2)), np.nanstd((com1_1,com1_2))\n",
    "\n",
    "print 'Star 2'\n",
    "print com2_1,com2_2\n",
    "print np.nanmean((com2_1,com2_2)), np.nanstd((com2_1,com2_2))\n",
    "\n",
    "print 'Star 3'\n",
    "print com3_1,com3_2\n",
    "print np.nanmean((com3_1,com3_2)), np.nanstd((com3_1,com3_2))"
   ]
  },
  {
   "cell_type": "code",
   "execution_count": 69,
   "metadata": {
    "scrolled": true
   },
   "outputs": [
    {
     "name": "stdout",
     "output_type": "stream",
     "text": [
      "Frame nr.  0 /media/lynge/Lynge-Back-up/Calibration/18-11-17-P525-E/r/IMG2017320BRh017.fits\n",
      "Frame nr.  1 /media/lynge/Lynge-Back-up/Calibration/18-11-17-P525-E/r/IMG2017320BRh018.fits\n",
      "Frame nr.  2 /media/lynge/Lynge-Back-up/Calibration/18-11-17-P525-E/r/IMG2017320BRh021.fits\n",
      "Frame nr.  3 /media/lynge/Lynge-Back-up/Calibration/18-11-17-P525-E/r/IMG2017320BRh022.fits\n",
      "Frame nr.  4 /media/lynge/Lynge-Back-up/Calibration/18-11-17-P525-E/r/IMG2017320BRs019.fits\n",
      "Frame nr.  5 /media/lynge/Lynge-Back-up/Calibration/18-11-17-P525-E/r/IMG2017320BRs020.fits\n",
      "Frame nr.  6 /media/lynge/Lynge-Back-up/Calibration/18-11-17-P525-E/r/IMG2017320BRs023.fits\n",
      "Frame nr.  7 /media/lynge/Lynge-Back-up/Calibration/18-11-17-P525-E/r/IMG2017320BRs024.fits\n",
      "Frame nr.  0 /media/lynge/Lynge-Back-up/Calibration/18-11-17-NGC7213/r/IMG2017320BRs066.fits\n",
      "Frame nr.  1 /media/lynge/Lynge-Back-up/Calibration/18-11-17-NGC7213/r/IMG2017320BRs067.fits\n",
      "Frame nr.  2 /media/lynge/Lynge-Back-up/Calibration/18-11-17-NGC7213/r/IMG2017320BRs068.fits\n",
      "[ 13.18142385  13.18359458  13.18189378]\n",
      "Frame nr.  0 /media/lynge/Lynge-Back-up/Calibration/18-11-17-P525-E/r/IMG2017320BRh017.fits\n",
      "Frame nr.  1 /media/lynge/Lynge-Back-up/Calibration/18-11-17-P525-E/r/IMG2017320BRh018.fits\n",
      "Frame nr.  2 /media/lynge/Lynge-Back-up/Calibration/18-11-17-P525-E/r/IMG2017320BRh021.fits\n",
      "Frame nr.  3 /media/lynge/Lynge-Back-up/Calibration/18-11-17-P525-E/r/IMG2017320BRh022.fits\n",
      "Frame nr.  4 /media/lynge/Lynge-Back-up/Calibration/18-11-17-P525-E/r/IMG2017320BRs019.fits\n",
      "Frame nr.  5 /media/lynge/Lynge-Back-up/Calibration/18-11-17-P525-E/r/IMG2017320BRs020.fits\n",
      "Frame nr.  6 /media/lynge/Lynge-Back-up/Calibration/18-11-17-P525-E/r/IMG2017320BRs023.fits\n",
      "Frame nr.  7 /media/lynge/Lynge-Back-up/Calibration/18-11-17-P525-E/r/IMG2017320BRs024.fits\n",
      "Frame nr.  0 /media/lynge/Lynge-Back-up/Calibration/18-11-17-NGC7213/r/IMG2017320BRs066.fits\n",
      "Frame nr.  1 /media/lynge/Lynge-Back-up/Calibration/18-11-17-NGC7213/r/IMG2017320BRs067.fits\n",
      "Frame nr.  2 /media/lynge/Lynge-Back-up/Calibration/18-11-17-NGC7213/r/IMG2017320BRs068.fits\n",
      "[ 13.73081575  13.71354269  13.728577  ]\n",
      "Frame nr.  0 /media/lynge/Lynge-Back-up/Calibration/18-11-17-P525-E/r/IMG2017320BRh017.fits\n",
      "Frame nr.  1 /media/lynge/Lynge-Back-up/Calibration/18-11-17-P525-E/r/IMG2017320BRh018.fits\n",
      "Frame nr.  2 /media/lynge/Lynge-Back-up/Calibration/18-11-17-P525-E/r/IMG2017320BRh021.fits\n",
      "Frame nr.  3 /media/lynge/Lynge-Back-up/Calibration/18-11-17-P525-E/r/IMG2017320BRh022.fits\n",
      "Frame nr.  4 /media/lynge/Lynge-Back-up/Calibration/18-11-17-P525-E/r/IMG2017320BRs019.fits\n",
      "Frame nr.  5 /media/lynge/Lynge-Back-up/Calibration/18-11-17-P525-E/r/IMG2017320BRs020.fits\n",
      "Frame nr.  6 /media/lynge/Lynge-Back-up/Calibration/18-11-17-P525-E/r/IMG2017320BRs023.fits\n",
      "Frame nr.  7 /media/lynge/Lynge-Back-up/Calibration/18-11-17-P525-E/r/IMG2017320BRs024.fits\n",
      "Frame nr.  0 /media/lynge/Lynge-Back-up/Calibration/18-11-17-NGC7213/r/IMG2017320BRs066.fits\n",
      "Frame nr.  1 /media/lynge/Lynge-Back-up/Calibration/18-11-17-NGC7213/r/IMG2017320BRs067.fits\n",
      "Frame nr.  2 /media/lynge/Lynge-Back-up/Calibration/18-11-17-NGC7213/r/IMG2017320BRs068.fits\n"
     ]
    },
    {
     "name": "stderr",
     "output_type": "stream",
     "text": [
      "/home/lynge/anaconda2/lib/python2.7/site-packages/ipykernel_launcher.py:45: RuntimeWarning: Mean of empty slice\n"
     ]
    },
    {
     "name": "stdout",
     "output_type": "stream",
     "text": [
      "[ nan  nan  nan]\n",
      "Frame nr.  0 /media/lynge/Lynge-Back-up/Calibration/07-12-17-P525-E/r/IMG2017339BRh044.fits\n",
      "Frame nr.  1 /media/lynge/Lynge-Back-up/Calibration/07-12-17-P525-E/r/IMG2017339BRh045.fits\n",
      "Frame nr.  2 /media/lynge/Lynge-Back-up/Calibration/07-12-17-P525-E/r/IMG2017339BRh048.fits\n",
      "Frame nr.  3 /media/lynge/Lynge-Back-up/Calibration/07-12-17-P525-E/r/IMG2017339BRh049.fits\n",
      "Frame nr.  4 /media/lynge/Lynge-Back-up/Calibration/07-12-17-P525-E/r/IMG2017339BRs046.fits\n",
      "Frame nr.  5 /media/lynge/Lynge-Back-up/Calibration/07-12-17-P525-E/r/IMG2017339BRs047.fits\n",
      "nan\n",
      "Frame nr.  6 /media/lynge/Lynge-Back-up/Calibration/07-12-17-P525-E/r/IMG2017339BRs050.fits\n",
      "nan\n",
      "Frame nr.  7 /media/lynge/Lynge-Back-up/Calibration/07-12-17-P525-E/r/IMG2017339BRs051.fits\n",
      "nan\n",
      "Frame nr.  0 /media/lynge/Lynge-Back-up/Calibration/07-12-17-NGC7213/r/IMG2017339BRs052.fits\n",
      "Frame nr.  1 /media/lynge/Lynge-Back-up/Calibration/07-12-17-NGC7213/r/IMG2017339BRs053.fits\n",
      "Frame nr.  2 /media/lynge/Lynge-Back-up/Calibration/07-12-17-NGC7213/r/IMG2017339BRs054.fits\n",
      "[ 12.91076292  12.92305543  12.91678975]\n",
      "Frame nr.  0 /media/lynge/Lynge-Back-up/Calibration/07-12-17-P525-E/r/IMG2017339BRh044.fits\n",
      "Frame nr.  1 /media/lynge/Lynge-Back-up/Calibration/07-12-17-P525-E/r/IMG2017339BRh045.fits\n",
      "Frame nr.  2 /media/lynge/Lynge-Back-up/Calibration/07-12-17-P525-E/r/IMG2017339BRh048.fits\n",
      "Frame nr.  3 /media/lynge/Lynge-Back-up/Calibration/07-12-17-P525-E/r/IMG2017339BRh049.fits\n",
      "Frame nr.  4 /media/lynge/Lynge-Back-up/Calibration/07-12-17-P525-E/r/IMG2017339BRs046.fits\n",
      "Frame nr.  5 /media/lynge/Lynge-Back-up/Calibration/07-12-17-P525-E/r/IMG2017339BRs047.fits\n",
      "nan\n",
      "Frame nr.  6 /media/lynge/Lynge-Back-up/Calibration/07-12-17-P525-E/r/IMG2017339BRs050.fits\n",
      "nan\n",
      "Frame nr.  7 /media/lynge/Lynge-Back-up/Calibration/07-12-17-P525-E/r/IMG2017339BRs051.fits\n",
      "nan\n",
      "Frame nr.  0 /media/lynge/Lynge-Back-up/Calibration/07-12-17-NGC7213/r/IMG2017339BRs052.fits\n",
      "Frame nr.  1 /media/lynge/Lynge-Back-up/Calibration/07-12-17-NGC7213/r/IMG2017339BRs053.fits\n",
      "Frame nr.  2 /media/lynge/Lynge-Back-up/Calibration/07-12-17-NGC7213/r/IMG2017339BRs054.fits\n",
      "[ 13.44973893  13.45104363  13.46730129]\n",
      "Frame nr.  0 /media/lynge/Lynge-Back-up/Calibration/07-12-17-P525-E/r/IMG2017339BRh044.fits\n",
      "Frame nr.  1 /media/lynge/Lynge-Back-up/Calibration/07-12-17-P525-E/r/IMG2017339BRh045.fits\n",
      "Frame nr.  2 /media/lynge/Lynge-Back-up/Calibration/07-12-17-P525-E/r/IMG2017339BRh048.fits\n",
      "Frame nr.  3 /media/lynge/Lynge-Back-up/Calibration/07-12-17-P525-E/r/IMG2017339BRh049.fits\n",
      "Frame nr.  4 /media/lynge/Lynge-Back-up/Calibration/07-12-17-P525-E/r/IMG2017339BRs046.fits\n",
      "Frame nr.  5 /media/lynge/Lynge-Back-up/Calibration/07-12-17-P525-E/r/IMG2017339BRs047.fits\n",
      "nan\n",
      "Frame nr.  6 /media/lynge/Lynge-Back-up/Calibration/07-12-17-P525-E/r/IMG2017339BRs050.fits\n",
      "nan\n",
      "Frame nr.  7 /media/lynge/Lynge-Back-up/Calibration/07-12-17-P525-E/r/IMG2017339BRs051.fits\n",
      "nan\n",
      "Frame nr.  0 /media/lynge/Lynge-Back-up/Calibration/07-12-17-NGC7213/r/IMG2017339BRs052.fits\n",
      "Frame nr.  1 /media/lynge/Lynge-Back-up/Calibration/07-12-17-NGC7213/r/IMG2017339BRs053.fits\n",
      "Frame nr.  2 /media/lynge/Lynge-Back-up/Calibration/07-12-17-NGC7213/r/IMG2017339BRs054.fits\n",
      "[ nan  nan  nan]\n"
     ]
    }
   ],
   "source": [
    "com1_1 = findmag(QUASAR1_r,refsta1_r,sta1_RA_WORLD,sta1_DEC_WORLD,refsta1_RA,refsta1_DEC,mag_refsta1_r,k_r)\n",
    "com2_1 = findmag(QUASAR1_r,refsta1_r,sta2_RA_WORLD,sta2_DEC_WORLD,refsta1_RA,refsta1_DEC,mag_refsta1_r,k_r)\n",
    "com3_1 = findmag(QUASAR1_r,refsta1_r,sta3_RA_WORLD,sta3_DEC_WORLD,refsta1_RA,refsta1_DEC,mag_refsta1_r,k_r)\n",
    "\n",
    "com1_2 = findmag(QUASAR2_r,refsta2_r,sta1_RA_WORLD,sta1_DEC_WORLD,refsta2_RA,refsta2_DEC,mag_refsta2_r,k_r)\n",
    "com2_2 = findmag(QUASAR2_r,refsta2_r,sta2_RA_WORLD,sta2_DEC_WORLD,refsta2_RA,refsta2_DEC,mag_refsta2_r,k_r)\n",
    "com3_2 = findmag(QUASAR2_r,refsta2_r,sta3_RA_WORLD,sta3_DEC_WORLD,refsta2_RA,refsta2_DEC,mag_refsta2_r,k_r)"
   ]
  },
  {
   "cell_type": "code",
   "execution_count": 70,
   "metadata": {
    "scrolled": true
   },
   "outputs": [
    {
     "name": "stdout",
     "output_type": "stream",
     "text": [
      "r-filter\n",
      "Star 1\n",
      "[ 13.18142385  13.18359458  13.18189378] [ 12.91076292  12.92305543  12.91678975]\n",
      "13.0495867179 0.132766426405\n",
      "Star 2\n",
      "[ 13.73081575  13.71354269  13.728577  ] [ 13.44973893  13.45104363  13.46730129]\n",
      "13.590169882 0.134370319381\n",
      "Star 3\n",
      "[ nan  nan  nan] [ nan  nan  nan]\n",
      "nan nan\n"
     ]
    },
    {
     "name": "stderr",
     "output_type": "stream",
     "text": [
      "/home/lynge/anaconda2/lib/python2.7/site-packages/ipykernel_launcher.py:12: RuntimeWarning: Mean of empty slice\n",
      "  if sys.path[0] == '':\n"
     ]
    }
   ],
   "source": [
    "print 'r-filter'\n",
    "print 'Star 1'\n",
    "print com1_1,com1_2\n",
    "print np.nanmean((com1_1,com1_2)), np.nanstd((com1_1,com1_2))\n",
    "\n",
    "print 'Star 2'\n",
    "print com2_1,com2_2\n",
    "print np.nanmean((com2_1,com2_2)), np.nanstd((com2_1,com2_2))\n",
    "\n",
    "print 'Star 3'\n",
    "print com3_1,com3_2\n",
    "print np.nanmean((com3_1,com3_2)), np.nanstd((com3_1,com3_2))"
   ]
  },
  {
   "cell_type": "code",
   "execution_count": 71,
   "metadata": {
    "scrolled": true
   },
   "outputs": [
    {
     "name": "stdout",
     "output_type": "stream",
     "text": [
      "Frame nr.  0 /media/lynge/Lynge-Back-up/Calibration/18-11-17-P525-E/i/IMG2017320ULh017.fits\n",
      "Frame nr.  1 /media/lynge/Lynge-Back-up/Calibration/18-11-17-P525-E/i/IMG2017320ULh018.fits\n",
      "Frame nr.  2 /media/lynge/Lynge-Back-up/Calibration/18-11-17-P525-E/i/IMG2017320ULh021.fits\n",
      "Frame nr.  3 /media/lynge/Lynge-Back-up/Calibration/18-11-17-P525-E/i/IMG2017320ULh022.fits\n",
      "Frame nr.  4 /media/lynge/Lynge-Back-up/Calibration/18-11-17-P525-E/i/IMG2017320ULs019.fits\n",
      "Frame nr.  5 /media/lynge/Lynge-Back-up/Calibration/18-11-17-P525-E/i/IMG2017320ULs020.fits\n",
      "Frame nr.  6 /media/lynge/Lynge-Back-up/Calibration/18-11-17-P525-E/i/IMG2017320ULs023.fits\n",
      "Frame nr.  7 /media/lynge/Lynge-Back-up/Calibration/18-11-17-P525-E/i/IMG2017320ULs024.fits\n",
      "Frame nr.  0 /media/lynge/Lynge-Back-up/Calibration/18-11-17-NGC7213/i/IMG2017320ULs066.fits\n",
      "Frame nr.  1 /media/lynge/Lynge-Back-up/Calibration/18-11-17-NGC7213/i/IMG2017320ULs067.fits\n",
      "Frame nr.  2 /media/lynge/Lynge-Back-up/Calibration/18-11-17-NGC7213/i/IMG2017320ULs068.fits\n",
      "[ 12.92035288  12.91554214  12.92008324]\n",
      "Frame nr.  0 /media/lynge/Lynge-Back-up/Calibration/18-11-17-P525-E/i/IMG2017320ULh017.fits\n",
      "Frame nr.  1 /media/lynge/Lynge-Back-up/Calibration/18-11-17-P525-E/i/IMG2017320ULh018.fits\n",
      "Frame nr.  2 /media/lynge/Lynge-Back-up/Calibration/18-11-17-P525-E/i/IMG2017320ULh021.fits\n",
      "Frame nr.  3 /media/lynge/Lynge-Back-up/Calibration/18-11-17-P525-E/i/IMG2017320ULh022.fits\n",
      "Frame nr.  4 /media/lynge/Lynge-Back-up/Calibration/18-11-17-P525-E/i/IMG2017320ULs019.fits\n",
      "Frame nr.  5 /media/lynge/Lynge-Back-up/Calibration/18-11-17-P525-E/i/IMG2017320ULs020.fits\n",
      "Frame nr.  6 /media/lynge/Lynge-Back-up/Calibration/18-11-17-P525-E/i/IMG2017320ULs023.fits\n",
      "Frame nr.  7 /media/lynge/Lynge-Back-up/Calibration/18-11-17-P525-E/i/IMG2017320ULs024.fits\n",
      "Frame nr.  0 /media/lynge/Lynge-Back-up/Calibration/18-11-17-NGC7213/i/IMG2017320ULs066.fits\n",
      "Frame nr.  1 /media/lynge/Lynge-Back-up/Calibration/18-11-17-NGC7213/i/IMG2017320ULs067.fits\n",
      "Frame nr.  2 /media/lynge/Lynge-Back-up/Calibration/18-11-17-NGC7213/i/IMG2017320ULs068.fits\n",
      "[ 13.60667658  13.59662959  13.61452858]\n",
      "Frame nr.  0 /media/lynge/Lynge-Back-up/Calibration/18-11-17-P525-E/i/IMG2017320ULh017.fits\n",
      "Frame nr.  1 /media/lynge/Lynge-Back-up/Calibration/18-11-17-P525-E/i/IMG2017320ULh018.fits\n",
      "Frame nr.  2 /media/lynge/Lynge-Back-up/Calibration/18-11-17-P525-E/i/IMG2017320ULh021.fits\n",
      "Frame nr.  3 /media/lynge/Lynge-Back-up/Calibration/18-11-17-P525-E/i/IMG2017320ULh022.fits\n",
      "Frame nr.  4 /media/lynge/Lynge-Back-up/Calibration/18-11-17-P525-E/i/IMG2017320ULs019.fits\n",
      "Frame nr.  5 /media/lynge/Lynge-Back-up/Calibration/18-11-17-P525-E/i/IMG2017320ULs020.fits\n",
      "Frame nr.  6 /media/lynge/Lynge-Back-up/Calibration/18-11-17-P525-E/i/IMG2017320ULs023.fits\n",
      "Frame nr.  7 /media/lynge/Lynge-Back-up/Calibration/18-11-17-P525-E/i/IMG2017320ULs024.fits\n",
      "Frame nr.  0 /media/lynge/Lynge-Back-up/Calibration/18-11-17-NGC7213/i/IMG2017320ULs066.fits\n",
      "Frame nr.  1 /media/lynge/Lynge-Back-up/Calibration/18-11-17-NGC7213/i/IMG2017320ULs067.fits\n",
      "Frame nr.  2 /media/lynge/Lynge-Back-up/Calibration/18-11-17-NGC7213/i/IMG2017320ULs068.fits\n"
     ]
    },
    {
     "name": "stderr",
     "output_type": "stream",
     "text": [
      "/home/lynge/anaconda2/lib/python2.7/site-packages/ipykernel_launcher.py:45: RuntimeWarning: Mean of empty slice\n"
     ]
    },
    {
     "name": "stdout",
     "output_type": "stream",
     "text": [
      "[ nan  nan  nan]\n",
      "Frame nr.  0 /media/lynge/Lynge-Back-up/Calibration/07-12-17-P525-E/i/IMG2017339ULh044.fits\n",
      "Frame nr.  1 /media/lynge/Lynge-Back-up/Calibration/07-12-17-P525-E/i/IMG2017339ULh045.fits\n",
      "Frame nr.  2 /media/lynge/Lynge-Back-up/Calibration/07-12-17-P525-E/i/IMG2017339ULh048.fits\n",
      "Frame nr.  3 /media/lynge/Lynge-Back-up/Calibration/07-12-17-P525-E/i/IMG2017339ULh049.fits\n",
      "Frame nr.  4 /media/lynge/Lynge-Back-up/Calibration/07-12-17-P525-E/i/IMG2017339ULs046.fits\n",
      "Frame nr.  5 /media/lynge/Lynge-Back-up/Calibration/07-12-17-P525-E/i/IMG2017339ULs047.fits\n",
      "Frame nr.  6 /media/lynge/Lynge-Back-up/Calibration/07-12-17-P525-E/i/IMG2017339ULs050.fits\n",
      "nan\n",
      "Frame nr.  7 /media/lynge/Lynge-Back-up/Calibration/07-12-17-P525-E/i/IMG2017339ULs051.fits\n",
      "Frame nr.  0 /media/lynge/Lynge-Back-up/Calibration/07-12-17-NGC7213/i/IMG2017339ULs052.fits\n",
      "Frame nr.  1 /media/lynge/Lynge-Back-up/Calibration/07-12-17-NGC7213/i/IMG2017339ULs053.fits\n",
      "Frame nr.  2 /media/lynge/Lynge-Back-up/Calibration/07-12-17-NGC7213/i/IMG2017339ULs054.fits\n",
      "[ 12.83353585  12.83926622  12.82999414]\n",
      "Frame nr.  0 /media/lynge/Lynge-Back-up/Calibration/07-12-17-P525-E/i/IMG2017339ULh044.fits\n",
      "Frame nr.  1 /media/lynge/Lynge-Back-up/Calibration/07-12-17-P525-E/i/IMG2017339ULh045.fits\n",
      "Frame nr.  2 /media/lynge/Lynge-Back-up/Calibration/07-12-17-P525-E/i/IMG2017339ULh048.fits\n",
      "Frame nr.  3 /media/lynge/Lynge-Back-up/Calibration/07-12-17-P525-E/i/IMG2017339ULh049.fits\n",
      "Frame nr.  4 /media/lynge/Lynge-Back-up/Calibration/07-12-17-P525-E/i/IMG2017339ULs046.fits\n",
      "Frame nr.  5 /media/lynge/Lynge-Back-up/Calibration/07-12-17-P525-E/i/IMG2017339ULs047.fits\n",
      "Frame nr.  6 /media/lynge/Lynge-Back-up/Calibration/07-12-17-P525-E/i/IMG2017339ULs050.fits\n",
      "nan\n",
      "Frame nr.  7 /media/lynge/Lynge-Back-up/Calibration/07-12-17-P525-E/i/IMG2017339ULs051.fits\n",
      "Frame nr.  0 /media/lynge/Lynge-Back-up/Calibration/07-12-17-NGC7213/i/IMG2017339ULs052.fits\n",
      "Frame nr.  1 /media/lynge/Lynge-Back-up/Calibration/07-12-17-NGC7213/i/IMG2017339ULs053.fits\n",
      "Frame nr.  2 /media/lynge/Lynge-Back-up/Calibration/07-12-17-NGC7213/i/IMG2017339ULs054.fits\n",
      "[ 13.50725616  13.49860442  13.51510952]\n",
      "Frame nr.  0 /media/lynge/Lynge-Back-up/Calibration/07-12-17-P525-E/i/IMG2017339ULh044.fits\n",
      "Frame nr.  1 /media/lynge/Lynge-Back-up/Calibration/07-12-17-P525-E/i/IMG2017339ULh045.fits\n",
      "Frame nr.  2 /media/lynge/Lynge-Back-up/Calibration/07-12-17-P525-E/i/IMG2017339ULh048.fits\n",
      "Frame nr.  3 /media/lynge/Lynge-Back-up/Calibration/07-12-17-P525-E/i/IMG2017339ULh049.fits\n",
      "Frame nr.  4 /media/lynge/Lynge-Back-up/Calibration/07-12-17-P525-E/i/IMG2017339ULs046.fits\n",
      "Frame nr.  5 /media/lynge/Lynge-Back-up/Calibration/07-12-17-P525-E/i/IMG2017339ULs047.fits\n",
      "Frame nr.  6 /media/lynge/Lynge-Back-up/Calibration/07-12-17-P525-E/i/IMG2017339ULs050.fits\n",
      "nan\n",
      "Frame nr.  7 /media/lynge/Lynge-Back-up/Calibration/07-12-17-P525-E/i/IMG2017339ULs051.fits\n",
      "Frame nr.  0 /media/lynge/Lynge-Back-up/Calibration/07-12-17-NGC7213/i/IMG2017339ULs052.fits\n",
      "Frame nr.  1 /media/lynge/Lynge-Back-up/Calibration/07-12-17-NGC7213/i/IMG2017339ULs053.fits\n",
      "Frame nr.  2 /media/lynge/Lynge-Back-up/Calibration/07-12-17-NGC7213/i/IMG2017339ULs054.fits\n",
      "[ nan  nan  nan]\n"
     ]
    }
   ],
   "source": [
    "com1_1 = findmag(QUASAR1_i,refsta1_i,sta1_RA_WORLD,sta1_DEC_WORLD,refsta1_RA,refsta1_DEC,mag_refsta1_i,k_i)\n",
    "com2_1 = findmag(QUASAR1_i,refsta1_i,sta2_RA_WORLD,sta2_DEC_WORLD,refsta1_RA,refsta1_DEC,mag_refsta1_i,k_i)\n",
    "com3_1 = findmag(QUASAR1_i,refsta1_i,sta3_RA_WORLD,sta3_DEC_WORLD,refsta1_RA,refsta1_DEC,mag_refsta1_i,k_i)\n",
    "\n",
    "com1_2 = findmag(QUASAR2_i,refsta2_i,sta1_RA_WORLD,sta1_DEC_WORLD,refsta2_RA,refsta2_DEC,mag_refsta2_i,k_i)\n",
    "com2_2 = findmag(QUASAR2_i,refsta2_i,sta2_RA_WORLD,sta2_DEC_WORLD,refsta2_RA,refsta2_DEC,mag_refsta2_i,k_i)\n",
    "com3_2 = findmag(QUASAR2_i,refsta2_i,sta3_RA_WORLD,sta3_DEC_WORLD,refsta2_RA,refsta2_DEC,mag_refsta2_i,k_i)"
   ]
  },
  {
   "cell_type": "code",
   "execution_count": 72,
   "metadata": {
    "scrolled": true
   },
   "outputs": [
    {
     "name": "stdout",
     "output_type": "stream",
     "text": [
      "i-filter\n",
      "Star 1\n",
      "[ 12.92035288  12.91554214  12.92008324] [ 12.83353585  12.83926622  12.82999414]\n",
      "12.8764624139 0.0423121764874\n",
      "Star 2\n",
      "[ 13.60667658  13.59662959  13.61452858] [ 13.50725616  13.49860442  13.51510952]\n",
      "13.5564674767 0.0499756751756\n",
      "Star 3\n",
      "[ nan  nan  nan] [ nan  nan  nan]\n",
      "nan nan\n"
     ]
    },
    {
     "name": "stderr",
     "output_type": "stream",
     "text": [
      "/home/lynge/anaconda2/lib/python2.7/site-packages/ipykernel_launcher.py:12: RuntimeWarning: Mean of empty slice\n",
      "  if sys.path[0] == '':\n"
     ]
    }
   ],
   "source": [
    "print 'i-filter'\n",
    "print 'Star 1'\n",
    "print com1_1,com1_2\n",
    "print np.nanmean((com1_1,com1_2)), np.nanstd((com1_1,com1_2))\n",
    "\n",
    "print 'Star 2'\n",
    "print com2_1,com2_2\n",
    "print np.nanmean((com2_1,com2_2)), np.nanstd((com2_1,com2_2))\n",
    "\n",
    "print 'Star 3'\n",
    "print com3_1,com3_2\n",
    "print np.nanmean((com3_1,com3_2)), np.nanstd((com3_1,com3_2))"
   ]
  },
  {
   "cell_type": "code",
   "execution_count": 73,
   "metadata": {
    "scrolled": true
   },
   "outputs": [
    {
     "name": "stdout",
     "output_type": "stream",
     "text": [
      "Frame nr.  0 /media/lynge/Lynge-Back-up/Calibration/18-11-17-P525-E/z/IMG2017320BLh017.fits\n",
      "Frame nr.  1 /media/lynge/Lynge-Back-up/Calibration/18-11-17-P525-E/z/IMG2017320BLh018.fits\n",
      "Frame nr.  2 /media/lynge/Lynge-Back-up/Calibration/18-11-17-P525-E/z/IMG2017320BLh021.fits\n",
      "Frame nr.  3 /media/lynge/Lynge-Back-up/Calibration/18-11-17-P525-E/z/IMG2017320BLh022.fits\n",
      "Frame nr.  4 /media/lynge/Lynge-Back-up/Calibration/18-11-17-P525-E/z/IMG2017320BLs019.fits\n",
      "Frame nr.  5 /media/lynge/Lynge-Back-up/Calibration/18-11-17-P525-E/z/IMG2017320BLs020.fits\n",
      "nan\n",
      "Frame nr.  6 /media/lynge/Lynge-Back-up/Calibration/18-11-17-P525-E/z/IMG2017320BLs023.fits\n",
      "nan\n",
      "Frame nr.  7 /media/lynge/Lynge-Back-up/Calibration/18-11-17-P525-E/z/IMG2017320BLs024.fits\n",
      "Frame nr.  0 /media/lynge/Lynge-Back-up/Calibration/18-11-17-NGC7213/z/IMG2017320BLs066.fits\n",
      "Frame nr.  1 /media/lynge/Lynge-Back-up/Calibration/18-11-17-NGC7213/z/IMG2017320BLs067.fits\n",
      "Frame nr.  2 /media/lynge/Lynge-Back-up/Calibration/18-11-17-NGC7213/z/IMG2017320BLs068.fits\n",
      "[ 12.47954214  12.46515839  12.47195687]\n",
      "Frame nr.  0 /media/lynge/Lynge-Back-up/Calibration/18-11-17-P525-E/z/IMG2017320BLh017.fits\n",
      "Frame nr.  1 /media/lynge/Lynge-Back-up/Calibration/18-11-17-P525-E/z/IMG2017320BLh018.fits\n",
      "Frame nr.  2 /media/lynge/Lynge-Back-up/Calibration/18-11-17-P525-E/z/IMG2017320BLh021.fits\n",
      "Frame nr.  3 /media/lynge/Lynge-Back-up/Calibration/18-11-17-P525-E/z/IMG2017320BLh022.fits\n",
      "Frame nr.  4 /media/lynge/Lynge-Back-up/Calibration/18-11-17-P525-E/z/IMG2017320BLs019.fits\n",
      "Frame nr.  5 /media/lynge/Lynge-Back-up/Calibration/18-11-17-P525-E/z/IMG2017320BLs020.fits\n",
      "nan\n",
      "Frame nr.  6 /media/lynge/Lynge-Back-up/Calibration/18-11-17-P525-E/z/IMG2017320BLs023.fits\n",
      "nan\n",
      "Frame nr.  7 /media/lynge/Lynge-Back-up/Calibration/18-11-17-P525-E/z/IMG2017320BLs024.fits\n",
      "Frame nr.  0 /media/lynge/Lynge-Back-up/Calibration/18-11-17-NGC7213/z/IMG2017320BLs066.fits\n",
      "Frame nr.  1 /media/lynge/Lynge-Back-up/Calibration/18-11-17-NGC7213/z/IMG2017320BLs067.fits\n",
      "Frame nr.  2 /media/lynge/Lynge-Back-up/Calibration/18-11-17-NGC7213/z/IMG2017320BLs068.fits\n",
      "[ 13.30095757  13.30113217  13.2941302 ]\n",
      "Frame nr.  0 /media/lynge/Lynge-Back-up/Calibration/18-11-17-P525-E/z/IMG2017320BLh017.fits\n",
      "Frame nr.  1 /media/lynge/Lynge-Back-up/Calibration/18-11-17-P525-E/z/IMG2017320BLh018.fits\n",
      "Frame nr.  2 /media/lynge/Lynge-Back-up/Calibration/18-11-17-P525-E/z/IMG2017320BLh021.fits\n",
      "Frame nr.  3 /media/lynge/Lynge-Back-up/Calibration/18-11-17-P525-E/z/IMG2017320BLh022.fits\n",
      "Frame nr.  4 /media/lynge/Lynge-Back-up/Calibration/18-11-17-P525-E/z/IMG2017320BLs019.fits\n",
      "Frame nr.  5 /media/lynge/Lynge-Back-up/Calibration/18-11-17-P525-E/z/IMG2017320BLs020.fits\n",
      "nan\n",
      "Frame nr.  6 /media/lynge/Lynge-Back-up/Calibration/18-11-17-P525-E/z/IMG2017320BLs023.fits\n",
      "nan\n",
      "Frame nr.  7 /media/lynge/Lynge-Back-up/Calibration/18-11-17-P525-E/z/IMG2017320BLs024.fits\n",
      "Frame nr.  0 /media/lynge/Lynge-Back-up/Calibration/18-11-17-NGC7213/z/IMG2017320BLs066.fits\n",
      "Frame nr.  1 /media/lynge/Lynge-Back-up/Calibration/18-11-17-NGC7213/z/IMG2017320BLs067.fits\n",
      "Frame nr.  2 /media/lynge/Lynge-Back-up/Calibration/18-11-17-NGC7213/z/IMG2017320BLs068.fits\n"
     ]
    },
    {
     "name": "stderr",
     "output_type": "stream",
     "text": [
      "/home/lynge/anaconda2/lib/python2.7/site-packages/ipykernel_launcher.py:45: RuntimeWarning: Mean of empty slice\n"
     ]
    },
    {
     "name": "stdout",
     "output_type": "stream",
     "text": [
      "[ nan  nan  nan]\n",
      "Frame nr.  0 /media/lynge/Lynge-Back-up/Calibration/07-12-17-P525-E/z/IMG2017339BLh044.fits\n",
      "Frame nr.  1 /media/lynge/Lynge-Back-up/Calibration/07-12-17-P525-E/z/IMG2017339BLh045.fits\n",
      "nan\n",
      "Frame nr.  2 /media/lynge/Lynge-Back-up/Calibration/07-12-17-P525-E/z/IMG2017339BLh048.fits\n",
      "nan\n",
      "Frame nr.  3 /media/lynge/Lynge-Back-up/Calibration/07-12-17-P525-E/z/IMG2017339BLh049.fits\n",
      "nan\n",
      "Frame nr.  4 /media/lynge/Lynge-Back-up/Calibration/07-12-17-P525-E/z/IMG2017339BLs046.fits\n",
      "nan\n",
      "Frame nr.  5 /media/lynge/Lynge-Back-up/Calibration/07-12-17-P525-E/z/IMG2017339BLs047.fits\n",
      "nan\n",
      "Frame nr.  6 /media/lynge/Lynge-Back-up/Calibration/07-12-17-P525-E/z/IMG2017339BLs050.fits\n",
      "nan\n",
      "Frame nr.  7 /media/lynge/Lynge-Back-up/Calibration/07-12-17-P525-E/z/IMG2017339BLs051.fits\n",
      "nan\n",
      "Frame nr.  0 /media/lynge/Lynge-Back-up/Calibration/07-12-17-NGC7213/z/IMG2017339BLs052.fits\n",
      "Frame nr.  1 /media/lynge/Lynge-Back-up/Calibration/07-12-17-NGC7213/z/IMG2017339BLs053.fits\n",
      "Frame nr.  2 /media/lynge/Lynge-Back-up/Calibration/07-12-17-NGC7213/z/IMG2017339BLs054.fits\n",
      "[ 12.20271434  12.21250964  12.19677113]\n",
      "Frame nr.  0 /media/lynge/Lynge-Back-up/Calibration/07-12-17-P525-E/z/IMG2017339BLh044.fits\n",
      "Frame nr.  1 /media/lynge/Lynge-Back-up/Calibration/07-12-17-P525-E/z/IMG2017339BLh045.fits\n",
      "nan\n",
      "Frame nr.  2 /media/lynge/Lynge-Back-up/Calibration/07-12-17-P525-E/z/IMG2017339BLh048.fits\n",
      "nan\n",
      "Frame nr.  3 /media/lynge/Lynge-Back-up/Calibration/07-12-17-P525-E/z/IMG2017339BLh049.fits\n",
      "nan\n",
      "Frame nr.  4 /media/lynge/Lynge-Back-up/Calibration/07-12-17-P525-E/z/IMG2017339BLs046.fits\n",
      "nan\n",
      "Frame nr.  5 /media/lynge/Lynge-Back-up/Calibration/07-12-17-P525-E/z/IMG2017339BLs047.fits\n",
      "nan\n",
      "Frame nr.  6 /media/lynge/Lynge-Back-up/Calibration/07-12-17-P525-E/z/IMG2017339BLs050.fits\n",
      "nan\n",
      "Frame nr.  7 /media/lynge/Lynge-Back-up/Calibration/07-12-17-P525-E/z/IMG2017339BLs051.fits\n",
      "nan\n",
      "Frame nr.  0 /media/lynge/Lynge-Back-up/Calibration/07-12-17-NGC7213/z/IMG2017339BLs052.fits\n",
      "Frame nr.  1 /media/lynge/Lynge-Back-up/Calibration/07-12-17-NGC7213/z/IMG2017339BLs053.fits\n",
      "Frame nr.  2 /media/lynge/Lynge-Back-up/Calibration/07-12-17-NGC7213/z/IMG2017339BLs054.fits\n",
      "[ 13.03027162  13.03916707  13.06669186]\n",
      "Frame nr.  0 /media/lynge/Lynge-Back-up/Calibration/07-12-17-P525-E/z/IMG2017339BLh044.fits\n",
      "Frame nr.  1 /media/lynge/Lynge-Back-up/Calibration/07-12-17-P525-E/z/IMG2017339BLh045.fits\n",
      "nan\n",
      "Frame nr.  2 /media/lynge/Lynge-Back-up/Calibration/07-12-17-P525-E/z/IMG2017339BLh048.fits\n",
      "nan\n",
      "Frame nr.  3 /media/lynge/Lynge-Back-up/Calibration/07-12-17-P525-E/z/IMG2017339BLh049.fits\n",
      "nan\n",
      "Frame nr.  4 /media/lynge/Lynge-Back-up/Calibration/07-12-17-P525-E/z/IMG2017339BLs046.fits\n",
      "nan\n",
      "Frame nr.  5 /media/lynge/Lynge-Back-up/Calibration/07-12-17-P525-E/z/IMG2017339BLs047.fits\n",
      "nan\n",
      "Frame nr.  6 /media/lynge/Lynge-Back-up/Calibration/07-12-17-P525-E/z/IMG2017339BLs050.fits\n",
      "nan\n",
      "Frame nr.  7 /media/lynge/Lynge-Back-up/Calibration/07-12-17-P525-E/z/IMG2017339BLs051.fits\n",
      "nan\n",
      "Frame nr.  0 /media/lynge/Lynge-Back-up/Calibration/07-12-17-NGC7213/z/IMG2017339BLs052.fits\n",
      "Frame nr.  1 /media/lynge/Lynge-Back-up/Calibration/07-12-17-NGC7213/z/IMG2017339BLs053.fits\n",
      "Frame nr.  2 /media/lynge/Lynge-Back-up/Calibration/07-12-17-NGC7213/z/IMG2017339BLs054.fits\n",
      "[ nan  nan  nan]\n"
     ]
    }
   ],
   "source": [
    "com1_1 = findmag(QUASAR1_z,refsta1_z,sta1_RA_WORLD,sta1_DEC_WORLD,refsta1_RA,refsta1_DEC,mag_refsta1_z,k_z)\n",
    "com2_1 = findmag(QUASAR1_z,refsta1_z,sta2_RA_WORLD,sta2_DEC_WORLD,refsta1_RA,refsta1_DEC,mag_refsta1_z,k_z)\n",
    "com3_1 = findmag(QUASAR1_z,refsta1_z,sta3_RA_WORLD,sta3_DEC_WORLD,refsta1_RA,refsta1_DEC,mag_refsta1_z,k_z)\n",
    "\n",
    "com1_2 = findmag(QUASAR2_z,refsta2_z,sta1_RA_WORLD,sta1_DEC_WORLD,refsta2_RA,refsta2_DEC,mag_refsta2_z,k_z)\n",
    "com2_2 = findmag(QUASAR2_z,refsta2_z,sta2_RA_WORLD,sta2_DEC_WORLD,refsta2_RA,refsta2_DEC,mag_refsta2_z,k_z)\n",
    "com3_2 = findmag(QUASAR2_z,refsta2_z,sta3_RA_WORLD,sta3_DEC_WORLD,refsta2_RA,refsta2_DEC,mag_refsta2_z,k_z)"
   ]
  },
  {
   "cell_type": "code",
   "execution_count": 74,
   "metadata": {
    "scrolled": true
   },
   "outputs": [
    {
     "name": "stdout",
     "output_type": "stream",
     "text": [
      "z-filter\n",
      "Star 1\n",
      "[ 12.47954214  12.46515839  12.47195687] [ 12.20271434  12.21250964  12.19677113]\n",
      "12.3381087533 0.134253143422\n",
      "Star 2\n",
      "[ 13.30095757  13.30113217  13.2941302 ] [ 13.03027162  13.03916707  13.06669186]\n",
      "13.1720584164 0.127175904177\n",
      "Star 3\n",
      "[ nan  nan  nan] [ nan  nan  nan]\n",
      "nan nan\n"
     ]
    },
    {
     "name": "stderr",
     "output_type": "stream",
     "text": [
      "/home/lynge/anaconda2/lib/python2.7/site-packages/ipykernel_launcher.py:12: RuntimeWarning: Mean of empty slice\n",
      "  if sys.path[0] == '':\n"
     ]
    }
   ],
   "source": [
    "print 'z-filter'\n",
    "print 'Star 1'\n",
    "print com1_1,com1_2\n",
    "print np.nanmean((com1_1,com1_2)), np.nanstd((com1_1,com1_2))\n",
    "\n",
    "print 'Star 2'\n",
    "print com2_1,com2_2\n",
    "print np.nanmean((com2_1,com2_2)), np.nanstd((com2_1,com2_2))\n",
    "\n",
    "print 'Star 3'\n",
    "print com3_1,com3_2\n",
    "print np.nanmean((com3_1,com3_2)), np.nanstd((com3_1,com3_2))"
   ]
  },
  {
   "cell_type": "code",
   "execution_count": 75,
   "metadata": {
    "scrolled": true
   },
   "outputs": [
    {
     "ename": "NameError",
     "evalue": "name 'NGC3783_r' is not defined",
     "output_type": "error",
     "traceback": [
      "\u001b[0;31m---------------------------------------------------------------------------\u001b[0m",
      "\u001b[0;31mNameError\u001b[0m                                 Traceback (most recent call last)",
      "\u001b[0;32m<ipython-input-75-07dbc6342341>\u001b[0m in \u001b[0;36m<module>\u001b[0;34m()\u001b[0m\n\u001b[0;32m----> 1\u001b[0;31m \u001b[0mHD101274_1\u001b[0m \u001b[0;34m=\u001b[0m \u001b[0mfindmag\u001b[0m\u001b[0;34m(\u001b[0m\u001b[0mNGC3783_r\u001b[0m\u001b[0;34m,\u001b[0m\u001b[0mP_r\u001b[0m\u001b[0;34m,\u001b[0m\u001b[0msta1_RA_WORLD\u001b[0m\u001b[0;34m,\u001b[0m\u001b[0msta1_DEC_WORLD\u001b[0m\u001b[0;34m,\u001b[0m\u001b[0mr_P_RA\u001b[0m\u001b[0;34m,\u001b[0m\u001b[0mr_P_DEC\u001b[0m\u001b[0;34m,\u001b[0m\u001b[0mP_mag_r\u001b[0m\u001b[0;34m,\u001b[0m\u001b[0mk_r\u001b[0m\u001b[0;34m)\u001b[0m\u001b[0;34m\u001b[0m\u001b[0m\n\u001b[0m\u001b[1;32m      2\u001b[0m \u001b[0mTyc_22_1\u001b[0m \u001b[0;34m=\u001b[0m \u001b[0mfindmag\u001b[0m\u001b[0;34m(\u001b[0m\u001b[0mNGC3783_r\u001b[0m\u001b[0;34m,\u001b[0m\u001b[0mP_r\u001b[0m\u001b[0;34m,\u001b[0m\u001b[0msta2_RA_WORLD\u001b[0m\u001b[0;34m,\u001b[0m\u001b[0msta2_DEC_WORLD\u001b[0m\u001b[0;34m,\u001b[0m\u001b[0mr_P_RA\u001b[0m\u001b[0;34m,\u001b[0m\u001b[0mr_P_DEC\u001b[0m\u001b[0;34m,\u001b[0m\u001b[0mP_mag_r\u001b[0m\u001b[0;34m,\u001b[0m\u001b[0mk_r\u001b[0m\u001b[0;34m)\u001b[0m\u001b[0;34m\u001b[0m\u001b[0m\n\u001b[1;32m      3\u001b[0m \u001b[0mTyc_529_1\u001b[0m \u001b[0;34m=\u001b[0m \u001b[0mfindmag\u001b[0m\u001b[0;34m(\u001b[0m\u001b[0mNGC3783_r\u001b[0m\u001b[0;34m,\u001b[0m\u001b[0mP_r\u001b[0m\u001b[0;34m,\u001b[0m\u001b[0msta3_RA_WORLD\u001b[0m\u001b[0;34m,\u001b[0m\u001b[0msta3_DEC_WORLD\u001b[0m\u001b[0;34m,\u001b[0m\u001b[0mr_P_RA\u001b[0m\u001b[0;34m,\u001b[0m\u001b[0mr_P_DEC\u001b[0m\u001b[0;34m,\u001b[0m\u001b[0mP_mag_r\u001b[0m\u001b[0;34m,\u001b[0m\u001b[0mk_r\u001b[0m\u001b[0;34m)\u001b[0m\u001b[0;34m\u001b[0m\u001b[0m\n\u001b[1;32m      4\u001b[0m \u001b[0;34m\u001b[0m\u001b[0m\n\u001b[1;32m      5\u001b[0m \u001b[0;34m\u001b[0m\u001b[0m\n",
      "\u001b[0;31mNameError\u001b[0m: name 'NGC3783_r' is not defined"
     ]
    }
   ],
   "source": [
    "HD101274_1 = findmag(NGC3783_r,P_r,sta1_RA_WORLD,sta1_DEC_WORLD,r_P_RA,r_P_DEC,P_mag_r,k_r)\n",
    "Tyc_22_1 = findmag(NGC3783_r,P_r,sta2_RA_WORLD,sta2_DEC_WORLD,r_P_RA,r_P_DEC,P_mag_r,k_r)\n",
    "Tyc_529_1 = findmag(NGC3783_r,P_r,sta3_RA_WORLD,sta3_DEC_WORLD,r_P_RA,r_P_DEC,P_mag_r,k_r)\n",
    "\n",
    "\n"
   ]
  },
  {
   "cell_type": "code",
   "execution_count": null,
   "metadata": {
    "collapsed": true
   },
   "outputs": [],
   "source": [
    "print 'r-filter'\n",
    "print HD101274_1\n",
    "print np.mean(HD101274_1,), np.std(HD101274_1)\n",
    "\n",
    "print Tyc_22_1\n",
    "print np.mean(Tyc_22_1), np.std(Tyc_22_1)\n",
    "\n",
    "print Tyc_529_1\n",
    "print np.mean(Tyc_529_1), np.std(Tyc_529_1)"
   ]
  },
  {
   "cell_type": "code",
   "execution_count": null,
   "metadata": {
    "collapsed": true,
    "scrolled": true
   },
   "outputs": [],
   "source": [
    "HD101274_1 = findmag(NGC3783_i,P_i,sta1_RA_WORLD,sta1_DEC_WORLD,i_P_RA,i_P_DEC,P_mag_i,k_i)\n",
    "Tyc_22_1 = findmag(NGC3783_i,P_i,sta2_RA_WORLD,sta2_DEC_WORLD,i_P_RA,i_P_DEC,P_mag_i,k_i)\n",
    "Tyc_529_1 = findmag(NGC3783_i,P_i,sta3_RA_WORLD,sta3_DEC_WORLD,i_P_RA,i_P_DEC,P_mag_i,k_i)\n",
    "\n",
    "\n"
   ]
  },
  {
   "cell_type": "code",
   "execution_count": null,
   "metadata": {
    "collapsed": true
   },
   "outputs": [],
   "source": [
    "print 'i-filter'\n",
    "print HD101274_1\n",
    "print np.mean(HD101274_1,), np.std(HD101274_1)\n",
    "\n",
    "print Tyc_22_1\n",
    "print np.mean(Tyc_22_1), np.std(Tyc_22_1)\n",
    "\n",
    "print Tyc_529_1\n",
    "print np.mean(Tyc_529_1), np.std(Tyc_529_1)"
   ]
  },
  {
   "cell_type": "code",
   "execution_count": null,
   "metadata": {
    "collapsed": true,
    "scrolled": true
   },
   "outputs": [],
   "source": [
    "sta2_RA_WORLD = 174.82083333\n",
    "sta2_DEC_WORLD = -37.76194444\n",
    "\n",
    "HD101274_1 = findmag(NGC3783_z,P_z,sta1_RA_WORLD,sta1_DEC_WORLD,z_P_RA,z_P_DEC,P_mag_z,k_z)\n",
    "Tyc_22_1 = findmag(NGC3783_z,P_z,sta2_RA_WORLD,sta2_DEC_WORLD,z_P_RA,z_P_DEC,P_mag_z,k_z)\n",
    "Tyc_529_1 = findmag(NGC3783_z,P_z,sta3_RA_WORLD,sta3_DEC_WORLD,z_P_RA,z_P_DEC,P_mag_z,k_z)\n",
    "\n",
    "\n"
   ]
  },
  {
   "cell_type": "code",
   "execution_count": null,
   "metadata": {
    "collapsed": true
   },
   "outputs": [],
   "source": [
    "print 'z-filter'\n",
    "print HD101274_1\n",
    "print np.nanmean(HD101274_1,), np.nanstd(HD101274_1)\n",
    "\n",
    "print Tyc_22_1\n",
    "print np.nanmean(Tyc_22_1), np.nanstd(Tyc_22_1)\n",
    "\n",
    "print Tyc_529_1\n",
    "print np.nanmean(Tyc_529_1), np.nanstd(Tyc_529_1)"
   ]
  },
  {
   "cell_type": "code",
   "execution_count": null,
   "metadata": {
    "collapsed": true
   },
   "outputs": [],
   "source": []
  }
 ],
 "metadata": {
  "kernelspec": {
   "display_name": "Python 2",
   "language": "python",
   "name": "python2"
  },
  "language_info": {
   "codemirror_mode": {
    "name": "ipython",
    "version": 2
   },
   "file_extension": ".py",
   "mimetype": "text/x-python",
   "name": "python",
   "nbconvert_exporter": "python",
   "pygments_lexer": "ipython2",
   "version": "2.7.13"
  }
 },
 "nbformat": 4,
 "nbformat_minor": 2
}
