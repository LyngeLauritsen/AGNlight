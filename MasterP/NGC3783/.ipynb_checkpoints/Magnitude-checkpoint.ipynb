{
 "cells": [
  {
   "cell_type": "code",
   "execution_count": 1,
   "metadata": {
    "collapsed": false
   },
   "outputs": [
    {
     "name": "stderr",
     "output_type": "stream",
     "text": [
      "/home/lynge/anaconda2/lib/python2.7/site-packages/matplotlib/cbook/deprecation.py:106: MatplotlibDeprecationWarning: The mpl_toolkits.axes_grid module was deprecated in version 2.1. Use mpl_toolkits.axes_grid1 and mpl_toolkits.axisartist provies the same functionality instead.\n",
      "  warnings.warn(message, mplDeprecation, stacklevel=1)\n",
      "/home/lynge/anaconda2/lib/python2.7/site-packages/ipykernel_launcher.py:25: UserWarning: \n",
      "This call to matplotlib.use() has no effect because the backend has already\n",
      "been chosen; matplotlib.use() must be called *before* pylab, matplotlib.pyplot,\n",
      "or matplotlib.backends is imported for the first time.\n",
      "\n",
      "The backend was *originally* set to 'module://ipykernel.pylab.backend_inline' by the following code:\n",
      "  File \"/home/lynge/anaconda2/lib/python2.7/runpy.py\", line 174, in _run_module_as_main\n",
      "    \"__main__\", fname, loader, pkg_name)\n",
      "  File \"/home/lynge/anaconda2/lib/python2.7/runpy.py\", line 72, in _run_code\n",
      "    exec code in run_globals\n",
      "  File \"/home/lynge/anaconda2/lib/python2.7/site-packages/ipykernel_launcher.py\", line 16, in <module>\n",
      "    app.launch_new_instance()\n",
      "  File \"/home/lynge/anaconda2/lib/python2.7/site-packages/traitlets/config/application.py\", line 658, in launch_instance\n",
      "    app.start()\n",
      "  File \"/home/lynge/anaconda2/lib/python2.7/site-packages/ipykernel/kernelapp.py\", line 477, in start\n",
      "    ioloop.IOLoop.instance().start()\n",
      "  File \"/home/lynge/anaconda2/lib/python2.7/site-packages/zmq/eventloop/ioloop.py\", line 177, in start\n",
      "    super(ZMQIOLoop, self).start()\n",
      "  File \"/home/lynge/anaconda2/lib/python2.7/site-packages/tornado/ioloop.py\", line 888, in start\n",
      "    handler_func(fd_obj, events)\n",
      "  File \"/home/lynge/anaconda2/lib/python2.7/site-packages/tornado/stack_context.py\", line 277, in null_wrapper\n",
      "    return fn(*args, **kwargs)\n",
      "  File \"/home/lynge/anaconda2/lib/python2.7/site-packages/zmq/eventloop/zmqstream.py\", line 440, in _handle_events\n",
      "    self._handle_recv()\n",
      "  File \"/home/lynge/anaconda2/lib/python2.7/site-packages/zmq/eventloop/zmqstream.py\", line 472, in _handle_recv\n",
      "    self._run_callback(callback, msg)\n",
      "  File \"/home/lynge/anaconda2/lib/python2.7/site-packages/zmq/eventloop/zmqstream.py\", line 414, in _run_callback\n",
      "    callback(*args, **kwargs)\n",
      "  File \"/home/lynge/anaconda2/lib/python2.7/site-packages/tornado/stack_context.py\", line 277, in null_wrapper\n",
      "    return fn(*args, **kwargs)\n",
      "  File \"/home/lynge/anaconda2/lib/python2.7/site-packages/ipykernel/kernelbase.py\", line 283, in dispatcher\n",
      "    return self.dispatch_shell(stream, msg)\n",
      "  File \"/home/lynge/anaconda2/lib/python2.7/site-packages/ipykernel/kernelbase.py\", line 235, in dispatch_shell\n",
      "    handler(stream, idents, msg)\n",
      "  File \"/home/lynge/anaconda2/lib/python2.7/site-packages/ipykernel/kernelbase.py\", line 399, in execute_request\n",
      "    user_expressions, allow_stdin)\n",
      "  File \"/home/lynge/anaconda2/lib/python2.7/site-packages/ipykernel/ipkernel.py\", line 196, in do_execute\n",
      "    res = shell.run_cell(code, store_history=store_history, silent=silent)\n",
      "  File \"/home/lynge/anaconda2/lib/python2.7/site-packages/ipykernel/zmqshell.py\", line 533, in run_cell\n",
      "    return super(ZMQInteractiveShell, self).run_cell(*args, **kwargs)\n",
      "  File \"/home/lynge/anaconda2/lib/python2.7/site-packages/IPython/core/interactiveshell.py\", line 2717, in run_cell\n",
      "    interactivity=interactivity, compiler=compiler, result=result)\n",
      "  File \"/home/lynge/anaconda2/lib/python2.7/site-packages/IPython/core/interactiveshell.py\", line 2821, in run_ast_nodes\n",
      "    if self.run_code(code, result):\n",
      "  File \"/home/lynge/anaconda2/lib/python2.7/site-packages/IPython/core/interactiveshell.py\", line 2881, in run_code\n",
      "    exec(code_obj, self.user_global_ns, self.user_ns)\n",
      "  File \"<ipython-input-1-a1e4ca7cbff6>\", line 5, in <module>\n",
      "    get_ipython().magic(u'matplotlib inline')\n",
      "  File \"/home/lynge/anaconda2/lib/python2.7/site-packages/IPython/core/interactiveshell.py\", line 2158, in magic\n",
      "    return self.run_line_magic(magic_name, magic_arg_s)\n",
      "  File \"/home/lynge/anaconda2/lib/python2.7/site-packages/IPython/core/interactiveshell.py\", line 2079, in run_line_magic\n",
      "    result = fn(*args,**kwargs)\n",
      "  File \"<decorator-gen-104>\", line 2, in matplotlib\n",
      "  File \"/home/lynge/anaconda2/lib/python2.7/site-packages/IPython/core/magic.py\", line 188, in <lambda>\n",
      "    call = lambda f, *a, **k: f(*a, **k)\n",
      "  File \"/home/lynge/anaconda2/lib/python2.7/site-packages/IPython/core/magics/pylab.py\", line 100, in matplotlib\n",
      "    gui, backend = self.shell.enable_matplotlib(args.gui)\n",
      "  File \"/home/lynge/anaconda2/lib/python2.7/site-packages/IPython/core/interactiveshell.py\", line 2949, in enable_matplotlib\n",
      "    pt.activate_matplotlib(backend)\n",
      "  File \"/home/lynge/anaconda2/lib/python2.7/site-packages/IPython/core/pylabtools.py\", line 308, in activate_matplotlib\n",
      "    matplotlib.pyplot.switch_backend(backend)\n",
      "  File \"/home/lynge/anaconda2/lib/python2.7/site-packages/matplotlib/pyplot.py\", line 232, in switch_backend\n",
      "    matplotlib.use(newbackend, warn=False, force=True)\n",
      "  File \"/home/lynge/anaconda2/lib/python2.7/site-packages/matplotlib/__init__.py\", line 1305, in use\n",
      "    reload(sys.modules['matplotlib.backends'])\n",
      "  File \"/home/lynge/anaconda2/lib/python2.7/site-packages/matplotlib/backends/__init__.py\", line 14, in <module>\n",
      "    line for line in traceback.format_stack()\n",
      "\n",
      "\n"
     ]
    }
   ],
   "source": [
    "import numpy as np\n",
    "import scipy as sp\n",
    "import matplotlib\n",
    "import matplotlib.pyplot as plt\n",
    "%matplotlib inline\n",
    "from matplotlib.colors import LogNorm\n",
    "import scipy.stats as stats\n",
    "from matplotlib import gridspec\n",
    "import aplpy as apl #The Astronomy Plotting Library for python\n",
    "import astropy\n",
    "from astropy.stats import sigma_clip\n",
    "from astropy.modeling import functional_models, models, fitting\n",
    "import astropy.units as U\n",
    "from astropy.coordinates import ICRS, Galactic, FK4, FK5, Angle, Latitude, Longitude\n",
    "import astropy.constants as C\n",
    "from astropy import wcs\n",
    "import astropy.io.fits as fits\n",
    "from astropy.io import ascii\n",
    "import astropy.coordinates as coord\n",
    "from astropy.coordinates import SkyCoord\n",
    "from astropy.stats import signal_to_noise_oir_ccd as SNRas\n",
    "#import spectral_cube as SC\n",
    "#from spectral_cube import SpectralCube as sc\n",
    "from astropy.wcs import WCS\n",
    "matplotlib.use('Agg')\n",
    "import matplotlib.cm as cm\n",
    "#import astrometry as ast\n",
    "import pyfits\n",
    "import requests\n",
    "import json\n",
    "import os\n",
    "from sklearn import datasets, linear_model\n",
    "from scipy.optimize import curve_fit\n",
    "import numpy.ma as ma\n",
    "from astropy.table import Table, Column\n",
    "import pyextract\n",
    "import sewpy\n",
    "import pandas as pd\n",
    "from astropy import units as u"
   ]
  },
  {
   "cell_type": "code",
   "execution_count": 2,
   "metadata": {
    "collapsed": true,
    "scrolled": false
   },
   "outputs": [],
   "source": [
    "sta1_RA_WORLD = 174.77413750 - 9*10**(-5) #HD 101274\n",
    "sta1_DEC_WORLD = -37.75375000 + 6.4*10**(-5)\n",
    "\n",
    "sta2_RA_WORLD = 174.82283333 - 0.15/3600. #Tycho-2 7740-22-1\n",
    "sta2_DEC_WORLD = -37.76239167\n",
    "\n",
    "sta3_RA_WORLD = 174.79553333 #174.79553250 #Tycho-2 7740-529-1\n",
    "sta3_DEC_WORLD = -37.83470278 #-37.83470333\n",
    "\n",
    "k_g = 0.16 #https://www.eso.org/sci/observing/tools/Extinction.html\n",
    "k_r = 0.08\n",
    "k_i = 0.02\n",
    "k_z = 0.01\n",
    "\n",
    "#mag_refsta1_g = 13.291\n",
    "#mag_refsta1_r = 12.843\n",
    "#mag_refsta1_i = 12.668\n",
    "#mag_refsta1_z = 12.593\n",
    "mag_refsta1_g = 11.689\n",
    "mag_refsta1_r = 11.491\n",
    "mag_refsta1_i = 11.465\n",
    "mag_refsta1_z = 11.500\n",
    "\n",
    "mag_refsta2_g = 10.166\n",
    "mag_refsta2_r = 10.229\n",
    "mag_refsta2_i = 10.347\n",
    "mag_refsta2_z = 10.456\n",
    "\n",
    "mag_refsta3_g = 13.291\n",
    "mag_refsta3_r = 12.843\n",
    "mag_refsta3_i = 12.668\n",
    "mag_refsta3_z = 12.593\n",
    "\n",
    "mag_refsta4_g = 11.861\n",
    "mag_refsta4_r = 11.562\n",
    "mag_refsta4_i = 11.460\n",
    "mag_refsta4_z = 11.430\n",
    "\n",
    "#refsta1_RA = SkyCoord('00:24:28 07:49:00', unit=(u.hourangle, u.deg)).ra.degree #P525_E_21_10_17\n",
    "#refsta1_DEC = SkyCoord('00:24:28 07:49:00', unit=(u.hourangle, u.deg)).dec.degree \n",
    "\n",
    "#refsta2_RA = SkyCoord('00:24:28 07:49:00', unit=(u.hourangle, u.deg)).ra.degree #P525_E_21_10_17\n",
    "#refsta2_DEC = SkyCoord('00:24:28 07:49:00', unit=(u.hourangle, u.deg)).dec.degree \n",
    "\n",
    "refsta1_RA = SkyCoord('00:55:10 00:43:13', unit=(u.hourangle, u.deg)).ra.degree #SA092_342\n",
    "refsta1_DEC = SkyCoord('00:55:10 00:43:13', unit=(u.hourangle, u.deg)).dec.degree \n",
    "\n",
    "refsta2_RA = SkyCoord('08:52:34 -00:39:49', unit=(u.hourangle, u.deg)).ra.degree #SA100_241\n",
    "refsta2_DEC = SkyCoord('08:52:34 -00:39:49', unit=(u.hourangle, u.deg)).dec.degree\n",
    "\n",
    "refsta3_RA = SkyCoord('00:24:28 07:49:00', unit=(u.hourangle, u.deg)).ra.degree #P525-E\n",
    "refsta3_DEC = SkyCoord('00:24:28 07:49:00', unit=(u.hourangle, u.deg)).dec.degree\n",
    "\n",
    "refsta4_RA = SkyCoord('01:54:38 00:43:01', unit=(u.hourangle, u.deg)).ra.degree #SA093_317\n",
    "refsta4_DEC = SkyCoord('01:54:38 00:43:01', unit=(u.hourangle, u.deg)).dec.degree "
   ]
  },
  {
   "cell_type": "code",
   "execution_count": 3,
   "metadata": {
    "collapsed": false
   },
   "outputs": [],
   "source": [
    "QUASAR1_g = [os.path.join('/media/lynge/Lynge-Back-up/Calibration/13-11-17-NGC3783/g',f) \\\n",
    "        for f in os.listdir('/media/lynge/Lynge-Back-up/Calibration/13-11-17-NGC3783/g')]\n",
    "\n",
    "QUASAR2_g = [os.path.join('/media/lynge/Lynge-Back-up/Calibration/08-06-16-NGC3783/g',f) \\\n",
    "        for f in os.listdir('/media/lynge/Lynge-Back-up/Calibration/08-06-16-NGC3783/g')]\n",
    "\n",
    "QUASAR3_g = [os.path.join('/media/lynge/Lynge-Back-up/Calibration/07-12-17-NGC3783/g',f) \\\n",
    "        for f in os.listdir('/media/lynge/Lynge-Back-up/Calibration/07-12-17-NGC3783/g')]\n",
    "\n",
    "QUASAR4_g = [os.path.join('/media/lynge/Lynge-Back-up/Calibration/04-01-17-NGC3783/g',f) \\\n",
    "        for f in os.listdir('/media/lynge/Lynge-Back-up/Calibration/04-01-17-NGC3783/g')]\n",
    "\n",
    "refsta1_g = [os.path.join('/media/lynge/Lynge-Back-up/Calibration/13-11-17-SA092_342/g',f) \\\n",
    "        for f in os.listdir('/media/lynge/Lynge-Back-up/Calibration/13-11-17-SA092_342/g')]\n",
    "\n",
    "refsta2_g = [os.path.join('/media/lynge/Lynge-Back-up/Calibration/08-06-16-SA100-241/g',f) \\\n",
    "        for f in os.listdir('/media/lynge/Lynge-Back-up/Calibration/08-06-16-SA100-241/g')]\n",
    "\n",
    "refsta3_g = [os.path.join('/media/lynge/Lynge-Back-up/Calibration/07-12-17-P525-E/g',f) \\\n",
    "        for f in os.listdir('/media/lynge/Lynge-Back-up/Calibration/07-12-17-P525-E/g')]\n",
    "\n",
    "refsta4_g = [os.path.join('/media/lynge/Lynge-Back-up/Calibration/04-01-17-SA093_317/g',f) \\\n",
    "        for f in os.listdir('/media/lynge/Lynge-Back-up/Calibration/04-01-17-SA093_317/g')]"
   ]
  },
  {
   "cell_type": "code",
   "execution_count": 4,
   "metadata": {
    "collapsed": true
   },
   "outputs": [],
   "source": [
    "QUASAR1_r = [os.path.join('/media/lynge/Lynge-Back-up/Calibration/13-11-17-NGC3783/r',f) \\\n",
    "        for f in os.listdir('/media/lynge/Lynge-Back-up/Calibration/13-11-17-NGC3783/r')]\n",
    "\n",
    "QUASAR2_r = [os.path.join('/media/lynge/Lynge-Back-up/Calibration/08-06-16-NGC3783/r',f) \\\n",
    "        for f in os.listdir('/media/lynge/Lynge-Back-up/Calibration/08-06-16-NGC3783/r')]\n",
    "\n",
    "QUASAR3_r = [os.path.join('/media/lynge/Lynge-Back-up/Calibration/07-12-17-NGC3783/r',f) \\\n",
    "        for f in os.listdir('/media/lynge/Lynge-Back-up/Calibration/07-12-17-NGC3783/r')]\n",
    "\n",
    "QUASAR4_r = [os.path.join('/media/lynge/Lynge-Back-up/Calibration/04-01-17-NGC3783/r',f) \\\n",
    "        for f in os.listdir('/media/lynge/Lynge-Back-up/Calibration/04-01-17-NGC3783/r')]\n",
    "\n",
    "refsta1_r = [os.path.join('/media/lynge/Lynge-Back-up/Calibration/13-11-17-SA092_342/r',f) \\\n",
    "        for f in os.listdir('/media/lynge/Lynge-Back-up/Calibration/13-11-17-SA092_342/r')]\n",
    "\n",
    "refsta2_r = [os.path.join('/media/lynge/Lynge-Back-up/Calibration/08-06-16-SA100-241/r',f) \\\n",
    "        for f in os.listdir('/media/lynge/Lynge-Back-up/Calibration/08-06-16-SA100-241/r')]\n",
    "\n",
    "refsta3_r = [os.path.join('/media/lynge/Lynge-Back-up/Calibration/07-12-17-P525-E/r',f) \\\n",
    "        for f in os.listdir('/media/lynge/Lynge-Back-up/Calibration/07-12-17-P525-E/r')]\n",
    "\n",
    "refsta4_r = [os.path.join('/media/lynge/Lynge-Back-up/Calibration/04-01-17-SA093_317/r',f) \\\n",
    "        for f in os.listdir('/media/lynge/Lynge-Back-up/Calibration/04-01-17-SA093_317/r')]"
   ]
  },
  {
   "cell_type": "code",
   "execution_count": 5,
   "metadata": {
    "collapsed": true
   },
   "outputs": [],
   "source": [
    "QUASAR1_i = [os.path.join('/media/lynge/Lynge-Back-up/Calibration/13-11-17-NGC3783/i',f) \\\n",
    "        for f in os.listdir('/media/lynge/Lynge-Back-up/Calibration/13-11-17-NGC3783/i')]\n",
    "\n",
    "QUASAR2_i = [os.path.join('/media/lynge/Lynge-Back-up/Calibration/08-06-16-NGC3783/i',f) \\\n",
    "        for f in os.listdir('/media/lynge/Lynge-Back-up/Calibration/08-06-16-NGC3783/i')]\n",
    "\n",
    "QUASAR3_i = [os.path.join('/media/lynge/Lynge-Back-up/Calibration/07-12-17-NGC3783/i',f) \\\n",
    "        for f in os.listdir('/media/lynge/Lynge-Back-up/Calibration/07-12-17-NGC3783/i')]\n",
    "\n",
    "QUASAR4_i = [os.path.join('/media/lynge/Lynge-Back-up/Calibration/04-01-17-NGC3783/i',f) \\\n",
    "        for f in os.listdir('/media/lynge/Lynge-Back-up/Calibration/04-01-17-NGC3783/i')]\n",
    "\n",
    "refsta1_i = [os.path.join('/media/lynge/Lynge-Back-up/Calibration/13-11-17-SA092_342/i',f) \\\n",
    "        for f in os.listdir('/media/lynge/Lynge-Back-up/Calibration/13-11-17-SA092_342/i')]\n",
    "\n",
    "refsta2_i = [os.path.join('/media/lynge/Lynge-Back-up/Calibration/08-06-16-SA100-241/i',f) \\\n",
    "        for f in os.listdir('/media/lynge/Lynge-Back-up/Calibration/08-06-16-SA100-241/i')]\n",
    "\n",
    "refsta3_i = [os.path.join('/media/lynge/Lynge-Back-up/Calibration/07-12-17-P525-E/i',f) \\\n",
    "        for f in os.listdir('/media/lynge/Lynge-Back-up/Calibration/07-12-17-P525-E/i')]\n",
    "\n",
    "refsta4_i = [os.path.join('/media/lynge/Lynge-Back-up/Calibration/04-01-17-SA093_317/i',f) \\\n",
    "        for f in os.listdir('/media/lynge/Lynge-Back-up/Calibration/04-01-17-SA093_317/i')]"
   ]
  },
  {
   "cell_type": "code",
   "execution_count": 6,
   "metadata": {
    "collapsed": true
   },
   "outputs": [],
   "source": [
    "QUASAR1_z = [os.path.join('/media/lynge/Lynge-Back-up/Calibration/13-11-17-NGC3783/z',f) \\\n",
    "        for f in os.listdir('/media/lynge/Lynge-Back-up/Calibration/13-11-17-NGC3783/z')]\n",
    "\n",
    "QUASAR2_z = [os.path.join('/media/lynge/Lynge-Back-up/Calibration/08-06-16-NGC3783/z',f) \\\n",
    "        for f in os.listdir('/media/lynge/Lynge-Back-up/Calibration/08-06-16-NGC3783/z')]\n",
    "\n",
    "QUASAR3_z = [os.path.join('/media/lynge/Lynge-Back-up/Calibration/07-12-17-NGC3783/z',f) \\\n",
    "        for f in os.listdir('/media/lynge/Lynge-Back-up/Calibration/07-12-17-NGC3783/z')]\n",
    "\n",
    "QUASAR4_z = [os.path.join('/media/lynge/Lynge-Back-up/Calibration/04-01-17-NGC3783/z',f) \\\n",
    "        for f in os.listdir('/media/lynge/Lynge-Back-up/Calibration/04-01-17-NGC3783/z')]\n",
    "\n",
    "refsta1_z = [os.path.join('/media/lynge/Lynge-Back-up/Calibration/13-11-17-SA092_342/z',f) \\\n",
    "        for f in os.listdir('/media/lynge/Lynge-Back-up/Calibration/13-11-17-SA092_342/z')]\n",
    "\n",
    "refsta2_z = [os.path.join('/media/lynge/Lynge-Back-up/Calibration/08-06-16-SA100-241/z',f) \\\n",
    "        for f in os.listdir('/media/lynge/Lynge-Back-up/Calibration/08-06-16-SA100-241/z')]\n",
    "\n",
    "refsta3_z = [os.path.join('/media/lynge/Lynge-Back-up/Calibration/07-12-17-P525-E/z',f) \\\n",
    "        for f in os.listdir('/media/lynge/Lynge-Back-up/Calibration/07-12-17-P525-E/z')]\n",
    "\n",
    "refsta4_z = [os.path.join('/media/lynge/Lynge-Back-up/Calibration/04-01-17-SA093_317/z',f) \\\n",
    "        for f in os.listdir('/media/lynge/Lynge-Back-up/Calibration/04-01-17-SA093_317/z')]"
   ]
  },
  {
   "cell_type": "code",
   "execution_count": 7,
   "metadata": {
    "collapsed": true
   },
   "outputs": [],
   "source": [
    "def dist(mid,end):\n",
    "    return np.sqrt((mid[0] - end[0])**2 + (mid[1] - end[1])**2)"
   ]
  },
  {
   "cell_type": "code",
   "execution_count": 8,
   "metadata": {
    "collapsed": true
   },
   "outputs": [],
   "source": [
    "def flux_cal(A_mag,B_mag,B_flux):\n",
    "    '''Flux of A found through magnitude and flux of B'''\n",
    "    return B_flux*10**((B_mag-A_mag)/2.5)"
   ]
  },
  {
   "cell_type": "code",
   "execution_count": 9,
   "metadata": {
    "collapsed": true
   },
   "outputs": [],
   "source": [
    "def Basic(quasar,header):\n",
    "    '''Provides a basic list of neccesities from the fits header file for use in the later \\\n",
    "    flux determination, it does not serve an individual purpose beyound that'''\n",
    "    AGNdata = quasar #np.rot90(np.rot90(np.fliplr(quasar)))\n",
    "    #header = data[0].header\n",
    "    #print header\n",
    "    RAstd = header['CRVAL1']\n",
    "    DECstd = header['CRVAL2']\n",
    "    #print RAstd, DECstd\n",
    "    pixspa = header['PIXSCALE']/(3600.)\n",
    "    #print pixspa\n",
    "    RAstdpix = header['CRPIX1']\n",
    "    DECstdpix = header['CRPIX2']\n",
    "    exptime = 10 # header['EXPTIME']\n",
    "    return header,AGNdata,RAstd,DECstd,pixspa,RAstdpix,DECstdpix,exptime"
   ]
  },
  {
   "cell_type": "code",
   "execution_count": 10,
   "metadata": {
    "collapsed": true
   },
   "outputs": [],
   "source": [
    "def curve(quasar,header,w,center,apparature):\n",
    "    '''Determines the FLUX of the stellar object given the the numpy array of the image, \\\n",
    "    the header of the fits file, the astropy coordinate representation, \\\n",
    "    the object position and the apparature of interest'''\n",
    "    header,AGNdata,RAstd,DECstd,pixspa,RAstdpix,DECstdpix,exptime = Basic(quasar,header)\n",
    "    #AGNdata = np.swapaxes(AGNdata,0,1)\n",
    "    y, x = np.ogrid[0:header['NAXIS1'],0:header['NAXIS1']]\n",
    "    #w = np.swapaxes(w,0,1)\n",
    "    #F_AGN = np.zeros((512,512,3)) #((int(2*apparature/pixspa)+1,int(2*apparature/pixspa)+1,3))\n",
    "    #print center\n",
    "    x1 = w.all_world2pix(center[0],center[1],0)\n",
    "    x1,y1 = (x1[0]),(x1[1])\n",
    "    try:\n",
    "        mask = ((y-y1)**2 + (x-x1)**2) > (apparature/float(pixspa))**2\n",
    "        AGNdata[mask] = float(0)\n",
    "        mask = AGNdata == 0.\n",
    "        rows = np.flatnonzero((~mask).sum(axis=1))\n",
    "        cols = np.flatnonzero((~mask).sum(axis=0))\n",
    "        AGNdata = AGNdata[rows.min():rows.max()+1, cols.min():cols.max()+1]\n",
    "        #print apparature/float(pixspa)\n",
    "    except:\n",
    "        AGNdata = np.array([[float('nan'),float('nan')],[float('nan'),float('nan')]])\n",
    "    #if np.sum(AGNdata) < 500:\n",
    "    #    AGNdata = np.array([[float('nan'),float('nan')],[float('nan'),float('nan')]])\n",
    "    return AGNdata/float(exptime), x1, y1\n"
   ]
  },
  {
   "cell_type": "code",
   "execution_count": 11,
   "metadata": {
    "collapsed": true
   },
   "outputs": [],
   "source": [
    "def comp1(qua,sta):\n",
    "    '''Code to determine the relation between the AGN and the Stellar flux as determined by either me \\\n",
    "    or by the SExtractor program respectively'''\n",
    "    comp = qua/sta\n",
    "    return comp"
   ]
  },
  {
   "cell_type": "code",
   "execution_count": 12,
   "metadata": {
    "collapsed": true
   },
   "outputs": [],
   "source": [
    "def SNR(data1,data2,header,ap1,ap2):\n",
    "    npix1 = np.pi*ap1**2/((header['PIXSCALE']/3600.)**2)\n",
    "    npix2 = np.pi*ap2**2/((header['PIXSCALE']/3600.)**2)\n",
    "    #data2_1 = ((data2-data1)/npix2)*npix1\n",
    "    data1_2 = data1/10.\n",
    "    data2_2 = data2/10.\n",
    "    return SNRas(10.,data1_2,abs(data2_2),0,header['RON'],npix1,gain=header['GAIN'])"
   ]
  },
  {
   "cell_type": "code",
   "execution_count": 13,
   "metadata": {
    "collapsed": true
   },
   "outputs": [],
   "source": [
    "def SXtable(quas,aperture):\n",
    "    header = pyfits.getheader(quas)\n",
    "    phot_app = aperture*3600/header['PIXSCALE']\n",
    "    np.set_printoptions(threshold=np.inf)\n",
    "    sew = sewpy.SEW(params=['XMODEL_WORLD', 'YMODEL_WORLD', 'X2MODEL_WORLD', 'Y2MODEL_WORLD', \n",
    "                            'XMODEL_IMAGE', 'YMODEL_IMAGE', 'FLUX_RADIUS(1)', 'FLUX_APER','ELLIPTICITY'],\n",
    "                    config={\"DETECT_THRESH\":5, 'DETECT_MINAREA':20, 'DETECT_MAXAREA':30000, \n",
    "                            \"PHOT_FLUXFRAC\":\"0.5\", 'PHOT_APERTURES':2*phot_app, \n",
    "                            'PIXEL_SCALE':header['PIXSCALE']}\n",
    "                    , sexpath='/usr/bin/sextractor')\n",
    "    out = sew(quas)\n",
    "    return out"
   ]
  },
  {
   "cell_type": "code",
   "execution_count": 14,
   "metadata": {
    "collapsed": true
   },
   "outputs": [],
   "source": [
    "def flux(quas,aperture,main_RA_WORLD,main_DEC_WORLD):\n",
    "    header = pyfits.getheader(quas)\n",
    "    RAmain = WCS(quas).all_world2pix(main_RA_WORLD,main_DEC_WORLD,1)[0]\n",
    "    DECmain = WCS(quas).all_world2pix(main_RA_WORLD,main_DEC_WORLD,1)[1]\n",
    "    output = float('nan')\n",
    "    if 15 < RAmain < header['NAXIS1'] - 15 and 15 < DECmain < header['NAXIS2'] - 15: \n",
    "        out = SXtable(quas,aperture)\n",
    "        #print out['table']['XMODEL_IMAGE']\n",
    "        #print RAmain\n",
    "        RAmain = WCS(quas).all_world2pix(main_RA_WORLD,main_DEC_WORLD,0)[0]\n",
    "        DECmain = WCS(quas).all_world2pix(main_RA_WORLD,main_DEC_WORLD,0)[1]\n",
    "        #print out['table']['XMODEL_IMAGE'], out['table']['YMODEL_IMAGE']\n",
    "        #print RAmain, DECmain\n",
    "\n",
    "        for j in range(len(out['table']['XMODEL_IMAGE'])):\n",
    "            #output['time'][i] = header['MJD-OBS']\n",
    "            if RAmain - 20. < out['table']['XMODEL_IMAGE'][j] <  RAmain + 20. and \\\n",
    "            DECmain - 20. < out['table']['YMODEL_IMAGE'][j] < DECmain + 20.:\n",
    "                #print 'YES'\n",
    "                output = out['table']['FLUX_APER'][j]\n",
    "                break\n",
    "    else:\n",
    "        output = float('nan')\n",
    "        #print 'Done'\n",
    "    return output\n"
   ]
  },
  {
   "cell_type": "code",
   "execution_count": 15,
   "metadata": {
    "collapsed": true,
    "scrolled": false
   },
   "outputs": [],
   "source": [
    "def findmag(start,compare1,RA_star,DEC_star,RA_com,DEC_com,mag_com,AIR_EXTINCTION):\n",
    "    aperture1 = 0.001\n",
    "    #201.5441,-8.8601\n",
    "    com_flu = []\n",
    "    com_AIRMASS = []\n",
    "    com_EXPTIME = []\n",
    "    star_flu = []\n",
    "    star_AIRMASS = []\n",
    "    star_EXPTIME = []\n",
    "    for i in range(len(compare1)):\n",
    "        #print 'Frame nr. ', i, compare1[i]\n",
    "        header = pyfits.getheader(compare1[i])\n",
    "        a1 = flux(compare1[i],2*aperture1,RA_com,DEC_com)/header['EXPTIME']\n",
    "        if a1 > 0:\n",
    "            #print a1\n",
    "            com_flu.append(a1), com_AIRMASS.append(header['AIRMASS']*AIR_EXTINCTION), com_EXPTIME.append(header['EXPTIME'])\n",
    "        else:\n",
    "            print a1\n",
    "            com_flu.append(float('nan')), com_AIRMASS.append(float('nan')), com_EXPTIME.append(header['EXPTIME'])\n",
    "        #plt.figure(figsize=(3,3))\n",
    "        #plt.imshow(a1,cmap='hot')\n",
    "        #plt.colorbar()\n",
    "    for i in range(len(start)):\n",
    "        #print 'Frame nr. ', i, start[i]\n",
    "        header = pyfits.getheader(start[i])\n",
    "        a1 = flux(start[i],2*aperture1,RA_star,DEC_star)/header['EXPTIME']\n",
    "        if a1 > 0:\n",
    "            #print a1\n",
    "            star_flu.append(a1), star_AIRMASS.append(header['AIRMASS']*AIR_EXTINCTION), star_EXPTIME.append(header['EXPTIME'])\n",
    "        else:\n",
    "            star_flu.append(float('nan')), star_AIRMASS.append(float('nan')), star_EXPTIME.append(header['EXPTIME'])\n",
    "        #plt.figure(figsize=(3,3))\n",
    "        #plt.imshow(a1,cmap='hot')\n",
    "        #plt.colorbar()\n",
    "    com_flu = np.array(com_flu)\n",
    "    com_AIRMASS = np.array(com_AIRMASS)\n",
    "    com_EXPTIME = np.array(com_EXPTIME)\n",
    "    star_flu = np.array(star_flu)\n",
    "    star_AIRMASS = np.array(star_AIRMASS)\n",
    "    star_EXPTIME = np.array(star_EXPTIME)\n",
    "    com_flu = com_flu/com_EXPTIME\n",
    "    star_flu = star_flu/star_EXPTIME\n",
    "    com_flux = np.nanmean(com_flu)\n",
    "    com_AIRMASS_num = np.nanmean(com_AIRMASS)\n",
    "    star_AIRMASS_num = np.nanmean(star_AIRMASS)\n",
    "    mag = -(star_AIRMASS_num-com_AIRMASS_num) + mag_com - 2.5*np.log10(star_flu/float(com_flux))\n",
    "    #print mag\n",
    "    return mag"
   ]
  },
  {
   "cell_type": "code",
   "execution_count": 16,
   "metadata": {
    "collapsed": false,
    "scrolled": true
   },
   "outputs": [
    {
     "name": "stderr",
     "output_type": "stream",
     "text": [
      "/home/lynge/anaconda2/lib/python2.7/site-packages/pyfits/hdu/image.py:515: VerifyWarning: Invalid 'BLANK' keyword in header.  The 'BLANK' keyword is only applicable to integer data, and will be ignored in this HDU.\n",
      "  warnings.warn(msg, VerifyWarning)\n",
      "WARNING: VerifyWarning: Invalid 'BLANK' keyword in header.  The 'BLANK' keyword is only applicable to integer data, and will be ignored in this HDU. [astropy.io.fits.hdu.image]\n",
      "WARNING: FITSFixedWarning: RADECSYS= 'FK5 ' / Reference system for celestial coordinates \n",
      "the RADECSYS keyword is deprecated, use RADESYSa. [astropy.wcs.wcs]\n",
      "No handlers could be found for logger \"sewpy.sewpy\"\n",
      "/home/lynge/anaconda2/lib/python2.7/site-packages/ipykernel_launcher.py:45: RuntimeWarning: Mean of empty slice\n"
     ]
    },
    {
     "name": "stdout",
     "output_type": "stream",
     "text": [
      "nan\n",
      "nan\n",
      "nan\n",
      "nan\n",
      "nan\n",
      "nan\n"
     ]
    }
   ],
   "source": [
    "com1_1 = findmag(QUASAR1_g,refsta1_g,sta1_RA_WORLD,sta1_DEC_WORLD,refsta1_RA,refsta1_DEC,mag_refsta1_g,k_g)\n",
    "com2_1 = findmag(QUASAR1_g,refsta1_g,sta2_RA_WORLD,sta2_DEC_WORLD,refsta1_RA,refsta1_DEC,mag_refsta1_g,k_g)\n",
    "com3_1 = findmag(QUASAR1_g,refsta1_g,sta3_RA_WORLD,sta3_DEC_WORLD,refsta1_RA,refsta1_DEC,mag_refsta1_g,k_g)\n",
    "\n",
    "com1_2 = findmag(QUASAR2_g,refsta2_g,sta1_RA_WORLD,sta1_DEC_WORLD,refsta2_RA,refsta2_DEC,mag_refsta2_g,k_g)\n",
    "com2_2 = findmag(QUASAR2_g,refsta2_g,sta2_RA_WORLD,sta2_DEC_WORLD,refsta2_RA,refsta2_DEC,mag_refsta2_g,k_g)\n",
    "com3_2 = findmag(QUASAR2_g,refsta2_g,sta3_RA_WORLD,sta3_DEC_WORLD,refsta2_RA,refsta2_DEC,mag_refsta2_g,k_g)\n",
    "\n",
    "com1_3 = findmag(QUASAR2_g,refsta3_g,sta1_RA_WORLD,sta1_DEC_WORLD,refsta3_RA,refsta3_DEC,mag_refsta3_g,k_g)\n",
    "com2_3 = findmag(QUASAR2_g,refsta3_g,sta2_RA_WORLD,sta2_DEC_WORLD,refsta3_RA,refsta3_DEC,mag_refsta3_g,k_g)\n",
    "com3_3 = findmag(QUASAR2_g,refsta3_g,sta3_RA_WORLD,sta3_DEC_WORLD,refsta3_RA,refsta3_DEC,mag_refsta3_g,k_g)\n",
    "\n",
    "com1_4 = findmag(QUASAR2_g,refsta4_g,sta1_RA_WORLD,sta1_DEC_WORLD,refsta4_RA,refsta4_DEC,mag_refsta4_g,k_g)\n",
    "com2_4 = findmag(QUASAR2_g,refsta4_g,sta2_RA_WORLD,sta2_DEC_WORLD,refsta4_RA,refsta4_DEC,mag_refsta4_g,k_g)\n",
    "com3_4 = findmag(QUASAR2_g,refsta4_g,sta3_RA_WORLD,sta3_DEC_WORLD,refsta4_RA,refsta4_DEC,mag_refsta4_g,k_g)"
   ]
  },
  {
   "cell_type": "code",
   "execution_count": 17,
   "metadata": {
    "collapsed": false,
    "scrolled": true
   },
   "outputs": [
    {
     "name": "stdout",
     "output_type": "stream",
     "text": [
      "g-filter\n",
      "Star 1\n",
      "[10.13540332 10.14115504 10.11864753] [10.18804222 10.23108917 10.19711111] [9.94062025 9.98366719 9.94968913] [10.07400871 10.11705566 10.0830776 ]\n",
      "10.09663057828195 0.09142683472279642\n",
      "Star 2\n",
      "[13.20204375 13.18690662 13.17314709] [13.35916293 13.34037592 13.33508983] [13.11174095 13.09295394 13.08766785] [13.24512942 13.22634241 13.22105632]\n",
      "13.2151347520969 0.08966439610593883\n",
      "Star 3\n",
      "[nan nan nan] [nan nan nan] [nan nan nan] [nan nan nan]\n",
      "nan nan\n"
     ]
    },
    {
     "name": "stderr",
     "output_type": "stream",
     "text": [
      "/home/lynge/anaconda2/lib/python2.7/site-packages/ipykernel_launcher.py:12: RuntimeWarning: Mean of empty slice\n",
      "  if sys.path[0] == '':\n",
      "/home/lynge/anaconda2/lib/python2.7/site-packages/numpy/lib/nanfunctions.py:1434: RuntimeWarning: Degrees of freedom <= 0 for slice.\n",
      "  keepdims=keepdims)\n"
     ]
    }
   ],
   "source": [
    "print 'g-filter'\n",
    "print 'Star 1'\n",
    "print com1_1,com1_2,com1_3,com1_4\n",
    "print np.nanmean((com1_1,com1_2,com1_3,com1_4)), np.nanstd((com1_1,com1_2,com1_3,com1_4))\n",
    "\n",
    "print 'Star 2'\n",
    "print com2_1,com2_2,com2_3,com2_4\n",
    "print np.nanmean((com2_1,com2_2,com2_3,com2_4)), np.nanstd((com2_1,com2_2,com2_3,com2_4))\n",
    "\n",
    "print 'Star 3'\n",
    "print com3_1,com3_2,com3_3,com3_4\n",
    "print np.nanmean((com3_1,com3_2,com3_3,com3_4)), np.nanstd((com3_1,com3_2,com3_3,com3_4))"
   ]
  },
  {
   "cell_type": "code",
   "execution_count": 18,
   "metadata": {
    "collapsed": false,
    "scrolled": true
   },
   "outputs": [
    {
     "name": "stderr",
     "output_type": "stream",
     "text": [
      "/home/lynge/anaconda2/lib/python2.7/site-packages/ipykernel_launcher.py:45: RuntimeWarning: Mean of empty slice\n"
     ]
    },
    {
     "name": "stdout",
     "output_type": "stream",
     "text": [
      "nan\n",
      "nan\n",
      "nan\n",
      "nan\n",
      "nan\n",
      "nan\n",
      "nan\n",
      "nan\n",
      "nan\n"
     ]
    }
   ],
   "source": [
    "com1_1 = findmag(QUASAR1_r,refsta1_r,sta1_RA_WORLD,sta1_DEC_WORLD,refsta1_RA,refsta1_DEC,mag_refsta1_r,k_r)\n",
    "com2_1 = findmag(QUASAR1_r,refsta1_r,sta2_RA_WORLD,sta2_DEC_WORLD,refsta1_RA,refsta1_DEC,mag_refsta1_r,k_r)\n",
    "com3_1 = findmag(QUASAR1_r,refsta1_r,sta3_RA_WORLD,sta3_DEC_WORLD,refsta1_RA,refsta1_DEC,mag_refsta1_r,k_r)\n",
    "\n",
    "com1_2 = findmag(QUASAR2_r,refsta2_r,sta1_RA_WORLD,sta1_DEC_WORLD,refsta2_RA,refsta2_DEC,mag_refsta2_r,k_r)\n",
    "com2_2 = findmag(QUASAR2_r,refsta2_r,sta2_RA_WORLD,sta2_DEC_WORLD,refsta2_RA,refsta2_DEC,mag_refsta2_r,k_r)\n",
    "com3_2 = findmag(QUASAR2_r,refsta2_r,sta3_RA_WORLD,sta3_DEC_WORLD,refsta2_RA,refsta2_DEC,mag_refsta2_r,k_r)\n",
    "\n",
    "com1_3 = findmag(QUASAR2_r,refsta3_r,sta1_RA_WORLD,sta1_DEC_WORLD,refsta3_RA,refsta3_DEC,mag_refsta3_r,k_r)\n",
    "com2_3 = findmag(QUASAR2_r,refsta3_r,sta2_RA_WORLD,sta2_DEC_WORLD,refsta3_RA,refsta3_DEC,mag_refsta3_r,k_r)\n",
    "com3_3 = findmag(QUASAR2_r,refsta3_r,sta3_RA_WORLD,sta3_DEC_WORLD,refsta3_RA,refsta3_DEC,mag_refsta3_r,k_r)\n",
    "\n",
    "com1_4 = findmag(QUASAR2_r,refsta4_r,sta1_RA_WORLD,sta1_DEC_WORLD,refsta4_RA,refsta4_DEC,mag_refsta4_r,k_r)\n",
    "com2_4 = findmag(QUASAR2_r,refsta4_r,sta2_RA_WORLD,sta2_DEC_WORLD,refsta4_RA,refsta4_DEC,mag_refsta4_r,k_r)\n",
    "com3_4 = findmag(QUASAR2_r,refsta4_r,sta3_RA_WORLD,sta3_DEC_WORLD,refsta4_RA,refsta4_DEC,mag_refsta4_r,k_r)"
   ]
  },
  {
   "cell_type": "code",
   "execution_count": 19,
   "metadata": {
    "collapsed": false,
    "scrolled": true
   },
   "outputs": [
    {
     "name": "stdout",
     "output_type": "stream",
     "text": [
      "r-filter\n",
      "Star 1\n",
      "[10.27621446 10.28612562 10.26646825] [10.30261981 10.34778423 10.3178402 ] [ 9.96311653 10.00828095  9.97833691] [10.18511335 10.23027777 10.20033374]\n",
      "10.196875984023416 0.1313162419025311\n",
      "Star 2\n",
      "[12.75972246 12.75813154 12.75973464] [12.80865082 12.80182579 12.79904004] [12.46914753 12.46232251 12.45953675] [12.69114436 12.68431933 12.68153357]\n",
      "12.677925778150128 0.1306779699531662\n",
      "Star 3\n",
      "[nan nan nan] [nan nan nan] [nan nan nan] [nan nan nan]\n",
      "nan nan\n"
     ]
    },
    {
     "name": "stderr",
     "output_type": "stream",
     "text": [
      "/home/lynge/anaconda2/lib/python2.7/site-packages/ipykernel_launcher.py:12: RuntimeWarning: Mean of empty slice\n",
      "  if sys.path[0] == '':\n"
     ]
    }
   ],
   "source": [
    "print 'r-filter'\n",
    "print 'Star 1'\n",
    "print com1_1,com1_2,com1_3,com1_4\n",
    "print np.nanmean((com1_1,com1_2,com1_3,com1_4)), np.nanstd((com1_1,com1_2,com1_3,com1_4))\n",
    "\n",
    "print 'Star 2'\n",
    "print com2_1,com2_2,com2_3,com2_4\n",
    "print np.nanmean((com2_1,com2_2,com2_3,com2_4)), np.nanstd((com2_1,com2_2,com2_3,com2_4))\n",
    "\n",
    "print 'Star 3'\n",
    "print com3_1,com3_2,com3_3,com3_4\n",
    "print np.nanmean((com3_1,com3_2,com3_3,com3_4)), np.nanstd((com3_1,com3_2,com3_3,com3_4))"
   ]
  },
  {
   "cell_type": "code",
   "execution_count": 20,
   "metadata": {
    "collapsed": false,
    "scrolled": true
   },
   "outputs": [
    {
     "name": "stderr",
     "output_type": "stream",
     "text": [
      "/home/lynge/anaconda2/lib/python2.7/site-packages/ipykernel_launcher.py:45: RuntimeWarning: Mean of empty slice\n"
     ]
    },
    {
     "name": "stdout",
     "output_type": "stream",
     "text": [
      "nan\n",
      "nan\n",
      "nan\n"
     ]
    }
   ],
   "source": [
    "com1_1 = findmag(QUASAR1_i,refsta1_i,sta1_RA_WORLD,sta1_DEC_WORLD,refsta1_RA,refsta1_DEC,mag_refsta1_i,k_i)\n",
    "com2_1 = findmag(QUASAR1_i,refsta1_i,sta2_RA_WORLD,sta2_DEC_WORLD,refsta1_RA,refsta1_DEC,mag_refsta1_i,k_i)\n",
    "com3_1 = findmag(QUASAR1_i,refsta1_i,sta3_RA_WORLD,sta3_DEC_WORLD,refsta1_RA,refsta1_DEC,mag_refsta1_i,k_i)\n",
    "\n",
    "com1_2 = findmag(QUASAR2_i,refsta2_i,sta1_RA_WORLD,sta1_DEC_WORLD,refsta2_RA,refsta2_DEC,mag_refsta2_i,k_i)\n",
    "com2_2 = findmag(QUASAR2_i,refsta2_i,sta2_RA_WORLD,sta2_DEC_WORLD,refsta2_RA,refsta2_DEC,mag_refsta2_i,k_i)\n",
    "com3_2 = findmag(QUASAR2_i,refsta2_i,sta3_RA_WORLD,sta3_DEC_WORLD,refsta2_RA,refsta2_DEC,mag_refsta2_i,k_i)\n",
    "\n",
    "com1_3 = findmag(QUASAR2_i,refsta3_i,sta1_RA_WORLD,sta1_DEC_WORLD,refsta3_RA,refsta3_DEC,mag_refsta3_i,k_i)\n",
    "com2_3 = findmag(QUASAR2_i,refsta3_i,sta2_RA_WORLD,sta2_DEC_WORLD,refsta3_RA,refsta3_DEC,mag_refsta3_i,k_i)\n",
    "com3_3 = findmag(QUASAR2_i,refsta3_i,sta3_RA_WORLD,sta3_DEC_WORLD,refsta3_RA,refsta3_DEC,mag_refsta3_i,k_i)\n",
    "\n",
    "com1_4 = findmag(QUASAR2_i,refsta4_i,sta1_RA_WORLD,sta1_DEC_WORLD,refsta4_RA,refsta4_DEC,mag_refsta4_i,k_i)\n",
    "com2_4 = findmag(QUASAR2_i,refsta4_i,sta2_RA_WORLD,sta2_DEC_WORLD,refsta4_RA,refsta4_DEC,mag_refsta4_i,k_i)\n",
    "com3_4 = findmag(QUASAR2_i,refsta4_i,sta3_RA_WORLD,sta3_DEC_WORLD,refsta4_RA,refsta4_DEC,mag_refsta4_i,k_i)"
   ]
  },
  {
   "cell_type": "code",
   "execution_count": 21,
   "metadata": {
    "collapsed": false,
    "scrolled": true
   },
   "outputs": [
    {
     "name": "stdout",
     "output_type": "stream",
     "text": [
      "i-filter\n",
      "Star 1\n",
      "[10.37454967 10.38998563 10.36147763] [10.40675171 10.39160153 10.39330886] [10.25121626 10.23606607 10.23777341] [10.2638804  10.24873021 10.25043755]\n",
      "10.317148244046537 0.07019516351098574\n",
      "Star 2\n",
      "[12.67871402 12.67742182 12.67517737] [12.75149991 12.73956632 12.74061702] [12.59596446 12.58403087 12.58508157] [12.6086286  12.59669501 12.59774571]\n",
      "12.652595223148849 0.06287224206204133\n",
      "Star 3\n",
      "[nan nan nan] [nan nan nan] [nan nan nan] [nan nan nan]\n",
      "nan nan\n"
     ]
    },
    {
     "name": "stderr",
     "output_type": "stream",
     "text": [
      "/home/lynge/anaconda2/lib/python2.7/site-packages/ipykernel_launcher.py:12: RuntimeWarning: Mean of empty slice\n",
      "  if sys.path[0] == '':\n"
     ]
    }
   ],
   "source": [
    "print 'i-filter'\n",
    "print 'Star 1'\n",
    "print com1_1,com1_2,com1_3,com1_4\n",
    "print np.nanmean((com1_1,com1_2,com1_3,com1_4)), np.nanstd((com1_1,com1_2,com1_3,com1_4))\n",
    "\n",
    "print 'Star 2'\n",
    "print com2_1,com2_2,com2_3,com2_4\n",
    "print np.nanmean((com2_1,com2_2,com2_3,com2_4)), np.nanstd((com2_1,com2_2,com2_3,com2_4))\n",
    "\n",
    "print 'Star 3'\n",
    "print com3_1,com3_2,com3_3,com3_4\n",
    "print np.nanmean((com3_1,com3_2,com3_3,com3_4)), np.nanstd((com3_1,com3_2,com3_3,com3_4))"
   ]
  },
  {
   "cell_type": "code",
   "execution_count": 22,
   "metadata": {
    "collapsed": false,
    "scrolled": true
   },
   "outputs": [
    {
     "name": "stderr",
     "output_type": "stream",
     "text": [
      "/home/lynge/anaconda2/lib/python2.7/site-packages/ipykernel_launcher.py:45: RuntimeWarning: Mean of empty slice\n"
     ]
    },
    {
     "name": "stdout",
     "output_type": "stream",
     "text": [
      "nan\n",
      "nan\n",
      "nan\n",
      "nan\n",
      "nan\n",
      "nan\n",
      "nan\n",
      "nan\n",
      "nan\n",
      "nan\n",
      "nan\n",
      "nan\n",
      "nan\n",
      "nan\n",
      "nan\n",
      "nan\n",
      "nan\n",
      "nan\n",
      "nan\n",
      "nan\n",
      "nan\n"
     ]
    }
   ],
   "source": [
    "com1_1 = findmag(QUASAR1_z,refsta1_z,sta1_RA_WORLD,sta1_DEC_WORLD,refsta1_RA,refsta1_DEC,mag_refsta1_z,k_z)\n",
    "com2_1 = findmag(QUASAR1_z,refsta1_z,sta2_RA_WORLD,sta2_DEC_WORLD,refsta1_RA,refsta1_DEC,mag_refsta1_z,k_z)\n",
    "com3_1 = findmag(QUASAR1_z,refsta1_z,sta3_RA_WORLD,sta3_DEC_WORLD,refsta1_RA,refsta1_DEC,mag_refsta1_z,k_z)\n",
    "\n",
    "com1_2 = findmag(QUASAR2_z,refsta2_z,sta1_RA_WORLD,sta1_DEC_WORLD,refsta2_RA,refsta2_DEC,mag_refsta2_z,k_z)\n",
    "com2_2 = findmag(QUASAR2_z,refsta2_z,sta2_RA_WORLD,sta2_DEC_WORLD,refsta2_RA,refsta2_DEC,mag_refsta2_z,k_z)\n",
    "com3_2 = findmag(QUASAR2_z,refsta2_z,sta3_RA_WORLD,sta3_DEC_WORLD,refsta2_RA,refsta2_DEC,mag_refsta2_z,k_z)\n",
    "\n",
    "com1_3 = findmag(QUASAR2_z,refsta3_z,sta1_RA_WORLD,sta1_DEC_WORLD,refsta3_RA,refsta3_DEC,mag_refsta3_z,k_z)\n",
    "com2_3 = findmag(QUASAR2_z,refsta3_z,sta2_RA_WORLD,sta2_DEC_WORLD,refsta3_RA,refsta3_DEC,mag_refsta3_z,k_z)\n",
    "com3_3 = findmag(QUASAR2_z,refsta3_z,sta3_RA_WORLD,sta3_DEC_WORLD,refsta3_RA,refsta3_DEC,mag_refsta3_z,k_z)\n",
    "\n",
    "com1_4 = findmag(QUASAR2_z,refsta4_z,sta1_RA_WORLD,sta1_DEC_WORLD,refsta4_RA,refsta4_DEC,mag_refsta4_z,k_z)\n",
    "com2_4 = findmag(QUASAR2_z,refsta4_z,sta2_RA_WORLD,sta2_DEC_WORLD,refsta4_RA,refsta4_DEC,mag_refsta4_z,k_z)\n",
    "com3_4 = findmag(QUASAR2_z,refsta4_z,sta3_RA_WORLD,sta3_DEC_WORLD,refsta4_RA,refsta4_DEC,mag_refsta4_z,k_z)"
   ]
  },
  {
   "cell_type": "code",
   "execution_count": 23,
   "metadata": {
    "collapsed": false,
    "scrolled": true
   },
   "outputs": [
    {
     "name": "stdout",
     "output_type": "stream",
     "text": [
      "z-filter\n",
      "Star 1\n",
      "[10.48740034 10.47747231 10.47658221] [10.58614041 10.57174144 10.57640555] [10.07949071 10.06509173 10.06975585] [10.39155654 10.37715757 10.38182168]\n",
      "10.378384694959813 0.19018318526188877\n",
      "Star 2\n",
      "[12.87244799 12.86246751 12.85006374] [13.25204919 13.2091248  13.18694293] [12.74539948 12.70247509 12.68029322] [13.05746532 13.01454092 12.99235906]\n",
      "12.952135771512312 0.189629113256759\n",
      "Star 3\n",
      "[nan nan nan] [nan nan nan] [nan nan nan] [nan nan nan]\n",
      "nan nan\n"
     ]
    },
    {
     "name": "stderr",
     "output_type": "stream",
     "text": [
      "/home/lynge/anaconda2/lib/python2.7/site-packages/ipykernel_launcher.py:12: RuntimeWarning: Mean of empty slice\n",
      "  if sys.path[0] == '':\n"
     ]
    }
   ],
   "source": [
    "print 'z-filter'\n",
    "print 'Star 1'\n",
    "print com1_1,com1_2,com1_3,com1_4\n",
    "print np.nanmean((com1_1,com1_2,com1_3,com1_4)), np.nanstd((com1_1,com1_2,com1_3,com1_4))\n",
    "\n",
    "print 'Star 2'\n",
    "print com2_1,com2_2,com2_3,com2_4\n",
    "print np.nanmean((com2_1,com2_2,com2_3,com2_4)), np.nanstd((com2_1,com2_2,com2_3,com2_4))\n",
    "\n",
    "print 'Star 3'\n",
    "print com3_1,com3_2,com3_3,com3_4\n",
    "print np.nanmean((com3_1,com3_2,com3_3,com3_4)), np.nanstd((com3_1,com3_2,com3_3,com3_4))"
   ]
  },
  {
   "cell_type": "code",
   "execution_count": 24,
   "metadata": {
    "collapsed": false,
    "scrolled": true
   },
   "outputs": [
    {
     "ename": "NameError",
     "evalue": "name 'NGC3783_r' is not defined",
     "output_type": "error",
     "traceback": [
      "\u001b[0;31m---------------------------------------------------------------------------\u001b[0m",
      "\u001b[0;31mNameError\u001b[0m                                 Traceback (most recent call last)",
      "\u001b[0;32m<ipython-input-24-07dbc6342341>\u001b[0m in \u001b[0;36m<module>\u001b[0;34m()\u001b[0m\n\u001b[0;32m----> 1\u001b[0;31m \u001b[0mHD101274_1\u001b[0m \u001b[0;34m=\u001b[0m \u001b[0mfindmag\u001b[0m\u001b[0;34m(\u001b[0m\u001b[0mNGC3783_r\u001b[0m\u001b[0;34m,\u001b[0m\u001b[0mP_r\u001b[0m\u001b[0;34m,\u001b[0m\u001b[0msta1_RA_WORLD\u001b[0m\u001b[0;34m,\u001b[0m\u001b[0msta1_DEC_WORLD\u001b[0m\u001b[0;34m,\u001b[0m\u001b[0mr_P_RA\u001b[0m\u001b[0;34m,\u001b[0m\u001b[0mr_P_DEC\u001b[0m\u001b[0;34m,\u001b[0m\u001b[0mP_mag_r\u001b[0m\u001b[0;34m,\u001b[0m\u001b[0mk_r\u001b[0m\u001b[0;34m)\u001b[0m\u001b[0;34m\u001b[0m\u001b[0m\n\u001b[0m\u001b[1;32m      2\u001b[0m \u001b[0mTyc_22_1\u001b[0m \u001b[0;34m=\u001b[0m \u001b[0mfindmag\u001b[0m\u001b[0;34m(\u001b[0m\u001b[0mNGC3783_r\u001b[0m\u001b[0;34m,\u001b[0m\u001b[0mP_r\u001b[0m\u001b[0;34m,\u001b[0m\u001b[0msta2_RA_WORLD\u001b[0m\u001b[0;34m,\u001b[0m\u001b[0msta2_DEC_WORLD\u001b[0m\u001b[0;34m,\u001b[0m\u001b[0mr_P_RA\u001b[0m\u001b[0;34m,\u001b[0m\u001b[0mr_P_DEC\u001b[0m\u001b[0;34m,\u001b[0m\u001b[0mP_mag_r\u001b[0m\u001b[0;34m,\u001b[0m\u001b[0mk_r\u001b[0m\u001b[0;34m)\u001b[0m\u001b[0;34m\u001b[0m\u001b[0m\n\u001b[1;32m      3\u001b[0m \u001b[0mTyc_529_1\u001b[0m \u001b[0;34m=\u001b[0m \u001b[0mfindmag\u001b[0m\u001b[0;34m(\u001b[0m\u001b[0mNGC3783_r\u001b[0m\u001b[0;34m,\u001b[0m\u001b[0mP_r\u001b[0m\u001b[0;34m,\u001b[0m\u001b[0msta3_RA_WORLD\u001b[0m\u001b[0;34m,\u001b[0m\u001b[0msta3_DEC_WORLD\u001b[0m\u001b[0;34m,\u001b[0m\u001b[0mr_P_RA\u001b[0m\u001b[0;34m,\u001b[0m\u001b[0mr_P_DEC\u001b[0m\u001b[0;34m,\u001b[0m\u001b[0mP_mag_r\u001b[0m\u001b[0;34m,\u001b[0m\u001b[0mk_r\u001b[0m\u001b[0;34m)\u001b[0m\u001b[0;34m\u001b[0m\u001b[0m\n\u001b[1;32m      4\u001b[0m \u001b[0;34m\u001b[0m\u001b[0m\n\u001b[1;32m      5\u001b[0m \u001b[0;34m\u001b[0m\u001b[0m\n",
      "\u001b[0;31mNameError\u001b[0m: name 'NGC3783_r' is not defined"
     ]
    }
   ],
   "source": [
    "HD101274_1 = findmag(NGC3783_r,P_r,sta1_RA_WORLD,sta1_DEC_WORLD,r_P_RA,r_P_DEC,P_mag_r,k_r)\n",
    "Tyc_22_1 = findmag(NGC3783_r,P_r,sta2_RA_WORLD,sta2_DEC_WORLD,r_P_RA,r_P_DEC,P_mag_r,k_r)\n",
    "Tyc_529_1 = findmag(NGC3783_r,P_r,sta3_RA_WORLD,sta3_DEC_WORLD,r_P_RA,r_P_DEC,P_mag_r,k_r)\n",
    "\n",
    "\n"
   ]
  },
  {
   "cell_type": "code",
   "execution_count": null,
   "metadata": {
    "collapsed": true
   },
   "outputs": [],
   "source": [
    "print 'r-filter'\n",
    "print HD101274_1\n",
    "print np.mean(HD101274_1,), np.std(HD101274_1)\n",
    "\n",
    "print Tyc_22_1\n",
    "print np.mean(Tyc_22_1), np.std(Tyc_22_1)\n",
    "\n",
    "print Tyc_529_1\n",
    "print np.mean(Tyc_529_1), np.std(Tyc_529_1)"
   ]
  },
  {
   "cell_type": "code",
   "execution_count": null,
   "metadata": {
    "collapsed": true,
    "scrolled": true
   },
   "outputs": [],
   "source": [
    "HD101274_1 = findmag(NGC3783_i,P_i,sta1_RA_WORLD,sta1_DEC_WORLD,i_P_RA,i_P_DEC,P_mag_i,k_i)\n",
    "Tyc_22_1 = findmag(NGC3783_i,P_i,sta2_RA_WORLD,sta2_DEC_WORLD,i_P_RA,i_P_DEC,P_mag_i,k_i)\n",
    "Tyc_529_1 = findmag(NGC3783_i,P_i,sta3_RA_WORLD,sta3_DEC_WORLD,i_P_RA,i_P_DEC,P_mag_i,k_i)\n",
    "\n",
    "\n"
   ]
  },
  {
   "cell_type": "code",
   "execution_count": null,
   "metadata": {
    "collapsed": true
   },
   "outputs": [],
   "source": [
    "print 'i-filter'\n",
    "print HD101274_1\n",
    "print np.mean(HD101274_1,), np.std(HD101274_1)\n",
    "\n",
    "print Tyc_22_1\n",
    "print np.mean(Tyc_22_1), np.std(Tyc_22_1)\n",
    "\n",
    "print Tyc_529_1\n",
    "print np.mean(Tyc_529_1), np.std(Tyc_529_1)"
   ]
  },
  {
   "cell_type": "code",
   "execution_count": null,
   "metadata": {
    "collapsed": true,
    "scrolled": true
   },
   "outputs": [],
   "source": [
    "sta2_RA_WORLD = 174.82083333\n",
    "sta2_DEC_WORLD = -37.76194444\n",
    "\n",
    "HD101274_1 = findmag(NGC3783_z,P_z,sta1_RA_WORLD,sta1_DEC_WORLD,z_P_RA,z_P_DEC,P_mag_z,k_z)\n",
    "Tyc_22_1 = findmag(NGC3783_z,P_z,sta2_RA_WORLD,sta2_DEC_WORLD,z_P_RA,z_P_DEC,P_mag_z,k_z)\n",
    "Tyc_529_1 = findmag(NGC3783_z,P_z,sta3_RA_WORLD,sta3_DEC_WORLD,z_P_RA,z_P_DEC,P_mag_z,k_z)\n",
    "\n",
    "\n"
   ]
  },
  {
   "cell_type": "code",
   "execution_count": null,
   "metadata": {
    "collapsed": true
   },
   "outputs": [],
   "source": [
    "print 'z-filter'\n",
    "print HD101274_1\n",
    "print np.nanmean(HD101274_1,), np.nanstd(HD101274_1)\n",
    "\n",
    "print Tyc_22_1\n",
    "print np.nanmean(Tyc_22_1), np.nanstd(Tyc_22_1)\n",
    "\n",
    "print Tyc_529_1\n",
    "print np.nanmean(Tyc_529_1), np.nanstd(Tyc_529_1)"
   ]
  },
  {
   "cell_type": "code",
   "execution_count": null,
   "metadata": {
    "collapsed": true
   },
   "outputs": [],
   "source": []
  }
 ],
 "metadata": {
  "kernelspec": {
   "display_name": "Python 2",
   "language": "python",
   "name": "python2"
  },
  "language_info": {
   "codemirror_mode": {
    "name": "ipython",
    "version": 2
   },
   "file_extension": ".py",
   "mimetype": "text/x-python",
   "name": "python",
   "nbconvert_exporter": "python",
   "pygments_lexer": "ipython2",
   "version": "2.7.13"
  }
 },
 "nbformat": 4,
 "nbformat_minor": 2
}
