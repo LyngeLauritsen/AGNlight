{
 "cells": [
  {
   "cell_type": "code",
   "execution_count": 40,
   "metadata": {},
   "outputs": [],
   "source": [
    "import numpy as np\n",
    "import scipy as sp\n",
    "import matplotlib\n",
    "import matplotlib.pyplot as plt\n",
    "%matplotlib inline\n",
    "from matplotlib.colors import LogNorm\n",
    "import scipy.stats as stats\n",
    "from matplotlib import gridspec\n",
    "import aplpy as apl #The Astronomy Plotting Library for python\n",
    "import astropy\n",
    "from astropy.stats import sigma_clip\n",
    "from astropy.modeling import functional_models, models, fitting\n",
    "import astropy.units as U\n",
    "from astropy.coordinates import ICRS, Galactic, FK4, FK5, Angle, Latitude, Longitude\n",
    "import astropy.constants as C\n",
    "from astropy import wcs\n",
    "import astropy.io.fits as fits\n",
    "from astropy.io import ascii\n",
    "import astropy.coordinates as coord\n",
    "from astropy.coordinates import SkyCoord\n",
    "from astropy.stats import signal_to_noise_oir_ccd as SNRas\n",
    "#import spectral_cube as SC\n",
    "#from spectral_cube import SpectralCube as sc\n",
    "from astropy.wcs import WCS\n",
    "matplotlib.use('Agg')\n",
    "import matplotlib.cm as cm\n",
    "#import astrometry as ast\n",
    "import pyfits\n",
    "import requests\n",
    "import json\n",
    "import os\n",
    "from sklearn import datasets, linear_model\n",
    "from scipy.optimize import curve_fit\n",
    "import numpy.ma as ma\n",
    "from astropy.table import Table, Column\n",
    "import pyextract\n",
    "import sewpy\n",
    "import pandas as pd\n",
    "from astropy import units as u"
   ]
  },
  {
   "cell_type": "code",
   "execution_count": 41,
   "metadata": {
    "collapsed": true,
    "scrolled": false
   },
   "outputs": [],
   "source": [
    "sta1_RA_WORLD = 174.77413750 - 9*10**(-5) #HD 101274\n",
    "sta1_DEC_WORLD = -37.75375000 + 6.4*10**(-5)\n",
    "\n",
    "sta2_RA_WORLD = 174.82283333 - 0.15/3600. #Tycho-2 7740-22-1\n",
    "sta2_DEC_WORLD = -37.76239167\n",
    "\n",
    "sta3_RA_WORLD = 174.79553333 #174.79553250 #Tycho-2 7740-529-1\n",
    "sta3_DEC_WORLD = -37.83470278 #-37.83470333\n",
    "\n",
    "k_g = 0.16\n",
    "k_r = 0.08\n",
    "k_i = 0.02\n",
    "k_z = 0.01\n",
    "\n",
    "#mag_refsta1_g = 13.291\n",
    "#mag_refsta1_r = 12.843\n",
    "#mag_refsta1_i = 12.668\n",
    "#mag_refsta1_z = 12.593\n",
    "\n",
    "mag_refsta2_g = 10.166\n",
    "mag_refsta2_r = 10.229\n",
    "mag_refsta2_i = 10.347\n",
    "mag_refsta2_z = 10.456\n",
    "\n",
    "mag_refsta1_g = 11.689\n",
    "mag_refsta1_r = 11.491\n",
    "mag_refsta1_i = 11.465\n",
    "mag_refsta1_z = 11.500\n",
    "\n",
    "#refsta1_RA = SkyCoord('00:24:28 07:49:00', unit=(u.hourangle, u.deg)).ra.degree #P525_E_21_10_17\n",
    "#refsta1_DEC = SkyCoord('00:24:28 07:49:00', unit=(u.hourangle, u.deg)).dec.degree \n",
    "\n",
    "#refsta2_RA = SkyCoord('00:24:28 07:49:00', unit=(u.hourangle, u.deg)).ra.degree #P525_E_21_10_17\n",
    "#refsta2_DEC = SkyCoord('00:24:28 07:49:00', unit=(u.hourangle, u.deg)).dec.degree \n",
    "\n",
    "refsta1_RA = SkyCoord('00:55:10 00:43:13', unit=(u.hourangle, u.deg)).ra.degree #PG1323_086_10_07_17\n",
    "refsta1_DEC = SkyCoord('00:55:10 00:43:13', unit=(u.hourangle, u.deg)).dec.degree \n",
    "\n",
    "refsta2_RA = SkyCoord('08:52:34 -00:39:49', unit=(u.hourangle, u.deg)).ra.degree #SA100_241\n",
    "refsta2_DEC = SkyCoord('08:52:34 -00:39:49', unit=(u.hourangle, u.deg)).dec.degree "
   ]
  },
  {
   "cell_type": "code",
   "execution_count": 42,
   "metadata": {
    "collapsed": true
   },
   "outputs": [],
   "source": [
    "QUASAR1_g = [os.path.join('/media/lynge/Lynge-Back-up/Calibration/13-11-17-NGC3783/g',f) \\\n",
    "        for f in os.listdir('/media/lynge/Lynge-Back-up/Calibration/13-11-17-NGC3783/g')]\n",
    "\n",
    "QUASAR2_g = [os.path.join('/media/lynge/Lynge-Back-up/Calibration/08-06-16-NGC3783/g',f) \\\n",
    "        for f in os.listdir('/media/lynge/Lynge-Back-up/Calibration/08-06-16-NGC3783/g')]\n",
    "\n",
    "refsta1_g = [os.path.join('/media/lynge/Lynge-Back-up/Calibration/13-11-17-SA092_342/g',f) \\\n",
    "        for f in os.listdir('/media/lynge/Lynge-Back-up/Calibration/13-11-17-SA092_342/g')]\n",
    "\n",
    "refsta2_g = [os.path.join('/media/lynge/Lynge-Back-up/Calibration/08-06-16-SA100-241/g',f) \\\n",
    "        for f in os.listdir('/media/lynge/Lynge-Back-up/Calibration/08-06-16-SA100-241/g')]"
   ]
  },
  {
   "cell_type": "code",
   "execution_count": 43,
   "metadata": {
    "collapsed": true
   },
   "outputs": [],
   "source": [
    "QUASAR1_r = [os.path.join('/media/lynge/Lynge-Back-up/Calibration/13-11-17-NGC3783/r',f) \\\n",
    "        for f in os.listdir('/media/lynge/Lynge-Back-up/Calibration/13-11-17-NGC3783/r')]\n",
    "\n",
    "QUASAR2_r = [os.path.join('/media/lynge/Lynge-Back-up/Calibration/08-06-16-NGC3783/r',f) \\\n",
    "        for f in os.listdir('/media/lynge/Lynge-Back-up/Calibration/08-06-16-NGC3783/r')]\n",
    "\n",
    "refsta1_r = [os.path.join('/media/lynge/Lynge-Back-up/Calibration/13-11-17-SA092_342/r',f) \\\n",
    "        for f in os.listdir('/media/lynge/Lynge-Back-up/Calibration/13-11-17-SA092_342/r')]\n",
    "\n",
    "refsta2_r = [os.path.join('/media/lynge/Lynge-Back-up/Calibration/08-06-16-SA100-241/r',f) \\\n",
    "        for f in os.listdir('/media/lynge/Lynge-Back-up/Calibration/08-06-16-SA100-241/r')]"
   ]
  },
  {
   "cell_type": "code",
   "execution_count": 44,
   "metadata": {
    "collapsed": true
   },
   "outputs": [],
   "source": [
    "QUASAR1_i = [os.path.join('/media/lynge/Lynge-Back-up/Calibration/13-11-17-NGC3783/i',f) \\\n",
    "        for f in os.listdir('/media/lynge/Lynge-Back-up/Calibration/13-11-17-NGC3783/i')]\n",
    "\n",
    "QUASAR2_i = [os.path.join('/media/lynge/Lynge-Back-up/Calibration/08-06-16-NGC3783/i',f) \\\n",
    "        for f in os.listdir('/media/lynge/Lynge-Back-up/Calibration/08-06-16-NGC3783/i')]\n",
    "\n",
    "refsta1_i = [os.path.join('/media/lynge/Lynge-Back-up/Calibration/13-11-17-SA092_342/i',f) \\\n",
    "        for f in os.listdir('/media/lynge/Lynge-Back-up/Calibration/13-11-17-SA092_342/i')]\n",
    "\n",
    "refsta2_i = [os.path.join('/media/lynge/Lynge-Back-up/Calibration/08-06-16-SA100-241/i',f) \\\n",
    "        for f in os.listdir('/media/lynge/Lynge-Back-up/Calibration/08-06-16-SA100-241/i')]"
   ]
  },
  {
   "cell_type": "code",
   "execution_count": 45,
   "metadata": {
    "collapsed": true
   },
   "outputs": [],
   "source": [
    "QUASAR1_z = [os.path.join('/media/lynge/Lynge-Back-up/Calibration/13-11-17-NGC3783/z',f) \\\n",
    "        for f in os.listdir('/media/lynge/Lynge-Back-up/Calibration/13-11-17-NGC3783/z')]\n",
    "\n",
    "QUASAR2_z = [os.path.join('/media/lynge/Lynge-Back-up/Calibration/08-06-16-NGC3783/z',f) \\\n",
    "        for f in os.listdir('/media/lynge/Lynge-Back-up/Calibration/08-06-16-NGC3783/z')]\n",
    "\n",
    "refsta1_z = [os.path.join('/media/lynge/Lynge-Back-up/Calibration/13-11-17-SA092_342/z',f) \\\n",
    "        for f in os.listdir('/media/lynge/Lynge-Back-up/Calibration/13-11-17-SA092_342/z')]\n",
    "\n",
    "refsta2_z = [os.path.join('/media/lynge/Lynge-Back-up/Calibration/08-06-16-SA100-241/z',f) \\\n",
    "        for f in os.listdir('/media/lynge/Lynge-Back-up/Calibration/08-06-16-SA100-241/z')]"
   ]
  },
  {
   "cell_type": "code",
   "execution_count": 46,
   "metadata": {
    "collapsed": true
   },
   "outputs": [],
   "source": [
    "def dist(mid,end):\n",
    "    return np.sqrt((mid[0] - end[0])**2 + (mid[1] - end[1])**2)"
   ]
  },
  {
   "cell_type": "code",
   "execution_count": 47,
   "metadata": {
    "collapsed": true
   },
   "outputs": [],
   "source": [
    "def flux_cal(A_mag,B_mag,B_flux):\n",
    "    '''Flux of A found through magnitude and flux of B'''\n",
    "    return B_flux*10**((B_mag-A_mag)/2.5)"
   ]
  },
  {
   "cell_type": "code",
   "execution_count": 48,
   "metadata": {
    "collapsed": true
   },
   "outputs": [],
   "source": [
    "def Basic(quasar,header):\n",
    "    '''Provides a basic list of neccesities from the fits header file for use in the later \\\n",
    "    flux determination, it does not serve an individual purpose beyound that'''\n",
    "    AGNdata = quasar #np.rot90(np.rot90(np.fliplr(quasar)))\n",
    "    #header = data[0].header\n",
    "    #print header\n",
    "    RAstd = header['CRVAL1']\n",
    "    DECstd = header['CRVAL2']\n",
    "    #print RAstd, DECstd\n",
    "    pixspa = header['PIXSCALE']/(3600.)\n",
    "    #print pixspa\n",
    "    RAstdpix = header['CRPIX1']\n",
    "    DECstdpix = header['CRPIX2']\n",
    "    exptime = 10 # header['EXPTIME']\n",
    "    return header,AGNdata,RAstd,DECstd,pixspa,RAstdpix,DECstdpix,exptime"
   ]
  },
  {
   "cell_type": "code",
   "execution_count": 49,
   "metadata": {
    "collapsed": true
   },
   "outputs": [],
   "source": [
    "def curve(quasar,header,w,center,apparature):\n",
    "    '''Determines the FLUX of the stellar object given the the numpy array of the image, \\\n",
    "    the header of the fits file, the astropy coordinate representation, \\\n",
    "    the object position and the apparature of interest'''\n",
    "    header,AGNdata,RAstd,DECstd,pixspa,RAstdpix,DECstdpix,exptime = Basic(quasar,header)\n",
    "    #AGNdata = np.swapaxes(AGNdata,0,1)\n",
    "    y, x = np.ogrid[0:header['NAXIS1'],0:header['NAXIS1']]\n",
    "    #w = np.swapaxes(w,0,1)\n",
    "    #F_AGN = np.zeros((512,512,3)) #((int(2*apparature/pixspa)+1,int(2*apparature/pixspa)+1,3))\n",
    "    #print center\n",
    "    x1 = w.all_world2pix(center[0],center[1],0)\n",
    "    x1,y1 = (x1[0]),(x1[1])\n",
    "    try:\n",
    "        mask = ((y-y1)**2 + (x-x1)**2) > (apparature/float(pixspa))**2\n",
    "        AGNdata[mask] = float(0)\n",
    "        mask = AGNdata == 0.\n",
    "        rows = np.flatnonzero((~mask).sum(axis=1))\n",
    "        cols = np.flatnonzero((~mask).sum(axis=0))\n",
    "        AGNdata = AGNdata[rows.min():rows.max()+1, cols.min():cols.max()+1]\n",
    "        #print apparature/float(pixspa)\n",
    "    except:\n",
    "        AGNdata = np.array([[float('nan'),float('nan')],[float('nan'),float('nan')]])\n",
    "    #if np.sum(AGNdata) < 500:\n",
    "    #    AGNdata = np.array([[float('nan'),float('nan')],[float('nan'),float('nan')]])\n",
    "    return AGNdata/float(exptime), x1, y1\n"
   ]
  },
  {
   "cell_type": "code",
   "execution_count": 50,
   "metadata": {
    "collapsed": true
   },
   "outputs": [],
   "source": [
    "def comp1(qua,sta):\n",
    "    '''Code to determine the relation between the AGN and the Stellar flux as determined by either me \\\n",
    "    or by the SExtractor program respectively'''\n",
    "    comp = qua/sta\n",
    "    return comp"
   ]
  },
  {
   "cell_type": "code",
   "execution_count": 51,
   "metadata": {
    "collapsed": true
   },
   "outputs": [],
   "source": [
    "def SNR(data1,data2,header,ap1,ap2):\n",
    "    npix1 = np.pi*ap1**2/((header['PIXSCALE']/3600.)**2)\n",
    "    npix2 = np.pi*ap2**2/((header['PIXSCALE']/3600.)**2)\n",
    "    #data2_1 = ((data2-data1)/npix2)*npix1\n",
    "    data1_2 = data1/10.\n",
    "    data2_2 = data2/10.\n",
    "    return SNRas(10.,data1_2,abs(data2_2),0,header['RON'],npix1,gain=header['GAIN'])"
   ]
  },
  {
   "cell_type": "code",
   "execution_count": 52,
   "metadata": {
    "collapsed": true
   },
   "outputs": [],
   "source": [
    "def SXtable(quas,aperture):\n",
    "    header = pyfits.getheader(quas)\n",
    "    phot_app = aperture*3600/header['PIXSCALE']\n",
    "    np.set_printoptions(threshold=np.inf)\n",
    "    sew = sewpy.SEW(params=['XMODEL_WORLD', 'YMODEL_WORLD', 'X2MODEL_WORLD', 'Y2MODEL_WORLD', \n",
    "                            'XMODEL_IMAGE', 'YMODEL_IMAGE', 'FLUX_RADIUS(1)', 'FLUX_APER','ELLIPTICITY'],\n",
    "                    config={\"DETECT_THRESH\":5, 'DETECT_MINAREA':20, 'DETECT_MAXAREA':30000, \n",
    "                            \"PHOT_FLUXFRAC\":\"0.5\", 'PHOT_APERTURES':2*phot_app, \n",
    "                            'PIXEL_SCALE':header['PIXSCALE']}\n",
    "                    , sexpath='/usr/bin/sextractor')\n",
    "    out = sew(quas)\n",
    "    return out"
   ]
  },
  {
   "cell_type": "code",
   "execution_count": 53,
   "metadata": {
    "collapsed": true
   },
   "outputs": [],
   "source": [
    "def flux(quas,aperture,main_RA_WORLD,main_DEC_WORLD):\n",
    "    header = pyfits.getheader(quas)\n",
    "    RAmain = WCS(quas).all_world2pix(main_RA_WORLD,main_DEC_WORLD,1)[0]\n",
    "    DECmain = WCS(quas).all_world2pix(main_RA_WORLD,main_DEC_WORLD,1)[1]\n",
    "    output = float('nan')\n",
    "    if 15 < RAmain < header['NAXIS1'] - 15 and 15 < DECmain < header['NAXIS2'] - 15: \n",
    "        out = SXtable(quas,aperture)\n",
    "        #print out['table']['XMODEL_IMAGE']\n",
    "        #print RAmain\n",
    "        RAmain = WCS(quas).all_world2pix(main_RA_WORLD,main_DEC_WORLD,0)[0]\n",
    "        DECmain = WCS(quas).all_world2pix(main_RA_WORLD,main_DEC_WORLD,0)[1]\n",
    "        #print out['table']['XMODEL_IMAGE'], out['table']['YMODEL_IMAGE']\n",
    "        #print RAmain, DECmain\n",
    "\n",
    "        for j in range(len(out['table']['XMODEL_IMAGE'])):\n",
    "            #output['time'][i] = header['MJD-OBS']\n",
    "            if RAmain - 20. < out['table']['XMODEL_IMAGE'][j] <  RAmain + 20. and \\\n",
    "            DECmain - 20. < out['table']['YMODEL_IMAGE'][j] < DECmain + 20.:\n",
    "                #print 'YES'\n",
    "                output = out['table']['FLUX_APER'][j]\n",
    "                break\n",
    "    else:\n",
    "        output = float('nan')\n",
    "        #print 'Done'\n",
    "    return output\n"
   ]
  },
  {
   "cell_type": "code",
   "execution_count": 54,
   "metadata": {
    "collapsed": true,
    "scrolled": false
   },
   "outputs": [],
   "source": [
    "def findmag(start,compare1,RA_star,DEC_star,RA_com,DEC_com,mag_com,AIR_EXTINCTION):\n",
    "    aperture1 = 0.001\n",
    "    #201.5441,-8.8601\n",
    "    com_flu = []\n",
    "    com_AIRMASS = []\n",
    "    com_EXPTIME = []\n",
    "    star_flu = []\n",
    "    star_AIRMASS = []\n",
    "    star_EXPTIME = []\n",
    "    for i in range(len(compare1)):\n",
    "        print 'Frame nr. ', i, compare1[i]\n",
    "        header = pyfits.getheader(compare1[i])\n",
    "        a1 = flux(compare1[i],2*aperture1,RA_com,DEC_com)/header['EXPTIME']\n",
    "        if a1 > 0:\n",
    "            #print a1\n",
    "            com_flu.append(a1), com_AIRMASS.append(header['AIRMASS']*AIR_EXTINCTION), com_EXPTIME.append(header['EXPTIME'])\n",
    "        else:\n",
    "            print a1\n",
    "            com_flu.append(float('nan')), com_AIRMASS.append(float('nan')), com_EXPTIME.append(header['EXPTIME'])\n",
    "        #plt.figure(figsize=(3,3))\n",
    "        #plt.imshow(a1,cmap='hot')\n",
    "        #plt.colorbar()\n",
    "    for i in range(len(start)):\n",
    "        print 'Frame nr. ', i, start[i]\n",
    "        header = pyfits.getheader(start[i])\n",
    "        a1 = flux(start[i],2*aperture1,RA_star,DEC_star)/header['EXPTIME']\n",
    "        if a1 > 0:\n",
    "            #print a1\n",
    "            star_flu.append(a1), star_AIRMASS.append(header['AIRMASS']*AIR_EXTINCTION), star_EXPTIME.append(header['EXPTIME'])\n",
    "        else:\n",
    "            star_flu.append(float('nan')), star_AIRMASS.append(float('nan')), star_EXPTIME.append(header['EXPTIME'])\n",
    "        #plt.figure(figsize=(3,3))\n",
    "        #plt.imshow(a1,cmap='hot')\n",
    "        #plt.colorbar()\n",
    "    com_flu = np.array(com_flu)\n",
    "    com_AIRMASS = np.array(com_AIRMASS)\n",
    "    com_EXPTIME = np.array(com_EXPTIME)\n",
    "    star_flu = np.array(star_flu)\n",
    "    star_AIRMASS = np.array(star_AIRMASS)\n",
    "    star_EXPTIME = np.array(star_EXPTIME)\n",
    "    com_flu = com_flu/com_EXPTIME\n",
    "    star_flu = star_flu/star_EXPTIME\n",
    "    com_flux = np.nanmean(com_flu)\n",
    "    com_AIRMASS_num = np.nanmean(com_AIRMASS)\n",
    "    star_AIRMASS_num = np.nanmean(star_AIRMASS)\n",
    "    mag = -(star_AIRMASS_num-com_AIRMASS_num) + mag_com - 2.5*np.log10(star_flu/float(com_flux))\n",
    "    print mag\n",
    "    return mag"
   ]
  },
  {
   "cell_type": "code",
   "execution_count": 55,
   "metadata": {
    "scrolled": true
   },
   "outputs": [
    {
     "name": "stdout",
     "output_type": "stream",
     "text": [
      "Frame nr.  0 /media/lynge/Lynge-Back-up/Calibration/13-11-17-SA092_342/g/IMG2017315URh001.fits\n",
      "Frame nr.  1 /media/lynge/Lynge-Back-up/Calibration/13-11-17-SA092_342/g/IMG2017315URh002.fits\n",
      "Frame nr.  2 /media/lynge/Lynge-Back-up/Calibration/13-11-17-SA092_342/g/IMG2017315URh005.fits\n",
      "Frame nr.  3 /media/lynge/Lynge-Back-up/Calibration/13-11-17-SA092_342/g/IMG2017315URh006.fits\n",
      "Frame nr.  4 /media/lynge/Lynge-Back-up/Calibration/13-11-17-SA092_342/g/IMG2017315URs003.fits\n",
      "Frame nr.  5 /media/lynge/Lynge-Back-up/Calibration/13-11-17-SA092_342/g/IMG2017315URs004.fits\n",
      "Frame nr.  6 /media/lynge/Lynge-Back-up/Calibration/13-11-17-SA092_342/g/IMG2017315URs007.fits\n",
      "Frame nr.  7 /media/lynge/Lynge-Back-up/Calibration/13-11-17-SA092_342/g/IMG2017315URs008.fits\n",
      "Frame nr.  0 /media/lynge/Lynge-Back-up/Calibration/13-11-17-NGC3783/g/IMG2017315URs129.fits\n",
      "Frame nr.  1 /media/lynge/Lynge-Back-up/Calibration/13-11-17-NGC3783/g/IMG2017315URs130.fits\n",
      "Frame nr.  2 /media/lynge/Lynge-Back-up/Calibration/13-11-17-NGC3783/g/IMG2017315URs131.fits\n",
      "[ 10.13540332  10.14115504  10.11864753]\n",
      "Frame nr.  0 /media/lynge/Lynge-Back-up/Calibration/13-11-17-SA092_342/g/IMG2017315URh001.fits\n",
      "Frame nr.  1 /media/lynge/Lynge-Back-up/Calibration/13-11-17-SA092_342/g/IMG2017315URh002.fits\n",
      "Frame nr.  2 /media/lynge/Lynge-Back-up/Calibration/13-11-17-SA092_342/g/IMG2017315URh005.fits\n",
      "Frame nr.  3 /media/lynge/Lynge-Back-up/Calibration/13-11-17-SA092_342/g/IMG2017315URh006.fits\n",
      "Frame nr.  4 /media/lynge/Lynge-Back-up/Calibration/13-11-17-SA092_342/g/IMG2017315URs003.fits\n",
      "Frame nr.  5 /media/lynge/Lynge-Back-up/Calibration/13-11-17-SA092_342/g/IMG2017315URs004.fits\n",
      "Frame nr.  6 /media/lynge/Lynge-Back-up/Calibration/13-11-17-SA092_342/g/IMG2017315URs007.fits\n",
      "Frame nr.  7 /media/lynge/Lynge-Back-up/Calibration/13-11-17-SA092_342/g/IMG2017315URs008.fits\n",
      "Frame nr.  0 /media/lynge/Lynge-Back-up/Calibration/13-11-17-NGC3783/g/IMG2017315URs129.fits\n",
      "Frame nr.  1 /media/lynge/Lynge-Back-up/Calibration/13-11-17-NGC3783/g/IMG2017315URs130.fits\n",
      "Frame nr.  2 /media/lynge/Lynge-Back-up/Calibration/13-11-17-NGC3783/g/IMG2017315URs131.fits\n",
      "[ 13.20204375  13.18690662  13.17314709]\n",
      "Frame nr.  0 /media/lynge/Lynge-Back-up/Calibration/13-11-17-SA092_342/g/IMG2017315URh001.fits\n",
      "Frame nr.  1 /media/lynge/Lynge-Back-up/Calibration/13-11-17-SA092_342/g/IMG2017315URh002.fits\n",
      "Frame nr.  2 /media/lynge/Lynge-Back-up/Calibration/13-11-17-SA092_342/g/IMG2017315URh005.fits\n",
      "Frame nr.  3 /media/lynge/Lynge-Back-up/Calibration/13-11-17-SA092_342/g/IMG2017315URh006.fits\n",
      "Frame nr.  4 /media/lynge/Lynge-Back-up/Calibration/13-11-17-SA092_342/g/IMG2017315URs003.fits\n",
      "Frame nr.  5 /media/lynge/Lynge-Back-up/Calibration/13-11-17-SA092_342/g/IMG2017315URs004.fits\n",
      "Frame nr.  6 /media/lynge/Lynge-Back-up/Calibration/13-11-17-SA092_342/g/IMG2017315URs007.fits\n",
      "Frame nr.  7 /media/lynge/Lynge-Back-up/Calibration/13-11-17-SA092_342/g/IMG2017315URs008.fits\n",
      "Frame nr.  0 /media/lynge/Lynge-Back-up/Calibration/13-11-17-NGC3783/g/IMG2017315URs129.fits\n",
      "Frame nr.  1 /media/lynge/Lynge-Back-up/Calibration/13-11-17-NGC3783/g/IMG2017315URs130.fits\n",
      "Frame nr.  2 /media/lynge/Lynge-Back-up/Calibration/13-11-17-NGC3783/g/IMG2017315URs131.fits\n"
     ]
    },
    {
     "name": "stderr",
     "output_type": "stream",
     "text": [
      "/home/lynge/anaconda2/lib/python2.7/site-packages/ipykernel_launcher.py:45: RuntimeWarning: Mean of empty slice\n"
     ]
    },
    {
     "name": "stdout",
     "output_type": "stream",
     "text": [
      "[ nan  nan  nan]\n",
      "Frame nr.  0 /media/lynge/Lynge-Back-up/Calibration/08-06-16-SA100-241/g/IMG2016158URh009.fits\n",
      "Frame nr.  1 /media/lynge/Lynge-Back-up/Calibration/08-06-16-SA100-241/g/IMG2016158URh010.fits\n",
      "Frame nr.  2 /media/lynge/Lynge-Back-up/Calibration/08-06-16-SA100-241/g/IMG2016158URh013.fits\n",
      "Frame nr.  3 /media/lynge/Lynge-Back-up/Calibration/08-06-16-SA100-241/g/IMG2016158URh014.fits\n",
      "Frame nr.  4 /media/lynge/Lynge-Back-up/Calibration/08-06-16-SA100-241/g/IMG2016158URs011.fits\n",
      "Frame nr.  5 /media/lynge/Lynge-Back-up/Calibration/08-06-16-SA100-241/g/IMG2016158URs012.fits\n",
      "Frame nr.  6 /media/lynge/Lynge-Back-up/Calibration/08-06-16-SA100-241/g/IMG2016158URs015.fits\n",
      "Frame nr.  7 /media/lynge/Lynge-Back-up/Calibration/08-06-16-SA100-241/g/IMG2016158URs016.fits\n",
      "Frame nr.  0 /media/lynge/Lynge-Back-up/Calibration/08-06-16-NGC3783/g/IMG2016158URs046.fits\n",
      "Frame nr.  1 /media/lynge/Lynge-Back-up/Calibration/08-06-16-NGC3783/g/IMG2016158URs047.fits\n",
      "Frame nr.  2 /media/lynge/Lynge-Back-up/Calibration/08-06-16-NGC3783/g/IMG2016158URs048.fits\n",
      "[ 10.18804222  10.23108917  10.19711111]\n",
      "Frame nr.  0 /media/lynge/Lynge-Back-up/Calibration/08-06-16-SA100-241/g/IMG2016158URh009.fits\n",
      "Frame nr.  1 /media/lynge/Lynge-Back-up/Calibration/08-06-16-SA100-241/g/IMG2016158URh010.fits\n",
      "Frame nr.  2 /media/lynge/Lynge-Back-up/Calibration/08-06-16-SA100-241/g/IMG2016158URh013.fits\n",
      "Frame nr.  3 /media/lynge/Lynge-Back-up/Calibration/08-06-16-SA100-241/g/IMG2016158URh014.fits\n",
      "Frame nr.  4 /media/lynge/Lynge-Back-up/Calibration/08-06-16-SA100-241/g/IMG2016158URs011.fits\n",
      "Frame nr.  5 /media/lynge/Lynge-Back-up/Calibration/08-06-16-SA100-241/g/IMG2016158URs012.fits\n",
      "Frame nr.  6 /media/lynge/Lynge-Back-up/Calibration/08-06-16-SA100-241/g/IMG2016158URs015.fits\n",
      "Frame nr.  7 /media/lynge/Lynge-Back-up/Calibration/08-06-16-SA100-241/g/IMG2016158URs016.fits\n",
      "Frame nr.  0 /media/lynge/Lynge-Back-up/Calibration/08-06-16-NGC3783/g/IMG2016158URs046.fits\n",
      "Frame nr.  1 /media/lynge/Lynge-Back-up/Calibration/08-06-16-NGC3783/g/IMG2016158URs047.fits\n",
      "Frame nr.  2 /media/lynge/Lynge-Back-up/Calibration/08-06-16-NGC3783/g/IMG2016158URs048.fits\n",
      "[ 13.35916293  13.34037592  13.33508983]\n",
      "Frame nr.  0 /media/lynge/Lynge-Back-up/Calibration/08-06-16-SA100-241/g/IMG2016158URh009.fits\n",
      "Frame nr.  1 /media/lynge/Lynge-Back-up/Calibration/08-06-16-SA100-241/g/IMG2016158URh010.fits\n",
      "Frame nr.  2 /media/lynge/Lynge-Back-up/Calibration/08-06-16-SA100-241/g/IMG2016158URh013.fits\n",
      "Frame nr.  3 /media/lynge/Lynge-Back-up/Calibration/08-06-16-SA100-241/g/IMG2016158URh014.fits\n",
      "Frame nr.  4 /media/lynge/Lynge-Back-up/Calibration/08-06-16-SA100-241/g/IMG2016158URs011.fits\n",
      "Frame nr.  5 /media/lynge/Lynge-Back-up/Calibration/08-06-16-SA100-241/g/IMG2016158URs012.fits\n",
      "Frame nr.  6 /media/lynge/Lynge-Back-up/Calibration/08-06-16-SA100-241/g/IMG2016158URs015.fits\n",
      "Frame nr.  7 /media/lynge/Lynge-Back-up/Calibration/08-06-16-SA100-241/g/IMG2016158URs016.fits\n",
      "Frame nr.  0 /media/lynge/Lynge-Back-up/Calibration/08-06-16-NGC3783/g/IMG2016158URs046.fits\n",
      "Frame nr.  1 /media/lynge/Lynge-Back-up/Calibration/08-06-16-NGC3783/g/IMG2016158URs047.fits\n",
      "Frame nr.  2 /media/lynge/Lynge-Back-up/Calibration/08-06-16-NGC3783/g/IMG2016158URs048.fits\n",
      "[ nan  nan  nan]\n"
     ]
    }
   ],
   "source": [
    "com1_1 = findmag(QUASAR1_g,refsta1_g,sta1_RA_WORLD,sta1_DEC_WORLD,refsta1_RA,refsta1_DEC,mag_refsta1_g,k_g)\n",
    "com2_1 = findmag(QUASAR1_g,refsta1_g,sta2_RA_WORLD,sta2_DEC_WORLD,refsta1_RA,refsta1_DEC,mag_refsta1_g,k_g)\n",
    "com3_1 = findmag(QUASAR1_g,refsta1_g,sta3_RA_WORLD,sta3_DEC_WORLD,refsta1_RA,refsta1_DEC,mag_refsta1_g,k_g)\n",
    "\n",
    "com1_2 = findmag(QUASAR2_g,refsta2_g,sta1_RA_WORLD,sta1_DEC_WORLD,refsta2_RA,refsta2_DEC,mag_refsta2_g,k_g)\n",
    "com2_2 = findmag(QUASAR2_g,refsta2_g,sta2_RA_WORLD,sta2_DEC_WORLD,refsta2_RA,refsta2_DEC,mag_refsta2_g,k_g)\n",
    "com3_2 = findmag(QUASAR2_g,refsta2_g,sta3_RA_WORLD,sta3_DEC_WORLD,refsta2_RA,refsta2_DEC,mag_refsta2_g,k_g)"
   ]
  },
  {
   "cell_type": "code",
   "execution_count": 56,
   "metadata": {
    "scrolled": true
   },
   "outputs": [
    {
     "name": "stdout",
     "output_type": "stream",
     "text": [
      "g-filter\n",
      "Star 1\n",
      "[ 10.13540332  10.14115504  10.11864753] [ 10.18804222  10.23108917  10.19711111]\n",
      "10.1685747334 0.0396784374978\n",
      "Star 2\n",
      "[ 13.20204375  13.18690662  13.17314709] [ 13.35916293  13.34037592  13.33508983]\n",
      "13.2661210229 0.0795322297974\n",
      "Star 3\n",
      "[ nan  nan  nan] [ nan  nan  nan]\n",
      "nan nan\n"
     ]
    },
    {
     "name": "stderr",
     "output_type": "stream",
     "text": [
      "/home/lynge/anaconda2/lib/python2.7/site-packages/ipykernel_launcher.py:12: RuntimeWarning: Mean of empty slice\n",
      "  if sys.path[0] == '':\n"
     ]
    }
   ],
   "source": [
    "print 'g-filter'\n",
    "print 'Star 1'\n",
    "print com1_1,com1_2\n",
    "print np.nanmean((com1_1,com1_2)), np.nanstd((com1_1,com1_2))\n",
    "\n",
    "print 'Star 2'\n",
    "print com2_1,com2_2\n",
    "print np.nanmean((com2_1,com2_2)), np.nanstd((com2_1,com2_2))\n",
    "\n",
    "print 'Star 3'\n",
    "print com3_1,com3_2\n",
    "print np.nanmean((com3_1,com3_2)), np.nanstd((com3_1,com3_2))"
   ]
  },
  {
   "cell_type": "code",
   "execution_count": 57,
   "metadata": {
    "scrolled": true
   },
   "outputs": [
    {
     "name": "stdout",
     "output_type": "stream",
     "text": [
      "Frame nr.  0 /media/lynge/Lynge-Back-up/Calibration/13-11-17-SA092_342/r/IMG2017315BRh001.fits\n",
      "Frame nr.  1 /media/lynge/Lynge-Back-up/Calibration/13-11-17-SA092_342/r/IMG2017315BRh002.fits\n",
      "Frame nr.  2 /media/lynge/Lynge-Back-up/Calibration/13-11-17-SA092_342/r/IMG2017315BRh005.fits\n",
      "Frame nr.  3 /media/lynge/Lynge-Back-up/Calibration/13-11-17-SA092_342/r/IMG2017315BRh006.fits\n",
      "Frame nr.  4 /media/lynge/Lynge-Back-up/Calibration/13-11-17-SA092_342/r/IMG2017315BRs003.fits\n",
      "Frame nr.  5 /media/lynge/Lynge-Back-up/Calibration/13-11-17-SA092_342/r/IMG2017315BRs004.fits\n",
      "Frame nr.  6 /media/lynge/Lynge-Back-up/Calibration/13-11-17-SA092_342/r/IMG2017315BRs007.fits\n",
      "Frame nr.  7 /media/lynge/Lynge-Back-up/Calibration/13-11-17-SA092_342/r/IMG2017315BRs008.fits\n",
      "Frame nr.  0 /media/lynge/Lynge-Back-up/Calibration/13-11-17-NGC3783/r/IMG2017315BRs129.fits\n",
      "Frame nr.  1 /media/lynge/Lynge-Back-up/Calibration/13-11-17-NGC3783/r/IMG2017315BRs130.fits\n",
      "Frame nr.  2 /media/lynge/Lynge-Back-up/Calibration/13-11-17-NGC3783/r/IMG2017315BRs131.fits\n",
      "[ 10.27621446  10.28612562  10.26646825]\n",
      "Frame nr.  0 /media/lynge/Lynge-Back-up/Calibration/13-11-17-SA092_342/r/IMG2017315BRh001.fits\n",
      "Frame nr.  1 /media/lynge/Lynge-Back-up/Calibration/13-11-17-SA092_342/r/IMG2017315BRh002.fits\n",
      "Frame nr.  2 /media/lynge/Lynge-Back-up/Calibration/13-11-17-SA092_342/r/IMG2017315BRh005.fits\n",
      "Frame nr.  3 /media/lynge/Lynge-Back-up/Calibration/13-11-17-SA092_342/r/IMG2017315BRh006.fits\n",
      "Frame nr.  4 /media/lynge/Lynge-Back-up/Calibration/13-11-17-SA092_342/r/IMG2017315BRs003.fits\n",
      "Frame nr.  5 /media/lynge/Lynge-Back-up/Calibration/13-11-17-SA092_342/r/IMG2017315BRs004.fits\n",
      "Frame nr.  6 /media/lynge/Lynge-Back-up/Calibration/13-11-17-SA092_342/r/IMG2017315BRs007.fits\n",
      "Frame nr.  7 /media/lynge/Lynge-Back-up/Calibration/13-11-17-SA092_342/r/IMG2017315BRs008.fits\n",
      "Frame nr.  0 /media/lynge/Lynge-Back-up/Calibration/13-11-17-NGC3783/r/IMG2017315BRs129.fits\n",
      "Frame nr.  1 /media/lynge/Lynge-Back-up/Calibration/13-11-17-NGC3783/r/IMG2017315BRs130.fits\n",
      "Frame nr.  2 /media/lynge/Lynge-Back-up/Calibration/13-11-17-NGC3783/r/IMG2017315BRs131.fits\n",
      "[ 12.75972246  12.75813154  12.75973464]\n",
      "Frame nr.  0 /media/lynge/Lynge-Back-up/Calibration/13-11-17-SA092_342/r/IMG2017315BRh001.fits\n",
      "Frame nr.  1 /media/lynge/Lynge-Back-up/Calibration/13-11-17-SA092_342/r/IMG2017315BRh002.fits\n",
      "Frame nr.  2 /media/lynge/Lynge-Back-up/Calibration/13-11-17-SA092_342/r/IMG2017315BRh005.fits\n",
      "Frame nr.  3 /media/lynge/Lynge-Back-up/Calibration/13-11-17-SA092_342/r/IMG2017315BRh006.fits\n",
      "Frame nr.  4 /media/lynge/Lynge-Back-up/Calibration/13-11-17-SA092_342/r/IMG2017315BRs003.fits\n",
      "Frame nr.  5 /media/lynge/Lynge-Back-up/Calibration/13-11-17-SA092_342/r/IMG2017315BRs004.fits\n",
      "Frame nr.  6 /media/lynge/Lynge-Back-up/Calibration/13-11-17-SA092_342/r/IMG2017315BRs007.fits\n",
      "Frame nr.  7 /media/lynge/Lynge-Back-up/Calibration/13-11-17-SA092_342/r/IMG2017315BRs008.fits\n",
      "Frame nr.  0 /media/lynge/Lynge-Back-up/Calibration/13-11-17-NGC3783/r/IMG2017315BRs129.fits\n",
      "Frame nr.  1 /media/lynge/Lynge-Back-up/Calibration/13-11-17-NGC3783/r/IMG2017315BRs130.fits\n",
      "Frame nr.  2 /media/lynge/Lynge-Back-up/Calibration/13-11-17-NGC3783/r/IMG2017315BRs131.fits\n"
     ]
    },
    {
     "name": "stderr",
     "output_type": "stream",
     "text": [
      "/home/lynge/anaconda2/lib/python2.7/site-packages/ipykernel_launcher.py:45: RuntimeWarning: Mean of empty slice\n"
     ]
    },
    {
     "name": "stdout",
     "output_type": "stream",
     "text": [
      "[ nan  nan  nan]\n",
      "Frame nr.  0 /media/lynge/Lynge-Back-up/Calibration/08-06-16-SA100-241/r/IMG2016158BRh009.fits\n",
      "Frame nr.  1 /media/lynge/Lynge-Back-up/Calibration/08-06-16-SA100-241/r/IMG2016158BRh010.fits\n",
      "Frame nr.  2 /media/lynge/Lynge-Back-up/Calibration/08-06-16-SA100-241/r/IMG2016158BRh013.fits\n",
      "Frame nr.  3 /media/lynge/Lynge-Back-up/Calibration/08-06-16-SA100-241/r/IMG2016158BRh014.fits\n",
      "Frame nr.  4 /media/lynge/Lynge-Back-up/Calibration/08-06-16-SA100-241/r/IMG2016158BRs011.fits\n",
      "Frame nr.  5 /media/lynge/Lynge-Back-up/Calibration/08-06-16-SA100-241/r/IMG2016158BRs012.fits\n",
      "Frame nr.  6 /media/lynge/Lynge-Back-up/Calibration/08-06-16-SA100-241/r/IMG2016158BRs015.fits\n",
      "Frame nr.  7 /media/lynge/Lynge-Back-up/Calibration/08-06-16-SA100-241/r/IMG2016158BRs016.fits\n",
      "Frame nr.  0 /media/lynge/Lynge-Back-up/Calibration/08-06-16-NGC3783/r/IMG2016158BRs046.fits\n",
      "Frame nr.  1 /media/lynge/Lynge-Back-up/Calibration/08-06-16-NGC3783/r/IMG2016158BRs047.fits\n",
      "Frame nr.  2 /media/lynge/Lynge-Back-up/Calibration/08-06-16-NGC3783/r/IMG2016158BRs048.fits\n",
      "[ 10.30261981  10.34778423  10.3178402 ]\n",
      "Frame nr.  0 /media/lynge/Lynge-Back-up/Calibration/08-06-16-SA100-241/r/IMG2016158BRh009.fits\n",
      "Frame nr.  1 /media/lynge/Lynge-Back-up/Calibration/08-06-16-SA100-241/r/IMG2016158BRh010.fits\n",
      "Frame nr.  2 /media/lynge/Lynge-Back-up/Calibration/08-06-16-SA100-241/r/IMG2016158BRh013.fits\n",
      "Frame nr.  3 /media/lynge/Lynge-Back-up/Calibration/08-06-16-SA100-241/r/IMG2016158BRh014.fits\n",
      "Frame nr.  4 /media/lynge/Lynge-Back-up/Calibration/08-06-16-SA100-241/r/IMG2016158BRs011.fits\n",
      "Frame nr.  5 /media/lynge/Lynge-Back-up/Calibration/08-06-16-SA100-241/r/IMG2016158BRs012.fits\n",
      "Frame nr.  6 /media/lynge/Lynge-Back-up/Calibration/08-06-16-SA100-241/r/IMG2016158BRs015.fits\n",
      "Frame nr.  7 /media/lynge/Lynge-Back-up/Calibration/08-06-16-SA100-241/r/IMG2016158BRs016.fits\n",
      "Frame nr.  0 /media/lynge/Lynge-Back-up/Calibration/08-06-16-NGC3783/r/IMG2016158BRs046.fits\n",
      "Frame nr.  1 /media/lynge/Lynge-Back-up/Calibration/08-06-16-NGC3783/r/IMG2016158BRs047.fits\n",
      "Frame nr.  2 /media/lynge/Lynge-Back-up/Calibration/08-06-16-NGC3783/r/IMG2016158BRs048.fits\n",
      "[ 12.80865082  12.80182579  12.79904004]\n",
      "Frame nr.  0 /media/lynge/Lynge-Back-up/Calibration/08-06-16-SA100-241/r/IMG2016158BRh009.fits\n",
      "Frame nr.  1 /media/lynge/Lynge-Back-up/Calibration/08-06-16-SA100-241/r/IMG2016158BRh010.fits\n",
      "Frame nr.  2 /media/lynge/Lynge-Back-up/Calibration/08-06-16-SA100-241/r/IMG2016158BRh013.fits\n",
      "Frame nr.  3 /media/lynge/Lynge-Back-up/Calibration/08-06-16-SA100-241/r/IMG2016158BRh014.fits\n",
      "Frame nr.  4 /media/lynge/Lynge-Back-up/Calibration/08-06-16-SA100-241/r/IMG2016158BRs011.fits\n",
      "Frame nr.  5 /media/lynge/Lynge-Back-up/Calibration/08-06-16-SA100-241/r/IMG2016158BRs012.fits\n",
      "Frame nr.  6 /media/lynge/Lynge-Back-up/Calibration/08-06-16-SA100-241/r/IMG2016158BRs015.fits\n",
      "Frame nr.  7 /media/lynge/Lynge-Back-up/Calibration/08-06-16-SA100-241/r/IMG2016158BRs016.fits\n",
      "Frame nr.  0 /media/lynge/Lynge-Back-up/Calibration/08-06-16-NGC3783/r/IMG2016158BRs046.fits\n",
      "Frame nr.  1 /media/lynge/Lynge-Back-up/Calibration/08-06-16-NGC3783/r/IMG2016158BRs047.fits\n",
      "Frame nr.  2 /media/lynge/Lynge-Back-up/Calibration/08-06-16-NGC3783/r/IMG2016158BRs048.fits\n",
      "[ nan  nan  nan]\n"
     ]
    }
   ],
   "source": [
    "com1_1 = findmag(QUASAR1_r,refsta1_r,sta1_RA_WORLD,sta1_DEC_WORLD,refsta1_RA,refsta1_DEC,mag_refsta1_r,k_r)\n",
    "com2_1 = findmag(QUASAR1_r,refsta1_r,sta2_RA_WORLD,sta2_DEC_WORLD,refsta1_RA,refsta1_DEC,mag_refsta1_r,k_r)\n",
    "com3_1 = findmag(QUASAR1_r,refsta1_r,sta3_RA_WORLD,sta3_DEC_WORLD,refsta1_RA,refsta1_DEC,mag_refsta1_r,k_r)\n",
    "\n",
    "com1_2 = findmag(QUASAR2_r,refsta2_r,sta1_RA_WORLD,sta1_DEC_WORLD,refsta2_RA,refsta2_DEC,mag_refsta2_r,k_r)\n",
    "com2_2 = findmag(QUASAR2_r,refsta2_r,sta2_RA_WORLD,sta2_DEC_WORLD,refsta2_RA,refsta2_DEC,mag_refsta2_r,k_r)\n",
    "com3_2 = findmag(QUASAR2_r,refsta2_r,sta3_RA_WORLD,sta3_DEC_WORLD,refsta2_RA,refsta2_DEC,mag_refsta2_r,k_r)"
   ]
  },
  {
   "cell_type": "code",
   "execution_count": 58,
   "metadata": {
    "scrolled": true
   },
   "outputs": [
    {
     "name": "stdout",
     "output_type": "stream",
     "text": [
      "r-filter\n",
      "Star 1\n",
      "[ 10.27621446  10.28612562  10.26646825] [ 10.30261981  10.34778423  10.3178402 ]\n",
      "10.2995087619 0.0273546140047\n",
      "Star 2\n",
      "[ 12.75972246  12.75813154  12.75973464] [ 12.80865082  12.80182579  12.79904004]\n",
      "12.7811842147 0.0221789549241\n",
      "Star 3\n",
      "[ nan  nan  nan] [ nan  nan  nan]\n",
      "nan nan\n"
     ]
    },
    {
     "name": "stderr",
     "output_type": "stream",
     "text": [
      "/home/lynge/anaconda2/lib/python2.7/site-packages/ipykernel_launcher.py:12: RuntimeWarning: Mean of empty slice\n",
      "  if sys.path[0] == '':\n"
     ]
    }
   ],
   "source": [
    "print 'r-filter'\n",
    "print 'Star 1'\n",
    "print com1_1,com1_2\n",
    "print np.nanmean((com1_1,com1_2)), np.nanstd((com1_1,com1_2))\n",
    "\n",
    "print 'Star 2'\n",
    "print com2_1,com2_2\n",
    "print np.nanmean((com2_1,com2_2)), np.nanstd((com2_1,com2_2))\n",
    "\n",
    "print 'Star 3'\n",
    "print com3_1,com3_2\n",
    "print np.nanmean((com3_1,com3_2)), np.nanstd((com3_1,com3_2))"
   ]
  },
  {
   "cell_type": "code",
   "execution_count": 59,
   "metadata": {
    "scrolled": true
   },
   "outputs": [
    {
     "name": "stdout",
     "output_type": "stream",
     "text": [
      "Frame nr.  0 /media/lynge/Lynge-Back-up/Calibration/13-11-17-SA092_342/i/IMG2017315ULh001.fits\n",
      "Frame nr.  1 /media/lynge/Lynge-Back-up/Calibration/13-11-17-SA092_342/i/IMG2017315ULh002.fits\n",
      "Frame nr.  2 /media/lynge/Lynge-Back-up/Calibration/13-11-17-SA092_342/i/IMG2017315ULh005.fits\n",
      "Frame nr.  3 /media/lynge/Lynge-Back-up/Calibration/13-11-17-SA092_342/i/IMG2017315ULh006.fits\n",
      "Frame nr.  4 /media/lynge/Lynge-Back-up/Calibration/13-11-17-SA092_342/i/IMG2017315ULs003.fits\n",
      "Frame nr.  5 /media/lynge/Lynge-Back-up/Calibration/13-11-17-SA092_342/i/IMG2017315ULs004.fits\n",
      "Frame nr.  6 /media/lynge/Lynge-Back-up/Calibration/13-11-17-SA092_342/i/IMG2017315ULs007.fits\n",
      "Frame nr.  7 /media/lynge/Lynge-Back-up/Calibration/13-11-17-SA092_342/i/IMG2017315ULs008.fits\n",
      "Frame nr.  0 /media/lynge/Lynge-Back-up/Calibration/13-11-17-NGC3783/i/IMG2017315ULs129.fits\n",
      "Frame nr.  1 /media/lynge/Lynge-Back-up/Calibration/13-11-17-NGC3783/i/IMG2017315ULs130.fits\n",
      "Frame nr.  2 /media/lynge/Lynge-Back-up/Calibration/13-11-17-NGC3783/i/IMG2017315ULs131.fits\n",
      "[ 10.37454967  10.38998563  10.36147763]\n",
      "Frame nr.  0 /media/lynge/Lynge-Back-up/Calibration/13-11-17-SA092_342/i/IMG2017315ULh001.fits\n",
      "Frame nr.  1 /media/lynge/Lynge-Back-up/Calibration/13-11-17-SA092_342/i/IMG2017315ULh002.fits\n",
      "Frame nr.  2 /media/lynge/Lynge-Back-up/Calibration/13-11-17-SA092_342/i/IMG2017315ULh005.fits\n",
      "Frame nr.  3 /media/lynge/Lynge-Back-up/Calibration/13-11-17-SA092_342/i/IMG2017315ULh006.fits\n",
      "Frame nr.  4 /media/lynge/Lynge-Back-up/Calibration/13-11-17-SA092_342/i/IMG2017315ULs003.fits\n",
      "Frame nr.  5 /media/lynge/Lynge-Back-up/Calibration/13-11-17-SA092_342/i/IMG2017315ULs004.fits\n",
      "Frame nr.  6 /media/lynge/Lynge-Back-up/Calibration/13-11-17-SA092_342/i/IMG2017315ULs007.fits\n",
      "Frame nr.  7 /media/lynge/Lynge-Back-up/Calibration/13-11-17-SA092_342/i/IMG2017315ULs008.fits\n",
      "Frame nr.  0 /media/lynge/Lynge-Back-up/Calibration/13-11-17-NGC3783/i/IMG2017315ULs129.fits\n",
      "Frame nr.  1 /media/lynge/Lynge-Back-up/Calibration/13-11-17-NGC3783/i/IMG2017315ULs130.fits\n",
      "Frame nr.  2 /media/lynge/Lynge-Back-up/Calibration/13-11-17-NGC3783/i/IMG2017315ULs131.fits\n",
      "[ 12.67871402  12.67742182  12.67517737]\n",
      "Frame nr.  0 /media/lynge/Lynge-Back-up/Calibration/13-11-17-SA092_342/i/IMG2017315ULh001.fits\n",
      "Frame nr.  1 /media/lynge/Lynge-Back-up/Calibration/13-11-17-SA092_342/i/IMG2017315ULh002.fits\n",
      "Frame nr.  2 /media/lynge/Lynge-Back-up/Calibration/13-11-17-SA092_342/i/IMG2017315ULh005.fits\n",
      "Frame nr.  3 /media/lynge/Lynge-Back-up/Calibration/13-11-17-SA092_342/i/IMG2017315ULh006.fits\n",
      "Frame nr.  4 /media/lynge/Lynge-Back-up/Calibration/13-11-17-SA092_342/i/IMG2017315ULs003.fits\n",
      "Frame nr.  5 /media/lynge/Lynge-Back-up/Calibration/13-11-17-SA092_342/i/IMG2017315ULs004.fits\n",
      "Frame nr.  6 /media/lynge/Lynge-Back-up/Calibration/13-11-17-SA092_342/i/IMG2017315ULs007.fits\n",
      "Frame nr.  7 /media/lynge/Lynge-Back-up/Calibration/13-11-17-SA092_342/i/IMG2017315ULs008.fits\n",
      "Frame nr.  0 /media/lynge/Lynge-Back-up/Calibration/13-11-17-NGC3783/i/IMG2017315ULs129.fits\n",
      "Frame nr.  1 /media/lynge/Lynge-Back-up/Calibration/13-11-17-NGC3783/i/IMG2017315ULs130.fits\n",
      "Frame nr.  2 /media/lynge/Lynge-Back-up/Calibration/13-11-17-NGC3783/i/IMG2017315ULs131.fits\n"
     ]
    },
    {
     "name": "stderr",
     "output_type": "stream",
     "text": [
      "/home/lynge/anaconda2/lib/python2.7/site-packages/ipykernel_launcher.py:45: RuntimeWarning: Mean of empty slice\n"
     ]
    },
    {
     "name": "stdout",
     "output_type": "stream",
     "text": [
      "[ nan  nan  nan]\n",
      "Frame nr.  0 /media/lynge/Lynge-Back-up/Calibration/08-06-16-SA100-241/i/IMG2016158ULh009.fits\n",
      "Frame nr.  1 /media/lynge/Lynge-Back-up/Calibration/08-06-16-SA100-241/i/IMG2016158ULh010.fits\n",
      "Frame nr.  2 /media/lynge/Lynge-Back-up/Calibration/08-06-16-SA100-241/i/IMG2016158ULh013.fits\n",
      "Frame nr.  3 /media/lynge/Lynge-Back-up/Calibration/08-06-16-SA100-241/i/IMG2016158ULh014.fits\n",
      "Frame nr.  4 /media/lynge/Lynge-Back-up/Calibration/08-06-16-SA100-241/i/IMG2016158ULs011.fits\n",
      "Frame nr.  5 /media/lynge/Lynge-Back-up/Calibration/08-06-16-SA100-241/i/IMG2016158ULs012.fits\n",
      "Frame nr.  6 /media/lynge/Lynge-Back-up/Calibration/08-06-16-SA100-241/i/IMG2016158ULs015.fits\n",
      "Frame nr.  7 /media/lynge/Lynge-Back-up/Calibration/08-06-16-SA100-241/i/IMG2016158ULs016.fits\n",
      "Frame nr.  0 /media/lynge/Lynge-Back-up/Calibration/08-06-16-NGC3783/i/IMG2016158ULs046.fits\n",
      "Frame nr.  1 /media/lynge/Lynge-Back-up/Calibration/08-06-16-NGC3783/i/IMG2016158ULs047.fits\n",
      "Frame nr.  2 /media/lynge/Lynge-Back-up/Calibration/08-06-16-NGC3783/i/IMG2016158ULs048.fits\n",
      "[ 10.40675171  10.39160153  10.39330886]\n",
      "Frame nr.  0 /media/lynge/Lynge-Back-up/Calibration/08-06-16-SA100-241/i/IMG2016158ULh009.fits\n",
      "Frame nr.  1 /media/lynge/Lynge-Back-up/Calibration/08-06-16-SA100-241/i/IMG2016158ULh010.fits\n",
      "Frame nr.  2 /media/lynge/Lynge-Back-up/Calibration/08-06-16-SA100-241/i/IMG2016158ULh013.fits\n",
      "Frame nr.  3 /media/lynge/Lynge-Back-up/Calibration/08-06-16-SA100-241/i/IMG2016158ULh014.fits\n",
      "Frame nr.  4 /media/lynge/Lynge-Back-up/Calibration/08-06-16-SA100-241/i/IMG2016158ULs011.fits\n",
      "Frame nr.  5 /media/lynge/Lynge-Back-up/Calibration/08-06-16-SA100-241/i/IMG2016158ULs012.fits\n",
      "Frame nr.  6 /media/lynge/Lynge-Back-up/Calibration/08-06-16-SA100-241/i/IMG2016158ULs015.fits\n",
      "Frame nr.  7 /media/lynge/Lynge-Back-up/Calibration/08-06-16-SA100-241/i/IMG2016158ULs016.fits\n",
      "Frame nr.  0 /media/lynge/Lynge-Back-up/Calibration/08-06-16-NGC3783/i/IMG2016158ULs046.fits\n",
      "Frame nr.  1 /media/lynge/Lynge-Back-up/Calibration/08-06-16-NGC3783/i/IMG2016158ULs047.fits\n",
      "Frame nr.  2 /media/lynge/Lynge-Back-up/Calibration/08-06-16-NGC3783/i/IMG2016158ULs048.fits\n",
      "[ 12.75149991  12.73956632  12.74061702]\n",
      "Frame nr.  0 /media/lynge/Lynge-Back-up/Calibration/08-06-16-SA100-241/i/IMG2016158ULh009.fits\n",
      "Frame nr.  1 /media/lynge/Lynge-Back-up/Calibration/08-06-16-SA100-241/i/IMG2016158ULh010.fits\n",
      "Frame nr.  2 /media/lynge/Lynge-Back-up/Calibration/08-06-16-SA100-241/i/IMG2016158ULh013.fits\n",
      "Frame nr.  3 /media/lynge/Lynge-Back-up/Calibration/08-06-16-SA100-241/i/IMG2016158ULh014.fits\n",
      "Frame nr.  4 /media/lynge/Lynge-Back-up/Calibration/08-06-16-SA100-241/i/IMG2016158ULs011.fits\n",
      "Frame nr.  5 /media/lynge/Lynge-Back-up/Calibration/08-06-16-SA100-241/i/IMG2016158ULs012.fits\n",
      "Frame nr.  6 /media/lynge/Lynge-Back-up/Calibration/08-06-16-SA100-241/i/IMG2016158ULs015.fits\n",
      "Frame nr.  7 /media/lynge/Lynge-Back-up/Calibration/08-06-16-SA100-241/i/IMG2016158ULs016.fits\n",
      "Frame nr.  0 /media/lynge/Lynge-Back-up/Calibration/08-06-16-NGC3783/i/IMG2016158ULs046.fits\n",
      "Frame nr.  1 /media/lynge/Lynge-Back-up/Calibration/08-06-16-NGC3783/i/IMG2016158ULs047.fits\n",
      "Frame nr.  2 /media/lynge/Lynge-Back-up/Calibration/08-06-16-NGC3783/i/IMG2016158ULs048.fits\n",
      "[ nan  nan  nan]\n"
     ]
    }
   ],
   "source": [
    "com1_1 = findmag(QUASAR1_i,refsta1_i,sta1_RA_WORLD,sta1_DEC_WORLD,refsta1_RA,refsta1_DEC,mag_refsta1_i,k_i)\n",
    "com2_1 = findmag(QUASAR1_i,refsta1_i,sta2_RA_WORLD,sta2_DEC_WORLD,refsta1_RA,refsta1_DEC,mag_refsta1_i,k_i)\n",
    "com3_1 = findmag(QUASAR1_i,refsta1_i,sta3_RA_WORLD,sta3_DEC_WORLD,refsta1_RA,refsta1_DEC,mag_refsta1_i,k_i)\n",
    "\n",
    "com1_2 = findmag(QUASAR2_i,refsta2_i,sta1_RA_WORLD,sta1_DEC_WORLD,refsta2_RA,refsta2_DEC,mag_refsta2_i,k_i)\n",
    "com2_2 = findmag(QUASAR2_i,refsta2_i,sta2_RA_WORLD,sta2_DEC_WORLD,refsta2_RA,refsta2_DEC,mag_refsta2_i,k_i)\n",
    "com3_2 = findmag(QUASAR2_i,refsta2_i,sta3_RA_WORLD,sta3_DEC_WORLD,refsta2_RA,refsta2_DEC,mag_refsta2_i,k_i)"
   ]
  },
  {
   "cell_type": "code",
   "execution_count": 60,
   "metadata": {
    "scrolled": true
   },
   "outputs": [
    {
     "name": "stdout",
     "output_type": "stream",
     "text": [
      "i-filter\n",
      "Star 1\n",
      "[ 10.37454967  10.38998563  10.36147763] [ 10.40675171  10.39160153  10.39330886]\n",
      "10.3862791713 0.0145103670475\n",
      "Star 2\n",
      "[ 12.67871402  12.67742182  12.67517737] [ 12.75149991  12.73956632  12.74061702]\n",
      "12.7104994102 0.0336280691626\n",
      "Star 3\n",
      "[ nan  nan  nan] [ nan  nan  nan]\n",
      "nan nan\n"
     ]
    },
    {
     "name": "stderr",
     "output_type": "stream",
     "text": [
      "/home/lynge/anaconda2/lib/python2.7/site-packages/ipykernel_launcher.py:12: RuntimeWarning: Mean of empty slice\n",
      "  if sys.path[0] == '':\n"
     ]
    }
   ],
   "source": [
    "print 'i-filter'\n",
    "print 'Star 1'\n",
    "print com1_1,com1_2\n",
    "print np.nanmean((com1_1,com1_2)), np.nanstd((com1_1,com1_2))\n",
    "\n",
    "print 'Star 2'\n",
    "print com2_1,com2_2\n",
    "print np.nanmean((com2_1,com2_2)), np.nanstd((com2_1,com2_2))\n",
    "\n",
    "print 'Star 3'\n",
    "print com3_1,com3_2\n",
    "print np.nanmean((com3_1,com3_2)), np.nanstd((com3_1,com3_2))"
   ]
  },
  {
   "cell_type": "code",
   "execution_count": 61,
   "metadata": {
    "scrolled": true
   },
   "outputs": [
    {
     "name": "stdout",
     "output_type": "stream",
     "text": [
      "Frame nr.  0 /media/lynge/Lynge-Back-up/Calibration/13-11-17-SA092_342/z/IMG2017315BLh001.fits\n",
      "Frame nr.  1 /media/lynge/Lynge-Back-up/Calibration/13-11-17-SA092_342/z/IMG2017315BLh002.fits\n",
      "Frame nr.  2 /media/lynge/Lynge-Back-up/Calibration/13-11-17-SA092_342/z/IMG2017315BLh005.fits\n",
      "Frame nr.  3 /media/lynge/Lynge-Back-up/Calibration/13-11-17-SA092_342/z/IMG2017315BLh006.fits\n",
      "Frame nr.  4 /media/lynge/Lynge-Back-up/Calibration/13-11-17-SA092_342/z/IMG2017315BLs003.fits\n",
      "Frame nr.  5 /media/lynge/Lynge-Back-up/Calibration/13-11-17-SA092_342/z/IMG2017315BLs004.fits\n",
      "Frame nr.  6 /media/lynge/Lynge-Back-up/Calibration/13-11-17-SA092_342/z/IMG2017315BLs007.fits\n",
      "Frame nr.  7 /media/lynge/Lynge-Back-up/Calibration/13-11-17-SA092_342/z/IMG2017315BLs008.fits\n",
      "Frame nr.  0 /media/lynge/Lynge-Back-up/Calibration/13-11-17-NGC3783/z/IMG2017315BLs129.fits\n",
      "Frame nr.  1 /media/lynge/Lynge-Back-up/Calibration/13-11-17-NGC3783/z/IMG2017315BLs130.fits\n",
      "Frame nr.  2 /media/lynge/Lynge-Back-up/Calibration/13-11-17-NGC3783/z/IMG2017315BLs131.fits\n",
      "[ 10.48740034  10.47747231  10.47658221]\n",
      "Frame nr.  0 /media/lynge/Lynge-Back-up/Calibration/13-11-17-SA092_342/z/IMG2017315BLh001.fits\n",
      "Frame nr.  1 /media/lynge/Lynge-Back-up/Calibration/13-11-17-SA092_342/z/IMG2017315BLh002.fits\n",
      "Frame nr.  2 /media/lynge/Lynge-Back-up/Calibration/13-11-17-SA092_342/z/IMG2017315BLh005.fits\n",
      "Frame nr.  3 /media/lynge/Lynge-Back-up/Calibration/13-11-17-SA092_342/z/IMG2017315BLh006.fits\n",
      "Frame nr.  4 /media/lynge/Lynge-Back-up/Calibration/13-11-17-SA092_342/z/IMG2017315BLs003.fits\n",
      "Frame nr.  5 /media/lynge/Lynge-Back-up/Calibration/13-11-17-SA092_342/z/IMG2017315BLs004.fits\n",
      "Frame nr.  6 /media/lynge/Lynge-Back-up/Calibration/13-11-17-SA092_342/z/IMG2017315BLs007.fits\n",
      "Frame nr.  7 /media/lynge/Lynge-Back-up/Calibration/13-11-17-SA092_342/z/IMG2017315BLs008.fits\n",
      "Frame nr.  0 /media/lynge/Lynge-Back-up/Calibration/13-11-17-NGC3783/z/IMG2017315BLs129.fits\n",
      "Frame nr.  1 /media/lynge/Lynge-Back-up/Calibration/13-11-17-NGC3783/z/IMG2017315BLs130.fits\n",
      "Frame nr.  2 /media/lynge/Lynge-Back-up/Calibration/13-11-17-NGC3783/z/IMG2017315BLs131.fits\n",
      "[ 12.87244799  12.86246751  12.85006374]\n",
      "Frame nr.  0 /media/lynge/Lynge-Back-up/Calibration/13-11-17-SA092_342/z/IMG2017315BLh001.fits\n",
      "Frame nr.  1 /media/lynge/Lynge-Back-up/Calibration/13-11-17-SA092_342/z/IMG2017315BLh002.fits\n",
      "Frame nr.  2 /media/lynge/Lynge-Back-up/Calibration/13-11-17-SA092_342/z/IMG2017315BLh005.fits\n",
      "Frame nr.  3 /media/lynge/Lynge-Back-up/Calibration/13-11-17-SA092_342/z/IMG2017315BLh006.fits\n",
      "Frame nr.  4 /media/lynge/Lynge-Back-up/Calibration/13-11-17-SA092_342/z/IMG2017315BLs003.fits\n",
      "Frame nr.  5 /media/lynge/Lynge-Back-up/Calibration/13-11-17-SA092_342/z/IMG2017315BLs004.fits\n",
      "Frame nr.  6 /media/lynge/Lynge-Back-up/Calibration/13-11-17-SA092_342/z/IMG2017315BLs007.fits\n",
      "Frame nr.  7 /media/lynge/Lynge-Back-up/Calibration/13-11-17-SA092_342/z/IMG2017315BLs008.fits\n",
      "Frame nr.  0 /media/lynge/Lynge-Back-up/Calibration/13-11-17-NGC3783/z/IMG2017315BLs129.fits\n",
      "Frame nr.  1 /media/lynge/Lynge-Back-up/Calibration/13-11-17-NGC3783/z/IMG2017315BLs130.fits\n",
      "Frame nr.  2 /media/lynge/Lynge-Back-up/Calibration/13-11-17-NGC3783/z/IMG2017315BLs131.fits\n"
     ]
    },
    {
     "name": "stderr",
     "output_type": "stream",
     "text": [
      "/home/lynge/anaconda2/lib/python2.7/site-packages/ipykernel_launcher.py:45: RuntimeWarning: Mean of empty slice\n"
     ]
    },
    {
     "name": "stdout",
     "output_type": "stream",
     "text": [
      "[ nan  nan  nan]\n",
      "Frame nr.  0 /media/lynge/Lynge-Back-up/Calibration/08-06-16-SA100-241/z/IMG2016158BLh009.fits\n",
      "Frame nr.  1 /media/lynge/Lynge-Back-up/Calibration/08-06-16-SA100-241/z/IMG2016158BLh010.fits\n",
      "Frame nr.  2 /media/lynge/Lynge-Back-up/Calibration/08-06-16-SA100-241/z/IMG2016158BLh013.fits\n",
      "Frame nr.  3 /media/lynge/Lynge-Back-up/Calibration/08-06-16-SA100-241/z/IMG2016158BLh014.fits\n",
      "Frame nr.  4 /media/lynge/Lynge-Back-up/Calibration/08-06-16-SA100-241/z/IMG2016158BLs011.fits\n",
      "Frame nr.  5 /media/lynge/Lynge-Back-up/Calibration/08-06-16-SA100-241/z/IMG2016158BLs012.fits\n",
      "Frame nr.  6 /media/lynge/Lynge-Back-up/Calibration/08-06-16-SA100-241/z/IMG2016158BLs015.fits\n",
      "Frame nr.  7 /media/lynge/Lynge-Back-up/Calibration/08-06-16-SA100-241/z/IMG2016158BLs016.fits\n",
      "Frame nr.  0 /media/lynge/Lynge-Back-up/Calibration/08-06-16-NGC3783/z/IMG2016158BLs046.fits\n",
      "Frame nr.  1 /media/lynge/Lynge-Back-up/Calibration/08-06-16-NGC3783/z/IMG2016158BLs047.fits\n",
      "Frame nr.  2 /media/lynge/Lynge-Back-up/Calibration/08-06-16-NGC3783/z/IMG2016158BLs048.fits\n",
      "[ 10.58614041  10.57174144  10.57640555]\n",
      "Frame nr.  0 /media/lynge/Lynge-Back-up/Calibration/08-06-16-SA100-241/z/IMG2016158BLh009.fits\n",
      "Frame nr.  1 /media/lynge/Lynge-Back-up/Calibration/08-06-16-SA100-241/z/IMG2016158BLh010.fits\n",
      "Frame nr.  2 /media/lynge/Lynge-Back-up/Calibration/08-06-16-SA100-241/z/IMG2016158BLh013.fits\n",
      "Frame nr.  3 /media/lynge/Lynge-Back-up/Calibration/08-06-16-SA100-241/z/IMG2016158BLh014.fits\n",
      "Frame nr.  4 /media/lynge/Lynge-Back-up/Calibration/08-06-16-SA100-241/z/IMG2016158BLs011.fits\n",
      "Frame nr.  5 /media/lynge/Lynge-Back-up/Calibration/08-06-16-SA100-241/z/IMG2016158BLs012.fits\n",
      "Frame nr.  6 /media/lynge/Lynge-Back-up/Calibration/08-06-16-SA100-241/z/IMG2016158BLs015.fits\n",
      "Frame nr.  7 /media/lynge/Lynge-Back-up/Calibration/08-06-16-SA100-241/z/IMG2016158BLs016.fits\n",
      "Frame nr.  0 /media/lynge/Lynge-Back-up/Calibration/08-06-16-NGC3783/z/IMG2016158BLs046.fits\n",
      "Frame nr.  1 /media/lynge/Lynge-Back-up/Calibration/08-06-16-NGC3783/z/IMG2016158BLs047.fits\n",
      "Frame nr.  2 /media/lynge/Lynge-Back-up/Calibration/08-06-16-NGC3783/z/IMG2016158BLs048.fits\n",
      "[ 13.25204919  13.2091248   13.18694293]\n",
      "Frame nr.  0 /media/lynge/Lynge-Back-up/Calibration/08-06-16-SA100-241/z/IMG2016158BLh009.fits\n",
      "Frame nr.  1 /media/lynge/Lynge-Back-up/Calibration/08-06-16-SA100-241/z/IMG2016158BLh010.fits\n",
      "Frame nr.  2 /media/lynge/Lynge-Back-up/Calibration/08-06-16-SA100-241/z/IMG2016158BLh013.fits\n",
      "Frame nr.  3 /media/lynge/Lynge-Back-up/Calibration/08-06-16-SA100-241/z/IMG2016158BLh014.fits\n",
      "Frame nr.  4 /media/lynge/Lynge-Back-up/Calibration/08-06-16-SA100-241/z/IMG2016158BLs011.fits\n",
      "Frame nr.  5 /media/lynge/Lynge-Back-up/Calibration/08-06-16-SA100-241/z/IMG2016158BLs012.fits\n",
      "Frame nr.  6 /media/lynge/Lynge-Back-up/Calibration/08-06-16-SA100-241/z/IMG2016158BLs015.fits\n",
      "Frame nr.  7 /media/lynge/Lynge-Back-up/Calibration/08-06-16-SA100-241/z/IMG2016158BLs016.fits\n",
      "Frame nr.  0 /media/lynge/Lynge-Back-up/Calibration/08-06-16-NGC3783/z/IMG2016158BLs046.fits\n",
      "Frame nr.  1 /media/lynge/Lynge-Back-up/Calibration/08-06-16-NGC3783/z/IMG2016158BLs047.fits\n",
      "Frame nr.  2 /media/lynge/Lynge-Back-up/Calibration/08-06-16-NGC3783/z/IMG2016158BLs048.fits\n",
      "[ nan  nan  nan]\n"
     ]
    }
   ],
   "source": [
    "com1_1 = findmag(QUASAR1_z,refsta1_z,sta1_RA_WORLD,sta1_DEC_WORLD,refsta1_RA,refsta1_DEC,mag_refsta1_z,k_z)\n",
    "com2_1 = findmag(QUASAR1_z,refsta1_z,sta2_RA_WORLD,sta2_DEC_WORLD,refsta1_RA,refsta1_DEC,mag_refsta1_z,k_z)\n",
    "com3_1 = findmag(QUASAR1_z,refsta1_z,sta3_RA_WORLD,sta3_DEC_WORLD,refsta1_RA,refsta1_DEC,mag_refsta1_z,k_z)\n",
    "\n",
    "com1_2 = findmag(QUASAR2_z,refsta2_z,sta1_RA_WORLD,sta1_DEC_WORLD,refsta2_RA,refsta2_DEC,mag_refsta2_z,k_z)\n",
    "com2_2 = findmag(QUASAR2_z,refsta2_z,sta2_RA_WORLD,sta2_DEC_WORLD,refsta2_RA,refsta2_DEC,mag_refsta2_z,k_z)\n",
    "com3_2 = findmag(QUASAR2_z,refsta2_z,sta3_RA_WORLD,sta3_DEC_WORLD,refsta2_RA,refsta2_DEC,mag_refsta2_z,k_z)"
   ]
  },
  {
   "cell_type": "code",
   "execution_count": 62,
   "metadata": {
    "scrolled": true
   },
   "outputs": [
    {
     "name": "stdout",
     "output_type": "stream",
     "text": [
      "z-filter\n",
      "Star 1\n",
      "[ 10.48740034  10.47747231  10.47658221] [ 10.58614041  10.57174144  10.57640555]\n",
      "10.5292903776 0.0491119411049\n",
      "Star 2\n",
      "[ 12.87244799  12.86246751  12.85006374] [ 13.25204919  13.2091248   13.18694293]\n",
      "13.0388493596 0.178334694465\n",
      "Star 3\n",
      "[ nan  nan  nan] [ nan  nan  nan]\n",
      "nan nan\n"
     ]
    },
    {
     "name": "stderr",
     "output_type": "stream",
     "text": [
      "/home/lynge/anaconda2/lib/python2.7/site-packages/ipykernel_launcher.py:12: RuntimeWarning: Mean of empty slice\n",
      "  if sys.path[0] == '':\n"
     ]
    }
   ],
   "source": [
    "print 'z-filter'\n",
    "print 'Star 1'\n",
    "print com1_1,com1_2\n",
    "print np.nanmean((com1_1,com1_2)), np.nanstd((com1_1,com1_2))\n",
    "\n",
    "print 'Star 2'\n",
    "print com2_1,com2_2\n",
    "print np.nanmean((com2_1,com2_2)), np.nanstd((com2_1,com2_2))\n",
    "\n",
    "print 'Star 3'\n",
    "print com3_1,com3_2\n",
    "print np.nanmean((com3_1,com3_2)), np.nanstd((com3_1,com3_2))"
   ]
  },
  {
   "cell_type": "code",
   "execution_count": 63,
   "metadata": {
    "scrolled": true
   },
   "outputs": [
    {
     "ename": "NameError",
     "evalue": "name 'NGC3783_r' is not defined",
     "output_type": "error",
     "traceback": [
      "\u001b[0;31m---------------------------------------------------------------------------\u001b[0m",
      "\u001b[0;31mNameError\u001b[0m                                 Traceback (most recent call last)",
      "\u001b[0;32m<ipython-input-63-07dbc6342341>\u001b[0m in \u001b[0;36m<module>\u001b[0;34m()\u001b[0m\n\u001b[0;32m----> 1\u001b[0;31m \u001b[0mHD101274_1\u001b[0m \u001b[0;34m=\u001b[0m \u001b[0mfindmag\u001b[0m\u001b[0;34m(\u001b[0m\u001b[0mNGC3783_r\u001b[0m\u001b[0;34m,\u001b[0m\u001b[0mP_r\u001b[0m\u001b[0;34m,\u001b[0m\u001b[0msta1_RA_WORLD\u001b[0m\u001b[0;34m,\u001b[0m\u001b[0msta1_DEC_WORLD\u001b[0m\u001b[0;34m,\u001b[0m\u001b[0mr_P_RA\u001b[0m\u001b[0;34m,\u001b[0m\u001b[0mr_P_DEC\u001b[0m\u001b[0;34m,\u001b[0m\u001b[0mP_mag_r\u001b[0m\u001b[0;34m,\u001b[0m\u001b[0mk_r\u001b[0m\u001b[0;34m)\u001b[0m\u001b[0;34m\u001b[0m\u001b[0m\n\u001b[0m\u001b[1;32m      2\u001b[0m \u001b[0mTyc_22_1\u001b[0m \u001b[0;34m=\u001b[0m \u001b[0mfindmag\u001b[0m\u001b[0;34m(\u001b[0m\u001b[0mNGC3783_r\u001b[0m\u001b[0;34m,\u001b[0m\u001b[0mP_r\u001b[0m\u001b[0;34m,\u001b[0m\u001b[0msta2_RA_WORLD\u001b[0m\u001b[0;34m,\u001b[0m\u001b[0msta2_DEC_WORLD\u001b[0m\u001b[0;34m,\u001b[0m\u001b[0mr_P_RA\u001b[0m\u001b[0;34m,\u001b[0m\u001b[0mr_P_DEC\u001b[0m\u001b[0;34m,\u001b[0m\u001b[0mP_mag_r\u001b[0m\u001b[0;34m,\u001b[0m\u001b[0mk_r\u001b[0m\u001b[0;34m)\u001b[0m\u001b[0;34m\u001b[0m\u001b[0m\n\u001b[1;32m      3\u001b[0m \u001b[0mTyc_529_1\u001b[0m \u001b[0;34m=\u001b[0m \u001b[0mfindmag\u001b[0m\u001b[0;34m(\u001b[0m\u001b[0mNGC3783_r\u001b[0m\u001b[0;34m,\u001b[0m\u001b[0mP_r\u001b[0m\u001b[0;34m,\u001b[0m\u001b[0msta3_RA_WORLD\u001b[0m\u001b[0;34m,\u001b[0m\u001b[0msta3_DEC_WORLD\u001b[0m\u001b[0;34m,\u001b[0m\u001b[0mr_P_RA\u001b[0m\u001b[0;34m,\u001b[0m\u001b[0mr_P_DEC\u001b[0m\u001b[0;34m,\u001b[0m\u001b[0mP_mag_r\u001b[0m\u001b[0;34m,\u001b[0m\u001b[0mk_r\u001b[0m\u001b[0;34m)\u001b[0m\u001b[0;34m\u001b[0m\u001b[0m\n\u001b[1;32m      4\u001b[0m \u001b[0;34m\u001b[0m\u001b[0m\n\u001b[1;32m      5\u001b[0m \u001b[0;34m\u001b[0m\u001b[0m\n",
      "\u001b[0;31mNameError\u001b[0m: name 'NGC3783_r' is not defined"
     ]
    }
   ],
   "source": [
    "HD101274_1 = findmag(NGC3783_r,P_r,sta1_RA_WORLD,sta1_DEC_WORLD,r_P_RA,r_P_DEC,P_mag_r,k_r)\n",
    "Tyc_22_1 = findmag(NGC3783_r,P_r,sta2_RA_WORLD,sta2_DEC_WORLD,r_P_RA,r_P_DEC,P_mag_r,k_r)\n",
    "Tyc_529_1 = findmag(NGC3783_r,P_r,sta3_RA_WORLD,sta3_DEC_WORLD,r_P_RA,r_P_DEC,P_mag_r,k_r)\n",
    "\n",
    "\n"
   ]
  },
  {
   "cell_type": "code",
   "execution_count": null,
   "metadata": {
    "collapsed": true
   },
   "outputs": [],
   "source": [
    "print 'r-filter'\n",
    "print HD101274_1\n",
    "print np.mean(HD101274_1,), np.std(HD101274_1)\n",
    "\n",
    "print Tyc_22_1\n",
    "print np.mean(Tyc_22_1), np.std(Tyc_22_1)\n",
    "\n",
    "print Tyc_529_1\n",
    "print np.mean(Tyc_529_1), np.std(Tyc_529_1)"
   ]
  },
  {
   "cell_type": "code",
   "execution_count": null,
   "metadata": {
    "collapsed": true,
    "scrolled": true
   },
   "outputs": [],
   "source": [
    "HD101274_1 = findmag(NGC3783_i,P_i,sta1_RA_WORLD,sta1_DEC_WORLD,i_P_RA,i_P_DEC,P_mag_i,k_i)\n",
    "Tyc_22_1 = findmag(NGC3783_i,P_i,sta2_RA_WORLD,sta2_DEC_WORLD,i_P_RA,i_P_DEC,P_mag_i,k_i)\n",
    "Tyc_529_1 = findmag(NGC3783_i,P_i,sta3_RA_WORLD,sta3_DEC_WORLD,i_P_RA,i_P_DEC,P_mag_i,k_i)\n",
    "\n",
    "\n"
   ]
  },
  {
   "cell_type": "code",
   "execution_count": null,
   "metadata": {
    "collapsed": true
   },
   "outputs": [],
   "source": [
    "print 'i-filter'\n",
    "print HD101274_1\n",
    "print np.mean(HD101274_1,), np.std(HD101274_1)\n",
    "\n",
    "print Tyc_22_1\n",
    "print np.mean(Tyc_22_1), np.std(Tyc_22_1)\n",
    "\n",
    "print Tyc_529_1\n",
    "print np.mean(Tyc_529_1), np.std(Tyc_529_1)"
   ]
  },
  {
   "cell_type": "code",
   "execution_count": null,
   "metadata": {
    "collapsed": true,
    "scrolled": true
   },
   "outputs": [],
   "source": [
    "sta2_RA_WORLD = 174.82083333\n",
    "sta2_DEC_WORLD = -37.76194444\n",
    "\n",
    "HD101274_1 = findmag(NGC3783_z,P_z,sta1_RA_WORLD,sta1_DEC_WORLD,z_P_RA,z_P_DEC,P_mag_z,k_z)\n",
    "Tyc_22_1 = findmag(NGC3783_z,P_z,sta2_RA_WORLD,sta2_DEC_WORLD,z_P_RA,z_P_DEC,P_mag_z,k_z)\n",
    "Tyc_529_1 = findmag(NGC3783_z,P_z,sta3_RA_WORLD,sta3_DEC_WORLD,z_P_RA,z_P_DEC,P_mag_z,k_z)\n",
    "\n",
    "\n"
   ]
  },
  {
   "cell_type": "code",
   "execution_count": null,
   "metadata": {
    "collapsed": true
   },
   "outputs": [],
   "source": [
    "print 'z-filter'\n",
    "print HD101274_1\n",
    "print np.nanmean(HD101274_1,), np.nanstd(HD101274_1)\n",
    "\n",
    "print Tyc_22_1\n",
    "print np.nanmean(Tyc_22_1), np.nanstd(Tyc_22_1)\n",
    "\n",
    "print Tyc_529_1\n",
    "print np.nanmean(Tyc_529_1), np.nanstd(Tyc_529_1)"
   ]
  },
  {
   "cell_type": "code",
   "execution_count": null,
   "metadata": {
    "collapsed": true
   },
   "outputs": [],
   "source": []
  }
 ],
 "metadata": {
  "kernelspec": {
   "display_name": "Python 2",
   "language": "python",
   "name": "python2"
  },
  "language_info": {
   "codemirror_mode": {
    "name": "ipython",
    "version": 2
   },
   "file_extension": ".py",
   "mimetype": "text/x-python",
   "name": "python",
   "nbconvert_exporter": "python",
   "pygments_lexer": "ipython2",
   "version": "2.7.13"
  }
 },
 "nbformat": 4,
 "nbformat_minor": 2
}
