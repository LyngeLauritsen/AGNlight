{
 "cells": [
  {
   "cell_type": "code",
   "execution_count": 1,
   "metadata": {
    "collapsed": true
   },
   "outputs": [],
   "source": [
    "import numpy as np\n",
    "import scipy as sc\n",
    "import matplotlib.pyplot as plt"
   ]
  },
  {
   "cell_type": "code",
   "execution_count": 3,
   "metadata": {
    "collapsed": true
   },
   "outputs": [],
   "source": [
    "K = np.loadtxt('/../home/lynge/MasterP/NOVEMBER/NOV-NGC3783-K')\n",
    "H = np.loadtxt('/../home/lynge/MasterP/NOVEMBER/NOV-NGC3783-H')\n",
    "J = np.loadtxt('/../home/lynge/MasterP/NOVEMBER/NOV-NGC3783-J')"
   ]
  },
  {
   "cell_type": "code",
   "execution_count": 8,
   "metadata": {
    "collapsed": false
   },
   "outputs": [],
   "source": [
    "K_mean, K_var = np.nanmean(K[:,1]), np.nanvar(K[:,1])\n",
    "H_mean, H_var = np.nanmean(H[:,1]), np.nanvar(H[:,1])\n",
    "J_mean, J_var = np.nanmean(J[:,1]), np.nanvar(J[:,1])"
   ]
  },
  {
   "cell_type": "code",
   "execution_count": 11,
   "metadata": {
    "collapsed": false
   },
   "outputs": [
    {
     "name": "stdout",
     "output_type": "stream",
     "text": [
      "0.8368943971017768\n",
      "1.1528637180071633\n",
      "0.7259265635910808\n"
     ]
    }
   ],
   "source": [
    "print K_mean/H_mean\n",
    "print J_mean/H_mean\n",
    "print K_mean/J_mean"
   ]
  },
  {
   "cell_type": "code",
   "execution_count": 13,
   "metadata": {
    "collapsed": false
   },
   "outputs": [
    {
     "name": "stdout",
     "output_type": "stream",
     "text": [
      "8.108428534867264e-15\n",
      "9.688711697613597e-15\n",
      "1.1169764190410307e-14\n",
      "1.4957190491562754e-30\n",
      "1.5613705602955048e-30\n",
      "2.0433938101376688e-30\n"
     ]
    }
   ],
   "source": [
    "print K_mean\n",
    "print H_mean\n",
    "print J_mean\n",
    "print K_var\n",
    "print H_var\n",
    "print J_var"
   ]
  },
  {
   "cell_type": "code",
   "execution_count": null,
   "metadata": {
    "collapsed": true
   },
   "outputs": [],
   "source": [
    "def "
   ]
  }
 ],
 "metadata": {
  "kernelspec": {
   "display_name": "Python 2",
   "language": "python",
   "name": "python2"
  },
  "language_info": {
   "codemirror_mode": {
    "name": "ipython",
    "version": 2
   },
   "file_extension": ".py",
   "mimetype": "text/x-python",
   "name": "python",
   "nbconvert_exporter": "python",
   "pygments_lexer": "ipython2",
   "version": "2.7.13"
  }
 },
 "nbformat": 4,
 "nbformat_minor": 2
}
