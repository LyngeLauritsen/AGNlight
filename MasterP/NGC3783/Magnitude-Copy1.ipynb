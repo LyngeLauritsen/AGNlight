{
 "cells": [
  {
   "cell_type": "code",
   "execution_count": 1,
   "metadata": {},
   "outputs": [
    {
     "name": "stderr",
     "output_type": "stream",
     "text": [
      "/home/lynge/anaconda2/lib/python2.7/site-packages/matplotlib/__init__.py:1405: UserWarning: \n",
      "This call to matplotlib.use() has no effect because the backend has already\n",
      "been chosen; matplotlib.use() must be called *before* pylab, matplotlib.pyplot,\n",
      "or matplotlib.backends is imported for the first time.\n",
      "\n",
      "  warnings.warn(_use_error_msg)\n"
     ]
    }
   ],
   "source": [
    "import numpy as np\n",
    "import scipy as sp\n",
    "import matplotlib\n",
    "import matplotlib.pyplot as plt\n",
    "%matplotlib inline\n",
    "from matplotlib.colors import LogNorm\n",
    "import scipy.stats as stats\n",
    "from matplotlib import gridspec\n",
    "import aplpy as apl #The Astronomy Plotting Library for python\n",
    "import astropy\n",
    "from astropy.stats import sigma_clip\n",
    "from astropy.modeling import functional_models, models, fitting\n",
    "import astropy.units as U\n",
    "from astropy.coordinates import ICRS, Galactic, FK4, FK5, Angle, Latitude, Longitude\n",
    "import astropy.constants as C\n",
    "from astropy import wcs\n",
    "import astropy.io.fits as fits\n",
    "from astropy.io import ascii\n",
    "import astropy.coordinates as coord\n",
    "from astropy.coordinates import SkyCoord\n",
    "from astropy.stats import signal_to_noise_oir_ccd as SNRas\n",
    "#import spectral_cube as SC\n",
    "#from spectral_cube import SpectralCube as sc\n",
    "from astropy.wcs import WCS\n",
    "matplotlib.use('Agg')\n",
    "import matplotlib.cm as cm\n",
    "#import astrometry as ast\n",
    "import pyfits\n",
    "import requests\n",
    "import json\n",
    "import os\n",
    "from sklearn import datasets, linear_model\n",
    "from scipy.optimize import curve_fit\n",
    "import numpy.ma as ma\n",
    "from astropy.table import Table, Column\n",
    "import pyextract\n",
    "import sewpy\n",
    "import pandas as pd\n",
    "from astropy import units as u"
   ]
  },
  {
   "cell_type": "code",
   "execution_count": 2,
   "metadata": {
    "collapsed": true,
    "scrolled": false
   },
   "outputs": [],
   "source": [
    "\n",
    "\n",
    "k_g = 0.16\n",
    "k_r = 0.08\n",
    "k_i = 0.02\n",
    "k_z = 0.01\n",
    "\n",
    "PG_RA = 201.4144438\n",
    "PG_DEC = -8.8219767\n",
    "\n",
    "RA_SA100_241 = 133.14186958\n",
    "DEC_SA100_241 = -0.66360306\n",
    "\n",
    "RA_SA101_315 = 148.71371625  \n",
    "DEC_SA101_315 = -0.45861306\n",
    "\n",
    "P_mag_g = 12.225\n",
    "P_mag_r = 11.918\n",
    "P_mag_i = 11.829\n",
    "P_mag_z = 11.814\n",
    "\n",
    "G_mag_g = 13.159\n",
    "G_mag_r = 12.437\n",
    "G_mag_i = 12.123\n",
    "G_mag_z = 11.944\n",
    "\n",
    "T_mag_g = 12.215\n",
    "T_mag_r = 11.850\n",
    "T_mag_i = 11.720\n",
    "T_mag_z = 11.675\n",
    "\n",
    "\n",
    "'''\n",
    "g_SA100_241 = 10.166\n",
    "r_SA100_241 = 10.229\n",
    "i_SA100_241 = 10.347\n",
    "z_SA100_241 = 10.456\n",
    "\n",
    "g_SA101_315 = 11.703\n",
    "r_SA101_315 = 10.862\n",
    "i_SA101_315 = 10.560\n",
    "z_SA101_315 = 10.416\n",
    "'''\n",
    "\n",
    "sta1_RA_WORLD = SkyCoord('22:08:51.993  -47:10:28.64', unit=(u.hourangle, u.deg)).ra.degree #UCAC3 86-422902\n",
    "sta1_DEC_WORLD = SkyCoord('22:08:51.993  -47:10:28.64', unit=(u.hourangle, u.deg)).dec.degree\n",
    "\n",
    "sta2_RA_WORLD = SkyCoord('22:08:51.908  -47:07:20.88', unit=(u.hourangle, u.deg)).ra.degree #TYC 8438-1960-1\n",
    "sta2_DEC_WORLD = SkyCoord('22:08:51.908  -47:07:20.88', unit=(u.hourangle, u.deg)).dec.degree\n",
    "\n",
    "G_RA = SkyCoord('12:41:41 -00:26:26', unit=(u.hourangle, u.deg)).ra.degree #Random patch of sky\n",
    "G_DEC = SkyCoord('12:41:41 -00:26:26', unit=(u.hourangle, u.deg)).dec.degree \n",
    "\n",
    "T_RA = SkyCoord('15:30:39 +06:01:13', unit=(u.hourangle, u.deg)).ra.degree #Random patch of sky\n",
    "T_DEC = SkyCoord('15:30:39 +06:01:13', unit=(u.hourangle, u.deg)).dec.degree \n"
   ]
  },
  {
   "cell_type": "code",
   "execution_count": 3,
   "metadata": {},
   "outputs": [
    {
     "name": "stdout",
     "output_type": "stream",
     "text": [
      "6.15573770492\n",
      "-1.25833333333\n",
      "13.1475409836\n",
      "-10.479338843\n",
      "-6.88524590164\n",
      "12.8429752066\n",
      "-3.18181818182\n",
      "-6.82113821138\n"
     ]
    },
    {
     "name": "stderr",
     "output_type": "stream",
     "text": [
      "/home/lynge/anaconda2/lib/python2.7/site-packages/pyfits/hdu/image.py:515: VerifyWarning: Invalid 'BLANK' keyword in header.  The 'BLANK' keyword is only applicable to integer data, and will be ignored in this HDU.\n",
      "  warnings.warn(msg, VerifyWarning)\n"
     ]
    }
   ],
   "source": [
    "NGC3783_g = [os.path.join('/media/lynge/Lynge-Back-up/NGC7213-cal/21-06-17/NGC7213-g',f)\n",
    "             for f in os.listdir('/media/lynge/Lynge-Back-up/NGC7213-cal/21-06-17/NGC7213-g')]\n",
    "\n",
    "G_g = [os.path.join('/media/lynge/Lynge-Back-up/NGC7213-cal/21-06-17/G104-426-g/',f) \\\n",
    "        for f in os.listdir('/media/lynge/Lynge-Back-up/NGC7213-cal/21-06-17/G104-426-g/')]\n",
    "\n",
    "T_g = [os.path.join('/media/lynge/Lynge-Back-up/NGC7213-cal/21-06-17/TYC-362-266-1-g/',f) \\\n",
    "        for f in os.listdir('/media/lynge/Lynge-Back-up/NGC7213-cal/21-06-17/TYC-362-266-1-g/')]\n",
    "\n",
    "for i in range(len(T_g)):\n",
    "    print pyfits.getdata(T_g[i])[300,300]"
   ]
  },
  {
   "cell_type": "code",
   "execution_count": 4,
   "metadata": {
    "collapsed": true
   },
   "outputs": [],
   "source": [
    "NGC3783_r = [os.path.join('/media/lynge/Lynge-Back-up/NGC7213-cal/21-06-17/NGC7213-r',f)\n",
    "             for f in os.listdir('/media/lynge/Lynge-Back-up/NGC7213-cal/21-06-17/NGC7213-r')]\n",
    "\n",
    "G_r = [os.path.join('/media/lynge/Lynge-Back-up/NGC7213-cal/21-06-17/G104-426-r/',f) \\\n",
    "        for f in os.listdir('/media/lynge/Lynge-Back-up/NGC7213-cal/21-06-17/G104-426-r/')]\n",
    "\n",
    "T_r = [os.path.join('/media/lynge/Lynge-Back-up/NGC7213-cal/21-06-17/TYC-362-266-1-r/',f) \\\n",
    "        for f in os.listdir('/media/lynge/Lynge-Back-up/NGC7213-cal/21-06-17/TYC-362-266-1-r/')]"
   ]
  },
  {
   "cell_type": "code",
   "execution_count": 5,
   "metadata": {
    "collapsed": true
   },
   "outputs": [],
   "source": [
    "NGC3783_i = [os.path.join('/media/lynge/Lynge-Back-up/NGC7213-cal/21-06-17/NGC7213-i',f)\n",
    "             for f in os.listdir('/media/lynge/Lynge-Back-up/NGC7213-cal/21-06-17/NGC7213-i')]\n",
    "\n",
    "G_i = [os.path.join('/media/lynge/Lynge-Back-up/NGC7213-cal/21-06-17/G104-426-i/',f) \\\n",
    "        for f in os.listdir('/media/lynge/Lynge-Back-up/NGC7213-cal/21-06-17/G104-426-i/')]\n",
    "\n",
    "T_i = [os.path.join('/media/lynge/Lynge-Back-up/NGC7213-cal/21-06-17/TYC-362-266-1-i/',f) \\\n",
    "        for f in os.listdir('/media/lynge/Lynge-Back-up/NGC7213-cal/21-06-17/TYC-362-266-1-i/')]"
   ]
  },
  {
   "cell_type": "code",
   "execution_count": 6,
   "metadata": {
    "collapsed": true
   },
   "outputs": [],
   "source": [
    "NGC3783_z = [os.path.join('/media/lynge/Lynge-Back-up/NGC7213-cal/21-06-17/NGC7213-z',f)\n",
    "             for f in os.listdir('/media/lynge/Lynge-Back-up/NGC7213-cal/21-06-17/NGC7213-z')]\n",
    "\n",
    "G_z = [os.path.join('/media/lynge/Lynge-Back-up/NGC7213-cal/21-06-17/G104-426-z/',f) \\\n",
    "        for f in os.listdir('/media/lynge/Lynge-Back-up/NGC7213-cal/21-06-17/G104-426-z/')]\n",
    "\n",
    "T_z = [os.path.join('/media/lynge/Lynge-Back-up/NGC7213-cal/21-06-17/TYC-362-266-1-z/',f) \\\n",
    "        for f in os.listdir('/media/lynge/Lynge-Back-up/NGC7213-cal/21-06-17/TYC-362-266-1-z/')]"
   ]
  },
  {
   "cell_type": "code",
   "execution_count": 7,
   "metadata": {
    "collapsed": true
   },
   "outputs": [],
   "source": [
    "def dist(mid,end):\n",
    "    return np.sqrt((mid[0] - end[0])**2 + (mid[1] - end[1])**2)"
   ]
  },
  {
   "cell_type": "code",
   "execution_count": 8,
   "metadata": {
    "collapsed": true
   },
   "outputs": [],
   "source": [
    "def flux_cal(A_mag,B_mag,B_flux):\n",
    "    '''Flux of A found through magnitude and flux of B'''\n",
    "    return B_flux*10**((B_mag-A_mag)/2.5)"
   ]
  },
  {
   "cell_type": "code",
   "execution_count": 9,
   "metadata": {
    "collapsed": true
   },
   "outputs": [],
   "source": [
    "def Basic(quasar,header):\n",
    "    '''Provides a basic list of neccesities from the fits header file for use in the later \\\n",
    "    flux determination, it does not serve an individual purpose beyound that'''\n",
    "    AGNdata = quasar #np.rot90(np.rot90(np.fliplr(quasar)))\n",
    "    #header = data[0].header\n",
    "    #print header\n",
    "    RAstd = header['CRVAL1']\n",
    "    DECstd = header['CRVAL2']\n",
    "    #print RAstd, DECstd\n",
    "    pixspa = header['PIXSCALE']/(3600.)\n",
    "    #print pixspa\n",
    "    RAstdpix = header['CRPIX1']\n",
    "    DECstdpix = header['CRPIX2']\n",
    "    exptime = 10 # header['EXPTIME']\n",
    "    return header,AGNdata,RAstd,DECstd,pixspa,RAstdpix,DECstdpix,exptime"
   ]
  },
  {
   "cell_type": "code",
   "execution_count": 10,
   "metadata": {
    "collapsed": true
   },
   "outputs": [],
   "source": [
    "def curve(quasar,header,w,center,apparature):\n",
    "    '''Determines the FLUX of the stellar object given the the numpy array of the image, \\\n",
    "    the header of the fits file, the astropy coordinate representation, \\\n",
    "    the object position and the apparature of interest'''\n",
    "    header,AGNdata,RAstd,DECstd,pixspa,RAstdpix,DECstdpix,exptime = Basic(quasar,header)\n",
    "    #AGNdata = np.swapaxes(AGNdata,0,1)\n",
    "    y, x = np.ogrid[0:header['NAXIS1'],0:header['NAXIS1']]\n",
    "    #w = np.swapaxes(w,0,1)\n",
    "    #F_AGN = np.zeros((512,512,3)) #((int(2*apparature/pixspa)+1,int(2*apparature/pixspa)+1,3))\n",
    "    #print center\n",
    "    x1 = w.all_world2pix(center[0],center[1],0)\n",
    "    x1,y1 = (x1[0]),(x1[1])\n",
    "    try:\n",
    "        mask = ((y-y1)**2 + (x-x1)**2) > (apparature/float(pixspa))**2\n",
    "        AGNdata[mask] = float(0)\n",
    "        mask = AGNdata == 0.\n",
    "        rows = np.flatnonzero((~mask).sum(axis=1))\n",
    "        cols = np.flatnonzero((~mask).sum(axis=0))\n",
    "        AGNdata = AGNdata[rows.min():rows.max()+1, cols.min():cols.max()+1]\n",
    "        #print apparature/float(pixspa)\n",
    "    except:\n",
    "        AGNdata = np.array([[float('nan'),float('nan')],[float('nan'),float('nan')]])\n",
    "    #if np.sum(AGNdata) < 500:\n",
    "    #    AGNdata = np.array([[float('nan'),float('nan')],[float('nan'),float('nan')]])\n",
    "    return AGNdata/float(exptime), x1, y1\n"
   ]
  },
  {
   "cell_type": "code",
   "execution_count": 11,
   "metadata": {
    "collapsed": true
   },
   "outputs": [],
   "source": [
    "def comp1(qua,sta):\n",
    "    '''Code to determine the relation between the AGN and the Stellar flux as determined by either me \\\n",
    "    or by the SExtractor program respectively'''\n",
    "    comp = qua/sta\n",
    "    return comp"
   ]
  },
  {
   "cell_type": "code",
   "execution_count": 12,
   "metadata": {
    "collapsed": true
   },
   "outputs": [],
   "source": [
    "def SNR(data1,data2,header,ap1,ap2):\n",
    "    npix1 = np.pi*ap1**2/((header['PIXSCALE']/3600.)**2)\n",
    "    npix2 = np.pi*ap2**2/((header['PIXSCALE']/3600.)**2)\n",
    "    #data2_1 = ((data2-data1)/npix2)*npix1\n",
    "    data1_2 = data1/10.\n",
    "    data2_2 = data2/10.\n",
    "    return SNRas(10.,data1_2,abs(data2_2),0,header['RON'],npix1,gain=header['GAIN'])"
   ]
  },
  {
   "cell_type": "code",
   "execution_count": 13,
   "metadata": {
    "collapsed": true
   },
   "outputs": [],
   "source": [
    "def SXtable(quas,aperture):\n",
    "    header = pyfits.getheader(quas)\n",
    "    phot_app = aperture*3600/header['PIXSCALE']\n",
    "    np.set_printoptions(threshold=np.inf)\n",
    "    sew = sewpy.SEW(params=['XMODEL_WORLD', 'YMODEL_WORLD', 'X2MODEL_WORLD', 'Y2MODEL_WORLD', \n",
    "                            'XMODEL_IMAGE', 'YMODEL_IMAGE', 'FLUX_RADIUS(1)', 'FLUX_APER','ELLIPTICITY'],\n",
    "                    config={\"DETECT_THRESH\":10, 'DETECT_MINAREA':20, 'DETECT_MAXAREA':30000, \n",
    "                            \"PHOT_FLUXFRAC\":\"0.5\", 'PHOT_APERTURES':2*phot_app, \n",
    "                            'PIXEL_SCALE':header['PIXSCALE']}\n",
    "                    , sexpath='/usr/bin/sextractor')\n",
    "    out = sew(quas)\n",
    "    return out"
   ]
  },
  {
   "cell_type": "code",
   "execution_count": 14,
   "metadata": {
    "collapsed": true
   },
   "outputs": [],
   "source": [
    "def flux(quas,aperture,main_RA_WORLD,main_DEC_WORLD):\n",
    "    header = pyfits.getheader(quas)\n",
    "    RAmain = WCS(quas).all_world2pix(main_RA_WORLD,main_DEC_WORLD,1)[0]\n",
    "    DECmain = WCS(quas).all_world2pix(main_RA_WORLD,main_DEC_WORLD,1)[1]\n",
    "    output = float('nan')\n",
    "    if 15 < RAmain < header['NAXIS1'] - 15 and 15 < DECmain < header['NAXIS2'] - 15: \n",
    "        out = SXtable(quas,aperture)\n",
    "        #print out['table']['XMODEL_IMAGE']\n",
    "        #print RAmain\n",
    "        RAmain = WCS(quas).all_world2pix(main_RA_WORLD,main_DEC_WORLD,0)[0]\n",
    "        DECmain = WCS(quas).all_world2pix(main_RA_WORLD,main_DEC_WORLD,0)[1]\n",
    "        #print out['table']['XMODEL_IMAGE'], out['table']['YMODEL_IMAGE']\n",
    "        #print RAmain, DECmain\n",
    "\n",
    "        for j in range(len(out['table']['XMODEL_IMAGE'])):\n",
    "            #output['time'][i] = header['MJD-OBS']\n",
    "            if RAmain - 30. < out['table']['XMODEL_IMAGE'][j] <  RAmain + 30. and \\\n",
    "            DECmain - 30. < out['table']['YMODEL_IMAGE'][j] < DECmain + 30.:\n",
    "                #print 'YES'\n",
    "                output = out['table']['FLUX_APER'][j]\n",
    "                break\n",
    "    else:\n",
    "        output = float('nan')\n",
    "        #print 'Done'\n",
    "    return output\n"
   ]
  },
  {
   "cell_type": "code",
   "execution_count": 15,
   "metadata": {
    "collapsed": true,
    "scrolled": false
   },
   "outputs": [],
   "source": [
    "def findmag(start,compare1,RA_star,DEC_star,RA_com,DEC_com,mag_com,AIR_EXTINCTION):\n",
    "    aperture1 = 0.001\n",
    "    #201.5441,-8.8601\n",
    "    com_flu = []\n",
    "    com_AIRMASS = []\n",
    "    com_EXPTIME = []\n",
    "    star_flu = []\n",
    "    star_AIRMASS = []\n",
    "    star_EXPTIME = []\n",
    "    for i in range(len(compare1)):\n",
    "        #print 'Frame nr. ', i\n",
    "        header = pyfits.getheader(compare1[i])\n",
    "        a1 = flux(compare1[i],2*aperture1,RA_com,DEC_com)/header['EXPTIME']\n",
    "        if a1 > 0:\n",
    "            #print a1\n",
    "            com_flu.append(a1), com_AIRMASS.append(header['AIRMASS']), com_EXPTIME.append(header['EXPTIME'])\n",
    "        #plt.figure(figsize=(3,3))\n",
    "        #plt.imshow(a1,cmap='hot')\n",
    "        #plt.colorbar()\n",
    "    for i in range(len(start)):\n",
    "        print 'Frame nr. ', i, \n",
    "        header = pyfits.getheader(start[i])\n",
    "        a1 = flux(start[i],2*aperture1,RA_star,DEC_star)/header['EXPTIME']\n",
    "        if a1 > 0:\n",
    "            #print a1\n",
    "            star_flu.append(a1), star_AIRMASS.append(header['AIRMASS']), star_EXPTIME.append(header['EXPTIME'])\n",
    "        #plt.figure(figsize=(3,3))\n",
    "        #plt.imshow(a1,cmap='hot')\n",
    "        #plt.colorbar()\n",
    "    com_flu = np.array(com_flu)\n",
    "    com_AIRMASS = np.array(com_AIRMASS)\n",
    "    com_EXPTIME = np.array(com_EXPTIME)\n",
    "    star_flu = np.array(star_flu)\n",
    "    star_AIRMASS = np.array(star_AIRMASS)\n",
    "    star_EXPTIME = np.array(star_EXPTIME)\n",
    "    com_flu = com_flu/com_EXPTIME\n",
    "    star_flu = star_flu/star_EXPTIME\n",
    "    com_flux = np.mean(com_flu)\n",
    "    com_AIRMASS_num = np.mean(com_AIRMASS)\n",
    "    star_AIRMASS_num = np.mean(star_AIRMASS)\n",
    "    mag = -(AIR_EXTINCTION)*(star_AIRMASS_num-com_AIRMASS_num) + mag_com - 2.5*np.log10(star_flu/float(com_flux))\n",
    "    print mag\n",
    "    return mag"
   ]
  },
  {
   "cell_type": "code",
   "execution_count": 16,
   "metadata": {
    "scrolled": true
   },
   "outputs": [
    {
     "name": "stderr",
     "output_type": "stream",
     "text": [
      "WARNING: VerifyWarning: Invalid 'BLANK' keyword in header.  The 'BLANK' keyword is only applicable to integer data, and will be ignored in this HDU. [astropy.io.fits.hdu.image]\n",
      "WARNING: FITSFixedWarning: RADECSYS= 'FK5 ' / Reference system for celestial coordinates \n",
      "the RADECSYS keyword is deprecated, use RADESYSa. [astropy.wcs.wcs]\n",
      "No handlers could be found for logger \"sewpy.sewpy\"\n"
     ]
    },
    {
     "name": "stdout",
     "output_type": "stream",
     "text": [
      "Frame nr.  0 Frame nr.  1 Frame nr.  2 [ 14.46369487  14.49579454  14.57254208]\n"
     ]
    },
    {
     "ename": "KeyboardInterrupt",
     "evalue": "",
     "output_type": "error",
     "traceback": [
      "\u001b[0;31m---------------------------------------------------------------------------\u001b[0m",
      "\u001b[0;31mKeyboardInterrupt\u001b[0m                         Traceback (most recent call last)",
      "\u001b[0;32m<ipython-input-16-3d123cff1566>\u001b[0m in \u001b[0;36m<module>\u001b[0;34m()\u001b[0m\n\u001b[1;32m      1\u001b[0m \u001b[0msta1_1\u001b[0m \u001b[0;34m=\u001b[0m \u001b[0mfindmag\u001b[0m\u001b[0;34m(\u001b[0m\u001b[0mNGC3783_g\u001b[0m\u001b[0;34m,\u001b[0m\u001b[0mG_g\u001b[0m\u001b[0;34m,\u001b[0m\u001b[0msta1_RA_WORLD\u001b[0m\u001b[0;34m,\u001b[0m\u001b[0msta1_DEC_WORLD\u001b[0m\u001b[0;34m,\u001b[0m\u001b[0mG_RA\u001b[0m\u001b[0;34m,\u001b[0m\u001b[0mG_DEC\u001b[0m\u001b[0;34m,\u001b[0m\u001b[0mG_mag_g\u001b[0m\u001b[0;34m,\u001b[0m\u001b[0mk_g\u001b[0m\u001b[0;34m)\u001b[0m\u001b[0;34m\u001b[0m\u001b[0m\n\u001b[0;32m----> 2\u001b[0;31m \u001b[0msta2_1\u001b[0m \u001b[0;34m=\u001b[0m \u001b[0mfindmag\u001b[0m\u001b[0;34m(\u001b[0m\u001b[0mNGC3783_g\u001b[0m\u001b[0;34m,\u001b[0m\u001b[0mG_g\u001b[0m\u001b[0;34m,\u001b[0m\u001b[0msta2_RA_WORLD\u001b[0m\u001b[0;34m,\u001b[0m\u001b[0msta2_DEC_WORLD\u001b[0m\u001b[0;34m,\u001b[0m\u001b[0mG_RA\u001b[0m\u001b[0;34m,\u001b[0m\u001b[0mG_DEC\u001b[0m\u001b[0;34m,\u001b[0m\u001b[0mG_mag_g\u001b[0m\u001b[0;34m,\u001b[0m\u001b[0mk_g\u001b[0m\u001b[0;34m)\u001b[0m\u001b[0;34m\u001b[0m\u001b[0m\n\u001b[0m\u001b[1;32m      3\u001b[0m \u001b[0;34m\u001b[0m\u001b[0m\n\u001b[1;32m      4\u001b[0m \u001b[0msta1_2\u001b[0m \u001b[0;34m=\u001b[0m \u001b[0mfindmag\u001b[0m\u001b[0;34m(\u001b[0m\u001b[0mNGC3783_g\u001b[0m\u001b[0;34m,\u001b[0m\u001b[0mT_g\u001b[0m\u001b[0;34m,\u001b[0m\u001b[0msta1_RA_WORLD\u001b[0m\u001b[0;34m,\u001b[0m\u001b[0msta1_DEC_WORLD\u001b[0m\u001b[0;34m,\u001b[0m\u001b[0mT_RA\u001b[0m\u001b[0;34m,\u001b[0m\u001b[0mT_DEC\u001b[0m\u001b[0;34m,\u001b[0m\u001b[0mT_mag_g\u001b[0m\u001b[0;34m,\u001b[0m\u001b[0mk_g\u001b[0m\u001b[0;34m)\u001b[0m\u001b[0;34m\u001b[0m\u001b[0m\n\u001b[1;32m      5\u001b[0m \u001b[0msta2_2\u001b[0m \u001b[0;34m=\u001b[0m \u001b[0mfindmag\u001b[0m\u001b[0;34m(\u001b[0m\u001b[0mNGC3783_g\u001b[0m\u001b[0;34m,\u001b[0m\u001b[0mT_g\u001b[0m\u001b[0;34m,\u001b[0m\u001b[0msta2_RA_WORLD\u001b[0m\u001b[0;34m,\u001b[0m\u001b[0msta2_DEC_WORLD\u001b[0m\u001b[0;34m,\u001b[0m\u001b[0mT_RA\u001b[0m\u001b[0;34m,\u001b[0m\u001b[0mT_DEC\u001b[0m\u001b[0;34m,\u001b[0m\u001b[0mT_mag_g\u001b[0m\u001b[0;34m,\u001b[0m\u001b[0mk_g\u001b[0m\u001b[0;34m)\u001b[0m\u001b[0;34m\u001b[0m\u001b[0m\n",
      "\u001b[0;32m<ipython-input-15-a9cd94189f0c>\u001b[0m in \u001b[0;36mfindmag\u001b[0;34m(start, compare1, RA_star, DEC_star, RA_com, DEC_com, mag_com, AIR_EXTINCTION)\u001b[0m\n\u001b[1;32m     11\u001b[0m         \u001b[0;31m#print 'Frame nr. ', i\u001b[0m\u001b[0;34m\u001b[0m\u001b[0;34m\u001b[0m\u001b[0m\n\u001b[1;32m     12\u001b[0m         \u001b[0mheader\u001b[0m \u001b[0;34m=\u001b[0m \u001b[0mpyfits\u001b[0m\u001b[0;34m.\u001b[0m\u001b[0mgetheader\u001b[0m\u001b[0;34m(\u001b[0m\u001b[0mcompare1\u001b[0m\u001b[0;34m[\u001b[0m\u001b[0mi\u001b[0m\u001b[0;34m]\u001b[0m\u001b[0;34m)\u001b[0m\u001b[0;34m\u001b[0m\u001b[0m\n\u001b[0;32m---> 13\u001b[0;31m         \u001b[0ma1\u001b[0m \u001b[0;34m=\u001b[0m \u001b[0mflux\u001b[0m\u001b[0;34m(\u001b[0m\u001b[0mcompare1\u001b[0m\u001b[0;34m[\u001b[0m\u001b[0mi\u001b[0m\u001b[0;34m]\u001b[0m\u001b[0;34m,\u001b[0m\u001b[0;36m2\u001b[0m\u001b[0;34m*\u001b[0m\u001b[0maperture1\u001b[0m\u001b[0;34m,\u001b[0m\u001b[0mRA_com\u001b[0m\u001b[0;34m,\u001b[0m\u001b[0mDEC_com\u001b[0m\u001b[0;34m)\u001b[0m\u001b[0;34m/\u001b[0m\u001b[0mheader\u001b[0m\u001b[0;34m[\u001b[0m\u001b[0;34m'EXPTIME'\u001b[0m\u001b[0;34m]\u001b[0m\u001b[0;34m\u001b[0m\u001b[0m\n\u001b[0m\u001b[1;32m     14\u001b[0m         \u001b[0;32mif\u001b[0m \u001b[0ma1\u001b[0m \u001b[0;34m>\u001b[0m \u001b[0;36m0\u001b[0m\u001b[0;34m:\u001b[0m\u001b[0;34m\u001b[0m\u001b[0m\n\u001b[1;32m     15\u001b[0m             \u001b[0;31m#print a1\u001b[0m\u001b[0;34m\u001b[0m\u001b[0;34m\u001b[0m\u001b[0m\n",
      "\u001b[0;32m<ipython-input-14-8e07d7e4526b>\u001b[0m in \u001b[0;36mflux\u001b[0;34m(quas, aperture, main_RA_WORLD, main_DEC_WORLD)\u001b[0m\n\u001b[1;32m      5\u001b[0m     \u001b[0moutput\u001b[0m \u001b[0;34m=\u001b[0m \u001b[0mfloat\u001b[0m\u001b[0;34m(\u001b[0m\u001b[0;34m'nan'\u001b[0m\u001b[0;34m)\u001b[0m\u001b[0;34m\u001b[0m\u001b[0m\n\u001b[1;32m      6\u001b[0m     \u001b[0;32mif\u001b[0m \u001b[0;36m15\u001b[0m \u001b[0;34m<\u001b[0m \u001b[0mRAmain\u001b[0m \u001b[0;34m<\u001b[0m \u001b[0mheader\u001b[0m\u001b[0;34m[\u001b[0m\u001b[0;34m'NAXIS1'\u001b[0m\u001b[0;34m]\u001b[0m \u001b[0;34m-\u001b[0m \u001b[0;36m15\u001b[0m \u001b[0;32mand\u001b[0m \u001b[0;36m15\u001b[0m \u001b[0;34m<\u001b[0m \u001b[0mDECmain\u001b[0m \u001b[0;34m<\u001b[0m \u001b[0mheader\u001b[0m\u001b[0;34m[\u001b[0m\u001b[0;34m'NAXIS2'\u001b[0m\u001b[0;34m]\u001b[0m \u001b[0;34m-\u001b[0m \u001b[0;36m15\u001b[0m\u001b[0;34m:\u001b[0m\u001b[0;34m\u001b[0m\u001b[0m\n\u001b[0;32m----> 7\u001b[0;31m         \u001b[0mout\u001b[0m \u001b[0;34m=\u001b[0m \u001b[0mSXtable\u001b[0m\u001b[0;34m(\u001b[0m\u001b[0mquas\u001b[0m\u001b[0;34m,\u001b[0m\u001b[0maperture\u001b[0m\u001b[0;34m)\u001b[0m\u001b[0;34m\u001b[0m\u001b[0m\n\u001b[0m\u001b[1;32m      8\u001b[0m         \u001b[0;31m#print out['table']['XMODEL_IMAGE']\u001b[0m\u001b[0;34m\u001b[0m\u001b[0;34m\u001b[0m\u001b[0m\n\u001b[1;32m      9\u001b[0m         \u001b[0;31m#print RAmain\u001b[0m\u001b[0;34m\u001b[0m\u001b[0;34m\u001b[0m\u001b[0m\n",
      "\u001b[0;32m<ipython-input-13-69511f6c4449>\u001b[0m in \u001b[0;36mSXtable\u001b[0;34m(quas, aperture)\u001b[0m\n\u001b[1;32m      9\u001b[0m                             'PIXEL_SCALE':header['PIXSCALE']}\n\u001b[1;32m     10\u001b[0m                     , sexpath='/usr/bin/sextractor')\n\u001b[0;32m---> 11\u001b[0;31m     \u001b[0mout\u001b[0m \u001b[0;34m=\u001b[0m \u001b[0msew\u001b[0m\u001b[0;34m(\u001b[0m\u001b[0mquas\u001b[0m\u001b[0;34m)\u001b[0m\u001b[0;34m\u001b[0m\u001b[0m\n\u001b[0m\u001b[1;32m     12\u001b[0m     \u001b[0;32mreturn\u001b[0m \u001b[0mout\u001b[0m\u001b[0;34m\u001b[0m\u001b[0m\n",
      "\u001b[0;32m/home/lynge/.local/lib/python2.7/site-packages/sewpy/sewpy.pyc\u001b[0m in \u001b[0;36m__call__\u001b[0;34m(self, imgfilepath, imgname, assoc_cat, assoc_xname, assoc_yname, returncat, prefix, writelog)\u001b[0m\n\u001b[1;32m    862\u001b[0m                 \u001b[0mlogger\u001b[0m\u001b[0;34m.\u001b[0m\u001b[0mdebug\u001b[0m\u001b[0;34m(\u001b[0m\u001b[0;34m\"Running with command %s...\"\u001b[0m \u001b[0;34m%\u001b[0m \u001b[0;34m(\u001b[0m\u001b[0mpopencmd\u001b[0m\u001b[0;34m)\u001b[0m\u001b[0;34m)\u001b[0m\u001b[0;34m\u001b[0m\u001b[0m\n\u001b[1;32m    863\u001b[0m                 \u001b[0mp\u001b[0m \u001b[0;34m=\u001b[0m \u001b[0msubprocess\u001b[0m\u001b[0;34m.\u001b[0m\u001b[0mPopen\u001b[0m\u001b[0;34m(\u001b[0m\u001b[0mpopencmd\u001b[0m\u001b[0;34m,\u001b[0m \u001b[0mstdout\u001b[0m\u001b[0;34m=\u001b[0m\u001b[0msubprocess\u001b[0m\u001b[0;34m.\u001b[0m\u001b[0mPIPE\u001b[0m\u001b[0;34m,\u001b[0m \u001b[0mstderr\u001b[0m\u001b[0;34m=\u001b[0m\u001b[0msubprocess\u001b[0m\u001b[0;34m.\u001b[0m\u001b[0mPIPE\u001b[0m\u001b[0;34m)\u001b[0m\u001b[0;34m\u001b[0m\u001b[0m\n\u001b[0;32m--> 864\u001b[0;31m                 \u001b[0mout\u001b[0m\u001b[0;34m,\u001b[0m \u001b[0merr\u001b[0m \u001b[0;34m=\u001b[0m \u001b[0mp\u001b[0m\u001b[0;34m.\u001b[0m\u001b[0mcommunicate\u001b[0m\u001b[0;34m(\u001b[0m\u001b[0;34m)\u001b[0m\u001b[0;34m\u001b[0m\u001b[0m\n\u001b[0m\u001b[1;32m    865\u001b[0m \u001b[0;34m\u001b[0m\u001b[0m\n\u001b[1;32m    866\u001b[0m                 \u001b[0;32mif\u001b[0m \u001b[0mwritelog\u001b[0m\u001b[0;34m:\u001b[0m\u001b[0;34m\u001b[0m\u001b[0m\n",
      "\u001b[0;32m/home/lynge/anaconda2/lib/python2.7/subprocess.pyc\u001b[0m in \u001b[0;36mcommunicate\u001b[0;34m(self, input)\u001b[0m\n\u001b[1;32m    477\u001b[0m             \u001b[0;32mreturn\u001b[0m \u001b[0;34m(\u001b[0m\u001b[0mstdout\u001b[0m\u001b[0;34m,\u001b[0m \u001b[0mstderr\u001b[0m\u001b[0;34m)\u001b[0m\u001b[0;34m\u001b[0m\u001b[0m\n\u001b[1;32m    478\u001b[0m \u001b[0;34m\u001b[0m\u001b[0m\n\u001b[0;32m--> 479\u001b[0;31m         \u001b[0;32mreturn\u001b[0m \u001b[0mself\u001b[0m\u001b[0;34m.\u001b[0m\u001b[0m_communicate\u001b[0m\u001b[0;34m(\u001b[0m\u001b[0minput\u001b[0m\u001b[0;34m)\u001b[0m\u001b[0;34m\u001b[0m\u001b[0m\n\u001b[0m\u001b[1;32m    480\u001b[0m \u001b[0;34m\u001b[0m\u001b[0m\n\u001b[1;32m    481\u001b[0m \u001b[0;34m\u001b[0m\u001b[0m\n",
      "\u001b[0;32m/home/lynge/anaconda2/lib/python2.7/subprocess.pyc\u001b[0m in \u001b[0;36m_communicate\u001b[0;34m(self, input)\u001b[0m\n\u001b[1;32m   1096\u001b[0m \u001b[0;34m\u001b[0m\u001b[0m\n\u001b[1;32m   1097\u001b[0m             \u001b[0;32mif\u001b[0m \u001b[0m_has_poll\u001b[0m\u001b[0;34m:\u001b[0m\u001b[0;34m\u001b[0m\u001b[0m\n\u001b[0;32m-> 1098\u001b[0;31m                 \u001b[0mstdout\u001b[0m\u001b[0;34m,\u001b[0m \u001b[0mstderr\u001b[0m \u001b[0;34m=\u001b[0m \u001b[0mself\u001b[0m\u001b[0;34m.\u001b[0m\u001b[0m_communicate_with_poll\u001b[0m\u001b[0;34m(\u001b[0m\u001b[0minput\u001b[0m\u001b[0;34m)\u001b[0m\u001b[0;34m\u001b[0m\u001b[0m\n\u001b[0m\u001b[1;32m   1099\u001b[0m             \u001b[0;32melse\u001b[0m\u001b[0;34m:\u001b[0m\u001b[0;34m\u001b[0m\u001b[0m\n\u001b[1;32m   1100\u001b[0m                 \u001b[0mstdout\u001b[0m\u001b[0;34m,\u001b[0m \u001b[0mstderr\u001b[0m \u001b[0;34m=\u001b[0m \u001b[0mself\u001b[0m\u001b[0;34m.\u001b[0m\u001b[0m_communicate_with_select\u001b[0m\u001b[0;34m(\u001b[0m\u001b[0minput\u001b[0m\u001b[0;34m)\u001b[0m\u001b[0;34m\u001b[0m\u001b[0m\n",
      "\u001b[0;32m/home/lynge/anaconda2/lib/python2.7/subprocess.pyc\u001b[0m in \u001b[0;36m_communicate_with_poll\u001b[0;34m(self, input)\u001b[0m\n\u001b[1;32m   1150\u001b[0m             \u001b[0;32mwhile\u001b[0m \u001b[0mfd2file\u001b[0m\u001b[0;34m:\u001b[0m\u001b[0;34m\u001b[0m\u001b[0m\n\u001b[1;32m   1151\u001b[0m                 \u001b[0;32mtry\u001b[0m\u001b[0;34m:\u001b[0m\u001b[0;34m\u001b[0m\u001b[0m\n\u001b[0;32m-> 1152\u001b[0;31m                     \u001b[0mready\u001b[0m \u001b[0;34m=\u001b[0m \u001b[0mpoller\u001b[0m\u001b[0;34m.\u001b[0m\u001b[0mpoll\u001b[0m\u001b[0;34m(\u001b[0m\u001b[0;34m)\u001b[0m\u001b[0;34m\u001b[0m\u001b[0m\n\u001b[0m\u001b[1;32m   1153\u001b[0m                 \u001b[0;32mexcept\u001b[0m \u001b[0mselect\u001b[0m\u001b[0;34m.\u001b[0m\u001b[0merror\u001b[0m\u001b[0;34m,\u001b[0m \u001b[0me\u001b[0m\u001b[0;34m:\u001b[0m\u001b[0;34m\u001b[0m\u001b[0m\n\u001b[1;32m   1154\u001b[0m                     \u001b[0;32mif\u001b[0m \u001b[0me\u001b[0m\u001b[0;34m.\u001b[0m\u001b[0margs\u001b[0m\u001b[0;34m[\u001b[0m\u001b[0;36m0\u001b[0m\u001b[0;34m]\u001b[0m \u001b[0;34m==\u001b[0m \u001b[0merrno\u001b[0m\u001b[0;34m.\u001b[0m\u001b[0mEINTR\u001b[0m\u001b[0;34m:\u001b[0m\u001b[0;34m\u001b[0m\u001b[0m\n",
      "\u001b[0;31mKeyboardInterrupt\u001b[0m: "
     ]
    }
   ],
   "source": [
    "sta1_1 = findmag(NGC3783_g,G_g,sta1_RA_WORLD,sta1_DEC_WORLD,G_RA,G_DEC,G_mag_g,k_g)\n",
    "sta2_1 = findmag(NGC3783_g,G_g,sta2_RA_WORLD,sta2_DEC_WORLD,G_RA,G_DEC,G_mag_g,k_g)\n",
    "\n",
    "sta1_2 = findmag(NGC3783_g,T_g,sta1_RA_WORLD,sta1_DEC_WORLD,T_RA,T_DEC,T_mag_g,k_g)\n",
    "sta2_2 = findmag(NGC3783_g,T_g,sta2_RA_WORLD,sta2_DEC_WORLD,T_RA,T_DEC,T_mag_g,k_g)\n",
    "\n"
   ]
  },
  {
   "cell_type": "code",
   "execution_count": null,
   "metadata": {
    "scrolled": true
   },
   "outputs": [],
   "source": [
    "print 'g-filter'\n",
    "print sta1_1\n",
    "print sta1_2\n",
    "print np.mean((sta1_1,sta1_2)), np.std((sta1_1,sta1_2))\n",
    "\n",
    "print sta2_1\n",
    "print sta2_2\n",
    "print np.mean((sta2_1,sta2_2)), np.std((sta2_1,sta2_2))\n",
    "#print np.mean(Tyc_22_1), np.std(Tyc_22_1)\n"
   ]
  },
  {
   "cell_type": "code",
   "execution_count": null,
   "metadata": {
    "scrolled": true
   },
   "outputs": [],
   "source": [
    "sta1_1 = findmag(NGC3783_r,G_r,sta1_RA_WORLD,sta1_DEC_WORLD,G_RA,G_DEC,G_mag_r,k_r)\n",
    "sta2_1 = findmag(NGC3783_r,G_r,sta2_RA_WORLD,sta2_DEC_WORLD,G_RA,G_DEC,G_mag_r,k_r)\n",
    "\n",
    "sta1_2 = findmag(NGC3783_r,T_r,sta1_RA_WORLD,sta1_DEC_WORLD,T_RA,T_DEC,T_mag_r,k_r)\n",
    "sta2_2 = findmag(NGC3783_r,T_r,sta2_RA_WORLD,sta2_DEC_WORLD,T_RA,T_DEC,T_mag_r,k_r)\n",
    "\n",
    "\n"
   ]
  },
  {
   "cell_type": "code",
   "execution_count": null,
   "metadata": {},
   "outputs": [],
   "source": [
    "print 'r-filter'\n",
    "print sta1_1\n",
    "print sta1_2\n",
    "print np.mean((sta1_1,sta1_2)), np.std((sta1_1,sta1_2))\n",
    "\n",
    "print sta2_1\n",
    "print sta2_2\n",
    "print np.mean((sta2_1,sta2_2)), np.std((sta2_1,sta2_2))\n",
    "#print np.mean(Tyc_22_1), np.std(Tyc_22_1)\n"
   ]
  },
  {
   "cell_type": "code",
   "execution_count": null,
   "metadata": {
    "scrolled": true
   },
   "outputs": [],
   "source": [
    "sta1_1 = findmag(NGC3783_i,G_i,sta1_RA_WORLD,sta1_DEC_WORLD,G_RA,G_DEC,G_mag_i,k_i)\n",
    "sta2_1 = findmag(NGC3783_i,G_i,sta2_RA_WORLD,sta2_DEC_WORLD,G_RA,G_DEC,G_mag_i,k_i)\n",
    "\n",
    "sta1_2 = findmag(NGC3783_i,T_i,sta1_RA_WORLD,sta1_DEC_WORLD,T_RA,T_DEC,T_mag_i,k_i)\n",
    "sta2_2 = findmag(NGC3783_i,T_i,sta2_RA_WORLD,sta2_DEC_WORLD,T_RA,T_DEC,T_mag_i,k_i)\n"
   ]
  },
  {
   "cell_type": "code",
   "execution_count": null,
   "metadata": {},
   "outputs": [],
   "source": [
    "print 'i-filter'\n",
    "print sta1_1\n",
    "print sta1_2\n",
    "print np.mean((sta1_1,sta1_2)), np.std((sta1_1,sta1_2))\n",
    "\n",
    "print sta2_1\n",
    "print sta2_2\n",
    "print np.mean((sta2_1,sta2_2)), np.std((sta2_1,sta2_2))\n",
    "#print np.mean(Tyc_22_1), np.std(Tyc_22_1)\n"
   ]
  },
  {
   "cell_type": "code",
   "execution_count": 17,
   "metadata": {
    "scrolled": true
   },
   "outputs": [
    {
     "name": "stdout",
     "output_type": "stream",
     "text": [
      "Frame nr.  0 Frame nr.  1 Frame nr.  2 [ 13.1745271   13.22692305  13.33053927]\n",
      "Frame nr.  0 Frame nr.  1 Frame nr.  2 [ 15.01039342  15.1673174   15.39447981]\n",
      "Frame nr.  0 Frame nr.  1 Frame nr.  2 [ 13.2009855   13.25338145  13.35699767]\n",
      "Frame nr.  0 Frame nr.  1 Frame nr.  2 [ 15.03685182  15.1937758   15.42093821]\n"
     ]
    }
   ],
   "source": [
    "sta1_1 = findmag(NGC3783_z,G_z,sta1_RA_WORLD,sta1_DEC_WORLD,G_RA,G_DEC,G_mag_z,k_z)\n",
    "sta2_1 = findmag(NGC3783_z,G_z,sta2_RA_WORLD,sta2_DEC_WORLD,G_RA,G_DEC,G_mag_z,k_z)\n",
    "\n",
    "sta1_2 = findmag(NGC3783_z,T_z,sta1_RA_WORLD,sta1_DEC_WORLD,T_RA,T_DEC,T_mag_z,k_z)\n",
    "sta2_2 = findmag(NGC3783_z,T_z,sta2_RA_WORLD,sta2_DEC_WORLD,T_RA,T_DEC,T_mag_z,k_z)\n"
   ]
  },
  {
   "cell_type": "code",
   "execution_count": 18,
   "metadata": {},
   "outputs": [
    {
     "name": "stdout",
     "output_type": "stream",
     "text": [
      "z-filter\n",
      "[ 13.1745271   13.22692305  13.33053927]\n",
      "[ 13.2009855   13.25338145  13.35699767]\n",
      "13.2572256726 0.0661618905977\n",
      "[ 15.01039342  15.1673174   15.39447981]\n",
      "[ 15.03685182  15.1937758   15.42093821]\n",
      "15.2039594059 0.158228160477\n"
     ]
    }
   ],
   "source": [
    "print 'z-filter'\n",
    "print sta1_1\n",
    "print sta1_2\n",
    "print np.mean((sta1_1,sta1_2)), np.std((sta1_1,sta1_2))\n",
    "\n",
    "print sta2_1\n",
    "print sta2_2\n",
    "print np.mean((sta2_1,sta2_2)), np.std((sta2_1,sta2_2))\n",
    "#print np.mean(Tyc_22_1), np.std(Tyc_22_1)\n"
   ]
  },
  {
   "cell_type": "code",
   "execution_count": null,
   "metadata": {
    "collapsed": true
   },
   "outputs": [],
   "source": []
  }
 ],
 "metadata": {
  "kernelspec": {
   "display_name": "Python 2",
   "language": "python",
   "name": "python2"
  },
  "language_info": {
   "codemirror_mode": {
    "name": "ipython",
    "version": 2
   },
   "file_extension": ".py",
   "mimetype": "text/x-python",
   "name": "python",
   "nbconvert_exporter": "python",
   "pygments_lexer": "ipython2",
   "version": "2.7.13"
  }
 },
 "nbformat": 4,
 "nbformat_minor": 2
}
