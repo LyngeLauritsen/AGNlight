{
 "cells": [
  {
   "cell_type": "code",
   "execution_count": 24,
   "metadata": {},
   "outputs": [],
   "source": [
    "import numpy as np\n",
    "import scipy as sp\n",
    "import matplotlib\n",
    "import matplotlib.pyplot as plt\n",
    "%matplotlib inline\n",
    "from matplotlib.colors import LogNorm\n",
    "import scipy.stats as stats\n",
    "from matplotlib import gridspec\n",
    "import aplpy as apl #The Astronomy Plotting Library for python\n",
    "import astropy\n",
    "from astropy.stats import sigma_clip\n",
    "from astropy.modeling import functional_models, models, fitting\n",
    "import astropy.units as U\n",
    "from astropy.coordinates import ICRS, Galactic, FK4, FK5, Angle, Latitude, Longitude\n",
    "import astropy.constants as C\n",
    "from astropy import wcs\n",
    "import astropy.io.fits as fits\n",
    "from astropy.io import ascii\n",
    "import astropy.coordinates as coord\n",
    "from astropy.coordinates import SkyCoord\n",
    "from astropy.stats import signal_to_noise_oir_ccd as SNRas\n",
    "#import spectral_cube as SC\n",
    "#from spectral_cube import SpectralCube as sc\n",
    "from astropy.wcs import WCS\n",
    "matplotlib.use('Agg')\n",
    "import matplotlib.cm as cm\n",
    "#import astrometry as ast\n",
    "import pyfits\n",
    "import requests\n",
    "import json\n",
    "import os\n",
    "from sklearn import datasets, linear_model\n",
    "from scipy.optimize import curve_fit\n",
    "import numpy.ma as ma\n",
    "from astropy.table import Table, Column\n",
    "import pyextract\n",
    "import sewpy\n",
    "import pandas as pd\n",
    "#import alipy"
   ]
  },
  {
   "cell_type": "code",
   "execution_count": 25,
   "metadata": {
    "collapsed": true
   },
   "outputs": [],
   "source": [
    "quasJ = os.listdir('/../home/lynge/MasterP/NGC3783/NGC3783H/')\n",
    "quasJ = [os.path.join('/../home/lynge/MasterP/NGC3783/NGC3783H',f) \\\n",
    "        for f in os.listdir('/../home/lynge/MasterP/NGC3783/NGC3783H/')]\n",
    "\n",
    "qua1_RA_WORLD = 174.75717083\n",
    "qua1_DEC_WORLD = -37.73850000\n",
    "sta1_RA_WORLD = 174.77413750 - 9*10**(-5) #HD 101274\n",
    "sta1_DEC_WORLD = -37.75375000 + 6.4*10**(-5)\n",
    "sta2_RA_WORLD = 174.82283333 - 0.15/3600. #Tycho-2 7740-22-1\n",
    "sta2_DEC_WORLD = -37.76239167\n",
    "sta3_RA_WORLD = 174.79553333 #174.79553250 #Tycho-2 7740-529-1\n",
    "sta3_DEC_WORLD = -37.83470278 #-37.83470333\n",
    "gal_RA_WORLD = 174.69151250 + 0.6/3600.# Galaxy\n",
    "gal_DEC_WORLD = -37.71181944 + 0.4/3600\n",
    "\n",
    "sky_RA_WORLD = 174.75445032458904 #Random patch of sky\n",
    "sky_DEC_WORLD = -37.77465736280882\n",
    "\n",
    "MAG_HD101274_B = 9.23\n",
    "MAG_HD101274_V = 9.12\n",
    "MAG_HD101274_G = 9.192\n",
    "MAG_HD101274_J = 8.997\n",
    "MAG_HD101274_H = 8.982\n",
    "MAG_HD101274_K = 8.909\n",
    "\n",
    "MAG_TYCHO_2_7740_22_1_B = 12.58\n",
    "MAG_TYCHO_2_7740_22_1_V = 12.12\n",
    "MAG_TYCHO_2_7740_22_1_G = 11.78\n",
    "MAG_TYCHO_2_7740_22_1_J = 10.919\n",
    "MAG_TYCHO_2_7740_22_1_H = 10.726\n",
    "MAG_TYCHO_2_7740_22_1_K = 10.611\n",
    "\n",
    "MAG_TYCHO_2_7740_529_1_B = 11.61\n",
    "MAG_TYCHO_2_7740_529_1_V = 10.94\n",
    "MAG_TYCHO_2_7740_529_1_G = 10.867\n",
    "MAG_TYCHO_2_7740_529_1_J = 9.902\n",
    "MAG_TYCHO_2_7740_529_1_H = 9.625\n",
    "MAG_TYCHO_2_7740_529_1_K = 9.580\n",
    "\n",
    "MAG_VEGA_B = 0.03\n",
    "MAG_VEGA_V = 0.03\n",
    "MAG_VEGA_G = 0.03\n",
    "MAG_VEGA_J = -0.18\n",
    "MAG_VEGA_H = -0.03\n",
    "MAG_VEGA_K = 0.13\n",
    "\n",
    "FLUX_LAMBDA_VEGA_B = 632*10**(-11) #erg/cm**2/s/A\n",
    "FLUX_LAMBDA_VEGA_V = 363.1*10**(-11)\n",
    "FLUX_LAMBDA_VEGA_G = float('nan')\n",
    "FLUX_LAMBDA_VEGA_J = 31.47*10**(-11)\n",
    "FLUX_LAMBDA_VEGA_H = 11.38*10**(-11)\n",
    "FLUX_LAMBDA_VEGA_K = 3.961*10**(-11)\n",
    "\n",
    "FLUX_V_VEGA_B = 4.063*10**(-20) #erg/cm**2/s/Hz\n",
    "FLUX_V_VEGA_V = 3.636*10**(-20)\n",
    "FLUX_V_VEGA_G = float('nan')\n",
    "FLUX_V_VEGA_J = 1.589*10**(-20)\n",
    "FLUX_V_VEGA_H = 1.021*10**(-20)\n",
    "FLUX_V_VEGA_K = 0.64*10**(-20)"
   ]
  },
  {
   "cell_type": "code",
   "execution_count": 26,
   "metadata": {
    "collapsed": true
   },
   "outputs": [],
   "source": [
    "def dist(mid,end):\n",
    "    return np.sqrt((mid[0] - end[0])**2 + (mid[1] - end[1])**2)"
   ]
  },
  {
   "cell_type": "code",
   "execution_count": 27,
   "metadata": {
    "collapsed": true
   },
   "outputs": [],
   "source": [
    "def flux_cal(A_mag,B_mag,B_flux):\n",
    "    '''Flux of A found through magnitude and flux of B'''\n",
    "    return B_flux*10**((B_mag-A_mag)/2.5)"
   ]
  },
  {
   "cell_type": "code",
   "execution_count": 28,
   "metadata": {
    "collapsed": true
   },
   "outputs": [],
   "source": [
    "def Basic(quasar,header):\n",
    "    '''Provides a basic list of neccesities from the fits header file for use in the later \\\n",
    "    flux determination, it does not serve an individual purpose beyound that'''\n",
    "    AGNdata = quasar #np.rot90(np.rot90(np.fliplr(quasar)))\n",
    "    #header = data[0].header\n",
    "    #print header\n",
    "    RAstd = header['CRVAL1']\n",
    "    DECstd = header['CRVAL2']\n",
    "    #print RAstd, DECstd\n",
    "    pixspa = header['PIXSCALE']/(3600.)\n",
    "    #print pixspa\n",
    "    RAstdpix = header['CRPIX1']\n",
    "    DECstdpix = header['CRPIX2']\n",
    "    exptime = 10 # header['EXPTIME']\n",
    "    return header,AGNdata,RAstd,DECstd,pixspa,RAstdpix,DECstdpix,exptime"
   ]
  },
  {
   "cell_type": "code",
   "execution_count": 29,
   "metadata": {
    "collapsed": true
   },
   "outputs": [],
   "source": [
    "def curve(quasar,header,w,center,apparature):\n",
    "    '''Determines the FLUX of the stellar object given the the numpy array of the image, \\\n",
    "    the header of the fits file, the astropy coordinate representation, \\\n",
    "    the object position and the apparature of interest'''\n",
    "    header,AGNdata,RAstd,DECstd,pixspa,RAstdpix,DECstdpix,exptime = Basic(quasar,header)\n",
    "    #AGNdata = np.swapaxes(AGNdata,0,1)\n",
    "    y, x = np.ogrid[0:header['NAXIS1'],0:header['NAXIS1']]\n",
    "    #w = np.swapaxes(w,0,1)\n",
    "    #F_AGN = np.zeros((512,512,3)) #((int(2*apparature/pixspa)+1,int(2*apparature/pixspa)+1,3))\n",
    "    #print center\n",
    "    x1 = w.all_world2pix(center[0],center[1],0)\n",
    "    x1,y1 = (x1[0]),(x1[1])\n",
    "    if 15 < x1 < header['NAXIS1'] - 15 and 15 < y1 < header['NAXIS2'] - 15:\n",
    "        try:\n",
    "            mask = ((y-y1)**2 + (x-x1)**2) > (apparature/float(pixspa))**2\n",
    "            AGNdata[mask] = float(0)\n",
    "            mask = AGNdata == 0.\n",
    "            rows = np.flatnonzero((~mask).sum(axis=1))\n",
    "            cols = np.flatnonzero((~mask).sum(axis=0))\n",
    "            AGNdata = AGNdata[rows.min():rows.max()+1, cols.min():cols.max()+1]\n",
    "            #print apparature/float(pixspa)\n",
    "        except:\n",
    "            AGNdata = np.array([[float('nan'),float('nan')],[float('nan'),float('nan')]])\n",
    "    else:\n",
    "        AGNdata = np.array([[float('nan'),float('nan')],[float('nan'),float('nan')]])\n",
    "    #if np.sum(AGNdata) < 500:\n",
    "    #    AGNdata = np.array([[float('nan'),float('nan')],[float('nan'),float('nan')]])\n",
    "    return AGNdata, x1, y1\n"
   ]
  },
  {
   "cell_type": "code",
   "execution_count": 30,
   "metadata": {
    "collapsed": true
   },
   "outputs": [],
   "source": [
    "def comp1(qua,sta):\n",
    "    '''Code to determine the relation between the AGN and the Stellar flux as determined by either me \\\n",
    "    or by the SExtractor program respectively'''\n",
    "    comp = qua/sta\n",
    "    return comp"
   ]
  },
  {
   "cell_type": "code",
   "execution_count": 31,
   "metadata": {
    "collapsed": true
   },
   "outputs": [],
   "source": [
    "def SXtable(quas,aperture):\n",
    "    header = pyfits.getheader(quas)\n",
    "    phot_app = aperture*3600/header['PIXSCALE']\n",
    "    np.set_printoptions(threshold=np.inf)\n",
    "    sew = sewpy.SEW(params=['XMODEL_WORLD', 'YMODEL_WORLD', 'X2MODEL_WORLD', 'Y2MODEL_WORLD', \n",
    "                            'XMODEL_IMAGE', 'YMODEL_IMAGE', 'FLUX_RADIUS(1)', 'FLUX_APER','ELLIPTICITY'],\n",
    "                    config={\"DETECT_THRESH\":20, 'DETECT_MINAREA':5, 'DETECT_MAXAREA':100, \n",
    "                            \"PHOT_FLUXFRAC\":\"0.5\", 'PHOT_APERTURES':2*phot_app, \n",
    "                            'PIXEL_SCALE':header['PIXSCALE']}\n",
    "                    , sexpath='/usr/bin/sextractor')\n",
    "    out = sew(quas)\n",
    "    return out"
   ]
  },
  {
   "cell_type": "code",
   "execution_count": 32,
   "metadata": {
    "collapsed": true
   },
   "outputs": [],
   "source": [
    "def flux(quas,aperture,main_RA_WORLD,main_DEC_WORLD):\n",
    "    header = pyfits.getheader(quas)\n",
    "    RAmain = WCS(quas).all_world2pix(main_RA_WORLD,main_DEC_WORLD,1)[0]\n",
    "    DECmain = WCS(quas).all_world2pix(main_RA_WORLD,main_DEC_WORLD,1)[1]\n",
    "    output = float('nan')\n",
    "    if 15 < RAmain < header['NAXIS1'] - 15 and 15 < DECmain < header['NAXIS2'] - 15: \n",
    "        out = SXtable(quas,aperture)\n",
    "        RAmain = WCS(quas).all_world2pix(main_RA_WORLD,main_DEC_WORLD,0)[0]\n",
    "        DECmain = WCS(quas).all_world2pix(main_RA_WORLD,main_DEC_WORLD,0)[1]\n",
    "        #print out['table']['XMODEL_IMAGE'], out['table']['YMODEL_IMAGE']\n",
    "        #print RAmain, DECmain\n",
    "\n",
    "        for j in range(len(out['table']['XMODEL_IMAGE'])):\n",
    "            #output['time'][i] = header['MJD-OBS']\n",
    "            if RAmain - 5. < out['table']['XMODEL_IMAGE'][j] <  RAmain + 5. and \\\n",
    "            DECmain - 5. < out['table']['YMODEL_IMAGE'][j] < DECmain + 5.:\n",
    "                #print 'YES'\n",
    "                output = out['table']['FLUX_APER'][j]\n",
    "                break\n",
    "    else:\n",
    "        output = float('nan')\n",
    "        #print 'Done'\n",
    "    return output\n"
   ]
  },
  {
   "cell_type": "code",
   "execution_count": 33,
   "metadata": {
    "collapsed": true
   },
   "outputs": [],
   "source": [
    "def SNR(data1,data2,header,ap1,ap2):\n",
    "    npix1 = np.pi*ap1**2/((header['PIXSCALE']/3600.)**2)\n",
    "    npix2 = np.pi*ap2**2/((header['PIXSCALE']/3600.)**2)\n",
    "    #data2_1 = ((data2-data1)/npix2)*npix1\n",
    "    data1_2 = data1\n",
    "    data2_2 = data2\n",
    "    \n",
    "    return float(header['GAIN'])*data1_2*header['DIT']*header['NDIT']/(np.sqrt\n",
    "                                                        (float(header['GAIN'])*data1_2*header['DIT']*header['NDIT'] \n",
    "                                                         + float(header['GAIN'])*npix1*data2_2*header['DIT']\n",
    "                                                         *header['NDIT']\n",
    "                                                         +header['NDIT']*npix1*header['RON']**2))\n",
    "#SNRas(10.,data1_2,abs(data2_2),0,header['RON'],npix1,gain=header['GAIN'])"
   ]
  },
  {
   "cell_type": "markdown",
   "metadata": {},
   "source": [
    "for i in range(len(quasJ)):\n",
    "    data, header = fits.getdata(quasJ[i],header=True) #RA---TAN\n",
    "    #print header['CTYPE2']\n",
    "    header['CTYPE1'] = \"RA---TAN\"\n",
    "    header['CTYPE2'] = \"DEC--TAN\"\n",
    "    header['NDIT'] = 5\n",
    "    '''header['A_ORDER'] = \"0\"\n",
    "    header['B_ORDER'] = \"0\"\n",
    "    header['AP_ORDER'] = \"0\"\n",
    "    header['BP_ORDER'] = \"0\"\n",
    "    header['A_0_2'] = \"0\"\n",
    "    header['A_1_1'] = \"0\"\n",
    "    header['A_2_0'] = \"0\"\n",
    "    header['B_0_2'] = \"0\"\n",
    "    header['B_1_1'] = \"0\"\n",
    "    header['B_2_0'] = \"0\"\n",
    "    header['AP_0_2'] = \"0\"\n",
    "    header['AP_1_1'] = \"0\"\n",
    "    header['AP_2_0'] = \"0\"\n",
    "    header['AP_0_1'] = \"0\"\n",
    "    header['AP_1_0'] = \"0\"\n",
    "    header['BP_0_1'] = \"0\"\n",
    "    header['BP_0_2'] = \"0\"\n",
    "    header['BP_1_0'] = \"0\"\n",
    "    header['BP_1_1'] = \"0\"\n",
    "    header['BP_2_0'] = \"0\"'''\n",
    "    fits.writeto(quasJ[i],data,header,clobber=True)\n",
    "    #print fits.getheader(quasH[i])['A_ORDER']"
   ]
  },
  {
   "cell_type": "code",
   "execution_count": 34,
   "metadata": {
    "collapsed": true
   },
   "outputs": [],
   "source": [
    "def SEXAGNflux(quas,aperture1):\n",
    "    aperture2 = aperture1 + 0.003\n",
    "    date = []\n",
    "    flucompsta1 = []\n",
    "    flucompsta2 = []\n",
    "    flucompsta3 = []\n",
    "    flucompsta4 = []\n",
    "    flucompsta5 = []\n",
    "    flucompsta6 = []\n",
    "    flucompsta7 = []\n",
    "    poissonAGN = []\n",
    "    poisson529 = []\n",
    "    poisson22 = []\n",
    "    poissonHD = []\n",
    "    ABS_FLUX_LAMBDA_1 = 0\n",
    "    ABS_FLUX_LAMBDA_2 = 0\n",
    "    ABS_FLUX_LAMBDA_3 = 0\n",
    "    ABS_FLUX_V_1 = 0\n",
    "    ABS_FLUX_V_2 = 0\n",
    "    ABS_FLUX_V_3 = 0\n",
    "    SNR_comp = []\n",
    "    comp_array = np.zeros((len(quas),7))\n",
    "    SNR_array = np.zeros((len(quas),8))\n",
    "    SNR_part = np.zeros((len(quas),4))\n",
    "    gain = []\n",
    "    #-----------------------------------------------------------------------------------------------\n",
    "    for i in range(len(quas)):\n",
    "        print 'Frame nr. ', i, quas[i]\n",
    "        header = pyfits.getheader(quas[i])\n",
    "        a_AGN = flux(quas[i],2*aperture1,qua1_RA_WORLD,qua1_DEC_WORLD)/header['DIT']\n",
    "        a2 = flux(quas[i],2*aperture1,sta1_RA_WORLD,sta1_DEC_WORLD)/header['DIT']\n",
    "        a3 = flux(quas[i],2*aperture1,sta2_RA_WORLD,sta2_DEC_WORLD)/header['DIT']\n",
    "        a4 = flux(quas[i],2*aperture1,sta3_RA_WORLD,sta3_DEC_WORLD)/header['DIT']\n",
    "        a_sky = curve(pyfits.getdata(quas[i]),pyfits.getheader(quas[i]),WCS(quas[i]),\n",
    "                   (sky_RA_WORLD,sky_DEC_WORLD),aperture1)[0]/header['DIT']\n",
    "        #a_AGN_1 = flux(quas[i],2*aperture2,qua1_RA_WORLD,qua1_DEC_WORLD)/header['DIT']\n",
    "        #a2_1 = flux(quas[i],2*aperture2,sta1_RA_WORLD,sta1_DEC_WORLD)/header['DIT']\n",
    "        #a3_1 = flux(quas[i],2*aperture2,sta2_RA_WORLD,sta2_DEC_WORLD)/header['DIT']\n",
    "        #a4_1 = flux(quas[i],2*aperture2,sta3_RA_WORLD,sta3_DEC_WORLD)/header['DIT']\n",
    "        #-------------------------------------------------------------------------------------------\n",
    "        #plt.figure(figsize=(3,3))\n",
    "        #plt.imshow(a2)\n",
    "        #plt.show()\n",
    "        #-------------------------------------------------------------------------------------------\n",
    "        a_AGN_pix = np.pi*(aperture1)**2/((header['PIXSCALE']/3600.)**2)\n",
    "        a2_pix = np.pi*(aperture1)**2/((header['PIXSCALE']/3600.)**2)\n",
    "        a3_pix = np.pi*(aperture1)**2/((header['PIXSCALE']/3600.)**2)\n",
    "        a4_pix = np.pi*(aperture1)**2/((header['PIXSCALE']/3600.)**2)\n",
    "        a_sky_pix = np.count_nonzero(a_sky)\n",
    "        a_sky_2 = np.sum(a_sky)/float(np.count_nonzero(a_sky))\n",
    "        #a_AGN_pix_1 = np.pi*(2*aperture2)**2/((header['PIXSCALE']/3600.)**2)\n",
    "        #a2_pix_1 = np.pi*(aperture2)**2/((header['PIXSCALE']/3600.)**2)\n",
    "        #a3_pix_1 = np.pi*(aperture2)**2/((header['PIXSCALE']/3600.)**2)\n",
    "        #a4_pix_1 = np.pi*(aperture2)**2/((header['PIXSCALE']/3600.)**2)\n",
    "        #a_AGN_2 = (np.sum(a_AGN_1) - np.sum(a_AGN))/(float(np.count_nonzero(a_AGN_1)) - float(np.count_nonzero(a_AGN)))\n",
    "        #a2_2 = (np.sum(a2_1) - np.sum(a2))/(float(np.count_nonzero(a2_1)) - float(np.count_nonzero(a2)))\n",
    "        #a3_2 = (np.sum(a3_1) - np.sum(a3))/(float(np.count_nonzero(a3_1)) - float(np.count_nonzero(a3)))\n",
    "        #a4_2 = (np.sum(a4_1) - np.sum(a4))/(float(np.count_nonzero(a4_1)) - float(np.count_nonzero(a4)))\n",
    "        a_AGN_3 = a_AGN/a_AGN_pix #- (a_AGN_1 - a_AGN)/(a_AGN_pix_1 - a_AGN_pix) #Background subtracted flux/pixel/sec\n",
    "        a2_3 = a2/a2_pix #- (a2_1 - a2)/(a2_pix_1 - a2_pix)\n",
    "        a3_3 = a3/a3_pix #- (a3_1 - a3)/(a3_pix_1 - a3_pix)\n",
    "        a4_3 = a4/a4_pix #- (a4_1 - a4)/(a4_pix_1 - a4_pix)\n",
    "        #-------------------------------------------------------------------------------------------\n",
    "        date.append(header['MJD-OBS'])\n",
    "        gain.append(header['gain'])\n",
    "        #-------------------------------------------------------------------------------------------\n",
    "        poissonAGN.append(np.sqrt(np.sum(a_AGN)*header['EXPTIME']*header['GAIN'])) #header['EXPTIME']))\n",
    "        poissonHD.append(np.sqrt(np.sum(a2)*header['EXPTIME']*header['GAIN'])) #header['EXPTIME']))\n",
    "        poisson22.append(np.sqrt(np.sum(a3)*header['EXPTIME']*header['GAIN'])) #header['EXPTIME']))\n",
    "        poisson529.append(np.sqrt(np.sum(a4)*header['EXPTIME']*header['GAIN'])) #header['EXPTIME']))\n",
    "        #-------------------------------------------------------------------------------------------\n",
    "        #if SNR1[i] < 70:\n",
    "        #    flucompsta_AGN.append(float('nan'))\n",
    "        #    flucompsta2.append(float('nan'))\n",
    "        #    flucompsta3.append(float('nan'))\n",
    "        #    flucompsta4.append(float('nan'))\n",
    "        #    flucompsta6.append(float('nan'))\n",
    "        #    comp_array[i,0] = int(date[i])\n",
    "        #    comp_array[i,1] = float('nan')\n",
    "        #    comp_array[i,2] = float('nan')\n",
    "        #    comp_array[i,3] = float('nan')\n",
    "        #else:\n",
    "        flucompsta1.append(comp1(a_AGN_3,a2_3))\n",
    "        flucompsta2.append(comp1(a_AGN_3,a3_3))\n",
    "        flucompsta3.append(comp1(a_AGN_3,a4_3))\n",
    "        SNR1 = SNR(a_AGN,np.sum(a_sky),header,aperture1,aperture1)\n",
    "        #flucompsta4.append(comp1(a_AGN_3,a5_3))\n",
    "        #flucompsta5.append(comp1(a_AGN_3,a6_3))\n",
    "        #flucompsta6.append(comp1(a_AGN_3,a7_3))\n",
    "        comp_array[i,0] = date[i]\n",
    "        comp_array[i,1] = flucompsta1[i]\n",
    "        comp_array[i,2] = flucompsta2[i]\n",
    "        comp_array[i,3] = flucompsta3[i]\n",
    "        comp_array[i,4] = SNR1\n",
    "        #comp_array[i,5] = flucompsta5[i]\n",
    "        #comp_array[i,6] = flucompsta6[i]\n",
    "        print a_AGN\n",
    "        #SNR_array[i,0] = int(date[i])\n",
    "        #SNR_array[i,1] = SNR(a_AGN,a_sky,header,aperture1,aperture1)\n",
    "        #SNR_array[i,2] = SNR(a2,a_sky,header,aperture1,aperture1)\n",
    "        #SNR_array[i,3] = SNR(a3,a_sky,header,aperture1,aperture1)\n",
    "        #SNR_array[i,4] = SNR(a4,a_sky,header,aperture1,aperture1)\n",
    "        #SNR_array[i,5] = SNR(a5,a_sky,header,aperture1,aperture1)\n",
    "        #SNR_array[i,6] = SNR(a6,a_sky,header,aperture1,aperture1)\n",
    "        #SNR_array[i,7] = SNR(a7,a_sky,header,aperture1,aperture1)\n",
    "        SNR_part[i,0] = date[i]\n",
    "        SNR_part[i,1] = gain[i]*header['NDIT']*a_AGN_3*header['DIT']*a_AGN_pix\n",
    "        SNR_part[i,2] = gain[i]*header['NDIT']*np.sum(a_sky)*header['DIT']\n",
    "        SNR_part[i,3] = header['NDIT']*a_AGN_pix*header['RON']**2\n",
    "    #print 'YES'\n",
    "    #-----------------------------------------------------------------------------------------------\n",
    "    poissonAGN = np.array(poissonAGN)\n",
    "    poissonHD = np.array(poissonHD)\n",
    "    poisson22 = np.array(poisson22)\n",
    "    poisson529 = np.array(poisson529)\n",
    "    comp_array = comp_array[comp_array[:,0].argsort()]\n",
    "    \n",
    "    comp_array[:,1] = comp_array[:,1]*flux_cal(MAG_HD101274_H,MAG_VEGA_H,FLUX_LAMBDA_VEGA_H)\n",
    "    comp_array[:,2] = comp_array[:,2]*flux_cal(MAG_TYCHO_2_7740_22_1_H,MAG_VEGA_H,FLUX_LAMBDA_VEGA_H)\n",
    "    comp_array[:,3] = comp_array[:,3]*flux_cal(MAG_TYCHO_2_7740_529_1_H,MAG_VEGA_H,FLUX_LAMBDA_VEGA_H)\n",
    "    \n",
    "    #-----------------------------------------------------------------------------------------------\n",
    "    ABS_FLUX_LAMBDA_1 = np.array(flucompsta1)*flux_cal(MAG_HD101274_H,\\\n",
    "                                                            MAG_VEGA_H,FLUX_LAMBDA_VEGA_H)\n",
    "    ABS_FLUX_LAMBDA_2 = np.array(flucompsta2)*flux_cal(MAG_TYCHO_2_7740_22_1_H,\\\n",
    "                                                            MAG_VEGA_H,FLUX_LAMBDA_VEGA_H)\n",
    "    ABS_FLUX_LAMBDA_3 = np.array(flucompsta3)*flux_cal(MAG_TYCHO_2_7740_529_1_H,\\\n",
    "                                                            MAG_VEGA_H,FLUX_LAMBDA_VEGA_H)\n",
    "    ABS_FLUX_V_1 = np.array(flucompsta1)*flux_cal(MAG_HD101274_H,\\\n",
    "                                                            MAG_VEGA_H,FLUX_V_VEGA_H)\n",
    "    ABS_FLUX_V_2 = np.array(flucompsta2)*flux_cal(MAG_TYCHO_2_7740_22_1_H,\\\n",
    "                                                            MAG_VEGA_H,FLUX_V_VEGA_H)\n",
    "    ABS_FLUX_V_3 = np.array(flucompsta3)*flux_cal(MAG_TYCHO_2_7740_529_1_H,\\\n",
    "                                                            MAG_VEGA_H,FLUX_V_VEGA_H)\n",
    "    #-----------------------------------------------------------------------------------------------\n",
    "    return comp_array,SNR_array,ABS_FLUX_LAMBDA_1,ABS_FLUX_LAMBDA_2,ABS_FLUX_LAMBDA_3,\\\n",
    "ABS_FLUX_V_1,ABS_FLUX_V_2,ABS_FLUX_V_3,date,SNR_part"
   ]
  },
  {
   "cell_type": "code",
   "execution_count": 35,
   "metadata": {
    "collapsed": true
   },
   "outputs": [],
   "source": [
    "def AGNflux(quas,aperture1):\n",
    "    aperture2 = aperture1 + 0.001\n",
    "    date = []\n",
    "    flucompsta1 = []\n",
    "    flucompsta2 = []\n",
    "    flucompsta3 = []\n",
    "    flucompsta4 = []\n",
    "    flucompsta5 = []\n",
    "    flucompsta6 = []\n",
    "    flucompsta7 = []\n",
    "    SNR1 = []\n",
    "    SNR2 = []\n",
    "    SNR3 = []\n",
    "    SNR4 = []\n",
    "    SNR5 = []\n",
    "    poissonAGN = []\n",
    "    poisson529 = []\n",
    "    poisson22 = []\n",
    "    poissonHD = []\n",
    "    ABS_FLUX_LAMBDA_1 = 0\n",
    "    ABS_FLUX_LAMBDA_2 = 0\n",
    "    ABS_FLUX_LAMBDA_3 = 0\n",
    "    ABS_FLUX_V_1 = 0\n",
    "    ABS_FLUX_V_2 = 0\n",
    "    ABS_FLUX_V_3 = 0\n",
    "    SNR_comp = []\n",
    "    SNR_test = np.zeros((len(quas),3))\n",
    "    SNR_part = np.zeros((len(quas),5))\n",
    "    file1 = []\n",
    "    gain = []\n",
    "    for i in range(len(quas)):\n",
    "        #print 'Frame nr. ', i\n",
    "        header = pyfits.getheader(quas[i])\n",
    "        a1 = curve(pyfits.getdata(quas[i]),pyfits.getheader(quas[i]),WCS(quas[i]),\n",
    "                   (qua1_RA_WORLD,qua1_DEC_WORLD),aperture1)[0]/header['DIT'] #float(header['EXPTIME'])\n",
    "        a2 = curve(pyfits.getdata(quas[i]),pyfits.getheader(quas[i]),WCS(quas[i]),\n",
    "                   (sta1_RA_WORLD,sta1_DEC_WORLD),aperture1)[0]/header['DIT'] #float(header['EXPTIME'])\n",
    "        a3 = curve(pyfits.getdata(quas[i]),pyfits.getheader(quas[i]),WCS(quas[i]),\n",
    "                   (sta2_RA_WORLD,sta2_DEC_WORLD),aperture1)[0]/header['DIT'] #float(header['EXPTIME'])\n",
    "        a4 = curve(pyfits.getdata(quas[i]),pyfits.getheader(quas[i]),WCS(quas[i]),\n",
    "                   (sta3_RA_WORLD,sta3_DEC_WORLD),aperture1)[0]/header['DIT'] #float(header['EXPTIME'])\n",
    "        a_sky = curve(pyfits.getdata(quas[i]),pyfits.getheader(quas[i]),WCS(quas[i]),\n",
    "                   (sky_RA_WORLD,sky_DEC_WORLD),aperture1)[0]/header['DIT'] #float(header['EXPTIME'])\n",
    "        a1_1 = curve(pyfits.getdata(quas[i]),pyfits.getheader(quas[i]),WCS(quas[i]),\n",
    "                   (qua1_RA_WORLD,qua1_DEC_WORLD),aperture2)[0]/header['DIT'] #float(header['EXPTIME'])\n",
    "        a2_1 = curve(pyfits.getdata(quas[i]),pyfits.getheader(quas[i]),WCS(quas[i]),\n",
    "                   (sta1_RA_WORLD,sta1_DEC_WORLD),aperture2)[0]/header['DIT'] #float(header['EXPTIME'])\n",
    "        a3_1 = curve(pyfits.getdata(quas[i]),pyfits.getheader(quas[i]),WCS(quas[i]),\n",
    "                   (sta2_RA_WORLD,sta2_DEC_WORLD),aperture2)[0]/header['DIT'] #float(header['EXPTIME'])\n",
    "        a4_1 = curve(pyfits.getdata(quas[i]),pyfits.getheader(quas[i]),WCS(quas[i]),\n",
    "                   (sta3_RA_WORLD,sta3_DEC_WORLD),aperture2)[0]/header['DIT'] #float(header['EXPTIME'])\n",
    "        date.append(header['MJD-OBS'])\n",
    "        gain.append(header['gain'])\n",
    "        a_AGN_pix = np.count_nonzero(a1) #np.pi*(2*aperture1)**2/\n",
    "        a2_pix = np.count_nonzero(a2)\n",
    "        a3_pix = np.count_nonzero(a3)\n",
    "        a4_pix = np.count_nonzero(a4)\n",
    "        a_AGN_pix_1 = np.count_nonzero(a1_1)\n",
    "        a2_pix_1 = np.count_nonzero(a2_1)\n",
    "        a3_pix_1 = np.count_nonzero(a3_1)\n",
    "        a4_pix_1 = np.count_nonzero(a4_1)\n",
    "        a_AGN_3 = np.sum(a1)/a_AGN_pix - (np.sum(a1_1) - np.sum(a1))/(a_AGN_pix_1 - a_AGN_pix)#Background subtracted flux/pixel/sec\n",
    "        a2_3 = np.sum(a2)/a2_pix - (np.sum(a2_1) - np.sum(a2))/(a2_pix_1 - a2_pix)\n",
    "        a3_3 = np.sum(a3)/a3_pix - (np.sum(a3_1) - np.sum(a3))/(a3_pix_1 - a3_pix)\n",
    "        a4_3 = np.sum(a4)/a4_pix - (np.sum(a4_1) - np.sum(a4))/(a4_pix_1 - a4_pix)\n",
    "        flucompsta1.append(comp1(a_AGN_3,a2_3))\n",
    "        flucompsta2.append(comp1(a_AGN_3,a3_3))\n",
    "        flucompsta3.append(comp1(a_AGN_3,a4_3))\n",
    "        SNR1.append(SNR(np.sum(a1),np.sum(a_sky),header,aperture1,aperture1))\n",
    "        SNR2.append(SNR(np.sum(a2),np.sum(a_sky),header,aperture1,aperture1))\n",
    "        SNR3.append(SNR(np.sum(a3),np.sum(a_sky),header,aperture1,aperture1))\n",
    "        SNR4.append(SNR(np.sum(a4),np.sum(a_sky),header,aperture1,aperture1))\n",
    "        poissonAGN.append(np.sqrt(np.sum(a1)*header['DIT']))\n",
    "        poissonHD.append(np.sqrt(np.sum(a2)*header['DIT']))\n",
    "        poisson22.append(np.sqrt(np.sum(a3)*header['DIT']))\n",
    "        poisson529.append(np.sqrt(np.sum(a4)*header['DIT']))\n",
    "        SNR_test[i,0] = date[i]\n",
    "        SNR_test[i,1] = SNR1[i]\n",
    "        SNR_test[i,2] = gain[i]\n",
    "        SNR_part[i,0] = date[i]\n",
    "        SNR_part[i,1] = gain[i]*header['NDIT']*a_AGN_3*header['DIT']*a_AGN_pix\n",
    "        SNR_part[i,2] = gain[i]*header['NDIT']*np.sum(a_sky)*header['DIT']\n",
    "        SNR_part[i,3] = header['NDIT']*a_AGN_pix*header['RON']**2\n",
    "        SNR_part[i,4] = header['AIRMASS']\n",
    "        file1.append(quas[i])\n",
    "        #print header['EXPTIME']\n",
    "    poissonAGN = np.array(poissonAGN)\n",
    "    poissonHD = np.array(poissonHD)\n",
    "    poisson22 = np.array(poisson22)\n",
    "    poisson529 = np.array(poisson529)\n",
    "    #SNR_test = np.array((date,SNR1,gain))    \n",
    "    ABS_FLUX_LAMBDA_1 = np.array(flucompsta1)*flux_cal(MAG_HD101274_J,\\\n",
    "                                                            MAG_VEGA_J,FLUX_LAMBDA_VEGA_J)\n",
    "    ABS_FLUX_LAMBDA_2 = np.array(flucompsta2)*flux_cal(MAG_TYCHO_2_7740_22_1_J,\\\n",
    "                                                            MAG_VEGA_J,FLUX_LAMBDA_VEGA_J)\n",
    "    ABS_FLUX_LAMBDA_3 = np.array(flucompsta3)*flux_cal(MAG_TYCHO_2_7740_529_1_J,\\\n",
    "                                                            MAG_VEGA_J,FLUX_LAMBDA_VEGA_J)\n",
    "    ABS_FLUX_V_1 = np.array(flucompsta1)*flux_cal(MAG_HD101274_J,\\\n",
    "                                                            MAG_VEGA_J,FLUX_V_VEGA_J)\n",
    "    ABS_FLUX_V_2 = np.array(flucompsta2)*flux_cal(MAG_TYCHO_2_7740_22_1_J,\\\n",
    "                                                            MAG_VEGA_J,FLUX_V_VEGA_J)\n",
    "    ABS_FLUX_V_3 = np.array(flucompsta3)*flux_cal(MAG_TYCHO_2_7740_529_1_J,\\\n",
    "                                                            MAG_VEGA_J,FLUX_V_VEGA_J)\n",
    "    return np.array(flucompsta1),np.array(flucompsta2),np.array(flucompsta3),np.array(flucompsta4),\\\n",
    "np.array(flucompsta5),np.array(flucompsta6),np.array(flucompsta7),np.array(SNR1),np.array(SNR2),np.array(SNR3),\\\n",
    "np.array(SNR4),np.array(SNR5),np.array(SNR_comp),ABS_FLUX_LAMBDA_1,ABS_FLUX_LAMBDA_2,ABS_FLUX_LAMBDA_3,\\\n",
    "ABS_FLUX_V_1,ABS_FLUX_V_2,ABS_FLUX_V_3,date,poissonAGN,poissonHD,poisson22,poisson529,SNR_test,file1,SNR_part"
   ]
  },
  {
   "cell_type": "code",
   "execution_count": null,
   "metadata": {
    "collapsed": true
   },
   "outputs": [],
   "source": []
  },
  {
   "cell_type": "code",
   "execution_count": 36,
   "metadata": {
    "scrolled": true
   },
   "outputs": [
    {
     "name": "stdout",
     "output_type": "stream",
     "text": [
      "Frame nr.  0 /../home/lynge/MasterP/NGC3783/NGC3783H/0017-NGC3783H.fits\n",
      "4935.875\n",
      "Frame nr.  1 /../home/lynge/MasterP/NGC3783/NGC3783H/0012-NGC3783H.fits\n",
      "4899.945\n",
      "Frame nr.  2 /../home/lynge/MasterP/NGC3783/NGC3783H/0013-NGC3783H.fits\n",
      "4303.32\n",
      "Frame nr.  3 /../home/lynge/MasterP/NGC3783/NGC3783H/0008-NGC3783H.fits\n",
      "1826.267\n",
      "Frame nr.  4 /../home/lynge/MasterP/NGC3783/NGC3783H/0037-NGC3783H.fits\n",
      "3972.556\n",
      "Frame nr.  5 /../home/lynge/MasterP/NGC3783/NGC3783H/0023-NGC3783H.fits\n",
      "4516.027\n",
      "Frame nr.  6 /../home/lynge/MasterP/NGC3783/NGC3783H/0031-NGC3783H.fits\n",
      "nan\n",
      "Frame nr.  7 /../home/lynge/MasterP/NGC3783/NGC3783H/0015-NGC3783H.fits\n",
      "3296.179\n",
      "Frame nr.  8 /../home/lynge/MasterP/NGC3783/NGC3783H/0011-NGC3783H.fits\n",
      "1995.194\n",
      "Frame nr.  9 /../home/lynge/MasterP/NGC3783/NGC3783H/0018-NGC3783H.fits\n",
      "4481.958\n",
      "Frame nr.  10 /../home/lynge/MasterP/NGC3783/NGC3783H/0010-NGC3783H.fits\n",
      "nan\n",
      "Frame nr.  11 /../home/lynge/MasterP/NGC3783/NGC3783H/0004-NGC3783H.fits\n",
      "3708.653\n",
      "Frame nr.  12 /../home/lynge/MasterP/NGC3783/NGC3783H/0014-NGC3783H.fits\n",
      "nan\n",
      "Frame nr.  13 /../home/lynge/MasterP/NGC3783/NGC3783H/0027-NGC3783H.fits\n",
      "6424.394\n",
      "Frame nr.  14 /../home/lynge/MasterP/NGC3783/NGC3783H/0035-NGC3783H.fits\n",
      "4166.569\n",
      "Frame nr.  15 /../home/lynge/MasterP/NGC3783/NGC3783H/0030-NGC3783H.fits\n",
      "4565.764\n",
      "Frame nr.  16 /../home/lynge/MasterP/NGC3783/NGC3783H/0038-NGC3783H.fits\n",
      "1983.13\n",
      "Frame nr.  17 /../home/lynge/MasterP/NGC3783/NGC3783H/0009-NGC3783H.fits\n",
      "5096.838\n",
      "Frame nr.  18 /../home/lynge/MasterP/NGC3783/NGC3783H/0020-NGC3783H.fits\n",
      "1374.38\n",
      "Frame nr.  19 /../home/lynge/MasterP/NGC3783/NGC3783H/0032-NGC3783H.fits\n",
      "4272.031\n",
      "Frame nr.  20 /../home/lynge/MasterP/NGC3783/NGC3783H/0025-NGC3783H.fits\n",
      "4696.867\n",
      "Frame nr.  21 /../home/lynge/MasterP/NGC3783/NGC3783H/0026-NGC3783H.fits\n",
      "4940.645\n",
      "Frame nr.  22 /../home/lynge/MasterP/NGC3783/NGC3783H/0003-NGC3783H.fits\n",
      "nan\n",
      "Frame nr.  23 /../home/lynge/MasterP/NGC3783/NGC3783H/0029-NGC3783H.fits\n",
      "4190.476\n",
      "Frame nr.  24 /../home/lynge/MasterP/NGC3783/NGC3783H/0033-NGC3783H.fits\n",
      "3824.242\n",
      "Frame nr.  25 /../home/lynge/MasterP/NGC3783/NGC3783H/0001-NGC3783H.fits\n",
      "6812.829\n",
      "Frame nr.  26 /../home/lynge/MasterP/NGC3783/NGC3783H/0036-NGC3783H.fits\n",
      "nan\n",
      "Frame nr.  27 /../home/lynge/MasterP/NGC3783/NGC3783H/0022-NGC3783H.fits\n",
      "4687.504\n",
      "Frame nr.  28 /../home/lynge/MasterP/NGC3783/NGC3783H/0019-NGC3783H.fits\n",
      "4608.515\n",
      "Frame nr.  29 /../home/lynge/MasterP/NGC3783/NGC3783H/0024-NGC3783H.fits\n",
      "4555.476\n",
      "Frame nr.  30 /../home/lynge/MasterP/NGC3783/NGC3783H/0006-NGC3783H.fits\n",
      "nan\n",
      "Frame nr.  31 /../home/lynge/MasterP/NGC3783/NGC3783H/0005-NGC3783H.fits\n",
      "nan\n",
      "Frame nr.  32 /../home/lynge/MasterP/NGC3783/NGC3783H/0034-NGC3783H.fits\n",
      "4429.85\n",
      "Frame nr.  33 /../home/lynge/MasterP/NGC3783/NGC3783H/0007-NGC3783H.fits\n",
      "5129.683\n",
      "Frame nr.  34 /../home/lynge/MasterP/NGC3783/NGC3783H/0002-NGC3783H.fits\n",
      "5532.197\n",
      "Frame nr.  35 /../home/lynge/MasterP/NGC3783/NGC3783H/0028-NGC3783H.fits\n",
      "4781.258\n",
      "Frame nr.  36 /../home/lynge/MasterP/NGC3783/NGC3783H/0021-NGC3783H.fits\n",
      "4371.858\n",
      "Frame nr.  37 /../home/lynge/MasterP/NGC3783/NGC3783H/0016-NGC3783H.fits\n",
      "4853.813\n"
     ]
    }
   ],
   "source": [
    "comp_array,SNR_array,ABS_FLUX_LAMBDA_1_1,ABS_FLUX_LAMBDA_2_1,ABS_FLUX_LAMBDA_3_1,\\\n",
    "ABS_FLUX_V_1_1,ABS_FLUX_V_2_1,ABS_FLUX_V_3_1,date_1,SNR_part_1 = SEXAGNflux(quasJ,0.001)"
   ]
  },
  {
   "cell_type": "code",
   "execution_count": 37,
   "metadata": {},
   "outputs": [
    {
     "name": "stdout",
     "output_type": "stream",
     "text": [
      "[ 57598.996916    57562.095046    57569.120562    57523.21563     57887.275946\n",
      "  57733.357364    57794.252464    57591.018004    57554.218842\n",
      "  57693.388572    57547.070574    57918.05035     57583.994986\n",
      "  57956.028116    57864.113114    57786.353948    57964.995494\n",
      "  57530.219784    57711.36154667  57801.25668     57749.284136\n",
      "  57757.234644    57910.9864      57772.34084     57809.369232\n",
      "  57894.988552    57878.22426     57726.344682    57701.351884\n",
      "  57741.230062    57933.09171     57925.058898    57817.191036    57516.04266\n",
      "  57903.23814     57764.359634    57719.250502    57949.023918\n",
      "  57598.996916    57562.095046    57569.120562    57523.21563     57887.275946\n",
      "  57733.357364    57794.252464    57591.018004    57554.218842\n",
      "  57693.388572    57547.070574    57918.05035     57583.994986\n",
      "  57956.028116    57864.113114    57786.353948    57964.995494\n",
      "  57530.219784    57711.36154667  57801.25668     57749.284136\n",
      "  57757.234644    57910.9864      57772.34084     57809.369232\n",
      "  57894.988552    57878.22426     57726.344682    57701.351884\n",
      "  57741.230062    57933.09171     57925.058898    57817.191036    57516.04266\n",
      "  57903.23814     57764.359634    57719.250502    57949.023918\n",
      "  57598.996916    57562.095046    57569.120562    57523.21563     57887.275946\n",
      "  57733.357364    57794.252464    57591.018004    57554.218842\n",
      "  57693.388572    57547.070574    57918.05035     57583.994986\n",
      "  57956.028116    57864.113114    57786.353948    57964.995494\n",
      "  57530.219784    57711.36154667  57801.25668     57749.284136\n",
      "  57757.234644    57910.9864      57772.34084     57809.369232\n",
      "  57894.988552    57878.22426     57726.344682    57701.351884\n",
      "  57741.230062    57933.09171     57925.058898    57817.191036    57516.04266\n",
      "  57903.23814     57764.359634    57719.250502    57949.023918  ]\n"
     ]
    }
   ],
   "source": [
    "COMB = np.ndarray.tolist(ABS_FLUX_LAMBDA_1_1) + np.ndarray.tolist(ABS_FLUX_LAMBDA_2_1) + np.ndarray.tolist(ABS_FLUX_LAMBDA_3_1)\n",
    "datelist = date_1 + date_1 + date_1\n",
    "\n",
    "COMB_array = np.array((datelist,COMB))\n",
    "print COMB_array[0,:]\n",
    "np.savetxt('H-NGC3783',COMB_array)\n",
    "\n",
    "np.savetxt('../NOVEMBER/NOV-NGC3783-H',comp_array)"
   ]
  },
  {
   "cell_type": "code",
   "execution_count": 38,
   "metadata": {
    "collapsed": true,
    "scrolled": false
   },
   "outputs": [],
   "source": [
    "flucompsta1,flucompsta2,flucompsta3,flucompsta4,flucompsta5,flucompsta6,flucompsta7,\\\n",
    "SNR1,SNR2,SNR3,SNR4,SNR5,SNR_comp,ABS_FLUX_LAMBDA_1,ABS_FLUX_LAMBDA_2,ABS_FLUX_LAMBDA_3,ABS_FLUX_V_1,\\\n",
    "ABS_FLUX_V_2,ABS_FLUX_V_3,date,poissonAGN,poissonHD,poisson22,poisson529,SNR_test,file1,SNR_part \\\n",
    "= AGNflux(quasJ,0.001)"
   ]
  },
  {
   "cell_type": "code",
   "execution_count": 39,
   "metadata": {},
   "outputs": [
    {
     "data": {
      "image/png": "[encoded data removed]",
      "text/plain": [
       "<matplotlib.figure.Figure at 0x7f6feefb6110>"
      ]
     },
     "metadata": {},
     "output_type": "display_data"
    },
    {
     "name": "stdout",
     "output_type": "stream",
     "text": [
      "[ 350.91117299  150.42119386  352.562054             nan  156.0059473\n",
      "  339.03527343  305.83656766           nan  274.8610354   345.14339206\n",
      "  317.24788357  324.59593373  111.48900143  310.23306916  329.13881896\n",
      "  320.9586916   320.48789552  329.95496933  340.920911    330.19595455\n",
      "  291.04327127  320.18470356           nan  305.83393752  279.54759044\n",
      "  311.98737048  303.23133455           nan  280.90355249  429.72979432\n",
      "  404.96524207           nan  273.11128251           nan           nan\n",
      "  331.61651276  417.67832923  163.11665494]\n"
     ]
    }
   ],
   "source": [
    "plt.figure(figsize=(10,8))\n",
    "plt.scatter(comp_array[:,0],comp_array[:,4])\n",
    "plt.show()\n",
    "\n",
    "print comp_array[:,4]"
   ]
  },
  {
   "cell_type": "code",
   "execution_count": 40,
   "metadata": {
    "scrolled": false
   },
   "outputs": [
    {
     "data": {
      "image/png": "[encoded data removed]",
      "text/plain": [
       "<matplotlib.figure.Figure at 0x7f6feefd5410>"
      ]
     },
     "metadata": {},
     "output_type": "display_data"
    },
    {
     "data": {
      "image/png": "[encoded data removed]",
      "text/plain": [
       "<matplotlib.figure.Figure at 0x7f6feeee4090>"
      ]
     },
     "metadata": {},
     "output_type": "display_data"
    }
   ],
   "source": [
    "plt.figure(figsize=(20,14))\n",
    "plt.scatter(date,np.array(ABS_FLUX_LAMBDA_1),marker='x',\\\n",
    "            color='b',label='Flux found from HD101274')\n",
    "plt.scatter(date,np.array(ABS_FLUX_LAMBDA_2),marker='x',\\\n",
    "            color='r',label='Flux found from Tycho-2 7740-22-1')\n",
    "plt.scatter(date_1,np.array(ABS_FLUX_LAMBDA_3),marker='x',\\\n",
    "            color='g',label='Flux found from Tycho-2 7740-529-1')\n",
    "plt.scatter(date_1,ABS_FLUX_LAMBDA_1_1,marker='o',\\\n",
    "            color='b',label='Flux found from SEX HD101274')\n",
    "plt.scatter(date_1,np.array(ABS_FLUX_LAMBDA_2_1),marker='o',\\\n",
    "            color='r',label='Flux found from SEX Tycho-2 7740-22-1')\n",
    "plt.scatter(date_1,np.array(ABS_FLUX_LAMBDA_3_1),marker='o',\\\n",
    "            color='g',label='Flux found from Tycho-2 7740-529-1')\n",
    "plt.xlabel('Days')\n",
    "plt.ylabel('Flux (F_LAMBDA) (K-band)')\n",
    "plt.title('Aperture 0.001 deg')\n",
    "#plt.yscale('log')\n",
    "plt.ylim([0.85*10**(-14),1.4*10**(-14)])\n",
    "plt.legend()\n",
    "plt.show()\n",
    "\n",
    "plt.figure(figsize=(20,14))\n",
    "plt.scatter(date,np.array(SNR1),marker='x',\\\n",
    "            color='b',label='Flux found from HD101274')\n",
    "plt.xlabel('Days')\n",
    "plt.ylabel('Flux (F_LAMBDA) (K-band)')\n",
    "plt.title('Aperture 0.001 deg')\n",
    "#plt.yscale('log')\n",
    "#plt.ylim([0.15,0.20])\n",
    "#plt.xlim([57850,57880])\n",
    "plt.legend()\n",
    "plt.show()\n",
    "\n"
   ]
  },
  {
   "cell_type": "code",
   "execution_count": 41,
   "metadata": {
    "scrolled": false
   },
   "outputs": [
    {
     "data": {
      "image/png": "[encoded data removed]",
      "text/plain": [
       "<matplotlib.figure.Figure at 0x7f6ff2c89990>"
      ]
     },
     "metadata": {},
     "output_type": "display_data"
    },
    {
     "data": {
      "image/png": "[encoded data removed]",
      "text/plain": [
       "<matplotlib.figure.Figure at 0x7f6feefa7490>"
      ]
     },
     "metadata": {},
     "output_type": "display_data"
    },
    {
     "data": {
      "image/png": "[encoded data removed]",
      "text/plain": [
       "<matplotlib.figure.Figure at 0x7f6feef6b250>"
      ]
     },
     "metadata": {},
     "output_type": "display_data"
    },
    {
     "data": {
      "image/png": "[encoded data removed]",
      "text/plain": [
       "<matplotlib.figure.Figure at 0x7f6fef3e0d50>"
      ]
     },
     "metadata": {},
     "output_type": "display_data"
    },
    {
     "data": {
      "image/png": "[encoded data removed]",
      "text/plain": [
       "<matplotlib.figure.Figure at 0x7f6fef1835d0>"
      ]
     },
     "metadata": {},
     "output_type": "display_data"
    },
    {
     "data": {
      "image/png": "[encoded data removed]",
      "text/plain": [
       "<matplotlib.figure.Figure at 0x7f6fef3c3f50>"
      ]
     },
     "metadata": {},
     "output_type": "display_data"
    },
    {
     "data": {
      "image/png": "[encoded data removed]",
      "text/plain": [
       "<matplotlib.figure.Figure at 0x7f6fef3a0fd0>"
      ]
     },
     "metadata": {},
     "output_type": "display_data"
    }
   ],
   "source": [
    "plt.figure(figsize=(10,7))\n",
    "plt.scatter(SNR_part[:,0],SNR_part[:,1])\n",
    "plt.show()\n",
    "\n",
    "plt.figure(figsize=(10,7))\n",
    "plt.scatter(SNR_part[:,0],SNR_part[:,4])\n",
    "plt.show()\n",
    "\n",
    "plt.figure(figsize=(10,7))\n",
    "plt.scatter(SNR_part_1[:,0],SNR_part_1[:,1])\n",
    "plt.show()\n",
    "\n",
    "plt.figure(figsize=(10,7))\n",
    "plt.scatter(SNR_part[:,0],SNR_part[:,2])\n",
    "plt.show()\n",
    "\n",
    "plt.figure(figsize=(10,7))\n",
    "plt.scatter(SNR_part_1[:,0],SNR_part_1[:,2])\n",
    "plt.show()\n",
    "\n",
    "plt.figure(figsize=(10,7))\n",
    "plt.scatter(SNR_part[:,0],SNR_part[:,3])\n",
    "plt.show()\n",
    "\n",
    "plt.figure(figsize=(10,7))\n",
    "plt.scatter(SNR_part_1[:,0],SNR_part_1[:,3])\n",
    "plt.show()\n"
   ]
  },
  {
   "cell_type": "code",
   "execution_count": 42,
   "metadata": {},
   "outputs": [
    {
     "name": "stdout",
     "output_type": "stream",
     "text": [
      "26\n",
      "0 57598.996916 233.920308 5.000000\n",
      "/../home/lynge/MasterP/NGC3783/NGC3783H/0017-NGC3783H.fits\n",
      "1 57562.095046 231.524295 5.000000\n",
      "/../home/lynge/MasterP/NGC3783/NGC3783H/0012-NGC3783H.fits\n",
      "2 57569.120562 183.739764 5.000000\n",
      "/../home/lynge/MasterP/NGC3783/NGC3783H/0013-NGC3783H.fits\n",
      "3 57523.215630 95.385703 5.000000\n",
      "/../home/lynge/MasterP/NGC3783/NGC3783H/0008-NGC3783H.fits\n",
      "4 57887.275946 181.152800 5.000000\n",
      "/../home/lynge/MasterP/NGC3783/NGC3783H/0037-NGC3783H.fits\n",
      "5 57733.357364 215.767275 5.000000\n",
      "/../home/lynge/MasterP/NGC3783/NGC3783H/0023-NGC3783H.fits\n",
      "6 57794.252464 205.084354 5.000000\n",
      "/../home/lynge/MasterP/NGC3783/NGC3783H/0031-NGC3783H.fits\n",
      "7 57591.018004 196.299371 5.000000\n",
      "/../home/lynge/MasterP/NGC3783/NGC3783H/0015-NGC3783H.fits\n",
      "8 57554.218842 100.948829 5.000000\n",
      "/../home/lynge/MasterP/NGC3783/NGC3783H/0011-NGC3783H.fits\n",
      "9 57693.388572 206.005917 5.000000\n",
      "/../home/lynge/MasterP/NGC3783/NGC3783H/0018-NGC3783H.fits\n",
      "10 57547.070574 203.758735 5.000000\n",
      "/../home/lynge/MasterP/NGC3783/NGC3783H/0010-NGC3783H.fits\n",
      "11 57918.050350 177.807957 5.000000\n",
      "/../home/lynge/MasterP/NGC3783/NGC3783H/0004-NGC3783H.fits\n",
      "12 57583.994986 211.123018 5.000000\n",
      "/../home/lynge/MasterP/NGC3783/NGC3783H/0014-NGC3783H.fits\n",
      "13 57956.028116 257.777395 5.000000\n",
      "/../home/lynge/MasterP/NGC3783/NGC3783H/0027-NGC3783H.fits\n",
      "14 57864.113114 193.587091 5.000000\n",
      "/../home/lynge/MasterP/NGC3783/NGC3783H/0035-NGC3783H.fits\n",
      "15 57786.353948 225.366078 5.000000\n",
      "/../home/lynge/MasterP/NGC3783/NGC3783H/0030-NGC3783H.fits\n",
      "16 57964.995494 106.093779 5.000000\n",
      "/../home/lynge/MasterP/NGC3783/NGC3783H/0038-NGC3783H.fits\n",
      "17 57530.219784 241.373216 5.000000\n",
      "/../home/lynge/MasterP/NGC3783/NGC3783H/0009-NGC3783H.fits\n",
      "18 57711.361547 73.984669 5.000000\n",
      "/../home/lynge/MasterP/NGC3783/NGC3783H/0020-NGC3783H.fits\n",
      "19 57801.256680 207.822210 5.000000\n",
      "/../home/lynge/MasterP/NGC3783/NGC3783H/0032-NGC3783H.fits\n",
      "20 57749.284136 233.946023 5.000000\n",
      "/../home/lynge/MasterP/NGC3783/NGC3783H/0025-NGC3783H.fits\n",
      "21 57757.234644 255.087928 5.000000\n",
      "/../home/lynge/MasterP/NGC3783/NGC3783H/0026-NGC3783H.fits\n",
      "22 57910.986400 195.675485 5.000000\n",
      "/../home/lynge/MasterP/NGC3783/NGC3783H/0003-NGC3783H.fits\n",
      "23 57772.340840 203.220270 5.000000\n",
      "/../home/lynge/MasterP/NGC3783/NGC3783H/0029-NGC3783H.fits\n",
      "24 57809.369232 188.605586 5.000000\n",
      "/../home/lynge/MasterP/NGC3783/NGC3783H/0033-NGC3783H.fits\n",
      "25 57894.988552 289.948011 5.000000\n",
      "/../home/lynge/MasterP/NGC3783/NGC3783H/0001-NGC3783H.fits\n",
      "26 57878.224260 343.530413 5.000000\n",
      "/../home/lynge/MasterP/NGC3783/NGC3783H/0036-NGC3783H.fits\n",
      "27 57726.344682 211.737675 5.000000\n",
      "/../home/lynge/MasterP/NGC3783/NGC3783H/0022-NGC3783H.fits\n",
      "28 57701.351884 220.889027 5.000000\n",
      "/../home/lynge/MasterP/NGC3783/NGC3783H/0019-NGC3783H.fits\n",
      "29 57741.230062 216.919628 5.000000\n",
      "/../home/lynge/MasterP/NGC3783/NGC3783H/0024-NGC3783H.fits\n",
      "30 57933.091710 253.576567 5.000000\n",
      "/../home/lynge/MasterP/NGC3783/NGC3783H/0006-NGC3783H.fits\n",
      "31 57925.058898 316.730578 5.000000\n",
      "/../home/lynge/MasterP/NGC3783/NGC3783H/0005-NGC3783H.fits\n",
      "32 57817.191036 210.397231 5.000000\n",
      "/../home/lynge/MasterP/NGC3783/NGC3783H/0034-NGC3783H.fits\n",
      "33 57516.042660 236.339332 5.000000\n",
      "/../home/lynge/MasterP/NGC3783/NGC3783H/0007-NGC3783H.fits\n",
      "34 57903.238140 197.574916 5.000000\n",
      "/../home/lynge/MasterP/NGC3783/NGC3783H/0002-NGC3783H.fits\n",
      "35 57764.359634 224.480828 5.000000\n",
      "/../home/lynge/MasterP/NGC3783/NGC3783H/0028-NGC3783H.fits\n",
      "36 57719.250502 207.181085 5.000000\n",
      "/../home/lynge/MasterP/NGC3783/NGC3783H/0021-NGC3783H.fits\n",
      "37 57949.023918 188.077626 5.000000\n",
      "/../home/lynge/MasterP/NGC3783/NGC3783H/0016-NGC3783H.fits\n"
     ]
    }
   ],
   "source": [
    "print np.argmax(SNR_test[:,1])\n",
    "\n",
    "for i in range(len(file1)):\n",
    "    print i, '{0:f}'.format(SNR_test[i,0]), '{0:f}'.format(SNR_test[i,1]), '{0:f}'.format(SNR_test[i,2])\n",
    "    print file1[i]"
   ]
  },
  {
   "cell_type": "code",
   "execution_count": null,
   "metadata": {
    "collapsed": true
   },
   "outputs": [],
   "source": []
  },
  {
   "cell_type": "code",
   "execution_count": null,
   "metadata": {
    "collapsed": true
   },
   "outputs": [],
   "source": []
  }
 ],
 "metadata": {
  "kernelspec": {
   "display_name": "Python 2",
   "language": "python",
   "name": "python2"
  },
  "language_info": {
   "codemirror_mode": {
    "name": "ipython",
    "version": 2
   },
   "file_extension": ".py",
   "mimetype": "text/x-python",
   "name": "python",
   "nbconvert_exporter": "python",
   "pygments_lexer": "ipython2",
   "version": "2.7.13"
  }
 },
 "nbformat": 4,
 "nbformat_minor": 2
}
