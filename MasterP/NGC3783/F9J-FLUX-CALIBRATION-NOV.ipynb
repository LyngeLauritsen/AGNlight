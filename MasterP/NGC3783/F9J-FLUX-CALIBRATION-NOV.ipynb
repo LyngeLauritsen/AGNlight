{
 "cells": [
  {
   "cell_type": "code",
   "execution_count": 1,
   "metadata": {},
   "outputs": [
    {
     "name": "stderr",
     "output_type": "stream",
     "text": [
      "/home/lynge/anaconda2/lib/python2.7/site-packages/matplotlib/__init__.py:1405: UserWarning: \n",
      "This call to matplotlib.use() has no effect because the backend has already\n",
      "been chosen; matplotlib.use() must be called *before* pylab, matplotlib.pyplot,\n",
      "or matplotlib.backends is imported for the first time.\n",
      "\n",
      "  warnings.warn(_use_error_msg)\n"
     ]
    }
   ],
   "source": [
    "import numpy as np\n",
    "import scipy as sp\n",
    "import matplotlib\n",
    "import matplotlib.pyplot as plt\n",
    "%matplotlib inline\n",
    "from matplotlib.colors import LogNorm\n",
    "import scipy.stats as stats\n",
    "from matplotlib import gridspec\n",
    "import aplpy as apl #The Astronomy Plotting Library for python\n",
    "import astropy\n",
    "from astropy.stats import sigma_clip\n",
    "from astropy.modeling import functional_models, models, fitting\n",
    "import astropy.units as U\n",
    "from astropy.coordinates import ICRS, Galactic, FK4, FK5, Angle, Latitude, Longitude\n",
    "import astropy.constants as C\n",
    "from astropy import wcs\n",
    "import astropy.io.fits as fits\n",
    "from astropy.io import ascii\n",
    "import astropy.coordinates as coord\n",
    "from astropy.coordinates import SkyCoord\n",
    "from astropy.stats import signal_to_noise_oir_ccd as SNRas\n",
    "#import spectral_cube as SC\n",
    "#from spectral_cube import SpectralCube as sc\n",
    "from astropy.wcs import WCS\n",
    "matplotlib.use('Agg')\n",
    "import matplotlib.cm as cm\n",
    "#import astrometry as ast\n",
    "import pyfits\n",
    "import requests\n",
    "import json\n",
    "import os\n",
    "from sklearn import datasets, linear_model\n",
    "from scipy.optimize import curve_fit\n",
    "import numpy.ma as ma\n",
    "from astropy.table import Table, Column\n",
    "import pyextract\n",
    "import sewpy\n",
    "import pandas as pd\n",
    "from astropy import units as u\n",
    "#import alipy"
   ]
  },
  {
   "cell_type": "code",
   "execution_count": 2,
   "metadata": {},
   "outputs": [],
   "source": [
    "quasJ = [os.path.join('/../home/lynge/MasterP/NGC3783/NGC3783J',f) \\\n",
    "        for f in os.listdir('/../home/lynge/MasterP/NGC3783/NGC3783J/')]\n",
    "\n",
    "\n",
    "qua1_RA_WORLD = 174.75717083\n",
    "qua1_DEC_WORLD = -37.73850000\n",
    "sta1_RA_WORLD = 174.77413750 - 9*10**(-5) #HD 101274\n",
    "sta1_DEC_WORLD = -37.75375000 + 6.4*10**(-5)\n",
    "sta2_RA_WORLD = 174.82283333 - 0.15/3600. #Tycho-2 7740-22-1\n",
    "sta2_DEC_WORLD = -37.76239167\n",
    "sta3_RA_WORLD = 174.79553333 #174.79553250 #Tycho-2 7740-529-1\n",
    "sta3_DEC_WORLD = -37.83470278 #-37.83470333\n",
    "\n",
    "sky1_RA_WORLD = SkyCoord('11:38:59 -37:44:44', unit=(u.hourangle, u.deg)).ra.degree #Random patch of sky\n",
    "sky1_DEC_WORLD = SkyCoord('11:38:59 -37:44:44', unit=(u.hourangle, u.deg)).dec.degree\n",
    "\n",
    "sky2_RA_WORLD = SkyCoord('11:39:04 -37:43:33', unit=(u.hourangle, u.deg)).ra.degree #Random patch of sky\n",
    "sky2_DEC_WORLD = SkyCoord('11:39:04 -37:43:33', unit=(u.hourangle, u.deg)).dec.degree\n",
    "\n",
    "sky3_RA_WORLD = SkyCoord('11:38:59 -37:43:51', unit=(u.hourangle, u.deg)).ra.degree #Random patch of sky\n",
    "sky3_DEC_WORLD = SkyCoord('11:38:59 -37:43:51', unit=(u.hourangle, u.deg)).dec.degree\n",
    "\n",
    "MAG_STA1_J = 8.997\n",
    "MAG_STA1_H = 8.982\n",
    "MAG_STA1_K = 8.909\n",
    "\n",
    "MAG_STA2_J = 10.919\n",
    "MAG_STA2_H = 10.726\n",
    "MAG_STA2_K = 10.611\n",
    "\n",
    "MAG_STA3_J = 9.902\n",
    "MAG_STA3_H = 9.625\n",
    "MAG_STA3_K = 9.580\n",
    "\n",
    "MAG_err_STA1_J = 0.026\n",
    "MAG_err_STA1_H = 0.023\n",
    "MAG_err_STA1_K = 0.021\n",
    "\n",
    "MAG_err_STA2_J = 0.026\n",
    "MAG_err_STA2_H = 0.023\n",
    "MAG_err_STA2_K = 0.024\n",
    "\n",
    "MAG_err_STA3_J = 0.023\n",
    "MAG_err_STA3_H = 0.022\n",
    "MAG_err_STA3_K = 0.023\n",
    "\n",
    "MAG_VEGA_B = 0.03\n",
    "MAG_VEGA_V = 0.03\n",
    "MAG_VEGA_G = 0.03\n",
    "MAG_VEGA_J = -0.18\n",
    "MAG_VEGA_H = -0.03\n",
    "MAG_VEGA_K = 0.13\n",
    "\n",
    "MAG_VEGA_g = -0.08\n",
    "MAG_VEGA_r = 0.16\n",
    "MAG_VEGA_i = 0.37\n",
    "MAG_VEGA_z = 0.54\n",
    "\n",
    "FLUX_LAMBDA_VEGA_B = 632*10**(-11) #erg/cm**2/s/A\n",
    "FLUX_LAMBDA_VEGA_V = 363.1*10**(-11)\n",
    "FLUX_LAMBDA_VEGA_G = float('nan')\n",
    "FLUX_LAMBDA_VEGA_J = 31.47*10**(-11)\n",
    "FLUX_LAMBDA_VEGA_H = 11.38*10**(-11)\n",
    "FLUX_LAMBDA_VEGA_K = 3.961*10**(-11)\n",
    "\n",
    "FLUX_LAMBDA_VEGA_g = 466.9*10**(-11) #erg/cm**2/s/A\n",
    "FLUX_LAMBDA_VEGA_r = 278.0*10**(-11)\n",
    "FLUX_LAMBDA_VEGA_i = 185.2*10**(-11)\n",
    "FLUX_LAMBDA_VEGA_z = 131.5*10**(-11)\n",
    "\n",
    "\n",
    "FLUX_V_VEGA_B = 4.063*10**(-20) #erg/cm**2/s/Hz\n",
    "FLUX_V_VEGA_V = 3.636*10**(-20)\n",
    "FLUX_V_VEGA_G = float('nan')\n",
    "FLUX_V_VEGA_J = 1.589*10**(-20)\n",
    "FLUX_V_VEGA_H = 1.021*10**(-20)\n",
    "FLUX_V_VEGA_K = 0.64*10**(-20)\n",
    "\n",
    "FLUX_V_VEGA_g = 3.631*10**(-20) #erg/cm**2/s/Hz\n",
    "FLUX_V_VEGA_r = 3.631*10**(-20)\n",
    "FLUX_V_VEGA_i = 3.631*10**(-20)\n",
    "FLUX_V_VEGA_z = 3.631*10**(-20)\n"
   ]
  },
  {
   "cell_type": "code",
   "execution_count": 3,
   "metadata": {
    "collapsed": true
   },
   "outputs": [],
   "source": [
    "def dist(mid,end):\n",
    "    return np.sqrt((mid[0] - end[0])**2 + (mid[1] - end[1])**2)"
   ]
  },
  {
   "cell_type": "code",
   "execution_count": 4,
   "metadata": {
    "collapsed": true
   },
   "outputs": [],
   "source": [
    "def flux_cal(A_mag,B_mag,B_flux):\n",
    "    '''Flux of A found through magnitude and flux of B'''\n",
    "    return B_flux*10**((B_mag-A_mag)/2.5)"
   ]
  },
  {
   "cell_type": "code",
   "execution_count": 5,
   "metadata": {
    "collapsed": true
   },
   "outputs": [],
   "source": [
    "def Basic(quasar,header):\n",
    "    '''Provides a basic list of neccesities from the fits header file for use in the later \\\n",
    "    flux determination, it does not serve an individual purpose beyound that'''\n",
    "    AGNdata = quasar #np.rot90(np.rot90(np.fliplr(quasar)))\n",
    "    #header = data[0].header\n",
    "    #print header\n",
    "    RAstd = header['CRVAL1']\n",
    "    DECstd = header['CRVAL2']\n",
    "    #print RAstd, DECstd\n",
    "    pixspa = header['PIXSCALE']/(3600.)\n",
    "    #print pixspa\n",
    "    RAstdpix = header['CRPIX1']\n",
    "    DECstdpix = header['CRPIX2']\n",
    "    exptime = 10 # header['EXPTIME']\n",
    "    return header,AGNdata,RAstd,DECstd,pixspa,RAstdpix,DECstdpix,exptime"
   ]
  },
  {
   "cell_type": "code",
   "execution_count": 6,
   "metadata": {
    "collapsed": true
   },
   "outputs": [],
   "source": [
    "def curve(quasar,header,w,center,apparature):\n",
    "    '''Determines the FLUX of the stellar object given the the numpy array of the image, \\\n",
    "    the header of the fits file, the astropy coordinate representation, \\\n",
    "    the object position and the apparature of interest'''\n",
    "    header,AGNdata,RAstd,DECstd,pixspa,RAstdpix,DECstdpix,exptime = Basic(quasar,header)\n",
    "    #AGNdata = np.swapaxes(AGNdata,0,1)\n",
    "    y, x = np.ogrid[0:header['NAXIS1'],0:header['NAXIS1']]\n",
    "    #w = np.swapaxes(w,0,1)\n",
    "    #F_AGN = np.zeros((512,512,3)) #((int(2*apparature/pixspa)+1,int(2*apparature/pixspa)+1,3))\n",
    "    #print center\n",
    "    x1 = w.all_world2pix(center[0],center[1],0)\n",
    "    x1,y1 = (x1[0]),(x1[1])\n",
    "    if 15 < x1 < header['NAXIS1'] - 15 and 15 < y1 < header['NAXIS2'] - 15:\n",
    "        try:\n",
    "            mask = ((y-y1)**2 + (x-x1)**2) > (apparature/float(pixspa))**2\n",
    "            AGNdata[mask] = float(0)\n",
    "            mask = AGNdata == 0.\n",
    "            rows = np.flatnonzero((~mask).sum(axis=1))\n",
    "            cols = np.flatnonzero((~mask).sum(axis=0))\n",
    "            AGNdata = AGNdata[rows.min():rows.max()+1, cols.min():cols.max()+1]\n",
    "            #print apparature/float(pixspa)\n",
    "        except:\n",
    "            AGNdata = np.array([[float('nan'),float('nan')],[float('nan'),float('nan')]])\n",
    "    else:\n",
    "        AGNdata = np.array([[float('nan'),float('nan')],[float('nan'),float('nan')]])\n",
    "    #if np.sum(AGNdata) < 500:\n",
    "    #    AGNdata = np.array([[float('nan'),float('nan')],[float('nan'),float('nan')]])\n",
    "    return AGNdata, x1, y1\n"
   ]
  },
  {
   "cell_type": "code",
   "execution_count": 7,
   "metadata": {
    "collapsed": true
   },
   "outputs": [],
   "source": [
    "def comp1(qua,sta):\n",
    "    '''Code to determine the relation between the AGN and the Stellar flux as determined by either me \\\n",
    "    or by the SExtractor program respectively'''\n",
    "    comp = qua/sta\n",
    "    return comp"
   ]
  },
  {
   "cell_type": "code",
   "execution_count": 8,
   "metadata": {
    "collapsed": true
   },
   "outputs": [],
   "source": [
    "def SXtable(quas,aperture):\n",
    "    header = pyfits.getheader(quas)\n",
    "    phot_app = aperture*3600/header['PIXSCALE']\n",
    "    np.set_printoptions(threshold=np.inf)\n",
    "    sew = sewpy.SEW(params=['XMODEL_WORLD', 'YMODEL_WORLD', 'X2MODEL_WORLD', 'Y2MODEL_WORLD', \n",
    "                            'XMODEL_IMAGE', 'YMODEL_IMAGE', 'FLUX_RADIUS(1)', 'FLUX_APER','ELLIPTICITY'],\n",
    "                    config={\"DETECT_THRESH\":5, 'DETECT_MINAREA':5, 'DETECT_MAXAREA':10000, \n",
    "                            \"PHOT_FLUXFRAC\":\"0.5\", 'PHOT_APERTURES':2*phot_app, \n",
    "                            'PIXEL_SCALE':header['PIXSCALE']}\n",
    "                    , sexpath='/usr/bin/sextractor')\n",
    "    out = sew(quas)\n",
    "    return out"
   ]
  },
  {
   "cell_type": "code",
   "execution_count": 9,
   "metadata": {
    "collapsed": true
   },
   "outputs": [],
   "source": [
    "def flux(quas,aperture,main_RA_WORLD,main_DEC_WORLD):\n",
    "    header = pyfits.getheader(quas)\n",
    "    RAmain = WCS(quas).all_world2pix(main_RA_WORLD,main_DEC_WORLD,1)[0]\n",
    "    DECmain = WCS(quas).all_world2pix(main_RA_WORLD,main_DEC_WORLD,1)[1]\n",
    "    output = float('nan')\n",
    "    if 15 < RAmain < header['NAXIS1'] - 15 and 15 < DECmain < header['NAXIS2'] - 15: \n",
    "        out = SXtable(quas,aperture)\n",
    "        RAmain = WCS(quas).all_world2pix(main_RA_WORLD,main_DEC_WORLD,0)[0]\n",
    "        DECmain = WCS(quas).all_world2pix(main_RA_WORLD,main_DEC_WORLD,0)[1]\n",
    "        #print out['table']['XMODEL_IMAGE'], out['table']['YMODEL_IMAGE']\n",
    "        #print RAmain, DECmain\n",
    "\n",
    "        for j in range(len(out['table']['XMODEL_IMAGE'])):\n",
    "            #output['time'][i] = header['MJD-OBS']\n",
    "            if RAmain - 5. < out['table']['XMODEL_IMAGE'][j] <  RAmain + 5. and \\\n",
    "            DECmain - 5. < out['table']['YMODEL_IMAGE'][j] < DECmain + 5.:\n",
    "                #print 'YES'\n",
    "                output = out['table']['FLUX_APER'][j]\n",
    "                break\n",
    "    else:\n",
    "        output = float('nan')\n",
    "        #print 'Done'\n",
    "    return output\n"
   ]
  },
  {
   "cell_type": "code",
   "execution_count": 10,
   "metadata": {
    "collapsed": true
   },
   "outputs": [],
   "source": [
    "def SNR(data1,data2,header,ap1,ap2):\n",
    "    npix1 = np.pi*ap1**2/((header['PIXSCALE']/3600.)**2)\n",
    "    npix2 = np.pi*ap2**2/((header['PIXSCALE']/3600.)**2)\n",
    "    #data2_1 = ((data2-data1)/npix2)*npix1\n",
    "    data1_2 = data1\n",
    "    data2_2 = abs(data2)\n",
    "    \n",
    "    return float(header['GAIN'])*data1_2*header['DIT']*header['NDIT']/(np.sqrt\n",
    "                                                        (float(header['GAIN'])*data1_2*header['DIT']*header['NDIT'] \n",
    "                                                         + float(header['GAIN'])*npix1*data2_2*header['DIT']\n",
    "                                                         *header['NDIT']\n",
    "                                                         +header['NDIT']*npix1*header['RON']**2))\n",
    "\n",
    "def SNR11(data1,data2,header,ap1,ap2):\n",
    "    npix1 = np.pi*ap1**2/((header['PIXSCALE']/3600.)**2)\n",
    "    npix2 = np.pi*ap2**2/((header['PIXSCALE']/3600.)**2)\n",
    "    #data2_1 = ((data2-data1)/npix2)*npix1\n",
    "    data1_2 = data1\n",
    "    data2_2 = abs(data2)\n",
    "    \n",
    "    return float(((header['GAIN'])*data1_2*header['DIT']*header['NDIT']))\n",
    "\n",
    "def SNR22(data1,data2,header,ap1,ap2):\n",
    "    npix1 = np.pi*ap1**2/((header['PIXSCALE']/3600.)**2)\n",
    "    npix2 = np.pi*ap2**2/((header['PIXSCALE']/3600.)**2)\n",
    "    #data2_1 = ((data2-data1)/npix2)*npix1\n",
    "    data1_2 = data1\n",
    "    data2_2 = abs(data2)\n",
    "    \n",
    "    return float(header['GAIN']*npix1*data2_2*header['DIT']*header['NDIT'])\n",
    "\n",
    "def SNR33(data1,data2,header,ap1,ap2):\n",
    "    npix1 = np.pi*ap1**2/((header['PIXSCALE']/3600.)**2)\n",
    "    npix2 = np.pi*ap2**2/((header['PIXSCALE']/3600.)**2)\n",
    "    #data2_1 = ((data2-data1)/npix2)*npix1\n",
    "    data1_2 = data1\n",
    "    data2_2 = abs(data2)\n",
    "    \n",
    "    return float((header['NDIT']*npix1*header['RON']**2))\n",
    "\n",
    "def SNR44(data1,data2,header,ap1,ap2):\n",
    "    npix1 = np.pi*ap1**2/((header['PIXSCALE']/3600.)**2)\n",
    "    npix2 = np.pi*ap2**2/((header['PIXSCALE']/3600.)**2)\n",
    "    #data2_1 = ((data2-data1)/npix2)*npix1\n",
    "    data1_2 = data1\n",
    "    data2_2 = abs(data2)\n",
    "    \n",
    "    return float(((header['GAIN'])*data1_2*header['DIT']*header['NDIT'] + \n",
    "                  header['GAIN']*npix1*data2_2*header['DIT']*header['NDIT'] +\n",
    "                  header['NDIT']*npix1*header['RON']**2))\n",
    "\n",
    "#SNRas(10.,data1_2,abs(data2_2),0,header['RON'],npix1,gain=header['GAIN'])"
   ]
  },
  {
   "cell_type": "code",
   "execution_count": 11,
   "metadata": {},
   "outputs": [
    {
     "name": "stderr",
     "output_type": "stream",
     "text": [
      "WARNING: AstropyDeprecationWarning: \"clobber\" was deprecated in version 2.0 and will be removed in a future version. Use argument \"overwrite\" instead. [astropy.utils.decorators]\n"
     ]
    }
   ],
   "source": [
    "for i in range(len(quasJ)):\n",
    "    data, header = fits.getdata(quasJ[i],header=True) #RA---TAN\n",
    "    #print header['CTYPE2']\n",
    "    #header['CTYPE1'] = \"RA---TAN\"\n",
    "    #header['CTYPE2'] = \"DEC--TAN\"\n",
    "    header['NDIT'] = 5\n",
    "    '''header['A_ORDER'] = \"0\"\n",
    "    header['B_ORDER'] = \"0\"\n",
    "    header['AP_ORDER'] = \"0\"\n",
    "    header['BP_ORDER'] = \"0\"\n",
    "    header['A_0_2'] = \"0\"\n",
    "    header['A_1_1'] = \"0\"\n",
    "    header['A_2_0'] = \"0\"\n",
    "    header['B_0_2'] = \"0\"\n",
    "    header['B_1_1'] = \"0\"\n",
    "    header['B_2_0'] = \"0\"\n",
    "    header['AP_0_2'] = \"0\"\n",
    "    header['AP_1_1'] = \"0\"\n",
    "    header['AP_2_0'] = \"0\"\n",
    "    header['AP_0_1'] = \"0\"\n",
    "    header['AP_1_0'] = \"0\"\n",
    "    header['BP_0_1'] = \"0\"\n",
    "    header['BP_0_2'] = \"0\"\n",
    "    header['BP_1_0'] = \"0\"\n",
    "    header['BP_1_1'] = \"0\"\n",
    "    header['BP_2_0'] = \"0\"'''\n",
    "    fits.writeto(quasJ[i],data,header,clobber=True)\n",
    "    #print fits.getheader(quasH[i])['A_ORDER']"
   ]
  },
  {
   "cell_type": "code",
   "execution_count": 12,
   "metadata": {
    "collapsed": true
   },
   "outputs": [],
   "source": [
    "def error(SIGNAL_AGN,SIGNAL_STAR,SNR_AGN,SNR_STAR,STAR_MAG,STAR_MAG_err,VEGA_FLUX,VEGA_MAG):\n",
    "    \n",
    "    SIGNAL_ERR = abs(SIGNAL_AGN/SIGNAL_STAR)*np.sqrt(SNR_AGN**(-2) + SNR_STAR**(-2))\n",
    "    \n",
    "    FLUX_CAL_ERR = STAR_MAG_err\n",
    "    \n",
    "    SIGNAL = VEGA_FLUX*10**((VEGA_MAG-STAR_MAG)/2.5)\n",
    "    \n",
    "    FLUX_CAL = abs(SIGNAL_AGN/SIGNAL_STAR)*VEGA_FLUX*((np.log(10)/2.5)*10**((VEGA_MAG - STAR_MAG)/2.5))\n",
    "    \n",
    "    return np.sqrt((SIGNAL**2*SIGNAL_ERR**2 + FLUX_CAL**2*FLUX_CAL_ERR**2))"
   ]
  },
  {
   "cell_type": "code",
   "execution_count": 13,
   "metadata": {
    "collapsed": true
   },
   "outputs": [],
   "source": [
    "def SEXAGNflux(quas,aperture1):\n",
    "    aperture2 = aperture1 + 0.003\n",
    "    date = []\n",
    "    flucompsta1 = []\n",
    "    flucompsta2 = []\n",
    "    flucompsta3 = []\n",
    "    flucompsta4 = []\n",
    "    flucompsta5 = []\n",
    "    flucompsta6 = []\n",
    "    flucompsta7 = []\n",
    "    poissonAGN = []\n",
    "    poisson529 = []\n",
    "    poisson22 = []\n",
    "    poissonHD = []\n",
    "    ABS_FLUX_LAMBDA_1 = 0\n",
    "    ABS_FLUX_LAMBDA_2 = 0\n",
    "    ABS_FLUX_LAMBDA_3 = 0\n",
    "    ABS_FLUX_V_1 = 0\n",
    "    ABS_FLUX_V_2 = 0\n",
    "    ABS_FLUX_V_3 = 0\n",
    "    SNR_comp = []\n",
    "    comp_array = np.zeros((len(quas),6))\n",
    "    SNR_array = np.zeros((len(quas),8))\n",
    "    SNR_part = np.zeros((len(quas),5))\n",
    "    SNR_star = np.zeros((len(quas),4))\n",
    "    noise_quasar = np.zeros((len(quas),4))\n",
    "    signal = np.zeros((len(quas),4))\n",
    "    #-----------------------------------------------------------------------------------------------\n",
    "    for i in range(len(quas)):\n",
    "        print 'Frame nr. ', i, quas[i]\n",
    "        header = pyfits.getheader(quas[i])\n",
    "        a_AGN = flux(quas[i],2*aperture1,qua1_RA_WORLD,qua1_DEC_WORLD)/header['DIT']\n",
    "        a2 = flux(quas[i],2*aperture1,sta1_RA_WORLD,sta1_DEC_WORLD)/header['DIT']\n",
    "        a3 = flux(quas[i],2*aperture1,sta2_RA_WORLD,sta2_DEC_WORLD)/header['DIT']\n",
    "        a4 = flux(quas[i],2*aperture1,sta3_RA_WORLD,sta3_DEC_WORLD)/header['DIT']\n",
    "        a_sky1 = curve(pyfits.getdata(quas[i]),pyfits.getheader(quas[i]),WCS(quas[i]),\n",
    "                   (sky1_RA_WORLD,sky1_DEC_WORLD),aperture1)[0]/header['DIT']\n",
    "        a_sky2 = curve(pyfits.getdata(quas[i]),pyfits.getheader(quas[i]),WCS(quas[i]),\n",
    "                   (sky2_RA_WORLD,sky2_DEC_WORLD),aperture1)[0]/header['DIT']\n",
    "        a_sky3 = curve(pyfits.getdata(quas[i]),pyfits.getheader(quas[i]),WCS(quas[i]),\n",
    "                   (sky3_RA_WORLD,sky3_DEC_WORLD),aperture1)[0]/header['DIT']\n",
    "        #a_AGN_1 = flux(quas[i],2*aperture2,qua1_RA_WORLD,qua1_DEC_WORLD)/header['DIT']\n",
    "        #a2_1 = flux(quas[i],2*aperture2,sta1_RA_WORLD,sta1_DEC_WORLD)/header['DIT']\n",
    "        #a3_1 = flux(quas[i],2*aperture2,sta2_RA_WORLD,sta2_DEC_WORLD)/header['DIT']\n",
    "        #a4_1 = flux(quas[i],2*aperture2,sta3_RA_WORLD,sta3_DEC_WORLD)/header['DIT']\n",
    "        signal[i,0] = a_AGN\n",
    "        signal[i,1] = a2\n",
    "        signal[i,2] = a3\n",
    "        signal[i,3] = a4\n",
    "        #-------------------------------------------------------------------------------------------\n",
    "        #plt.figure(figsize=(3,3))\n",
    "        #plt.imshow(a2)\n",
    "        #plt.show()\n",
    "        #-------------------------------------------------------------------------------------------\n",
    "        a_AGN_pix = np.pi*(aperture1)**2/((header['PIXSCALE']/3600.)**2)\n",
    "        a2_pix = np.pi*(aperture1)**2/((header['PIXSCALE']/3600.)**2)\n",
    "        a3_pix = np.pi*(aperture1)**2/((header['PIXSCALE']/3600.)**2)\n",
    "        a4_pix = np.pi*(aperture1)**2/((header['PIXSCALE']/3600.)**2)\n",
    "        a_sky_pix = np.count_nonzero(a_sky1)\n",
    "        a_sky_2 = np.sum(a_sky1)/float(np.count_nonzero(a_sky1))\n",
    "        a_sky = np.concatenate((a_sky1.ravel(),a_sky2.ravel(),a_sky3.ravel()),axis=0)\n",
    "        a_sky_var = np.nanvar(a_sky)\n",
    "        print a_sky_2,a_sky_var\n",
    "        #a_AGN_pix_1 = np.pi*(2*aperture2)**2/((header['PIXSCALE']/3600.)**2)\n",
    "        #a2_pix_1 = np.pi*(aperture2)**2/((header['PIXSCALE']/3600.)**2)\n",
    "        #a3_pix_1 = np.pi*(aperture2)**2/((header['PIXSCALE']/3600.)**2)\n",
    "        #a4_pix_1 = np.pi*(aperture2)**2/((header['PIXSCALE']/3600.)**2)\n",
    "        #a_AGN_2 = (np.sum(a_AGN_1) - np.sum(a_AGN))/(float(np.count_nonzero(a_AGN_1)) - float(np.count_nonzero(a_AGN)))\n",
    "        #a2_2 = (np.sum(a2_1) - np.sum(a2))/(float(np.count_nonzero(a2_1)) - float(np.count_nonzero(a2)))\n",
    "        #a3_2 = (np.sum(a3_1) - np.sum(a3))/(float(np.count_nonzero(a3_1)) - float(np.count_nonzero(a3)))\n",
    "        #a4_2 = (np.sum(a4_1) - np.sum(a4))/(float(np.count_nonzero(a4_1)) - float(np.count_nonzero(a4)))\n",
    "        a_AGN_3 = a_AGN/a_AGN_pix #- (a_AGN_1 - a_AGN)/(a_AGN_pix_1 - a_AGN_pix) #Background subtracted flux/pixel/sec\n",
    "        a2_3 = a2/a2_pix #- (a2_1 - a2)/(a2_pix_1 - a2_pix)\n",
    "        a3_3 = a3/a3_pix #- (a3_1 - a3)/(a3_pix_1 - a3_pix)\n",
    "        a4_3 = a4/a4_pix #- (a4_1 - a4)/(a4_pix_1 - a4_pix)\n",
    "        #-------------------------------------------------------------------------------------------\n",
    "        date.append(header['MJD-OBS'])\n",
    "        #-------------------------------------------------------------------------------------------\n",
    "        poissonAGN.append(np.sqrt(np.sum(a_AGN)*header['DIT']*header['GAIN'])) #header['DIT']))\n",
    "        poissonHD.append(np.sqrt(np.sum(a2)*header['DIT']*header['GAIN'])) #header['DIT']))\n",
    "        poisson22.append(np.sqrt(np.sum(a3)*header['DIT']*header['GAIN'])) #header['DIT']))\n",
    "        poisson529.append(np.sqrt(np.sum(a4)*header['DIT']*header['GAIN'])) #header['DIT']))\n",
    "        #-------------------------------------------------------------------------------------------\n",
    "        #if SNR1[i] < 70:\n",
    "        #    flucompsta_AGN.append(float('nan'))\n",
    "        #    flucompsta2.append(float('nan'))\n",
    "        #    flucompsta3.append(float('nan'))\n",
    "        #    flucompsta4.append(float('nan'))\n",
    "        #    flucompsta6.append(float('nan'))\n",
    "        #    comp_array[i,0] = int(date[i])\n",
    "        #    comp_array[i,1] = float('nan')\n",
    "        #    comp_array[i,2] = float('nan')\n",
    "        #    comp_array[i,3] = float('nan')\n",
    "        #else:\n",
    "        flucompsta1.append(comp1(a_AGN_3,a2_3))\n",
    "        flucompsta2.append(comp1(a_AGN_3,a3_3))\n",
    "        flucompsta3.append(comp1(a_AGN_3,a4_3))\n",
    "        SNR1 = SNR(a_AGN,np.sum(a_sky_var),header,aperture1,aperture1)\n",
    "        #flucompsta4.append(comp1(a_AGN_3,a5_3))\n",
    "        #flucompsta5.append(comp1(a_AGN_3,a6_3))\n",
    "        #flucompsta6.append(comp1(a_AGN_3,a7_3))\n",
    "        comp_array[i,0] = int(date[i])\n",
    "        comp_array[i,1] = flucompsta1[i]\n",
    "        comp_array[i,2] = flucompsta2[i]\n",
    "        comp_array[i,3] = flucompsta3[i]\n",
    "        comp_array[i,4] = SNR1\n",
    "        comp_array[i,5] = a_AGN\n",
    "        #comp_array[i,5] = flucompsta5[i]\n",
    "        #comp_array[i,6] = flucompsta6[i]\n",
    "        print a_AGN, a2, a3, a4\n",
    "        SNR_part[i,0] = date[i]\n",
    "        SNR_part[i,1] = SNR(a_AGN,np.sum(a_sky),header,aperture1,aperture1)\n",
    "        SNR_part[i,2] = SNR11(a_AGN,np.sum(a_sky),header,aperture1,aperture1)\\\n",
    "        /SNR44(a_AGN,np.sum(a_sky),header,aperture1,aperture1)\n",
    "        SNR_part[i,3] = SNR22(a_AGN,np.sum(a_sky),header,aperture1,aperture1)\\\n",
    "        /SNR44(a_AGN,np.sum(a_sky),header,aperture1,aperture1)\n",
    "        SNR_part[i,4] = SNR33(a_AGN,np.sum(a_sky),header,aperture1,aperture1)\\\n",
    "        /SNR44(a_AGN,np.sum(a_sky),header,aperture1,aperture1)\n",
    "        SNR_star[i,0] = header['MJD-OBS']\n",
    "        SNR_star[i,1] = SNR(a2,np.sum(a_sky_var),header,aperture1,aperture1)\n",
    "        SNR_star[i,2] = SNR(a3,np.sum(a_sky_var),header,aperture1,aperture1)\n",
    "        SNR_star[i,3] = SNR(a4,np.sum(a_sky_var),header,aperture1,aperture1)\n",
    "        noise_quasar[i,0] = header['MJD-OBS']\n",
    "        noise_quasar[i,1] = float('nan')\n",
    "        noise_quasar[i,2] = float('nan')\n",
    "        noise_quasar[i,3] = float('nan')\n",
    "        #SNR_array[i,0] = int(date[i])\n",
    "        #SNR_array[i,1] = SNR(a_AGN,a_sky,header,aperture1,aperture1)\n",
    "        #SNR_array[i,2] = SNR(a2,a_sky,header,aperture1,aperture1)\n",
    "        #SNR_array[i,3] = SNR(a3,a_sky,header,aperture1,aperture1)\n",
    "        #SNR_array[i,4] = SNR(a4,a_sky,header,aperture1,aperture1)\n",
    "        #SNR_array[i,5] = SNR(a5,a_sky,header,aperture1,aperture1)\n",
    "        #SNR_array[i,6] = SNR(a6,a_sky,header,aperture1,aperture1)\n",
    "        #SNR_array[i,7] = SNR(a7,a_sky,header,aperture1,aperture1)\n",
    "    #print 'YES'\n",
    "    #-----------------------------------------------------------------------------------------------\n",
    "    poissonAGN = np.array(poissonAGN)\n",
    "    poissonHD = np.array(poissonHD)\n",
    "    poisson22 = np.array(poisson22)\n",
    "    poisson529 = np.array(poisson529)\n",
    "    comp_array = comp_array[comp_array[:,0].argsort()]\n",
    "    \n",
    "    comp_array[:,1] = comp_array[:,1]*flux_cal(MAG_STA1_J,MAG_VEGA_J,FLUX_LAMBDA_VEGA_J)\n",
    "    comp_array[:,2] = comp_array[:,2]*flux_cal(MAG_STA2_J,MAG_VEGA_J,FLUX_LAMBDA_VEGA_J)\n",
    "    comp_array[:,3] = comp_array[:,3]*flux_cal(MAG_STA3_J,MAG_VEGA_J,FLUX_LAMBDA_VEGA_J)\n",
    "    \n",
    "    noise_quasar[:,1] = error(signal[:,0],signal[:,1],SNR_part[:,1],SNR_star[:,1],MAG_STA1_J,\\\n",
    "                              MAG_err_STA1_J,FLUX_LAMBDA_VEGA_J,MAG_VEGA_J)\n",
    "    noise_quasar[:,2] = error(signal[:,0],signal[:,2],SNR_part[:,1],SNR_star[:,2],MAG_STA2_J,\\\n",
    "                              MAG_err_STA2_J,FLUX_LAMBDA_VEGA_J,MAG_VEGA_J)\n",
    "    noise_quasar[:,3] = error(signal[:,0],signal[:,3],SNR_part[:,1],SNR_star[:,3],MAG_STA3_J,\\\n",
    "                              MAG_err_STA3_J,FLUX_LAMBDA_VEGA_J,MAG_VEGA_J)\n",
    "\n",
    "    #-----------------------------------------------------------------------------------------------\n",
    "    return comp_array,SNR_array,ABS_FLUX_LAMBDA_1,ABS_FLUX_LAMBDA_2,ABS_FLUX_LAMBDA_3,\\\n",
    "ABS_FLUX_V_1,ABS_FLUX_V_2,ABS_FLUX_V_3,date,SNR_part,SNR_star,noise_quasar"
   ]
  },
  {
   "cell_type": "code",
   "execution_count": null,
   "metadata": {
    "collapsed": true
   },
   "outputs": [],
   "source": []
  },
  {
   "cell_type": "code",
   "execution_count": 14,
   "metadata": {
    "scrolled": true
   },
   "outputs": [
    {
     "name": "stdout",
     "output_type": "stream",
     "text": [
      "Frame nr.  0 /../home/lynge/MasterP/NGC3783/NGC3783J/0026-NGC3783J.fits\n"
     ]
    },
    {
     "name": "stderr",
     "output_type": "stream",
     "text": [
      "WARNING: FITSFixedWarning: RADECSYS= 'FK5 ' / Equatorial coordinate system \n",
      "the RADECSYS keyword is deprecated, use RADESYSa. [astropy.wcs.wcs]\n",
      "WARNING: FITSFixedWarning: 'unitfix' made the change 'Changed units: 'degrees' -> 'deg', 'degrees' -> 'deg''. [astropy.wcs.wcs]\n",
      "No handlers could be found for logger \"sewpy.sewpy\"\n"
     ]
    },
    {
     "name": "stdout",
     "output_type": "stream",
     "text": [
      "-0.196 0.236930727023\n",
      "1531.028 9416.43 1538.324 nan\n",
      "Frame nr.  1 /../home/lynge/MasterP/NGC3783/NGC3783J/0035-NGC3783J.fits\n",
      "-0.184615384615 0.185820838139\n",
      "2634.705 14666.5 2378.667 5917.693\n",
      "Frame nr.  2 /../home/lynge/MasterP/NGC3783/NGC3783J/0001-NGC3783J.fits\n",
      "-0.418518518519 0.161910803537\n",
      "2038.885 11315.04 1902.067 nan\n",
      "Frame nr.  3 /../home/lynge/MasterP/NGC3783/NGC3783J/0019-NGC3783J.fits\n",
      "-0.254166666667 0.184192730347\n",
      "1622.141 10575.82 nan nan\n",
      "Frame nr.  4 /../home/lynge/MasterP/NGC3783/NGC3783J/0017-NGC3783J.fits\n",
      "-0.242307692308 0.279224336794\n",
      "1729.525 11767.61 nan nan\n",
      "Frame nr.  5 /../home/lynge/MasterP/NGC3783/NGC3783J/0020-NGC3783J.fits\n",
      "-0.124 0.127854182166\n",
      "1812.11 11652.98 1933.697 4865.993\n",
      "Frame nr.  6 /../home/lynge/MasterP/NGC3783/NGC3783J/0036-NGC3783J.fits\n",
      "-0.138461538462 0.3399271262\n",
      "1278.976 7243.556 1180.435 3017.758\n",
      "Frame nr.  7 /../home/lynge/MasterP/NGC3783/NGC3783J/0018-NGC3783J.fits\n",
      "-0.130769230769 0.161243998628\n",
      "1754.6 11973.53 1953.125 nan\n",
      "Frame nr.  8 /../home/lynge/MasterP/NGC3783/NGC3783J/0012-NGC3783J.fits\n",
      "-0.242857142857 0.195932784636\n",
      "1580.141 11214.78 1864.935 nan\n",
      "Frame nr.  9 /../home/lynge/MasterP/NGC3783/NGC3783J/0009-NGC3783J.fits\n",
      "-0.407692307692 0.192897805213\n",
      "1930.78 12957.78 nan nan\n",
      "Frame nr.  10 /../home/lynge/MasterP/NGC3783/NGC3783J/0008-NGC3783J.fits\n",
      "-0.389285714286 0.158819684737\n",
      "408.98 2870.686 457.7422 1100.321\n",
      "Frame nr.  11 /../home/lynge/MasterP/NGC3783/NGC3783J/0023-NGC3783J.fits\n",
      "-0.269230769231 0.15065455594\n",
      "1751.762 10680.57 nan nan\n",
      "Frame nr.  12 /../home/lynge/MasterP/NGC3783/NGC3783J/0003-NGC3783J.fits\n",
      "-0.237037037037 0.169461591221\n",
      "1019.207 5588.555 926.8108 2326.937\n",
      "Frame nr.  13 /../home/lynge/MasterP/NGC3783/NGC3783J/0022-NGC3783J.fits\n",
      "-0.45 0.132683583237\n",
      "1732.734 10687.35 1755.5 nan\n",
      "Frame nr.  14 /../home/lynge/MasterP/NGC3783/NGC3783J/0016-NGC3783J.fits\n",
      "-0.138461538462 0.179043209877\n",
      "1619.738 9183.334 1550.708 nan\n",
      "Frame nr.  15 /../home/lynge/MasterP/NGC3783/NGC3783J/0032-NGC3783J.fits\n",
      "-0.00384615384615 0.205607638889\n",
      "1607.782 9539.698 1573.395 3953.668\n",
      "Frame nr.  16 /../home/lynge/MasterP/NGC3783/NGC3783J/0007-NGC3783J.fits\n",
      "-0.352 0.176010802469\n",
      "1803.48 11989.14 nan nan\n",
      "Frame nr.  17 /../home/lynge/MasterP/NGC3783/NGC3783J/0011-NGC3783J.fits\n",
      "-0.276 0.107313957476\n",
      "1762.547 12311.18 nan nan\n",
      "Frame nr.  18 /../home/lynge/MasterP/NGC3783/NGC3783J/0031-NGC3783J.fits\n",
      "-0.275 0.173814878893\n",
      "1364.991 8318.465 1383.814 nan\n",
      "Frame nr.  19 /../home/lynge/MasterP/NGC3783/NGC3783J/0030-NGC3783J.fits\n",
      "-0.436 0.280297587416\n",
      "1566.178 9441.291 nan nan\n",
      "Frame nr.  20 /../home/lynge/MasterP/NGC3783/NGC3783J/0006-NGC3783J.fits\n"
     ]
    },
    {
     "name": "stderr",
     "output_type": "stream",
     "text": [
      "WARNING: FITSFixedWarning: RADECSYS= 'ICRS ' / [string] Coordinates reference sys \n",
      "the RADECSYS keyword is deprecated, use RADESYSa. [astropy.wcs.wcs]\n"
     ]
    },
    {
     "name": "stdout",
     "output_type": "stream",
     "text": [
      "-0.0954545454545 0.352091349481\n",
      "1493.47 8140.383 912.9437 nan\n",
      "Frame nr.  21 /../home/lynge/MasterP/NGC3783/NGC3783J/0013-NGC3783J.fits\n",
      "-0.492592592593 0.251864667436\n",
      "1768.103 13113.78 2183.784 nan\n",
      "Frame nr.  22 /../home/lynge/MasterP/NGC3783/NGC3783J/0002-NGC3783J.fits\n",
      "-0.1625 0.169328143022\n",
      "2384.647 13277.14 2210.824 5617.134\n",
      "Frame nr.  23 /../home/lynge/MasterP/NGC3783/NGC3783J/0028-NGC3783J.fits\n",
      "-0.0740740740741 0.223445790081\n",
      "1693.132 10115.98 1671.909 nan\n",
      "Frame nr.  24 /../home/lynge/MasterP/NGC3783/NGC3783J/0029-NGC3783J.fits\n",
      "-0.42962962963 0.132545174933\n",
      "1649.662 10034.64 1645.018 nan\n",
      "Frame nr.  25 /../home/lynge/MasterP/NGC3783/NGC3783J/0025-NGC3783J.fits\n",
      "-0.560869565217 0.2352734375\n",
      "1818.01 10725.27 1787.422 nan\n",
      "Frame nr.  26 /../home/lynge/MasterP/NGC3783/NGC3783J/0024-NGC3783J.fits\n",
      "-0.312 0.195099826389\n",
      "1862.636 11285.36 nan nan\n",
      "Frame nr.  27 /../home/lynge/MasterP/NGC3783/NGC3783J/0014-NGC3783J.fits\n",
      "-0.292592592593 0.446099965706\n",
      "3474.411 12506.95 2586.758 nan\n",
      "Frame nr.  28 /../home/lynge/MasterP/NGC3783/NGC3783J/0034-NGC3783J.fits\n",
      "-0.442307692308 0.166099965706\n",
      "1478.972 8468.339 1405.549 nan\n",
      "Frame nr.  29 /../home/lynge/MasterP/NGC3783/NGC3783J/0027-NGC3783J.fits\n",
      "-0.384 0.2615234375\n",
      "2277.826 12826.29 2141.419 nan\n",
      "Frame nr.  30 /../home/lynge/MasterP/NGC3783/NGC3783J/0033-NGC3783J.fits\n",
      "-0.271428571429 0.171313443073\n",
      "742.6003 4363.111 nan nan\n",
      "Frame nr.  31 /../home/lynge/MasterP/NGC3783/NGC3783J/0021-NGC3783J.fits\n",
      "-0.404545454545 0.17955675583\n",
      "1722.077 10656.65 nan nan\n",
      "Frame nr.  32 /../home/lynge/MasterP/NGC3783/NGC3783J/0015-NGC3783J.fits\n",
      "-0.295833333333 0.246056241427\n",
      "1870.586 13359.42 nan nan\n",
      "Frame nr.  33 /../home/lynge/MasterP/NGC3783/NGC3783J/0038-NGC3783J.fits\n",
      "-0.134782608696 0.209639561707\n",
      "768.6611 4425.234 704.5186 nan\n",
      "Frame nr.  34 /../home/lynge/MasterP/NGC3783/NGC3783J/0005-NGC3783J.fits\n",
      "-0.38 0.198716839677\n",
      "2248.459 12439.89 2072.638 nan\n",
      "Frame nr.  35 /../home/lynge/MasterP/NGC3783/NGC3783J/0004-NGC3783J.fits\n",
      "-0.35 0.156152441369\n",
      "2434.18 13542.84 2254.37 nan\n",
      "Frame nr.  36 /../home/lynge/MasterP/NGC3783/NGC3783J/0010-NGC3783J.fits\n",
      "-0.318518518519 0.188032734616\n",
      "1859.883 12846.95 2126.575 nan\n",
      "Frame nr.  37 /../home/lynge/MasterP/NGC3783/NGC3783J/0037-NGC3783J.fits\n",
      "-0.355555555556 0.247492283951\n",
      "2477.739 13755.66 nan nan\n"
     ]
    }
   ],
   "source": [
    "comp_array,SNR_array,ABS_FLUX_LAMBDA_1_1,ABS_FLUX_LAMBDA_2_1,ABS_FLUX_LAMBDA_3_1,\\\n",
    "ABS_FLUX_V_1_1,ABS_FLUX_V_2_1,ABS_FLUX_V_3_1,date_1,SNR_part_1,SNR_star_1,noise_quasar_1 = SEXAGNflux(quasJ,0.001)"
   ]
  },
  {
   "cell_type": "code",
   "execution_count": 15,
   "metadata": {},
   "outputs": [
    {
     "data": {
      "image/png": "[encoded data removed]",
      "text/plain": [
       "<matplotlib.figure.Figure at 0x7f193e1e7590>"
      ]
     },
     "metadata": {},
     "output_type": "display_data"
    },
    {
     "data": {
      "image/png": "[encoded data removed]",
      "text/plain": [
       "<matplotlib.figure.Figure at 0x7f193e0d6e50>"
      ]
     },
     "metadata": {},
     "output_type": "display_data"
    },
    {
     "name": "stdout",
     "output_type": "stream",
     "text": [
      "[ 280.94288552  449.6620976   356.12236469  295.69115711  308.54510873\n",
      "  327.27127681  242.2637935   316.2689154   288.26439173  339.71644917\n",
      "   80.68900371  313.0490616   195.21723454  307.08643463  293.96906429\n",
      "  300.71656263  319.90426677  315.19920005  251.02039744  282.95882845\n",
      "  277.06117659  320.07217133  415.1608413   307.29641909  297.9584159\n",
      "  323.68989005  330.92902864  559.40695118  272.70086243  401.38455723\n",
      "  145.21419743  313.19295074  332.74842441  149.60759418  390.79584826\n",
      "  418.27153295  330.26958642  422.77035529]\n"
     ]
    }
   ],
   "source": [
    "plt.figure(figsize=(10,8))\n",
    "plt.scatter(SNR_part_1[:,0],SNR_part_1[:,1])\n",
    "plt.show()\n",
    "\n",
    "plt.figure(figsize=(10,8))\n",
    "plt.scatter(SNR_part_1[:,0],SNR_part_1[:,2],label='Signal')\n",
    "plt.scatter(SNR_part_1[:,0],SNR_part_1[:,3],label='Sky')\n",
    "plt.scatter(SNR_part_1[:,0],SNR_part_1[:,4],label='RON')\n",
    "plt.legend()\n",
    "#plt.ylim([5*10**(-15),1.*10**(-14)])\n",
    "plt.show()\n",
    "\n",
    "print SNR_part_1[:,1]\n"
   ]
  },
  {
   "cell_type": "code",
   "execution_count": null,
   "metadata": {
    "collapsed": true
   },
   "outputs": [],
   "source": []
  },
  {
   "cell_type": "code",
   "execution_count": 20,
   "metadata": {},
   "outputs": [
    {
     "data": {
      "image/png": "[encoded data removed]",
      "text/plain": [
       "<matplotlib.figure.Figure at 0x7f193a828a90>"
      ]
     },
     "metadata": {},
     "output_type": "display_data"
    },
    {
     "data": {
      "image/png": "[encoded data removed]",
      "text/plain": [
       "<matplotlib.figure.Figure at 0x7f193a280fd0>"
      ]
     },
     "metadata": {},
     "output_type": "display_data"
    }
   ],
   "source": [
    "\n",
    "plt.figure(figsize=(10,7))\n",
    "plt.errorbar(comp_array[:,0],comp_array[:,1],yerr=noise_quasar_1[:,1],fmt='o',capsize=3)\n",
    "plt.errorbar(comp_array[:,0],comp_array[:,2],yerr=noise_quasar_1[:,2],fmt='x',capsize=3)\n",
    "plt.errorbar(comp_array[:,0],comp_array[:,3],yerr=noise_quasar_1[:,3],fmt='*',capsize=3)\n",
    "#plt.ylim([3*10**(-15),0.45*10**(-14)])\n",
    "plt.show()\n",
    "\n",
    "plt.figure(figsize=(10,7))\n",
    "plt.scatter(comp_array[:,0],comp_array[:,1])\n",
    "plt.scatter(comp_array[:,0],comp_array[:,2])\n",
    "plt.scatter(comp_array[:,0],comp_array[:,3])\n",
    "plt.ylim([6*10**(-15),1.5*10**(-14)])\n",
    "plt.show()\n",
    "\n",
    "np.savetxt('../NOVEMBER/NGC3783_NOISE_J.txt',noise_quasar_1)\n",
    "np.savetxt('../NOVEMBER/NOV-NGC3783-J',comp_array)\n",
    "np.savetxt('../NOVEMBER/NGC3783_SNR_J.txt',SNR_part_1)"
   ]
  },
  {
   "cell_type": "code",
   "execution_count": 17,
   "metadata": {
    "scrolled": false
   },
   "outputs": [
    {
     "ename": "NameError",
     "evalue": "name 'AGNflux' is not defined",
     "output_type": "error",
     "traceback": [
      "\u001b[0;31m---------------------------------------------------------------------------\u001b[0m",
      "\u001b[0;31mNameError\u001b[0m                                 Traceback (most recent call last)",
      "\u001b[0;32m<ipython-input-17-9ff1cc87b0dd>\u001b[0m in \u001b[0;36m<module>\u001b[0;34m()\u001b[0m\n\u001b[0;32m----> 1\u001b[0;31m \u001b[0mflucompsta1\u001b[0m\u001b[0;34m,\u001b[0m\u001b[0mflucompsta2\u001b[0m\u001b[0;34m,\u001b[0m\u001b[0mflucompsta3\u001b[0m\u001b[0;34m,\u001b[0m\u001b[0mflucompsta4\u001b[0m\u001b[0;34m,\u001b[0m\u001b[0mflucompsta5\u001b[0m\u001b[0;34m,\u001b[0m\u001b[0mflucompsta6\u001b[0m\u001b[0;34m,\u001b[0m\u001b[0mflucompsta7\u001b[0m\u001b[0;34m,\u001b[0m\u001b[0mSNR1\u001b[0m\u001b[0;34m,\u001b[0m\u001b[0mSNR2\u001b[0m\u001b[0;34m,\u001b[0m\u001b[0mSNR3\u001b[0m\u001b[0;34m,\u001b[0m\u001b[0mSNR4\u001b[0m\u001b[0;34m,\u001b[0m\u001b[0mSNR5\u001b[0m\u001b[0;34m,\u001b[0m\u001b[0mSNR_comp\u001b[0m\u001b[0;34m,\u001b[0m\u001b[0mABS_FLUX_LAMBDA_1\u001b[0m\u001b[0;34m,\u001b[0m\u001b[0mABS_FLUX_LAMBDA_2\u001b[0m\u001b[0;34m,\u001b[0m\u001b[0mABS_FLUX_LAMBDA_3\u001b[0m\u001b[0;34m,\u001b[0m\u001b[0mABS_FLUX_V_1\u001b[0m\u001b[0;34m,\u001b[0m\u001b[0mABS_FLUX_V_2\u001b[0m\u001b[0;34m,\u001b[0m\u001b[0mABS_FLUX_V_3\u001b[0m\u001b[0;34m,\u001b[0m\u001b[0mdate\u001b[0m\u001b[0;34m,\u001b[0m\u001b[0mpoissonAGN\u001b[0m\u001b[0;34m,\u001b[0m\u001b[0mpoissonHD\u001b[0m\u001b[0;34m,\u001b[0m\u001b[0mpoisson22\u001b[0m\u001b[0;34m,\u001b[0m\u001b[0mpoisson529\u001b[0m\u001b[0;34m,\u001b[0m\u001b[0mSNR_test\u001b[0m\u001b[0;34m,\u001b[0m\u001b[0mfile1\u001b[0m\u001b[0;34m,\u001b[0m\u001b[0mSNR_part\u001b[0m \u001b[0;34m=\u001b[0m \u001b[0mAGNflux\u001b[0m\u001b[0;34m(\u001b[0m\u001b[0mquasJ\u001b[0m\u001b[0;34m,\u001b[0m\u001b[0;36m0.001\u001b[0m\u001b[0;34m)\u001b[0m\u001b[0;34m\u001b[0m\u001b[0m\n\u001b[0m",
      "\u001b[0;31mNameError\u001b[0m: name 'AGNflux' is not defined"
     ]
    }
   ],
   "source": [
    "flucompsta1,flucompsta2,flucompsta3,flucompsta4,flucompsta5,flucompsta6,flucompsta7,\\\n",
    "SNR1,SNR2,SNR3,SNR4,SNR5,SNR_comp,ABS_FLUX_LAMBDA_1,ABS_FLUX_LAMBDA_2,ABS_FLUX_LAMBDA_3,ABS_FLUX_V_1,\\\n",
    "ABS_FLUX_V_2,ABS_FLUX_V_3,date,poissonAGN,poissonHD,poisson22,poisson529,SNR_test,file1,SNR_part \\\n",
    "= AGNflux(quasJ,0.001)"
   ]
  },
  {
   "cell_type": "code",
   "execution_count": null,
   "metadata": {
    "collapsed": true
   },
   "outputs": [],
   "source": [
    "plt.figure(figsize=(10,8))\n",
    "plt.scatter(comp_array[:,0],comp_array[:,4])\n",
    "plt.show()\n",
    "\n",
    "print comp_array[:,4]"
   ]
  },
  {
   "cell_type": "code",
   "execution_count": null,
   "metadata": {
    "collapsed": true,
    "scrolled": false
   },
   "outputs": [],
   "source": [
    "plt.figure(figsize=(20,14))\n",
    "plt.scatter(date,np.array(ABS_FLUX_LAMBDA_1),marker='x',\\\n",
    "            color='b',label='Flux found from HD101274')\n",
    "plt.scatter(date,np.array(ABS_FLUX_LAMBDA_2),marker='x',\\\n",
    "            color='r',label='Flux found from Tycho-2 7740-22-1')\n",
    "plt.scatter(date_1,np.array(ABS_FLUX_LAMBDA_3),marker='x',\\\n",
    "            color='g',label='Flux found from Tycho-2 7740-529-1')\n",
    "plt.scatter(date_1,ABS_FLUX_LAMBDA_1_1,marker='o',\\\n",
    "            color='b',label='Flux found from SEX HD101274')\n",
    "plt.scatter(date_1,np.array(ABS_FLUX_LAMBDA_2_1),marker='o',\\\n",
    "            color='r',label='Flux found from SEX Tycho-2 7740-22-1')\n",
    "plt.scatter(date_1,np.array(ABS_FLUX_LAMBDA_3_1),marker='o',\\\n",
    "            color='g',label='Flux found from Tycho-2 7740-529-1')\n",
    "plt.xlabel('Days')\n",
    "plt.ylabel('Flux (F_LAMBDA) (K-band)')\n",
    "plt.title('Aperture 0.001 deg')\n",
    "#plt.yscale('log')\n",
    "plt.ylim([0.85*10**(-14),1.4*10**(-14)])\n",
    "plt.legend()\n",
    "plt.show()\n",
    "\n",
    "plt.figure(figsize=(20,14))\n",
    "plt.scatter(date,np.array(SNR1),marker='x',\\\n",
    "            color='b',label='Flux found from HD101274')\n",
    "plt.xlabel('Days')\n",
    "plt.ylabel('Flux (F_LAMBDA) (K-band)')\n",
    "plt.title('Aperture 0.001 deg')\n",
    "#plt.yscale('log')\n",
    "#plt.ylim([0.15,0.20])\n",
    "#plt.xlim([57850,57880])\n",
    "plt.legend()\n",
    "plt.show()\n",
    "\n"
   ]
  },
  {
   "cell_type": "code",
   "execution_count": null,
   "metadata": {
    "collapsed": true,
    "scrolled": false
   },
   "outputs": [],
   "source": [
    "plt.figure(figsize=(10,7))\n",
    "plt.scatter(SNR_part[:,0],SNR_part[:,1])\n",
    "plt.show()\n",
    "\n",
    "plt.figure(figsize=(10,7))\n",
    "plt.scatter(SNR_part[:,0],SNR_part[:,4])\n",
    "plt.show()\n",
    "\n",
    "plt.figure(figsize=(10,7))\n",
    "plt.scatter(SNR_part_1[:,0],SNR_part_1[:,1])\n",
    "plt.show()\n",
    "\n",
    "plt.figure(figsize=(10,7))\n",
    "plt.scatter(SNR_part[:,0],SNR_part[:,2])\n",
    "plt.show()\n",
    "\n",
    "plt.figure(figsize=(10,7))\n",
    "plt.scatter(SNR_part_1[:,0],SNR_part_1[:,2])\n",
    "plt.show()\n",
    "\n",
    "plt.figure(figsize=(10,7))\n",
    "plt.scatter(SNR_part[:,0],SNR_part[:,3])\n",
    "plt.show()\n",
    "\n",
    "plt.figure(figsize=(10,7))\n",
    "plt.scatter(SNR_part_1[:,0],SNR_part_1[:,3])\n",
    "plt.show()\n"
   ]
  },
  {
   "cell_type": "code",
   "execution_count": null,
   "metadata": {
    "collapsed": true
   },
   "outputs": [],
   "source": [
    "print np.argmax(SNR_test[:,1])\n",
    "\n",
    "for i in range(len(file1)):\n",
    "    print i, '{0:f}'.format(SNR_test[i,0]), '{0:f}'.format(SNR_test[i,1]), '{0:f}'.format(SNR_test[i,2])\n",
    "    print file1[i]"
   ]
  },
  {
   "cell_type": "code",
   "execution_count": null,
   "metadata": {
    "collapsed": true
   },
   "outputs": [],
   "source": []
  },
  {
   "cell_type": "code",
   "execution_count": null,
   "metadata": {
    "collapsed": true
   },
   "outputs": [],
   "source": []
  }
 ],
 "metadata": {
  "kernelspec": {
   "display_name": "Python 2",
   "language": "python",
   "name": "python2"
  },
  "language_info": {
   "codemirror_mode": {
    "name": "ipython",
    "version": 2
   },
   "file_extension": ".py",
   "mimetype": "text/x-python",
   "name": "python",
   "nbconvert_exporter": "python",
   "pygments_lexer": "ipython2",
   "version": "2.7.13"
  }
 },
 "nbformat": 4,
 "nbformat_minor": 2
}
