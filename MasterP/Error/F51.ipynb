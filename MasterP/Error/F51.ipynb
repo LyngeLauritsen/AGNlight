{
 "cells": [
  {
   "cell_type": "code",
   "execution_count": 1,
   "metadata": {
    "collapsed": true
   },
   "outputs": [],
   "source": [
    "import numpy as np\n",
    "import matplotlib.pyplot as plt\n",
    "import math\n",
    "import scipy as sc\n"
   ]
  },
  {
   "cell_type": "code",
   "execution_count": 2,
   "metadata": {
    "collapsed": true
   },
   "outputs": [],
   "source": [
    "SNR_g = np.loadtxt('/home/lynge/MasterP/NOVEMBER/F51_SNR_g.txt')\n",
    "SNR_r = np.loadtxt('/home/lynge/MasterP/NOVEMBER/F51_SNR_r.txt')\n",
    "SNR_i = np.loadtxt('/home/lynge/MasterP/NOVEMBER/F51_SNR_i.txt')\n",
    "SNR_z = np.loadtxt('/home/lynge/MasterP/NOVEMBER/F51_SNR_z.txt')\n",
    "SNR_H = np.loadtxt('/home/lynge/MasterP/NOVEMBER/F51_SNR_H.txt')\n",
    "SNR_J = np.loadtxt('/home/lynge/MasterP/NOVEMBER/F51_SNR_J.txt')\n",
    "SNR_K = np.loadtxt('/home/lynge/MasterP/NOVEMBER/F51_SNR_K.txt')\n",
    "\n",
    "NOISE_g = np.loadtxt('/home/lynge/MasterP/NOVEMBER/F51_NOISE_g.txt')\n",
    "NOISE_r = np.loadtxt('/home/lynge/MasterP/NOVEMBER/F51_NOISE_r.txt')\n",
    "NOISE_i = np.loadtxt('/home/lynge/MasterP/NOVEMBER/F51_NOISE_i.txt')\n",
    "NOISE_z = np.loadtxt('/home/lynge/MasterP/NOVEMBER/F51_NOISE_z.txt')\n",
    "NOISE_J = np.loadtxt('/home/lynge/MasterP/NOVEMBER/F51_NOISE_J.txt')\n",
    "NOISE_H = np.loadtxt('/home/lynge/MasterP/NOVEMBER/F51_NOISE_H.txt')\n",
    "NOISE_K = np.loadtxt('/home/lynge/MasterP/NOVEMBER/F51_NOISE_K.txt')\n",
    "\n",
    "SIGNAL_g = np.loadtxt('/home/lynge/MasterP/NOVEMBER/NOV-F51-g')\n",
    "SIGNAL_r = np.loadtxt('/home/lynge/MasterP/NOVEMBER/NOV-F51-r')\n",
    "SIGNAL_i = np.loadtxt('/home/lynge/MasterP/NOVEMBER/NOV-F51-i')\n",
    "SIGNAL_z = np.loadtxt('/home/lynge/MasterP/NOVEMBER/NOV-F51-z')\n",
    "SIGNAL_J = np.loadtxt('/home/lynge/MasterP/NOVEMBER/NOV-F51-J')\n",
    "SIGNAL_H = np.loadtxt('/home/lynge/MasterP/NOVEMBER/NOV-F51-H')\n",
    "SIGNAL_K = np.loadtxt('/home/lynge/MasterP/NOVEMBER/NOV-F51-K')"
   ]
  },
  {
   "cell_type": "code",
   "execution_count": 3,
   "metadata": {},
   "outputs": [
    {
     "ename": "IndexError",
     "evalue": "index 4 is out of bounds for axis 1 with size 4",
     "output_type": "error",
     "traceback": [
      "\u001b[0;31m---------------------------------------------------------------------------\u001b[0m",
      "\u001b[0;31mIndexError\u001b[0m                                Traceback (most recent call last)",
      "\u001b[0;32m<ipython-input-3-d4706a9c7a34>\u001b[0m in \u001b[0;36m<module>\u001b[0;34m()\u001b[0m\n\u001b[1;32m      1\u001b[0m \u001b[0mplt\u001b[0m\u001b[0;34m.\u001b[0m\u001b[0mfigure\u001b[0m\u001b[0;34m(\u001b[0m\u001b[0mfigsize\u001b[0m\u001b[0;34m=\u001b[0m\u001b[0;34m(\u001b[0m\u001b[0;36m20\u001b[0m\u001b[0;34m,\u001b[0m\u001b[0;36m15\u001b[0m\u001b[0;34m)\u001b[0m\u001b[0;34m)\u001b[0m\u001b[0;34m\u001b[0m\u001b[0m\n\u001b[0;32m----> 2\u001b[0;31m \u001b[0mplt\u001b[0m\u001b[0;34m.\u001b[0m\u001b[0merrorbar\u001b[0m\u001b[0;34m(\u001b[0m\u001b[0mSIGNAL_g\u001b[0m\u001b[0;34m[\u001b[0m\u001b[0;34m:\u001b[0m\u001b[0;34m,\u001b[0m\u001b[0;36m0\u001b[0m\u001b[0;34m]\u001b[0m\u001b[0;34m,\u001b[0m\u001b[0mSIGNAL_g\u001b[0m\u001b[0;34m[\u001b[0m\u001b[0;34m:\u001b[0m\u001b[0;34m,\u001b[0m\u001b[0;36m1\u001b[0m\u001b[0;34m]\u001b[0m\u001b[0;34m,\u001b[0m\u001b[0myerr\u001b[0m\u001b[0;34m=\u001b[0m\u001b[0mNOISE_g\u001b[0m\u001b[0;34m[\u001b[0m\u001b[0;34m:\u001b[0m\u001b[0;34m,\u001b[0m\u001b[0;36m4\u001b[0m\u001b[0;34m]\u001b[0m\u001b[0;34m,\u001b[0m\u001b[0mfmt\u001b[0m\u001b[0;34m=\u001b[0m\u001b[0;34m'o'\u001b[0m\u001b[0;34m,\u001b[0m\u001b[0mcapsize\u001b[0m\u001b[0;34m=\u001b[0m\u001b[0;36m3\u001b[0m\u001b[0;34m,\u001b[0m\u001b[0mcolor\u001b[0m\u001b[0;34m=\u001b[0m\u001b[0;34m'b'\u001b[0m\u001b[0;34m,\u001b[0m\u001b[0mlabel\u001b[0m\u001b[0;34m=\u001b[0m\u001b[0;34m'g'\u001b[0m\u001b[0;34m)\u001b[0m\u001b[0;34m\u001b[0m\u001b[0m\n\u001b[0m\u001b[1;32m      3\u001b[0m \u001b[0mplt\u001b[0m\u001b[0;34m.\u001b[0m\u001b[0merrorbar\u001b[0m\u001b[0;34m(\u001b[0m\u001b[0mSIGNAL_g\u001b[0m\u001b[0;34m[\u001b[0m\u001b[0;34m:\u001b[0m\u001b[0;34m,\u001b[0m\u001b[0;36m0\u001b[0m\u001b[0;34m]\u001b[0m\u001b[0;34m,\u001b[0m\u001b[0mSIGNAL_g\u001b[0m\u001b[0;34m[\u001b[0m\u001b[0;34m:\u001b[0m\u001b[0;34m,\u001b[0m\u001b[0;36m2\u001b[0m\u001b[0;34m]\u001b[0m\u001b[0;34m,\u001b[0m\u001b[0myerr\u001b[0m\u001b[0;34m=\u001b[0m\u001b[0mNOISE_g\u001b[0m\u001b[0;34m[\u001b[0m\u001b[0;34m:\u001b[0m\u001b[0;34m,\u001b[0m\u001b[0;36m5\u001b[0m\u001b[0;34m]\u001b[0m\u001b[0;34m,\u001b[0m\u001b[0mfmt\u001b[0m\u001b[0;34m=\u001b[0m\u001b[0;34m'x'\u001b[0m\u001b[0;34m,\u001b[0m\u001b[0mcapsize\u001b[0m\u001b[0;34m=\u001b[0m\u001b[0;36m3\u001b[0m\u001b[0;34m,\u001b[0m\u001b[0mcolor\u001b[0m\u001b[0;34m=\u001b[0m\u001b[0;34m'b'\u001b[0m\u001b[0;34m)\u001b[0m\u001b[0;34m\u001b[0m\u001b[0m\n\u001b[1;32m      4\u001b[0m \u001b[0mplt\u001b[0m\u001b[0;34m.\u001b[0m\u001b[0merrorbar\u001b[0m\u001b[0;34m(\u001b[0m\u001b[0mSIGNAL_g\u001b[0m\u001b[0;34m[\u001b[0m\u001b[0;34m:\u001b[0m\u001b[0;34m,\u001b[0m\u001b[0;36m0\u001b[0m\u001b[0;34m]\u001b[0m\u001b[0;34m,\u001b[0m\u001b[0mSIGNAL_g\u001b[0m\u001b[0;34m[\u001b[0m\u001b[0;34m:\u001b[0m\u001b[0;34m,\u001b[0m\u001b[0;36m3\u001b[0m\u001b[0;34m]\u001b[0m\u001b[0;34m,\u001b[0m\u001b[0myerr\u001b[0m\u001b[0;34m=\u001b[0m\u001b[0mNOISE_g\u001b[0m\u001b[0;34m[\u001b[0m\u001b[0;34m:\u001b[0m\u001b[0;34m,\u001b[0m\u001b[0;36m6\u001b[0m\u001b[0;34m]\u001b[0m\u001b[0;34m,\u001b[0m\u001b[0mfmt\u001b[0m\u001b[0;34m=\u001b[0m\u001b[0;34m'*'\u001b[0m\u001b[0;34m,\u001b[0m\u001b[0mcapsize\u001b[0m\u001b[0;34m=\u001b[0m\u001b[0;36m3\u001b[0m\u001b[0;34m,\u001b[0m\u001b[0mcolor\u001b[0m\u001b[0;34m=\u001b[0m\u001b[0;34m'b'\u001b[0m\u001b[0;34m)\u001b[0m\u001b[0;34m\u001b[0m\u001b[0m\n\u001b[1;32m      5\u001b[0m \u001b[0;34m\u001b[0m\u001b[0m\n",
      "\u001b[0;31mIndexError\u001b[0m: index 4 is out of bounds for axis 1 with size 4"
     ]
    }
   ],
   "source": [
    "plt.figure(figsize=(20,15))\n",
    "plt.errorbar(SIGNAL_g[:,0],SIGNAL_g[:,1],yerr=NOISE_g[:,4],fmt='o',capsize=3,color='b',label='g')\n",
    "plt.errorbar(SIGNAL_g[:,0],SIGNAL_g[:,2],yerr=NOISE_g[:,5],fmt='x',capsize=3,color='b')\n",
    "plt.errorbar(SIGNAL_g[:,0],SIGNAL_g[:,3],yerr=NOISE_g[:,6],fmt='*',capsize=3,color='b')\n",
    "\n",
    "plt.errorbar(SIGNAL_r[:,0],SIGNAL_r[:,1],yerr=NOISE_r[:,4],fmt='o',capsize=3,color='r',label='r')\n",
    "plt.errorbar(SIGNAL_r[:,0],SIGNAL_r[:,2],yerr=NOISE_r[:,5],fmt='x',capsize=3,color='r')\n",
    "plt.errorbar(SIGNAL_r[:,0],SIGNAL_r[:,3],yerr=NOISE_r[:,6],fmt='*',capsize=3,color='r')\n",
    "\n",
    "plt.errorbar(SIGNAL_i[:,0],SIGNAL_i[:,1],yerr=NOISE_i[:,4],fmt='o',capsize=3,color='g',label='i')\n",
    "plt.errorbar(SIGNAL_i[:,0],SIGNAL_i[:,2],yerr=NOISE_i[:,5],fmt='x',capsize=3,color='g')\n",
    "plt.errorbar(SIGNAL_i[:,0],SIGNAL_i[:,3],yerr=NOISE_i[:,6],fmt='*',capsize=3,color='g')\n",
    "\n",
    "plt.errorbar(SIGNAL_z[:,0],SIGNAL_z[:,1],yerr=NOISE_z[:,4],fmt='o',capsize=3,color='purple',label='z')\n",
    "plt.errorbar(SIGNAL_z[:,0],SIGNAL_z[:,2],yerr=NOISE_z[:,5],fmt='x',capsize=3,color='purple')\n",
    "plt.errorbar(SIGNAL_z[:,0],SIGNAL_z[:,3],yerr=NOISE_z[:,6],fmt='*',capsize=3,color='purple')\n",
    "\n",
    "plt.errorbar(SIGNAL_J[:,0],SIGNAL_J[:,1],yerr=NOISE_J[:,4],fmt='o',capsize=3,color='yellow',label='J')\n",
    "plt.errorbar(SIGNAL_J[:,0],SIGNAL_J[:,2],yerr=NOISE_J[:,5],fmt='x',capsize=3,color='yellow')\n",
    "plt.errorbar(SIGNAL_J[:,0],SIGNAL_J[:,3],yerr=NOISE_J[:,6],fmt='*',capsize=3,color='yellow')\n",
    "\n",
    "plt.errorbar(SIGNAL_H[:,0],SIGNAL_H[:,1],yerr=NOISE_H[:,4],fmt='o',capsize=3,color='orange',label='H')\n",
    "plt.errorbar(SIGNAL_H[:,0],SIGNAL_H[:,2],yerr=NOISE_H[:,5],fmt='x',capsize=3,color='orange')\n",
    "plt.errorbar(SIGNAL_H[:,0],SIGNAL_H[:,3],yerr=NOISE_H[:,6],fmt='*',capsize=3,color='orange')\n",
    "\n",
    "plt.errorbar(SIGNAL_K[:,0],SIGNAL_K[:,1],yerr=NOISE_K[:,4],fmt='o',capsize=3,color='black',label='K')\n",
    "plt.errorbar(SIGNAL_K[:,0],SIGNAL_K[:,2],yerr=NOISE_K[:,5],fmt='x',capsize=3,color='black')\n",
    "plt.errorbar(SIGNAL_K[:,0],SIGNAL_K[:,3],yerr=NOISE_K[:,6],fmt='*',capsize=3,color='black')\n",
    "plt.legend()\n",
    "plt.ylim([1*10**(-15),1.1*10**(-14)])\n",
    "plt.show()"
   ]
  },
  {
   "cell_type": "code",
   "execution_count": null,
   "metadata": {},
   "outputs": [],
   "source": [
    "plt.figure(figsize=(20,15))\n",
    "plt.errorbar(SIGNAL_J[:,0],SIGNAL_J[:,1],yerr=NOISE_J[:,1],fmt='o',capsize=3,color='yellow',label='J')\n",
    "plt.errorbar(SIGNAL_J[:,0],SIGNAL_J[:,2],yerr=NOISE_J[:,2],fmt='x',capsize=3,color='yellow')\n",
    "plt.errorbar(SIGNAL_J[:,0],SIGNAL_J[:,3],yerr=NOISE_J[:,3],fmt='*',capsize=3,color='yellow')\n",
    "\n",
    "plt.errorbar(SIGNAL_H[:,0],SIGNAL_H[:,1],yerr=NOISE_H[:,1],fmt='o',capsize=3,color='orange',label='H')\n",
    "plt.errorbar(SIGNAL_H[:,0],SIGNAL_H[:,2],yerr=NOISE_H[:,2],fmt='x',capsize=3,color='orange')\n",
    "plt.errorbar(SIGNAL_H[:,0],SIGNAL_H[:,3],yerr=NOISE_H[:,3],fmt='*',capsize=3,color='orange')\n",
    "\n",
    "plt.errorbar(SIGNAL_K[:,0],SIGNAL_K[:,1],yerr=NOISE_K[:,1],fmt='o',capsize=3,color='black',label='K')\n",
    "plt.errorbar(SIGNAL_K[:,0],SIGNAL_K[:,2],yerr=NOISE_K[:,2],fmt='x',capsize=3,color='black')\n",
    "plt.errorbar(SIGNAL_K[:,0],SIGNAL_K[:,3],yerr=NOISE_K[:,3],fmt='*',capsize=3,color='black')\n",
    "plt.legend()\n",
    "plt.ylim([6*10**(-15),1.5*10**(-14)])\n",
    "plt.show()"
   ]
  },
  {
   "cell_type": "code",
   "execution_count": null,
   "metadata": {
    "scrolled": false
   },
   "outputs": [],
   "source": [
    "plt.figure(figsize=(20,15))\n",
    "plt.errorbar(SIGNAL_g[:,0],SIGNAL_g[:,1],yerr=NOISE_g[:,1],fmt='o',capsize=3,color='b',label='g')\n",
    "plt.errorbar(SIGNAL_g[:,0],SIGNAL_g[:,2],yerr=NOISE_g[:,2],fmt='x',capsize=3,color='b')\n",
    "plt.errorbar(SIGNAL_g[:,0],SIGNAL_g[:,3],yerr=NOISE_g[:,3],fmt='*',capsize=3,color='b')\n",
    "\n",
    "plt.legend()\n",
    "\n",
    "plt.show()\n",
    "\n",
    "plt.figure(figsize=(20,15))\n",
    "\n",
    "plt.errorbar(SIGNAL_r[:,0],SIGNAL_r[:,1],yerr=NOISE_r[:,1],fmt='o',capsize=3,color='r',label='r')\n",
    "plt.errorbar(SIGNAL_r[:,0],SIGNAL_r[:,2],yerr=NOISE_r[:,2],fmt='x',capsize=3,color='r')\n",
    "plt.errorbar(SIGNAL_r[:,0],SIGNAL_r[:,3],yerr=NOISE_r[:,3],fmt='*',capsize=3,color='r')\n",
    "\n",
    "plt.legend()\n",
    "\n",
    "plt.show()\n",
    "\n",
    "plt.figure(figsize=(20,15))\n",
    "\n",
    "plt.errorbar(SIGNAL_i[:,0],SIGNAL_i[:,1],yerr=NOISE_i[:,1],fmt='o',capsize=3,color='g',label='i')\n",
    "plt.errorbar(SIGNAL_i[:,0],SIGNAL_i[:,2],yerr=NOISE_i[:,2],fmt='x',capsize=3,color='g')\n",
    "plt.errorbar(SIGNAL_i[:,0],SIGNAL_i[:,3],yerr=NOISE_i[:,3],fmt='*',capsize=3,color='g')\n",
    "\n",
    "plt.legend()\n",
    "\n",
    "plt.show()\n",
    "\n",
    "plt.figure(figsize=(20,15))\n",
    "\n",
    "plt.errorbar(SIGNAL_z[:,0],SIGNAL_z[:,1],yerr=NOISE_z[:,1],fmt='o',capsize=3,color='purple',label='i')\n",
    "plt.errorbar(SIGNAL_z[:,0],SIGNAL_z[:,2],yerr=NOISE_z[:,2],fmt='x',capsize=3,color='purple')\n",
    "plt.errorbar(SIGNAL_z[:,0],SIGNAL_z[:,3],yerr=NOISE_z[:,3],fmt='*',capsize=3,color='purple')\n",
    "\n",
    "plt.legend()\n",
    "\n",
    "plt.show()"
   ]
  },
  {
   "cell_type": "code",
   "execution_count": 5,
   "metadata": {},
   "outputs": [
    {
     "data": {
      "image/png": "[encoded data removed]",
      "text/plain": [
       "<matplotlib.figure.Figure at 0x7fb4f9b06c10>"
      ]
     },
     "metadata": {},
     "output_type": "display_data"
    }
   ],
   "source": [
    "plt.figure(figsize=(20,15))\n",
    "\n",
    "plt.errorbar(SIGNAL_J[:,0],SIGNAL_J[:,1],yerr=NOISE_J[:,4],fmt='o',capsize=3,color='r',label='J')\n",
    "plt.errorbar(SIGNAL_J[:,0],SIGNAL_J[:,2],yerr=NOISE_J[:,5],fmt='x',capsize=3,color='r')\n",
    "plt.errorbar(SIGNAL_J[:,0],SIGNAL_J[:,3],yerr=NOISE_J[:,6],fmt='*',capsize=3,color='r')\n",
    "\n",
    "plt.errorbar(SIGNAL_H[:,0],SIGNAL_H[:,1],yerr=NOISE_H[:,4],fmt='o',capsize=3,color='b',label='H')\n",
    "plt.errorbar(SIGNAL_H[:,0],SIGNAL_H[:,2],yerr=NOISE_H[:,5],fmt='x',capsize=3,color='b')\n",
    "plt.errorbar(SIGNAL_H[:,0],SIGNAL_H[:,3],yerr=NOISE_H[:,6],fmt='*',capsize=3,color='b')\n",
    "\n",
    "plt.errorbar(SIGNAL_K[:,0],SIGNAL_K[:,1],yerr=NOISE_K[:,4],fmt='o',capsize=3,color='g',label='K')\n",
    "plt.errorbar(SIGNAL_K[:,0],SIGNAL_K[:,2],yerr=NOISE_K[:,5],fmt='x',capsize=3,color='g')\n",
    "plt.errorbar(SIGNAL_K[:,0],SIGNAL_K[:,3],yerr=NOISE_K[:,6],fmt='*',capsize=3,color='g')\n",
    "plt.legend()\n",
    "#plt.ylim([1*10**(-15),1.1*10**(-14)])\n",
    "plt.show()"
   ]
  },
  {
   "cell_type": "code",
   "execution_count": null,
   "metadata": {
    "collapsed": true
   },
   "outputs": [],
   "source": []
  }
 ],
 "metadata": {
  "kernelspec": {
   "display_name": "Python 2",
   "language": "python",
   "name": "python2"
  },
  "language_info": {
   "codemirror_mode": {
    "name": "ipython",
    "version": 2
   },
   "file_extension": ".py",
   "mimetype": "text/x-python",
   "name": "python",
   "nbconvert_exporter": "python",
   "pygments_lexer": "ipython2",
   "version": "2.7.13"
  }
 },
 "nbformat": 4,
 "nbformat_minor": 2
}
